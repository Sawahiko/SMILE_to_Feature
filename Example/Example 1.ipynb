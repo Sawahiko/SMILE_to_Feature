{
 "cells": [
  {
   "cell_type": "markdown",
   "id": "ee708f06-236f-4304-ac70-f7d0526a0b97",
   "metadata": {
    "tags": []
   },
   "source": [
    "# Import"
   ]
  },
  {
   "cell_type": "code",
   "execution_count": 1,
   "id": "33318a5a-22df-472d-a42f-3b16e6b9decb",
   "metadata": {
    "id": "5QKaKQNzGN7T",
    "tags": []
   },
   "outputs": [],
   "source": [
    "# Python\n",
    "import numpy as np\n",
    "import pandas as pd\n",
    "import time\n",
    "\n",
    "# Machine Learning\n",
    "from sklearn.decomposition import PCA\n",
    "from sklearn.model_selection import train_test_split\n",
    "\n",
    "# RDKit\n",
    "from rdkit.Chem import Descriptors\n",
    "from rdkit.ML.Descriptors import MoleculeDescriptors\n",
    "from rdkit.Chem import rdMolDescriptors\n",
    "from rdkit.Chem import AllChem\n",
    "from rdkit import Chem\n",
    "from rdkit.Chem import Descriptors\n",
    "from rdkit.ML.Descriptors import MoleculeDescriptors\n",
    "from rdkit.Chem.rdMolDescriptors import GetHashedMorganFingerprint\n",
    "from rdkit.Chem.Draw import rdMolDraw2D"
   ]
  },
  {
   "cell_type": "code",
   "execution_count": 2,
   "id": "69a516c1-2d27-4e36-a202-ce7cabb5432b",
   "metadata": {
    "tags": []
   },
   "outputs": [],
   "source": [
    "from rdkit.Chem.Draw import IPythonConsole\n",
    "from ipywidgets import interact,fixed,IntSlider\n",
    "def renderFpBit(mol,bitIdx,bitInfo,fn):\n",
    "    bid = bitIdx\n",
    "    return(display(fn(mol,bid,bitInfo)))\n",
    "def get_index_of_array_that_contain_1_in_any_position(list1):\n",
    "    result = []\n",
    "    for i, e in enumerate(list1):\n",
    "        if e > 0:\n",
    "            result.append(i)\n",
    "    return result"
   ]
  },
  {
   "cell_type": "markdown",
   "id": "e9cfb96c-f373-4dd5-bf24-9d9d4d3e2314",
   "metadata": {
    "tags": []
   },
   "source": [
    "# Example 1 : Explain Concept of Fingerprint"
   ]
  },
  {
   "cell_type": "code",
   "execution_count": null,
   "id": "477b5a9c-3777-42de-b81d-62d309dcb139",
   "metadata": {},
   "outputs": [],
   "source": []
  },
  {
   "cell_type": "code",
   "execution_count": 47,
   "id": "536479a5-5773-42c2-b6e3-fb4c57e89663",
   "metadata": {
    "tags": []
   },
   "outputs": [],
   "source": [
    "mol1 = Chem.MolFromSmiles('CCC#C')\n",
    "mol2 = Chem.MolFromSmiles('CC#CC')\n",
    "bit_info1 = {}\n",
    "bit_info2 = {}\n",
    "fp1 = GetHashedMorganFingerprint(mol1, 3,  nBits=16, bitInfo=bit_info1, useFeatures=True)\n",
    "fp2 = GetHashedMorganFingerprint(mol2, 3,  nBits=16, bitInfo=bit_info2, useFeatures=True)"
   ]
  },
  {
   "cell_type": "code",
   "execution_count": 48,
   "id": "17468965-1add-4444-8813-4c7809b92fd0",
   "metadata": {
    "tags": []
   },
   "outputs": [],
   "source": [
    "count_bit_info_mol1=[]\n",
    "count_bit_info_mol2=[]\n",
    "for i in bit_info1:\n",
    "    count_bit_info_mol1.append([i, len(bit_info1[i])])\n",
    "for i in bit_info2:\n",
    "    count_bit_info_mol2.append([i, len(bit_info2[i])])\n",
    "\n",
    "df1 = pd.DataFrame(count_bit_info_mol1)\n",
    "df1 = df1.set_index(0)\n",
    "df1.rename_axis('Bit Index', inplace=True)\n",
    "df1 = df1.rename(columns={1: 'Number in Bit'})\n",
    "\n",
    "df2 = pd.DataFrame(count_bit_info_mol2)\n",
    "df2 = df2.set_index(0)\n",
    "df2.rename_axis('Bit Index', inplace=True)\n",
    "df2 = df2.rename(columns={1: 'Number in Bit'})"
   ]
  },
  {
   "cell_type": "code",
   "execution_count": 49,
   "id": "0136a35d-0010-4bf5-8415-eca5d9141d9d",
   "metadata": {
    "tags": []
   },
   "outputs": [
    {
     "data": {
      "text/html": [
       "<div>\n",
       "<style scoped>\n",
       "    .dataframe tbody tr th:only-of-type {\n",
       "        vertical-align: middle;\n",
       "    }\n",
       "\n",
       "    .dataframe tbody tr th {\n",
       "        vertical-align: top;\n",
       "    }\n",
       "\n",
       "    .dataframe thead th {\n",
       "        text-align: right;\n",
       "    }\n",
       "</style>\n",
       "<table border=\"1\" class=\"dataframe\">\n",
       "  <thead>\n",
       "    <tr style=\"text-align: right;\">\n",
       "      <th></th>\n",
       "      <th>Number in Bit</th>\n",
       "    </tr>\n",
       "    <tr>\n",
       "      <th>Bit Index</th>\n",
       "      <th></th>\n",
       "    </tr>\n",
       "  </thead>\n",
       "  <tbody>\n",
       "    <tr>\n",
       "      <th>0</th>\n",
       "      <td>4</td>\n",
       "    </tr>\n",
       "    <tr>\n",
       "      <th>1</th>\n",
       "      <td>2</td>\n",
       "    </tr>\n",
       "    <tr>\n",
       "      <th>2</th>\n",
       "      <td>1</td>\n",
       "    </tr>\n",
       "    <tr>\n",
       "      <th>8</th>\n",
       "      <td>1</td>\n",
       "    </tr>\n",
       "    <tr>\n",
       "      <th>13</th>\n",
       "      <td>1</td>\n",
       "    </tr>\n",
       "  </tbody>\n",
       "</table>\n",
       "</div>"
      ],
      "text/plain": [
       "           Number in Bit\n",
       "Bit Index               \n",
       "0                      4\n",
       "1                      2\n",
       "2                      1\n",
       "8                      1\n",
       "13                     1"
      ]
     },
     "execution_count": 49,
     "metadata": {},
     "output_type": "execute_result"
    }
   ],
   "source": [
    "df1"
   ]
  },
  {
   "cell_type": "code",
   "execution_count": 50,
   "id": "cc9586be-ac8c-44fc-b3ca-7bab8ff20920",
   "metadata": {
    "tags": []
   },
   "outputs": [
    {
     "data": {
      "text/html": [
       "<div>\n",
       "<style scoped>\n",
       "    .dataframe tbody tr th:only-of-type {\n",
       "        vertical-align: middle;\n",
       "    }\n",
       "\n",
       "    .dataframe tbody tr th {\n",
       "        vertical-align: top;\n",
       "    }\n",
       "\n",
       "    .dataframe thead th {\n",
       "        text-align: right;\n",
       "    }\n",
       "</style>\n",
       "<table border=\"1\" class=\"dataframe\">\n",
       "  <thead>\n",
       "    <tr style=\"text-align: right;\">\n",
       "      <th></th>\n",
       "      <th>Number in Bit</th>\n",
       "    </tr>\n",
       "    <tr>\n",
       "      <th>Bit Index</th>\n",
       "      <th></th>\n",
       "    </tr>\n",
       "  </thead>\n",
       "  <tbody>\n",
       "    <tr>\n",
       "      <th>0</th>\n",
       "      <td>4</td>\n",
       "    </tr>\n",
       "    <tr>\n",
       "      <th>1</th>\n",
       "      <td>3</td>\n",
       "    </tr>\n",
       "    <tr>\n",
       "      <th>13</th>\n",
       "      <td>2</td>\n",
       "    </tr>\n",
       "  </tbody>\n",
       "</table>\n",
       "</div>"
      ],
      "text/plain": [
       "           Number in Bit\n",
       "Bit Index               \n",
       "0                      4\n",
       "1                      3\n",
       "13                     2"
      ]
     },
     "execution_count": 50,
     "metadata": {},
     "output_type": "execute_result"
    }
   ],
   "source": [
    "df2"
   ]
  },
  {
   "cell_type": "code",
   "execution_count": null,
   "id": "2a615f54-42d2-450e-9ad9-8aacc41e6384",
   "metadata": {},
   "outputs": [],
   "source": []
  },
  {
   "cell_type": "markdown",
   "id": "57e1af7e-28a0-437a-ad9f-005c66ce915f",
   "metadata": {
    "tags": []
   },
   "source": [
    "# Example 2 : Morgan Fingerprint Step"
   ]
  },
  {
   "cell_type": "code",
   "execution_count": 3,
   "id": "2165a676-240f-484a-bb28-83bc0a50e69e",
   "metadata": {
    "tags": []
   },
   "outputs": [],
   "source": [
    "mol1 = Chem.MolFromSmiles('CCCC(=O)N')\n",
    "d = rdMolDraw2D.MolDraw2DCairo(250, 200)\n",
    "d.drawOptions().addAtomIndices = True\n",
    "d.DrawMolecule(mol1)\n",
    "d.FinishDrawing()\n",
    "d.WriteDrawingText('atom_annotation_1.png')"
   ]
  },
  {
   "cell_type": "code",
   "execution_count": 4,
   "id": "39be89ae-0570-4e93-bd34-3097cc712ad3",
   "metadata": {
    "tags": []
   },
   "outputs": [
    {
     "data": {
      "text/plain": [
       "<rdkit.Chem.Draw.rdMolDraw2D.MolDraw2DCairo at 0x23c3e3d0f40>"
      ]
     },
     "execution_count": 4,
     "metadata": {},
     "output_type": "execute_result"
    }
   ],
   "source": [
    "d"
   ]
  },
  {
   "cell_type": "code",
   "execution_count": 5,
   "id": "75f1cc04-baab-482e-86f2-940a30dbca80",
   "metadata": {
    "tags": []
   },
   "outputs": [],
   "source": [
    "#smi = 'c1nc(*)ccc1* |$;;;R1;;;;R2$|'\n",
    "#mol.GetAtomWithIdx(3).SetProp(\"_displayLabel\",\"R<sub>1</sub>\")\n",
    "#mol.GetAtomWithIdx(7).SetProp(\"_displayLabel\",\"R<sub>2</sub>\")\n",
    "\n",
    "smi = '*C* |$A;;A;$|'\n",
    "mol = Chem.MolFromSmiles(smi)\n",
    "d = rdMolDraw2D.MolDraw2DCairo(250, 250)\n",
    "rdMolDraw2D.PrepareAndDrawMolecule(d,mol)\n",
    "d.WriteDrawingText(\"EX2-pic1.png\")"
   ]
  },
  {
   "cell_type": "code",
   "execution_count": 8,
   "id": "b0e05b61-8acb-4e91-ae66-e3ae3d84eb6b",
   "metadata": {
    "tags": []
   },
   "outputs": [],
   "source": [
    "smi2 = '*CCC(=*)* |$A;;;;A;A;$|'\n",
    "mol2 = Chem.MolFromSmiles(smi2)\n",
    "d2 = rdMolDraw2D.MolDraw2DCairo(250, 250)\n",
    "rdMolDraw2D.PrepareAndDrawMolecule(d2,mol2)\n",
    "d2.WriteDrawingText(\"EX2-pic2.png\")"
   ]
  },
  {
   "cell_type": "code",
   "execution_count": 9,
   "id": "ddf28694-5fb2-4bb8-b426-4e9f183e3f00",
   "metadata": {
    "tags": []
   },
   "outputs": [],
   "source": [
    "smi2 = 'CCCC(=O)N |$;;;;;;;;$|'\n",
    "mol2 = Chem.MolFromSmiles(smi2)\n",
    "d2 = rdMolDraw2D.MolDraw2DCairo(250, 250)\n",
    "rdMolDraw2D.PrepareAndDrawMolecule(d2,mol2)\n",
    "d2.WriteDrawingText(\"EX2-pic3.png\")"
   ]
  },
  {
   "cell_type": "code",
   "execution_count": null,
   "id": "b653d8d7-0816-4a11-9862-61769301e1f9",
   "metadata": {},
   "outputs": [],
   "source": []
  },
  {
   "cell_type": "code",
   "execution_count": null,
   "id": "bef87ddf-c628-446b-a93b-34d015a7f1b7",
   "metadata": {},
   "outputs": [],
   "source": []
  }
 ],
 "metadata": {
  "kernelspec": {
   "display_name": "Python 3 (ipykernel)",
   "language": "python",
   "name": "python3"
  },
  "language_info": {
   "codemirror_mode": {
    "name": "ipython",
    "version": 3
   },
   "file_extension": ".py",
   "mimetype": "text/x-python",
   "name": "python",
   "nbconvert_exporter": "python",
   "pygments_lexer": "ipython3",
   "version": "3.11.4"
  },
  "toc-autonumbering": false
 },
 "nbformat": 4,
 "nbformat_minor": 5
}
