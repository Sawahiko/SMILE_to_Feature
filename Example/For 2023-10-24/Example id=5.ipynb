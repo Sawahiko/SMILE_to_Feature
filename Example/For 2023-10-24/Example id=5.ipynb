{
 "cells": [
  {
   "cell_type": "markdown",
   "id": "ee708f06-236f-4304-ac70-f7d0526a0b97",
   "metadata": {
    "tags": []
   },
   "source": [
    "# Import"
   ]
  },
  {
   "cell_type": "code",
   "execution_count": 1,
   "id": "33318a5a-22df-472d-a42f-3b16e6b9decb",
   "metadata": {
    "id": "5QKaKQNzGN7T",
    "tags": []
   },
   "outputs": [],
   "source": [
    "# Python\n",
    "import numpy as np\n",
    "import pandas as pd\n",
    "import time\n",
    "from IPython.display import Image\n",
    "\n",
    "# Machine Learning\n",
    "from sklearn.decomposition import PCA\n",
    "from sklearn.model_selection import train_test_split\n",
    "\n",
    "# RDKit\n",
    "from rdkit.Chem import Descriptors\n",
    "from rdkit.ML.Descriptors import MoleculeDescriptors\n",
    "from rdkit.Chem import rdMolDescriptors\n",
    "from rdkit.Chem import AllChem\n",
    "from rdkit import Chem\n",
    "from rdkit.Chem import Descriptors\n",
    "from rdkit.ML.Descriptors import MoleculeDescriptors\n",
    "from rdkit.Chem.rdMolDescriptors import GetHashedMorganFingerprint\n",
    "from rdkit.Chem.Draw import rdMolDraw2D\n",
    "\n",
    "from sklearn.metrics import mean_absolute_error, mean_absolute_percentage_error, mean_squared_error, r2_score"
   ]
  },
  {
   "cell_type": "code",
   "execution_count": 41,
   "id": "69a516c1-2d27-4e36-a202-ce7cabb5432b",
   "metadata": {
    "tags": []
   },
   "outputs": [],
   "source": [
    "def convert_number_to_group(number, group_interval, start_num):\n",
    "    \"\"\"Converts a number to a group based on the given group interval.\n",
    "\n",
    "    Args:\n",
    "    number: The number to convert.\n",
    "    group_interval: The group interval.\n",
    "\n",
    "    Returns:\n",
    "    The group number.\n",
    "    \"\"\"\n",
    "    number = number-start_num\n",
    "    group_number = (number - group_interval // 2) // group_interval + 1\n",
    "    return int(group_number)"
   ]
  },
  {
   "cell_type": "markdown",
   "id": "57e1af7e-28a0-437a-ad9f-005c66ce915f",
   "metadata": {
    "tags": []
   },
   "source": [
    "# Example 2 : Morgan Fingerprint Step"
   ]
  },
  {
   "cell_type": "code",
   "execution_count": 3,
   "id": "2165a676-240f-484a-bb28-83bc0a50e69e",
   "metadata": {
    "tags": []
   },
   "outputs": [],
   "source": [
    "mol1 = Chem.MolFromSmiles('c1cc(/C=C/F)cc(c1)[N+](=O)[O-]')\n",
    "d = rdMolDraw2D.MolDraw2DCairo(250, 200)\n",
    "d.drawOptions().addAtomIndices = True\n",
    "d.DrawMolecule(mol1)\n",
    "d.FinishDrawing()\n",
    "d.WriteDrawingText('atom_annotation_1.png')"
   ]
  },
  {
   "cell_type": "code",
   "execution_count": 4,
   "id": "39be89ae-0570-4e93-bd34-3097cc712ad3",
   "metadata": {
    "tags": []
   },
   "outputs": [
    {
     "data": {
      "image/png": "[encoded data removed]",
      "text/plain": [
       "<IPython.core.display.Image object>"
      ]
     },
     "execution_count": 4,
     "metadata": {},
     "output_type": "execute_result"
    }
   ],
   "source": [
    "Image(filename='atom_annotation_1.png') "
   ]
  },
  {
   "cell_type": "code",
   "execution_count": null,
   "id": "7f343414-96b2-497d-bdcf-16f9024acbe7",
   "metadata": {},
   "outputs": [],
   "source": []
  },
  {
   "cell_type": "code",
   "execution_count": null,
   "id": "27dd7019-6848-4e46-9f76-548dc2e602a2",
   "metadata": {},
   "outputs": [],
   "source": []
  },
  {
   "cell_type": "code",
   "execution_count": null,
   "id": "e7914ab2-08ae-423d-983a-1abed149fff4",
   "metadata": {},
   "outputs": [],
   "source": []
  },
  {
   "cell_type": "code",
   "execution_count": null,
   "id": "69728f94-f153-4508-971c-e8d963a39cef",
   "metadata": {},
   "outputs": [],
   "source": []
  },
  {
   "cell_type": "code",
   "execution_count": 95,
   "id": "734ccce4-72bb-4723-a445-5bfa45dddab6",
   "metadata": {
    "tags": []
   },
   "outputs": [],
   "source": [
    "# Python\n",
    "import numpy as np\n",
    "import pandas as pd\n",
    "import matplotlib.pyplot as plt\n",
    "import matplotlib.patches as mpatches\n",
    "import seaborn as sn\n",
    "import time\n",
    "\n",
    "# Machine Learning\n",
    "from sklearn.model_selection import RandomizedSearchCV, KFold, cross_validate\n",
    "from sklearn.ensemble import RandomForestRegressor\n",
    "from sklearn.linear_model import Ridge\n",
    "from xgboost import XGBRegressor\n",
    "from catboost import CatBoostRegressor\n",
    "from sklearn.neighbors import KNeighborsRegressor\n",
    "from sklearn.tree import DecisionTreeRegressor\n",
    "from sklearn.tree import DecisionTreeClassifier\n",
    "from sklearn.svm import SVR\n",
    "#import tensorflow as tf\n",
    "#from tensorflow.keras.models import Sequential\n",
    "#from tensorflow.keras.layers import Conv1D, MaxPooling1D, Flatten, Dense\n",
    "\n",
    "def DT(x_train, y_train):\n",
    "    # Define the parameter grid for RandomizedSearchCV\n",
    "    param_dist = {\n",
    "        'max_depth': [None, 5, 10, 20],\n",
    "        'min_samples_split': [2, 5, 10],\n",
    "        'min_samples_leaf': [1, 2, 4]\n",
    "    }\n",
    "    \n",
    "    # Create a RandomizedSearchCV object\n",
    "    dt = DecisionTreeRegressor(random_state=42)\n",
    "    \n",
    "    # Fit the RandomizedSearchCV object\n",
    "    dt.fit(x_train, y_train)\n",
    "    \n",
    "    ## Get the best model\n",
    "    #best_model = random_search.best_estimator_\n",
    "    #print(random_search.best_params_)\n",
    "    \n",
    "    return dt"
   ]
  },
  {
   "cell_type": "code",
   "execution_count": 71,
   "id": "3790847f-bb2f-474e-8152-def8561251c9",
   "metadata": {},
   "outputs": [],
   "source": [
    "df = pd.read_excel(\"../../DataTb.xlsx\", sheet_name=\"AllDataSet\")"
   ]
  },
  {
   "cell_type": "code",
   "execution_count": 76,
   "id": "46ef8eb9-1938-4604-a975-69ab35b945c7",
   "metadata": {},
   "outputs": [
    {
     "data": {
      "text/html": [
       "<div>\n",
       "<style scoped>\n",
       "    .dataframe tbody tr th:only-of-type {\n",
       "        vertical-align: middle;\n",
       "    }\n",
       "\n",
       "    .dataframe tbody tr th {\n",
       "        vertical-align: top;\n",
       "    }\n",
       "\n",
       "    .dataframe thead th {\n",
       "        text-align: right;\n",
       "    }\n",
       "</style>\n",
       "<table border=\"1\" class=\"dataframe\">\n",
       "  <thead>\n",
       "    <tr style=\"text-align: right;\">\n",
       "      <th></th>\n",
       "      <th>CAS</th>\n",
       "      <th>Name</th>\n",
       "      <th>Type</th>\n",
       "      <th>SMILES</th>\n",
       "      <th>Formular</th>\n",
       "      <th>Tb</th>\n",
       "      <th>C</th>\n",
       "      <th>Double</th>\n",
       "      <th>Triple</th>\n",
       "      <th>Bracket</th>\n",
       "      <th>Cyclic</th>\n",
       "      <th>Unnamed: 11</th>\n",
       "      <th>Unnamed: 12</th>\n",
       "      <th>Unnamed: 13</th>\n",
       "      <th>Unnamed: 14</th>\n",
       "    </tr>\n",
       "  </thead>\n",
       "  <tbody>\n",
       "    <tr>\n",
       "      <th>0</th>\n",
       "      <td>74-82-8</td>\n",
       "      <td>methane</td>\n",
       "      <td>alkane</td>\n",
       "      <td>C</td>\n",
       "      <td>CH4</td>\n",
       "      <td>111.65</td>\n",
       "      <td>1</td>\n",
       "      <td>0</td>\n",
       "      <td>0</td>\n",
       "      <td>0</td>\n",
       "      <td>0</td>\n",
       "      <td>10000</td>\n",
       "      <td>NaN</td>\n",
       "      <td>NaN</td>\n",
       "      <td>NaN</td>\n",
       "    </tr>\n",
       "    <tr>\n",
       "      <th>1</th>\n",
       "      <td>74-84-0</td>\n",
       "      <td>ethane</td>\n",
       "      <td>alkane</td>\n",
       "      <td>CC</td>\n",
       "      <td>C2H6</td>\n",
       "      <td>184.55</td>\n",
       "      <td>2</td>\n",
       "      <td>0</td>\n",
       "      <td>0</td>\n",
       "      <td>0</td>\n",
       "      <td>0</td>\n",
       "      <td>20000</td>\n",
       "      <td>NaN</td>\n",
       "      <td>NaN</td>\n",
       "      <td>NaN</td>\n",
       "    </tr>\n",
       "    <tr>\n",
       "      <th>2</th>\n",
       "      <td>74-98-6</td>\n",
       "      <td>propane</td>\n",
       "      <td>alkane</td>\n",
       "      <td>CCC</td>\n",
       "      <td>C3H8</td>\n",
       "      <td>231.05</td>\n",
       "      <td>3</td>\n",
       "      <td>0</td>\n",
       "      <td>0</td>\n",
       "      <td>0</td>\n",
       "      <td>0</td>\n",
       "      <td>30000</td>\n",
       "      <td>NaN</td>\n",
       "      <td>NaN</td>\n",
       "      <td>NaN</td>\n",
       "    </tr>\n",
       "    <tr>\n",
       "      <th>3</th>\n",
       "      <td>75-19-4</td>\n",
       "      <td>Cyclopropane</td>\n",
       "      <td>alkane</td>\n",
       "      <td>C1CC1</td>\n",
       "      <td>C3H6</td>\n",
       "      <td>240.35</td>\n",
       "      <td>3</td>\n",
       "      <td>0</td>\n",
       "      <td>0</td>\n",
       "      <td>0</td>\n",
       "      <td>1</td>\n",
       "      <td>30001</td>\n",
       "      <td>NaN</td>\n",
       "      <td>NaN</td>\n",
       "      <td>y = 129.09x0.5371</td>\n",
       "    </tr>\n",
       "    <tr>\n",
       "      <th>4</th>\n",
       "      <td>75-28-5</td>\n",
       "      <td>2-Methylpropane</td>\n",
       "      <td>alkane</td>\n",
       "      <td>CC(C)C</td>\n",
       "      <td>C4H10</td>\n",
       "      <td>261.45</td>\n",
       "      <td>4</td>\n",
       "      <td>0</td>\n",
       "      <td>0</td>\n",
       "      <td>1</td>\n",
       "      <td>0</td>\n",
       "      <td>40010</td>\n",
       "      <td>NaN</td>\n",
       "      <td>NaN</td>\n",
       "      <td>R² = 0.956</td>\n",
       "    </tr>\n",
       "  </tbody>\n",
       "</table>\n",
       "</div>"
      ],
      "text/plain": [
       "       CAS             Name    Type  SMILES Formular      Tb  C  Double  \\\n",
       "0  74-82-8          methane  alkane       C      CH4  111.65  1       0   \n",
       "1  74-84-0           ethane  alkane      CC     C2H6  184.55  2       0   \n",
       "2  74-98-6          propane  alkane     CCC     C3H8  231.05  3       0   \n",
       "3  75-19-4     Cyclopropane  alkane   C1CC1     C3H6  240.35  3       0   \n",
       "4  75-28-5  2-Methylpropane  alkane  CC(C)C    C4H10  261.45  4       0   \n",
       "\n",
       "   Triple  Bracket  Cyclic  Unnamed: 11  Unnamed: 12  Unnamed: 13  \\\n",
       "0       0        0       0        10000          NaN          NaN   \n",
       "1       0        0       0        20000          NaN          NaN   \n",
       "2       0        0       0        30000          NaN          NaN   \n",
       "3       0        0       1        30001          NaN          NaN   \n",
       "4       0        1       0        40010          NaN          NaN   \n",
       "\n",
       "         Unnamed: 14  \n",
       "0                NaN  \n",
       "1                NaN  \n",
       "2                NaN  \n",
       "3  y = 129.09x0.5371  \n",
       "4         R² = 0.956  "
      ]
     },
     "execution_count": 76,
     "metadata": {},
     "output_type": "execute_result"
    }
   ],
   "source": [
    "df.head()"
   ]
  },
  {
   "cell_type": "code",
   "execution_count": 77,
   "id": "56bcf4f5-840b-47c1-a34c-bd6a6c3409ba",
   "metadata": {},
   "outputs": [],
   "source": [
    "Tb_SD = np.std(df[\"Tb\"]); Tb_mean = np.mean(df[\"Tb\"]);\n",
    "thereshold = 1.96 # 95%\n",
    "Tb_low_b = Tb_mean-thereshold*Tb_SD; Tb_high_b = Tb_mean+thereshold*Tb_SD\n",
    "(Tb_low_b,Tb_high_b)\n"
   ]
  },
  {
   "cell_type": "code",
   "execution_count": 96,
   "id": "2571a2d1-f0c8-4436-b07b-747d7c61f145",
   "metadata": {
    "tags": []
   },
   "outputs": [
    {
     "data": {
      "text/html": [
       "<style>#sk-container-id-4 {color: black;}#sk-container-id-4 pre{padding: 0;}#sk-container-id-4 div.sk-toggleable {background-color: white;}#sk-container-id-4 label.sk-toggleable__label {cursor: pointer;display: block;width: 100%;margin-bottom: 0;padding: 0.3em;box-sizing: border-box;text-align: center;}#sk-container-id-4 label.sk-toggleable__label-arrow:before {content: \"▸\";float: left;margin-right: 0.25em;color: #696969;}#sk-container-id-4 label.sk-toggleable__label-arrow:hover:before {color: black;}#sk-container-id-4 div.sk-estimator:hover label.sk-toggleable__label-arrow:before {color: black;}#sk-container-id-4 div.sk-toggleable__content {max-height: 0;max-width: 0;overflow: hidden;text-align: left;background-color: #f0f8ff;}#sk-container-id-4 div.sk-toggleable__content pre {margin: 0.2em;color: black;border-radius: 0.25em;background-color: #f0f8ff;}#sk-container-id-4 input.sk-toggleable__control:checked~div.sk-toggleable__content {max-height: 200px;max-width: 100%;overflow: auto;}#sk-container-id-4 input.sk-toggleable__control:checked~label.sk-toggleable__label-arrow:before {content: \"▾\";}#sk-container-id-4 div.sk-estimator input.sk-toggleable__control:checked~label.sk-toggleable__label {background-color: #d4ebff;}#sk-container-id-4 div.sk-label input.sk-toggleable__control:checked~label.sk-toggleable__label {background-color: #d4ebff;}#sk-container-id-4 input.sk-hidden--visually {border: 0;clip: rect(1px 1px 1px 1px);clip: rect(1px, 1px, 1px, 1px);height: 1px;margin: -1px;overflow: hidden;padding: 0;position: absolute;width: 1px;}#sk-container-id-4 div.sk-estimator {font-family: monospace;background-color: #f0f8ff;border: 1px dotted black;border-radius: 0.25em;box-sizing: border-box;margin-bottom: 0.5em;}#sk-container-id-4 div.sk-estimator:hover {background-color: #d4ebff;}#sk-container-id-4 div.sk-parallel-item::after {content: \"\";width: 100%;border-bottom: 1px solid gray;flex-grow: 1;}#sk-container-id-4 div.sk-label:hover label.sk-toggleable__label {background-color: #d4ebff;}#sk-container-id-4 div.sk-serial::before {content: \"\";position: absolute;border-left: 1px solid gray;box-sizing: border-box;top: 0;bottom: 0;left: 50%;z-index: 0;}#sk-container-id-4 div.sk-serial {display: flex;flex-direction: column;align-items: center;background-color: white;padding-right: 0.2em;padding-left: 0.2em;position: relative;}#sk-container-id-4 div.sk-item {position: relative;z-index: 1;}#sk-container-id-4 div.sk-parallel {display: flex;align-items: stretch;justify-content: center;background-color: white;position: relative;}#sk-container-id-4 div.sk-item::before, #sk-container-id-4 div.sk-parallel-item::before {content: \"\";position: absolute;border-left: 1px solid gray;box-sizing: border-box;top: 0;bottom: 0;left: 50%;z-index: -1;}#sk-container-id-4 div.sk-parallel-item {display: flex;flex-direction: column;z-index: 1;position: relative;background-color: white;}#sk-container-id-4 div.sk-parallel-item:first-child::after {align-self: flex-end;width: 50%;}#sk-container-id-4 div.sk-parallel-item:last-child::after {align-self: flex-start;width: 50%;}#sk-container-id-4 div.sk-parallel-item:only-child::after {width: 0;}#sk-container-id-4 div.sk-dashed-wrapped {border: 1px dashed gray;margin: 0 0.4em 0.5em 0.4em;box-sizing: border-box;padding-bottom: 0.4em;background-color: white;}#sk-container-id-4 div.sk-label label {font-family: monospace;font-weight: bold;display: inline-block;line-height: 1.2em;}#sk-container-id-4 div.sk-label-container {text-align: center;}#sk-container-id-4 div.sk-container {/* jupyter's `normalize.less` sets `[hidden] { display: none; }` but bootstrap.min.css set `[hidden] { display: none !important; }` so we also need the `!important` here to be able to override the default hidden behavior on the sphinx rendered scikit-learn.org. See: https://github.com/scikit-learn/scikit-learn/issues/21755 */display: inline-block !important;position: relative;}#sk-container-id-4 div.sk-text-repr-fallback {display: none;}</style><div id=\"sk-container-id-4\" class=\"sk-top-container\"><div class=\"sk-text-repr-fallback\"><pre>DecisionTreeClassifier(random_state=42)</pre><b>In a Jupyter environment, please rerun this cell to show the HTML representation or trust the notebook. <br />On GitHub, the HTML representation is unable to render, please try loading this page with nbviewer.org.</b></div><div class=\"sk-container\" hidden><div class=\"sk-item\"><div class=\"sk-estimator sk-toggleable\"><input class=\"sk-toggleable__control sk-hidden--visually\" id=\"sk-estimator-id-4\" type=\"checkbox\" checked><label for=\"sk-estimator-id-4\" class=\"sk-toggleable__label sk-toggleable__label-arrow\">DecisionTreeClassifier</label><div class=\"sk-toggleable__content\"><pre>DecisionTreeClassifier(random_state=42)</pre></div></div></div></div></div>"
      ],
      "text/plain": [
       "DecisionTreeClassifier(random_state=42)"
      ]
     },
     "execution_count": 96,
     "metadata": {},
     "output_type": "execute_result"
    }
   ],
   "source": [
    "Tb_min = min(df[\"Tb\"]); Tb_max = max(df[\"Tb\"])\n",
    "(Tb_max-Tb_min)%50\n",
    "df2 = df.copy()\n",
    "df2[\"group\"] =df[\"Tb\"].apply(convert_number_to_group, args=[50     # interval\n",
    "                                                           , 100  # Start_num\n",
    "                                                          ])\n",
    "\n",
    "data_x = df[[\"C\", \"Double\", \"Triple\", \"Bracket\", \"Cyclic\"]]\n",
    "data_y = df2[\"group\"]\n",
    "#data_y\n",
    "#data_x\n",
    "\n",
    "x_train_fp, x_test_fp, y_train_fp, y_test_fp = train_test_split(data_x, data_y,\n",
    "                                                                test_size=0.20,\n",
    "                                                                random_state=42)\n",
    "dt = DecisionTreeClassifier(random_state=42)\n",
    "# Fit the RandomizedSearchCV object\n",
    "dt.fit(x_train_fp, y_train_fp)"
   ]
  },
  {
   "cell_type": "code",
   "execution_count": 100,
   "id": "09cdb06e-7f26-4fee-8017-e42996293d8d",
   "metadata": {
    "tags": []
   },
   "outputs": [],
   "source": [
    "#test = data_x.iloc[1]\n",
    "test = data_x.head(50)\n",
    "y_pred_test = dt.predict(x_test_fp)"
   ]
  },
  {
   "cell_type": "code",
   "execution_count": 102,
   "id": "4fa694e2-238e-4d76-b39f-c9a8ba9fc0f1",
   "metadata": {
    "tags": []
   },
   "outputs": [
    {
     "name": "stdout",
     "output_type": "stream",
     "text": [
      "[[ 0  1  0  0  0  0  0  0  0]\n",
      " [ 0  0  0  0  0  0  0  0  0]\n",
      " [ 0  0  1  1  0  0  0  0  0]\n",
      " [ 0  0  0  6  2  0  0  0  0]\n",
      " [ 0  0  0  0 21  0  0  0  0]\n",
      " [ 0  0  0  0  2 37  2  0  0]\n",
      " [ 0  0  0  0  0  2 31  1  0]\n",
      " [ 0  0  0  0  0  0  1  1  1]\n",
      " [ 0  0  0  0  0  0  0  0  2]]\n"
     ]
    }
   ],
   "source": [
    "from sklearn.metrics import confusion_matrix, f1_score\n",
    "print(confusion_matrix(y_test_fp, y_pred_test))\n"
   ]
  },
  {
   "cell_type": "code",
   "execution_count": 105,
   "id": "05c7ee9f-8810-43aa-a801-54292df7821f",
   "metadata": {
    "tags": []
   },
   "outputs": [
    {
     "name": "stdout",
     "output_type": "stream",
     "text": [
      "0.6018305389788765\n"
     ]
    }
   ],
   "source": [
    "print(f1_score(y_test_fp, y_pred_test, average=\"macro\"))"
   ]
  },
  {
   "cell_type": "code",
   "execution_count": 120,
   "id": "5e8ad007-2e97-4d20-9284-53227ae88d03",
   "metadata": {
    "tags": []
   },
   "outputs": [
    {
     "data": {
      "text/plain": [
       "<Axes: >"
      ]
     },
     "execution_count": 120,
     "metadata": {},
     "output_type": "execute_result"
    },
    {
     "data": {
      "image/png": "[encoded data removed]",
      "text/plain": [
       "<Figure size 640x480 with 2 Axes>"
      ]
     },
     "metadata": {},
     "output_type": "display_data"
    }
   ],
   "source": [
    "import seaborn as sns\n",
    "cm = confusion_matrix(y_test_fp, y_pred_test)\n",
    "sns.heatmap(cm)#linecolor=\"white\", linewidth=2)\n",
    "           #,vmin=5.0,vmax=0)\n",
    "            #, annot = True)"
   ]
  },
  {
   "cell_type": "code",
   "execution_count": null,
   "id": "e07c51eb-9983-4d72-b195-4b0c1fa75d0d",
   "metadata": {},
   "outputs": [],
   "source": []
  }
 ],
 "metadata": {
  "kernelspec": {
   "display_name": "Python 3 (ipykernel)",
   "language": "python",
   "name": "python3"
  },
  "language_info": {
   "codemirror_mode": {
    "name": "ipython",
    "version": 3
   },
   "file_extension": ".py",
   "mimetype": "text/x-python",
   "name": "python",
   "nbconvert_exporter": "python",
   "pygments_lexer": "ipython3",
   "version": "3.11.4"
  },
  "toc-autonumbering": false
 },
 "nbformat": 4,
 "nbformat_minor": 5
}
