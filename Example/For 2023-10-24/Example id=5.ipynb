{
 "cells": [
  {
   "cell_type": "markdown",
   "id": "ee708f06-236f-4304-ac70-f7d0526a0b97",
   "metadata": {
    "tags": []
   },
   "source": [
    "# Import"
   ]
  },
  {
   "cell_type": "code",
   "execution_count": 24,
   "id": "33318a5a-22df-472d-a42f-3b16e6b9decb",
   "metadata": {
    "execution": {
     "iopub.execute_input": "2023-10-20T12:49:29.074666Z",
     "iopub.status.busy": "2023-10-20T12:49:29.074666Z",
     "iopub.status.idle": "2023-10-20T12:49:29.082421Z",
     "shell.execute_reply": "2023-10-20T12:49:29.082421Z",
     "shell.execute_reply.started": "2023-10-20T12:49:29.074666Z"
    },
    "id": "5QKaKQNzGN7T",
    "tags": []
   },
   "outputs": [],
   "source": [
    "# Python\n",
    "import numpy as np\n",
    "import pandas as pd\n",
    "import time\n",
    "from IPython.display import Image\n",
    "\n",
    "# Machine Learning\n",
    "from sklearn.decomposition import PCA\n",
    "from sklearn.model_selection import train_test_split\n",
    "\n",
    "# RDKit\n",
    "from rdkit.Chem import Descriptors\n",
    "from rdkit.ML.Descriptors import MoleculeDescriptors\n",
    "from rdkit.Chem import rdMolDescriptors\n",
    "from rdkit.Chem import AllChem\n",
    "from rdkit import Chem\n",
    "from rdkit.Chem import Descriptors\n",
    "from rdkit.ML.Descriptors import MoleculeDescriptors\n",
    "from rdkit.Chem.rdMolDescriptors import GetHashedMorganFingerprint\n",
    "from rdkit.Chem.Draw import rdMolDraw2D\n",
    "\n",
    "from sklearn.metrics import mean_absolute_error, mean_absolute_percentage_error, mean_squared_error, r2_score"
   ]
  },
  {
   "cell_type": "code",
   "execution_count": 3,
   "id": "69a516c1-2d27-4e36-a202-ce7cabb5432b",
   "metadata": {
    "execution": {
     "iopub.execute_input": "2023-10-20T12:40:27.424717Z",
     "iopub.status.busy": "2023-10-20T12:40:27.423718Z",
     "iopub.status.idle": "2023-10-20T12:40:27.448536Z",
     "shell.execute_reply": "2023-10-20T12:40:27.446554Z",
     "shell.execute_reply.started": "2023-10-20T12:40:27.424717Z"
    },
    "tags": []
   },
   "outputs": [],
   "source": [
    "def convert_number_to_group(number, group_interval, start_num):\n",
    "    \"\"\"Converts a number to a group based on the given group interval.\n",
    "\n",
    "    Args:\n",
    "    number: The number to convert.\n",
    "    group_interval: The group interval.\n",
    "\n",
    "    Returns:\n",
    "    The group number.\n",
    "    \"\"\"\n",
    "    number = number-start_num\n",
    "    group_number = (number - group_interval // 2) // group_interval + 1\n",
    "    return int(group_number)"
   ]
  },
  {
   "cell_type": "markdown",
   "id": "57e1af7e-28a0-437a-ad9f-005c66ce915f",
   "metadata": {
    "tags": []
   },
   "source": [
    "# Example 2 : Morgan Fingerprint Step"
   ]
  },
  {
   "cell_type": "code",
   "execution_count": 4,
   "id": "2165a676-240f-484a-bb28-83bc0a50e69e",
   "metadata": {
    "execution": {
     "iopub.execute_input": "2023-10-20T12:40:27.451534Z",
     "iopub.status.busy": "2023-10-20T12:40:27.450536Z",
     "iopub.status.idle": "2023-10-20T12:40:28.102171Z",
     "shell.execute_reply": "2023-10-20T12:40:28.101181Z",
     "shell.execute_reply.started": "2023-10-20T12:40:27.451534Z"
    },
    "tags": []
   },
   "outputs": [],
   "source": [
    "mol1 = Chem.MolFromSmiles('c1cc(/C=C/F)cc(c1)[N+](=O)[O-]')\n",
    "d = rdMolDraw2D.MolDraw2DCairo(250, 200)\n",
    "d.drawOptions().addAtomIndices = True\n",
    "d.DrawMolecule(mol1)\n",
    "d.FinishDrawing()\n",
    "d.WriteDrawingText('atom_annotation_1.png')"
   ]
  },
  {
   "cell_type": "code",
   "execution_count": 5,
   "id": "39be89ae-0570-4e93-bd34-3097cc712ad3",
   "metadata": {
    "execution": {
     "iopub.execute_input": "2023-10-20T12:40:28.105176Z",
     "iopub.status.busy": "2023-10-20T12:40:28.105176Z",
     "iopub.status.idle": "2023-10-20T12:40:28.137685Z",
     "shell.execute_reply": "2023-10-20T12:40:28.136705Z",
     "shell.execute_reply.started": "2023-10-20T12:40:28.105176Z"
    },
    "tags": []
   },
   "outputs": [
    {
     "data": {
      "image/png": "[encoded data removed]",
      "text/plain": [
       "<IPython.core.display.Image object>"
      ]
     },
     "execution_count": 5,
     "metadata": {},
     "output_type": "execute_result"
    }
   ],
   "source": [
    "Image(filename='atom_annotation_1.png') "
   ]
  },
  {
   "cell_type": "code",
   "execution_count": null,
   "id": "7f343414-96b2-497d-bdcf-16f9024acbe7",
   "metadata": {},
   "outputs": [],
   "source": []
  },
  {
   "cell_type": "code",
   "execution_count": null,
   "id": "27dd7019-6848-4e46-9f76-548dc2e602a2",
   "metadata": {},
   "outputs": [],
   "source": []
  },
  {
   "cell_type": "code",
   "execution_count": null,
   "id": "e7914ab2-08ae-423d-983a-1abed149fff4",
   "metadata": {},
   "outputs": [],
   "source": []
  },
  {
   "cell_type": "code",
   "execution_count": null,
   "id": "69728f94-f153-4508-971c-e8d963a39cef",
   "metadata": {},
   "outputs": [],
   "source": []
  },
  {
   "cell_type": "code",
   "execution_count": 6,
   "id": "734ccce4-72bb-4723-a445-5bfa45dddab6",
   "metadata": {
    "execution": {
     "iopub.execute_input": "2023-10-20T12:40:28.141684Z",
     "iopub.status.busy": "2023-10-20T12:40:28.141684Z",
     "iopub.status.idle": "2023-10-20T12:40:32.538678Z",
     "shell.execute_reply": "2023-10-20T12:40:32.537724Z",
     "shell.execute_reply.started": "2023-10-20T12:40:28.141684Z"
    },
    "tags": []
   },
   "outputs": [],
   "source": [
    "# Python\n",
    "import numpy as np\n",
    "import pandas as pd\n",
    "import matplotlib.pyplot as plt\n",
    "import matplotlib.patches as mpatches\n",
    "import seaborn as sn\n",
    "import time\n",
    "\n",
    "# Machine Learning\n",
    "from sklearn.model_selection import RandomizedSearchCV, KFold, cross_validate\n",
    "from sklearn.ensemble import RandomForestRegressor\n",
    "from sklearn.linear_model import Ridge\n",
    "from xgboost import XGBRegressor\n",
    "from catboost import CatBoostRegressor\n",
    "from sklearn.neighbors import KNeighborsRegressor\n",
    "from sklearn.tree import DecisionTreeRegressor\n",
    "from sklearn.tree import DecisionTreeClassifier\n",
    "from sklearn.svm import SVR\n",
    "#import tensorflow as tf\n",
    "#from tensorflow.keras.models import Sequential\n",
    "#from tensorflow.keras.layers import Conv1D, MaxPooling1D, Flatten, Dense\n",
    "\n",
    "def DT(x_train, y_train):\n",
    "    # Define the parameter grid for RandomizedSearchCV\n",
    "    param_dist = {\n",
    "        'max_depth': [None, 5, 10, 20],\n",
    "        'min_samples_split': [2, 5, 10],\n",
    "        'min_samples_leaf': [1, 2, 4]\n",
    "    }\n",
    "    \n",
    "    # Create a RandomizedSearchCV object\n",
    "    dt = DecisionTreeRegressor(random_state=42)\n",
    "    \n",
    "    # Fit the RandomizedSearchCV object\n",
    "    dt.fit(x_train, y_train)\n",
    "    \n",
    "    ## Get the best model\n",
    "    #best_model = random_search.best_estimator_\n",
    "    #print(random_search.best_params_)\n",
    "    \n",
    "    return dt"
   ]
  },
  {
   "cell_type": "markdown",
   "id": "4d07e93b-b243-4bd0-a313-2f5e318cf86d",
   "metadata": {},
   "source": [
    "# Regression to Classification"
   ]
  },
  {
   "cell_type": "code",
   "execution_count": 106,
   "id": "860a9467-ff12-48db-a09e-d82390034e32",
   "metadata": {
    "execution": {
     "iopub.execute_input": "2023-10-20T13:09:15.300610Z",
     "iopub.status.busy": "2023-10-20T13:09:15.299608Z",
     "iopub.status.idle": "2023-10-20T13:09:15.306833Z",
     "shell.execute_reply": "2023-10-20T13:09:15.305843Z",
     "shell.execute_reply.started": "2023-10-20T13:09:15.300610Z"
    },
    "tags": []
   },
   "outputs": [],
   "source": [
    "#thereshold = 1.96 # 95%]\n",
    "import itertools\n",
    "interval   = [30]\n",
    "start_temp = [100]\n",
    "\n",
    "all_combinations = []\n",
    "list1_permutations = itertools.permutations(interval, len(start_temp))"
   ]
  },
  {
   "cell_type": "code",
   "execution_count": 107,
   "id": "f541ec63-b59a-4b9a-8dfd-22c8c7f9b125",
   "metadata": {
    "execution": {
     "iopub.execute_input": "2023-10-20T13:09:15.542851Z",
     "iopub.status.busy": "2023-10-20T13:09:15.542851Z",
     "iopub.status.idle": "2023-10-20T13:09:15.557657Z",
     "shell.execute_reply": "2023-10-20T13:09:15.557657Z",
     "shell.execute_reply.started": "2023-10-20T13:09:15.542851Z"
    },
    "tags": []
   },
   "outputs": [
    {
     "name": "stdout",
     "output_type": "stream",
     "text": [
      "[[(30, 100)]]\n"
     ]
    }
   ],
   "source": [
    "for each_permutation in list1_permutations:\n",
    "    zipped = zip(each_permutation, start_temp)\n",
    "    all_combinations.append(list(zipped))\n",
    "\n",
    "print(all_combinations)"
   ]
  },
  {
   "cell_type": "code",
   "execution_count": 238,
   "id": "c68d9815-7e21-4e41-a2a1-8bf4ca7fc4f1",
   "metadata": {
    "execution": {
     "iopub.execute_input": "2023-10-20T13:44:02.928398Z",
     "iopub.status.busy": "2023-10-20T13:44:02.927396Z",
     "iopub.status.idle": "2023-10-20T13:44:02.936959Z",
     "shell.execute_reply": "2023-10-20T13:44:02.935974Z",
     "shell.execute_reply.started": "2023-10-20T13:44:02.928398Z"
    },
    "tags": []
   },
   "outputs": [],
   "source": [
    "interval_list = []\n",
    "start_temp_list = []\n",
    "F1_1_list = []\n",
    "F1_2_list = []\n",
    "F1_3_list = []\n",
    "F1_4_list = []"
   ]
  },
  {
   "cell_type": "code",
   "execution_count": 304,
   "id": "bb317ea9-f4b9-4469-af0b-207eb72bd8ad",
   "metadata": {
    "execution": {
     "iopub.execute_input": "2023-10-20T13:44:56.894340Z",
     "iopub.status.busy": "2023-10-20T13:44:56.893340Z",
     "iopub.status.idle": "2023-10-20T13:44:56.906342Z",
     "shell.execute_reply": "2023-10-20T13:44:56.905340Z",
     "shell.execute_reply.started": "2023-10-20T13:44:56.894340Z"
    },
    "tags": []
   },
   "outputs": [
    {
     "data": {
      "text/plain": [
       "(25, 75)"
      ]
     },
     "execution_count": 304,
     "metadata": {},
     "output_type": "execute_result"
    }
   ],
   "source": [
    "#thereshold = 1.96 # 95%]\n",
    "import itertools\n",
    "interval   = 25\n",
    "start_temp = 75\n",
    "(interval, start_temp)"
   ]
  },
  {
   "cell_type": "markdown",
   "id": "20690d3e-f576-44f5-aa8c-e03361c0e469",
   "metadata": {
    "tags": []
   },
   "source": [
    "## 560 point: 5 Feature"
   ]
  },
  {
   "cell_type": "code",
   "execution_count": 305,
   "id": "3790847f-bb2f-474e-8152-def8561251c9",
   "metadata": {
    "execution": {
     "iopub.execute_input": "2023-10-20T13:44:56.911344Z",
     "iopub.status.busy": "2023-10-20T13:44:56.910345Z",
     "iopub.status.idle": "2023-10-20T13:44:58.429638Z",
     "shell.execute_reply": "2023-10-20T13:44:58.428645Z",
     "shell.execute_reply.started": "2023-10-20T13:44:56.911344Z"
    }
   },
   "outputs": [],
   "source": [
    "df = pd.read_excel(\"../../DataTb.xlsx\", sheet_name=\"AllDataSet\")"
   ]
  },
  {
   "cell_type": "code",
   "execution_count": 306,
   "id": "46ef8eb9-1938-4604-a975-69ab35b945c7",
   "metadata": {
    "execution": {
     "iopub.execute_input": "2023-10-20T13:44:58.431639Z",
     "iopub.status.busy": "2023-10-20T13:44:58.430638Z",
     "iopub.status.idle": "2023-10-20T13:44:58.978425Z",
     "shell.execute_reply": "2023-10-20T13:44:58.977436Z",
     "shell.execute_reply.started": "2023-10-20T13:44:58.431639Z"
    }
   },
   "outputs": [
    {
     "data": {
      "text/html": [
       "<div>\n",
       "<style scoped>\n",
       "    .dataframe tbody tr th:only-of-type {\n",
       "        vertical-align: middle;\n",
       "    }\n",
       "\n",
       "    .dataframe tbody tr th {\n",
       "        vertical-align: top;\n",
       "    }\n",
       "\n",
       "    .dataframe thead th {\n",
       "        text-align: right;\n",
       "    }\n",
       "</style>\n",
       "<table border=\"1\" class=\"dataframe\">\n",
       "  <thead>\n",
       "    <tr style=\"text-align: right;\">\n",
       "      <th></th>\n",
       "      <th>CAS</th>\n",
       "      <th>Name</th>\n",
       "      <th>Type</th>\n",
       "      <th>SMILES</th>\n",
       "      <th>Formular</th>\n",
       "      <th>Tb</th>\n",
       "      <th>C</th>\n",
       "      <th>Double</th>\n",
       "      <th>Triple</th>\n",
       "      <th>Bracket</th>\n",
       "      <th>Cyclic</th>\n",
       "      <th>Unnamed: 11</th>\n",
       "      <th>Unnamed: 12</th>\n",
       "      <th>Unnamed: 13</th>\n",
       "      <th>Unnamed: 14</th>\n",
       "    </tr>\n",
       "  </thead>\n",
       "  <tbody>\n",
       "    <tr>\n",
       "      <th>0</th>\n",
       "      <td>74-82-8</td>\n",
       "      <td>methane</td>\n",
       "      <td>alkane</td>\n",
       "      <td>C</td>\n",
       "      <td>CH4</td>\n",
       "      <td>111.65</td>\n",
       "      <td>1</td>\n",
       "      <td>0</td>\n",
       "      <td>0</td>\n",
       "      <td>0</td>\n",
       "      <td>0</td>\n",
       "      <td>10000</td>\n",
       "      <td>NaN</td>\n",
       "      <td>NaN</td>\n",
       "      <td>NaN</td>\n",
       "    </tr>\n",
       "    <tr>\n",
       "      <th>1</th>\n",
       "      <td>74-84-0</td>\n",
       "      <td>ethane</td>\n",
       "      <td>alkane</td>\n",
       "      <td>CC</td>\n",
       "      <td>C2H6</td>\n",
       "      <td>184.55</td>\n",
       "      <td>2</td>\n",
       "      <td>0</td>\n",
       "      <td>0</td>\n",
       "      <td>0</td>\n",
       "      <td>0</td>\n",
       "      <td>20000</td>\n",
       "      <td>NaN</td>\n",
       "      <td>NaN</td>\n",
       "      <td>NaN</td>\n",
       "    </tr>\n",
       "    <tr>\n",
       "      <th>2</th>\n",
       "      <td>74-98-6</td>\n",
       "      <td>propane</td>\n",
       "      <td>alkane</td>\n",
       "      <td>CCC</td>\n",
       "      <td>C3H8</td>\n",
       "      <td>231.05</td>\n",
       "      <td>3</td>\n",
       "      <td>0</td>\n",
       "      <td>0</td>\n",
       "      <td>0</td>\n",
       "      <td>0</td>\n",
       "      <td>30000</td>\n",
       "      <td>NaN</td>\n",
       "      <td>NaN</td>\n",
       "      <td>NaN</td>\n",
       "    </tr>\n",
       "    <tr>\n",
       "      <th>3</th>\n",
       "      <td>75-19-4</td>\n",
       "      <td>Cyclopropane</td>\n",
       "      <td>alkane</td>\n",
       "      <td>C1CC1</td>\n",
       "      <td>C3H6</td>\n",
       "      <td>240.35</td>\n",
       "      <td>3</td>\n",
       "      <td>0</td>\n",
       "      <td>0</td>\n",
       "      <td>0</td>\n",
       "      <td>1</td>\n",
       "      <td>30001</td>\n",
       "      <td>NaN</td>\n",
       "      <td>NaN</td>\n",
       "      <td>y = 129.09x0.5371</td>\n",
       "    </tr>\n",
       "    <tr>\n",
       "      <th>4</th>\n",
       "      <td>75-28-5</td>\n",
       "      <td>2-Methylpropane</td>\n",
       "      <td>alkane</td>\n",
       "      <td>CC(C)C</td>\n",
       "      <td>C4H10</td>\n",
       "      <td>261.45</td>\n",
       "      <td>4</td>\n",
       "      <td>0</td>\n",
       "      <td>0</td>\n",
       "      <td>1</td>\n",
       "      <td>0</td>\n",
       "      <td>40010</td>\n",
       "      <td>NaN</td>\n",
       "      <td>NaN</td>\n",
       "      <td>R² = 0.956</td>\n",
       "    </tr>\n",
       "  </tbody>\n",
       "</table>\n",
       "</div>"
      ],
      "text/plain": [
       "       CAS             Name    Type  SMILES Formular      Tb  C  Double  \\\n",
       "0  74-82-8          methane  alkane       C      CH4  111.65  1       0   \n",
       "1  74-84-0           ethane  alkane      CC     C2H6  184.55  2       0   \n",
       "2  74-98-6          propane  alkane     CCC     C3H8  231.05  3       0   \n",
       "3  75-19-4     Cyclopropane  alkane   C1CC1     C3H6  240.35  3       0   \n",
       "4  75-28-5  2-Methylpropane  alkane  CC(C)C    C4H10  261.45  4       0   \n",
       "\n",
       "   Triple  Bracket  Cyclic  Unnamed: 11  Unnamed: 12  Unnamed: 13  \\\n",
       "0       0        0       0        10000          NaN          NaN   \n",
       "1       0        0       0        20000          NaN          NaN   \n",
       "2       0        0       0        30000          NaN          NaN   \n",
       "3       0        0       1        30001          NaN          NaN   \n",
       "4       0        1       0        40010          NaN          NaN   \n",
       "\n",
       "         Unnamed: 14  \n",
       "0                NaN  \n",
       "1                NaN  \n",
       "2                NaN  \n",
       "3  y = 129.09x0.5371  \n",
       "4         R² = 0.956  "
      ]
     },
     "execution_count": 306,
     "metadata": {},
     "output_type": "execute_result"
    }
   ],
   "source": [
    "df.head()"
   ]
  },
  {
   "cell_type": "code",
   "execution_count": 307,
   "id": "2571a2d1-f0c8-4436-b07b-747d7c61f145",
   "metadata": {
    "execution": {
     "iopub.execute_input": "2023-10-20T13:44:58.984427Z",
     "iopub.status.busy": "2023-10-20T13:44:58.983428Z",
     "iopub.status.idle": "2023-10-20T13:44:59.613223Z",
     "shell.execute_reply": "2023-10-20T13:44:59.612234Z",
     "shell.execute_reply.started": "2023-10-20T13:44:58.984427Z"
    },
    "tags": []
   },
   "outputs": [
    {
     "data": {
      "text/html": [
       "<style>#sk-container-id-37 {color: black;}#sk-container-id-37 pre{padding: 0;}#sk-container-id-37 div.sk-toggleable {background-color: white;}#sk-container-id-37 label.sk-toggleable__label {cursor: pointer;display: block;width: 100%;margin-bottom: 0;padding: 0.3em;box-sizing: border-box;text-align: center;}#sk-container-id-37 label.sk-toggleable__label-arrow:before {content: \"▸\";float: left;margin-right: 0.25em;color: #696969;}#sk-container-id-37 label.sk-toggleable__label-arrow:hover:before {color: black;}#sk-container-id-37 div.sk-estimator:hover label.sk-toggleable__label-arrow:before {color: black;}#sk-container-id-37 div.sk-toggleable__content {max-height: 0;max-width: 0;overflow: hidden;text-align: left;background-color: #f0f8ff;}#sk-container-id-37 div.sk-toggleable__content pre {margin: 0.2em;color: black;border-radius: 0.25em;background-color: #f0f8ff;}#sk-container-id-37 input.sk-toggleable__control:checked~div.sk-toggleable__content {max-height: 200px;max-width: 100%;overflow: auto;}#sk-container-id-37 input.sk-toggleable__control:checked~label.sk-toggleable__label-arrow:before {content: \"▾\";}#sk-container-id-37 div.sk-estimator input.sk-toggleable__control:checked~label.sk-toggleable__label {background-color: #d4ebff;}#sk-container-id-37 div.sk-label input.sk-toggleable__control:checked~label.sk-toggleable__label {background-color: #d4ebff;}#sk-container-id-37 input.sk-hidden--visually {border: 0;clip: rect(1px 1px 1px 1px);clip: rect(1px, 1px, 1px, 1px);height: 1px;margin: -1px;overflow: hidden;padding: 0;position: absolute;width: 1px;}#sk-container-id-37 div.sk-estimator {font-family: monospace;background-color: #f0f8ff;border: 1px dotted black;border-radius: 0.25em;box-sizing: border-box;margin-bottom: 0.5em;}#sk-container-id-37 div.sk-estimator:hover {background-color: #d4ebff;}#sk-container-id-37 div.sk-parallel-item::after {content: \"\";width: 100%;border-bottom: 1px solid gray;flex-grow: 1;}#sk-container-id-37 div.sk-label:hover label.sk-toggleable__label {background-color: #d4ebff;}#sk-container-id-37 div.sk-serial::before {content: \"\";position: absolute;border-left: 1px solid gray;box-sizing: border-box;top: 0;bottom: 0;left: 50%;z-index: 0;}#sk-container-id-37 div.sk-serial {display: flex;flex-direction: column;align-items: center;background-color: white;padding-right: 0.2em;padding-left: 0.2em;position: relative;}#sk-container-id-37 div.sk-item {position: relative;z-index: 1;}#sk-container-id-37 div.sk-parallel {display: flex;align-items: stretch;justify-content: center;background-color: white;position: relative;}#sk-container-id-37 div.sk-item::before, #sk-container-id-37 div.sk-parallel-item::before {content: \"\";position: absolute;border-left: 1px solid gray;box-sizing: border-box;top: 0;bottom: 0;left: 50%;z-index: -1;}#sk-container-id-37 div.sk-parallel-item {display: flex;flex-direction: column;z-index: 1;position: relative;background-color: white;}#sk-container-id-37 div.sk-parallel-item:first-child::after {align-self: flex-end;width: 50%;}#sk-container-id-37 div.sk-parallel-item:last-child::after {align-self: flex-start;width: 50%;}#sk-container-id-37 div.sk-parallel-item:only-child::after {width: 0;}#sk-container-id-37 div.sk-dashed-wrapped {border: 1px dashed gray;margin: 0 0.4em 0.5em 0.4em;box-sizing: border-box;padding-bottom: 0.4em;background-color: white;}#sk-container-id-37 div.sk-label label {font-family: monospace;font-weight: bold;display: inline-block;line-height: 1.2em;}#sk-container-id-37 div.sk-label-container {text-align: center;}#sk-container-id-37 div.sk-container {/* jupyter's `normalize.less` sets `[hidden] { display: none; }` but bootstrap.min.css set `[hidden] { display: none !important; }` so we also need the `!important` here to be able to override the default hidden behavior on the sphinx rendered scikit-learn.org. See: https://github.com/scikit-learn/scikit-learn/issues/21755 */display: inline-block !important;position: relative;}#sk-container-id-37 div.sk-text-repr-fallback {display: none;}</style><div id=\"sk-container-id-37\" class=\"sk-top-container\"><div class=\"sk-text-repr-fallback\"><pre>DecisionTreeClassifier(random_state=42)</pre><b>In a Jupyter environment, please rerun this cell to show the HTML representation or trust the notebook. <br />On GitHub, the HTML representation is unable to render, please try loading this page with nbviewer.org.</b></div><div class=\"sk-container\" hidden><div class=\"sk-item\"><div class=\"sk-estimator sk-toggleable\"><input class=\"sk-toggleable__control sk-hidden--visually\" id=\"sk-estimator-id-37\" type=\"checkbox\" checked><label for=\"sk-estimator-id-37\" class=\"sk-toggleable__label sk-toggleable__label-arrow\">DecisionTreeClassifier</label><div class=\"sk-toggleable__content\"><pre>DecisionTreeClassifier(random_state=42)</pre></div></div></div></div></div>"
      ],
      "text/plain": [
       "DecisionTreeClassifier(random_state=42)"
      ]
     },
     "execution_count": 307,
     "metadata": {},
     "output_type": "execute_result"
    }
   ],
   "source": [
    "df2 = df.copy()\n",
    "df2[\"group\"] =df[\"Tb\"].apply(convert_number_to_group, args=[interval     # interval\n",
    "                                                           , start_temp  # Start_num\n",
    "                                                          ])\n",
    "\n",
    "data_x = df[[\"C\", \"Double\", \"Triple\", \"Bracket\", \"Cyclic\"]]\n",
    "data_y = df2[\"group\"]\n",
    "#data_y\n",
    "#data_x\n",
    "\n",
    "x_train_fp, x_test_fp, y_train_fp, y_test_fp = train_test_split(data_x, data_y,\n",
    "                                                                test_size=0.20,\n",
    "                                                                random_state=42)\n",
    "dt = DecisionTreeClassifier(random_state=42)\n",
    "# Fit the RandomizedSearchCV object\n",
    "dt.fit(x_train_fp, y_train_fp)"
   ]
  },
  {
   "cell_type": "code",
   "execution_count": 308,
   "id": "5e8ad007-2e97-4d20-9284-53227ae88d03",
   "metadata": {
    "execution": {
     "iopub.execute_input": "2023-10-20T13:44:59.616226Z",
     "iopub.status.busy": "2023-10-20T13:44:59.615229Z",
     "iopub.status.idle": "2023-10-20T13:45:01.134123Z",
     "shell.execute_reply": "2023-10-20T13:45:01.132131Z",
     "shell.execute_reply.started": "2023-10-20T13:44:59.616226Z"
    },
    "tags": []
   },
   "outputs": [
    {
     "name": "stdout",
     "output_type": "stream",
     "text": [
      "0.7589285714285714\n"
     ]
    },
    {
     "data": {
      "image/png": "[encoded data removed]",
      "text/plain": [
       "<Figure size 640x480 with 2 Axes>"
      ]
     },
     "metadata": {},
     "output_type": "display_data"
    }
   ],
   "source": [
    "import seaborn as sns\n",
    "from sklearn.metrics import confusion_matrix, f1_score\n",
    "\n",
    "y_pred_test = dt.predict(x_test_fp)\n",
    "cm = confusion_matrix(y_test_fp, y_pred_test)\n",
    "sns.heatmap(cm, linecolor=\"white\", linewidth=2)\n",
    "F1_1 = f1_score(y_test_fp, y_pred_test, average=\"micro\")\n",
    "print(F1_1)\n",
    "           #,vmin=5.0,vmax=0)\n",
    "            #, annot = True)"
   ]
  },
  {
   "cell_type": "code",
   "execution_count": 309,
   "id": "e07c51eb-9983-4d72-b195-4b0c1fa75d0d",
   "metadata": {
    "execution": {
     "iopub.execute_input": "2023-10-20T13:45:01.137124Z",
     "iopub.status.busy": "2023-10-20T13:45:01.136122Z",
     "iopub.status.idle": "2023-10-20T13:45:01.677857Z",
     "shell.execute_reply": "2023-10-20T13:45:01.676868Z",
     "shell.execute_reply.started": "2023-10-20T13:45:01.137124Z"
    },
    "tags": []
   },
   "outputs": [
    {
     "name": "stdout",
     "output_type": "stream",
     "text": [
      "0.825\n"
     ]
    },
    {
     "data": {
      "image/png": "[encoded data removed]",
      "text/plain": [
       "<Figure size 640x480 with 2 Axes>"
      ]
     },
     "metadata": {},
     "output_type": "display_data"
    }
   ],
   "source": [
    "import seaborn as sns\n",
    "from sklearn.metrics import confusion_matrix, f1_score\n",
    "\n",
    "y_pred = dt.predict(data_x)\n",
    "cm = confusion_matrix(y_test_fp, y_pred_test)\n",
    "sns.heatmap(cm, linecolor=\"white\", linewidth=2)\n",
    "F1_2 = f1_score(data_y, y_pred, average=\"micro\")\n",
    "print(F1_2)\n",
    "           #,vmin=5.0,vmax=0)\n",
    "            #, annot = True)"
   ]
  },
  {
   "cell_type": "code",
   "execution_count": null,
   "id": "9a4641ce-af7c-463d-b191-6503dc778b05",
   "metadata": {},
   "outputs": [],
   "source": []
  },
  {
   "cell_type": "code",
   "execution_count": 310,
   "id": "77a1e25b-e980-47ba-9e47-4a261c85b41b",
   "metadata": {
    "execution": {
     "iopub.execute_input": "2023-10-20T13:45:01.679853Z",
     "iopub.status.busy": "2023-10-20T13:45:01.678854Z",
     "iopub.status.idle": "2023-10-20T13:45:01.692971Z",
     "shell.execute_reply": "2023-10-20T13:45:01.691985Z",
     "shell.execute_reply.started": "2023-10-20T13:45:01.679853Z"
    },
    "tags": []
   },
   "outputs": [
    {
     "data": {
      "text/html": [
       "<div>\n",
       "<style scoped>\n",
       "    .dataframe tbody tr th:only-of-type {\n",
       "        vertical-align: middle;\n",
       "    }\n",
       "\n",
       "    .dataframe tbody tr th {\n",
       "        vertical-align: top;\n",
       "    }\n",
       "\n",
       "    .dataframe thead th {\n",
       "        text-align: right;\n",
       "    }\n",
       "</style>\n",
       "<table border=\"1\" class=\"dataframe\">\n",
       "  <thead>\n",
       "    <tr style=\"text-align: right;\">\n",
       "      <th></th>\n",
       "      <th>group</th>\n",
       "      <th>predict</th>\n",
       "    </tr>\n",
       "  </thead>\n",
       "  <tbody>\n",
       "    <tr>\n",
       "      <th>0</th>\n",
       "      <td>1</td>\n",
       "      <td>1</td>\n",
       "    </tr>\n",
       "    <tr>\n",
       "      <th>1</th>\n",
       "      <td>4</td>\n",
       "      <td>4</td>\n",
       "    </tr>\n",
       "    <tr>\n",
       "      <th>2</th>\n",
       "      <td>6</td>\n",
       "      <td>7</td>\n",
       "    </tr>\n",
       "    <tr>\n",
       "      <th>3</th>\n",
       "      <td>7</td>\n",
       "      <td>7</td>\n",
       "    </tr>\n",
       "    <tr>\n",
       "      <th>4</th>\n",
       "      <td>7</td>\n",
       "      <td>7</td>\n",
       "    </tr>\n",
       "    <tr>\n",
       "      <th>...</th>\n",
       "      <td>...</td>\n",
       "      <td>...</td>\n",
       "    </tr>\n",
       "    <tr>\n",
       "      <th>555</th>\n",
       "      <td>16</td>\n",
       "      <td>16</td>\n",
       "    </tr>\n",
       "    <tr>\n",
       "      <th>556</th>\n",
       "      <td>15</td>\n",
       "      <td>15</td>\n",
       "    </tr>\n",
       "    <tr>\n",
       "      <th>557</th>\n",
       "      <td>16</td>\n",
       "      <td>16</td>\n",
       "    </tr>\n",
       "    <tr>\n",
       "      <th>558</th>\n",
       "      <td>17</td>\n",
       "      <td>17</td>\n",
       "    </tr>\n",
       "    <tr>\n",
       "      <th>559</th>\n",
       "      <td>17</td>\n",
       "      <td>17</td>\n",
       "    </tr>\n",
       "  </tbody>\n",
       "</table>\n",
       "<p>560 rows × 2 columns</p>\n",
       "</div>"
      ],
      "text/plain": [
       "     group  predict\n",
       "0        1        1\n",
       "1        4        4\n",
       "2        6        7\n",
       "3        7        7\n",
       "4        7        7\n",
       "..     ...      ...\n",
       "555     16       16\n",
       "556     15       15\n",
       "557     16       16\n",
       "558     17       17\n",
       "559     17       17\n",
       "\n",
       "[560 rows x 2 columns]"
      ]
     },
     "execution_count": 310,
     "metadata": {},
     "output_type": "execute_result"
    }
   ],
   "source": [
    "df2[\"predict\"]= y_pred\n",
    "df2[[\"group\", \"predict\"]]"
   ]
  },
  {
   "cell_type": "markdown",
   "id": "30eba7b8-28a2-4826-944a-76a7c47f2443",
   "metadata": {
    "tags": []
   },
   "source": [
    "## 560 point: C-MF 1024 bit"
   ]
  },
  {
   "cell_type": "code",
   "execution_count": 311,
   "id": "4b33c320-22da-4beb-b0bf-3daf82af5a9e",
   "metadata": {
    "execution": {
     "iopub.execute_input": "2023-10-20T13:45:01.695971Z",
     "iopub.status.busy": "2023-10-20T13:45:01.694971Z",
     "iopub.status.idle": "2023-10-20T13:45:04.330257Z",
     "shell.execute_reply": "2023-10-20T13:45:04.329267Z",
     "shell.execute_reply.started": "2023-10-20T13:45:01.695971Z"
    },
    "tags": []
   },
   "outputs": [],
   "source": [
    " # %% \n",
    "from rdkit import DataStructs\n",
    "# Import Data\n",
    "df = pd.read_excel(\"../../Data.xlsx\",sheet_name=\"560point\")\n",
    "\n",
    "# Select feature for data: X=SMILE, Y=Tb\n",
    "X_data_excel= df[[\"SMILES\"]]\n",
    "Y_data= df[\"Tb\"].apply(convert_number_to_group, args=[interval     # interval\n",
    "                                                    , start_temp  # Start_num\n",
    "                                                          ])\n",
    "\n",
    "X_data_use = X_data_excel.copy()\n",
    "X_data_use[\"molecule\"] = X_data_use[\"SMILES\"].apply(lambda x: Chem.MolFromSmiles(x))\n",
    "X_data_use[\"count_morgan_fp\"] = X_data_use[\"molecule\"].apply(lambda x: rdMolDescriptors.GetHashedMorganFingerprint(\n",
    "            x, \n",
    "            radius=3, \n",
    "            nBits=1024,\n",
    "            useFeatures=True, useChirality=True))\n",
    "\n",
    " # Transfrom Fingerprint to Column in DataFrame\n",
    "X_data_fp = []\n",
    "for i in range(X_data_use.shape[0]):\n",
    "    #print(np.array(X_data_use[\"morgan_fp\"][i]))\n",
    "    blank_arr = np.zeros((0,), dtype=np.int8)\n",
    "    DataStructs.ConvertToNumpyArray(X_data_use[\"count_morgan_fp\"][i],blank_arr)\n",
    "    datafram_i = pd.DataFrame(blank_arr)\n",
    "    datafram_i = datafram_i.T\n",
    "    X_data_fp.append(datafram_i)\n",
    "x_data_fp = pd.concat(X_data_fp, ignore_index=True)\n",
    "\n",
    "y_data_fp = Y_data.copy()"
   ]
  },
  {
   "cell_type": "code",
   "execution_count": 312,
   "id": "0789fa97-f768-4422-8b39-2795a17dec55",
   "metadata": {
    "execution": {
     "iopub.execute_input": "2023-10-20T13:45:04.334259Z",
     "iopub.status.busy": "2023-10-20T13:45:04.334259Z",
     "iopub.status.idle": "2023-10-20T13:45:04.384228Z",
     "shell.execute_reply": "2023-10-20T13:45:04.384228Z",
     "shell.execute_reply.started": "2023-10-20T13:45:04.334259Z"
    },
    "tags": []
   },
   "outputs": [
    {
     "data": {
      "text/html": [
       "<style>#sk-container-id-38 {color: black;}#sk-container-id-38 pre{padding: 0;}#sk-container-id-38 div.sk-toggleable {background-color: white;}#sk-container-id-38 label.sk-toggleable__label {cursor: pointer;display: block;width: 100%;margin-bottom: 0;padding: 0.3em;box-sizing: border-box;text-align: center;}#sk-container-id-38 label.sk-toggleable__label-arrow:before {content: \"▸\";float: left;margin-right: 0.25em;color: #696969;}#sk-container-id-38 label.sk-toggleable__label-arrow:hover:before {color: black;}#sk-container-id-38 div.sk-estimator:hover label.sk-toggleable__label-arrow:before {color: black;}#sk-container-id-38 div.sk-toggleable__content {max-height: 0;max-width: 0;overflow: hidden;text-align: left;background-color: #f0f8ff;}#sk-container-id-38 div.sk-toggleable__content pre {margin: 0.2em;color: black;border-radius: 0.25em;background-color: #f0f8ff;}#sk-container-id-38 input.sk-toggleable__control:checked~div.sk-toggleable__content {max-height: 200px;max-width: 100%;overflow: auto;}#sk-container-id-38 input.sk-toggleable__control:checked~label.sk-toggleable__label-arrow:before {content: \"▾\";}#sk-container-id-38 div.sk-estimator input.sk-toggleable__control:checked~label.sk-toggleable__label {background-color: #d4ebff;}#sk-container-id-38 div.sk-label input.sk-toggleable__control:checked~label.sk-toggleable__label {background-color: #d4ebff;}#sk-container-id-38 input.sk-hidden--visually {border: 0;clip: rect(1px 1px 1px 1px);clip: rect(1px, 1px, 1px, 1px);height: 1px;margin: -1px;overflow: hidden;padding: 0;position: absolute;width: 1px;}#sk-container-id-38 div.sk-estimator {font-family: monospace;background-color: #f0f8ff;border: 1px dotted black;border-radius: 0.25em;box-sizing: border-box;margin-bottom: 0.5em;}#sk-container-id-38 div.sk-estimator:hover {background-color: #d4ebff;}#sk-container-id-38 div.sk-parallel-item::after {content: \"\";width: 100%;border-bottom: 1px solid gray;flex-grow: 1;}#sk-container-id-38 div.sk-label:hover label.sk-toggleable__label {background-color: #d4ebff;}#sk-container-id-38 div.sk-serial::before {content: \"\";position: absolute;border-left: 1px solid gray;box-sizing: border-box;top: 0;bottom: 0;left: 50%;z-index: 0;}#sk-container-id-38 div.sk-serial {display: flex;flex-direction: column;align-items: center;background-color: white;padding-right: 0.2em;padding-left: 0.2em;position: relative;}#sk-container-id-38 div.sk-item {position: relative;z-index: 1;}#sk-container-id-38 div.sk-parallel {display: flex;align-items: stretch;justify-content: center;background-color: white;position: relative;}#sk-container-id-38 div.sk-item::before, #sk-container-id-38 div.sk-parallel-item::before {content: \"\";position: absolute;border-left: 1px solid gray;box-sizing: border-box;top: 0;bottom: 0;left: 50%;z-index: -1;}#sk-container-id-38 div.sk-parallel-item {display: flex;flex-direction: column;z-index: 1;position: relative;background-color: white;}#sk-container-id-38 div.sk-parallel-item:first-child::after {align-self: flex-end;width: 50%;}#sk-container-id-38 div.sk-parallel-item:last-child::after {align-self: flex-start;width: 50%;}#sk-container-id-38 div.sk-parallel-item:only-child::after {width: 0;}#sk-container-id-38 div.sk-dashed-wrapped {border: 1px dashed gray;margin: 0 0.4em 0.5em 0.4em;box-sizing: border-box;padding-bottom: 0.4em;background-color: white;}#sk-container-id-38 div.sk-label label {font-family: monospace;font-weight: bold;display: inline-block;line-height: 1.2em;}#sk-container-id-38 div.sk-label-container {text-align: center;}#sk-container-id-38 div.sk-container {/* jupyter's `normalize.less` sets `[hidden] { display: none; }` but bootstrap.min.css set `[hidden] { display: none !important; }` so we also need the `!important` here to be able to override the default hidden behavior on the sphinx rendered scikit-learn.org. See: https://github.com/scikit-learn/scikit-learn/issues/21755 */display: inline-block !important;position: relative;}#sk-container-id-38 div.sk-text-repr-fallback {display: none;}</style><div id=\"sk-container-id-38\" class=\"sk-top-container\"><div class=\"sk-text-repr-fallback\"><pre>DecisionTreeClassifier(random_state=42)</pre><b>In a Jupyter environment, please rerun this cell to show the HTML representation or trust the notebook. <br />On GitHub, the HTML representation is unable to render, please try loading this page with nbviewer.org.</b></div><div class=\"sk-container\" hidden><div class=\"sk-item\"><div class=\"sk-estimator sk-toggleable\"><input class=\"sk-toggleable__control sk-hidden--visually\" id=\"sk-estimator-id-38\" type=\"checkbox\" checked><label for=\"sk-estimator-id-38\" class=\"sk-toggleable__label sk-toggleable__label-arrow\">DecisionTreeClassifier</label><div class=\"sk-toggleable__content\"><pre>DecisionTreeClassifier(random_state=42)</pre></div></div></div></div></div>"
      ],
      "text/plain": [
       "DecisionTreeClassifier(random_state=42)"
      ]
     },
     "execution_count": 312,
     "metadata": {},
     "output_type": "execute_result"
    }
   ],
   "source": [
    "x_train_fp, x_test_fp, y_train_fp, y_test_fp = train_test_split(x_data_fp, y_data_fp,\n",
    "                                                                test_size=0.20,\n",
    "                                                                random_state=42)\n",
    "dt = DecisionTreeClassifier(random_state=42)\n",
    "# Fit the RandomizedSearchCV object\n",
    "dt.fit(x_train_fp, y_train_fp)"
   ]
  },
  {
   "cell_type": "code",
   "execution_count": 313,
   "id": "5e648888-34e1-467d-bb9f-016ef26cf6ad",
   "metadata": {
    "execution": {
     "iopub.execute_input": "2023-10-20T13:45:04.387219Z",
     "iopub.status.busy": "2023-10-20T13:45:04.386219Z",
     "iopub.status.idle": "2023-10-20T13:45:05.358794Z",
     "shell.execute_reply": "2023-10-20T13:45:05.358794Z",
     "shell.execute_reply.started": "2023-10-20T13:45:04.387219Z"
    },
    "tags": []
   },
   "outputs": [
    {
     "name": "stdout",
     "output_type": "stream",
     "text": [
      "0.7589285714285714\n"
     ]
    },
    {
     "data": {
      "image/png": "[encoded data removed]",
      "text/plain": [
       "<Figure size 640x480 with 2 Axes>"
      ]
     },
     "metadata": {},
     "output_type": "display_data"
    }
   ],
   "source": [
    "import seaborn as sns\n",
    "from sklearn.metrics import confusion_matrix, f1_score\n",
    "\n",
    "y_pred_test = dt.predict(x_test_fp)\n",
    "cm = confusion_matrix(y_test_fp, y_pred_test)\n",
    "sns.heatmap(cm, linecolor=\"white\", linewidth=2)\n",
    "F1_3 = f1_score(y_test_fp, y_pred_test, average=\"micro\")\n",
    "print(F1_3)\n",
    "           #,vmin=5.0,vmax=0)\n",
    "            #, annot = True)"
   ]
  },
  {
   "cell_type": "code",
   "execution_count": 314,
   "id": "958a78dc-7040-4d3e-98ce-fb1225aa28ac",
   "metadata": {
    "execution": {
     "iopub.execute_input": "2023-10-20T13:45:05.360786Z",
     "iopub.status.busy": "2023-10-20T13:45:05.359782Z",
     "iopub.status.idle": "2023-10-20T13:45:05.922275Z",
     "shell.execute_reply": "2023-10-20T13:45:05.920288Z",
     "shell.execute_reply.started": "2023-10-20T13:45:05.360786Z"
    },
    "tags": []
   },
   "outputs": [
    {
     "name": "stdout",
     "output_type": "stream",
     "text": [
      "0.9500000000000001\n"
     ]
    },
    {
     "data": {
      "image/png": "[encoded data removed]",
      "text/plain": [
       "<Figure size 640x480 with 2 Axes>"
      ]
     },
     "metadata": {},
     "output_type": "display_data"
    }
   ],
   "source": [
    "import seaborn as sns\n",
    "from sklearn.metrics import confusion_matrix, f1_score\n",
    "\n",
    "y_pred = dt.predict(x_data_fp)\n",
    "cm = confusion_matrix(y_data_fp, y_pred)\n",
    "sns.heatmap(cm, linecolor=\"white\", linewidth=2)\n",
    "F1_4 = f1_score(y_data_fp, y_pred, average=\"micro\")\n",
    "print(F1_4)\n",
    "           #,vmin=5.0,vmax=0)\n",
    "            #, annot = True)"
   ]
  },
  {
   "cell_type": "code",
   "execution_count": 315,
   "id": "76e7257e-56b0-40e2-86de-55833092c0ae",
   "metadata": {
    "execution": {
     "iopub.execute_input": "2023-10-20T13:45:05.925275Z",
     "iopub.status.busy": "2023-10-20T13:45:05.924277Z",
     "iopub.status.idle": "2023-10-20T13:45:05.941835Z",
     "shell.execute_reply": "2023-10-20T13:45:05.940845Z",
     "shell.execute_reply.started": "2023-10-20T13:45:05.925275Z"
    },
    "tags": []
   },
   "outputs": [
    {
     "data": {
      "text/html": [
       "<div>\n",
       "<style scoped>\n",
       "    .dataframe tbody tr th:only-of-type {\n",
       "        vertical-align: middle;\n",
       "    }\n",
       "\n",
       "    .dataframe tbody tr th {\n",
       "        vertical-align: top;\n",
       "    }\n",
       "\n",
       "    .dataframe thead th {\n",
       "        text-align: right;\n",
       "    }\n",
       "</style>\n",
       "<table border=\"1\" class=\"dataframe\">\n",
       "  <thead>\n",
       "    <tr style=\"text-align: right;\">\n",
       "      <th></th>\n",
       "      <th>group</th>\n",
       "      <th>predict</th>\n",
       "    </tr>\n",
       "  </thead>\n",
       "  <tbody>\n",
       "    <tr>\n",
       "      <th>0</th>\n",
       "      <td>1</td>\n",
       "      <td>1</td>\n",
       "    </tr>\n",
       "    <tr>\n",
       "      <th>1</th>\n",
       "      <td>4</td>\n",
       "      <td>4</td>\n",
       "    </tr>\n",
       "    <tr>\n",
       "      <th>2</th>\n",
       "      <td>6</td>\n",
       "      <td>7</td>\n",
       "    </tr>\n",
       "    <tr>\n",
       "      <th>3</th>\n",
       "      <td>7</td>\n",
       "      <td>7</td>\n",
       "    </tr>\n",
       "    <tr>\n",
       "      <th>4</th>\n",
       "      <td>7</td>\n",
       "      <td>7</td>\n",
       "    </tr>\n",
       "    <tr>\n",
       "      <th>...</th>\n",
       "      <td>...</td>\n",
       "      <td>...</td>\n",
       "    </tr>\n",
       "    <tr>\n",
       "      <th>555</th>\n",
       "      <td>16</td>\n",
       "      <td>16</td>\n",
       "    </tr>\n",
       "    <tr>\n",
       "      <th>556</th>\n",
       "      <td>15</td>\n",
       "      <td>15</td>\n",
       "    </tr>\n",
       "    <tr>\n",
       "      <th>557</th>\n",
       "      <td>16</td>\n",
       "      <td>16</td>\n",
       "    </tr>\n",
       "    <tr>\n",
       "      <th>558</th>\n",
       "      <td>17</td>\n",
       "      <td>17</td>\n",
       "    </tr>\n",
       "    <tr>\n",
       "      <th>559</th>\n",
       "      <td>17</td>\n",
       "      <td>17</td>\n",
       "    </tr>\n",
       "  </tbody>\n",
       "</table>\n",
       "<p>560 rows × 2 columns</p>\n",
       "</div>"
      ],
      "text/plain": [
       "     group  predict\n",
       "0        1        1\n",
       "1        4        4\n",
       "2        6        7\n",
       "3        7        7\n",
       "4        7        7\n",
       "..     ...      ...\n",
       "555     16       16\n",
       "556     15       15\n",
       "557     16       16\n",
       "558     17       17\n",
       "559     17       17\n",
       "\n",
       "[560 rows x 2 columns]"
      ]
     },
     "execution_count": 315,
     "metadata": {},
     "output_type": "execute_result"
    }
   ],
   "source": [
    "df2[\"predict\"]= y_pred\n",
    "df2[[\"group\", \"predict\"]]"
   ]
  },
  {
   "cell_type": "code",
   "execution_count": 316,
   "id": "fe1a94ea-c679-4bd1-b6f2-a76718bb5109",
   "metadata": {
    "execution": {
     "iopub.execute_input": "2023-10-20T13:45:05.943838Z",
     "iopub.status.busy": "2023-10-20T13:45:05.942836Z",
     "iopub.status.idle": "2023-10-20T13:45:06.261125Z",
     "shell.execute_reply": "2023-10-20T13:45:06.260139Z",
     "shell.execute_reply.started": "2023-10-20T13:45:05.943838Z"
    },
    "tags": []
   },
   "outputs": [],
   "source": [
    "interval_list.append(interval)\n",
    "start_temp_list.append(start_temp)\n",
    "F1_1_list.append(F1_1)\n",
    "F1_2_list.append(F1_2)\n",
    "F1_3_list.append(F1_3)\n",
    "F1_4_list.append(F1_4)\n",
    "#df_data = pd.DataFrame(data , columns=[\"interval\",\"start_temp\" ,\"F1_1\", \"F1_2\", \"F1_3\", \"F1_4\" ])\n",
    "#df_data"
   ]
  },
  {
   "cell_type": "code",
   "execution_count": null,
   "id": "23b0bd8c-8441-43b7-a92a-05f2df0f0588",
   "metadata": {},
   "outputs": [],
   "source": []
  },
  {
   "cell_type": "markdown",
   "id": "04afb596-3f33-4294-b735-a38c589d8600",
   "metadata": {
    "tags": []
   },
   "source": [
    "## 560 point: C-MF 1024 bit"
   ]
  },
  {
   "cell_type": "code",
   "execution_count": 322,
   "id": "fa3df16e-836b-4fde-8335-920d364a0dda",
   "metadata": {
    "execution": {
     "iopub.execute_input": "2023-10-20T13:46:14.566231Z",
     "iopub.status.busy": "2023-10-20T13:46:14.566231Z",
     "iopub.status.idle": "2023-10-20T13:46:14.572180Z",
     "shell.execute_reply": "2023-10-20T13:46:14.572180Z",
     "shell.execute_reply.started": "2023-10-20T13:46:14.566231Z"
    },
    "tags": []
   },
   "outputs": [
    {
     "data": {
      "text/plain": [
       "[0.9642857142857143,\n",
       " 0.9803571428571428,\n",
       " 0.9500000000000001,\n",
       " 0.9892857142857143,\n",
       " 0.9696428571428571,\n",
       " 0.9500000000000001]"
      ]
     },
     "execution_count": 322,
     "metadata": {},
     "output_type": "execute_result"
    }
   ],
   "source": [
    "#interval_list \n",
    "#start_temp_list \n",
    "#F1_1_list \n",
    "#F1_2_list \n",
    "#F1_3_list \n",
    "F1_4_list "
   ]
  },
  {
   "cell_type": "code",
   "execution_count": 328,
   "id": "93bcacd6-e73a-4b1f-a331-f9526b93e4b2",
   "metadata": {
    "execution": {
     "iopub.execute_input": "2023-10-20T13:49:34.424904Z",
     "iopub.status.busy": "2023-10-20T13:49:34.423694Z",
     "iopub.status.idle": "2023-10-20T13:49:34.442545Z",
     "shell.execute_reply": "2023-10-20T13:49:34.441555Z",
     "shell.execute_reply.started": "2023-10-20T13:49:34.423694Z"
    },
    "tags": []
   },
   "outputs": [
    {
     "data": {
      "text/html": [
       "<div>\n",
       "<style scoped>\n",
       "    .dataframe tbody tr th:only-of-type {\n",
       "        vertical-align: middle;\n",
       "    }\n",
       "\n",
       "    .dataframe tbody tr th {\n",
       "        vertical-align: top;\n",
       "    }\n",
       "\n",
       "    .dataframe thead th {\n",
       "        text-align: right;\n",
       "    }\n",
       "</style>\n",
       "<table border=\"1\" class=\"dataframe\">\n",
       "  <thead>\n",
       "    <tr style=\"text-align: right;\">\n",
       "      <th></th>\n",
       "      <th>interval</th>\n",
       "      <th>start_temp</th>\n",
       "      <th>Senior_test</th>\n",
       "      <th>Senior_total</th>\n",
       "      <th>Our_test</th>\n",
       "      <th>Our_total</th>\n",
       "    </tr>\n",
       "  </thead>\n",
       "  <tbody>\n",
       "    <tr>\n",
       "      <th>0</th>\n",
       "      <td>50</td>\n",
       "      <td>100</td>\n",
       "      <td>0.883929</td>\n",
       "      <td>0.921429</td>\n",
       "      <td>0.821429</td>\n",
       "      <td>0.964286</td>\n",
       "    </tr>\n",
       "    <tr>\n",
       "      <th>1</th>\n",
       "      <td>100</td>\n",
       "      <td>100</td>\n",
       "      <td>0.919643</td>\n",
       "      <td>0.960714</td>\n",
       "      <td>0.910714</td>\n",
       "      <td>0.980357</td>\n",
       "    </tr>\n",
       "    <tr>\n",
       "      <th>2</th>\n",
       "      <td>25</td>\n",
       "      <td>100</td>\n",
       "      <td>0.758929</td>\n",
       "      <td>0.825000</td>\n",
       "      <td>0.758929</td>\n",
       "      <td>0.950000</td>\n",
       "    </tr>\n",
       "    <tr>\n",
       "      <th>3</th>\n",
       "      <td>100</td>\n",
       "      <td>75</td>\n",
       "      <td>0.955357</td>\n",
       "      <td>0.966071</td>\n",
       "      <td>0.946429</td>\n",
       "      <td>0.989286</td>\n",
       "    </tr>\n",
       "    <tr>\n",
       "      <th>4</th>\n",
       "      <td>50</td>\n",
       "      <td>75</td>\n",
       "      <td>0.883929</td>\n",
       "      <td>0.937500</td>\n",
       "      <td>0.866071</td>\n",
       "      <td>0.969643</td>\n",
       "    </tr>\n",
       "    <tr>\n",
       "      <th>5</th>\n",
       "      <td>25</td>\n",
       "      <td>75</td>\n",
       "      <td>0.758929</td>\n",
       "      <td>0.825000</td>\n",
       "      <td>0.758929</td>\n",
       "      <td>0.950000</td>\n",
       "    </tr>\n",
       "  </tbody>\n",
       "</table>\n",
       "</div>"
      ],
      "text/plain": [
       "   interval  start_temp  Senior_test  Senior_total  Our_test  Our_total\n",
       "0        50         100     0.883929      0.921429  0.821429   0.964286\n",
       "1       100         100     0.919643      0.960714  0.910714   0.980357\n",
       "2        25         100     0.758929      0.825000  0.758929   0.950000\n",
       "3       100          75     0.955357      0.966071  0.946429   0.989286\n",
       "4        50          75     0.883929      0.937500  0.866071   0.969643\n",
       "5        25          75     0.758929      0.825000  0.758929   0.950000"
      ]
     },
     "execution_count": 328,
     "metadata": {},
     "output_type": "execute_result"
    }
   ],
   "source": [
    "data_append = {\"interval\"   : interval_list,\n",
    "               \"start_temp\" : start_temp_list,\n",
    "               \"Senior_test\"       : F1_1_list,\n",
    "               \"Senior_total\"       : F1_2_list,\n",
    "               \"Our_test\"       : F1_3_list,\n",
    "               \"Our_total\"       : F1_4_list}\n",
    "df_data_append = pd.DataFrame(data_append) #, columns=[\"interval\",\"start_temp\" ,\"F1_1\", \"F1_2\", \"F1_3\", \"F1_4\" ])\n",
    "#pd.concat([df_data,df_data_append])\n",
    "df_data_append"
   ]
  },
  {
   "cell_type": "code",
   "execution_count": null,
   "id": "0cceab9a-ca89-48aa-b4cc-50da6302d272",
   "metadata": {},
   "outputs": [],
   "source": []
  }
 ],
 "metadata": {
  "kernelspec": {
   "display_name": "Python 3 (ipykernel)",
   "language": "python",
   "name": "python3"
  },
  "language_info": {
   "codemirror_mode": {
    "name": "ipython",
    "version": 3
   },
   "file_extension": ".py",
   "mimetype": "text/x-python",
   "name": "python",
   "nbconvert_exporter": "python",
   "pygments_lexer": "ipython3",
   "version": "3.11.4"
  },
  "toc-autonumbering": false
 },
 "nbformat": 4,
 "nbformat_minor": 5
}
