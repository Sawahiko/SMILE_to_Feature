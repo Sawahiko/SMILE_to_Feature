{
 "cells": [
  {
   "cell_type": "markdown",
   "id": "ee708f06-236f-4304-ac70-f7d0526a0b97",
   "metadata": {
    "tags": []
   },
   "source": [
    "# Import"
   ]
  },
  {
   "cell_type": "code",
   "execution_count": 1,
   "id": "33318a5a-22df-472d-a42f-3b16e6b9decb",
   "metadata": {
    "id": "5QKaKQNzGN7T",
    "tags": []
   },
   "outputs": [],
   "source": [
    "# Python\n",
    "import numpy as np\n",
    "import pandas as pd\n",
    "import time\n",
    "from IPython.display import Image\n",
    "\n",
    "# Machine Learning\n",
    "from sklearn.decomposition import PCA\n",
    "from sklearn.model_selection import train_test_split\n",
    "\n",
    "# RDKit\n",
    "from rdkit.Chem import Descriptors\n",
    "from rdkit.ML.Descriptors import MoleculeDescriptors\n",
    "from rdkit.Chem import rdMolDescriptors\n",
    "from rdkit.Chem import AllChem\n",
    "from rdkit import Chem\n",
    "from rdkit.Chem import Descriptors\n",
    "from rdkit.ML.Descriptors import MoleculeDescriptors\n",
    "from rdkit.Chem.rdMolDescriptors import GetHashedMorganFingerprint\n",
    "from rdkit.Chem.Draw import rdMolDraw2D\n",
    "\n",
    "from sklearn.metrics import mean_absolute_error, mean_absolute_percentage_error, mean_squared_error, r2_score"
   ]
  },
  {
   "cell_type": "code",
   "execution_count": 2,
   "id": "69a516c1-2d27-4e36-a202-ce7cabb5432b",
   "metadata": {
    "tags": []
   },
   "outputs": [],
   "source": [
    "from rdkit.Chem.Draw import IPythonConsole\n",
    "from ipywidgets import interact,fixed,IntSlider\n",
    "def renderFpBit(mol,bitIdx,bitInfo,fn):\n",
    "    bid = bitIdx\n",
    "    return(display(fn(mol,bid,bitInfo)))\n",
    "def get_index_of_array_that_contain_1_in_any_position(list1):\n",
    "    result = []\n",
    "    for i, e in enumerate(list1):\n",
    "        if e > 0:\n",
    "            result.append(i)\n",
    "    return result"
   ]
  },
  {
   "cell_type": "markdown",
   "id": "57e1af7e-28a0-437a-ad9f-005c66ce915f",
   "metadata": {
    "tags": []
   },
   "source": [
    "# Example 2 : Morgan Fingerprint Step"
   ]
  },
  {
   "cell_type": "code",
   "execution_count": 3,
   "id": "2165a676-240f-484a-bb28-83bc0a50e69e",
   "metadata": {
    "tags": []
   },
   "outputs": [],
   "source": [
    "mol1 = Chem.MolFromSmiles('c1cc(/C=C/F)cc(c1)[N+](=O)[O-]')\n",
    "d = rdMolDraw2D.MolDraw2DCairo(250, 200)\n",
    "d.drawOptions().addAtomIndices = True\n",
    "d.DrawMolecule(mol1)\n",
    "d.FinishDrawing()\n",
    "d.WriteDrawingText('atom_annotation_1.png')"
   ]
  },
  {
   "cell_type": "code",
   "execution_count": 4,
   "id": "39be89ae-0570-4e93-bd34-3097cc712ad3",
   "metadata": {
    "tags": []
   },
   "outputs": [
    {
     "data": {
      "image/png": "[encoded data removed]",
      "text/plain": [
       "<IPython.core.display.Image object>"
      ]
     },
     "execution_count": 4,
     "metadata": {},
     "output_type": "execute_result"
    }
   ],
   "source": [
    "Image(filename='atom_annotation_1.png') "
   ]
  },
  {
   "cell_type": "code",
   "execution_count": null,
   "id": "3790847f-bb2f-474e-8152-def8561251c9",
   "metadata": {},
   "outputs": [],
   "source": []
  },
  {
   "cell_type": "code",
   "execution_count": null,
   "id": "46ef8eb9-1938-4604-a975-69ab35b945c7",
   "metadata": {},
   "outputs": [],
   "source": []
  },
  {
   "cell_type": "code",
   "execution_count": null,
   "id": "56bcf4f5-840b-47c1-a34c-bd6a6c3409ba",
   "metadata": {},
   "outputs": [],
   "source": []
  }
 ],
 "metadata": {
  "kernelspec": {
   "display_name": "Python 3 (ipykernel)",
   "language": "python",
   "name": "python3"
  },
  "language_info": {
   "codemirror_mode": {
    "name": "ipython",
    "version": 3
   },
   "file_extension": ".py",
   "mimetype": "text/x-python",
   "name": "python",
   "nbconvert_exporter": "python",
   "pygments_lexer": "ipython3",
   "version": "3.11.4"
  },
  "toc-autonumbering": false
 },
 "nbformat": 4,
 "nbformat_minor": 5
}
