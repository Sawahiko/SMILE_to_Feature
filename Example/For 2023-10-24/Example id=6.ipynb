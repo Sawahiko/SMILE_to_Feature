{
 "cells": [
  {
   "cell_type": "markdown",
   "id": "ee708f06-236f-4304-ac70-f7d0526a0b97",
   "metadata": {
    "tags": []
   },
   "source": [
    "# Import"
   ]
  },
  {
   "cell_type": "code",
   "execution_count": 1,
   "id": "33318a5a-22df-472d-a42f-3b16e6b9decb",
   "metadata": {
    "id": "5QKaKQNzGN7T",
    "tags": []
   },
   "outputs": [],
   "source": [
    "# Python\n",
    "import numpy as np\n",
    "import pandas as pd\n",
    "import time\n",
    "from IPython.display import Image\n",
    "\n",
    "# Machine Learning\n",
    "from sklearn.decomposition import PCA\n",
    "from sklearn.model_selection import train_test_split\n",
    "\n",
    "# RDKit\n",
    "from rdkit.Chem import Descriptors\n",
    "from rdkit.ML.Descriptors import MoleculeDescriptors\n",
    "from rdkit.Chem import rdMolDescriptors\n",
    "from rdkit.Chem import AllChem\n",
    "from rdkit import Chem\n",
    "from rdkit.Chem import Descriptors\n",
    "from rdkit.ML.Descriptors import MoleculeDescriptors\n",
    "from rdkit.Chem.rdMolDescriptors import GetHashedMorganFingerprint\n",
    "from rdkit.Chem.Draw import rdMolDraw2D\n",
    "\n",
    "from sklearn.metrics import mean_absolute_error, mean_absolute_percentage_error, mean_squared_error, r2_score"
   ]
  },
  {
   "cell_type": "markdown",
   "id": "57e1af7e-28a0-437a-ad9f-005c66ce915f",
   "metadata": {
    "tags": []
   },
   "source": [
    "# Example 1 : Theory - SMILES"
   ]
  },
  {
   "cell_type": "code",
   "execution_count": 2,
   "id": "2165a676-240f-484a-bb28-83bc0a50e69e",
   "metadata": {
    "tags": []
   },
   "outputs": [],
   "source": [
    "mol1 = Chem.MolFromSmiles('c1cc(oc1)C=O')\n",
    "d = rdMolDraw2D.MolDraw2DCairo(250, 200)\n",
    "#d.drawOptions().addAtomIndices = True\n",
    "d.DrawMolecule(mol1)\n",
    "d.FinishDrawing()\n",
    "d.WriteDrawingText('atom_annotation_1.png')"
   ]
  },
  {
   "cell_type": "code",
   "execution_count": 3,
   "id": "39be89ae-0570-4e93-bd34-3097cc712ad3",
   "metadata": {
    "tags": []
   },
   "outputs": [
    {
     "data": {
      "image/png": "[encoded data removed]",
      "text/plain": [
       "<IPython.core.display.Image object>"
      ]
     },
     "execution_count": 3,
     "metadata": {},
     "output_type": "execute_result"
    }
   ],
   "source": [
    "Image(filename='atom_annotation_1.png') "
   ]
  },
  {
   "cell_type": "code",
   "execution_count": null,
   "id": "7f343414-96b2-497d-bdcf-16f9024acbe7",
   "metadata": {},
   "outputs": [],
   "source": []
  },
  {
   "cell_type": "code",
   "execution_count": null,
   "id": "27dd7019-6848-4e46-9f76-548dc2e602a2",
   "metadata": {},
   "outputs": [],
   "source": []
  },
  {
   "cell_type": "markdown",
   "id": "174bcd0a-96a5-41c7-bfc8-2d90ff41ecd8",
   "metadata": {
    "tags": []
   },
   "source": [
    "# Example 2 : Atom-Pair"
   ]
  },
  {
   "cell_type": "code",
   "execution_count": 5,
   "id": "6d97d9a4-bbde-420b-b6cd-76719b81ca4a",
   "metadata": {
    "tags": []
   },
   "outputs": [],
   "source": [
    "MF_radius=3\n",
    "MF_bit=1024"
   ]
  },
  {
   "cell_type": "code",
   "execution_count": 21,
   "id": "e7914ab2-08ae-423d-983a-1abed149fff4",
   "metadata": {
    "tags": []
   },
   "outputs": [],
   "source": [
    "df = pd.read_excel(\"../../Data.xlsx\",sheet_name=\"560point\")\n",
    "\n",
    "# Select feature for data: X=SMILE, Y=Tb\n",
    "X_data_excel= df[[\"SMILES\"]]\n",
    "Y_data= df[\"Tb\"]\n",
    "\n",
    "# %% Data Preparation\n",
    "# Generate Fingerprint from SMILE\n",
    "\n",
    "X_data_use = X_data_excel.copy()\n",
    "X_data_use[\"molecule\"] = X_data_use[\"SMILES\"].apply(lambda x: Chem.MolFromSmiles(x))\n",
    "\n",
    "y_data_fp = Y_data.copy()"
   ]
  },
  {
   "cell_type": "code",
   "execution_count": null,
   "id": "012f2159-20b3-4659-abf7-9a0ca4a4e031",
   "metadata": {
    "tags": []
   },
   "outputs": [],
   "source": [
    "X_data_excel.iloc[0][\"molecule\"]"
   ]
  },
  {
   "cell_type": "code",
   "execution_count": 30,
   "id": "5abda615-572e-4eaa-9711-d5310d3f9c24",
   "metadata": {
    "tags": []
   },
   "outputs": [
    {
     "name": "stdout",
     "output_type": "stream",
     "text": [
      "[0 0 0 0 0 0 0 0 0 0 0 0 0 0 0 0 0 0 0 0 0 0 0 0 0 0 0 0 1 1 0 0 0 0 0 0 0\n",
      " 0 0 0 0 0 0 0 0 0 0 0 0 0 0 0 0 0 0 0 0 0 0 0 0 0 0 0 0 0 0 0 0 0 0 0 0 0\n",
      " 0 0 0 0 0 0 0 0 0 0 0 0 0 0 0 0 0 0 0 0 0 0 0 0 0 0 0 0 0 0 0 0 0 0 0 0 0\n",
      " 0 0 0 0 0 0 0 0 0 0 0 0 0 0 0 0 0 0 0 0 0 0 0 0 0 0 0 0 0 0 0 0 0 0 0 0 0\n",
      " 0 0 0 0 0 0 0 0 0 0 0 0 0 0 0 0 0 0 0 0 0 0 0 0 0 0 0 0 0 0 0 0 0 0 0 0 0\n",
      " 0 0 0 0 0 0 0 0 0 0 0 0 0 0 0 0 0 0 0 0 0 0 0 0 0 0 0 0 0 0 0 0 0 0 0 1 1\n",
      " 0 0 0 0 0 0 0 0 0 0 0 0 0 0 0 0 0 0 0 0 0 0 0 0 0 0 0 0 0 0 0 0 0 0 0 0 0\n",
      " 0 0 0 0 0 0 0 0 0 0 0 0 0 0 0 0 0 0 0 0 0 1 1 0 0 0 0 0 0 0 0 0 0 0 0 0 0\n",
      " 0 0 0 0 0 0 0 0 0 0 0 0 0 0 0 0 0 0 0 0 0 0 0 0 0 0 0 0 0 0 0 0 0 0 0 0 0\n",
      " 0 0 0 0 0 0 0 0 0 0 0 0 0 0 0 0 0 0 0 0 0 0 0 0 0 0 0 0 0 0 0 0 0 0 0 0 0\n",
      " 0 0 0 0 0 0 0 0 0 0 0 0 0 0 0 0 0 0 0 0 0 0 0 0 0 0 0 0 0 0 0 0 0 0 0 0 0\n",
      " 0 0 0 0 0 0 0 0 0 0 0 0 0 0 0 0 0 0 0 0 0 0 0 0 0 0 0 0 0 0 0 0 0 0 0 0 0\n",
      " 0 0 0 0 0 0 0 0 0 0 0 0 0 0 0 0 0 0 0 0 0 0 0 0 0 0 0 0 1 1 0 0 0 0 0 0 0\n",
      " 0 0 0 0 0 0 0 0 0 0 0 0 0 0 0 0 0 0 0 0 0 0 0 0 0 0 0 0 0 0 0]\n"
     ]
    }
   ],
   "source": [
    "from rdkit.Chem import rdMolDescriptors\n",
    "AP = rdMolDescriptors.GetHashedAtomPairFingerprintAsBitVect(X_data_use.iloc[11][\"molecule\"], nBits=512)\n",
    "#AP = rdMolDescriptors.GetHashedAtomPairFingerprintAsBitVect(X_data_use.iloc[11], nBits=512,)\n",
    "print(np.array(AP))"
   ]
  },
  {
   "cell_type": "code",
   "execution_count": null,
   "id": "69728f94-f153-4508-971c-e8d963a39cef",
   "metadata": {},
   "outputs": [],
   "source": [
    "# %%\n",
    "# Train-test_Modeling & Cross Validation Modeling\n",
    "\n",
    "\n",
    "x_train_fp, x_test_fp, y_train_fp, y_test_fp = train_test_split(x_data_fp, y_data_fp,\n",
    "                                                                test_size=0.20,\n",
    "                                                                random_state=42)\n",
    "start_time = time.time()\n",
    "model = XGB(x_train_fp, y_train_fp)\n",
    "\n",
    "end_time = time.time()\n",
    "print(\"Training Elasped Time : \", end_time-start_time, \" seconds\")"
   ]
  },
  {
   "cell_type": "code",
   "execution_count": null,
   "id": "0cceab9a-ca89-48aa-b4cc-50da6302d272",
   "metadata": {},
   "outputs": [],
   "source": []
  }
 ],
 "metadata": {
  "kernelspec": {
   "display_name": "Python 3 (ipykernel)",
   "language": "python",
   "name": "python3"
  },
  "language_info": {
   "codemirror_mode": {
    "name": "ipython",
    "version": 3
   },
   "file_extension": ".py",
   "mimetype": "text/x-python",
   "name": "python",
   "nbconvert_exporter": "python",
   "pygments_lexer": "ipython3",
   "version": "3.11.4"
  },
  "toc-autonumbering": false
 },
 "nbformat": 4,
 "nbformat_minor": 5
}
