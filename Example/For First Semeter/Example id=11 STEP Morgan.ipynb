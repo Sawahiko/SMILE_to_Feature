{
 "cells": [
  {
   "cell_type": "markdown",
   "id": "ee708f06-236f-4304-ac70-f7d0526a0b97",
   "metadata": {
    "tags": []
   },
   "source": [
    "# Import"
   ]
  },
  {
   "cell_type": "code",
   "execution_count": 1,
   "id": "33318a5a-22df-472d-a42f-3b16e6b9decb",
   "metadata": {
    "id": "5QKaKQNzGN7T",
    "tags": []
   },
   "outputs": [],
   "source": [
    "# Python\n",
    "import numpy as np\n",
    "import pandas as pd\n",
    "import time\n",
    "from IPython.display import Image\n",
    "\n",
    "# Machine Learning\n",
    "from sklearn.decomposition import PCA\n",
    "from sklearn.model_selection import train_test_split\n",
    "\n",
    "# RDKit\n",
    "from rdkit.Chem import Draw\n",
    "from rdkit.Chem import Descriptors\n",
    "from rdkit.ML.Descriptors import MoleculeDescriptors\n",
    "from rdkit.Chem import rdMolDescriptors\n",
    "from rdkit.Chem import AllChem\n",
    "from rdkit import Chem\n",
    "from rdkit.Chem import Descriptors\n",
    "from rdkit.ML.Descriptors import MoleculeDescriptors\n",
    "from rdkit.Chem.rdMolDescriptors import GetHashedMorganFingerprint\n",
    "from rdkit.Chem.Draw import rdMolDraw2D\n",
    "\n",
    "from sklearn.metrics import mean_absolute_error, mean_absolute_percentage_error, mean_squared_error, r2_score"
   ]
  },
  {
   "cell_type": "code",
   "execution_count": 2,
   "id": "69a516c1-2d27-4e36-a202-ce7cabb5432b",
   "metadata": {
    "tags": []
   },
   "outputs": [],
   "source": [
    "from rdkit.Chem.Draw import IPythonConsole\n",
    "from ipywidgets import interact,fixed,IntSlider\n",
    "def renderFpBit(mol,bitIdx,bitInfo,fn):\n",
    "    bid = bitIdx\n",
    "    return(display(fn(mol,bid,bitInfo)))\n",
    "def get_index_of_array_that_contain_1_in_any_position(list1):\n",
    "    result = []\n",
    "    for i, e in enumerate(list1):\n",
    "        if e > 0:\n",
    "            result.append(i)\n",
    "    return result"
   ]
  },
  {
   "cell_type": "code",
   "execution_count": 3,
   "id": "e2d78a5c-f068-4bbc-830a-c4d059fd6c73",
   "metadata": {
    "tags": []
   },
   "outputs": [],
   "source": [
    "def show_mol(d2d,mol,legend='',highlightAtoms=[]):\n",
    "    d2d.DrawMolecule(mol,legend=legend, highlightAtoms=highlightAtoms)\n",
    "    d2d.FinishDrawing()\n",
    "    bio = BytesIO(d2d.GetDrawingText())\n",
    "    return Image.open(bio)\n",
    "def show_images(imgs,buffer=5):\n",
    "    height = 0\n",
    "    width = 0\n",
    "    for img in imgs:\n",
    "        height = max(height,img.height)\n",
    "        width += img.width\n",
    "    width += buffer*(len(imgs)-1)\n",
    "    res = Image.new(\"RGBA\",(width,height))\n",
    "    x = 0\n",
    "    for img in imgs:\n",
    "        res.paste(img,(x,0))\n",
    "        x += img.width + buffer\n",
    "    return res\n",
    "from io import BytesIO"
   ]
  },
  {
   "cell_type": "markdown",
   "id": "57e1af7e-28a0-437a-ad9f-005c66ce915f",
   "metadata": {
    "tags": []
   },
   "source": [
    "# Example 3 : Morgan Fingerprint Step"
   ]
  },
  {
   "cell_type": "markdown",
   "id": "7044f287-3563-472a-b457-fd55e6aae993",
   "metadata": {
    "tags": []
   },
   "source": [
    "## Whole Molucule"
   ]
  },
  {
   "cell_type": "code",
   "execution_count": 120,
   "id": "2165a676-240f-484a-bb28-83bc0a50e69e",
   "metadata": {
    "tags": []
   },
   "outputs": [],
   "source": [
    "mol1 = Chem.MolFromSmiles('CCCC(=O)N')"
   ]
  },
  {
   "cell_type": "code",
   "execution_count": 121,
   "id": "2c0718ae-4431-4e5e-9656-e190c1931a3b",
   "metadata": {
    "tags": []
   },
   "outputs": [],
   "source": [
    "d = rdMolDraw2D.MolDraw2DCairo(250, 200)\n",
    "d.drawOptions().addAtomIndices = True\n",
    "d.drawOptions().useBWAtomPalette()\n",
    "d.DrawMolecule(mol1)\n",
    "d.FinishDrawing()"
   ]
  },
  {
   "cell_type": "code",
   "execution_count": 122,
   "id": "39be89ae-0570-4e93-bd34-3097cc712ad3",
   "metadata": {
    "tags": []
   },
   "outputs": [
    {
     "data": {
      "image/png": "[encoded data removed]",
      "text/plain": [
       "<IPython.core.display.Image object>"
      ]
     },
     "execution_count": 122,
     "metadata": {},
     "output_type": "execute_result"
    }
   ],
   "source": [
    "namepic = \"EX3-pic1.png\"\n",
    "d.WriteDrawingText(namepic)\n",
    "Image(filename=namepic) "
   ]
  },
  {
   "cell_type": "markdown",
   "id": "04866573-f212-4ab8-b7d8-6f39b8563883",
   "metadata": {
    "tags": []
   },
   "source": [
    "## r = 0"
   ]
  },
  {
   "cell_type": "code",
   "execution_count": 44,
   "id": "75f1cc04-baab-482e-86f2-940a30dbca80",
   "metadata": {
    "tags": []
   },
   "outputs": [],
   "source": [
    "#smi = 'c1nc(*)ccc1* |$;;;R1;;;;R2$|'\n",
    "#mol.GetAtomWithIdx(3).SetProp(\"_displayLabel\",\"R<sub>1</sub>\")\n",
    "#mol.GetAtomWithIdx(7).SetProp(\"_displayLabel\",\"R<sub>2</sub>\")\n",
    "from rdkit.Chem import rdDepictor\n",
    "rdDepictor.SetPreferCoordGen(True)\n",
    "\n",
    "smi = '*C* |$A;;A;$|'\n",
    "mol1 = Chem.MolFromSmiles(smi)\n",
    "mol1.GetAtomWithIdx(1).SetProp('atomNote', '2')"
   ]
  },
  {
   "cell_type": "code",
   "execution_count": 45,
   "id": "c84b3fa4-b3c7-42f6-bcc9-e4cedffc799c",
   "metadata": {
    "tags": []
   },
   "outputs": [],
   "source": [
    "d = rdMolDraw2D.MolDraw2DCairo(250, 200)\n",
    "d.drawOptions().setAtomPalette({0:(0.502, 0.502, 0.502)})\n",
    "d.drawOptions().rotate = 180\n"
   ]
  },
  {
   "cell_type": "code",
   "execution_count": 46,
   "id": "efa36dc6-09c1-4202-a1ab-c1e33726f767",
   "metadata": {
    "tags": []
   },
   "outputs": [],
   "source": [
    "d.DrawMolecule(mol1)\n",
    "d.FinishDrawing()"
   ]
  },
  {
   "cell_type": "code",
   "execution_count": 47,
   "id": "c25ebca6-b072-4938-a853-950518010044",
   "metadata": {
    "tags": []
   },
   "outputs": [
    {
     "data": {
      "image/png": "[encoded data removed]",
      "text/plain": [
       "<IPython.core.display.Image object>"
      ]
     },
     "execution_count": 47,
     "metadata": {},
     "output_type": "execute_result"
    }
   ],
   "source": [
    "namepic = \"EX3-pic2.png\"\n",
    "d.WriteDrawingText(namepic)\n",
    "Image(filename=namepic) "
   ]
  },
  {
   "cell_type": "code",
   "execution_count": 143,
   "id": "96cb7601-ec9e-4c98-8867-2e7b29e49847",
   "metadata": {
    "tags": []
   },
   "outputs": [
    {
     "data": {
      "image/png": "[encoded data removed]",
      "text/plain": [
       "<IPython.core.display.Image object>"
      ]
     },
     "execution_count": 143,
     "metadata": {},
     "output_type": "execute_result"
    }
   ],
   "source": [
    "smi = 'C '\n",
    "mol1 = Chem.MolFromSmiles(smi)\n",
    "mol1 = Chem.RemoveHs(mol1)\n",
    "\n",
    "d = rdMolDraw2D.MolDraw2DCairo(250, 200)\n",
    "d.drawOptions().setAtomPalette({0:(0.502, 0.502, 0.502)})\n",
    "d.DrawMolecule(mol1)\n",
    "d.FinishDrawing()\n",
    "\n",
    "namepic = \"EX3-pic2.5.png\"\n",
    "d.WriteDrawingText(namepic)\n",
    "Image(filename=namepic) "
   ]
  },
  {
   "cell_type": "markdown",
   "id": "89de9389-bb9c-4ee3-aeda-0616b133f250",
   "metadata": {
    "tags": []
   },
   "source": [
    "## r = 1"
   ]
  },
  {
   "cell_type": "code",
   "execution_count": 54,
   "id": "3fb16859-fa70-4f37-85ab-42e9c3120eb8",
   "metadata": {
    "tags": []
   },
   "outputs": [],
   "source": [
    "smi2 = '*CCC(=*)* |$A;;;;A;A;$|'\n",
    "mol2 = Chem.MolFromSmiles(smi2)\n",
    "mol2.GetAtomWithIdx(1).SetProp('atomNote', '1')\n",
    "mol2.GetAtomWithIdx(2).SetProp('atomNote', '2')\n",
    "mol2.GetAtomWithIdx(3).SetProp('atomNote', '3')"
   ]
  },
  {
   "cell_type": "code",
   "execution_count": 55,
   "id": "9d451947-efff-4d03-aeaf-76ce25f3f10b",
   "metadata": {
    "tags": []
   },
   "outputs": [],
   "source": [
    "d = rdMolDraw2D.MolDraw2DCairo(250, 200)\n",
    "d.drawOptions().setAtomPalette({0:(0.502, 0.502, 0.502)})\n",
    "#d.drawOptions().rotate = 180\n",
    "d.DrawMolecule(mol2)\n",
    "d.FinishDrawing()"
   ]
  },
  {
   "cell_type": "code",
   "execution_count": 56,
   "id": "47e1a52e-b3b9-4117-88d3-d5b3ff58ca70",
   "metadata": {
    "tags": []
   },
   "outputs": [
    {
     "data": {
      "image/png": "[encoded data removed]",
      "text/plain": [
       "<IPython.core.display.Image object>"
      ]
     },
     "execution_count": 56,
     "metadata": {},
     "output_type": "execute_result"
    }
   ],
   "source": [
    "namepic = \"EX3-pic3.png\"\n",
    "d.WriteDrawingText(namepic)\n",
    "Image(filename=namepic) "
   ]
  },
  {
   "cell_type": "code",
   "execution_count": 147,
   "id": "f67dd67e-7900-408a-8298-637d60fb0d4d",
   "metadata": {
    "tags": []
   },
   "outputs": [],
   "source": [
    "smi2 = 'CCC'\n",
    "mol2 = Chem.MolFromSmiles(smi2)"
   ]
  },
  {
   "cell_type": "code",
   "execution_count": 148,
   "id": "edf550f3-14b5-4ea0-880a-782c90e9bcce",
   "metadata": {
    "tags": []
   },
   "outputs": [],
   "source": [
    "d = rdMolDraw2D.MolDraw2DCairo(250, 200)\n",
    "d.drawOptions().setAtomPalette({0:(0.502, 0.502, 0.502)})\n",
    "d.DrawMolecule(mol2)\n",
    "d.FinishDrawing()"
   ]
  },
  {
   "cell_type": "code",
   "execution_count": 149,
   "id": "c4b05ff1-1ee6-4b64-8631-6a3e13713919",
   "metadata": {
    "tags": []
   },
   "outputs": [
    {
     "data": {
      "image/png": "[encoded data removed]",
      "text/plain": [
       "<IPython.core.display.Image object>"
      ]
     },
     "execution_count": 149,
     "metadata": {},
     "output_type": "execute_result"
    }
   ],
   "source": [
    "namepic = \"EX3-pic3.5.png\"\n",
    "d.WriteDrawingText(namepic)\n",
    "Image(filename=namepic) "
   ]
  },
  {
   "cell_type": "markdown",
   "id": "bdd6a7f6-74f9-4837-995b-dbbe5f78823c",
   "metadata": {
    "tags": []
   },
   "source": [
    "## r = 2"
   ]
  },
  {
   "cell_type": "code",
   "execution_count": 129,
   "id": "ddf28694-5fb2-4bb8-b426-4e9f183e3f00",
   "metadata": {
    "tags": []
   },
   "outputs": [],
   "source": [
    "smi2 = 'CCCC(=O)N |$;;;;;;;;$|'\n",
    "mol2 = Chem.MolFromSmiles(smi2)"
   ]
  },
  {
   "cell_type": "code",
   "execution_count": 130,
   "id": "e1a1f448-62db-49b8-816b-008499a1cf80",
   "metadata": {
    "tags": []
   },
   "outputs": [],
   "source": [
    "d = rdMolDraw2D.MolDraw2DCairo(250, 200)\n",
    "d.drawOptions().setAtomPalette({0:(0.502, 0.502, 0.502)})\n",
    "d.DrawMolecule(mol2)\n",
    "d.FinishDrawing()"
   ]
  },
  {
   "cell_type": "code",
   "execution_count": 131,
   "id": "3a49e10f-d485-4c77-9343-00a134bde103",
   "metadata": {
    "tags": []
   },
   "outputs": [
    {
     "data": {
      "image/png": "[encoded data removed]",
      "text/plain": [
       "<IPython.core.display.Image object>"
      ]
     },
     "execution_count": 131,
     "metadata": {},
     "output_type": "execute_result"
    }
   ],
   "source": [
    "namepic = \"EX3-pic4.png\"\n",
    "d.WriteDrawingText(namepic)\n",
    "Image(filename=namepic) "
   ]
  },
  {
   "cell_type": "markdown",
   "id": "d3668473-cacf-422a-922a-029944c72f13",
   "metadata": {
    "tags": []
   },
   "source": [
    "## Duplicate"
   ]
  },
  {
   "cell_type": "code",
   "execution_count": 59,
   "id": "7a65e2dc-3b0a-45de-9577-596da54293d9",
   "metadata": {
    "tags": []
   },
   "outputs": [
    {
     "data": {
      "image/png": "[encoded data removed]",
      "text/plain": [
       "<IPython.core.display.Image object>"
      ]
     },
     "execution_count": 59,
     "metadata": {},
     "output_type": "execute_result"
    }
   ],
   "source": [
    "smi = 'CCC'\n",
    "mol1 = Chem.MolFromSmiles(smi)\n",
    "mol1.GetAtomWithIdx(0).SetProp('atomNote', '0')\n",
    "mol1.GetAtomWithIdx(1).SetProp('atomNote', '1')\n",
    "mol1.GetAtomWithIdx(2).SetProp('atomNote', '2')\n",
    "\n",
    "d = rdMolDraw2D.MolDraw2DCairo(250, 200)\n",
    "d.drawOptions().setAtomPalette({0:(0.502, 0.502, 0.502)})\n",
    "d.DrawMolecule(mol1)\n",
    "d.FinishDrawing()\n",
    "\n",
    "namepic = \"EX3-pic4.png\"\n",
    "d.WriteDrawingText(namepic)\n",
    "Image(filename=namepic) "
   ]
  },
  {
   "cell_type": "code",
   "execution_count": 62,
   "id": "ec4f575b-3e69-48c7-a81c-24f41adc5f83",
   "metadata": {
    "tags": []
   },
   "outputs": [
    {
     "data": {
      "image/png": "[encoded data removed]",
      "text/plain": [
       "<IPython.core.display.Image object>"
      ]
     },
     "execution_count": 62,
     "metadata": {},
     "output_type": "execute_result"
    }
   ],
   "source": [
    "smi = 'CCC'\n",
    "mol1 = Chem.MolFromSmiles(smi)\n",
    "mol1.GetAtomWithIdx(0).SetProp('atomNote', '3')\n",
    "mol1.GetAtomWithIdx(1).SetProp('atomNote', '2')\n",
    "mol1.GetAtomWithIdx(2).SetProp('atomNote', '1')\n",
    "\n",
    "d = rdMolDraw2D.MolDraw2DCairo(250, 200)\n",
    "d.drawOptions().setAtomPalette({0:(0.502, 0.502, 0.502)})\n",
    "d.drawOptions().rotate = 180\n",
    "d.DrawMolecule(mol1)\n",
    "d.FinishDrawing()\n",
    "\n",
    "namepic = \"EX3-pic5.png\"\n",
    "d.WriteDrawingText(namepic)\n",
    "Image(filename=namepic) "
   ]
  },
  {
   "cell_type": "code",
   "execution_count": 63,
   "id": "fc257237-7460-4932-9f02-f7a113345d14",
   "metadata": {
    "tags": []
   },
   "outputs": [
    {
     "data": {
      "image/png": "[encoded data removed]",
      "text/plain": [
       "<IPython.core.display.Image object>"
      ]
     },
     "execution_count": 63,
     "metadata": {},
     "output_type": "execute_result"
    }
   ],
   "source": [
    "smi = 'CCC'\n",
    "mol1 = Chem.MolFromSmiles(smi)\n",
    "\n",
    "d = rdMolDraw2D.MolDraw2DCairo(250, 200)\n",
    "d.drawOptions().setAtomPalette({0:(0.502, 0.502, 0.502)})\n",
    "d.DrawMolecule(mol1)\n",
    "d.FinishDrawing()\n",
    "\n",
    "namepic = \"EX3-pic6.png\"\n",
    "d.WriteDrawingText(namepic)\n",
    "Image(filename=namepic) "
   ]
  },
  {
   "cell_type": "code",
   "execution_count": 103,
   "id": "d44b15fd-92d1-417b-854e-276bbeeaa2ef",
   "metadata": {
    "tags": []
   },
   "outputs": [],
   "source": [
    "smi = 'CCC'\n",
    "mol1 = Chem.MolFromSmiles(smi)\n",
    "\n",
    "d1 = rdMolDraw2D.MolDraw2DCairo(250, 200)\n",
    "d2 = d1.drawOptions()"
   ]
  },
  {
   "cell_type": "code",
   "execution_count": 115,
   "id": "9e00fe87-381d-48be-a9da-835d269b6eac",
   "metadata": {
    "tags": []
   },
   "outputs": [],
   "source": [
    "d2.scalingFactor = 100"
   ]
  },
  {
   "cell_type": "code",
   "execution_count": 116,
   "id": "aaf1467a-9791-4509-99ee-af6aa56c1407",
   "metadata": {
    "tags": []
   },
   "outputs": [],
   "source": [
    "d1.DrawMolecule(mol1)\n",
    "d3 = d1.FinishDrawing()"
   ]
  },
  {
   "cell_type": "code",
   "execution_count": null,
   "id": "4c653f84-c10d-43ed-b847-4dfdfac8cc67",
   "metadata": {},
   "outputs": [],
   "source": []
  },
  {
   "cell_type": "code",
   "execution_count": 117,
   "id": "15f799e2-ad61-423d-85f9-345f54c5e75e",
   "metadata": {
    "tags": []
   },
   "outputs": [
    {
     "data": {
      "image/png": "[encoded data removed]",
      "text/plain": [
       "<IPython.core.display.Image object>"
      ]
     },
     "execution_count": 117,
     "metadata": {},
     "output_type": "execute_result"
    }
   ],
   "source": [
    "namepic = \"EX3-pic8.png\"\n",
    "d1.WriteDrawingText(namepic)\n",
    "Image(filename=namepic) "
   ]
  },
  {
   "cell_type": "markdown",
   "id": "72f473ad-73a1-4b04-9d57-ae7a837bec11",
   "metadata": {
    "tags": []
   },
   "source": [
    "##  Fingerprint CCCC(=O)N"
   ]
  },
  {
   "cell_type": "code",
   "execution_count": null,
   "id": "bef87ddf-c628-446b-a93b-34d015a7f1b7",
   "metadata": {},
   "outputs": [],
   "source": []
  },
  {
   "cell_type": "code",
   "execution_count": 64,
   "id": "749b342e-1f62-4997-a45f-07fa6bafa2e9",
   "metadata": {
    "tags": []
   },
   "outputs": [],
   "source": [
    "mol1 = Chem.MolFromSmiles('CCCC(=O)N')\n",
    "bit_info1 = {}\n",
    "fp1 = GetHashedMorganFingerprint(mol1, 3,  nBits=1024, bitInfo=bit_info1, useFeatures=True)"
   ]
  },
  {
   "cell_type": "code",
   "execution_count": 65,
   "id": "80aa7a63-6c94-4147-bb1b-3ff896865f5d",
   "metadata": {
    "tags": []
   },
   "outputs": [],
   "source": [
    "count_bit_info_mol1=[]\n",
    "for i in bit_info1:\n",
    "    count_bit_info_mol1.append([i, len(bit_info1[i])])\n",
    "\n",
    "df1 = pd.DataFrame(count_bit_info_mol1)\n",
    "df1 = df1.set_index(0)\n",
    "df1.rename_axis('Bit Index', inplace=True)\n",
    "df1 = df1.rename(columns={1: 'Number in Bit'})"
   ]
  },
  {
   "cell_type": "code",
   "execution_count": 66,
   "id": "8f318fb9-cc49-48e6-9529-1ab31bc56222",
   "metadata": {
    "tags": []
   },
   "outputs": [
    {
     "data": {
      "text/html": [
       "<div>\n",
       "<style scoped>\n",
       "    .dataframe tbody tr th:only-of-type {\n",
       "        vertical-align: middle;\n",
       "    }\n",
       "\n",
       "    .dataframe tbody tr th {\n",
       "        vertical-align: top;\n",
       "    }\n",
       "\n",
       "    .dataframe thead th {\n",
       "        text-align: right;\n",
       "    }\n",
       "</style>\n",
       "<table border=\"1\" class=\"dataframe\">\n",
       "  <thead>\n",
       "    <tr style=\"text-align: right;\">\n",
       "      <th></th>\n",
       "      <th>Number in Bit</th>\n",
       "    </tr>\n",
       "    <tr>\n",
       "      <th>Bit Index</th>\n",
       "      <th></th>\n",
       "    </tr>\n",
       "  </thead>\n",
       "  <tbody>\n",
       "    <tr>\n",
       "      <th>0</th>\n",
       "      <td>4</td>\n",
       "    </tr>\n",
       "    <tr>\n",
       "      <th>1</th>\n",
       "      <td>1</td>\n",
       "    </tr>\n",
       "    <tr>\n",
       "      <th>2</th>\n",
       "      <td>1</td>\n",
       "    </tr>\n",
       "    <tr>\n",
       "      <th>61</th>\n",
       "      <td>1</td>\n",
       "    </tr>\n",
       "    <tr>\n",
       "      <th>124</th>\n",
       "      <td>1</td>\n",
       "    </tr>\n",
       "    <tr>\n",
       "      <th>126</th>\n",
       "      <td>1</td>\n",
       "    </tr>\n",
       "    <tr>\n",
       "      <th>349</th>\n",
       "      <td>1</td>\n",
       "    </tr>\n",
       "    <tr>\n",
       "      <th>539</th>\n",
       "      <td>1</td>\n",
       "    </tr>\n",
       "    <tr>\n",
       "      <th>691</th>\n",
       "      <td>1</td>\n",
       "    </tr>\n",
       "    <tr>\n",
       "      <th>792</th>\n",
       "      <td>2</td>\n",
       "    </tr>\n",
       "    <tr>\n",
       "      <th>1016</th>\n",
       "      <td>1</td>\n",
       "    </tr>\n",
       "  </tbody>\n",
       "</table>\n",
       "</div>"
      ],
      "text/plain": [
       "           Number in Bit\n",
       "Bit Index               \n",
       "0                      4\n",
       "1                      1\n",
       "2                      1\n",
       "61                     1\n",
       "124                    1\n",
       "126                    1\n",
       "349                    1\n",
       "539                    1\n",
       "691                    1\n",
       "792                    2\n",
       "1016                   1"
      ]
     },
     "execution_count": 66,
     "metadata": {},
     "output_type": "execute_result"
    }
   ],
   "source": [
    "df1"
   ]
  },
  {
   "cell_type": "code",
   "execution_count": 68,
   "id": "194be0ad-d6e5-43ad-996f-b4f27a457dcb",
   "metadata": {
    "tags": []
   },
   "outputs": [
    {
     "data": {
      "image/png": "[encoded data removed]",
      "text/plain": [
       "<PIL.PngImagePlugin.PngImageFile image mode=RGB size=900x300>"
      ]
     },
     "execution_count": 68,
     "metadata": {},
     "output_type": "execute_result"
    }
   ],
   "source": [
    "# Inspect Bit\n",
    "mol = mol1\n",
    "bit_info_mol_1 = {}\n",
    "fp_mol = GetHashedMorganFingerprint(mol1, 3, nBits=1024, bitInfo=bit_info_mol_1, useFeatures=True)\n",
    "all_fragments = [(mol1, x, bit_info_mol_1) for x in get_index_of_array_that_contain_1_in_any_position(list(fp_mol))]\n",
    "img1=Draw.DrawMorganBits(all_fragments[:], molsPerRow=6, legends=[str(x) for x in get_index_of_array_that_contain_1_in_any_position(list(fp_mol))][:])\n",
    "img1"
   ]
  },
  {
   "cell_type": "code",
   "execution_count": 83,
   "id": "8e190bde-8008-4786-b69d-a3bc0cd627e2",
   "metadata": {
    "tags": []
   },
   "outputs": [
    {
     "data": {
      "image/png": "[encoded data removed]",
      "text/plain": [
       "<PIL.PngImagePlugin.PngImageFile image mode=RGB size=450x150>"
      ]
     },
     "execution_count": 83,
     "metadata": {},
     "output_type": "execute_result"
    }
   ],
   "source": [
    "img2 = Draw.DrawMorganBits(all_fragments[0:1])\n",
    "img2"
   ]
  },
  {
   "cell_type": "code",
   "execution_count": 84,
   "id": "faa06fb0-e9d2-4511-b432-e26641e18fe0",
   "metadata": {
    "tags": []
   },
   "outputs": [
    {
     "data": {
      "image/png": "[encoded data removed]",
      "text/plain": [
       "<PIL.PngImagePlugin.PngImageFile image mode=RGB size=450x150>"
      ]
     },
     "execution_count": 84,
     "metadata": {},
     "output_type": "execute_result"
    }
   ],
   "source": [
    "img2 = Draw.DrawMorganBits(all_fragments[1:2])\n",
    "img2"
   ]
  },
  {
   "cell_type": "code",
   "execution_count": 85,
   "id": "67b0c6fa-8a02-4422-873f-ac184255de50",
   "metadata": {
    "tags": []
   },
   "outputs": [
    {
     "data": {
      "image/png": "[encoded data removed]",
      "text/plain": [
       "<PIL.PngImagePlugin.PngImageFile image mode=RGB size=450x150>"
      ]
     },
     "execution_count": 85,
     "metadata": {},
     "output_type": "execute_result"
    }
   ],
   "source": [
    "img2 = Draw.DrawMorganBits(all_fragments[2:3])\n",
    "img2"
   ]
  },
  {
   "cell_type": "code",
   "execution_count": 88,
   "id": "aff3797e-97af-4c32-90e7-a08e49d87987",
   "metadata": {
    "tags": []
   },
   "outputs": [
    {
     "data": {
      "image/png": "[encoded data removed]",
      "text/plain": [
       "<PIL.PngImagePlugin.PngImageFile image mode=RGB size=450x150>"
      ]
     },
     "execution_count": 88,
     "metadata": {},
     "output_type": "execute_result"
    }
   ],
   "source": [
    "img2 = Draw.DrawMorganBits(all_fragments[7:8])\n",
    "img2"
   ]
  },
  {
   "cell_type": "code",
   "execution_count": 89,
   "id": "96ab354d-e8e8-42ae-b855-695a1f41ae9e",
   "metadata": {
    "tags": []
   },
   "outputs": [
    {
     "data": {
      "image/png": "[encoded data removed]",
      "text/plain": [
       "<PIL.PngImagePlugin.PngImageFile image mode=RGB size=450x150>"
      ]
     },
     "execution_count": 89,
     "metadata": {},
     "output_type": "execute_result"
    }
   ],
   "source": [
    "img2 = Draw.DrawMorganBits(all_fragments[9:10])\n",
    "img2"
   ]
  },
  {
   "cell_type": "code",
   "execution_count": null,
   "id": "4f85966e-a491-48b4-8566-8ef42a96e6e5",
   "metadata": {},
   "outputs": [],
   "source": []
  },
  {
   "cell_type": "code",
   "execution_count": 69,
   "id": "8a11307b-13b3-4ad8-bbe1-a2c5931f49c5",
   "metadata": {
    "tags": []
   },
   "outputs": [
    {
     "data": {
      "image/png": "[encoded data removed]",
      "text/plain": [
       "<IPython.core.display.Image object>"
      ]
     },
     "execution_count": 69,
     "metadata": {},
     "output_type": "execute_result"
    }
   ],
   "source": [
    "smi = 'CCCC'\n",
    "mol1 = Chem.MolFromSmiles(smi)\n",
    "\n",
    "d = rdMolDraw2D.MolDraw2DCairo(250, 200)\n",
    "d.drawOptions().setAtomPalette({0:(0.502, 0.502, 0.502)})\n",
    "d.DrawMolecule(mol1)\n",
    "d.FinishDrawing()\n",
    "\n",
    "namepic = \"EX3-pic7.png\"\n",
    "d.WriteDrawingText(namepic)\n",
    "Image(filename=namepic) "
   ]
  },
  {
   "cell_type": "markdown",
   "id": "691d618d-0474-4cf4-9648-3abefe9c9536",
   "metadata": {
    "tags": []
   },
   "source": [
    "# Example 3 : Coompare B-MF and C-MF"
   ]
  },
  {
   "cell_type": "code",
   "execution_count": null,
   "id": "0b659973-e7e5-4172-9840-d3b41f7b9612",
   "metadata": {},
   "outputs": [],
   "source": []
  },
  {
   "cell_type": "code",
   "execution_count": 21,
   "id": "a6691d3f-5a3c-43b5-a56e-6ba347abae64",
   "metadata": {
    "tags": []
   },
   "outputs": [],
   "source": [
    "mol1 = Chem.MolFromSmiles('CCC#C')\n",
    "bit_info1 = {}\n",
    "bit_info2 = {}\n",
    "fp1 = GetHashedMorganFingerprint(mol1, 3,  nBits=16, bitInfo=bit_info1, useFeatures=True)\n",
    "fp2 = rdMolDescriptors.GetMorganFingerprintAsBitVect(mol1, radius=3,  nBits=16, bitInfo=bit_info2, useFeatures=True)"
   ]
  },
  {
   "cell_type": "code",
   "execution_count": 22,
   "id": "0943f11f-f391-4e21-835f-fa87f6e85701",
   "metadata": {
    "tags": []
   },
   "outputs": [],
   "source": [
    "count_bit_info_mol1=[]\n",
    "count_bit_info_mol2=[]\n",
    "for i in bit_info1:\n",
    "    count_bit_info_mol1.append([i, len(bit_info1[i])])\n",
    "for i in bit_info2:\n",
    "    count_bit_info_mol2.append([i, len(bit_info2[i])])\n",
    "\n",
    "df1 = pd.DataFrame(count_bit_info_mol1)\n",
    "df1 = df1.set_index(0)\n",
    "df1.rename_axis('Bit Index', inplace=True)\n",
    "df1 = df1.rename(columns={1: 'Number in Bit'})\n",
    "\n",
    "df2 = pd.DataFrame(count_bit_info_mol2)\n",
    "df2 = df2.set_index(0)\n",
    "df2.rename_axis('Bit Index', inplace=True)\n",
    "df2 = df2.rename(columns={1: 'Number in Bit'})"
   ]
  },
  {
   "cell_type": "code",
   "execution_count": 36,
   "id": "a07d3db7-4462-4d40-8b3b-0142ff679fb0",
   "metadata": {
    "tags": []
   },
   "outputs": [
    {
     "data": {
      "text/html": [
       "<div>\n",
       "<style scoped>\n",
       "    .dataframe tbody tr th:only-of-type {\n",
       "        vertical-align: middle;\n",
       "    }\n",
       "\n",
       "    .dataframe tbody tr th {\n",
       "        vertical-align: top;\n",
       "    }\n",
       "\n",
       "    .dataframe thead th {\n",
       "        text-align: right;\n",
       "    }\n",
       "</style>\n",
       "<table border=\"1\" class=\"dataframe\">\n",
       "  <thead>\n",
       "    <tr style=\"text-align: right;\">\n",
       "      <th></th>\n",
       "      <th>Number in Bit</th>\n",
       "    </tr>\n",
       "    <tr>\n",
       "      <th>Bit Index</th>\n",
       "      <th></th>\n",
       "    </tr>\n",
       "  </thead>\n",
       "  <tbody>\n",
       "    <tr>\n",
       "      <th>0</th>\n",
       "      <td>4</td>\n",
       "    </tr>\n",
       "    <tr>\n",
       "      <th>1</th>\n",
       "      <td>2</td>\n",
       "    </tr>\n",
       "    <tr>\n",
       "      <th>2</th>\n",
       "      <td>1</td>\n",
       "    </tr>\n",
       "    <tr>\n",
       "      <th>8</th>\n",
       "      <td>1</td>\n",
       "    </tr>\n",
       "    <tr>\n",
       "      <th>13</th>\n",
       "      <td>1</td>\n",
       "    </tr>\n",
       "  </tbody>\n",
       "</table>\n",
       "</div>"
      ],
      "text/plain": [
       "           Number in Bit\n",
       "Bit Index               \n",
       "0                      4\n",
       "1                      2\n",
       "2                      1\n",
       "8                      1\n",
       "13                     1"
      ]
     },
     "execution_count": 36,
     "metadata": {},
     "output_type": "execute_result"
    }
   ],
   "source": [
    "df1"
   ]
  },
  {
   "cell_type": "code",
   "execution_count": 24,
   "id": "c1ba4d4f-2269-4929-9303-ee86c830e486",
   "metadata": {
    "tags": []
   },
   "outputs": [
    {
     "data": {
      "text/html": [
       "<div>\n",
       "<style scoped>\n",
       "    .dataframe tbody tr th:only-of-type {\n",
       "        vertical-align: middle;\n",
       "    }\n",
       "\n",
       "    .dataframe tbody tr th {\n",
       "        vertical-align: top;\n",
       "    }\n",
       "\n",
       "    .dataframe thead th {\n",
       "        text-align: right;\n",
       "    }\n",
       "</style>\n",
       "<table border=\"1\" class=\"dataframe\">\n",
       "  <thead>\n",
       "    <tr style=\"text-align: right;\">\n",
       "      <th></th>\n",
       "      <th>Number in Bit</th>\n",
       "    </tr>\n",
       "    <tr>\n",
       "      <th>Bit Index</th>\n",
       "      <th></th>\n",
       "    </tr>\n",
       "  </thead>\n",
       "  <tbody>\n",
       "    <tr>\n",
       "      <th>0</th>\n",
       "      <td>4</td>\n",
       "    </tr>\n",
       "    <tr>\n",
       "      <th>1</th>\n",
       "      <td>2</td>\n",
       "    </tr>\n",
       "    <tr>\n",
       "      <th>2</th>\n",
       "      <td>1</td>\n",
       "    </tr>\n",
       "    <tr>\n",
       "      <th>8</th>\n",
       "      <td>1</td>\n",
       "    </tr>\n",
       "    <tr>\n",
       "      <th>13</th>\n",
       "      <td>1</td>\n",
       "    </tr>\n",
       "  </tbody>\n",
       "</table>\n",
       "</div>"
      ],
      "text/plain": [
       "           Number in Bit\n",
       "Bit Index               \n",
       "0                      4\n",
       "1                      2\n",
       "2                      1\n",
       "8                      1\n",
       "13                     1"
      ]
     },
     "execution_count": 24,
     "metadata": {},
     "output_type": "execute_result"
    }
   ],
   "source": [
    "df2"
   ]
  },
  {
   "cell_type": "code",
   "execution_count": 25,
   "id": "c6154b0a-07e6-4a1b-aa35-0200168290f9",
   "metadata": {
    "tags": []
   },
   "outputs": [
    {
     "data": {
      "text/plain": [
       "array(<rdkit.DataStructs.cDataStructs.UIntSparseIntVect object at 0x000001568A3B2030>,\n",
       "      dtype=object)"
      ]
     },
     "execution_count": 25,
     "metadata": {},
     "output_type": "execute_result"
    }
   ],
   "source": [
    "np.array(fp1)"
   ]
  },
  {
   "cell_type": "code",
   "execution_count": 26,
   "id": "3adcb97c-93f9-49c9-9e42-45bb2ff6711c",
   "metadata": {
    "tags": []
   },
   "outputs": [
    {
     "data": {
      "text/plain": [
       "array([1, 1, 1, 0, 0, 0, 0, 0, 1, 0, 0, 0, 0, 1, 0, 0])"
      ]
     },
     "execution_count": 26,
     "metadata": {},
     "output_type": "execute_result"
    }
   ],
   "source": [
    "np.array(fp2)"
   ]
  },
  {
   "cell_type": "code",
   "execution_count": 27,
   "id": "6a63a0b2-ceec-4ed8-922f-01d17a9bedf4",
   "metadata": {
    "tags": []
   },
   "outputs": [
    {
     "data": {
      "text/plain": [
       "<rdkit.DataStructs.cDataStructs.UIntSparseIntVect at 0x1568a3b2030>"
      ]
     },
     "execution_count": 27,
     "metadata": {},
     "output_type": "execute_result"
    }
   ],
   "source": [
    "fp1"
   ]
  },
  {
   "cell_type": "code",
   "execution_count": 28,
   "id": "ae2f3ebd-b074-464d-9553-fa7d14c1a243",
   "metadata": {
    "tags": []
   },
   "outputs": [],
   "source": [
    "import numpy as np\n",
    "from rdkit import DataStructs\n",
    "\n",
    "# Create a UIntSparseIntVect object\n",
    "fp = DataStructs.UIntSparseIntVect(1024)\n",
    "\n",
    "# Convert the UIntSparseIntVect object to a NumPy array\n",
    "array = np.zeros((0,), dtype=np.int8)\n",
    "DataStructs.ConvertToNumpyArray(fp1, array)"
   ]
  },
  {
   "cell_type": "code",
   "execution_count": 29,
   "id": "c29af191-073c-4b48-9a80-ac3bfadb06a1",
   "metadata": {
    "tags": []
   },
   "outputs": [
    {
     "data": {
      "text/plain": [
       "array([4, 2, 1, 0, 0, 0, 0, 0, 1, 0, 0, 0, 0, 1, 0, 0], dtype=int8)"
      ]
     },
     "execution_count": 29,
     "metadata": {},
     "output_type": "execute_result"
    }
   ],
   "source": [
    "array"
   ]
  },
  {
   "cell_type": "code",
   "execution_count": 30,
   "id": "7bced941-8433-49bb-93fa-83dc17605b61",
   "metadata": {
    "tags": []
   },
   "outputs": [],
   "source": [
    "import numpy as np\n",
    "from rdkit import DataStructs\n",
    "\n",
    "# Create a UIntSparseIntVect object\n",
    "fp = DataStructs.UIntSparseIntVect(1024)\n",
    "\n",
    "# Convert the UIntSparseIntVect object to a NumPy array\n",
    "array = np.zeros((0,), dtype=np.int8)\n",
    "DataStructs.ConvertToNumpyArray(fp2, array)"
   ]
  },
  {
   "cell_type": "code",
   "execution_count": 31,
   "id": "10b0c114-e7d3-4df1-b598-69e1a28c474c",
   "metadata": {
    "tags": []
   },
   "outputs": [
    {
     "data": {
      "text/plain": [
       "array([1, 1, 1, 0, 0, 0, 0, 0, 1, 0, 0, 0, 0, 1, 0, 0], dtype=int8)"
      ]
     },
     "execution_count": 31,
     "metadata": {},
     "output_type": "execute_result"
    }
   ],
   "source": [
    "array"
   ]
  },
  {
   "cell_type": "code",
   "execution_count": null,
   "id": "ba4c7a9d-c974-4208-9fd8-a87b61d40860",
   "metadata": {},
   "outputs": [],
   "source": []
  },
  {
   "cell_type": "markdown",
   "id": "a6d9f7eb-54d4-4e89-92d5-242a9ee17e33",
   "metadata": {
    "tags": []
   },
   "source": [
    "# Test Function"
   ]
  },
  {
   "cell_type": "code",
   "execution_count": 68,
   "id": "61ce2d0e-fe34-4c99-8758-1fe6cf922771",
   "metadata": {
    "tags": []
   },
   "outputs": [
    {
     "data": {
      "text/plain": [
       "0.028991596638655463"
      ]
     },
     "execution_count": 68,
     "metadata": {},
     "output_type": "execute_result"
    }
   ],
   "source": [
    "mean_absolute_percentage_error([340,350],[350,360])"
   ]
  },
  {
   "cell_type": "code",
   "execution_count": 67,
   "id": "e86f52c4-81ac-4dad-b3f1-24cb8f62e83b",
   "metadata": {
    "tags": []
   },
   "outputs": [
    {
     "data": {
      "text/plain": [
       "0.028991596638655463"
      ]
     },
     "execution_count": 67,
     "metadata": {},
     "output_type": "execute_result"
    }
   ],
   "source": [
    "(abs(340-350)/340+abs(350-360)/350)/2"
   ]
  },
  {
   "cell_type": "code",
   "execution_count": 66,
   "id": "0c87b8cd-1d61-4d2f-88bf-307dc481ed72",
   "metadata": {
    "tags": []
   },
   "outputs": [
    {
     "data": {
      "text/plain": [
       "0.02857142857142857"
      ]
     },
     "execution_count": 66,
     "metadata": {},
     "output_type": "execute_result"
    }
   ],
   "source": []
  },
  {
   "cell_type": "code",
   "execution_count": null,
   "id": "97bdd888-9145-4a43-bfd8-b3474612fe8d",
   "metadata": {},
   "outputs": [],
   "source": []
  },
  {
   "cell_type": "code",
   "execution_count": 49,
   "id": "94b0b1eb-c7dc-43d7-9f77-e307da4d8d5c",
   "metadata": {
    "tags": []
   },
   "outputs": [
    {
     "data": {
      "text/plain": [
       "1.5"
      ]
     },
     "execution_count": 49,
     "metadata": {},
     "output_type": "execute_result"
    }
   ],
   "source": [
    "mean_absolute_percentage_error([2],[5])"
   ]
  },
  {
   "cell_type": "code",
   "execution_count": 50,
   "id": "48a0c47d-a8ad-4144-b293-5d3636ad6e8b",
   "metadata": {
    "tags": []
   },
   "outputs": [
    {
     "data": {
      "text/plain": [
       "1.5"
      ]
     },
     "execution_count": 50,
     "metadata": {},
     "output_type": "execute_result"
    }
   ],
   "source": [
    "abs(2-5)/2"
   ]
  },
  {
   "cell_type": "code",
   "execution_count": 23,
   "id": "7358cee3-4cd4-47cc-bed6-df1f156e50bd",
   "metadata": {
    "tags": []
   },
   "outputs": [],
   "source": [
    "smi2 = '*CCC(=*)*'\n",
    "mol2 = Chem.MolFromSmiles(smi2)\n",
    "d2 = rdMolDraw2D.MolDraw2DCairo(250, 250)\n",
    "rdMolDraw2D.PrepareAndDrawMolecule(d2,mol2)\n",
    "d2.WriteDrawingText(\"EX2-pic2.png\")"
   ]
  },
  {
   "cell_type": "code",
   "execution_count": 24,
   "id": "f3cba19d-b772-4557-9de4-01b9f4bbca27",
   "metadata": {
    "tags": []
   },
   "outputs": [
    {
     "data": {
      "image/png": "[encoded data removed]",
      "text/plain": [
       "<IPython.core.display.Image object>"
      ]
     },
     "execution_count": 24,
     "metadata": {},
     "output_type": "execute_result"
    }
   ],
   "source": [
    "Image(filename='EX2-pic2.png') "
   ]
  },
  {
   "cell_type": "code",
   "execution_count": null,
   "id": "ca2ecad9-52ec-4977-a4a5-59afb39b3d38",
   "metadata": {},
   "outputs": [],
   "source": []
  }
 ],
 "metadata": {
  "kernelspec": {
   "display_name": "Python 3 (ipykernel)",
   "language": "python",
   "name": "python3"
  },
  "language_info": {
   "codemirror_mode": {
    "name": "ipython",
    "version": 3
   },
   "file_extension": ".py",
   "mimetype": "text/x-python",
   "name": "python",
   "nbconvert_exporter": "python",
   "pygments_lexer": "ipython3",
   "version": "3.11.4"
  },
  "toc-autonumbering": false
 },
 "nbformat": 4,
 "nbformat_minor": 5
}
