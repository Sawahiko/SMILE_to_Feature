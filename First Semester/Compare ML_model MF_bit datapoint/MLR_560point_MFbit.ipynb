{
 "cells": [
  {
   "cell_type": "code",
   "execution_count": 136,
   "id": "85c3f1c2-34e9-429c-bfe4-ed956412f942",
   "metadata": {
    "execution": {
     "iopub.execute_input": "2023-09-15T14:09:34.214536Z",
     "iopub.status.busy": "2023-09-15T14:09:34.213538Z",
     "iopub.status.idle": "2023-09-15T14:09:34.222712Z",
     "shell.execute_reply": "2023-09-15T14:09:34.221724Z",
     "shell.execute_reply.started": "2023-09-15T14:09:34.214536Z"
    },
    "tags": []
   },
   "outputs": [],
   "source": [
    "# Python\n",
    "import numpy as np\n",
    "import pandas as pd\n",
    "import matplotlib.pyplot as plt\n",
    "import matplotlib.patches as mpatches\n",
    "import seaborn as sn\n",
    "\n",
    "# Machine Learning\n",
    "from sklearn.linear_model import LinearRegression\n",
    "from sklearn.model_selection import train_test_split\n",
    "from sklearn.metrics import mean_absolute_percentage_error, mean_squared_error, r2_score\n",
    "\n",
    "# RDKit\n",
    "from rdkit.Chem import Descriptors\n",
    "from rdkit.ML.Descriptors import MoleculeDescriptors\n",
    "from rdkit.Chem import rdMolDescriptors\n",
    "from rdkit.Chem import AllChem\n",
    "from rdkit import Chem\n",
    "from rdkit.Chem import Descriptors\n",
    "from rdkit.ML.Descriptors import MoleculeDescriptors"
   ]
  },
  {
   "cell_type": "markdown",
   "id": "07f4d770-0738-467d-9864-3b777922f9d7",
   "metadata": {
    "execution": {
     "iopub.execute_input": "2023-09-15T12:29:51.595084Z",
     "iopub.status.busy": "2023-09-15T12:29:51.594094Z",
     "iopub.status.idle": "2023-09-15T12:29:51.600091Z",
     "shell.execute_reply": "2023-09-15T12:29:51.599089Z",
     "shell.execute_reply.started": "2023-09-15T12:29:51.595084Z"
    },
    "tags": []
   },
   "source": [
    "# ML-MLR"
   ]
  },
  {
   "cell_type": "code",
   "execution_count": 137,
   "id": "ea9e45f1-c9ee-43e9-a961-faa15a8f6fce",
   "metadata": {
    "execution": {
     "iopub.execute_input": "2023-09-15T14:09:34.224713Z",
     "iopub.status.busy": "2023-09-15T14:09:34.223711Z",
     "iopub.status.idle": "2023-09-15T14:09:34.308160Z",
     "shell.execute_reply": "2023-09-15T14:09:34.308160Z",
     "shell.execute_reply.started": "2023-09-15T14:09:34.224713Z"
    },
    "tags": []
   },
   "outputs": [
    {
     "data": {
      "text/plain": [
       "''"
      ]
     },
     "execution_count": 137,
     "metadata": {},
     "output_type": "execute_result"
    }
   ],
   "source": [
    "\"\""
   ]
  },
  {
   "cell_type": "code",
   "execution_count": 138,
   "id": "1ec8fa15-f974-4731-bbf9-a29ec9ac011d",
   "metadata": {
    "execution": {
     "iopub.execute_input": "2023-09-15T14:09:34.310155Z",
     "iopub.status.busy": "2023-09-15T14:09:34.310155Z",
     "iopub.status.idle": "2023-09-15T14:09:34.408047Z",
     "shell.execute_reply": "2023-09-15T14:09:34.408047Z",
     "shell.execute_reply.started": "2023-09-15T14:09:34.310155Z"
    },
    "tags": []
   },
   "outputs": [],
   "source": [
    "# %% Setup\n",
    "MF_bit = 2**10"
   ]
  },
  {
   "cell_type": "code",
   "execution_count": 139,
   "id": "14f4ba22-b446-48bc-b395-5efb7ecc32cf",
   "metadata": {
    "execution": {
     "iopub.execute_input": "2023-09-15T14:09:34.411041Z",
     "iopub.status.busy": "2023-09-15T14:09:34.411041Z",
     "iopub.status.idle": "2023-09-15T14:09:34.732145Z",
     "shell.execute_reply": "2023-09-15T14:09:34.732145Z",
     "shell.execute_reply.started": "2023-09-15T14:09:34.411041Z"
    },
    "tags": []
   },
   "outputs": [],
   "source": [
    "# %% Import Data : 560 datapoint\n",
    "#Import Data\n",
    "df = pd.read_excel(\"../DataTb.xlsx\",sheet_name=\"AllDataSet\")\n",
    "\n",
    "#Select feature for data: X=SMILE, Y=Tb\n",
    "X_data_excel= df[[\"SMILES\"]]\n",
    "Y_data= df[\"Tb\"]\n",
    "\n",
    "#>>> SHOW X_Data, Y_data"
   ]
  },
  {
   "cell_type": "code",
   "execution_count": 140,
   "id": "b8c82328-fbb0-4bac-a877-b0511d7844ba",
   "metadata": {
    "execution": {
     "iopub.execute_input": "2023-09-15T14:09:34.734136Z",
     "iopub.status.busy": "2023-09-15T14:09:34.733138Z",
     "iopub.status.idle": "2023-09-15T14:09:34.739959Z",
     "shell.execute_reply": "2023-09-15T14:09:34.739959Z",
     "shell.execute_reply.started": "2023-09-15T14:09:34.734136Z"
    },
    "tags": []
   },
   "outputs": [
    {
     "data": {
      "text/plain": [
       "''"
      ]
     },
     "execution_count": 140,
     "metadata": {},
     "output_type": "execute_result"
    }
   ],
   "source": [
    "\"\""
   ]
  },
  {
   "cell_type": "code",
   "execution_count": 141,
   "id": "8df5a649-df7e-485c-8019-83e966bbe194",
   "metadata": {
    "execution": {
     "iopub.execute_input": "2023-09-15T14:09:34.743949Z",
     "iopub.status.busy": "2023-09-15T14:09:34.741947Z",
     "iopub.status.idle": "2023-09-15T14:09:35.507957Z",
     "shell.execute_reply": "2023-09-15T14:09:35.507957Z",
     "shell.execute_reply.started": "2023-09-15T14:09:34.743949Z"
    },
    "tags": []
   },
   "outputs": [],
   "source": [
    "# %% Data Preparation\n",
    "#Generate Fingerprint from SMILE\n",
    "X_data_use = X_data_excel.copy()\n",
    "X_data_use[\"molecule\"] = X_data_use[\"SMILES\"].apply(lambda x: Chem.MolFromSmiles(x))\n",
    "X_data_use[\"morgan_fp\"] = X_data_use[\"molecule\"].apply(lambda x: rdMolDescriptors.GetMorganFingerprintAsBitVect(x, radius=4, nBits=MF_bit, useFeatures=True, useChirality=True))\n",
    "\n",
    "#>>> SHOW X_data_use \n",
    "\n",
    "#Transfrom Fingerprint to Column in DataFrame\n",
    "X_data_fp = []\n",
    "for i in range(X_data_use.shape[0]):\n",
    "    array = np.array(X_data_use[\"morgan_fp\"][i])\n",
    "    datafram_i = pd.DataFrame(array)\n",
    "    datafram_i = datafram_i.T\n",
    "    X_data_fp.append(datafram_i)\n",
    "X_data_fp = pd.concat(X_data_fp, ignore_index=True)\n",
    "X_data_ML = pd.concat([X_data_use, X_data_fp], axis=1, join='inner')\n",
    "\n",
    "Y_data_ML = Y_data.copy()\n",
    "\n",
    "#>>>  SHOW X_data_fp, Y_data_fp"
   ]
  },
  {
   "cell_type": "code",
   "execution_count": 142,
   "id": "408ccaec-eb25-4b77-a184-c55cf18e4098",
   "metadata": {
    "execution": {
     "iopub.execute_input": "2023-09-15T14:09:35.509950Z",
     "iopub.status.busy": "2023-09-15T14:09:35.509950Z",
     "iopub.status.idle": "2023-09-15T14:09:35.533054Z",
     "shell.execute_reply": "2023-09-15T14:09:35.532062Z",
     "shell.execute_reply.started": "2023-09-15T14:09:35.509950Z"
    },
    "tags": []
   },
   "outputs": [],
   "source": [
    "# %% Train test split\n",
    "\n",
    "X_train_ML, X_test_ML, y_train_ML, y_test_ML = train_test_split(X_data_ML, Y_data_ML,test_size=0.25,random_state=42)\n",
    "\n",
    "X_train = X_train_ML.copy().drop(columns = {\"SMILES\", \"molecule\", \"morgan_fp\"})\n",
    "X_test = X_test_ML.copy().drop(columns = {\"SMILES\", \"molecule\", \"morgan_fp\"})\n",
    "x_total = X_data_ML.copy().drop(columns = {\"SMILES\", \"molecule\", \"morgan_fp\"})\n",
    "\n",
    "y_train = y_train_ML.copy()\n",
    "y_test = y_test_ML.copy()\n",
    "y_total = Y_data_ML.copy()\n",
    "\n",
    "# >>> EXAMPLE SHOW {X, Y} of {TRAIN TEST TOTAL}"
   ]
  },
  {
   "cell_type": "code",
   "execution_count": 143,
   "id": "cacebfd5-ec1f-4cd7-8527-3343336f611c",
   "metadata": {
    "execution": {
     "iopub.execute_input": "2023-09-15T14:09:35.535054Z",
     "iopub.status.busy": "2023-09-15T14:09:35.534055Z",
     "iopub.status.idle": "2023-09-15T14:09:35.634669Z",
     "shell.execute_reply": "2023-09-15T14:09:35.634669Z",
     "shell.execute_reply.started": "2023-09-15T14:09:35.535054Z"
    },
    "tags": []
   },
   "outputs": [
    {
     "data": {
      "text/plain": [
       "''"
      ]
     },
     "execution_count": 143,
     "metadata": {},
     "output_type": "execute_result"
    }
   ],
   "source": [
    "\"\""
   ]
  },
  {
   "cell_type": "code",
   "execution_count": 144,
   "id": "9bb9a6cd-866c-4742-b03d-02772800da57",
   "metadata": {
    "execution": {
     "iopub.execute_input": "2023-09-15T14:09:35.636663Z",
     "iopub.status.busy": "2023-09-15T14:09:35.635661Z",
     "iopub.status.idle": "2023-09-15T14:09:35.812233Z",
     "shell.execute_reply": "2023-09-15T14:09:35.812233Z",
     "shell.execute_reply.started": "2023-09-15T14:09:35.636663Z"
    },
    "tags": []
   },
   "outputs": [
    {
     "data": {
      "text/html": [
       "<style>#sk-container-id-13 {color: black;}#sk-container-id-13 pre{padding: 0;}#sk-container-id-13 div.sk-toggleable {background-color: white;}#sk-container-id-13 label.sk-toggleable__label {cursor: pointer;display: block;width: 100%;margin-bottom: 0;padding: 0.3em;box-sizing: border-box;text-align: center;}#sk-container-id-13 label.sk-toggleable__label-arrow:before {content: \"▸\";float: left;margin-right: 0.25em;color: #696969;}#sk-container-id-13 label.sk-toggleable__label-arrow:hover:before {color: black;}#sk-container-id-13 div.sk-estimator:hover label.sk-toggleable__label-arrow:before {color: black;}#sk-container-id-13 div.sk-toggleable__content {max-height: 0;max-width: 0;overflow: hidden;text-align: left;background-color: #f0f8ff;}#sk-container-id-13 div.sk-toggleable__content pre {margin: 0.2em;color: black;border-radius: 0.25em;background-color: #f0f8ff;}#sk-container-id-13 input.sk-toggleable__control:checked~div.sk-toggleable__content {max-height: 200px;max-width: 100%;overflow: auto;}#sk-container-id-13 input.sk-toggleable__control:checked~label.sk-toggleable__label-arrow:before {content: \"▾\";}#sk-container-id-13 div.sk-estimator input.sk-toggleable__control:checked~label.sk-toggleable__label {background-color: #d4ebff;}#sk-container-id-13 div.sk-label input.sk-toggleable__control:checked~label.sk-toggleable__label {background-color: #d4ebff;}#sk-container-id-13 input.sk-hidden--visually {border: 0;clip: rect(1px 1px 1px 1px);clip: rect(1px, 1px, 1px, 1px);height: 1px;margin: -1px;overflow: hidden;padding: 0;position: absolute;width: 1px;}#sk-container-id-13 div.sk-estimator {font-family: monospace;background-color: #f0f8ff;border: 1px dotted black;border-radius: 0.25em;box-sizing: border-box;margin-bottom: 0.5em;}#sk-container-id-13 div.sk-estimator:hover {background-color: #d4ebff;}#sk-container-id-13 div.sk-parallel-item::after {content: \"\";width: 100%;border-bottom: 1px solid gray;flex-grow: 1;}#sk-container-id-13 div.sk-label:hover label.sk-toggleable__label {background-color: #d4ebff;}#sk-container-id-13 div.sk-serial::before {content: \"\";position: absolute;border-left: 1px solid gray;box-sizing: border-box;top: 0;bottom: 0;left: 50%;z-index: 0;}#sk-container-id-13 div.sk-serial {display: flex;flex-direction: column;align-items: center;background-color: white;padding-right: 0.2em;padding-left: 0.2em;position: relative;}#sk-container-id-13 div.sk-item {position: relative;z-index: 1;}#sk-container-id-13 div.sk-parallel {display: flex;align-items: stretch;justify-content: center;background-color: white;position: relative;}#sk-container-id-13 div.sk-item::before, #sk-container-id-13 div.sk-parallel-item::before {content: \"\";position: absolute;border-left: 1px solid gray;box-sizing: border-box;top: 0;bottom: 0;left: 50%;z-index: -1;}#sk-container-id-13 div.sk-parallel-item {display: flex;flex-direction: column;z-index: 1;position: relative;background-color: white;}#sk-container-id-13 div.sk-parallel-item:first-child::after {align-self: flex-end;width: 50%;}#sk-container-id-13 div.sk-parallel-item:last-child::after {align-self: flex-start;width: 50%;}#sk-container-id-13 div.sk-parallel-item:only-child::after {width: 0;}#sk-container-id-13 div.sk-dashed-wrapped {border: 1px dashed gray;margin: 0 0.4em 0.5em 0.4em;box-sizing: border-box;padding-bottom: 0.4em;background-color: white;}#sk-container-id-13 div.sk-label label {font-family: monospace;font-weight: bold;display: inline-block;line-height: 1.2em;}#sk-container-id-13 div.sk-label-container {text-align: center;}#sk-container-id-13 div.sk-container {/* jupyter's `normalize.less` sets `[hidden] { display: none; }` but bootstrap.min.css set `[hidden] { display: none !important; }` so we also need the `!important` here to be able to override the default hidden behavior on the sphinx rendered scikit-learn.org. See: https://github.com/scikit-learn/scikit-learn/issues/21755 */display: inline-block !important;position: relative;}#sk-container-id-13 div.sk-text-repr-fallback {display: none;}</style><div id=\"sk-container-id-13\" class=\"sk-top-container\"><div class=\"sk-text-repr-fallback\"><pre>LinearRegression()</pre><b>In a Jupyter environment, please rerun this cell to show the HTML representation or trust the notebook. <br />On GitHub, the HTML representation is unable to render, please try loading this page with nbviewer.org.</b></div><div class=\"sk-container\" hidden><div class=\"sk-item\"><div class=\"sk-estimator sk-toggleable\"><input class=\"sk-toggleable__control sk-hidden--visually\" id=\"sk-estimator-id-13\" type=\"checkbox\" checked><label for=\"sk-estimator-id-13\" class=\"sk-toggleable__label sk-toggleable__label-arrow\">LinearRegression</label><div class=\"sk-toggleable__content\"><pre>LinearRegression()</pre></div></div></div></div></div>"
      ],
      "text/plain": [
       "LinearRegression()"
      ]
     },
     "execution_count": 144,
     "metadata": {},
     "output_type": "execute_result"
    }
   ],
   "source": [
    "# %%  Modeling\n",
    "Linear = LinearRegression()\n",
    "Linear.fit(X_train, y_train)"
   ]
  },
  {
   "cell_type": "code",
   "execution_count": 145,
   "id": "4dbd346d-1b7f-4c9c-8140-23b9c2235de5",
   "metadata": {
    "execution": {
     "iopub.execute_input": "2023-09-15T14:09:35.816227Z",
     "iopub.status.busy": "2023-09-15T14:09:35.816227Z",
     "iopub.status.idle": "2023-09-15T14:09:35.998960Z",
     "shell.execute_reply": "2023-09-15T14:09:35.998960Z",
     "shell.execute_reply.started": "2023-09-15T14:09:35.816227Z"
    },
    "tags": []
   },
   "outputs": [
    {
     "data": {
      "text/plain": [
       "''"
      ]
     },
     "execution_count": 145,
     "metadata": {},
     "output_type": "execute_result"
    }
   ],
   "source": [
    "\"\""
   ]
  },
  {
   "cell_type": "code",
   "execution_count": 146,
   "id": "5f4d4a61-5a94-4cf5-9ede-2a2331622812",
   "metadata": {
    "execution": {
     "iopub.execute_input": "2023-09-15T14:09:36.000956Z",
     "iopub.status.busy": "2023-09-15T14:09:35.999952Z",
     "iopub.status.idle": "2023-09-15T14:09:36.151459Z",
     "shell.execute_reply": "2023-09-15T14:09:36.151459Z",
     "shell.execute_reply.started": "2023-09-15T14:09:36.000956Z"
    },
    "tags": []
   },
   "outputs": [],
   "source": [
    "# %%   Validation with Error Metrics\n",
    "mape_train_table = []\n",
    "rmse_train_table = []\n",
    "r2_train_table   = []\n",
    "\n",
    "# Train set\n",
    "y_predict_train = Linear.predict(X_train)\n",
    "mape_train = mean_absolute_percentage_error(y_train, y_predict_train)\n",
    "rmse_train = np.sqrt(mean_squared_error(y_train, y_predict_train))\n",
    "R2_train = r2_score(y_train, y_predict_train)\n",
    "\n",
    "mape_train_table.append(mape_train)\n",
    "rmse_train_table.append(rmse_train)\n",
    "r2_train_table.append(R2_train)\n",
    "\n",
    "# Test set\n",
    "y_predict_test = Linear.predict(X_test)\n",
    "mape_test = mean_absolute_percentage_error(y_test, y_predict_test)\n",
    "rmse_test = np.sqrt(mean_squared_error(y_test, y_predict_test))\n",
    "R2_test = r2_score(y_test, y_predict_test)\n",
    "\n",
    "mape_train_table.append(mape_test)\n",
    "rmse_train_table.append(rmse_test)\n",
    "r2_train_table.append(R2_test)\n",
    "\n",
    "# Total set\n",
    "y_predict_total = Linear.predict(x_total)\n",
    "mape_total = mean_absolute_percentage_error(y_total, y_predict_total)\n",
    "rmse_total = np.sqrt(mean_squared_error(y_total, y_predict_total))\n",
    "R2_total = r2_score(y_total, y_predict_total)\n",
    "\n",
    "mape_train_table.append(mape_total)\n",
    "rmse_train_table.append(rmse_total)\n",
    "r2_train_table.append(R2_total)"
   ]
  },
  {
   "cell_type": "code",
   "execution_count": 147,
   "id": "7446231d-e25a-4c04-8322-cd2c806bc581",
   "metadata": {
    "execution": {
     "iopub.execute_input": "2023-09-15T14:09:36.153450Z",
     "iopub.status.busy": "2023-09-15T14:09:36.152448Z",
     "iopub.status.idle": "2023-09-15T14:09:36.263530Z",
     "shell.execute_reply": "2023-09-15T14:09:36.263530Z",
     "shell.execute_reply.started": "2023-09-15T14:09:36.153450Z"
    },
    "tags": []
   },
   "outputs": [],
   "source": [
    "# %% Store score y_predict\n",
    "# Table Score\n",
    "Score_Table = pd.DataFrame()\n",
    "data = {\n",
    "        \"MAPE\":mape_train_table,\n",
    "        \"RMSE\":rmse_train_table,\n",
    "        \"R2\"  :r2_train_table\n",
    "    }\n",
    "Score_Table = pd.DataFrame(data)\n",
    "\n",
    "# Train predict Table\n",
    "Train_Table = pd.DataFrame()\n",
    "data = {\n",
    "        \"X\" :X_train_ML[\"SMILES\"],\n",
    "        \"Y\"  :y_train,\n",
    "        \"Y_predict\" :y_predict_train\n",
    "    }\n",
    "Train_Table = pd.DataFrame(data)\n",
    "\n",
    "# Test predict Table\n",
    "Test_Table = pd.DataFrame()\n",
    "data = {\n",
    "        \"X\" :X_test_ML[\"SMILES\"],\n",
    "        \"Y\"  :y_test,\n",
    "        \"Y_predict\" :y_predict_test\n",
    "    }\n",
    "Test_Table = pd.DataFrame(data)\n",
    "\n",
    "# Total predict Table\n",
    "Total_Table = pd.DataFrame()\n",
    "data = {\n",
    "        \"X\" :X_data_ML[\"SMILES\"],\n",
    "        \"Y\"  :y_total,\n",
    "        \"Y_predict\" :y_predict_total\n",
    "    }\n",
    "Total_Table = pd.DataFrame(data)"
   ]
  },
  {
   "cell_type": "code",
   "execution_count": 148,
   "id": "387ea0bd-0aa2-40d6-9248-a177697dcc0b",
   "metadata": {
    "execution": {
     "iopub.execute_input": "2023-09-15T14:09:36.265524Z",
     "iopub.status.busy": "2023-09-15T14:09:36.264523Z",
     "iopub.status.idle": "2023-09-15T14:09:37.203191Z",
     "shell.execute_reply": "2023-09-15T14:09:37.203191Z",
     "shell.execute_reply.started": "2023-09-15T14:09:36.265524Z"
    },
    "tags": []
   },
   "outputs": [],
   "source": [
    "# %%  Export To Excel\n",
    "with pd.ExcelWriter(\"MLR_560point_x_bit.xlsx\",mode='a') as writer:  \n",
    "    Train_Table.to_excel(writer, sheet_name=f'{MF_bit}_bit_Train_Prediction')\n",
    "    Test_Table.to_excel(writer, sheet_name=f'{MF_bit}_bit_Test_Prediction')\n",
    "    Total_Table.to_excel(writer, sheet_name=f'{MF_bit}_bit_Total_Prediction')\n",
    "    \n",
    "    Score_Table.to_excel(writer, sheet_name=f'{MF_bit}_bit_Score')"
   ]
  },
  {
   "cell_type": "code",
   "execution_count": null,
   "id": "610b4543-be37-4693-97ba-9eca44791349",
   "metadata": {},
   "outputs": [],
   "source": []
  }
 ],
 "metadata": {
  "kernelspec": {
   "display_name": "Python 3 (ipykernel)",
   "language": "python",
   "name": "python3"
  },
  "language_info": {
   "codemirror_mode": {
    "name": "ipython",
    "version": 3
   },
   "file_extension": ".py",
   "mimetype": "text/x-python",
   "name": "python",
   "nbconvert_exporter": "python",
   "pygments_lexer": "ipython3",
   "version": "3.11.4"
  }
 },
 "nbformat": 4,
 "nbformat_minor": 5
}
