{
 "cells": [
  {
   "cell_type": "code",
   "execution_count": 1,
   "id": "62d29db6-a470-422b-b0b6-a26712de43c0",
   "metadata": {
    "id": "5QKaKQNzGN7T",
    "tags": []
   },
   "outputs": [],
   "source": [
    "# https://www.rdkit.org/\n",
    "import rdkit\n",
    "#https://github.com/rdkit/rdkit\n",
    "from rdkit.Chem import AllChem\n",
    "from rdkit import Chem\n",
    "from rdkit.Chem import Descriptors\n",
    "from rdkit.ML.Descriptors import MoleculeDescriptors\n",
    "# https://pandas.pydata.org\n",
    "import pandas as pd\n",
    "\n",
    "# https://numpy.org/doc/stable/release.html\n",
    "import numpy as np\n",
    "\n",
    "#https://github.com/mordred-descriptor/mordred\n",
    "#from mordred import Calculator, descriptors\n",
    "\n",
    "from rdkit.Chem import Draw\n",
    "from rdkit.Chem.Draw import rdMolDraw2D"
   ]
  },
  {
   "cell_type": "code",
   "execution_count": 2,
   "id": "4402e429-5703-4ce6-bfcb-94280b58dd14",
   "metadata": {
    "tags": []
   },
   "outputs": [],
   "source": [
    "import pandas as pd\n",
    "import numpy as np\n",
    "import seaborn as sn\n",
    "import matplotlib.pyplot as plt\n",
    "#---------------------- RDKit packages\n",
    "from rdkit.Chem import AllChem\n",
    "from rdkit.Chem import rdMolDescriptors\n",
    "from rdkit.Chem.Draw import IPythonConsole\n",
    "from rdkit.Chem import Draw\n",
    "from rdkit import DataStructs\n",
    "from rdkit.ML.Cluster import Butina\n",
    "#------------------- progress bar\n",
    "from tqdm import tqdm\n",
    "#------------------- hide warning\n",
    "import warnings\n",
    "warnings.filterwarnings('ignore')"
   ]
  },
  {
   "cell_type": "code",
   "execution_count": 3,
   "id": "b53f6c35-e00c-4086-b82b-3363106ffb15",
   "metadata": {
    "tags": []
   },
   "outputs": [],
   "source": [
    "from rdkit.Chem.Draw import IPythonConsole\n",
    "from ipywidgets import interact,fixed,IntSlider"
   ]
  },
  {
   "cell_type": "code",
   "execution_count": 4,
   "id": "b2286f95-defd-41c5-979a-511db0416200",
   "metadata": {
    "tags": []
   },
   "outputs": [],
   "source": [
    "def renderFpBit(mol,bitIdx,bitInfo,fn):\n",
    "    bid = bitIdx\n",
    "    return(display(fn(mol,bid,bitInfo)))\n",
    "def get_index_of_array_that_contain_1_in_any_position(list1):\n",
    "    result = []\n",
    "    for i, e in enumerate(list1):\n",
    "        if e > 0:\n",
    "            result.append(i)\n",
    "    return result"
   ]
  },
  {
   "cell_type": "code",
   "execution_count": 5,
   "id": "9d66e8e5-b6f8-452e-8897-b742c4905e05",
   "metadata": {
    "tags": []
   },
   "outputs": [],
   "source": [
    "name1 = \"CCC#C\"\n",
    "m1 = Chem.MolFromSmiles(name1)\n",
    "name2 = \"CC#CC\"\n",
    "m2 = Chem.MolFromSmiles(name2)"
   ]
  },
  {
   "cell_type": "code",
   "execution_count": null,
   "id": "4d051288-8fba-444d-8107-711cac6042b6",
   "metadata": {},
   "outputs": [],
   "source": []
  },
  {
   "cell_type": "markdown",
   "id": "d4c2f175-f4eb-47b8-aa27-10f598265c9b",
   "metadata": {
    "tags": []
   },
   "source": [
    "# Inspect Bit with Image"
   ]
  },
  {
   "cell_type": "code",
<<<<<<< Updated upstream
   "execution_count": 12,
=======
   "execution_count": 5,
>>>>>>> Stashed changes
   "id": "aa80ffb9-587c-44fb-9229-ee93a5af2a81",
   "metadata": {
    "tags": []
   },
   "outputs": [],
   "source": [
    "from rdkit import Chem\n",
    "from rdkit.Chem.rdMolDescriptors import GetHashedMorganFingerprint\n",
    "\n",
<<<<<<< Updated upstream
    "mol1 = Chem.MolFromSmiles('CCCCCCCCCCCCO')\n",
    "mol2 = Chem.MolFromSmiles('CCCCCCCCCCCCCO')\n",
    "mol3 = Chem.MolFromSmiles('CCCO')\n",
    "mol4 = Chem.MolFromSmiles('CCCCO')\n",
=======
    "mol1 = Chem.MolFromSmiles('C')\n",
    "mol2 = Chem.MolFromSmiles('CC')\n",
    "mol3 = Chem.MolFromSmiles('CCC')\n",
    "mol4 = Chem.MolFromSmiles('CCCC')\n",
>>>>>>> Stashed changes
    "bit_info1 = {}\n",
    "bit_info2 = {}\n",
    "bit_info3 = {}\n",
    "bit_info4 = {}\n",
    "fp1 = GetHashedMorganFingerprint(mol1, 3, bitInfo=bit_info1, useFeatures=True)\n",
    "fp2 = GetHashedMorganFingerprint(mol2, 3, bitInfo=bit_info2, useFeatures=True)\n",
    "fp3 = GetHashedMorganFingerprint(mol3, 3, bitInfo=bit_info3, useFeatures=True)\n",
    "fp4 = GetHashedMorganFingerprint(mol4, 3, bitInfo=bit_info4, useFeatures=True)"
   ]
  },
  {
   "cell_type": "code",
   "execution_count": 6,
   "id": "098c30bd-fcd3-4eb7-b366-1a2977ed06aa",
   "metadata": {
    "tags": []
   },
   "outputs": [
    {
     "name": "stdout",
     "output_type": "stream",
     "text": [
      "[0]\n",
      "[0, 1085]\n",
      "[0, 792, 1085]\n",
      "[0, 539, 792, 1085]\n"
     ]
    }
   ],
   "source": [
    "print(get_index_of_array_that_contain_1_in_any_position(list(fp1)))\n",
    "print(get_index_of_array_that_contain_1_in_any_position(list(fp2)))\n",
    "print(get_index_of_array_that_contain_1_in_any_position(list(fp3)))\n",
    "print(get_index_of_array_that_contain_1_in_any_position(list(fp4)))"
   ]
  },
  {
   "cell_type": "code",
   "execution_count": 7,
   "id": "30a318b9-1250-465b-8561-73b909fa4deb",
   "metadata": {
    "tags": []
   },
   "outputs": [
    {
     "data": {
      "application/vnd.jupyter.widget-view+json": {
       "model_id": "3c8cbeafeb8047ccb93ad6f266213e2b",
       "version_major": 2,
       "version_minor": 0
      },
      "text/plain": [
       "interactive(children=(Dropdown(description='bitIdx', options=(0,), value=0), Output()), _dom_classes=('widget-…"
      ]
     },
     "metadata": {},
     "output_type": "display_data"
    },
    {
     "data": {
      "application/vnd.jupyter.widget-view+json": {
       "model_id": "944a3a7e6f0d451da435236b161a02f1",
       "version_major": 2,
       "version_minor": 0
      },
      "text/plain": [
       "interactive(children=(Dropdown(description='bitIdx', options=(0, 1085), value=0), Output()), _dom_classes=('wi…"
      ]
     },
     "metadata": {},
     "output_type": "display_data"
    },
    {
     "data": {
      "application/vnd.jupyter.widget-view+json": {
       "model_id": "0992787b19b9407796937218397b62bd",
       "version_major": 2,
       "version_minor": 0
      },
      "text/plain": [
       "interactive(children=(Dropdown(description='bitIdx', options=(0, 792, 1085), value=0), Output()), _dom_classes…"
      ]
     },
     "metadata": {},
     "output_type": "display_data"
    },
    {
     "data": {
      "application/vnd.jupyter.widget-view+json": {
       "model_id": "44dfb73243ee4aa293987ce2e711d0f6",
       "version_major": 2,
       "version_minor": 0
      },
      "text/plain": [
       "interactive(children=(Dropdown(description='bitIdx', options=(0, 539, 792, 1085), value=0), Output()), _dom_cl…"
      ]
     },
     "metadata": {},
     "output_type": "display_data"
    }
   ],
   "source": [
    "interact(renderFpBit, bitIdx=list(bit_info1.keys()),mol=fixed(mol1),\n",
    "         bitInfo=fixed(bit_info1),fn=fixed(Draw.DrawMorganBit));\n",
    "interact(renderFpBit, bitIdx=list(bit_info2.keys()),mol=fixed(mol2),\n",
    "         bitInfo=fixed(bit_info2),fn=fixed(Draw.DrawMorganBit));\n",
    "interact(renderFpBit, bitIdx=list(bit_info3.keys()),mol=fixed(mol3),\n",
    "         bitInfo=fixed(bit_info3),fn=fixed(Draw.DrawMorganBit));\n",
    "interact(renderFpBit, bitIdx=list(bit_info4.keys()),mol=fixed(mol4),\n",
    "         bitInfo=fixed(bit_info4),fn=fixed(Draw.DrawMorganBit));"
   ]
  },
  {
   "cell_type": "markdown",
   "id": "bc394f34-ee82-42d5-8f87-118599e55526",
   "metadata": {
    "tags": []
   },
   "source": [
    "# Inspect All Bit in Molecule"
   ]
  },
  {
   "cell_type": "code",
   "execution_count": 9,
   "id": "4852d96f-4c4b-4c14-bed7-a708bef2e7b9",
   "metadata": {
    "tags": []
   },
   "outputs": [
    {
     "data": {
      "image/png": "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\n",
      "text/plain": [
       "<PIL.PngImagePlugin.PngImageFile image mode=RGB size=600x150>"
      ]
     },
     "execution_count": 9,
     "metadata": {},
     "output_type": "execute_result"
    }
   ],
   "source": [
    "# Inspect Bit\n",
    "mol = m2\n",
    "bit_info_mol = {}\n",
    "fp_mol = GetHashedMorganFingerprint(mol, 3, bitInfo=bit_info_mol, useFeatures=True)\n",
    "all_fragments = [(mol, x, bit_info_mol) for x in get_index_of_array_that_contain_1_in_any_position(list(fp_mol))]\n",
    "Draw.DrawMorganBits(all_fragments[:], molsPerRow=4, legends=[str(x) for x in get_index_of_array_that_contain_1_in_any_position(list(fp_mol))][:])"
   ]
  },
  {
   "cell_type": "code",
   "execution_count": null,
   "id": "73016c8a-9d06-4219-bfea-4df0cfc9abaf",
   "metadata": {},
   "outputs": [],
   "source": []
  },
  {
   "cell_type": "code",
   "execution_count": 9,
   "id": "73d17b20-be29-473d-912e-a37ce0347f5f",
   "metadata": {
    "tags": []
   },
   "outputs": [
    {
     "data": {
      "text/plain": [
       "array(<rdkit.DataStructs.cDataStructs.UIntSparseIntVect object at 0x0000026BA2363290>,\n",
       "      dtype=object)"
      ]
     },
     "execution_count": 9,
     "metadata": {},
     "output_type": "execute_result"
    }
   ],
   "source": []
  },
  {
   "cell_type": "code",
   "execution_count": 14,
   "id": "eb34a16d-41cf-474b-84d8-5a5d8ecf740c",
   "metadata": {
    "tags": []
   },
   "outputs": [
    {
     "data": {
      "text/plain": [
       "{0: ((0, 0),\n",
       "  (1, 0),\n",
       "  (2, 0),\n",
       "  (3, 0),\n",
       "  (4, 0),\n",
       "  (5, 0),\n",
       "  (6, 0),\n",
       "  (7, 0),\n",
       "  (8, 0),\n",
       "  (9, 0),\n",
       "  (10, 0),\n",
       "  (11, 0)),\n",
       " 3: ((12, 0),),\n",
       " 252: ((2, 3),),\n",
       " 490: ((11, 2),),\n",
       " 539: ((1, 2),),\n",
       " 545: ((10, 2),),\n",
       " 661: ((3, 3), (4, 3), (5, 3), (6, 3), (7, 3), (8, 3)),\n",
       " 792: ((1, 1),\n",
       "  (2, 1),\n",
       "  (3, 1),\n",
       "  (4, 1),\n",
       "  (5, 1),\n",
       "  (6, 1),\n",
       "  (7, 1),\n",
       "  (8, 1),\n",
       "  (9, 1),\n",
       "  (10, 1)),\n",
       " 805: ((11, 1),),\n",
       " 1085: ((0, 1),),\n",
       " 1356: ((10, 3),),\n",
       " 1433: ((9, 3),),\n",
       " 1488: ((2, 2), (3, 2), (4, 2), (5, 2), (6, 2), (7, 2), (8, 2), (9, 2)),\n",
       " 2041: ((12, 1),)}"
      ]
     },
     "execution_count": 14,
     "metadata": {},
     "output_type": "execute_result"
    }
   ],
   "source": [
    "bit_info1"
   ]
  },
  {
   "cell_type": "code",
   "execution_count": 13,
   "id": "c07dee5d-08f1-4e15-82c1-8e353b988a36",
   "metadata": {
    "tags": []
   },
   "outputs": [
    {
     "data": {
      "text/plain": [
       "{0: ((0, 0),\n",
       "  (1, 0),\n",
       "  (2, 0),\n",
       "  (3, 0),\n",
       "  (4, 0),\n",
       "  (5, 0),\n",
       "  (6, 0),\n",
       "  (7, 0),\n",
       "  (8, 0),\n",
       "  (9, 0),\n",
       "  (10, 0),\n",
       "  (11, 0),\n",
       "  (12, 0)),\n",
       " 3: ((13, 0),),\n",
       " 252: ((2, 3),),\n",
       " 490: ((12, 2),),\n",
       " 539: ((1, 2),),\n",
       " 545: ((11, 2),),\n",
       " 661: ((3, 3), (4, 3), (5, 3), (6, 3), (7, 3), (8, 3), (9, 3)),\n",
       " 792: ((1, 1),\n",
       "  (2, 1),\n",
       "  (3, 1),\n",
       "  (4, 1),\n",
       "  (5, 1),\n",
       "  (6, 1),\n",
       "  (7, 1),\n",
       "  (8, 1),\n",
       "  (9, 1),\n",
       "  (10, 1),\n",
       "  (11, 1)),\n",
       " 805: ((12, 1),),\n",
       " 1085: ((0, 1),),\n",
       " 1356: ((11, 3),),\n",
       " 1433: ((10, 3),),\n",
       " 1488: ((2, 2),\n",
       "  (3, 2),\n",
       "  (4, 2),\n",
       "  (5, 2),\n",
       "  (6, 2),\n",
       "  (7, 2),\n",
       "  (8, 2),\n",
       "  (9, 2),\n",
       "  (10, 2)),\n",
       " 2041: ((13, 1),)}"
      ]
     },
     "execution_count": 13,
     "metadata": {},
     "output_type": "execute_result"
    }
   ],
   "source": [
    "bit_info2"
   ]
  },
  {
   "cell_type": "code",
   "execution_count": null,
   "id": "a1d71770-6744-42e3-b150-8a7bc8c9f523",
   "metadata": {},
   "outputs": [],
   "source": []
  }
 ],
 "metadata": {
  "kernelspec": {
   "display_name": "Python 3 (ipykernel)",
   "language": "python",
   "name": "python3"
  },
  "language_info": {
   "codemirror_mode": {
    "name": "ipython",
    "version": 3
   },
   "file_extension": ".py",
   "mimetype": "text/x-python",
   "name": "python",
   "nbconvert_exporter": "python",
   "pygments_lexer": "ipython3",
   "version": "3.11.4"
  }
 },
 "nbformat": 4,
 "nbformat_minor": 5
}
