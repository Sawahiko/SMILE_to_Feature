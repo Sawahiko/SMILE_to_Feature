{
 "cells": [
  {
   "cell_type": "code",
   "execution_count": 1,
   "id": "ebb36978-cfd9-4522-a136-08b09333f720",
   "metadata": {
    "execution": {
     "iopub.execute_input": "2023-09-21T23:43:12.176085Z",
     "iopub.status.busy": "2023-09-21T23:43:12.175087Z",
     "iopub.status.idle": "2023-09-21T23:43:13.028442Z",
     "shell.execute_reply": "2023-09-21T23:43:13.028442Z",
     "shell.execute_reply.started": "2023-09-21T23:43:12.176085Z"
    },
    "tags": []
   },
   "outputs": [
    {
     "name": "stdout",
     "output_type": "stream",
     "text": [
      "2023.03.3\n",
      "Fri Sep 22 06:43:13 2023\n"
     ]
    }
   ],
   "source": [
    "from rdkit import Chem,DataStructs\n",
    "import time,random,gzip,pickle,copy\n",
    "import numpy as np\n",
    "from collections import Counter,defaultdict\n",
    "from rdkit.Chem import Draw\n",
    "from rdkit.Chem import rdMolDescriptors\n",
    "from rdkit.Avalon import pyAvalonTools\n",
    "from rdkit.Chem.Draw import IPythonConsole\n",
    "from rdkit import DataStructs\n",
    "from rdkit import rdBase\n",
    "%matplotlib inline\n",
    "\n",
    "print(rdBase.rdkitVersion)\n",
    "import time\n",
    "print(time.asctime())\n"
   ]
  },
  {
   "cell_type": "code",
   "execution_count": 3,
   "id": "4484396f-6d67-41dc-ad24-d7bb018b3cf8",
   "metadata": {
    "execution": {
     "iopub.execute_input": "2023-09-21T23:46:30.611805Z",
     "iopub.status.busy": "2023-09-21T23:46:30.611805Z",
     "iopub.status.idle": "2023-09-21T23:46:30.831895Z",
     "shell.execute_reply": "2023-09-21T23:46:30.831895Z",
     "shell.execute_reply.started": "2023-09-21T23:46:30.611805Z"
    },
    "tags": []
   },
   "outputs": [
    {
     "name": "stderr",
     "output_type": "stream",
     "text": [
      "IOPub data rate exceeded.\n",
      "The notebook server will temporarily stop sending output\n",
      "to the client in order to avoid crashing it.\n",
      "To change this limit, set the config variable\n",
      "`--NotebookApp.iopub_data_rate_limit`.\n",
      "\n",
      "Current values:\n",
      "NotebookApp.iopub_data_rate_limit=1000000.0 (bytes/sec)\n",
      "NotebookApp.rate_limit_window=3.0 (secs)\n",
      "\n"
     ]
    }
   ],
   "source": [
    "import csv\n",
    "with open('chembl_5HT.csv', newline='') as csvfile:\n",
    "    reader = csv.DictReader(csvfile)\n",
    "    for row in reader:\n",
    "        #print(row['first_name'], row['last_name'])\n",
    "        print(row)\n",
    "        m = Chem.MolFromSmiles(line.split()[0])\n",
    "        if not m: continue\n",
    "        for v in 1,2,3:\n",
    "            counts[(v,-1)].append(len(rdmd.GetMorganFingerprint(m,v).GetNonzeroElements()))\n",
    "            for l in 1024,2048,4096,8192:\n",
    "                counts[(v,l)].append(rdmd.GetMorganFingerprintAsBitVect(m,v,l).GetNumOnBits())\n",
    "        if not (i+1)%5000:\n",
    "            print(\"Done {0}\".format(i+1))"
   ]
  },
  {
   "cell_type": "code",
   "execution_count": null,
   "id": "245b5132-abd7-4991-930f-f95a1ee3dcfd",
   "metadata": {},
   "outputs": [],
   "source": [
    "counts=defaultdict(list)\n",
    "for i,line in enumerate(file(filen)):\n",
    "    m = Chem.MolFromSmiles(line.split()[0])"
   ]
  }
 ],
 "metadata": {
  "kernelspec": {
   "display_name": "Python 3 (ipykernel)",
   "language": "python",
   "name": "python3"
  },
  "language_info": {
   "codemirror_mode": {
    "name": "ipython",
    "version": 3
   },
   "file_extension": ".py",
   "mimetype": "text/x-python",
   "name": "python",
   "nbconvert_exporter": "python",
   "pygments_lexer": "ipython3",
   "version": "3.11.4"
  }
 },
 "nbformat": 4,
 "nbformat_minor": 5
}
