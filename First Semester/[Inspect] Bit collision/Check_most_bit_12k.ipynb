{
 "cells": [
  {
   "cell_type": "code",
   "execution_count": 4,
   "id": "525fd5d1-8010-4b7a-b906-daf01d539706",
   "metadata": {
    "tags": []
   },
   "outputs": [],
   "source": [
    "import sys\n",
    "sys.path.append('NEW')"
   ]
  },
  {
   "cell_type": "code",
   "execution_count": 6,
   "id": "3ed65cd0-d3fe-4817-9478-1755a3e14a63",
   "metadata": {
    "tags": []
   },
   "outputs": [],
   "source": [
    "# Python\n",
    "import numpy as np\n",
    "import pandas as pd\n",
    "import time\n",
    "\n",
    "# Machine Learning\n",
    "from sklearn.decomposition import PCA\n",
    "from sklearn.model_selection import train_test_split\n",
    "\n",
    "# RDKit\n",
    "from rdkit.Chem import Descriptors\n",
    "from rdkit.ML.Descriptors import MoleculeDescriptors\n",
    "from rdkit.Chem import rdMolDescriptors\n",
    "from rdkit.Chem import AllChem\n",
    "from rdkit import Chem\n",
    "from rdkit.Chem import Descriptors\n",
    "from rdkit.ML.Descriptors import MoleculeDescriptors\n",
    "\n",
    "# Our module\n",
    "#from Python_Scoring_Export import Scoring, Export\n",
    "#from Python_MLModel import RF, Ridge_M, XGB, NN\n",
    "#from Python_RemoveO import remove_outliers\n",
    "\n",
    "\n",
    "old_df = pd.DataFrame({\n",
    "    'MAE':[0], 'MAPE(%)':[0], 'RMSE':[0], 'R2':[0], 'Radius':[0], 'nBits':[0], 'Model':[0]\n",
    "    })\n",
    "\n",
    "# =============================================================================\n",
    "# # %% Option\n",
    "# MF_bit = 2**5\n",
    "# MF_radius = 6\n",
    "# Name_model = \"CB\"\n",
    "# =============================================================================\n",
    "\n",
    "# %% Option Many Bit\n",
    "MF_bit_s = [2**10]\n",
    "MF_radius_s = [3]\n",
    "\n",
    "#MF_bit_s = [2**5-1, 2**6-1]\n",
    "#MF_radius_s = [3]\n",
    "Name_model = \"RF\"\n",
    "j=0\n",
    "for MF_radius in MF_radius_s:\n",
    "    for MF_bit in MF_bit_s :\n",
    "        \n",
    "        # %% \n",
    "        # Import Data\n",
    "        df = pd.read_excel(\"../Data.xlsx\",sheet_name=\"560point\")\n",
    "        #df = remove_outliers(\"Data.xlsx\", \"New_Data\", 2)\n",
    "\n",
    "        # Select feature for data: X=SMILE, Y=Tb\n",
    "        X_data_excel= df[[\"SMILES\"]]\n",
    "        Y_data= df[\"Tb\"]\n",
    "        \n",
    "        # %% Data Preparation\n",
    "        # Generate Fingerprint from SMILE\n",
    "        \n",
    "        X_data_use = X_data_excel.copy()\n",
    "        X_data_use[\"molecule\"] = X_data_use[\"SMILES\"].apply(lambda x: Chem.MolFromSmiles(x))\n",
    "        X_data_use[\"morgan_fp\"] = X_data_use[\"molecule\"].apply(lambda x: rdMolDescriptors.GetMorganFingerprintAsBitVect(\n",
    "                x, \n",
    "                radius=MF_radius, \n",
    "                nBits=MF_bit, \n",
    "                useFeatures=True, useChirality=True))\n",
    "        \n",
    "        # Transfrom Fingerprint to Column in DataFrame\n",
    "        X_data_fp = []\n",
    "        for i in range(X_data_use.shape[0]):\n",
    "            #print(np.array(X_data_use[\"morgan_fp\"][i]))\n",
    "            array = np.array(X_data_use[\"morgan_fp\"][i])\n",
    "            datafram_i = pd.DataFrame(array)\n",
    "            datafram_i = datafram_i.T\n",
    "            X_data_fp.append(datafram_i)\n",
    "        x_data_fp = pd.concat(X_data_fp, ignore_index=True)\n",
    "        \n",
    "        y_data_fp = Y_data.copy()"
   ]
  },
  {
   "cell_type": "code",
   "execution_count": 7,
   "id": "6db1740f-ffe4-4b15-9a13-7377646c5e48",
   "metadata": {
    "tags": []
   },
   "outputs": [],
   "source": [
    "test = x_data_fp.ne(0).sum(axis=0)\n",
    "top_bit = pd.DataFrame(test.sort_values(ascending=False)).head(50).index.to_numpy()\n",
    "#top_bit"
   ]
  },
  {
   "cell_type": "code",
   "execution_count": 8,
   "id": "aeef8993-64fc-4f26-a147-a5a0d90d0c98",
   "metadata": {
    "tags": []
   },
   "outputs": [
    {
     "data": {
      "text/html": [
       "<div>\n",
       "<style scoped>\n",
       "    .dataframe tbody tr th:only-of-type {\n",
       "        vertical-align: middle;\n",
       "    }\n",
       "\n",
       "    .dataframe tbody tr th {\n",
       "        vertical-align: top;\n",
       "    }\n",
       "\n",
       "    .dataframe thead th {\n",
       "        text-align: right;\n",
       "    }\n",
       "</style>\n",
       "<table border=\"1\" class=\"dataframe\">\n",
       "  <thead>\n",
       "    <tr style=\"text-align: right;\">\n",
       "      <th></th>\n",
       "      <th>0</th>\n",
       "    </tr>\n",
       "  </thead>\n",
       "  <tbody>\n",
       "    <tr>\n",
       "      <th>0</th>\n",
       "      <td>559</td>\n",
       "    </tr>\n",
       "    <tr>\n",
       "      <th>61</th>\n",
       "      <td>478</td>\n",
       "    </tr>\n",
       "    <tr>\n",
       "      <th>792</th>\n",
       "      <td>463</td>\n",
       "    </tr>\n",
       "    <tr>\n",
       "      <th>644</th>\n",
       "      <td>275</td>\n",
       "    </tr>\n",
       "    <tr>\n",
       "      <th>464</th>\n",
       "      <td>179</td>\n",
       "    </tr>\n",
       "  </tbody>\n",
       "</table>\n",
       "</div>"
      ],
      "text/plain": [
       "       0\n",
       "0    559\n",
       "61   478\n",
       "792  463\n",
       "644  275\n",
       "464  179"
      ]
     },
     "execution_count": 8,
     "metadata": {},
     "output_type": "execute_result"
    }
   ],
   "source": [
    "pd.DataFrame(test.sort_values(ascending=False)).head()"
   ]
  },
  {
   "cell_type": "code",
   "execution_count": 9,
   "id": "5fed1877-bcb3-487d-b572-90db69666f7a",
   "metadata": {
    "tags": []
   },
   "outputs": [],
   "source": [
    "def getSMART(mol, radius, atomidx):\n",
    "    env = Chem.FindAtomEnvironmentOfRadiusN(mol, radius, atomidx)\n",
    "    atomsToUse = set((atomidx, ))\n",
    "    for b in env:\n",
    "        atomsToUse.add(mol.GetBondWithIdx(b).GetBeginAtomIdx())\n",
    "        atomsToUse.add(mol.GetBondWithIdx(b).GetEndAtomIdx())\n",
    "    enlargedEnv = set()\n",
    "    for atom in atomsToUse:\n",
    "        a = mol.GetAtomWithIdx(atom)\n",
    "        for b in a.GetBonds():\n",
    "            bidx = b.GetIdx()\n",
    "            if bidx not in env:\n",
    "                enlargedEnv.add(bidx)\n",
    "    enlargedEnv = list(enlargedEnv)\n",
    "    enlargedEnv += env\n",
    "    # find all relevant neighbors\n",
    "    anyAtoms = []\n",
    "    for a in atomsToUse:\n",
    "        neighbors = mol.GetAtomWithIdx(a).GetNeighbors()\n",
    "        for n in neighbors:\n",
    "            anyIdx = n.GetIdx()\n",
    "            if anyIdx not in atomsToUse:\n",
    "                anyAtoms.append(anyIdx)\n",
    "    # replace atomic number to zero (there is no number for any atom)\n",
    "    for aA in anyAtoms:\n",
    "        mol.GetAtomWithIdx(aA).SetAtomicNum(0)\n",
    "    submol = Chem.PathToSubmol(mol, enlargedEnv)\n",
    "    # change [0] to *\n",
    "    MorganBitSmarts = Chem.MolToSmarts(submol).replace('[#0]', '*')\n",
    "    #print(MorganBitSmarts)\n",
    "    return MorganBitSmarts \n",
    "\n",
    "def get_All_SMART_1_mol(mol, radius, nBits):\n",
    "    bit_info = {}\n",
    "    fp = rdMolDescriptors.GetMorganFingerprintAsBitVect(\n",
    "                mol, \n",
    "                radius=radius, \n",
    "                nBits=nBits, \n",
    "                bitInfo = bit_info,\n",
    "                useFeatures=True, useChirality=True)\n",
    "\n",
    "    #print(get_index_of_array_that_contain_1_in_any_position(list(fp)))\n",
    "    #print(bit_info.keys())\n",
    "    string_SMARTS = dict()\n",
    "    for i,v in enumerate(bit_info.keys()):\n",
    "        #print(i)\n",
    "        #print(\"v=\",v)\n",
    "        atomidx, radius = bit_info[v][0]\n",
    "        string_SMART = getSMART(mol=mol, radius=radius, atomidx=atomidx)\n",
    "        #string_SMART = \"TEST\"\n",
    "        #print(v, string_SMART)\n",
    "        string_SMARTS[v] = string_SMART\n",
    "        #print(v)\n",
    "    #print(string_SMARTS)\n",
    "    #print(string_SMARTS)\n",
    "    try :\n",
    "        return string_SMARTS\n",
    "        #print(\"HERE\")\n",
    "    except :\n",
    "        None"
   ]
  },
  {
   "cell_type": "code",
   "execution_count": 10,
   "id": "3979261c-d864-4d04-92c5-b36d50724178",
   "metadata": {
    "tags": []
   },
   "outputs": [
    {
     "data": {
      "text/plain": [
       "{0: '[#6]-*', 61: '[#6]-*'}"
      ]
     },
     "execution_count": 10,
     "metadata": {},
     "output_type": "execute_result"
    }
   ],
   "source": [
    "text_SMILES = X_data_use[\"molecule\"].iloc[1]\n",
    "text_SMILES\n",
    "get_All_SMART_1_mol(text_SMILES, 3, 1024)"
   ]
  },
  {
   "cell_type": "code",
   "execution_count": 11,
   "id": "c99c6d5e-0da1-4130-ac9d-640943cba39a",
   "metadata": {
    "tags": []
   },
   "outputs": [],
   "source": [
    "radius = 3; nBits = 1024\n",
    "X_data_use[\"All_SMART\"] = X_data_use[\"molecule\"].apply(lambda x : get_All_SMART_1_mol(x, radius, nBits))\n"
   ]
  },
  {
   "cell_type": "code",
   "execution_count": 12,
   "id": "3d62c014-74fd-4eae-bef5-e76db9562f26",
   "metadata": {
    "tags": []
   },
   "outputs": [
    {
     "data": {
      "text/html": [
       "<div>\n",
       "<style scoped>\n",
       "    .dataframe tbody tr th:only-of-type {\n",
       "        vertical-align: middle;\n",
       "    }\n",
       "\n",
       "    .dataframe tbody tr th {\n",
       "        vertical-align: top;\n",
       "    }\n",
       "\n",
       "    .dataframe thead th {\n",
       "        text-align: right;\n",
       "    }\n",
       "</style>\n",
       "<table border=\"1\" class=\"dataframe\">\n",
       "  <thead>\n",
       "    <tr style=\"text-align: right;\">\n",
       "      <th></th>\n",
       "      <th>SMILES</th>\n",
       "      <th>molecule</th>\n",
       "      <th>morgan_fp</th>\n",
       "      <th>All_SMART</th>\n",
       "    </tr>\n",
       "  </thead>\n",
       "  <tbody>\n",
       "    <tr>\n",
       "      <th>0</th>\n",
       "      <td>C</td>\n",
       "      <td>&lt;rdkit.Chem.rdchem.Mol object at 0x000001454EF...</td>\n",
       "      <td>[1, 0, 0, 0, 0, 0, 0, 0, 0, 0, 0, 0, 0, 0, 0, ...</td>\n",
       "      <td>{0: ''}</td>\n",
       "    </tr>\n",
       "    <tr>\n",
       "      <th>1</th>\n",
       "      <td>CC</td>\n",
       "      <td>&lt;rdkit.Chem.rdchem.Mol object at 0x000001454EF...</td>\n",
       "      <td>[1, 0, 0, 0, 0, 0, 0, 0, 0, 0, 0, 0, 0, 0, 0, ...</td>\n",
       "      <td>{0: '[#6]-*', 61: '[#6]-*'}</td>\n",
       "    </tr>\n",
       "    <tr>\n",
       "      <th>2</th>\n",
       "      <td>CCC</td>\n",
       "      <td>&lt;rdkit.Chem.rdchem.Mol object at 0x000001454EF...</td>\n",
       "      <td>[1, 0, 0, 0, 0, 0, 0, 0, 0, 0, 0, 0, 0, 0, 0, ...</td>\n",
       "      <td>{0: '[#6]-*', 61: '[#6]-*-*', 792: '[#6]-*-*'}</td>\n",
       "    </tr>\n",
       "    <tr>\n",
       "      <th>3</th>\n",
       "      <td>C1CC1</td>\n",
       "      <td>&lt;rdkit.Chem.rdchem.Mol object at 0x000001454EF...</td>\n",
       "      <td>[1, 0, 0, 0, 0, 0, 0, 0, 0, 0, 0, 0, 0, 0, 0, ...</td>\n",
       "      <td>{0: '[#6](-*)-*', 464: '[#6]1-*-*-1', 792: '[#...</td>\n",
       "    </tr>\n",
       "    <tr>\n",
       "      <th>4</th>\n",
       "      <td>CC(C)C</td>\n",
       "      <td>&lt;rdkit.Chem.rdchem.Mol object at 0x000001454EF...</td>\n",
       "      <td>[1, 0, 0, 0, 0, 0, 0, 0, 0, 0, 0, 0, 0, 0, 0, ...</td>\n",
       "      <td>{0: '[#6]-*', 61: '[#6]-*(-*)-*', 644: '[#6]-*...</td>\n",
       "    </tr>\n",
       "    <tr>\n",
       "      <th>...</th>\n",
       "      <td>...</td>\n",
       "      <td>...</td>\n",
       "      <td>...</td>\n",
       "      <td>...</td>\n",
       "    </tr>\n",
       "    <tr>\n",
       "      <th>555</th>\n",
       "      <td>CCCCCCC#CCCC</td>\n",
       "      <td>&lt;rdkit.Chem.rdchem.Mol object at 0x000001454F5...</td>\n",
       "      <td>[1, 0, 0, 0, 0, 0, 0, 0, 0, 0, 0, 0, 0, 0, 0, ...</td>\n",
       "      <td>{0: '[#6]-*', 18: '*-*-[#6]-[#6]-[#6]-[#6]-[#6...</td>\n",
       "    </tr>\n",
       "    <tr>\n",
       "      <th>556</th>\n",
       "      <td>CCCCCCCCCC</td>\n",
       "      <td>&lt;rdkit.Chem.rdchem.Mol object at 0x000001454F5...</td>\n",
       "      <td>[1, 0, 0, 0, 0, 0, 0, 0, 0, 0, 0, 0, 0, 0, 0, ...</td>\n",
       "      <td>{0: '[#6]-*', 61: '[#6]-*-*', 252: '[#6]-*-*-[...</td>\n",
       "    </tr>\n",
       "    <tr>\n",
       "      <th>557</th>\n",
       "      <td>CCCCCCCCC#CC</td>\n",
       "      <td>&lt;rdkit.Chem.rdchem.Mol object at 0x000001454F5...</td>\n",
       "      <td>[1, 0, 0, 0, 0, 0, 0, 0, 0, 0, 0, 0, 0, 0, 0, ...</td>\n",
       "      <td>{0: '[#6]-*', 18: '*-[#6]-[#6]-[#6]-[#6]-[#6]-...</td>\n",
       "    </tr>\n",
       "    <tr>\n",
       "      <th>558</th>\n",
       "      <td>CCCCCCCC1CCCC1</td>\n",
       "      <td>&lt;rdkit.Chem.rdchem.Mol object at 0x000001454F5...</td>\n",
       "      <td>[1, 0, 0, 0, 0, 0, 0, 0, 0, 0, 0, 0, 0, 0, 0, ...</td>\n",
       "      <td>{0: '[#6]-*', 20: '*-[#6]-[#6]-[#6]-[#6]-[#6]-...</td>\n",
       "    </tr>\n",
       "    <tr>\n",
       "      <th>559</th>\n",
       "      <td>CCCCCCCCCCCC</td>\n",
       "      <td>&lt;rdkit.Chem.rdchem.Mol object at 0x000001454F5...</td>\n",
       "      <td>[1, 0, 0, 0, 0, 0, 0, 0, 0, 0, 0, 0, 0, 0, 0, ...</td>\n",
       "      <td>{0: '[#6]-*', 61: '[#6]-*-*', 252: '[#6]-*-*-[...</td>\n",
       "    </tr>\n",
       "  </tbody>\n",
       "</table>\n",
       "<p>560 rows × 4 columns</p>\n",
       "</div>"
      ],
      "text/plain": [
       "             SMILES                                           molecule  \\\n",
       "0                 C  <rdkit.Chem.rdchem.Mol object at 0x000001454EF...   \n",
       "1                CC  <rdkit.Chem.rdchem.Mol object at 0x000001454EF...   \n",
       "2               CCC  <rdkit.Chem.rdchem.Mol object at 0x000001454EF...   \n",
       "3             C1CC1  <rdkit.Chem.rdchem.Mol object at 0x000001454EF...   \n",
       "4            CC(C)C  <rdkit.Chem.rdchem.Mol object at 0x000001454EF...   \n",
       "..              ...                                                ...   \n",
       "555    CCCCCCC#CCCC  <rdkit.Chem.rdchem.Mol object at 0x000001454F5...   \n",
       "556      CCCCCCCCCC  <rdkit.Chem.rdchem.Mol object at 0x000001454F5...   \n",
       "557    CCCCCCCCC#CC  <rdkit.Chem.rdchem.Mol object at 0x000001454F5...   \n",
       "558  CCCCCCCC1CCCC1  <rdkit.Chem.rdchem.Mol object at 0x000001454F5...   \n",
       "559    CCCCCCCCCCCC  <rdkit.Chem.rdchem.Mol object at 0x000001454F5...   \n",
       "\n",
       "                                             morgan_fp  \\\n",
       "0    [1, 0, 0, 0, 0, 0, 0, 0, 0, 0, 0, 0, 0, 0, 0, ...   \n",
       "1    [1, 0, 0, 0, 0, 0, 0, 0, 0, 0, 0, 0, 0, 0, 0, ...   \n",
       "2    [1, 0, 0, 0, 0, 0, 0, 0, 0, 0, 0, 0, 0, 0, 0, ...   \n",
       "3    [1, 0, 0, 0, 0, 0, 0, 0, 0, 0, 0, 0, 0, 0, 0, ...   \n",
       "4    [1, 0, 0, 0, 0, 0, 0, 0, 0, 0, 0, 0, 0, 0, 0, ...   \n",
       "..                                                 ...   \n",
       "555  [1, 0, 0, 0, 0, 0, 0, 0, 0, 0, 0, 0, 0, 0, 0, ...   \n",
       "556  [1, 0, 0, 0, 0, 0, 0, 0, 0, 0, 0, 0, 0, 0, 0, ...   \n",
       "557  [1, 0, 0, 0, 0, 0, 0, 0, 0, 0, 0, 0, 0, 0, 0, ...   \n",
       "558  [1, 0, 0, 0, 0, 0, 0, 0, 0, 0, 0, 0, 0, 0, 0, ...   \n",
       "559  [1, 0, 0, 0, 0, 0, 0, 0, 0, 0, 0, 0, 0, 0, 0, ...   \n",
       "\n",
       "                                             All_SMART  \n",
       "0                                              {0: ''}  \n",
       "1                          {0: '[#6]-*', 61: '[#6]-*'}  \n",
       "2       {0: '[#6]-*', 61: '[#6]-*-*', 792: '[#6]-*-*'}  \n",
       "3    {0: '[#6](-*)-*', 464: '[#6]1-*-*-1', 792: '[#...  \n",
       "4    {0: '[#6]-*', 61: '[#6]-*(-*)-*', 644: '[#6]-*...  \n",
       "..                                                 ...  \n",
       "555  {0: '[#6]-*', 18: '*-*-[#6]-[#6]-[#6]-[#6]-[#6...  \n",
       "556  {0: '[#6]-*', 61: '[#6]-*-*', 252: '[#6]-*-*-[...  \n",
       "557  {0: '[#6]-*', 18: '*-[#6]-[#6]-[#6]-[#6]-[#6]-...  \n",
       "558  {0: '[#6]-*', 20: '*-[#6]-[#6]-[#6]-[#6]-[#6]-...  \n",
       "559  {0: '[#6]-*', 61: '[#6]-*-*', 252: '[#6]-*-*-[...  \n",
       "\n",
       "[560 rows x 4 columns]"
      ]
     },
     "execution_count": 12,
     "metadata": {},
     "output_type": "execute_result"
    }
   ],
   "source": [
    "X_data_use"
   ]
  },
  {
   "cell_type": "code",
   "execution_count": null,
   "id": "db780cba-6441-454e-aea1-1239b614d72f",
   "metadata": {
    "tags": []
   },
   "outputs": [],
   "source": [
    "def cb(x, bit):\n",
    "    try:\n",
    "        return x[bit]\n",
    "    except :\n",
    "        None\n",
    "\n",
    "for bit in top_bit:\n",
    "    #print(bit)\n",
    "    X_data_use[f\"Bit {bit}\"]  =  X_data_use[\"All_SMART\"].apply(lambda x : cb(x,bit))"
   ]
  },
  {
   "cell_type": "code",
   "execution_count": 3,
   "id": "c801b1c7-c5bb-4670-bb92-a92f3d0ecf28",
   "metadata": {
    "tags": []
   },
   "outputs": [
    {
     "ename": "NameError",
     "evalue": "name 'X_data_use' is not defined",
     "output_type": "error",
     "traceback": [
      "\u001b[1;31m---------------------------------------------------------------------------\u001b[0m",
      "\u001b[1;31mNameError\u001b[0m                                 Traceback (most recent call last)",
      "Cell \u001b[1;32mIn[3], line 1\u001b[0m\n\u001b[1;32m----> 1\u001b[0m X_data_use\u001b[38;5;241m.\u001b[39mto_excel(\u001b[38;5;124m\"\u001b[39m\u001b[38;5;124mCheck_bit_12k_top50.xlsx\u001b[39m\u001b[38;5;124m\"\u001b[39m)\n",
      "\u001b[1;31mNameError\u001b[0m: name 'X_data_use' is not defined"
     ]
    }
   ],
   "source": [
    "#X_data_use.to_excel(\"Check_bit_12k_top50.xlsx\")"
   ]
  },
  {
   "cell_type": "code",
   "execution_count": null,
   "id": "a717561b-d33a-455e-8a5d-32d094369dca",
   "metadata": {
    "tags": []
   },
   "outputs": [],
   "source": [
    "top_bit"
   ]
  },
  {
   "cell_type": "code",
   "execution_count": null,
   "id": "a71b10c3-3e2a-4fa6-aef6-67bf1aa2c4a2",
   "metadata": {},
   "outputs": [],
   "source": []
  }
 ],
 "metadata": {
  "kernelspec": {
   "display_name": "Python 3 (ipykernel)",
   "language": "python",
   "name": "python3"
  },
  "language_info": {
   "codemirror_mode": {
    "name": "ipython",
    "version": 3
   },
   "file_extension": ".py",
   "mimetype": "text/x-python",
   "name": "python",
   "nbconvert_exporter": "python",
   "pygments_lexer": "ipython3",
   "version": "3.11.4"
  }
 },
 "nbformat": 4,
 "nbformat_minor": 5
}
