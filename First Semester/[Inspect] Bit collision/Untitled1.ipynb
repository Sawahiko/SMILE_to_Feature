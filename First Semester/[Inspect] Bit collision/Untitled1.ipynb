{
 "cells": [
  {
   "cell_type": "code",
   "execution_count": 1,
   "id": "1e73955d-89bb-4183-99de-bd9b919278eb",
   "metadata": {
    "tags": []
   },
   "outputs": [],
   "source": [
    "# Python\n",
    "import numpy as np\n",
    "import pandas as pd\n",
    "import time\n",
    "\n",
    "# Machine Learning\n",
    "from sklearn.model_selection import train_test_split\n",
    "from sklearn.feature_selection import SelectKBest, f_regression\n",
    "\n",
    "# RDKit\n",
    "from rdkit.Chem import Descriptors\n",
    "from rdkit.ML.Descriptors import MoleculeDescriptors\n",
    "from rdkit.Chem import rdMolDescriptors\n",
    "from rdkit.Chem import AllChem\n",
    "from rdkit import Chem\n",
    "from rdkit.Chem import Descriptors\n",
    "from rdkit.ML.Descriptors import MoleculeDescriptors\n",
    "from rdkit import DataStructs"
   ]
  },
  {
   "cell_type": "code",
   "execution_count": 25,
   "id": "115345e9-7332-442b-bd11-649ce52b3470",
   "metadata": {
    "tags": []
   },
   "outputs": [
    {
     "ename": "ImportError",
     "evalue": "cannot import name 'rdRascalMCES' from 'rdkit.Chem' (C:\\ProgramData\\anaconda3\\Lib\\site-packages\\rdkit\\Chem\\__init__.py)",
     "output_type": "error",
     "traceback": [
      "\u001b[1;31m---------------------------------------------------------------------------\u001b[0m",
      "\u001b[1;31mImportError\u001b[0m                               Traceback (most recent call last)",
      "Cell \u001b[1;32mIn[25], line 2\u001b[0m\n\u001b[0;32m      1\u001b[0m \u001b[38;5;28;01mfrom\u001b[39;00m \u001b[38;5;21;01mrdkit\u001b[39;00m\u001b[38;5;21;01m.\u001b[39;00m\u001b[38;5;21;01mChem\u001b[39;00m \u001b[38;5;28;01mimport\u001b[39;00m rdFMCS\n\u001b[1;32m----> 2\u001b[0m \u001b[38;5;28;01mfrom\u001b[39;00m \u001b[38;5;21;01mrdkit\u001b[39;00m\u001b[38;5;21;01m.\u001b[39;00m\u001b[38;5;21;01mChem\u001b[39;00m \u001b[38;5;28;01mimport\u001b[39;00m rdRascalMCES\n",
      "\u001b[1;31mImportError\u001b[0m: cannot import name 'rdRascalMCES' from 'rdkit.Chem' (C:\\ProgramData\\anaconda3\\Lib\\site-packages\\rdkit\\Chem\\__init__.py)"
     ]
    }
   ],
   "source": [
    "from rdkit.Chem import rdFMCS\n",
    "from rdkit.Chem import rdRascalMCES"
   ]
  },
  {
   "cell_type": "code",
   "execution_count": 17,
   "id": "ef5a761f-3729-4c9c-872d-5bae21c92643",
   "metadata": {
    "tags": []
   },
   "outputs": [],
   "source": [
    "mol1 = Chem.MolFromSmarts('[#6]1-*-[#6]-[#6]2-[#6]-[#6]-2-*-1')\n",
    "mol2 = Chem.MolFromSmarts('*-[#6](-*)-[#6]1-[#6]-[#6]-[#6]-[#6]-[#6]-1')"
   ]
  },
  {
   "cell_type": "code",
   "execution_count": 19,
   "id": "0e4824cc-7dd9-4b96-b64f-968a60cd38ae",
   "metadata": {
    "tags": []
   },
   "outputs": [
    {
     "data": {
      "image/png": "[encoded data removed]",
      "text/plain": [
       "<rdkit.Chem.rdchem.Mol at 0x293a3237680>"
      ]
     },
     "execution_count": 19,
     "metadata": {},
     "output_type": "execute_result"
    }
   ],
   "source": [
    "mol1"
   ]
  },
  {
   "cell_type": "code",
   "execution_count": 20,
   "id": "307c385a-020d-43ba-a760-ccbcd06d3c03",
   "metadata": {
    "tags": []
   },
   "outputs": [
    {
     "data": {
      "image/png": "[encoded data removed]",
      "text/plain": [
       "<rdkit.Chem.rdchem.Mol at 0x293a32377d0>"
      ]
     },
     "execution_count": 20,
     "metadata": {},
     "output_type": "execute_result"
    }
   ],
   "source": [
    "mol2"
   ]
  },
  {
   "cell_type": "code",
   "execution_count": 21,
   "id": "175b5611-79e4-497c-84b2-3338e0794e26",
   "metadata": {
    "tags": []
   },
   "outputs": [],
   "source": [
    "mols = (mol1, mol2)"
   ]
  },
  {
   "cell_type": "code",
   "execution_count": 22,
   "id": "099731d9-fb5e-4d1f-bd06-0b3d6bb90843",
   "metadata": {
    "tags": []
   },
   "outputs": [
    {
     "data": {
      "text/plain": [
       "'[#6]1-[#0,#6]-[#6]-[#6](-[#6]-[#0,#6]-1)-[#6]'"
      ]
     },
     "execution_count": 22,
     "metadata": {},
     "output_type": "execute_result"
    }
   ],
   "source": [
    "rdFMCS.FindMCS(mols, atomCompare=rdFMCS.AtomCompare.CompareAny).smartsString"
   ]
  },
  {
   "cell_type": "code",
   "execution_count": 24,
   "id": "a73d6373-7d9b-4178-b3a7-26c3bd1d88b0",
   "metadata": {
    "tags": []
   },
   "outputs": [
    {
     "ename": "NameError",
     "evalue": "name 'rdRascalMCES' is not defined",
     "output_type": "error",
     "traceback": [
      "\u001b[1;31m---------------------------------------------------------------------------\u001b[0m",
      "\u001b[1;31mNameError\u001b[0m                                 Traceback (most recent call last)",
      "Cell \u001b[1;32mIn[24], line 1\u001b[0m\n\u001b[1;32m----> 1\u001b[0m results \u001b[38;5;241m=\u001b[39m rdRascalMCES\u001b[38;5;241m.\u001b[39mFindMCES(mol1, mol2)\n",
      "\u001b[1;31mNameError\u001b[0m: name 'rdRascalMCES' is not defined"
     ]
    }
   ],
   "source": [
    "results = rdRascalMCES.FindMCES(mol1, mol2)\n",
    "#results = rdRascalMCES.FindMCES(mol1, mol2, opts)"
   ]
  },
  {
   "cell_type": "code",
   "execution_count": 28,
   "id": "e253435c-a010-452f-a18a-898df2b3b299",
   "metadata": {
    "tags": []
   },
   "outputs": [
    {
     "ename": "AttributeError",
     "evalue": "module 'rdkit.Chem.AllChem' has no attribute 'GetMorganGenerator'",
     "output_type": "error",
     "traceback": [
      "\u001b[1;31m---------------------------------------------------------------------------\u001b[0m",
      "\u001b[1;31mAttributeError\u001b[0m                            Traceback (most recent call last)",
      "Cell \u001b[1;32mIn[28], line 3\u001b[0m\n\u001b[0;32m      1\u001b[0m \u001b[38;5;28;01mfrom\u001b[39;00m \u001b[38;5;21;01mrdkit\u001b[39;00m \u001b[38;5;28;01mimport\u001b[39;00m DataStructs\n\u001b[0;32m      2\u001b[0m \u001b[38;5;28;01mfrom\u001b[39;00m \u001b[38;5;21;01mrdkit\u001b[39;00m\u001b[38;5;21;01m.\u001b[39;00m\u001b[38;5;21;01mChem\u001b[39;00m \u001b[38;5;28;01mimport\u001b[39;00m AllChem\n\u001b[1;32m----> 3\u001b[0m fpgen \u001b[38;5;241m=\u001b[39m AllChem\u001b[38;5;241m.\u001b[39mGetMorganGenerator(radius\u001b[38;5;241m=\u001b[39m\u001b[38;5;241m2\u001b[39m)\n\u001b[0;32m      4\u001b[0m fps \u001b[38;5;241m=\u001b[39m [fpgen\u001b[38;5;241m.\u001b[39mGetFingerprint(x) \u001b[38;5;28;01mfor\u001b[39;00m x \u001b[38;5;129;01min\u001b[39;00m ms]\n\u001b[0;32m      5\u001b[0m DataStructs\u001b[38;5;241m.\u001b[39mTanimotoSimilarity(fps[\u001b[38;5;241m0\u001b[39m],fps[\u001b[38;5;241m1\u001b[39m])\n",
      "\u001b[1;31mAttributeError\u001b[0m: module 'rdkit.Chem.AllChem' has no attribute 'GetMorganGenerator'"
     ]
    }
   ],
   "source": [
    "from rdkit import DataStructs\n",
    "from rdkit.Chem import AllChem\n",
    "fpgen = AllChem.GetMorganGenerator(radius=2)\n",
    "fps = [fpgen.GetFingerprint(x) for x in ms]\n",
    "DataStructs.TanimotoSimilarity(fps[0],fps[1])"
   ]
  },
  {
   "cell_type": "code",
   "execution_count": 29,
   "id": "401e30a5-3072-4baf-b3b7-a829626972c2",
   "metadata": {
    "tags": []
   },
   "outputs": [],
   "source": [
    "from rdkit.Chem import MACCSkeys\n",
    "ms = [Chem.MolFromSmiles('CCOC'), Chem.MolFromSmiles('CCO'),\n",
    "Chem.MolFromSmiles('COC')]\n",
    "fps = [MACCSkeys.GenMACCSKeys(x) for x in ms]"
   ]
  },
  {
   "cell_type": "code",
   "execution_count": 30,
   "id": "ed66ad69-31b3-42de-aab9-1e79d9491fb9",
   "metadata": {
    "tags": []
   },
   "outputs": [
    {
     "data": {
      "text/plain": [
       "0.5"
      ]
     },
     "execution_count": 30,
     "metadata": {},
     "output_type": "execute_result"
    }
   ],
   "source": [
    "DataStructs.TanimotoSimilarity(fps[0],fps[1])"
   ]
  },
  {
   "cell_type": "code",
   "execution_count": 31,
   "id": "ff83ea3e-3b61-4706-bb43-31c4e9e504da",
   "metadata": {
    "tags": []
   },
   "outputs": [
    {
     "name": "stderr",
     "output_type": "stream",
     "text": [
      "[19:10:51] \n",
      "\n",
      "****\n",
      "Pre-condition Violation\n",
      "getNumImplicitHs() called without preceding call to calcImplicitValence()\n",
      "Violation occurred on line 299 in file C:\\rdkit\\build\\temp.win-amd64-cpython-311\\Release\\rdkit\\Code\\GraphMol\\Atom.cpp\n",
      "Failed Expression: d_implicitValence > -1\n",
      "****\n",
      "\n"
     ]
    },
    {
     "ename": "RuntimeError",
     "evalue": "Pre-condition Violation\n\tgetNumImplicitHs() called without preceding call to calcImplicitValence()\n\tViolation occurred on line 299 in file Code\\GraphMol\\Atom.cpp\n\tFailed Expression: d_implicitValence > -1\n\tRDKIT: 2022.09.5\n\tBOOST: 1_78\n",
     "output_type": "error",
     "traceback": [
      "\u001b[1;31m---------------------------------------------------------------------------\u001b[0m",
      "\u001b[1;31mRuntimeError\u001b[0m                              Traceback (most recent call last)",
      "Cell \u001b[1;32mIn[31], line 5\u001b[0m\n\u001b[0;32m      2\u001b[0m mol2 \u001b[38;5;241m=\u001b[39m Chem\u001b[38;5;241m.\u001b[39mMolFromSmarts(\u001b[38;5;124m'\u001b[39m\u001b[38;5;124m*-[#6](-*)-[#6]1-[#6]-[#6]-[#6]-[#6]-[#6]-1\u001b[39m\u001b[38;5;124m'\u001b[39m)\n\u001b[0;32m      3\u001b[0m mols \u001b[38;5;241m=\u001b[39m (mol1, mol2)\n\u001b[1;32m----> 5\u001b[0m fps \u001b[38;5;241m=\u001b[39m [MACCSkeys\u001b[38;5;241m.\u001b[39mGenMACCSKeys(x) \u001b[38;5;28;01mfor\u001b[39;00m x \u001b[38;5;129;01min\u001b[39;00m mols]\n\u001b[0;32m      6\u001b[0m DataStructs\u001b[38;5;241m.\u001b[39mTanimotoSimilarity(fps[\u001b[38;5;241m0\u001b[39m],fps[\u001b[38;5;241m1\u001b[39m])\n",
      "Cell \u001b[1;32mIn[31], line 5\u001b[0m, in \u001b[0;36m<listcomp>\u001b[1;34m(.0)\u001b[0m\n\u001b[0;32m      2\u001b[0m mol2 \u001b[38;5;241m=\u001b[39m Chem\u001b[38;5;241m.\u001b[39mMolFromSmarts(\u001b[38;5;124m'\u001b[39m\u001b[38;5;124m*-[#6](-*)-[#6]1-[#6]-[#6]-[#6]-[#6]-[#6]-1\u001b[39m\u001b[38;5;124m'\u001b[39m)\n\u001b[0;32m      3\u001b[0m mols \u001b[38;5;241m=\u001b[39m (mol1, mol2)\n\u001b[1;32m----> 5\u001b[0m fps \u001b[38;5;241m=\u001b[39m [MACCSkeys\u001b[38;5;241m.\u001b[39mGenMACCSKeys(x) \u001b[38;5;28;01mfor\u001b[39;00m x \u001b[38;5;129;01min\u001b[39;00m mols]\n\u001b[0;32m      6\u001b[0m DataStructs\u001b[38;5;241m.\u001b[39mTanimotoSimilarity(fps[\u001b[38;5;241m0\u001b[39m],fps[\u001b[38;5;241m1\u001b[39m])\n",
      "\u001b[1;31mRuntimeError\u001b[0m: Pre-condition Violation\n\tgetNumImplicitHs() called without preceding call to calcImplicitValence()\n\tViolation occurred on line 299 in file Code\\GraphMol\\Atom.cpp\n\tFailed Expression: d_implicitValence > -1\n\tRDKIT: 2022.09.5\n\tBOOST: 1_78\n"
     ]
    }
   ],
   "source": [
    "mol1 = Chem.MolFromSmarts('[#6]1-*-[#6]-[#6]2-[#6]-[#6]-2-*-1')\n",
    "mol2 = Chem.MolFromSmarts('*-[#6](-*)-[#6]1-[#6]-[#6]-[#6]-[#6]-[#6]-1')\n",
    "mols = (mol1, mol2)\n",
    "\n",
    "fps = [MACCSkeys.GenMACCSKeys(x) for x in mols]\n",
    "DataStructs.TanimotoSimilarity(fps[0],fps[1])"
   ]
  },
  {
   "cell_type": "code",
   "execution_count": 32,
   "id": "72b8aa35-be70-436e-87ac-6d79680a92b9",
   "metadata": {
    "tags": []
   },
   "outputs": [
    {
     "name": "stdout",
     "output_type": "stream",
     "text": [
      "((0, 0), (1, 0), (3, 0), (4, 0), (6, 0))\n",
      "False\n",
      "((6, 0), (8, 0))\n",
      "((1, 0), (2, 0))\n"
     ]
    }
   ],
   "source": [
    "from rdkit import Chem\n",
    "from rdkit.Chem import AllChem\n",
    "bitinfo = {}\n",
    "AllChem.GetMorganFingerprintAsBitVect(Chem.MolFromSmiles(Chem.CanonSmiles('C1C2CCC3(CCO3)C12')), 2, bitInfo=bitinfo)\n",
    "print(bitinfo[926])\n",
    "print(80 in bitinfo)\n",
    "\n",
    "bitinfo = {}\n",
    "AllChem.GetMorganFingerprintAsBitVect(Chem.MolFromSmiles(Chem.CanonSmiles('OCCC1NC12COC2')),2, bitInfo=bitinfo)\n",
    "print(bitinfo[926])\n",
    "print(bitinfo[80])"
   ]
  },
  {
   "cell_type": "code",
   "execution_count": 33,
   "id": "7338d49f-92be-45ca-8f59-b0337a832c01",
   "metadata": {
    "tags": []
   },
   "outputs": [
    {
     "data": {
      "text/plain": [
       "{98513984: 3,\n",
       " 422715066: 1,\n",
       " 908339072: 1,\n",
       " 951226070: 2,\n",
       " 2246728737: 1,\n",
       " 2763854213: 1,\n",
       " 3207567135: 1,\n",
       " 3217380708: 1,\n",
       " 3218693969: 5,\n",
       " 3999906991: 2,\n",
       " 4244175903: 2}"
      ]
     },
     "execution_count": 33,
     "metadata": {},
     "output_type": "execute_result"
    }
   ],
   "source": [
    "m = Chem.MolFromSmiles('Cc1ccccc1')\n",
    "fp = rdMolDescriptors.GetMorganFingerprint(m,2)\n",
    "fp.GetNonzeroElements()"
   ]
  },
  {
   "cell_type": "code",
   "execution_count": null,
   "id": "890601ec-c305-481e-afb1-bc62aa14019c",
   "metadata": {},
   "outputs": [],
   "source": []
  }
 ],
 "metadata": {
  "kernelspec": {
   "display_name": "Python 3 (ipykernel)",
   "language": "python",
   "name": "python3"
  },
  "language_info": {
   "codemirror_mode": {
    "name": "ipython",
    "version": 3
   },
   "file_extension": ".py",
   "mimetype": "text/x-python",
   "name": "python",
   "nbconvert_exporter": "python",
   "pygments_lexer": "ipython3",
   "version": "3.11.4"
  }
 },
 "nbformat": 4,
 "nbformat_minor": 5
}
