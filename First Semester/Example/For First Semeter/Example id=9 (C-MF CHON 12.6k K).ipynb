{
 "cells": [
  {
   "cell_type": "markdown",
   "id": "ee708f06-236f-4304-ac70-f7d0526a0b97",
   "metadata": {
    "tags": []
   },
   "source": [
    "# Import"
   ]
  },
  {
   "cell_type": "code",
   "execution_count": 38,
   "id": "33318a5a-22df-472d-a42f-3b16e6b9decb",
   "metadata": {
    "id": "5QKaKQNzGN7T",
    "tags": []
   },
   "outputs": [],
   "source": [
    "# Python\n",
    "import numpy as np\n",
    "import pandas as pd\n",
    "import time\n",
    "from IPython.display import Image\n",
    "import seaborn as sns\n",
    "import matplotlib.pyplot as plt\n",
    "\n",
    "# Machine Learning\n",
    "from sklearn.decomposition import PCA\n",
    "from sklearn.model_selection import train_test_split\n",
    "\n",
    "# RDKit\n",
    "from rdkit.Chem import Draw\n",
    "from rdkit.Chem import Descriptors\n",
    "from rdkit.ML.Descriptors import MoleculeDescriptors\n",
    "from rdkit.Chem import rdMolDescriptors\n",
    "from rdkit.Chem import AllChem\n",
    "from rdkit import Chem\n",
    "from rdkit.Chem import Descriptors\n",
    "from rdkit.ML.Descriptors import MoleculeDescriptors\n",
    "from rdkit.Chem.rdMolDescriptors import GetHashedMorganFingerprint\n",
    "from rdkit.Chem.Draw import rdMolDraw2D\n",
    "\n",
    "from sklearn.metrics import mean_absolute_error, mean_absolute_percentage_error, mean_squared_error, r2_score"
   ]
  },
  {
   "cell_type": "code",
   "execution_count": 39,
   "id": "69a516c1-2d27-4e36-a202-ce7cabb5432b",
   "metadata": {
    "tags": []
   },
   "outputs": [],
   "source": [
    "from rdkit.Chem.Draw import IPythonConsole\n",
    "from ipywidgets import interact,fixed,IntSlider\n",
    "def renderFpBit(mol,bitIdx,bitInfo,fn):\n",
    "    bid = bitIdx\n",
    "    return(display(fn(mol,bid,bitInfo)))\n",
    "def get_index_of_array_that_contain_1_in_any_position(list1):\n",
    "    result = []\n",
    "    for i, e in enumerate(list1):\n",
    "        if e > 0:\n",
    "            result.append(i)\n",
    "    return result"
   ]
  },
  {
   "cell_type": "code",
   "execution_count": 40,
   "id": "e2d78a5c-f068-4bbc-830a-c4d059fd6c73",
   "metadata": {
    "tags": []
   },
   "outputs": [],
   "source": [
    "def show_mol(d2d,mol,legend='',highlightAtoms=[]):\n",
    "    d2d.DrawMolecule(mol,legend=legend, highlightAtoms=highlightAtoms)\n",
    "    d2d.FinishDrawing()\n",
    "    bio = BytesIO(d2d.GetDrawingText())\n",
    "    return Image.open(bio)\n",
    "def show_images(imgs,buffer=5):\n",
    "    height = 0\n",
    "    width = 0\n",
    "    for img in imgs:\n",
    "        height = max(height,img.height)\n",
    "        width += img.width\n",
    "    width += buffer*(len(imgs)-1)\n",
    "    res = Image.new(\"RGBA\",(width,height))\n",
    "    x = 0\n",
    "    for img in imgs:\n",
    "        res.paste(img,(x,0))\n",
    "        x += img.width + buffer\n",
    "    return res\n",
    "from io import BytesIO"
   ]
  },
  {
   "cell_type": "markdown",
   "id": "5b8914f7-f2c8-4a59-aa1c-718b5b06189c",
   "metadata": {
    "tags": []
   },
   "source": [
    "# Function"
   ]
  },
  {
   "cell_type": "code",
   "execution_count": 41,
   "id": "90fb7d1f-d957-4a01-babf-c41f7e2a9659",
   "metadata": {
    "tags": []
   },
   "outputs": [],
   "source": [
    "annot_status = False\n",
    "Line_status = 0\n",
    "def Plot_heatmap(Text, text_model, ax_in, VALUE, Code, v_min, v_max, show_decimal):\n",
    "    df = pd.read_excel(\"../../NEW/2023-11-09 CHON_All_Score_K.xlsx\",sheet_name=f\"{Text}\")\n",
    "    df2 = df.copy()#.drop(columns={\"DataType\", \"MAE\", \"RMSE\", \"R2\"})\n",
    "    column_names = [\"Model\",\"Radius\", \"nBits\", VALUE]\n",
    "    df3 = df2.reindex(columns=column_names)\n",
    "    df4 = df3[df3.Model == text_model]\n",
    "    new_df = df4.pivot_table(index=\"Radius\", columns=\"nBits\", values=VALUE)\n",
    "    g = sns.heatmap(new_df, linecolor=\"white\", linewidth=Line_status, cmap=sns.color_palette(Code, as_cmap=True),\n",
    "               vmin=v_min ,vmax=v_max,\n",
    "               fmt=show_decimal, annot = annot_status\n",
    "    ,                    ax=ax_in,cbar=False)\n",
    "    g.invert_yaxis()\n",
    "    g.get_xaxis().set_visible(False)\n",
    "    g.set_title(f\"{text_model}\")\n",
    "    return g\n",
    "def Plot_heatmap_2(Text, text_model, ax_in, VALUE, Code, v_min, v_max, show_decimal):\n",
    "    df = pd.read_excel(\"../../NEW/2023-11-09 CHON All_Score.xlsx\",sheet_name=f\"{Text}\")\n",
    "    df2 = df.copy()#.drop(columns={\"DataType\", \"MAE\", \"RMSE\", \"R2\"})\n",
    "    column_names = [\"Model\",\"Radius\", \"nBits\", VALUE]\n",
    "    df3 = df2.reindex(columns=column_names)\n",
    "    df4 = df3[df3.Model == text_model]\n",
    "    new_df = df4.pivot_table(index=\"Radius\", columns=\"nBits\", values=VALUE)\n",
    "    g = sns.heatmap(new_df, linecolor=\"white\", linewidth=Line_status, cmap=sns.color_palette(Code, as_cmap=True),\n",
    "               vmin=v_min ,vmax=v_max,\n",
    "               fmt=show_decimal, annot = annot_status\n",
    "    ,                    ax=ax_in,cbar=False)\n",
    "    g.invert_yaxis()\n",
    "    #g.get_xaxis().set_visible(False)\n",
    "    g.set_title(f\"{text_model}\")\n",
    "    return g\n",
    "def Plot_heatmap_final(Text, text_model, ax_in, axcb_in, VALUE, Code, v_min, v_max, show_decimal):\n",
    "    df = pd.read_excel(\"../../NEW/2023-11-09 CHON All_Score.xlsx\",sheet_name=f\"{Text}\")\n",
    "    df2 = df.copy()#.drop(columns={\"DataType\", \"MAE\", \"RMSE\", \"R2\"})\n",
    "    column_names = [\"Model\",\"Radius\", \"nBits\", VALUE]\n",
    "    df3 = df2.reindex(columns=column_names)\n",
    "    df4 = df3[df3.Model == text_model]\n",
    "    new_df = df4.pivot_table(index=\"Radius\", columns=\"nBits\", values=VALUE)\n",
    "    g = sns.heatmap(new_df, linecolor=\"white\", linewidth=Line_status, cmap=sns.color_palette(Code, as_cmap=True),\n",
    "               vmin=v_min ,vmax=v_max,\n",
    "               fmt=show_decimal, annot = annot_status\n",
    "    ,                    ax=ax_in,cbar_ax=axcb_in)\n",
    "    g.set_title(f\"{text_model}\")\n",
    "    g.invert_yaxis()\n",
    "    return g"
   ]
  },
  {
   "cell_type": "markdown",
   "id": "163f4f39-bae3-4574-a1cd-23c010383ae5",
   "metadata": {
    "tags": []
   },
   "source": [
    "# Final_Code For Test Set"
   ]
  },
  {
   "cell_type": "code",
   "execution_count": 42,
   "id": "139ce0ae-098d-43f9-9ac8-6ff2d8158d05",
   "metadata": {
    "tags": []
   },
   "outputs": [
    {
     "data": {
      "image/png": "[encoded data removed]",
      "text/plain": [
       "<Figure size 640x480 with 5 Axes>"
      ]
     },
     "metadata": {},
     "output_type": "display_data"
    },
    {
     "data": {
      "text/plain": [
       "<Figure size 1000x1000 with 0 Axes>"
      ]
     },
     "metadata": {},
     "output_type": "display_data"
    }
   ],
   "source": [
    "import seaborn as sns\n",
    "f,((ax1,ax2, axcb),(ax3,ax4, axcb2)) = plt.subplots(2,3, \n",
    "            gridspec_kw={'width_ratios':[1,1,0.08]})\n",
    "#ax1.get_shared_y_axes().join(ax2,ax3,ax4,ax5,ax6)\n",
    "#axcb.get_shared_y_axes().join(axcb2)\n",
    "gs = axcb2.get_gridspec()\n",
    "axcb2.remove()\n",
    "axcb.remove()\n",
    "axbig = f.add_subplot(gs[0:, -1])\n",
    "\n",
    "Error_metric = \"MAPE(%)\"\n",
    "#Error_metric = \"MAE\"\n",
    "#Error_metric = \"R2\"\n",
    "\n",
    "Color_code = \"YlOrBr\"\n",
    "#Color_code = \"YlOrBr_r\"\n",
    "\n",
    "v_min = 5.0\n",
    "v_max = 7.5\n",
    "\n",
    "show_decimal = \".1f\"\n",
    "#show_decimal = \".3f\"\n",
    "\n",
    "g1=Plot_heatmap(\"Test\", \"Ridge\", ax1, Error_metric, Color_code, v_min, v_max, show_decimal)\n",
    "g2=Plot_heatmap(\"Test\", \"RF\", ax2, Error_metric, Color_code, v_min, v_max, show_decimal)\n",
    "g3=Plot_heatmap_2(\"Test\", \"XGB\", ax3, Error_metric, Color_code, v_min, v_max, show_decimal)\n",
    "g4=Plot_heatmap_final(\"Test\", \"KNN\", ax4, axbig, Error_metric, Color_code, v_min, v_max, show_decimal)\n",
    "\n",
    "\n",
    "#ax5.set_xlabel('')\n",
    "#ax5.set_ylabel('')\n",
    "#ax5.get_xaxis().set_visible(False)\n",
    "#ax5.get_yaxis().set_visible(False)\n",
    "g2.get_yaxis().set_visible(False)\n",
    "g4.get_yaxis().set_visible(False)\n",
    "#g5.get_yaxis().set_visible(False)\n",
    "for ax in [g1,g2,g3,g4]:\n",
    "    ax.set_xlabel('')\n",
    "    ax.set_ylabel('')\n",
    "    tl = ax.get_xticklabels()\n",
    "    ax.set_xticklabels(tl, rotation=45)\n",
    "    tly = ax.get_yticklabels()\n",
    "    ax.set_yticklabels(tly, rotation=0)\n",
    "fig = plt.figure(figsize=(10,10))\n",
    "fig.set_dpi(100)\n",
    "plt.show()\n",
    "\n"
   ]
  },
  {
   "cell_type": "code",
   "execution_count": 43,
   "id": "46590e36-2ac3-477e-86f0-53dfc2e80988",
   "metadata": {},
   "outputs": [
    {
     "data": {
      "image/png": "[encoded data removed]",
      "text/plain": [
       "<Figure size 640x480 with 5 Axes>"
      ]
     },
     "metadata": {},
     "output_type": "display_data"
    },
    {
     "data": {
      "text/plain": [
       "<Figure size 1000x1000 with 0 Axes>"
      ]
     },
     "metadata": {},
     "output_type": "display_data"
    }
   ],
   "source": [
    "import seaborn as sns\n",
    "f,((ax1,ax2, axcb),(ax3,ax4, axcb2)) = plt.subplots(2,3, \n",
    "            gridspec_kw={'width_ratios':[1,1,0.08]})\n",
    "#ax1.get_shared_y_axes().join(ax2,ax3,ax4,ax5,ax6)\n",
    "#axcb.get_shared_y_axes().join(axcb2)\n",
    "gs = axcb2.get_gridspec()\n",
    "axcb2.remove()\n",
    "axcb.remove()\n",
    "axbig = f.add_subplot(gs[0:, -1])\n",
    "\n",
    "#Error_metric = \"MAPE(%)\"\n",
    "Error_metric = \"MAE\"\n",
    "#Error_metric = \"R2\"\n",
    "\n",
    "Color_code = \"YlOrBr\"\n",
    "#Color_code = \"YlOrBr_r\"\n",
    "\n",
    "v_min = 20.0\n",
    "v_max = 30.0\n",
    "\n",
    "show_decimal = \".1f\"\n",
    "#show_decimal = \".3f\"\n",
    "\n",
    "g1=Plot_heatmap(\"Test\", \"Ridge\", ax1, Error_metric, Color_code, v_min, v_max, show_decimal)\n",
    "g2=Plot_heatmap(\"Test\", \"RF\", ax2, Error_metric, Color_code, v_min, v_max, show_decimal)\n",
    "g3=Plot_heatmap_2(\"Test\", \"XGB\", ax3, Error_metric, Color_code, v_min, v_max, show_decimal)\n",
    "g4=Plot_heatmap_final(\"Test\", \"KNN\", ax4, axbig, Error_metric, Color_code, v_min, v_max, show_decimal)\n",
    "\n",
    "\n",
    "#ax5.set_xlabel('')\n",
    "#ax5.set_ylabel('')\n",
    "#ax5.get_xaxis().set_visible(False)\n",
    "#ax5.get_yaxis().set_visible(False)\n",
    "g2.get_yaxis().set_visible(False)\n",
    "g4.get_yaxis().set_visible(False)\n",
    "#g5.get_yaxis().set_visible(False)\n",
    "for ax in [g1,g2,g3,g4]:\n",
    "    ax.set_xlabel('')\n",
    "    ax.set_ylabel('')\n",
    "    tl = ax.get_xticklabels()\n",
    "    ax.set_xticklabels(tl, rotation=45)\n",
    "    tly = ax.get_yticklabels()\n",
    "    ax.set_yticklabels(tly, rotation=0)\n",
    "fig = plt.figure(figsize=(10,10))\n",
    "fig.set_dpi(100)\n",
    "plt.show()\n",
    "\n"
   ]
  },
  {
   "cell_type": "code",
   "execution_count": 44,
   "id": "497219e0-b130-4142-9c8b-79d628f20f39",
   "metadata": {},
   "outputs": [
    {
     "data": {
      "image/png": "[encoded data removed]",
      "text/plain": [
       "<Figure size 640x480 with 5 Axes>"
      ]
     },
     "metadata": {},
     "output_type": "display_data"
    },
    {
     "data": {
      "text/plain": [
       "<Figure size 1000x1000 with 0 Axes>"
      ]
     },
     "metadata": {},
     "output_type": "display_data"
    }
   ],
   "source": [
    "import seaborn as sns\n",
    "f,((ax1,ax2, axcb),(ax3,ax4, axcb2)) = plt.subplots(2,3, \n",
    "            gridspec_kw={'width_ratios':[1,1,0.08]})\n",
    "#ax1.get_shared_y_axes().join(ax2,ax3,ax4,ax5,ax6)\n",
    "#axcb.get_shared_y_axes().join(axcb2)\n",
    "gs = axcb2.get_gridspec()\n",
    "axcb2.remove()\n",
    "axcb.remove()\n",
    "axbig = f.add_subplot(gs[0:, -1])\n",
    "\n",
    "#Error_metric = \"MAPE(%)\"\n",
    "#Error_metric = \"MAE\"\n",
    "Error_metric = \"R2\"\n",
    "\n",
    "#Color_code = \"YlOrBr\"\n",
    "Color_code = \"YlOrBr_r\"\n",
    "\n",
    "v_min = 0.6\n",
    "v_max = 0.8\n",
    "\n",
    "#show_decimal = \".1f\"\n",
    "show_decimal = \".2f\"\n",
    "\n",
    "g1=Plot_heatmap(\"Test\", \"Ridge\", ax1, Error_metric, Color_code, v_min, v_max, show_decimal)\n",
    "g2=Plot_heatmap(\"Test\", \"RF\", ax2, Error_metric, Color_code, v_min, v_max, show_decimal)\n",
    "g3=Plot_heatmap_2(\"Test\", \"XGB\", ax3, Error_metric, Color_code, v_min, v_max, show_decimal)\n",
    "g4=Plot_heatmap_final(\"Test\", \"KNN\", ax4, axbig, Error_metric, Color_code, v_min, v_max, show_decimal)\n",
    "\n",
    "\n",
    "#ax5.set_xlabel('')\n",
    "#ax5.set_ylabel('')\n",
    "#ax5.get_xaxis().set_visible(False)\n",
    "#ax5.get_yaxis().set_visible(False)\n",
    "g2.get_yaxis().set_visible(False)\n",
    "g4.get_yaxis().set_visible(False)\n",
    "#g5.get_yaxis().set_visible(False)\n",
    "for ax in [g1,g2,g3,g4]:\n",
    "    ax.set_xlabel('')\n",
    "    ax.set_ylabel('')\n",
    "    tl = ax.get_xticklabels()\n",
    "    ax.set_xticklabels(tl, rotation=45)\n",
    "    tly = ax.get_yticklabels()\n",
    "    ax.set_yticklabels(tly, rotation=0)\n",
    "fig = plt.figure(figsize=(10,10))\n",
    "fig.set_dpi(100)\n",
    "plt.show()\n",
    "\n"
   ]
  },
  {
   "cell_type": "code",
   "execution_count": null,
   "id": "36e51107-29bb-4f62-90fd-6062223c0cd9",
   "metadata": {},
   "outputs": [],
   "source": []
  },
  {
   "cell_type": "code",
   "execution_count": null,
   "id": "0d1a1146-1ce1-4c95-a274-2a6492d9c6ae",
   "metadata": {},
   "outputs": [],
   "source": []
  },
  {
   "cell_type": "code",
   "execution_count": null,
   "id": "3fef0791-1a6c-4732-afd2-fcdf914ff0c5",
   "metadata": {},
   "outputs": [],
   "source": []
  }
 ],
 "metadata": {
  "kernelspec": {
   "display_name": "Python 3 (ipykernel)",
   "language": "python",
   "name": "python3"
  },
  "language_info": {
   "codemirror_mode": {
    "name": "ipython",
    "version": 3
   },
   "file_extension": ".py",
   "mimetype": "text/x-python",
   "name": "python",
   "nbconvert_exporter": "python",
   "pygments_lexer": "ipython3",
   "version": "3.11.4"
  },
  "toc-autonumbering": false
 },
 "nbformat": 4,
 "nbformat_minor": 5
}
