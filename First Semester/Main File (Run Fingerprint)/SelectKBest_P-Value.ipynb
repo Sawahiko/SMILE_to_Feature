{
 "cells": [
  {
   "cell_type": "code",
   "execution_count": 1,
   "id": "c1f03259-5055-468a-95da-e9d360702ca8",
   "metadata": {
    "tags": []
   },
   "outputs": [],
   "source": [
    "# Python\n",
    "import numpy as np\n",
    "import pandas as pd\n",
    "import matplotlib.pyplot as plt\n",
    "import seaborn as sns\n",
    "from scipy import stats\n",
    "from scipy.stats import pearsonr\n",
    "\n",
    "# Machine Learning\n",
    "from sklearn.model_selection import train_test_split\n",
    "from sklearn.feature_selection import SelectKBest, f_regression\n",
    "\n",
    "# RDKit\n",
    "from rdkit.Chem import Descriptors\n",
    "from rdkit.ML.Descriptors import MoleculeDescriptors\n",
    "from rdkit.Chem import rdMolDescriptors\n",
    "from rdkit.Chem import AllChem\n",
    "from rdkit import Chem\n",
    "from rdkit.Chem import Descriptors\n",
    "from rdkit.ML.Descriptors import MoleculeDescriptors\n",
    "from rdkit import DataStructs\n",
    "\n",
    "\n",
    "# Our module\n",
    "from Python_Scoring_Export import Scoring, Export\n",
    "from Python_MLModel import RF, Ridge_M, XGB, NN, CB, DT, SVR_M, KNN\n",
    "from Python_RemoveO import remove_outliers"
   ]
  },
  {
   "cell_type": "code",
   "execution_count": 2,
   "id": "0d8324c1-1965-42f2-ac35-dd03f4be2b4d",
   "metadata": {
    "tags": []
   },
   "outputs": [],
   "source": [
    "MF_bit = 2**12\n",
    "MF_radius = 3\n",
    "Name_model = \"RF\"\n",
    "j=0\n",
    "\n",
    "#df = pd.read_excel(\"../DataTb.xlsx\", sheet_name=\"AllDataSet\")\n",
    "df = remove_outliers(\"../Data.xlsx\", \"New_Data\", 2)\n",
    "# Select feature for data: X=SMILE, Y=Tb\n",
    "X_data_excel= df[[\"SMILES\"]]\n",
    "Y_data= df[\"Tb\"] \n",
    "\n",
    "# Generate Fingerprint from SMILE\n",
    " \n",
    "X_data_use = X_data_excel.copy()\n",
    "X_data_use[\"molecule\"] = X_data_use[\"SMILES\"].apply(lambda x: Chem.MolFromSmiles(x))\n",
    "X_data_use[\"count_morgan_fp\"] = X_data_use[\"molecule\"].apply(lambda x: rdMolDescriptors.GetHashedMorganFingerprint(\n",
    "    x, \n",
    "    radius=MF_radius, \n",
    "    nBits=MF_bit,\n",
    "    useFeatures=True, useChirality=True))\n",
    "X_data_use[\"arr_count_morgan_fp\"] = 0\n",
    "#X_data_use[\"arr_count_morgan_fp\"] = np.zeros((0,), dtype=np.int8)\n",
    "        \n",
    "#X_data_use[\"arr_count_morgan_fp\"] \n",
    "#new_df = X_data_use.apply(DataStructs.ConvertToNumpyArray, axis=0, args=('count_morgan_fp',))\n",
    "         \n",
    "# Transfrom Fingerprint to Column in DataFrame\n",
    "X_data_fp = []\n",
    "for i in range(X_data_use.shape[0]):\n",
    "    #print(np.array(X_data_use[\"morgan_fp\"][i]))\n",
    "    blank_arr = np.zeros((0,), dtype=np.int8)\n",
    "    DataStructs.ConvertToNumpyArray(X_data_use[\"count_morgan_fp\"][i],blank_arr)\n",
    "    datafram_i = pd.DataFrame(blank_arr)\n",
    "    datafram_i = datafram_i.T\n",
    "    X_data_fp.append(datafram_i)\n",
    "\n",
    "x_data_fp = pd.concat(X_data_fp, ignore_index=True)\n",
    "y_data_fp = Y_data.copy()\n",
    "\n",
    "#k_best = SelectKBest(f_regression, k=1202) # Select the top 200 features\n",
    "#x_new = k_best.fit_transform(x_data_fp, y_data_fp)\n",
    "\n",
    "x_train_fp, x_test_fp, y_train_fp, y_test_fp = train_test_split(x_data_fp, y_data_fp, test_size=0.1, random_state=42)"
   ]
  },
  {
   "cell_type": "markdown",
   "id": "aeda0c55-f84d-4d2e-b5d4-bf706fc99a78",
   "metadata": {
    "jp-MarkdownHeadingCollapsed": true,
    "tags": []
   },
   "source": [
    "# Score"
   ]
  },
  {
   "cell_type": "code",
   "execution_count": 47,
   "id": "a222a254-2d62-47b8-be64-a7ad8ecfbff8",
   "metadata": {
    "tags": []
   },
   "outputs": [],
   "source": [
    "scores = k_best.scores_\n",
    "\n",
    "# Get the names of the selected features\n",
    "selected_features = k_best.get_support()\n",
    "feature_names = x_data_fp.columns\n",
    "\n",
    "count = 0\n",
    "# Print the scores of the selected features\n",
    "feature = []\n",
    "f_score = []\n",
    "for i, feature_name in enumerate(feature_names):\n",
    "    if selected_features[i]:\n",
    "        feature.append(feature_name)\n",
    "        f_score.append(scores[i])\n",
    "        #print(f\"Feature {feature_name}: {scores[i]:.2f}\")\n",
    "df_feature = pd.DataFrame({'Feature': feature,'Score': f_score})"
   ]
  },
  {
   "cell_type": "code",
   "execution_count": 48,
   "id": "b1a8c147-66de-4672-989d-b59dd0eea779",
   "metadata": {
    "tags": []
   },
   "outputs": [
    {
     "data": {
      "text/html": [
       "<div>\n",
       "<style scoped>\n",
       "    .dataframe tbody tr th:only-of-type {\n",
       "        vertical-align: middle;\n",
       "    }\n",
       "\n",
       "    .dataframe tbody tr th {\n",
       "        vertical-align: top;\n",
       "    }\n",
       "\n",
       "    .dataframe thead th {\n",
       "        text-align: right;\n",
       "    }\n",
       "</style>\n",
       "<table border=\"1\" class=\"dataframe\">\n",
       "  <thead>\n",
       "    <tr style=\"text-align: right;\">\n",
       "      <th></th>\n",
       "      <th>Feature</th>\n",
       "      <th>Score</th>\n",
       "    </tr>\n",
       "  </thead>\n",
       "  <tbody>\n",
       "    <tr>\n",
       "      <th>1</th>\n",
       "      <td>1</td>\n",
       "      <td>1270.960336</td>\n",
       "    </tr>\n",
       "    <tr>\n",
       "      <th>2</th>\n",
       "      <td>2</td>\n",
       "      <td>956.875009</td>\n",
       "    </tr>\n",
       "    <tr>\n",
       "      <th>1168</th>\n",
       "      <td>3998</td>\n",
       "      <td>932.279379</td>\n",
       "    </tr>\n",
       "    <tr>\n",
       "      <th>920</th>\n",
       "      <td>3096</td>\n",
       "      <td>931.059825</td>\n",
       "    </tr>\n",
       "    <tr>\n",
       "      <th>19</th>\n",
       "      <td>32</td>\n",
       "      <td>930.642503</td>\n",
       "    </tr>\n",
       "    <tr>\n",
       "      <th>...</th>\n",
       "      <td>...</td>\n",
       "      <td>...</td>\n",
       "    </tr>\n",
       "    <tr>\n",
       "      <th>893</th>\n",
       "      <td>2957</td>\n",
       "      <td>4.058423</td>\n",
       "    </tr>\n",
       "    <tr>\n",
       "      <th>464</th>\n",
       "      <td>1599</td>\n",
       "      <td>4.054766</td>\n",
       "    </tr>\n",
       "    <tr>\n",
       "      <th>65</th>\n",
       "      <td>206</td>\n",
       "      <td>4.053910</td>\n",
       "    </tr>\n",
       "    <tr>\n",
       "      <th>1029</th>\n",
       "      <td>3472</td>\n",
       "      <td>4.042694</td>\n",
       "    </tr>\n",
       "    <tr>\n",
       "      <th>1054</th>\n",
       "      <td>3552</td>\n",
       "      <td>4.037765</td>\n",
       "    </tr>\n",
       "  </tbody>\n",
       "</table>\n",
       "<p>1202 rows × 2 columns</p>\n",
       "</div>"
      ],
      "text/plain": [
       "      Feature        Score\n",
       "1           1  1270.960336\n",
       "2           2   956.875009\n",
       "1168     3998   932.279379\n",
       "920      3096   931.059825\n",
       "19         32   930.642503\n",
       "...       ...          ...\n",
       "893      2957     4.058423\n",
       "464      1599     4.054766\n",
       "65        206     4.053910\n",
       "1029     3472     4.042694\n",
       "1054     3552     4.037765\n",
       "\n",
       "[1202 rows x 2 columns]"
      ]
     },
     "execution_count": 48,
     "metadata": {},
     "output_type": "execute_result"
    }
   ],
   "source": [
    "df_feature.sort_values(by='Score', ascending=False, inplace=False)"
   ]
  },
  {
   "cell_type": "code",
   "execution_count": 23,
   "id": "3a6cbe86-9862-419f-a150-661ef2b1184d",
   "metadata": {
    "tags": []
   },
   "outputs": [
    {
     "data": {
      "image/png": "[encoded data removed]",
      "text/plain": [
       "<Figure size 640x480 with 1 Axes>"
      ]
     },
     "metadata": {},
     "output_type": "display_data"
    }
   ],
   "source": [
    "score = k_best.scores_\n",
    "features = np.arange(x_data_fp.shape[1])\n",
    "\n",
    "plt.bar(features[3090:3100], score[3090:3100])\n",
    "plt.xlabel('Feature Index')\n",
    "plt.ylabel('Score')\n",
    "plt.title('Significance of Features')\n",
    "plt.show()"
   ]
  },
  {
   "cell_type": "markdown",
   "id": "49f25be3-535d-444e-ac92-b83ab31ff3a9",
   "metadata": {
    "tags": []
   },
   "source": [
    "# Outlist"
   ]
  },
  {
   "cell_type": "code",
   "execution_count": 3,
   "id": "3ac9930d-4e33-4dd3-8a93-889704890d0e",
   "metadata": {
    "tags": []
   },
   "outputs": [
    {
     "name": "stderr",
     "output_type": "stream",
     "text": [
      "C:\\Users\\oomsin\\anaconda3\\Lib\\site-packages\\scipy\\stats\\_stats_py.py:4424: ConstantInputWarning: An input array is constant; the correlation coefficient is not defined.\n",
      "  warnings.warn(stats.ConstantInputWarning(msg))\n"
     ]
    }
   ],
   "source": [
    "out_list = []\n",
    "for column in x_train_fp.columns:\n",
    "    corr_tuple = pearsonr(x_train_fp[column], y_train_fp)\n",
    "    out_list.append([column, corr_tuple[0], corr_tuple[1]])"
   ]
  },
  {
   "cell_type": "markdown",
   "id": "f491ec16-68f8-46e6-92f8-cdfd0598ad0f",
   "metadata": {
    "tags": []
   },
   "source": [
    "# Relationship of Features with Response Variables"
   ]
  },
  {
   "cell_type": "code",
   "execution_count": 5,
   "id": "d52ccc74-d84f-4786-b489-5ac0a32f1a3c",
   "metadata": {
    "tags": []
   },
   "outputs": [],
   "source": [
    "def plot_join_plot(df, feature, target):\n",
    "  j = sns.jointplot(data=df, x=feature, y=target, kind='reg')\n",
    "  ax = j.ax_joint\n",
    "  j.ax_joint.set_xlabel(f'Bit: {feature}')\n",
    "  j.ax_joint.set_ylabel('Normal boiling point [K]')\n",
    "  r, p = stats.pearsonr(df[feature], df[target])\n",
    "  j.ax_joint.annotate(f'$\\\\rho = {r:.2f}, p = {p:.2f}$', xy=(0.1, 0.9), xycoords='axes fraction',ha='left', va='center',bbox={'boxstyle': 'round', 'fc': 'powderblue', 'ec': 'navy'})\n",
    "  return plt.show()"
   ]
  },
  {
   "cell_type": "code",
   "execution_count": 6,
   "id": "3506d96f-c25e-4cab-8074-e757a603b74c",
   "metadata": {
    "tags": []
   },
   "outputs": [],
   "source": [
    "train_df = pd.concat([x_train_fp, y_train_fp], axis=1)"
   ]
  },
  {
   "cell_type": "code",
   "execution_count": 15,
   "id": "e2a61922-b95d-4f18-86f5-ab11180eefe2",
   "metadata": {
    "tags": []
   },
   "outputs": [
    {
     "data": {
      "image/png": "[encoded data removed]",
      "text/plain": [
       "<Figure size 600x600 with 3 Axes>"
      ]
     },
     "metadata": {},
     "output_type": "display_data"
    }
   ],
   "source": [
    "target_col = \"Tb\"\n",
    "plot_join_plot(train_df, 1, target_col)"
   ]
  },
  {
   "cell_type": "code",
   "execution_count": 34,
   "id": "f469602b-4950-4adf-896c-42eb0f65624e",
   "metadata": {
    "tags": []
   },
   "outputs": [
    {
     "data": {
      "text/html": [
       "<div>\n",
       "<style scoped>\n",
       "    .dataframe tbody tr th:only-of-type {\n",
       "        vertical-align: middle;\n",
       "    }\n",
       "\n",
       "    .dataframe tbody tr th {\n",
       "        vertical-align: top;\n",
       "    }\n",
       "\n",
       "    .dataframe thead th {\n",
       "        text-align: right;\n",
       "    }\n",
       "</style>\n",
       "<table border=\"1\" class=\"dataframe\">\n",
       "  <thead>\n",
       "    <tr style=\"text-align: right;\">\n",
       "      <th></th>\n",
       "      <th>0</th>\n",
       "      <th>1</th>\n",
       "      <th>2</th>\n",
       "      <th>3</th>\n",
       "      <th>4</th>\n",
       "      <th>5</th>\n",
       "      <th>6</th>\n",
       "      <th>7</th>\n",
       "      <th>8</th>\n",
       "      <th>9</th>\n",
       "      <th>...</th>\n",
       "      <th>4087</th>\n",
       "      <th>4088</th>\n",
       "      <th>4089</th>\n",
       "      <th>4090</th>\n",
       "      <th>4091</th>\n",
       "      <th>4092</th>\n",
       "      <th>4093</th>\n",
       "      <th>4094</th>\n",
       "      <th>4095</th>\n",
       "      <th>Tb</th>\n",
       "    </tr>\n",
       "  </thead>\n",
       "  <tbody>\n",
       "    <tr>\n",
       "      <th>6570</th>\n",
       "      <td>4</td>\n",
       "      <td>4</td>\n",
       "      <td>4</td>\n",
       "      <td>0</td>\n",
       "      <td>0</td>\n",
       "      <td>0</td>\n",
       "      <td>0</td>\n",
       "      <td>0</td>\n",
       "      <td>0</td>\n",
       "      <td>0</td>\n",
       "      <td>...</td>\n",
       "      <td>0</td>\n",
       "      <td>0</td>\n",
       "      <td>0</td>\n",
       "      <td>0</td>\n",
       "      <td>0</td>\n",
       "      <td>0</td>\n",
       "      <td>0</td>\n",
       "      <td>0</td>\n",
       "      <td>0</td>\n",
       "      <td>380.15</td>\n",
       "    </tr>\n",
       "  </tbody>\n",
       "</table>\n",
       "<p>1 rows × 4097 columns</p>\n",
       "</div>"
      ],
      "text/plain": [
       "      0  1  2  3  4  5  6  7  8  9  ...  4087  4088  4089  4090  4091  4092  \\\n",
       "6570  4  4  4  0  0  0  0  0  0  0  ...     0     0     0     0     0     0   \n",
       "\n",
       "      4093  4094  4095      Tb  \n",
       "6570     0     0     0  380.15  \n",
       "\n",
       "[1 rows x 4097 columns]"
      ]
     },
     "execution_count": 34,
     "metadata": {},
     "output_type": "execute_result"
    }
   ],
   "source": [
    "test = pd.concat([x_data_fp, y_data_fp], axis=1)\n",
    "n_test = test[(test[1] == 4) * (test[\"Tb\"] < 400)]\n",
    "n_test"
   ]
  },
  {
   "cell_type": "markdown",
   "id": "415ec9bb-b0c4-40a4-bbb6-7220610bf658",
   "metadata": {
    "tags": []
   },
   "source": [
    "# Correlation Analysis using Pearson Analysis"
   ]
  },
  {
   "cell_type": "code",
   "execution_count": 12,
   "id": "43d89075-16fe-46c0-af03-6dd52ce4e665",
   "metadata": {
    "tags": []
   },
   "outputs": [
    {
     "data": {
      "text/plain": [
       "Features        0\n",
       "Correlation    21\n",
       "P-Value        21\n",
       "dtype: int64"
      ]
     },
     "execution_count": 12,
     "metadata": {},
     "output_type": "execute_result"
    }
   ],
   "source": [
    "corr_df = pd.DataFrame(out_list, columns=[\"Features\", \"Correlation\", \"P-Value\"])\n",
    "corr_df.isnull().sum()"
   ]
  },
  {
   "cell_type": "code",
   "execution_count": 13,
   "id": "7445cdb6-54d0-4931-af1d-7896d97e3e77",
   "metadata": {
    "tags": []
   },
   "outputs": [
    {
     "data": {
      "text/html": [
       "<div>\n",
       "<style scoped>\n",
       "    .dataframe tbody tr th:only-of-type {\n",
       "        vertical-align: middle;\n",
       "    }\n",
       "\n",
       "    .dataframe tbody tr th {\n",
       "        vertical-align: top;\n",
       "    }\n",
       "\n",
       "    .dataframe thead th {\n",
       "        text-align: right;\n",
       "    }\n",
       "</style>\n",
       "<table border=\"1\" class=\"dataframe\">\n",
       "  <thead>\n",
       "    <tr style=\"text-align: right;\">\n",
       "      <th></th>\n",
       "      <th>Features</th>\n",
       "      <th>Correlation</th>\n",
       "      <th>P-Value</th>\n",
       "    </tr>\n",
       "  </thead>\n",
       "  <tbody>\n",
       "    <tr>\n",
       "      <th>1275</th>\n",
       "      <td>1275</td>\n",
       "      <td>-0.000022</td>\n",
       "      <td>0.998</td>\n",
       "    </tr>\n",
       "    <tr>\n",
       "      <th>1813</th>\n",
       "      <td>1813</td>\n",
       "      <td>-0.000016</td>\n",
       "      <td>0.999</td>\n",
       "    </tr>\n",
       "    <tr>\n",
       "      <th>3685</th>\n",
       "      <td>3685</td>\n",
       "      <td>-0.000013</td>\n",
       "      <td>0.999</td>\n",
       "    </tr>\n",
       "    <tr>\n",
       "      <th>2256</th>\n",
       "      <td>2256</td>\n",
       "      <td>-0.000009</td>\n",
       "      <td>0.999</td>\n",
       "    </tr>\n",
       "    <tr>\n",
       "      <th>3903</th>\n",
       "      <td>3903</td>\n",
       "      <td>0.000003</td>\n",
       "      <td>1.000</td>\n",
       "    </tr>\n",
       "  </tbody>\n",
       "</table>\n",
       "</div>"
      ],
      "text/plain": [
       "      Features  Correlation  P-Value\n",
       "1275      1275    -0.000022    0.998\n",
       "1813      1813    -0.000016    0.999\n",
       "3685      3685    -0.000013    0.999\n",
       "2256      2256    -0.000009    0.999\n",
       "3903      3903     0.000003    1.000"
      ]
     },
     "execution_count": 13,
     "metadata": {},
     "output_type": "execute_result"
    }
   ],
   "source": [
    "corr_df.sort_values(by=['P-Value'], inplace=True)\n",
    "corr_df.dropna().round({'P-Value':3}).tail()"
   ]
  },
  {
   "cell_type": "code",
   "execution_count": 82,
   "id": "ba5ccb05-cf32-4aa6-aed8-30dd4b359ce1",
   "metadata": {
    "tags": []
   },
   "outputs": [
    {
     "data": {
      "text/plain": [
       "1       0.0\n",
       "2       0.0\n",
       "3096    0.0\n",
       "3998    0.0\n",
       "32      0.0\n",
       "Name: P-Value, dtype: float64"
      ]
     },
     "execution_count": 82,
     "metadata": {},
     "output_type": "execute_result"
    }
   ],
   "source": [
    "#new_data = corr_df[corr_df[\"P-Value\"] < 0.05]\n",
    "new_data = corr_df[\"P-Value\"].dropna()\n",
    "new_data.round(3).head()"
   ]
  },
  {
   "cell_type": "code",
   "execution_count": 10,
   "id": "ac5ff101-6492-4004-ba84-2925227adba7",
   "metadata": {
    "tags": []
   },
   "outputs": [
    {
     "ename": "NameError",
     "evalue": "name 'new_data' is not defined",
     "output_type": "error",
     "traceback": [
      "\u001b[1;31m---------------------------------------------------------------------------\u001b[0m",
      "\u001b[1;31mNameError\u001b[0m                                 Traceback (most recent call last)",
      "Cell \u001b[1;32mIn[10], line 2\u001b[0m\n\u001b[0;32m      1\u001b[0m new_features \u001b[38;5;241m=\u001b[39m []\n\u001b[1;32m----> 2\u001b[0m \u001b[38;5;28;01mfor\u001b[39;00m i \u001b[38;5;129;01min\u001b[39;00m \u001b[38;5;28mrange\u001b[39m(\u001b[38;5;28mlen\u001b[39m(new_data[\u001b[38;5;124m\"\u001b[39m\u001b[38;5;124mFeatures\u001b[39m\u001b[38;5;124m\"\u001b[39m])):\n\u001b[0;32m      3\u001b[0m     new_features\u001b[38;5;241m.\u001b[39mappend(i)\n\u001b[0;32m      4\u001b[0m \u001b[38;5;28mlen\u001b[39m(new_features)\n",
      "\u001b[1;31mNameError\u001b[0m: name 'new_data' is not defined"
     ]
    }
   ],
   "source": [
    "new_features = []\n",
    "for i in range(len(new_data[\"Features\"])):\n",
    "    new_features.append(i)\n",
    "len(new_features)"
   ]
  },
  {
   "cell_type": "code",
   "execution_count": null,
   "id": "d4111ee1-5b8b-4f79-8880-02443a5b6709",
   "metadata": {
    "tags": []
   },
   "outputs": [],
   "source": [
    "max(x_train_fp[1][:])"
   ]
  },
  {
   "cell_type": "code",
   "execution_count": null,
   "id": "28ad5b36-6738-4b08-82a4-518402af84ff",
   "metadata": {
    "tags": []
   },
   "outputs": [],
   "source": [
    "x_train_fp.head()"
   ]
  },
  {
   "cell_type": "markdown",
   "id": "f694820d-4c08-43e4-ac49-9d2d8c339b1c",
   "metadata": {
    "tags": []
   },
   "source": [
    "## Score and P-Value"
   ]
  },
  {
   "cell_type": "code",
   "execution_count": 140,
   "id": "18c8b218-b890-4be6-8492-c58310d34229",
   "metadata": {
    "tags": []
   },
   "outputs": [],
   "source": [
    "k_best = SelectKBest(f_regression, k=668) # Select the top 200 features\n",
    "x_new = k_best.fit_transform(x_data_fp, y_data_fp)\n",
    "\n",
    "scores = k_best.scores_\n",
    "pvalues = k_best.pvalues_\n",
    "\n",
    "selected_features = k_best.get_support()\n",
    "feature_names = x_data_fp.columns\n",
    "        \n",
    "#Print the scores of the selected features\n",
    "test = []\n",
    "for i, feature_name in enumerate(feature_names):\n",
    "    if selected_features[i]:\n",
    "        test.append([feature_name, scores[i], pvalues[i]])\n",
    "#        print(f\"Feature {feature_name}: {scores[i]:.2f}\")"
   ]
  },
  {
   "cell_type": "code",
   "execution_count": 25,
   "id": "ffa19d78-29a3-4ac2-b28f-0c153695bc2f",
   "metadata": {
    "tags": []
   },
   "outputs": [
    {
     "ename": "NameError",
     "evalue": "name 'test' is not defined",
     "output_type": "error",
     "traceback": [
      "\u001b[1;31m---------------------------------------------------------------------------\u001b[0m",
      "\u001b[1;31mNameError\u001b[0m                                 Traceback (most recent call last)",
      "Cell \u001b[1;32mIn[25], line 1\u001b[0m\n\u001b[1;32m----> 1\u001b[0m n_df \u001b[38;5;241m=\u001b[39m pd\u001b[38;5;241m.\u001b[39mDataFrame(test, columns\u001b[38;5;241m=\u001b[39m[\u001b[38;5;124m\"\u001b[39m\u001b[38;5;124mFeatures\u001b[39m\u001b[38;5;124m\"\u001b[39m, \u001b[38;5;124m\"\u001b[39m\u001b[38;5;124mScore\u001b[39m\u001b[38;5;124m\"\u001b[39m, \u001b[38;5;124m\"\u001b[39m\u001b[38;5;124mP-Value\u001b[39m\u001b[38;5;124m\"\u001b[39m])\n\u001b[0;32m      2\u001b[0m n_df\u001b[38;5;241m.\u001b[39msort_values(by\u001b[38;5;241m=\u001b[39m[\u001b[38;5;124m'\u001b[39m\u001b[38;5;124mScore\u001b[39m\u001b[38;5;124m'\u001b[39m], ascending\u001b[38;5;241m=\u001b[39m\u001b[38;5;28;01mFalse\u001b[39;00m, inplace\u001b[38;5;241m=\u001b[39m\u001b[38;5;28;01mFalse\u001b[39;00m)\n",
      "\u001b[1;31mNameError\u001b[0m: name 'test' is not defined"
     ]
    }
   ],
   "source": [
    "n_df = pd.DataFrame(test, columns=[\"Features\", \"Score\", \"P-Value\"])\n",
    "n_df.sort_values(by=['Score'], ascending=False, inplace=False)"
   ]
  },
  {
   "cell_type": "code",
   "execution_count": 142,
   "id": "2612475c-ef78-454d-bb9e-dc4066a48d7c",
   "metadata": {
    "tags": []
   },
   "outputs": [
    {
     "data": {
      "text/plain": [
       "(531, 3)"
      ]
     },
     "execution_count": 142,
     "metadata": {},
     "output_type": "execute_result"
    }
   ],
   "source": [
    "nn = n_df[(n_df[\"Score\"] > 10) * (n_df[\"P-Value\"] < 0.05)].sort_values(by=['Score'], ascending=False)\n",
    "nn.shape"
   ]
  },
  {
   "cell_type": "code",
   "execution_count": null,
   "id": "3145754c-d15b-47cc-aa25-0f9e2c209252",
   "metadata": {},
   "outputs": [],
   "source": []
  }
 ],
 "metadata": {
  "kernelspec": {
   "display_name": "Python 3 (ipykernel)",
   "language": "python",
   "name": "python3"
  },
  "language_info": {
   "codemirror_mode": {
    "name": "ipython",
    "version": 3
   },
   "file_extension": ".py",
   "mimetype": "text/x-python",
   "name": "python",
   "nbconvert_exporter": "python",
   "pygments_lexer": "ipython3",
   "version": "3.11.4"
  }
 },
 "nbformat": 4,
 "nbformat_minor": 5
}
