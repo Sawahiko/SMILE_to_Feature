{
 "cells": [
  {
   "cell_type": "code",
   "execution_count": 167,
   "id": "a6deaec2-37a7-4881-b2f5-cde1ebaed586",
   "metadata": {
    "id": "5QKaKQNzGN7T",
    "tags": []
   },
   "outputs": [],
   "source": [
    "# https://www.rdkit.org/\n",
    "#https://github.com/rdkit/rdkit\n",
    "from rdkit.Chem import AllChem\n",
    "from rdkit import Chem\n",
    "from rdkit.Chem import Descriptors\n",
    "from rdkit.ML.Descriptors import MoleculeDescriptors\n",
    "\n",
    "# https://pandas.pydata.org\n",
    "import pandas as pd\n",
    "\n",
    "# https://numpy.org/doc/stable/release.html\n",
    "import numpy as np\n",
    "\n",
    "#https://github.com/mordred-descriptor/mordred\n",
    "from mordred import Calculator, descriptors\n",
    "\n",
    "from rdkit.Chem import Draw\n",
    "from rdkit.Chem.Draw import rdMolDraw2D"
   ]
  },
  {
   "cell_type": "code",
   "execution_count": 144,
   "id": "7cca2386-9aba-4f01-9378-b9cd816dcbd9",
   "metadata": {
    "tags": []
   },
   "outputs": [],
   "source": [
    "m1 = Chem.MolFromSmiles('c1ccN(COO)Cc1')\n",
    "#m1 = Chem.MolFromSmiles('Cc1ccccc1')"
   ]
  },
  {
   "cell_type": "markdown",
   "id": "9b234943-72e1-4bd2-91f2-e1be7fc5b7df",
   "metadata": {
    "tags": []
   },
   "source": [
    "# SMILE to Image"
   ]
  },
  {
   "cell_type": "code",
   "execution_count": 145,
   "id": "10859dc9-97c1-4905-b7cd-0fd103b5fccb",
   "metadata": {
    "tags": []
   },
   "outputs": [
    {
     "data": {
      "image/png": "[encoded data removed]",
      "text/plain": [
       "<PIL.PngImagePlugin.PngImageFile image mode=RGB size=300x300>"
      ]
     },
     "execution_count": 145,
     "metadata": {},
     "output_type": "execute_result"
    }
   ],
   "source": [
    "img = Draw.MolToImage(m1)\n",
    "img"
   ]
  },
  {
   "cell_type": "markdown",
   "id": "0b3b39b0-7718-47d8-a921-3e0b9a23403b",
   "metadata": {
    "tags": []
   },
   "source": [
    "# Count Atom [ 9H,  6C]"
   ]
  },
  {
   "cell_type": "code",
   "execution_count": 146,
   "id": "bc72aae1-7825-4fae-8ac1-116414c0e794",
   "metadata": {
    "tags": []
   },
   "outputs": [
    {
     "name": "stdout",
     "output_type": "stream",
     "text": [
      "NO H 9\n",
      "   H 18\n"
     ]
    }
   ],
   "source": [
    "print(\"NO H\",m1.GetNumAtoms())\n",
    "\n",
    "m1_2 = Chem.AddHs(m1)\n",
    "print(\"   H\",m1_2.GetNumAtoms())"
   ]
  },
  {
   "cell_type": "code",
   "execution_count": 190,
   "id": "d818fc49-915d-4d1e-96a1-b283feeef547",
   "metadata": {
    "tags": []
   },
   "outputs": [
    {
     "name": "stdout",
     "output_type": "stream",
     "text": [
      "6 C\n",
      "6 C\n",
      "6 C\n",
      "7 N\n",
      "6 C\n",
      "8 O\n",
      "8 O\n",
      "6 C\n",
      "6 C\n",
      "SINGLE\n",
      "DOUBLE\n",
      "SINGLE\n",
      "SINGLE\n",
      "SINGLE\n",
      "SINGLE\n",
      "SINGLE\n",
      "SINGLE\n",
      "DOUBLE\n"
     ]
    }
   ],
   "source": [
    "list1 = list()\n",
    "for atom in m1.GetAtoms():\n",
    "  print(atom.GetAtomicNum(), atom.GetSymbol())\n",
    "  list1.append(atom.GetAtomicNum())\n",
    "\n",
    "list2 = list()\n",
    "for bonds in m1.GetBonds():\n",
    "  print(bonds.GetBondType())\n",
    "  list2.append(bonds.GetBondType())\n",
    "#m2.GetAtomWithIdx(0).GetSymbol()"
   ]
  },
  {
   "cell_type": "code",
   "execution_count": 192,
   "id": "9db88bda-f58f-40b7-a5a1-73d48431e219",
   "metadata": {
    "tags": []
   },
   "outputs": [
    {
     "data": {
      "text/plain": [
       "{6, 7, 8}"
      ]
     },
     "execution_count": 192,
     "metadata": {},
     "output_type": "execute_result"
    }
   ],
   "source": [
    "set(list1)"
   ]
  },
  {
   "cell_type": "code",
   "execution_count": 193,
   "id": "4fb5e50d-b02c-4c41-addd-f7ac7a20c15e",
   "metadata": {
    "tags": []
   },
   "outputs": [
    {
     "data": {
      "text/plain": [
       "{rdkit.Chem.rdchem.BondType.SINGLE, rdkit.Chem.rdchem.BondType.DOUBLE}"
      ]
     },
     "execution_count": 193,
     "metadata": {},
     "output_type": "execute_result"
    }
   ],
   "source": [
    "set(list2)"
   ]
  },
  {
   "cell_type": "markdown",
   "id": "3c105254-5d95-43d9-b937-838ede85b0f7",
   "metadata": {
    "tags": []
   },
   "source": [
    "# Search Structure [ Ring, Functional Group]"
   ]
  },
  {
   "cell_type": "code",
   "execution_count": 165,
   "id": "e65fecfa-8fe9-4542-9c7f-f44008e7efbe",
   "metadata": {
    "tags": []
   },
   "outputs": [
    {
     "name": "stdout",
     "output_type": "stream",
     "text": [
      "True :  1 ring\n"
     ]
    },
    {
     "data": {
      "image/png": "[encoded data removed]",
      "text/plain": [
       "<PIL.PngImagePlugin.PngImageFile image mode=RGB size=300x300>"
      ]
     },
     "execution_count": 165,
     "metadata": {},
     "output_type": "execute_result"
    }
   ],
   "source": [
    "m2 = Chem.MolFromSmiles('C1=CC=CC=C1OC=O')\n",
    "img = Draw.MolToImage(m2)\n",
    "ri = m2.GetRingInfo()\n",
    "print(m2.GetBondWithIdx(4).GetIsAromatic(),\": \", ri.NumAtomRings(0), 'ring')\n",
    "img"
   ]
  },
  {
   "cell_type": "code",
   "execution_count": 150,
   "id": "3476c89a-0213-4f11-a4c8-877a61132cf7",
   "metadata": {
    "tags": []
   },
   "outputs": [
    {
     "data": {
      "text/plain": [
       "True"
      ]
     },
     "execution_count": 150,
     "metadata": {},
     "output_type": "execute_result"
    }
   ],
   "source": [
    "m2.HasSubstructMatch(Chem.MolFromSmarts('CO'))"
   ]
  },
  {
   "cell_type": "markdown",
   "id": "eea1e8b5-6f4f-461b-9e2c-f85c775cb5d7",
   "metadata": {
    "jp-MarkdownHeadingCollapsed": true,
    "tags": []
   },
   "source": [
    "# Finger print"
   ]
  },
  {
   "cell_type": "code",
   "execution_count": 151,
   "id": "9cba8b61-0832-46a7-a9c1-5eb8687a88f9",
   "metadata": {
    "tags": []
   },
   "outputs": [
    {
     "ename": "AttributeError",
     "evalue": "module 'rdkit.Chem.AllChem' has no attribute 'GetRDKitFPGenerator'",
     "output_type": "error",
     "traceback": [
      "\u001b[1;31m---------------------------------------------------------------------------\u001b[0m",
      "\u001b[1;31mAttributeError\u001b[0m                            Traceback (most recent call last)",
      "Cell \u001b[1;32mIn[151], line 4\u001b[0m\n\u001b[0;32m      1\u001b[0m \u001b[38;5;28;01mfrom\u001b[39;00m \u001b[38;5;21;01mrdkit\u001b[39;00m \u001b[38;5;28;01mimport\u001b[39;00m DataStructs\n\u001b[0;32m      2\u001b[0m ms \u001b[38;5;241m=\u001b[39m [Chem\u001b[38;5;241m.\u001b[39mMolFromSmiles(\u001b[38;5;124m'\u001b[39m\u001b[38;5;124mCCOC\u001b[39m\u001b[38;5;124m'\u001b[39m), Chem\u001b[38;5;241m.\u001b[39mMolFromSmiles(\u001b[38;5;124m'\u001b[39m\u001b[38;5;124mCCO\u001b[39m\u001b[38;5;124m'\u001b[39m),\n\u001b[0;32m      3\u001b[0m Chem\u001b[38;5;241m.\u001b[39mMolFromSmiles(\u001b[38;5;124m'\u001b[39m\u001b[38;5;124mCOC\u001b[39m\u001b[38;5;124m'\u001b[39m)]\n\u001b[1;32m----> 4\u001b[0m fpgen \u001b[38;5;241m=\u001b[39m AllChem\u001b[38;5;241m.\u001b[39mGetRDKitFPGenerator()\n\u001b[0;32m      5\u001b[0m fps \u001b[38;5;241m=\u001b[39m [fpgen\u001b[38;5;241m.\u001b[39mGetFingerprint(x) \u001b[38;5;28;01mfor\u001b[39;00m x \u001b[38;5;129;01min\u001b[39;00m ms]\n\u001b[0;32m      6\u001b[0m DataStructs\u001b[38;5;241m.\u001b[39mTanimotoSimilarity(fps[\u001b[38;5;241m0\u001b[39m],fps[\u001b[38;5;241m1\u001b[39m])\n",
      "\u001b[1;31mAttributeError\u001b[0m: module 'rdkit.Chem.AllChem' has no attribute 'GetRDKitFPGenerator'"
     ]
    }
   ],
   "source": [
    "from rdkit import DataStructs\n",
    "ms = [Chem.MolFromSmiles('CCOC'), Chem.MolFromSmiles('CCO'),\n",
    "Chem.MolFromSmiles('COC')]\n",
    "fpgen = AllChem.GetRDKitFPGenerator()\n",
    "fps = [fpgen.GetFingerprint(x) for x in ms]\n",
    "DataStructs.TanimotoSimilarity(fps[0],fps[1])"
   ]
  },
  {
   "cell_type": "code",
   "execution_count": null,
   "id": "21b4a6cb-ea85-4c5d-ba82-0faa69194c58",
   "metadata": {
    "tags": []
   },
   "outputs": [],
   "source": [
    "AllChem.GetMorganFingerprint(ms[0])"
   ]
  },
  {
   "cell_type": "code",
   "execution_count": null,
   "id": "eedfaa8e-d12d-4c62-8ef6-0857716354a5",
   "metadata": {},
   "outputs": [],
   "source": []
  },
  {
   "cell_type": "markdown",
   "id": "1cfc7f08-d95c-43b1-9c31-d9483509ba70",
   "metadata": {
    "jp-MarkdownHeadingCollapsed": true,
    "tags": []
   },
   "source": [
    "# Chemical Features"
   ]
  },
  {
   "cell_type": "code",
   "execution_count": null,
   "id": "238e605e-868e-4f16-b964-782eb8b4d7d6",
   "metadata": {
    "tags": []
   },
   "outputs": [],
   "source": [
    "from rdkit import Chem\n",
    "from rdkit.Chem import ChemicalFeatures\n",
    "from rdkit import RDConfig\n",
    "import os\n",
    "fdefName = os.path.join(RDConfig.RDDataDir,'BaseFeatures.fdef')\n",
    "factory = ChemicalFeatures.BuildFeatureFactory(fdefName)"
   ]
  },
  {
   "cell_type": "code",
   "execution_count": null,
   "id": "50beeab1-1621-47d6-a05c-50df67ec7a1b",
   "metadata": {
    "tags": []
   },
   "outputs": [],
   "source": [
    "m = Chem.MolFromSmiles('OCc1ccccc1CN')\n",
    "#m = Chem.MolFromSmiles('Cc1ccccc1')\n",
    "feats = factory.GetFeaturesForMol(m)\n",
    "for feat in feats:\n",
    "    print(feat.GetFamily(),\" \", feat.GetType(),\" \",feat.GetAtomIds())"
   ]
  },
  {
   "cell_type": "code",
   "execution_count": null,
   "id": "de326b34-7728-4db1-8671-e2707b110f79",
   "metadata": {},
   "outputs": [],
   "source": []
  },
  {
   "cell_type": "markdown",
   "id": "a69b5113-9336-4747-9d88-fb3a0eb101c1",
   "metadata": {
    "tags": []
   },
   "source": [
    "# 2D "
   ]
  },
  {
   "cell_type": "code",
   "execution_count": 195,
   "id": "23a3bc2d-4728-48b6-ab2b-042db7575c66",
   "metadata": {
    "tags": []
   },
   "outputs": [
    {
     "name": "stdout",
     "output_type": "stream",
     "text": [
      "NO H 7\n",
      "   H 13\n",
      "CO : False\n",
      "OH : True\n"
     ]
    },
    {
     "data": {
      "image/png": "[encoded data removed]",
      "text/plain": [
       "<PIL.PngImagePlugin.PngImageFile image mode=RGB size=300x300>"
      ]
     },
     "execution_count": 195,
     "metadata": {},
     "output_type": "execute_result"
    }
   ],
   "source": [
    "m = Chem.MolFromSmiles('c1ccccc1O')\n",
    "\n",
    "##\n",
    "d = rdMolDraw2D.MolDraw2DCairo(250, 200) # or MolDraw2DSVG to get SVGs\n",
    "#m.GetAtomWithIdx(2).SetProp('atomNote', 'foo')\n",
    "#m.GetBondWithIdx(0).SetProp('bondNote', 'bar')\n",
    "d.drawOptions().addStereoAnnotation = True\n",
    "d.drawOptions().addAtomIndices = True\n",
    "d.DrawMolecule(m)\n",
    "d.FinishDrawing()\n",
    "d.WriteDrawingText('atom_annotation_1.png')\n",
    "\n",
    "##\n",
    "print(\"NO H\",m.GetNumAtoms())\n",
    "m_2 = Chem.AddHs(m)\n",
    "print(\"   H\",m_2.GetNumAtoms())\n",
    "\n",
    "#\n",
    "print(\"CO :\",m.HasSubstructMatch(Chem.MolFromSmarts('CO')))\n",
    "#print(\"Aro-O :\",m.HasSubstructMatch(Chem.MolFromSmarts('cO')))\n",
    "print(\"OH :\",m_2.HasSubstructMatch(Chem.MolFromSmarts('O')))\n",
    "\n",
    "##\n",
    "img = Draw.MolToImage(m)\n",
    "img"
   ]
  },
  {
   "cell_type": "code",
   "execution_count": 196,
   "id": "30f6c2e0-017e-408e-a160-52bceae32590",
   "metadata": {
    "tags": []
   },
   "outputs": [
    {
     "name": "stdout",
     "output_type": "stream",
     "text": [
      "6 C\n",
      "6 C\n",
      "6 C\n",
      "6 C\n",
      "6 C\n",
      "6 C\n",
      "8 O\n",
      "AROMATIC\n",
      "AROMATIC\n",
      "AROMATIC\n",
      "AROMATIC\n",
      "AROMATIC\n",
      "SINGLE\n",
      "AROMATIC\n"
     ]
    }
   ],
   "source": [
    "list1 = list()\n",
    "for atom in m.GetAtoms():\n",
    "  print(atom.GetAtomicNum(), atom.GetSymbol())\n",
    "  list1.append(atom.GetAtomicNum())\n",
    "\n",
    "list2 = list()\n",
    "for bonds in m.GetBonds():\n",
    "  print(bonds.GetBondType())\n",
    "  list2.append(bonds.GetBondType())\n",
    "#m2.GetAtomWithIdx(0).GetSymbol()"
   ]
  },
  {
   "cell_type": "code",
   "execution_count": 207,
   "id": "c0074911-9084-49b4-b5bb-fd0d994aa752",
   "metadata": {
    "tags": []
   },
   "outputs": [
    {
     "data": {
      "text/plain": [
       "3"
      ]
     },
     "execution_count": 207,
     "metadata": {},
     "output_type": "execute_result"
    }
   ],
   "source": [
    "atom = m.GetAtomWithIdx(0)\n",
    "[x.GetAtomicNum() for x in atom.GetNeighbors()]\n",
    "len(atom.GetNeighbors()[-1].GetBonds())"
   ]
  },
  {
   "cell_type": "code",
   "execution_count": 214,
   "id": "3eef1541-4125-413d-b2a7-5c2aea60e95f",
   "metadata": {
    "tags": []
   },
   "outputs": [
    {
     "data": {
      "image/png": "[encoded data removed]",
      "text/plain": [
       "<PIL.PngImagePlugin.PngImageFile image mode=RGB size=300x300>"
      ]
     },
     "execution_count": 214,
     "metadata": {},
     "output_type": "execute_result"
    }
   ],
   "source": [
    "m = Chem.MolFromSmiles('OC1C2C1CC2')\n",
    "img = Draw.MolToImage(m)\n",
    "img"
   ]
  },
  {
   "cell_type": "code",
   "execution_count": 219,
   "id": "d3deb0fd-492f-4139-b70c-a3baee30dce5",
   "metadata": {
    "tags": []
   },
   "outputs": [
    {
     "name": "stdout",
     "output_type": "stream",
     "text": [
      "True\n"
     ]
    },
    {
     "data": {
      "text/plain": [
       "'\\nm.GetAtomWithIdx(2).IsInRingSize(3)\\nm.GetAtomWithIdx(2).IsInRingSize(4)\\nm.GetAtomWithIdx(2).IsInRingSize(5)\\nm.GetBondWithIdx(1).IsInRingSize(3)\\nm.GetBondWithIdx(1).IsInRing()\\n'"
      ]
     },
     "execution_count": 219,
     "metadata": {},
     "output_type": "execute_result"
    }
   ],
   "source": [
    "#print(m.GetAtomWithIdx(0).IsInRing()) #O\n",
    "\n",
    "print(m.GetAtomWithIdx(1).IsInRing())\n",
    "'''\n",
    "m.GetAtomWithIdx(2).IsInRingSize(3)\n",
    "m.GetAtomWithIdx(2).IsInRingSize(4)\n",
    "m.GetAtomWithIdx(2).IsInRingSize(5)\n",
    "m.GetBondWithIdx(1).IsInRingSize(3)\n",
    "m.GetBondWithIdx(1).IsInRing()\n",
    "'''"
   ]
  },
  {
   "cell_type": "code",
   "execution_count": 217,
   "id": "83171bba-836b-48aa-9367-f9f5defad685",
   "metadata": {
    "tags": []
   },
   "outputs": [],
   "source": [
    "d = rdMolDraw2D.MolDraw2DCairo(250, 200) # or MolDraw2DSVG to get SVGs\n",
    "#m.GetAtomWithIdx(2).SetProp('atomNote', 'foo')\n",
    "#m.GetBondWithIdx(0).SetProp('bondNote', 'bar')\n",
    "d.drawOptions().addStereoAnnotation = True\n",
    "d.drawOptions().addAtomIndices = True\n",
    "d.DrawMolecule(m)\n",
    "d.FinishDrawing()\n",
    "d.WriteDrawingText('atom_annotation_2.png')"
   ]
  },
  {
   "cell_type": "code",
   "execution_count": 302,
   "id": "582e2545-e4e2-4626-886d-c123bb97d2ec",
   "metadata": {
    "tags": []
   },
   "outputs": [
    {
     "data": {
      "image/png": "[encoded data removed]",
      "text/plain": [
       "<PIL.PngImagePlugin.PngImageFile image mode=RGB size=300x300>"
      ]
     },
     "execution_count": 302,
     "metadata": {},
     "output_type": "execute_result"
    }
   ],
   "source": [
    "m1 = Chem.MolFromSmiles('CC(O)COC')\n",
    "#m = Chem.AddHs(m)\n",
    "img = Draw.MolToImage(m1)\n",
    "#print(Descriptors.(m))\n",
    "#Calculator.descriptors()\n",
    "img"
   ]
  },
  {
   "cell_type": "code",
   "execution_count": 310,
   "id": "81811c6d-0c91-4872-b628-98e2bf80304d",
   "metadata": {
    "tags": []
   },
   "outputs": [
    {
     "data": {
      "image/png": "[encoded data removed]",
      "text/plain": [
       "<PIL.PngImagePlugin.PngImageFile image mode=RGB size=300x300>"
      ]
     },
     "execution_count": 310,
     "metadata": {},
     "output_type": "execute_result"
    }
   ],
   "source": [
    "m2 = Chem.MolFromSmiles('COCC(=O)CC')\n",
    "#m = Chem.AddHs(m)\n",
    "img = Draw.MolToImage(m2)\n",
    "#print(Descriptors.(m))\n",
    "#Calculator.descriptors()\n",
    "img"
   ]
  },
  {
   "cell_type": "code",
   "execution_count": 311,
   "id": "bec3fe0a-563b-456a-b841-666034371109",
   "metadata": {
    "tags": []
   },
   "outputs": [],
   "source": [
    "#Descriptors.setupAUTOCorrDescriptors()\n",
    "df = pd.DataFrame()\n",
    "data = {\n",
    "  \"SMILE\": [\"CC(O)COC\",\"COCC(=O)CC\"]\n",
    "}\n",
    "df=pd.DataFrame(data)\n",
    "#m1==m2"
   ]
  },
  {
   "cell_type": "code",
   "execution_count": 312,
   "id": "20bc3ca6-707f-403d-b729-3a0595a9eeaa",
   "metadata": {
    "tags": []
   },
   "outputs": [],
   "source": [
    "def RDkit_descriptors(smiles):\n",
    "    mols = [Chem.MolFromSmiles(i) for i in smiles] \n",
    "    calc = MoleculeDescriptors.MolecularDescriptorCalculator([x[0] for x in Descriptors._descList])\n",
    "    desc_names = calc.GetDescriptorNames()\n",
    "    \n",
    "    Mol_descriptors =[]\n",
    "    for mol in mols:\n",
    "        # add hydrogens to molecules\n",
    "        mol=Chem.AddHs(mol)\n",
    "        # Calculate all 200 descriptors for each molecule\n",
    "        descriptors = calc.CalcDescriptors(mol)\n",
    "        Mol_descriptors.append(descriptors)\n",
    "    return Mol_descriptors,desc_names \n",
    "\n",
    "# Function call\n",
    "Mol_descriptors,desc_names = RDkit_descriptors(df['SMILE'])"
   ]
  },
  {
   "cell_type": "code",
   "execution_count": 313,
   "id": "d9152450-c946-40bf-aa06-d342c362d03f",
   "metadata": {
    "tags": []
   },
   "outputs": [
    {
     "data": {
      "text/html": [
       "<div>\n",
       "<style scoped>\n",
       "    .dataframe tbody tr th:only-of-type {\n",
       "        vertical-align: middle;\n",
       "    }\n",
       "\n",
       "    .dataframe tbody tr th {\n",
       "        vertical-align: top;\n",
       "    }\n",
       "\n",
       "    .dataframe thead th {\n",
       "        text-align: right;\n",
       "    }\n",
       "</style>\n",
       "<table border=\"1\" class=\"dataframe\">\n",
       "  <thead>\n",
       "    <tr style=\"text-align: right;\">\n",
       "      <th></th>\n",
       "      <th>AUTOCORR2D_1</th>\n",
       "      <th>AUTOCORR2D_2</th>\n",
       "      <th>AUTOCORR2D_3</th>\n",
       "      <th>AUTOCORR2D_4</th>\n",
       "      <th>AUTOCORR2D_5</th>\n",
       "      <th>AUTOCORR2D_6</th>\n",
       "      <th>AUTOCORR2D_7</th>\n",
       "      <th>AUTOCORR2D_8</th>\n",
       "      <th>AUTOCORR2D_9</th>\n",
       "      <th>AUTOCORR2D_10</th>\n",
       "      <th>...</th>\n",
       "      <th>fr_sulfide</th>\n",
       "      <th>fr_sulfonamd</th>\n",
       "      <th>fr_sulfone</th>\n",
       "      <th>fr_term_acetylene</th>\n",
       "      <th>fr_tetrazole</th>\n",
       "      <th>fr_thiazole</th>\n",
       "      <th>fr_thiocyan</th>\n",
       "      <th>fr_thiophene</th>\n",
       "      <th>fr_unbrch_alkane</th>\n",
       "      <th>fr_urea</th>\n",
       "    </tr>\n",
       "  </thead>\n",
       "  <tbody>\n",
       "    <tr>\n",
       "      <th>0</th>\n",
       "      <td>2.062</td>\n",
       "      <td>2.127</td>\n",
       "      <td>1.921</td>\n",
       "      <td>1.444</td>\n",
       "      <td>0.666</td>\n",
       "      <td>0.081</td>\n",
       "      <td>0.000</td>\n",
       "      <td>0.0</td>\n",
       "      <td>2.042</td>\n",
       "      <td>2.182</td>\n",
       "      <td>...</td>\n",
       "      <td>0</td>\n",
       "      <td>0</td>\n",
       "      <td>0</td>\n",
       "      <td>0</td>\n",
       "      <td>0</td>\n",
       "      <td>0</td>\n",
       "      <td>0</td>\n",
       "      <td>0</td>\n",
       "      <td>0</td>\n",
       "      <td>0</td>\n",
       "    </tr>\n",
       "    <tr>\n",
       "      <th>1</th>\n",
       "      <td>2.179</td>\n",
       "      <td>2.238</td>\n",
       "      <td>2.190</td>\n",
       "      <td>1.786</td>\n",
       "      <td>1.143</td>\n",
       "      <td>0.436</td>\n",
       "      <td>0.062</td>\n",
       "      <td>0.0</td>\n",
       "      <td>2.172</td>\n",
       "      <td>2.304</td>\n",
       "      <td>...</td>\n",
       "      <td>0</td>\n",
       "      <td>0</td>\n",
       "      <td>0</td>\n",
       "      <td>0</td>\n",
       "      <td>0</td>\n",
       "      <td>0</td>\n",
       "      <td>0</td>\n",
       "      <td>0</td>\n",
       "      <td>0</td>\n",
       "      <td>0</td>\n",
       "    </tr>\n",
       "  </tbody>\n",
       "</table>\n",
       "<p>2 rows × 583 columns</p>\n",
       "</div>"
      ],
      "text/plain": [
       "   AUTOCORR2D_1  AUTOCORR2D_2  AUTOCORR2D_3  AUTOCORR2D_4  AUTOCORR2D_5  \\\n",
       "0         2.062         2.127         1.921         1.444         0.666   \n",
       "1         2.179         2.238         2.190         1.786         1.143   \n",
       "\n",
       "   AUTOCORR2D_6  AUTOCORR2D_7  AUTOCORR2D_8  AUTOCORR2D_9  AUTOCORR2D_10  ...  \\\n",
       "0         0.081         0.000           0.0         2.042          2.182  ...   \n",
       "1         0.436         0.062           0.0         2.172          2.304  ...   \n",
       "\n",
       "   fr_sulfide  fr_sulfonamd  fr_sulfone  fr_term_acetylene  fr_tetrazole  \\\n",
       "0           0             0           0                  0             0   \n",
       "1           0             0           0                  0             0   \n",
       "\n",
       "   fr_thiazole  fr_thiocyan  fr_thiophene  fr_unbrch_alkane  fr_urea  \n",
       "0            0            0             0                 0        0  \n",
       "1            0            0             0                 0        0  \n",
       "\n",
       "[2 rows x 583 columns]"
      ]
     },
     "execution_count": 313,
     "metadata": {},
     "output_type": "execute_result"
    }
   ],
   "source": [
    "df_with_200_descriptors = pd.DataFrame(Mol_descriptors,columns=desc_names)\n",
    "df_with_200_descriptors"
   ]
  },
  {
   "cell_type": "code",
   "execution_count": 314,
   "id": "395640df-3112-4af0-a192-8134fdf37ab1",
   "metadata": {
    "tags": []
   },
   "outputs": [],
   "source": [
    "#df_with_200_descriptors[\"SMILE\"] = df[\"SMILES\"]\n",
    "df_with_200_descriptors.to_csv('output2.csv', index=False)"
   ]
  },
  {
   "cell_type": "code",
   "execution_count": null,
   "id": "86f992d2-6f4e-4633-9829-beb961d1378b",
   "metadata": {},
   "outputs": [],
   "source": []
  }
 ],
 "metadata": {
  "kernelspec": {
   "display_name": "Python 3 (ipykernel)",
   "language": "python",
   "name": "python3"
  },
  "language_info": {
   "codemirror_mode": {
    "name": "ipython",
    "version": 3
   },
   "file_extension": ".py",
   "mimetype": "text/x-python",
   "name": "python",
   "nbconvert_exporter": "python",
   "pygments_lexer": "ipython3",
   "version": "3.11.4"
  }
 },
 "nbformat": 4,
 "nbformat_minor": 5
}
