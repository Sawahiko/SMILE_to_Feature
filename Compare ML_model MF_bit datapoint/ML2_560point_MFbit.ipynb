{
 "cells": [
  {
   "cell_type": "code",
   "execution_count": 27,
   "id": "85c3f1c2-34e9-429c-bfe4-ed956412f942",
   "metadata": {
    "execution": {
     "iopub.execute_input": "2023-09-15T14:11:56.601288Z",
     "iopub.status.busy": "2023-09-15T14:11:56.600288Z",
     "iopub.status.idle": "2023-09-15T14:11:56.607304Z",
     "shell.execute_reply": "2023-09-15T14:11:56.607304Z",
     "shell.execute_reply.started": "2023-09-15T14:11:56.601288Z"
    },
    "tags": []
   },
   "outputs": [],
   "source": [
    "# Python\n",
    "import numpy as np\n",
    "import pandas as pd\n",
    "import matplotlib.pyplot as plt\n",
    "import matplotlib.patches as mpatches\n",
    "import seaborn as sn\n",
    "\n",
    "# Machine Learning\n",
    "from sklearn.linear_model import LinearRegression\n",
    "from sklearn.model_selection import train_test_split\n",
    "from sklearn.metrics import mean_absolute_percentage_error, mean_squared_error, r2_score\n",
    "\n",
    "# RDKit\n",
    "from rdkit.Chem import Descriptors\n",
    "from rdkit.ML.Descriptors import MoleculeDescriptors\n",
    "from rdkit.Chem import rdMolDescriptors\n",
    "from rdkit.Chem import AllChem\n",
    "from rdkit import Chem\n",
    "from rdkit.Chem import Descriptors\n",
    "from rdkit.ML.Descriptors import MoleculeDescriptors"
   ]
  },
  {
   "cell_type": "markdown",
   "id": "07f4d770-0738-467d-9864-3b777922f9d7",
   "metadata": {
    "execution": {
     "iopub.execute_input": "2023-09-15T12:29:51.595084Z",
     "iopub.status.busy": "2023-09-15T12:29:51.594094Z",
     "iopub.status.idle": "2023-09-15T12:29:51.600091Z",
     "shell.execute_reply": "2023-09-15T12:29:51.599089Z",
     "shell.execute_reply.started": "2023-09-15T12:29:51.595084Z"
    },
    "tags": []
   },
   "source": [
    "# ML-RF"
   ]
  },
  {
   "cell_type": "code",
   "execution_count": 28,
   "id": "ea9e45f1-c9ee-43e9-a961-faa15a8f6fce",
   "metadata": {
    "execution": {
     "iopub.execute_input": "2023-09-15T14:11:56.610296Z",
     "iopub.status.busy": "2023-09-15T14:11:56.609295Z",
     "iopub.status.idle": "2023-09-15T14:11:56.727203Z",
     "shell.execute_reply": "2023-09-15T14:11:56.727203Z",
     "shell.execute_reply.started": "2023-09-15T14:11:56.610296Z"
    },
    "tags": []
   },
   "outputs": [
    {
     "data": {
      "text/plain": [
       "''"
      ]
     },
     "execution_count": 28,
     "metadata": {},
     "output_type": "execute_result"
    }
   ],
   "source": [
    "\"\""
   ]
  },
  {
   "cell_type": "code",
   "execution_count": 29,
   "id": "1ec8fa15-f974-4731-bbf9-a29ec9ac011d",
   "metadata": {
    "execution": {
     "iopub.execute_input": "2023-09-15T14:11:56.729197Z",
     "iopub.status.busy": "2023-09-15T14:11:56.729197Z",
     "iopub.status.idle": "2023-09-15T14:11:56.817066Z",
     "shell.execute_reply": "2023-09-15T14:11:56.817066Z",
     "shell.execute_reply.started": "2023-09-15T14:11:56.729197Z"
    },
    "tags": []
   },
   "outputs": [],
   "source": [
    "# %% Setup\n",
    "MF_bit = 2**10"
   ]
  },
  {
   "cell_type": "code",
   "execution_count": 30,
   "id": "14f4ba22-b446-48bc-b395-5efb7ecc32cf",
   "metadata": {
    "execution": {
     "iopub.execute_input": "2023-09-15T14:11:56.821059Z",
     "iopub.status.busy": "2023-09-15T14:11:56.820057Z",
     "iopub.status.idle": "2023-09-15T14:11:57.253703Z",
     "shell.execute_reply": "2023-09-15T14:11:57.253703Z",
     "shell.execute_reply.started": "2023-09-15T14:11:56.821059Z"
    },
    "tags": []
   },
   "outputs": [],
   "source": [
    "# %% Import Data : 560 datapoint\n",
    "#Import Data\n",
    "df = pd.read_excel(\"../DataTb.xlsx\",sheet_name=\"AllDataSet\")\n",
    "\n",
    "#Select feature for data: X=SMILE, Y=Tb\n",
    "X_data_excel= df[[\"SMILES\"]]\n",
    "Y_data= df[\"Tb\"]\n",
    "\n",
    "#>>> SHOW X_Data, Y_data"
   ]
  },
  {
   "cell_type": "code",
   "execution_count": 31,
   "id": "b8c82328-fbb0-4bac-a877-b0511d7844ba",
   "metadata": {
    "execution": {
     "iopub.execute_input": "2023-09-15T14:11:57.255695Z",
     "iopub.status.busy": "2023-09-15T14:11:57.254694Z",
     "iopub.status.idle": "2023-09-15T14:11:57.262836Z",
     "shell.execute_reply": "2023-09-15T14:11:57.262836Z",
     "shell.execute_reply.started": "2023-09-15T14:11:57.255695Z"
    },
    "tags": []
   },
   "outputs": [
    {
     "data": {
      "text/plain": [
       "''"
      ]
     },
     "execution_count": 31,
     "metadata": {},
     "output_type": "execute_result"
    }
   ],
   "source": [
    "\"\""
   ]
  },
  {
   "cell_type": "code",
   "execution_count": 32,
   "id": "8df5a649-df7e-485c-8019-83e966bbe194",
   "metadata": {
    "execution": {
     "iopub.execute_input": "2023-09-15T14:11:57.265830Z",
     "iopub.status.busy": "2023-09-15T14:11:57.263830Z",
     "iopub.status.idle": "2023-09-15T14:11:58.232037Z",
     "shell.execute_reply": "2023-09-15T14:11:58.232037Z",
     "shell.execute_reply.started": "2023-09-15T14:11:57.265830Z"
    },
    "tags": []
   },
   "outputs": [],
   "source": [
    "# %% Data Preparation\n",
    "#Generate Fingerprint from SMILE\n",
    "X_data_use = X_data_excel.copy()\n",
    "X_data_use[\"molecule\"] = X_data_use[\"SMILES\"].apply(lambda x: Chem.MolFromSmiles(x))\n",
    "X_data_use[\"morgan_fp\"] = X_data_use[\"molecule\"].apply(lambda x: rdMolDescriptors.GetMorganFingerprintAsBitVect(x, radius=4, nBits=MF_bit, useFeatures=True, useChirality=True))\n",
    "\n",
    "#>>> SHOW X_data_use \n",
    "\n",
    "#Transfrom Fingerprint to Column in DataFrame\n",
    "X_data_fp = []\n",
    "for i in range(X_data_use.shape[0]):\n",
    "    array = np.array(X_data_use[\"morgan_fp\"][i])\n",
    "    datafram_i = pd.DataFrame(array)\n",
    "    datafram_i = datafram_i.T\n",
    "    X_data_fp.append(datafram_i)\n",
    "X_data_fp = pd.concat(X_data_fp, ignore_index=True)\n",
    "X_data_ML = pd.concat([X_data_use, X_data_fp], axis=1, join='inner')\n",
    "\n",
    "Y_data_ML = Y_data.copy()\n",
    "\n",
    "#>>>  SHOW X_data_fp, Y_data_fp"
   ]
  },
  {
   "cell_type": "code",
   "execution_count": 33,
   "id": "408ccaec-eb25-4b77-a184-c55cf18e4098",
   "metadata": {
    "execution": {
     "iopub.execute_input": "2023-09-15T14:11:58.234029Z",
     "iopub.status.busy": "2023-09-15T14:11:58.234029Z",
     "iopub.status.idle": "2023-09-15T14:11:58.258648Z",
     "shell.execute_reply": "2023-09-15T14:11:58.258648Z",
     "shell.execute_reply.started": "2023-09-15T14:11:58.234029Z"
    },
    "tags": []
   },
   "outputs": [],
   "source": [
    "# %% Train test split\n",
    "\n",
    "X_train_ML, X_test_ML, y_train_ML, y_test_ML = train_test_split(X_data_ML, Y_data_ML,test_size=0.25,random_state=42)\n",
    "\n",
    "X_train = X_train_ML.copy().drop(columns = {\"SMILES\", \"molecule\", \"morgan_fp\"})\n",
    "X_test = X_test_ML.copy().drop(columns = {\"SMILES\", \"molecule\", \"morgan_fp\"})\n",
    "x_total = X_data_ML.copy().drop(columns = {\"SMILES\", \"molecule\", \"morgan_fp\"})\n",
    "\n",
    "y_train = y_train_ML.copy()\n",
    "y_test = y_test_ML.copy()\n",
    "y_total = Y_data_ML.copy()\n",
    "\n",
    "# >>> EXAMPLE SHOW {X, Y} of {TRAIN TEST TOTAL}"
   ]
  },
  {
   "cell_type": "code",
   "execution_count": 34,
   "id": "cacebfd5-ec1f-4cd7-8527-3343336f611c",
   "metadata": {
    "execution": {
     "iopub.execute_input": "2023-09-15T14:11:58.260637Z",
     "iopub.status.busy": "2023-09-15T14:11:58.260637Z",
     "iopub.status.idle": "2023-09-15T14:11:58.359661Z",
     "shell.execute_reply": "2023-09-15T14:11:58.359661Z",
     "shell.execute_reply.started": "2023-09-15T14:11:58.260637Z"
    },
    "tags": []
   },
   "outputs": [
    {
     "data": {
      "text/plain": [
       "''"
      ]
     },
     "execution_count": 34,
     "metadata": {},
     "output_type": "execute_result"
    }
   ],
   "source": [
    "\"\""
   ]
  },
  {
   "cell_type": "code",
   "execution_count": 35,
   "id": "d6f16f31-567b-42b7-ba30-7c739c2ed2f8",
   "metadata": {
    "execution": {
     "iopub.execute_input": "2023-09-15T14:11:58.361651Z",
     "iopub.status.busy": "2023-09-15T14:11:58.360650Z",
     "iopub.status.idle": "2023-09-15T14:11:58.908534Z",
     "shell.execute_reply": "2023-09-15T14:11:58.907542Z",
     "shell.execute_reply.started": "2023-09-15T14:11:58.361651Z"
    },
    "tags": []
   },
   "outputs": [
    {
     "data": {
      "text/html": [
       "<style>#sk-container-id-3 {color: black;}#sk-container-id-3 pre{padding: 0;}#sk-container-id-3 div.sk-toggleable {background-color: white;}#sk-container-id-3 label.sk-toggleable__label {cursor: pointer;display: block;width: 100%;margin-bottom: 0;padding: 0.3em;box-sizing: border-box;text-align: center;}#sk-container-id-3 label.sk-toggleable__label-arrow:before {content: \"▸\";float: left;margin-right: 0.25em;color: #696969;}#sk-container-id-3 label.sk-toggleable__label-arrow:hover:before {color: black;}#sk-container-id-3 div.sk-estimator:hover label.sk-toggleable__label-arrow:before {color: black;}#sk-container-id-3 div.sk-toggleable__content {max-height: 0;max-width: 0;overflow: hidden;text-align: left;background-color: #f0f8ff;}#sk-container-id-3 div.sk-toggleable__content pre {margin: 0.2em;color: black;border-radius: 0.25em;background-color: #f0f8ff;}#sk-container-id-3 input.sk-toggleable__control:checked~div.sk-toggleable__content {max-height: 200px;max-width: 100%;overflow: auto;}#sk-container-id-3 input.sk-toggleable__control:checked~label.sk-toggleable__label-arrow:before {content: \"▾\";}#sk-container-id-3 div.sk-estimator input.sk-toggleable__control:checked~label.sk-toggleable__label {background-color: #d4ebff;}#sk-container-id-3 div.sk-label input.sk-toggleable__control:checked~label.sk-toggleable__label {background-color: #d4ebff;}#sk-container-id-3 input.sk-hidden--visually {border: 0;clip: rect(1px 1px 1px 1px);clip: rect(1px, 1px, 1px, 1px);height: 1px;margin: -1px;overflow: hidden;padding: 0;position: absolute;width: 1px;}#sk-container-id-3 div.sk-estimator {font-family: monospace;background-color: #f0f8ff;border: 1px dotted black;border-radius: 0.25em;box-sizing: border-box;margin-bottom: 0.5em;}#sk-container-id-3 div.sk-estimator:hover {background-color: #d4ebff;}#sk-container-id-3 div.sk-parallel-item::after {content: \"\";width: 100%;border-bottom: 1px solid gray;flex-grow: 1;}#sk-container-id-3 div.sk-label:hover label.sk-toggleable__label {background-color: #d4ebff;}#sk-container-id-3 div.sk-serial::before {content: \"\";position: absolute;border-left: 1px solid gray;box-sizing: border-box;top: 0;bottom: 0;left: 50%;z-index: 0;}#sk-container-id-3 div.sk-serial {display: flex;flex-direction: column;align-items: center;background-color: white;padding-right: 0.2em;padding-left: 0.2em;position: relative;}#sk-container-id-3 div.sk-item {position: relative;z-index: 1;}#sk-container-id-3 div.sk-parallel {display: flex;align-items: stretch;justify-content: center;background-color: white;position: relative;}#sk-container-id-3 div.sk-item::before, #sk-container-id-3 div.sk-parallel-item::before {content: \"\";position: absolute;border-left: 1px solid gray;box-sizing: border-box;top: 0;bottom: 0;left: 50%;z-index: -1;}#sk-container-id-3 div.sk-parallel-item {display: flex;flex-direction: column;z-index: 1;position: relative;background-color: white;}#sk-container-id-3 div.sk-parallel-item:first-child::after {align-self: flex-end;width: 50%;}#sk-container-id-3 div.sk-parallel-item:last-child::after {align-self: flex-start;width: 50%;}#sk-container-id-3 div.sk-parallel-item:only-child::after {width: 0;}#sk-container-id-3 div.sk-dashed-wrapped {border: 1px dashed gray;margin: 0 0.4em 0.5em 0.4em;box-sizing: border-box;padding-bottom: 0.4em;background-color: white;}#sk-container-id-3 div.sk-label label {font-family: monospace;font-weight: bold;display: inline-block;line-height: 1.2em;}#sk-container-id-3 div.sk-label-container {text-align: center;}#sk-container-id-3 div.sk-container {/* jupyter's `normalize.less` sets `[hidden] { display: none; }` but bootstrap.min.css set `[hidden] { display: none !important; }` so we also need the `!important` here to be able to override the default hidden behavior on the sphinx rendered scikit-learn.org. See: https://github.com/scikit-learn/scikit-learn/issues/21755 */display: inline-block !important;position: relative;}#sk-container-id-3 div.sk-text-repr-fallback {display: none;}</style><div id=\"sk-container-id-3\" class=\"sk-top-container\"><div class=\"sk-text-repr-fallback\"><pre>RandomForestRegressor(n_jobs=100, random_state=0)</pre><b>In a Jupyter environment, please rerun this cell to show the HTML representation or trust the notebook. <br />On GitHub, the HTML representation is unable to render, please try loading this page with nbviewer.org.</b></div><div class=\"sk-container\" hidden><div class=\"sk-item\"><div class=\"sk-estimator sk-toggleable\"><input class=\"sk-toggleable__control sk-hidden--visually\" id=\"sk-estimator-id-3\" type=\"checkbox\" checked><label for=\"sk-estimator-id-3\" class=\"sk-toggleable__label sk-toggleable__label-arrow\">RandomForestRegressor</label><div class=\"sk-toggleable__content\"><pre>RandomForestRegressor(n_jobs=100, random_state=0)</pre></div></div></div></div></div>"
      ],
      "text/plain": [
       "RandomForestRegressor(n_jobs=100, random_state=0)"
      ]
     },
     "execution_count": 35,
     "metadata": {},
     "output_type": "execute_result"
    }
   ],
   "source": [
    "# %%\n",
    "# Modeling\n",
    "\n",
    "from sklearn.ensemble import RandomForestRegressor\n",
    "\n",
    "RF_model = RandomForestRegressor(random_state = 0, n_jobs=100)\n",
    "RF_model.fit(X_train, y_train)"
   ]
  },
  {
   "cell_type": "code",
   "execution_count": 36,
   "id": "4dbd346d-1b7f-4c9c-8140-23b9c2235de5",
   "metadata": {
    "execution": {
     "iopub.execute_input": "2023-09-15T14:11:58.914535Z",
     "iopub.status.busy": "2023-09-15T14:11:58.913534Z",
     "iopub.status.idle": "2023-09-15T14:11:58.925729Z",
     "shell.execute_reply": "2023-09-15T14:11:58.924737Z",
     "shell.execute_reply.started": "2023-09-15T14:11:58.914535Z"
    },
    "tags": []
   },
   "outputs": [
    {
     "data": {
      "text/plain": [
       "''"
      ]
     },
     "execution_count": 36,
     "metadata": {},
     "output_type": "execute_result"
    }
   ],
   "source": [
    "\"\""
   ]
  },
  {
   "cell_type": "code",
   "execution_count": 37,
   "id": "5f4d4a61-5a94-4cf5-9ede-2a2331622812",
   "metadata": {
    "execution": {
     "iopub.execute_input": "2023-09-15T14:11:58.929729Z",
     "iopub.status.busy": "2023-09-15T14:11:58.928729Z",
     "iopub.status.idle": "2023-09-15T14:11:59.247576Z",
     "shell.execute_reply": "2023-09-15T14:11:59.246586Z",
     "shell.execute_reply.started": "2023-09-15T14:11:58.929729Z"
    },
    "tags": []
   },
   "outputs": [],
   "source": [
    "# %%   Validation with Error Metrics\n",
    "mape_train_table = []\n",
    "rmse_train_table = []\n",
    "r2_train_table   = []\n",
    "\n",
    "# Train set\n",
    "y_predict_train = RF_model.predict(X_train)\n",
    "mape_train = mean_absolute_percentage_error(y_train, y_predict_train)\n",
    "rmse_train = np.sqrt(mean_squared_error(y_train, y_predict_train))\n",
    "R2_train = r2_score(y_train, y_predict_train)\n",
    "\n",
    "mape_train_table.append(mape_train)\n",
    "rmse_train_table.append(rmse_train)\n",
    "r2_train_table.append(R2_train)\n",
    "\n",
    "# Test set\n",
    "y_predict_test = RF_model.predict(X_test)\n",
    "mape_test = mean_absolute_percentage_error(y_test, y_predict_test)\n",
    "rmse_test = np.sqrt(mean_squared_error(y_test, y_predict_test))\n",
    "R2_test = r2_score(y_test, y_predict_test)\n",
    "\n",
    "mape_train_table.append(mape_test)\n",
    "rmse_train_table.append(rmse_test)\n",
    "r2_train_table.append(R2_test)\n",
    "\n",
    "# Total set\n",
    "y_predict_total = RF_model.predict(x_total)\n",
    "mape_total = mean_absolute_percentage_error(y_total, y_predict_total)\n",
    "rmse_total = np.sqrt(mean_squared_error(y_total, y_predict_total))\n",
    "R2_total = r2_score(y_total, y_predict_total)\n",
    "\n",
    "mape_train_table.append(mape_total)\n",
    "rmse_train_table.append(rmse_total)\n",
    "r2_train_table.append(R2_total)"
   ]
  },
  {
   "cell_type": "code",
   "execution_count": 38,
   "id": "7446231d-e25a-4c04-8322-cd2c806bc581",
   "metadata": {
    "execution": {
     "iopub.execute_input": "2023-09-15T14:11:59.250578Z",
     "iopub.status.busy": "2023-09-15T14:11:59.249576Z",
     "iopub.status.idle": "2023-09-15T14:11:59.329317Z",
     "shell.execute_reply": "2023-09-15T14:11:59.328325Z",
     "shell.execute_reply.started": "2023-09-15T14:11:59.250578Z"
    },
    "tags": []
   },
   "outputs": [],
   "source": [
    "# %% Store score y_predict\n",
    "# Table Score\n",
    "Score_Table = pd.DataFrame()\n",
    "data = {\n",
    "        \"MAPE\":mape_train_table,\n",
    "        \"RMSE\":rmse_train_table,\n",
    "        \"R2\"  :r2_train_table\n",
    "    }\n",
    "Score_Table = pd.DataFrame(data)\n",
    "\n",
    "# Train predict Table\n",
    "Train_Table = pd.DataFrame()\n",
    "data = {\n",
    "        \"X\" :X_train_ML[\"SMILES\"],\n",
    "        \"Y\"  :y_train,\n",
    "        \"Y_predict\" :y_predict_train\n",
    "    }\n",
    "Train_Table = pd.DataFrame(data)\n",
    "\n",
    "# Test predict Table\n",
    "Test_Table = pd.DataFrame()\n",
    "data = {\n",
    "        \"X\" :X_test_ML[\"SMILES\"],\n",
    "        \"Y\"  :y_test,\n",
    "        \"Y_predict\" :y_predict_test\n",
    "    }\n",
    "Test_Table = pd.DataFrame(data)\n",
    "\n",
    "# Total predict Table\n",
    "Total_Table = pd.DataFrame()\n",
    "data = {\n",
    "        \"X\" :X_data_ML[\"SMILES\"],\n",
    "        \"Y\"  :y_total,\n",
    "        \"Y_predict\" :y_predict_total\n",
    "    }\n",
    "Total_Table = pd.DataFrame(data)"
   ]
  },
  {
   "cell_type": "code",
   "execution_count": 39,
   "id": "387ea0bd-0aa2-40d6-9248-a177697dcc0b",
   "metadata": {
    "execution": {
     "iopub.execute_input": "2023-09-15T14:11:59.331318Z",
     "iopub.status.busy": "2023-09-15T14:11:59.330320Z",
     "iopub.status.idle": "2023-09-15T14:12:00.345812Z",
     "shell.execute_reply": "2023-09-15T14:12:00.345812Z",
     "shell.execute_reply.started": "2023-09-15T14:11:59.331318Z"
    },
    "tags": []
   },
   "outputs": [],
   "source": [
    "# %%  Export To Excel\n",
    "with pd.ExcelWriter(\"ML2_560point_x_bit.xlsx\",mode='a') as writer:  \n",
    "    Train_Table.to_excel(writer, sheet_name=f'{MF_bit}_bit_Train_Prediction')\n",
    "    Test_Table.to_excel(writer, sheet_name=f'{MF_bit}_bit_Test_Prediction')\n",
    "    Total_Table.to_excel(writer, sheet_name=f'{MF_bit}_bit_Total_Prediction')\n",
    "    \n",
    "    Score_Table.to_excel(writer, sheet_name=f'{MF_bit}_bit_Score')"
   ]
  },
  {
   "cell_type": "code",
   "execution_count": null,
   "id": "610b4543-be37-4693-97ba-9eca44791349",
   "metadata": {},
   "outputs": [],
   "source": []
  }
 ],
 "metadata": {
  "kernelspec": {
   "display_name": "Python 3 (ipykernel)",
   "language": "python",
   "name": "python3"
  },
  "language_info": {
   "codemirror_mode": {
    "name": "ipython",
    "version": 3
   },
   "file_extension": ".py",
   "mimetype": "text/x-python",
   "name": "python",
   "nbconvert_exporter": "python",
   "pygments_lexer": "ipython3",
   "version": "3.11.4"
  }
 },
 "nbformat": 4,
 "nbformat_minor": 5
}
