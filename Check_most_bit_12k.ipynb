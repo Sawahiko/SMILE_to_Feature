{
 "cells": [
  {
   "cell_type": "code",
   "execution_count": 5,
   "id": "525fd5d1-8010-4b7a-b906-daf01d539706",
   "metadata": {
    "tags": []
   },
   "outputs": [],
   "source": [
    "import sys\n",
    "sys.path.append('NEW')"
   ]
  },
  {
   "cell_type": "code",
   "execution_count": 161,
   "id": "3ed65cd0-d3fe-4817-9478-1755a3e14a63",
   "metadata": {
    "tags": []
   },
   "outputs": [],
   "source": [
    "# Python\n",
    "import numpy as np\n",
    "import pandas as pd\n",
    "import time\n",
    "\n",
    "# Machine Learning\n",
    "from sklearn.decomposition import PCA\n",
    "from sklearn.model_selection import train_test_split\n",
    "\n",
    "# RDKit\n",
    "from rdkit.Chem import Descriptors\n",
    "from rdkit.ML.Descriptors import MoleculeDescriptors\n",
    "from rdkit.Chem import rdMolDescriptors\n",
    "from rdkit.Chem import AllChem\n",
    "from rdkit import Chem\n",
    "from rdkit.Chem import Descriptors\n",
    "from rdkit.ML.Descriptors import MoleculeDescriptors\n",
    "\n",
    "# Our module\n",
    "from Python_Scoring_Export import Scoring, Export\n",
    "#from Python_MLModel import RF, Ridge_M, XGB, NN\n",
    "from Python_RemoveO import remove_outliers\n",
    "\n",
    "\n",
    "old_df = pd.DataFrame({\n",
    "    'MAE':[0], 'MAPE(%)':[0], 'RMSE':[0], 'R2':[0], 'Radius':[0], 'nBits':[0], 'Model':[0]\n",
    "    })\n",
    "\n",
    "# =============================================================================\n",
    "# # %% Option\n",
    "# MF_bit = 2**5\n",
    "# MF_radius = 6\n",
    "# Name_model = \"CB\"\n",
    "# =============================================================================\n",
    "\n",
    "# %% Option Many Bit\n",
    "MF_bit_s = [2**10]\n",
    "MF_radius_s = [3]\n",
    "\n",
    "#MF_bit_s = [2**5-1, 2**6-1]\n",
    "#MF_radius_s = [3]\n",
    "Name_model = \"RF\"\n",
    "j=0\n",
    "for MF_radius in MF_radius_s:\n",
    "    for MF_bit in MF_bit_s :\n",
    "        \n",
    "        # %% \n",
    "        # Import Data\n",
    "#con        df = pd.read_excel(\"../Data.xlsx\",sheet_name=\"560point\")\n",
    "        df = remove_outliers(\"Data.xlsx\", \"New_Data\", 2)\n",
    "\n",
    "        # Select feature for data: X=SMILE, Y=Tb\n",
    "        X_data_excel= df[[\"SMILES\"]]\n",
    "        Y_data= df[\"Tb\"]\n",
    "        \n",
    "        # %% Data Preparation\n",
    "        # Generate Fingerprint from SMILE\n",
    "        \n",
    "        X_data_use = X_data_excel.copy()\n",
    "        X_data_use[\"molecule\"] = X_data_use[\"SMILES\"].apply(lambda x: Chem.MolFromSmiles(x))\n",
    "        X_data_use[\"morgan_fp\"] = X_data_use[\"molecule\"].apply(lambda x: rdMolDescriptors.GetMorganFingerprintAsBitVect(\n",
    "                x, \n",
    "                radius=MF_radius, \n",
    "                nBits=MF_bit, \n",
    "                useFeatures=True, useChirality=True))\n",
    "        \n",
    "        # Transfrom Fingerprint to Column in DataFrame\n",
    "        X_data_fp = []\n",
    "        for i in range(X_data_use.shape[0]):\n",
    "            #print(np.array(X_data_use[\"morgan_fp\"][i]))\n",
    "            array = np.array(X_data_use[\"morgan_fp\"][i])\n",
    "            datafram_i = pd.DataFrame(array)\n",
    "            datafram_i = datafram_i.T\n",
    "            X_data_fp.append(datafram_i)\n",
    "        x_data_fp = pd.concat(X_data_fp, ignore_index=True)\n",
    "        \n",
    "        y_data_fp = Y_data.copy()"
   ]
  },
  {
   "cell_type": "code",
   "execution_count": 162,
   "id": "6db1740f-ffe4-4b15-9a13-7377646c5e48",
   "metadata": {
    "tags": []
   },
   "outputs": [],
   "source": [
    "test = x_data_fp.ne(0).sum(axis=0)\n",
    "top_bit = pd.DataFrame(test.sort_values(ascending=False)).head(50).index.to_numpy()\n",
    "#top_bit"
   ]
  },
  {
   "cell_type": "code",
   "execution_count": 163,
   "id": "aeef8993-64fc-4f26-a147-a5a0d90d0c98",
   "metadata": {
    "tags": []
   },
   "outputs": [
    {
     "data": {
      "text/html": [
       "<div>\n",
       "<style scoped>\n",
       "    .dataframe tbody tr th:only-of-type {\n",
       "        vertical-align: middle;\n",
       "    }\n",
       "\n",
       "    .dataframe tbody tr th {\n",
       "        vertical-align: top;\n",
       "    }\n",
       "\n",
       "    .dataframe thead th {\n",
       "        text-align: right;\n",
       "    }\n",
       "</style>\n",
       "<table border=\"1\" class=\"dataframe\">\n",
       "  <thead>\n",
       "    <tr style=\"text-align: right;\">\n",
       "      <th></th>\n",
       "      <th>0</th>\n",
       "    </tr>\n",
       "  </thead>\n",
       "  <tbody>\n",
       "    <tr>\n",
       "      <th>0</th>\n",
       "      <td>12442</td>\n",
       "    </tr>\n",
       "    <tr>\n",
       "      <th>61</th>\n",
       "      <td>8598</td>\n",
       "    </tr>\n",
       "    <tr>\n",
       "      <th>792</th>\n",
       "      <td>8263</td>\n",
       "    </tr>\n",
       "    <tr>\n",
       "      <th>2</th>\n",
       "      <td>7745</td>\n",
       "    </tr>\n",
       "    <tr>\n",
       "      <th>1016</th>\n",
       "      <td>4736</td>\n",
       "    </tr>\n",
       "  </tbody>\n",
       "</table>\n",
       "</div>"
      ],
      "text/plain": [
       "          0\n",
       "0     12442\n",
       "61     8598\n",
       "792    8263\n",
       "2      7745\n",
       "1016   4736"
      ]
     },
     "execution_count": 163,
     "metadata": {},
     "output_type": "execute_result"
    }
   ],
   "source": [
    "pd.DataFrame(test.sort_values(ascending=False)).head()"
   ]
  },
  {
   "cell_type": "code",
   "execution_count": 164,
   "id": "5fed1877-bcb3-487d-b572-90db69666f7a",
   "metadata": {
    "tags": []
   },
   "outputs": [],
   "source": [
    "def getSMART(mol, radius, atomidx):\n",
    "    env = Chem.FindAtomEnvironmentOfRadiusN(mol, radius, atomidx)\n",
    "    atomsToUse = set((atomidx, ))\n",
    "    for b in env:\n",
    "        atomsToUse.add(mol.GetBondWithIdx(b).GetBeginAtomIdx())\n",
    "        atomsToUse.add(mol.GetBondWithIdx(b).GetEndAtomIdx())\n",
    "    enlargedEnv = set()\n",
    "    for atom in atomsToUse:\n",
    "        a = mol.GetAtomWithIdx(atom)\n",
    "        for b in a.GetBonds():\n",
    "            bidx = b.GetIdx()\n",
    "            if bidx not in env:\n",
    "                enlargedEnv.add(bidx)\n",
    "    enlargedEnv = list(enlargedEnv)\n",
    "    enlargedEnv += env\n",
    "    # find all relevant neighbors\n",
    "    anyAtoms = []\n",
    "    for a in atomsToUse:\n",
    "        neighbors = mol.GetAtomWithIdx(a).GetNeighbors()\n",
    "        for n in neighbors:\n",
    "            anyIdx = n.GetIdx()\n",
    "            if anyIdx not in atomsToUse:\n",
    "                anyAtoms.append(anyIdx)\n",
    "    # replace atomic number to zero (there is no number for any atom)\n",
    "    for aA in anyAtoms:\n",
    "        mol.GetAtomWithIdx(aA).SetAtomicNum(0)\n",
    "    submol = Chem.PathToSubmol(mol, enlargedEnv)\n",
    "    # change [0] to *\n",
    "    MorganBitSmarts = Chem.MolToSmarts(submol).replace('[#0]', '*')\n",
    "    #print(MorganBitSmarts)\n",
    "    return MorganBitSmarts \n",
    "\n",
    "def get_All_SMART_1_mol(mol, radius, nBits):\n",
    "    bit_info = {}\n",
    "    fp = rdMolDescriptors.GetMorganFingerprintAsBitVect(\n",
    "                mol, \n",
    "                radius=radius, \n",
    "                nBits=nBits, \n",
    "                bitInfo = bit_info,\n",
    "                useFeatures=True, useChirality=True)\n",
    "\n",
    "    #print(get_index_of_array_that_contain_1_in_any_position(list(fp)))\n",
    "    #print(bit_info.keys())\n",
    "    string_SMARTS = dict()\n",
    "    for i,v in enumerate(bit_info.keys()):\n",
    "        #print(i)\n",
    "        #print(\"v=\",v)\n",
    "        atomidx, radius = bit_info[v][0]\n",
    "        string_SMART = getSMART(mol=mol, radius=radius, atomidx=atomidx)\n",
    "        #string_SMART = \"TEST\"\n",
    "        #print(v, string_SMART)\n",
    "        string_SMARTS[v] = string_SMART\n",
    "        #print(v)\n",
    "    #print(string_SMARTS)\n",
    "    #print(string_SMARTS)\n",
    "    try :\n",
    "        return string_SMARTS\n",
    "        #print(\"HERE\")\n",
    "    except :\n",
    "        None"
   ]
  },
  {
   "cell_type": "code",
   "execution_count": 165,
   "id": "3979261c-d864-4d04-92c5-b36d50724178",
   "metadata": {
    "tags": []
   },
   "outputs": [
    {
     "data": {
      "text/plain": [
       "{0: '[#6]-*', 61: '[#6]-*-*', 539: '[#6]-*-*-[#6]', 792: '[#6]-*-*-*'}"
      ]
     },
     "execution_count": 165,
     "metadata": {},
     "output_type": "execute_result"
    }
   ],
   "source": [
    "text_SMILES = X_data_use[\"molecule\"].iloc[1]\n",
    "text_SMILES\n",
    "get_All_SMART_1_mol(text_SMILES, 3, 1024)"
   ]
  },
  {
   "cell_type": "code",
   "execution_count": 166,
   "id": "c99c6d5e-0da1-4130-ac9d-640943cba39a",
   "metadata": {
    "tags": []
   },
   "outputs": [],
   "source": [
    "radius = 3; nBits = 1024\n",
    "X_data_use[\"All_SMART\"] = X_data_use[\"molecule\"].apply(lambda x : get_All_SMART_1_mol(x, radius, nBits))\n"
   ]
  },
  {
   "cell_type": "code",
   "execution_count": 167,
   "id": "db780cba-6441-454e-aea1-1239b614d72f",
   "metadata": {
    "tags": []
   },
   "outputs": [],
   "source": [
    "def cb(x, bit):\n",
    "    try:\n",
    "        return x[bit]\n",
    "    except :\n",
    "        None\n",
    "\n",
    "for bit in top_bit:\n",
    "    #print(bit)\n",
    "    X_data_use[f\"Bit {bit}\"]  =  X_data_use[\"All_SMART\"].apply(lambda x : cb(x,bit))"
   ]
  },
  {
   "cell_type": "code",
   "execution_count": 169,
   "id": "c801b1c7-c5bb-4670-bb92-a92f3d0ecf28",
   "metadata": {
    "tags": []
   },
   "outputs": [],
   "source": [
    "X_data_use.to_excel(\"Check_bit_12k_top50.xlsx\")"
   ]
  },
  {
   "cell_type": "code",
   "execution_count": null,
   "id": "a717561b-d33a-455e-8a5d-32d094369dca",
   "metadata": {
    "tags": []
   },
   "outputs": [],
   "source": [
    "top_bit"
   ]
  },
  {
   "cell_type": "code",
   "execution_count": null,
   "id": "a71b10c3-3e2a-4fa6-aef6-67bf1aa2c4a2",
   "metadata": {},
   "outputs": [],
   "source": []
  }
 ],
 "metadata": {
  "kernelspec": {
   "display_name": "Python 3 (ipykernel)",
   "language": "python",
   "name": "python3"
  },
  "language_info": {
   "codemirror_mode": {
    "name": "ipython",
    "version": 3
   },
   "file_extension": ".py",
   "mimetype": "text/x-python",
   "name": "python",
   "nbconvert_exporter": "python",
   "pygments_lexer": "ipython3",
   "version": "3.11.4"
  }
 },
 "nbformat": 4,
 "nbformat_minor": 5
}
