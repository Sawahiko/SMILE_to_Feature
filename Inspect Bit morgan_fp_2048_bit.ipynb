{
 "cells": [
  {
   "cell_type": "code",
   "execution_count": 1,
   "id": "62d29db6-a470-422b-b0b6-a26712de43c0",
   "metadata": {
    "id": "5QKaKQNzGN7T",
    "tags": []
   },
   "outputs": [],
   "source": [
    "# https://www.rdkit.org/\n",
    "import rdkit\n",
    "#https://github.com/rdkit/rdkit\n",
    "from rdkit.Chem import AllChem\n",
    "from rdkit import Chem\n",
    "from rdkit.Chem import Descriptors\n",
    "from rdkit.ML.Descriptors import MoleculeDescriptors\n",
    "# https://pandas.pydata.org\n",
    "import pandas as pd\n",
    "\n",
    "# https://numpy.org/doc/stable/release.html\n",
    "import numpy as np\n",
    "\n",
    "#https://github.com/mordred-descriptor/mordred\n",
    "#from mordred import Calculator, descriptors\n",
    "\n",
    "from rdkit.Chem import Draw\n",
    "from rdkit.Chem.Draw import rdMolDraw2D"
   ]
  },
  {
   "cell_type": "code",
   "execution_count": 2,
   "id": "4402e429-5703-4ce6-bfcb-94280b58dd14",
   "metadata": {
    "tags": []
   },
   "outputs": [],
   "source": [
    "import pandas as pd\n",
    "import numpy as np\n",
    "import seaborn as sn\n",
    "import matplotlib.pyplot as plt\n",
    "#---------------------- RDKit packages\n",
    "from rdkit.Chem import AllChem\n",
    "from rdkit.Chem import rdMolDescriptors\n",
    "from rdkit.Chem.Draw import IPythonConsole\n",
    "from rdkit.Chem import Draw\n",
    "from rdkit import DataStructs\n",
    "from rdkit.ML.Cluster import Butina\n",
    "#------------------- progress bar\n",
    "from tqdm import tqdm\n",
    "#------------------- hide warning\n",
    "import warnings\n",
    "warnings.filterwarnings('ignore')"
   ]
  },
  {
   "cell_type": "code",
   "execution_count": 3,
   "id": "b53f6c35-e00c-4086-b82b-3363106ffb15",
   "metadata": {
    "tags": []
   },
   "outputs": [],
   "source": [
    "from rdkit.Chem.Draw import IPythonConsole\n",
    "from ipywidgets import interact,fixed,IntSlider"
   ]
  },
  {
   "cell_type": "code",
   "execution_count": 4,
   "id": "b2286f95-defd-41c5-979a-511db0416200",
   "metadata": {
    "tags": []
   },
   "outputs": [],
   "source": [
    "def renderFpBit(mol,bitIdx,bitInfo,fn):\n",
    "    bid = bitIdx\n",
    "    return(display(fn(mol,bid,bitInfo)))\n",
    "def get_index_of_array_that_contain_1_in_any_position(list1):\n",
    "    result = []\n",
    "    for i, e in enumerate(list1):\n",
    "        if e > 0:\n",
    "            result.append(i)\n",
    "    return result"
   ]
  },
  {
   "cell_type": "code",
   "execution_count": 5,
   "id": "9d66e8e5-b6f8-452e-8897-b742c4905e05",
   "metadata": {
    "tags": []
   },
   "outputs": [],
   "source": [
    "name1 = \"CCCC(C)O\"\n",
    "m1 = Chem.MolFromSmiles(name1)\n",
    "name2 = \"CCC(CC)O\"\n",
    "m2 = Chem.MolFromSmiles(name2)"
   ]
  },
  {
   "cell_type": "code",
   "execution_count": null,
   "id": "4d051288-8fba-444d-8107-711cac6042b6",
   "metadata": {},
   "outputs": [],
   "source": []
  },
  {
   "cell_type": "markdown",
   "id": "d4c2f175-f4eb-47b8-aa27-10f598265c9b",
   "metadata": {
    "tags": []
   },
   "source": [
    "# Inspect Bit with Image"
   ]
  },
  {
   "cell_type": "code",
   "execution_count": 6,
   "id": "aa80ffb9-587c-44fb-9229-ee93a5af2a81",
   "metadata": {
    "tags": []
   },
   "outputs": [],
   "source": [
    "from rdkit import Chem\n",
    "from rdkit.Chem.rdMolDescriptors import GetHashedMorganFingerprint\n",
    "\n",
    "mol1 = Chem.MolFromSmiles('C=CC=CC#C')\n",
    "mol2 = Chem.MolFromSmiles('CCO')\n",
    "mol3 = Chem.MolFromSmiles('CCCO')\n",
    "mol4 = Chem.MolFromSmiles('CCCCO')\n",
    "bit_info1 = {}\n",
    "bit_info2 = {}\n",
    "bit_info3 = {}\n",
    "bit_info4 = {}\n",
    "fp1 = GetHashedMorganFingerprint(mol1, 3, bitInfo=bit_info1, useFeatures=True)\n",
    "fp2 = GetHashedMorganFingerprint(mol2, 3, bitInfo=bit_info2, useFeatures=True)\n",
    "fp3 = GetHashedMorganFingerprint(mol3, 3, bitInfo=bit_info3, useFeatures=True)\n",
    "fp4 = GetHashedMorganFingerprint(mol4, 3, bitInfo=bit_info4, useFeatures=True)"
   ]
  },
  {
   "cell_type": "code",
   "execution_count": 7,
   "id": "098c30bd-fcd3-4eb7-b366-1a2977ed06aa",
   "metadata": {
    "tags": []
   },
   "outputs": [
    {
     "name": "stdout",
     "output_type": "stream",
     "text": [
      "[0, 156, 195, 445, 673, 701, 857, 1146, 1346, 1738]\n",
      "[0, 3, 805, 1085, 2041]\n",
      "[0, 3, 490, 792, 805, 1085, 2041]\n",
      "[0, 3, 490, 539, 545, 792, 805, 1085, 2041]\n"
     ]
    }
   ],
   "source": [
    "print(get_index_of_array_that_contain_1_in_any_position(list(fp1)))\n",
    "print(get_index_of_array_that_contain_1_in_any_position(list(fp2)))\n",
    "print(get_index_of_array_that_contain_1_in_any_position(list(fp3)))\n",
    "print(get_index_of_array_that_contain_1_in_any_position(list(fp4)))"
   ]
  },
  {
   "cell_type": "code",
   "execution_count": 8,
   "id": "30a318b9-1250-465b-8561-73b909fa4deb",
   "metadata": {
    "tags": []
   },
   "outputs": [
    {
     "data": {
      "application/vnd.jupyter.widget-view+json": {
       "model_id": "1e49dcc51e94413487d302d46541646b",
       "version_major": 2,
       "version_minor": 0
      },
      "text/plain": [
       "interactive(children=(Dropdown(description='bitIdx', options=(0, 156, 195, 445, 673, 701, 857, 1146, 1346, 173…"
      ]
     },
     "metadata": {},
     "output_type": "display_data"
    },
    {
     "data": {
      "application/vnd.jupyter.widget-view+json": {
       "model_id": "d17e96ec62ab4fa49cc59991dc48e193",
       "version_major": 2,
       "version_minor": 0
      },
      "text/plain": [
       "interactive(children=(Dropdown(description='bitIdx', options=(0, 3, 805, 1085, 2041), value=0), Output()), _do…"
      ]
     },
     "metadata": {},
     "output_type": "display_data"
    },
    {
     "data": {
      "application/vnd.jupyter.widget-view+json": {
       "model_id": "62800baa72834ab6b3a429caf45167e0",
       "version_major": 2,
       "version_minor": 0
      },
      "text/plain": [
       "interactive(children=(Dropdown(description='bitIdx', options=(0, 3, 490, 792, 805, 1085, 2041), value=0), Outp…"
      ]
     },
     "metadata": {},
     "output_type": "display_data"
    },
    {
     "data": {
      "application/vnd.jupyter.widget-view+json": {
       "model_id": "a1bb5932dbb947b69994a48c43489f52",
       "version_major": 2,
       "version_minor": 0
      },
      "text/plain": [
       "interactive(children=(Dropdown(description='bitIdx', options=(0, 3, 490, 539, 545, 792, 805, 1085, 2041), valu…"
      ]
     },
     "metadata": {},
     "output_type": "display_data"
    }
   ],
   "source": [
    "interact(renderFpBit, bitIdx=list(bit_info1.keys()),mol=fixed(mol1),\n",
    "         bitInfo=fixed(bit_info1),fn=fixed(Draw.DrawMorganBit));\n",
    "interact(renderFpBit, bitIdx=list(bit_info2.keys()),mol=fixed(mol2),\n",
    "         bitInfo=fixed(bit_info2),fn=fixed(Draw.DrawMorganBit));\n",
    "interact(renderFpBit, bitIdx=list(bit_info3.keys()),mol=fixed(mol3),\n",
    "         bitInfo=fixed(bit_info3),fn=fixed(Draw.DrawMorganBit));\n",
    "interact(renderFpBit, bitIdx=list(bit_info4.keys()),mol=fixed(mol4),\n",
    "         bitInfo=fixed(bit_info4),fn=fixed(Draw.DrawMorganBit));"
   ]
  },
  {
   "cell_type": "markdown",
   "id": "bc394f34-ee82-42d5-8f87-118599e55526",
   "metadata": {
    "tags": []
   },
   "source": [
    "# Inspect All Bit in Molecule"
   ]
  },
  {
   "cell_type": "code",
   "execution_count": 9,
   "id": "4852d96f-4c4b-4c14-bed7-a708bef2e7b9",
   "metadata": {
    "tags": []
   },
   "outputs": [
    {
     "data": {
      "image/png": "[encoded data removed]",
      "text/plain": [
       "<PIL.PngImagePlugin.PngImageFile image mode=RGB size=600x450>"
      ]
     },
     "execution_count": 9,
     "metadata": {},
     "output_type": "execute_result"
    }
   ],
   "source": [
    "# Inspect Bit\n",
    "mol = m1\n",
    "bit_info_mol = {}\n",
    "fp_mol = GetHashedMorganFingerprint(mol, 3, bitInfo=bit_info_mol, useFeatures=True)\n",
    "all_fragments = [(mol, x, bit_info_mol) for x in get_index_of_array_that_contain_1_in_any_position(list(fp_mol))]\n",
    "Draw.DrawMorganBits(all_fragments[:], molsPerRow=4, legends=[str(x) for x in get_index_of_array_that_contain_1_in_any_position(list(fp_mol))][:])"
   ]
  },
  {
   "cell_type": "code",
   "execution_count": null,
   "id": "73016c8a-9d06-4219-bfea-4df0cfc9abaf",
   "metadata": {},
   "outputs": [],
   "source": []
  }
 ],
 "metadata": {
  "kernelspec": {
   "display_name": "Python 3 (ipykernel)",
   "language": "python",
   "name": "python3"
  },
  "language_info": {
   "codemirror_mode": {
    "name": "ipython",
    "version": 3
   },
   "file_extension": ".py",
   "mimetype": "text/x-python",
   "name": "python",
   "nbconvert_exporter": "python",
   "pygments_lexer": "ipython3",
   "version": "3.11.4"
  }
 },
 "nbformat": 4,
 "nbformat_minor": 5
}
