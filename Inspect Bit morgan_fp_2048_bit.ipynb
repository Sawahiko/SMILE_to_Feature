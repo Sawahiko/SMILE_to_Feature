{
 "cells": [
  {
   "cell_type": "code",
   "execution_count": 1,
   "id": "62d29db6-a470-422b-b0b6-a26712de43c0",
   "metadata": {
    "execution": {
     "iopub.execute_input": "2023-09-19T15:54:09.078702Z",
     "iopub.status.busy": "2023-09-19T15:54:09.078702Z",
     "iopub.status.idle": "2023-09-19T15:54:10.193426Z",
     "shell.execute_reply": "2023-09-19T15:54:10.193426Z",
     "shell.execute_reply.started": "2023-09-19T15:54:09.078702Z"
    },
    "id": "5QKaKQNzGN7T",
    "tags": []
   },
   "outputs": [],
   "source": [
    "# https://www.rdkit.org/\n",
    "import rdkit\n",
    "#https://github.com/rdkit/rdkit\n",
    "from rdkit.Chem import AllChem\n",
    "from rdkit import Chem\n",
    "from rdkit.Chem import Descriptors\n",
    "from rdkit.ML.Descriptors import MoleculeDescriptors\n",
    "# https://pandas.pydata.org\n",
    "import pandas as pd\n",
    "\n",
    "# https://numpy.org/doc/stable/release.html\n",
    "import numpy as np\n",
    "\n",
    "#https://github.com/mordred-descriptor/mordred\n",
    "#from mordred import Calculator, descriptors\n",
    "\n",
    "from rdkit.Chem import Draw\n",
    "from rdkit.Chem.Draw import rdMolDraw2D"
   ]
  },
  {
   "cell_type": "code",
   "execution_count": 2,
   "id": "4402e429-5703-4ce6-bfcb-94280b58dd14",
   "metadata": {
    "execution": {
     "iopub.execute_input": "2023-09-19T15:54:10.196416Z",
     "iopub.status.busy": "2023-09-19T15:54:10.195416Z",
     "iopub.status.idle": "2023-09-19T15:54:11.514922Z",
     "shell.execute_reply": "2023-09-19T15:54:11.514922Z",
     "shell.execute_reply.started": "2023-09-19T15:54:10.196416Z"
    },
    "tags": []
   },
   "outputs": [],
   "source": [
    "import pandas as pd\n",
    "import numpy as np\n",
    "import seaborn as sn\n",
    "import matplotlib.pyplot as plt\n",
    "#---------------------- RDKit packages\n",
    "from rdkit.Chem import AllChem\n",
    "from rdkit.Chem import rdMolDescriptors\n",
    "from rdkit.Chem.Draw import IPythonConsole\n",
    "from rdkit.Chem import Draw\n",
    "from rdkit import DataStructs\n",
    "from rdkit.ML.Cluster import Butina\n",
    "#------------------- progress bar\n",
    "from tqdm import tqdm\n",
    "#------------------- hide warning\n",
    "import warnings\n",
    "warnings.filterwarnings('ignore')"
   ]
  },
  {
   "cell_type": "code",
   "execution_count": 3,
   "id": "b53f6c35-e00c-4086-b82b-3363106ffb15",
   "metadata": {
    "execution": {
     "iopub.execute_input": "2023-09-19T15:54:11.515915Z",
     "iopub.status.busy": "2023-09-19T15:54:11.515915Z",
     "iopub.status.idle": "2023-09-19T15:54:11.523615Z",
     "shell.execute_reply": "2023-09-19T15:54:11.523615Z",
     "shell.execute_reply.started": "2023-09-19T15:54:11.515915Z"
    },
    "tags": []
   },
   "outputs": [],
   "source": [
    "from rdkit.Chem.Draw import IPythonConsole\n",
    "from ipywidgets import interact,fixed,IntSlider"
   ]
  },
  {
   "cell_type": "code",
   "execution_count": 4,
   "id": "b2286f95-defd-41c5-979a-511db0416200",
   "metadata": {
    "execution": {
     "iopub.execute_input": "2023-09-19T15:54:11.525606Z",
     "iopub.status.busy": "2023-09-19T15:54:11.524604Z",
     "iopub.status.idle": "2023-09-19T15:54:11.636478Z",
     "shell.execute_reply": "2023-09-19T15:54:11.635806Z",
     "shell.execute_reply.started": "2023-09-19T15:54:11.525606Z"
    },
    "tags": []
   },
   "outputs": [],
   "source": [
    "def renderFpBit(mol,bitIdx,bitInfo,fn):\n",
    "    bid = bitIdx\n",
    "    return(display(fn(mol,bid,bitInfo)))\n",
    "def get_index_of_array_that_contain_1_in_any_position(list1):\n",
    "    result = []\n",
    "    for i, e in enumerate(list1):\n",
    "        if e > 0:\n",
    "            result.append(i)\n",
    "    return result"
   ]
  },
  {
   "cell_type": "code",
   "execution_count": 5,
   "id": "9d66e8e5-b6f8-452e-8897-b742c4905e05",
   "metadata": {
    "execution": {
     "iopub.execute_input": "2023-09-19T15:54:11.637896Z",
     "iopub.status.busy": "2023-09-19T15:54:11.636900Z",
     "iopub.status.idle": "2023-09-19T15:54:11.740823Z",
     "shell.execute_reply": "2023-09-19T15:54:11.740823Z",
     "shell.execute_reply.started": "2023-09-19T15:54:11.637896Z"
    },
    "tags": []
   },
   "outputs": [],
   "source": [
    "name1 = \"CCCC(C)O\"\n",
    "m1 = Chem.MolFromSmiles(name1)\n",
    "name2 = \"CCC(CC)O\"\n",
    "m2 = Chem.MolFromSmiles(name2)"
   ]
  },
  {
   "cell_type": "code",
   "execution_count": null,
   "id": "4d051288-8fba-444d-8107-711cac6042b6",
   "metadata": {},
   "outputs": [],
   "source": []
  },
  {
   "cell_type": "markdown",
   "id": "d4c2f175-f4eb-47b8-aa27-10f598265c9b",
   "metadata": {
    "tags": []
   },
   "source": [
    "# Inspect Bit with Image"
   ]
  },
  {
   "cell_type": "code",
   "execution_count": 6,
   "id": "aa80ffb9-587c-44fb-9229-ee93a5af2a81",
   "metadata": {
    "execution": {
     "iopub.execute_input": "2023-09-19T15:54:11.742815Z",
     "iopub.status.busy": "2023-09-19T15:54:11.741814Z",
     "iopub.status.idle": "2023-09-19T15:54:11.863507Z",
     "shell.execute_reply": "2023-09-19T15:54:11.863507Z",
     "shell.execute_reply.started": "2023-09-19T15:54:11.742815Z"
    },
    "tags": []
   },
   "outputs": [],
   "source": [
    "from rdkit import Chem\n",
    "from rdkit.Chem.rdMolDescriptors import GetHashedMorganFingerprint\n",
    "\n",
    "mol1 = Chem.MolFromSmiles('CO')\n",
    "mol2 = Chem.MolFromSmiles('CCO')\n",
    "mol3 = Chem.MolFromSmiles('CCCO')\n",
    "mol4 = Chem.MolFromSmiles('CCCCO')\n",
    "bit_info1 = {}\n",
    "bit_info2 = {}\n",
    "bit_info3 = {}\n",
    "bit_info4 = {}\n",
    "fp1 = GetHashedMorganFingerprint(mol1, 3, bitInfo=bit_info1, useFeatures=True)\n",
    "fp2 = GetHashedMorganFingerprint(mol2, 3, bitInfo=bit_info2, useFeatures=True)\n",
    "fp3 = GetHashedMorganFingerprint(mol3, 3, bitInfo=bit_info3, useFeatures=True)\n",
    "fp4 = GetHashedMorganFingerprint(mol4, 3, bitInfo=bit_info4, useFeatures=True)"
   ]
  },
  {
   "cell_type": "code",
   "execution_count": 7,
   "id": "098c30bd-fcd3-4eb7-b366-1a2977ed06aa",
   "metadata": {
    "execution": {
     "iopub.execute_input": "2023-09-19T15:54:11.868498Z",
     "iopub.status.busy": "2023-09-19T15:54:11.867500Z",
     "iopub.status.idle": "2023-09-19T15:54:11.994593Z",
     "shell.execute_reply": "2023-09-19T15:54:11.994593Z",
     "shell.execute_reply.started": "2023-09-19T15:54:11.868498Z"
    },
    "tags": []
   },
   "outputs": [
    {
     "name": "stdout",
     "output_type": "stream",
     "text": [
      "[0, 3, 1230]\n",
      "[0, 3, 805, 1085, 2041]\n",
      "[0, 3, 490, 792, 805, 1085, 2041]\n",
      "[0, 3, 490, 539, 545, 792, 805, 1085, 2041]\n"
     ]
    }
   ],
   "source": [
    "print(get_index_of_array_that_contain_1_in_any_position(list(fp1)))\n",
    "print(get_index_of_array_that_contain_1_in_any_position(list(fp2)))\n",
    "print(get_index_of_array_that_contain_1_in_any_position(list(fp3)))\n",
    "print(get_index_of_array_that_contain_1_in_any_position(list(fp4)))"
   ]
  },
  {
   "cell_type": "code",
   "execution_count": 8,
   "id": "30a318b9-1250-465b-8561-73b909fa4deb",
   "metadata": {
    "execution": {
     "iopub.execute_input": "2023-09-19T15:54:11.996321Z",
     "iopub.status.busy": "2023-09-19T15:54:11.996321Z",
     "iopub.status.idle": "2023-09-19T15:54:12.281514Z",
     "shell.execute_reply": "2023-09-19T15:54:12.281514Z",
     "shell.execute_reply.started": "2023-09-19T15:54:11.996321Z"
    },
    "tags": []
   },
   "outputs": [
    {
     "data": {
      "application/vnd.jupyter.widget-view+json": {
       "model_id": "0fc270db0f554de19fe98668133643f4",
       "version_major": 2,
       "version_minor": 0
      },
      "text/plain": [
       "interactive(children=(Dropdown(description='bitIdx', options=(0, 3, 1230), value=0), Output()), _dom_classes=(…"
      ]
     },
     "metadata": {},
     "output_type": "display_data"
    },
    {
     "data": {
      "application/vnd.jupyter.widget-view+json": {
       "model_id": "d6be47e740ad45e8b0043f8e16226bac",
       "version_major": 2,
       "version_minor": 0
      },
      "text/plain": [
       "interactive(children=(Dropdown(description='bitIdx', options=(0, 3, 805, 1085, 2041), value=0), Output()), _do…"
      ]
     },
     "metadata": {},
     "output_type": "display_data"
    },
    {
     "data": {
      "application/vnd.jupyter.widget-view+json": {
       "model_id": "2a7bbfdf2b2e47e2b887128732d18b45",
       "version_major": 2,
       "version_minor": 0
      },
      "text/plain": [
       "interactive(children=(Dropdown(description='bitIdx', options=(0, 3, 490, 792, 805, 1085, 2041), value=0), Outp…"
      ]
     },
     "metadata": {},
     "output_type": "display_data"
    },
    {
     "data": {
      "application/vnd.jupyter.widget-view+json": {
       "model_id": "fb38dfd91a71408babc2636e6a48f798",
       "version_major": 2,
       "version_minor": 0
      },
      "text/plain": [
       "interactive(children=(Dropdown(description='bitIdx', options=(0, 3, 490, 539, 545, 792, 805, 1085, 2041), valu…"
      ]
     },
     "metadata": {},
     "output_type": "display_data"
    }
   ],
   "source": [
    "interact(renderFpBit, bitIdx=list(bit_info1.keys()),mol=fixed(mol1),\n",
    "         bitInfo=fixed(bit_info1),fn=fixed(Draw.DrawMorganBit));\n",
    "interact(renderFpBit, bitIdx=list(bit_info2.keys()),mol=fixed(mol2),\n",
    "         bitInfo=fixed(bit_info2),fn=fixed(Draw.DrawMorganBit));\n",
    "interact(renderFpBit, bitIdx=list(bit_info3.keys()),mol=fixed(mol3),\n",
    "         bitInfo=fixed(bit_info3),fn=fixed(Draw.DrawMorganBit));\n",
    "interact(renderFpBit, bitIdx=list(bit_info4.keys()),mol=fixed(mol4),\n",
    "         bitInfo=fixed(bit_info4),fn=fixed(Draw.DrawMorganBit));"
   ]
  },
  {
   "cell_type": "markdown",
   "id": "e31b6e96-b550-457b-8c30-6854fa8d20d0",
   "metadata": {
    "tags": []
   },
   "source": [
    "# Bit No.352 is *-CCC(C)O"
   ]
  },
  {
   "cell_type": "code",
   "execution_count": 9,
   "id": "ec998a4c-72fa-4e35-ae98-50de6d6627e8",
   "metadata": {
    "execution": {
     "iopub.execute_input": "2023-09-19T15:54:12.283506Z",
     "iopub.status.busy": "2023-09-19T15:54:12.282503Z",
     "iopub.status.idle": "2023-09-19T15:54:12.288682Z",
     "shell.execute_reply": "2023-09-19T15:54:12.287914Z",
     "shell.execute_reply.started": "2023-09-19T15:54:12.283506Z"
    },
    "tags": []
   },
   "outputs": [],
   "source": [
    "bit_info = {}\n",
    "mol = m1\n",
    "fp = GetHashedMorganFingerprint(mol, 3, bitInfo=bit_info, useFeatures=True)"
   ]
  },
  {
   "cell_type": "code",
   "execution_count": 10,
   "id": "572381f3-3955-4e26-a85b-a4f29efa6622",
   "metadata": {
    "execution": {
     "iopub.execute_input": "2023-09-19T15:54:12.290191Z",
     "iopub.status.busy": "2023-09-19T15:54:12.290191Z",
     "iopub.status.idle": "2023-09-19T15:54:12.384476Z",
     "shell.execute_reply": "2023-09-19T15:54:12.384476Z",
     "shell.execute_reply.started": "2023-09-19T15:54:12.290191Z"
    },
    "tags": []
   },
   "outputs": [
    {
     "name": "stdout",
     "output_type": "stream",
     "text": [
      "[0, 3, 352, 539, 792, 1085, 1587, 1687, 2041]\n"
     ]
    }
   ],
   "source": [
    "print(get_index_of_array_that_contain_1_in_any_position(list(fp)))"
   ]
  },
  {
   "cell_type": "code",
   "execution_count": 11,
   "id": "92b3d0c3-3a91-4b4e-a911-201d73f10f99",
   "metadata": {
    "execution": {
     "iopub.execute_input": "2023-09-19T15:54:12.386469Z",
     "iopub.status.busy": "2023-09-19T15:54:12.385468Z",
     "iopub.status.idle": "2023-09-19T15:54:12.511344Z",
     "shell.execute_reply": "2023-09-19T15:54:12.511344Z",
     "shell.execute_reply.started": "2023-09-19T15:54:12.386469Z"
    },
    "tags": []
   },
   "outputs": [],
   "source": [
    "# Select Bit\n",
    "atomidx, radius = bit_info[352][0]"
   ]
  },
  {
   "cell_type": "code",
   "execution_count": 12,
   "id": "54cd8d37-ffc6-4b1c-a093-5a6d5ffe83cc",
   "metadata": {
    "execution": {
     "iopub.execute_input": "2023-09-19T15:54:12.513446Z",
     "iopub.status.busy": "2023-09-19T15:54:12.512449Z",
     "iopub.status.idle": "2023-09-19T15:54:12.632431Z",
     "shell.execute_reply": "2023-09-19T15:54:12.632431Z",
     "shell.execute_reply.started": "2023-09-19T15:54:12.513446Z"
    },
    "tags": []
   },
   "outputs": [
    {
     "data": {
      "application/vnd.jupyter.widget-view+json": {
       "model_id": "d84409f7e95c43d0905eb6aa52acfbba",
       "version_major": 2,
       "version_minor": 0
      },
      "text/plain": [
       "interactive(children=(Dropdown(description='bitIdx', options=(0, 3, 352, 539, 792, 1085, 1587, 1687, 2041), va…"
      ]
     },
     "metadata": {},
     "output_type": "display_data"
    }
   ],
   "source": [
    "# Inspect Bit\n",
    "bit_info_mol = {}\n",
    "fp_mol = GetHashedMorganFingerprint(mol, 3, bitInfo=bit_info_mol, useFeatures=True)\n",
    "interact(renderFpBit, bitIdx=list(bit_info_mol.keys()),mol=fixed(mol),\n",
    "         bitInfo=fixed(bit_info_mol),fn=fixed(Draw.DrawMorganBit));"
   ]
  },
  {
   "cell_type": "code",
   "execution_count": 13,
   "id": "9a3e030d-771c-4a42-ac75-d4c2cc4fd86b",
   "metadata": {
    "execution": {
     "iopub.execute_input": "2023-09-19T15:54:12.634424Z",
     "iopub.status.busy": "2023-09-19T15:54:12.633425Z",
     "iopub.status.idle": "2023-09-19T15:54:12.784786Z",
     "shell.execute_reply": "2023-09-19T15:54:12.784786Z",
     "shell.execute_reply.started": "2023-09-19T15:54:12.634424Z"
    },
    "tags": []
   },
   "outputs": [
    {
     "name": "stdout",
     "output_type": "stream",
     "text": [
      "*-[#6]-[#6]-[#6](-[#6])-[#8]\n"
     ]
    }
   ],
   "source": [
    "env = Chem.FindAtomEnvironmentOfRadiusN(mol, radius, atomidx)\n",
    "\n",
    "atomsToUse = set((atomidx, ))\n",
    "for b in env:\n",
    "    atomsToUse.add(mol.GetBondWithIdx(b).GetBeginAtomIdx())\n",
    "    atomsToUse.add(mol.GetBondWithIdx(b).GetEndAtomIdx())\n",
    "\n",
    "enlargedEnv = set()\n",
    "for atom in atomsToUse:\n",
    "    a = mol.GetAtomWithIdx(atom)\n",
    "    for b in a.GetBonds():\n",
    "      bidx = b.GetIdx()\n",
    "      if bidx not in env:\n",
    "        enlargedEnv.add(bidx)\n",
    "\n",
    "enlargedEnv = list(enlargedEnv)\n",
    "enlargedEnv += env\n",
    "\n",
    "# find all relevant neighbors\n",
    "anyAtoms = []\n",
    "for a in atomsToUse:\n",
    "    neighbors = mol.GetAtomWithIdx(a).GetNeighbors()\n",
    "    for n in neighbors:\n",
    "        anyIdx = n.GetIdx()\n",
    "        if anyIdx not in atomsToUse:\n",
    "            anyAtoms.append(anyIdx)\n",
    "\n",
    "# replace atomic number to zero (there is no number for any atom)\n",
    "for aA in anyAtoms:\n",
    "    mol.GetAtomWithIdx(aA).SetAtomicNum(0)\n",
    "\n",
    "submol = Chem.PathToSubmol(mol, enlargedEnv)\n",
    "\n",
    "# change [0] to *\n",
    "MorganBitSmarts = Chem.MolToSmarts(submol).replace('[#0]', '*')\n",
    "print(MorganBitSmarts)"
   ]
  },
  {
   "cell_type": "markdown",
   "id": "bc394f34-ee82-42d5-8f87-118599e55526",
   "metadata": {
    "tags": []
   },
   "source": [
    "# Inspect All Bit in Molecule"
   ]
  },
  {
   "cell_type": "code",
   "execution_count": 14,
   "id": "4852d96f-4c4b-4c14-bed7-a708bef2e7b9",
   "metadata": {
    "execution": {
     "iopub.execute_input": "2023-09-19T15:54:12.786779Z",
     "iopub.status.busy": "2023-09-19T15:54:12.786779Z",
     "iopub.status.idle": "2023-09-19T15:54:12.949692Z",
     "shell.execute_reply": "2023-09-19T15:54:12.949692Z",
     "shell.execute_reply.started": "2023-09-19T15:54:12.786779Z"
    },
    "tags": []
   },
   "outputs": [
    {
     "data": {
      "image/png": "[encoded data removed]",
      "text/plain": [
       "<PIL.PngImagePlugin.PngImageFile image mode=RGB size=600x450>"
      ]
     },
     "execution_count": 14,
     "metadata": {},
     "output_type": "execute_result"
    }
   ],
   "source": [
    "# Inspect Bit\n",
    "mol = m1\n",
    "bit_info_mol = {}\n",
    "fp_mol = GetHashedMorganFingerprint(mol, 3, bitInfo=bit_info_mol, useFeatures=True)\n",
    "all_fragments = [(mol, x, bit_info_mol) for x in get_index_of_array_that_contain_1_in_any_position(list(fp_mol))]\n",
    "Draw.DrawMorganBits(all_fragments[:], molsPerRow=4, legends=[str(x) for x in get_index_of_array_that_contain_1_in_any_position(list(fp_mol))][:])"
   ]
  },
  {
   "cell_type": "code",
   "execution_count": null,
   "id": "73016c8a-9d06-4219-bfea-4df0cfc9abaf",
   "metadata": {},
   "outputs": [],
   "source": []
  }
 ],
 "metadata": {
  "kernelspec": {
   "display_name": "Python 3 (ipykernel)",
   "language": "python",
   "name": "python3"
  },
  "language_info": {
   "codemirror_mode": {
    "name": "ipython",
    "version": 3
   },
   "file_extension": ".py",
   "mimetype": "text/x-python",
   "name": "python",
   "nbconvert_exporter": "python",
   "pygments_lexer": "ipython3",
   "version": "3.11.4"
  }
 },
 "nbformat": 4,
 "nbformat_minor": 5
}
