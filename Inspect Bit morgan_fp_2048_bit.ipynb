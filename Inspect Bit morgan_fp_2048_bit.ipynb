{
 "cells": [
  {
   "cell_type": "code",
   "execution_count": 55,
   "id": "62d29db6-a470-422b-b0b6-a26712de43c0",
   "metadata": {
    "execution": {
     "iopub.execute_input": "2023-09-19T14:03:23.765545Z",
     "iopub.status.busy": "2023-09-19T14:03:23.764546Z",
     "iopub.status.idle": "2023-09-19T14:03:23.771682Z",
     "shell.execute_reply": "2023-09-19T14:03:23.771682Z",
     "shell.execute_reply.started": "2023-09-19T14:03:23.765545Z"
    },
    "id": "5QKaKQNzGN7T",
    "tags": []
   },
   "outputs": [],
   "source": [
    "# https://www.rdkit.org/\n",
    "import rdkit\n",
    "#https://github.com/rdkit/rdkit\n",
    "from rdkit.Chem import AllChem\n",
    "from rdkit import Chem\n",
    "from rdkit.Chem import Descriptors\n",
    "from rdkit.ML.Descriptors import MoleculeDescriptors\n",
    "# https://pandas.pydata.org\n",
    "import pandas as pd\n",
    "\n",
    "# https://numpy.org/doc/stable/release.html\n",
    "import numpy as np\n",
    "\n",
    "#https://github.com/mordred-descriptor/mordred\n",
    "#from mordred import Calculator, descriptors\n",
    "\n",
    "from rdkit.Chem import Draw\n",
    "from rdkit.Chem.Draw import rdMolDraw2D"
   ]
  },
  {
   "cell_type": "code",
   "execution_count": 56,
   "id": "4402e429-5703-4ce6-bfcb-94280b58dd14",
   "metadata": {
    "execution": {
     "iopub.execute_input": "2023-09-19T14:03:23.774672Z",
     "iopub.status.busy": "2023-09-19T14:03:23.773671Z",
     "iopub.status.idle": "2023-09-19T14:03:23.852335Z",
     "shell.execute_reply": "2023-09-19T14:03:23.852335Z",
     "shell.execute_reply.started": "2023-09-19T14:03:23.774672Z"
    },
    "tags": []
   },
   "outputs": [],
   "source": [
    "import pandas as pd\n",
    "import numpy as np\n",
    "import seaborn as sn\n",
    "import matplotlib.pyplot as plt\n",
    "#---------------------- RDKit packages\n",
    "from rdkit.Chem import AllChem\n",
    "from rdkit.Chem import rdMolDescriptors\n",
    "from rdkit.Chem.Draw import IPythonConsole\n",
    "from rdkit.Chem import Draw\n",
    "from rdkit import DataStructs\n",
    "from rdkit.ML.Cluster import Butina\n",
    "#------------------- progress bar\n",
    "from tqdm import tqdm\n",
    "#------------------- hide warning\n",
    "import warnings\n",
    "warnings.filterwarnings('ignore')"
   ]
  },
  {
   "cell_type": "code",
   "execution_count": 57,
   "id": "b53f6c35-e00c-4086-b82b-3363106ffb15",
   "metadata": {
    "execution": {
     "iopub.execute_input": "2023-09-19T14:03:23.854323Z",
     "iopub.status.busy": "2023-09-19T14:03:23.854323Z",
     "iopub.status.idle": "2023-09-19T14:03:23.970252Z",
     "shell.execute_reply": "2023-09-19T14:03:23.970252Z",
     "shell.execute_reply.started": "2023-09-19T14:03:23.854323Z"
    },
    "tags": []
   },
   "outputs": [],
   "source": [
    "from rdkit.Chem.Draw import IPythonConsole\n",
    "from ipywidgets import interact,fixed,IntSlider"
   ]
  },
  {
   "cell_type": "code",
   "execution_count": 73,
   "id": "b2286f95-defd-41c5-979a-511db0416200",
   "metadata": {
    "execution": {
     "iopub.execute_input": "2023-09-19T14:03:38.712279Z",
     "iopub.status.busy": "2023-09-19T14:03:38.712279Z",
     "iopub.status.idle": "2023-09-19T14:03:38.719359Z",
     "shell.execute_reply": "2023-09-19T14:03:38.718373Z",
     "shell.execute_reply.started": "2023-09-19T14:03:38.712279Z"
    },
    "tags": []
   },
   "outputs": [],
   "source": [
    "def renderFpBit(mol,bitIdx,bitInfo,fn):\n",
    "    bid = bitIdx\n",
    "    return(display(fn(mol,bid,bitInfo)))\n",
    "def get_index_of_array_that_contain_1_in_any_position(list1):\n",
    "    result = []\n",
    "    for i, e in enumerate(list1):\n",
    "        if e > 0:\n",
    "            result.append(i)\n",
    "    return result"
   ]
  },
  {
   "cell_type": "code",
   "execution_count": 59,
   "id": "9d66e8e5-b6f8-452e-8897-b742c4905e05",
   "metadata": {
    "execution": {
     "iopub.execute_input": "2023-09-19T14:03:24.069559Z",
     "iopub.status.busy": "2023-09-19T14:03:24.069559Z",
     "iopub.status.idle": "2023-09-19T14:03:24.154206Z",
     "shell.execute_reply": "2023-09-19T14:03:24.154206Z",
     "shell.execute_reply.started": "2023-09-19T14:03:24.069559Z"
    },
    "tags": []
   },
   "outputs": [],
   "source": [
    "name1 = \"CCCC(C)O\"\n",
    "m1 = Chem.MolFromSmiles(name1)\n",
    "name2 = \"CCC(CC)O\"\n",
    "m2 = Chem.MolFromSmiles(name2)"
   ]
  },
  {
   "cell_type": "code",
   "execution_count": null,
   "id": "4d051288-8fba-444d-8107-711cac6042b6",
   "metadata": {},
   "outputs": [],
   "source": []
  },
  {
   "cell_type": "markdown",
   "id": "d4c2f175-f4eb-47b8-aa27-10f598265c9b",
   "metadata": {
    "tags": []
   },
   "source": [
    "# Inspect Bit with Image"
   ]
  },
  {
   "cell_type": "code",
   "execution_count": 60,
   "id": "aa80ffb9-587c-44fb-9229-ee93a5af2a81",
   "metadata": {
    "execution": {
     "iopub.execute_input": "2023-09-19T14:03:24.156198Z",
     "iopub.status.busy": "2023-09-19T14:03:24.155196Z",
     "iopub.status.idle": "2023-09-19T14:03:24.296295Z",
     "shell.execute_reply": "2023-09-19T14:03:24.296295Z",
     "shell.execute_reply.started": "2023-09-19T14:03:24.156198Z"
    },
    "tags": []
   },
   "outputs": [],
   "source": [
    "from rdkit import Chem\n",
    "from rdkit.Chem.rdMolDescriptors import GetHashedMorganFingerprint\n",
    "\n",
    "mol1 = Chem.MolFromSmiles('CO')\n",
    "mol2 = Chem.MolFromSmiles('CCO')\n",
    "mol3 = Chem.MolFromSmiles('CCCO')\n",
    "mol4 = Chem.MolFromSmiles('CCCCO')\n",
    "bit_info1 = {}\n",
    "bit_info2 = {}\n",
    "bit_info3 = {}\n",
    "bit_info4 = {}\n",
    "fp1 = GetHashedMorganFingerprint(mol1, 3, bitInfo=bit_info1, useFeatures=True)\n",
    "fp2 = GetHashedMorganFingerprint(mol2, 3, bitInfo=bit_info2, useFeatures=True)\n",
    "fp3 = GetHashedMorganFingerprint(mol3, 3, bitInfo=bit_info3, useFeatures=True)\n",
    "fp4 = GetHashedMorganFingerprint(mol4, 3, bitInfo=bit_info4, useFeatures=True)"
   ]
  },
  {
   "cell_type": "code",
   "execution_count": 61,
   "id": "098c30bd-fcd3-4eb7-b366-1a2977ed06aa",
   "metadata": {
    "execution": {
     "iopub.execute_input": "2023-09-19T14:03:24.298280Z",
     "iopub.status.busy": "2023-09-19T14:03:24.297281Z",
     "iopub.status.idle": "2023-09-19T14:03:24.403411Z",
     "shell.execute_reply": "2023-09-19T14:03:24.403411Z",
     "shell.execute_reply.started": "2023-09-19T14:03:24.298280Z"
    },
    "tags": []
   },
   "outputs": [
    {
     "name": "stdout",
     "output_type": "stream",
     "text": [
      "[0, 3, 1230]\n",
      "[0, 3, 805, 1085, 2041]\n",
      "[0, 3, 490, 792, 805, 1085, 2041]\n",
      "[0, 3, 490, 539, 545, 792, 805, 1085, 2041]\n"
     ]
    }
   ],
   "source": [
    "print(get_index_of_array_that_contain_1_in_any_position(list(fp1)))\n",
    "print(get_index_of_array_that_contain_1_in_any_position(list(fp2)))\n",
    "print(get_index_of_array_that_contain_1_in_any_position(list(fp3)))\n",
    "print(get_index_of_array_that_contain_1_in_any_position(list(fp4)))"
   ]
  },
  {
   "cell_type": "code",
   "execution_count": 77,
   "id": "30a318b9-1250-465b-8561-73b909fa4deb",
   "metadata": {
    "execution": {
     "iopub.execute_input": "2023-09-19T14:04:19.763870Z",
     "iopub.status.busy": "2023-09-19T14:04:19.763870Z",
     "iopub.status.idle": "2023-09-19T14:04:19.849560Z",
     "shell.execute_reply": "2023-09-19T14:04:19.849560Z",
     "shell.execute_reply.started": "2023-09-19T14:04:19.763870Z"
    },
    "tags": []
   },
   "outputs": [
    {
     "data": {
      "application/vnd.jupyter.widget-view+json": {
       "model_id": "1a37d8a4852d4bfd932ee57d30472fc5",
       "version_major": 2,
       "version_minor": 0
      },
      "text/plain": [
       "interactive(children=(Dropdown(description='bitIdx', options=(0, 3, 1230), value=0), Output()), _dom_classes=(…"
      ]
     },
     "metadata": {},
     "output_type": "display_data"
    },
    {
     "data": {
      "application/vnd.jupyter.widget-view+json": {
       "model_id": "3bf3a41fb6624fbd85ab26c47ef08120",
       "version_major": 2,
       "version_minor": 0
      },
      "text/plain": [
       "interactive(children=(Dropdown(description='bitIdx', options=(0, 3, 805, 1085, 2041), value=0), Output()), _do…"
      ]
     },
     "metadata": {},
     "output_type": "display_data"
    },
    {
     "data": {
      "application/vnd.jupyter.widget-view+json": {
       "model_id": "789e697cefe847cd9aef78e4f6cc6ca6",
       "version_major": 2,
       "version_minor": 0
      },
      "text/plain": [
       "interactive(children=(Dropdown(description='bitIdx', options=(0, 3, 490, 792, 805, 1085, 2041), value=0), Outp…"
      ]
     },
     "metadata": {},
     "output_type": "display_data"
    },
    {
     "data": {
      "application/vnd.jupyter.widget-view+json": {
       "model_id": "0cb4403e864d4d1aaedd1cded5ded06e",
       "version_major": 2,
       "version_minor": 0
      },
      "text/plain": [
       "interactive(children=(Dropdown(description='bitIdx', options=(0, 3, 490, 539, 545, 792, 805, 1085, 2041), valu…"
      ]
     },
     "metadata": {},
     "output_type": "display_data"
    }
   ],
   "source": [
    "interact(renderFpBit, bitIdx=list(bit_info1.keys()),mol=fixed(mol1),\n",
    "         bitInfo=fixed(bit_info1),fn=fixed(Draw.DrawMorganBit));\n",
    "interact(renderFpBit, bitIdx=list(bit_info2.keys()),mol=fixed(mol2),\n",
    "         bitInfo=fixed(bit_info2),fn=fixed(Draw.DrawMorganBit));\n",
    "interact(renderFpBit, bitIdx=list(bit_info3.keys()),mol=fixed(mol3),\n",
    "         bitInfo=fixed(bit_info3),fn=fixed(Draw.DrawMorganBit));\n",
    "interact(renderFpBit, bitIdx=list(bit_info4.keys()),mol=fixed(mol4),\n",
    "         bitInfo=fixed(bit_info4),fn=fixed(Draw.DrawMorganBit));"
   ]
  },
  {
   "cell_type": "markdown",
   "id": "e31b6e96-b550-457b-8c30-6854fa8d20d0",
   "metadata": {
    "tags": []
   },
   "source": [
    "# Bit No.352 is *-CCC(C)O"
   ]
  },
  {
   "cell_type": "code",
   "execution_count": 90,
   "id": "ec998a4c-72fa-4e35-ae98-50de6d6627e8",
   "metadata": {
    "execution": {
     "iopub.execute_input": "2023-09-19T14:10:18.123952Z",
     "iopub.status.busy": "2023-09-19T14:10:18.123952Z",
     "iopub.status.idle": "2023-09-19T14:10:18.128282Z",
     "shell.execute_reply": "2023-09-19T14:10:18.128282Z",
     "shell.execute_reply.started": "2023-09-19T14:10:18.123952Z"
    },
    "tags": []
   },
   "outputs": [],
   "source": [
    "bit_info = {}\n",
    "mol = m1\n",
    "fp = GetHashedMorganFingerprint(mol, 3, bitInfo=bit_info, useFeatures=True)"
   ]
  },
  {
   "cell_type": "code",
   "execution_count": 91,
   "id": "572381f3-3955-4e26-a85b-a4f29efa6622",
   "metadata": {
    "execution": {
     "iopub.execute_input": "2023-09-19T14:10:18.417559Z",
     "iopub.status.busy": "2023-09-19T14:10:18.417559Z",
     "iopub.status.idle": "2023-09-19T14:10:18.423736Z",
     "shell.execute_reply": "2023-09-19T14:10:18.423736Z",
     "shell.execute_reply.started": "2023-09-19T14:10:18.417559Z"
    },
    "tags": []
   },
   "outputs": [
    {
     "name": "stdout",
     "output_type": "stream",
     "text": [
      "[0, 3, 352, 539, 792, 1085, 1587, 1687, 2041]\n"
     ]
    }
   ],
   "source": [
    "print(get_index_of_array_that_contain_1_in_any_position(list(fp)))"
   ]
  },
  {
   "cell_type": "code",
   "execution_count": 92,
   "id": "92b3d0c3-3a91-4b4e-a911-201d73f10f99",
   "metadata": {
    "execution": {
     "iopub.execute_input": "2023-09-19T14:10:18.754825Z",
     "iopub.status.busy": "2023-09-19T14:10:18.753828Z",
     "iopub.status.idle": "2023-09-19T14:10:18.758540Z",
     "shell.execute_reply": "2023-09-19T14:10:18.758540Z",
     "shell.execute_reply.started": "2023-09-19T14:10:18.754825Z"
    },
    "tags": []
   },
   "outputs": [],
   "source": [
    "# Select Bit\n",
    "atomidx, radius = bit_info[352][0]"
   ]
  },
  {
   "cell_type": "code",
   "execution_count": 94,
   "id": "54cd8d37-ffc6-4b1c-a093-5a6d5ffe83cc",
   "metadata": {
    "execution": {
     "iopub.execute_input": "2023-09-19T14:10:34.260635Z",
     "iopub.status.busy": "2023-09-19T14:10:34.260635Z",
     "iopub.status.idle": "2023-09-19T14:10:34.285998Z",
     "shell.execute_reply": "2023-09-19T14:10:34.285998Z",
     "shell.execute_reply.started": "2023-09-19T14:10:34.260635Z"
    },
    "tags": []
   },
   "outputs": [
    {
     "data": {
      "application/vnd.jupyter.widget-view+json": {
       "model_id": "66cc43698bee42eba4c0be67a2bec4b4",
       "version_major": 2,
       "version_minor": 0
      },
      "text/plain": [
       "interactive(children=(Dropdown(description='bitIdx', options=(0, 3, 352, 539, 792, 1085, 1587, 1687, 2041), va…"
      ]
     },
     "metadata": {},
     "output_type": "display_data"
    }
   ],
   "source": [
    "# Inspect Bit\n",
    "bit_info_mol = {}\n",
    "fp_mol = GetHashedMorganFingerprint(mol, 3, bitInfo=bit_info_mol, useFeatures=True)\n",
    "interact(renderFpBit, bitIdx=list(bit_info_mol.keys()),mol=fixed(mol),\n",
    "         bitInfo=fixed(bit_info_mol),fn=fixed(Draw.DrawMorganBit));"
   ]
  },
  {
   "cell_type": "code",
   "execution_count": 89,
   "id": "9a3e030d-771c-4a42-ac75-d4c2cc4fd86b",
   "metadata": {
    "execution": {
     "iopub.execute_input": "2023-09-19T14:08:07.537222Z",
     "iopub.status.busy": "2023-09-19T14:08:07.537222Z",
     "iopub.status.idle": "2023-09-19T14:08:07.550376Z",
     "shell.execute_reply": "2023-09-19T14:08:07.550376Z",
     "shell.execute_reply.started": "2023-09-19T14:08:07.537222Z"
    },
    "tags": []
   },
   "outputs": [
    {
     "name": "stdout",
     "output_type": "stream",
     "text": [
      "*-[#6]-[#6]-[#6](-[#6])-[#8]\n"
     ]
    }
   ],
   "source": [
    "env = Chem.FindAtomEnvironmentOfRadiusN(mol, radius, atomidx)\n",
    "\n",
    "atomsToUse = set((atomidx, ))\n",
    "for b in env:\n",
    "    atomsToUse.add(mol.GetBondWithIdx(b).GetBeginAtomIdx())\n",
    "    atomsToUse.add(mol.GetBondWithIdx(b).GetEndAtomIdx())\n",
    "\n",
    "enlargedEnv = set()\n",
    "for atom in atomsToUse:\n",
    "    a = mol.GetAtomWithIdx(atom)\n",
    "    for b in a.GetBonds():\n",
    "      bidx = b.GetIdx()\n",
    "      if bidx not in env:\n",
    "        enlargedEnv.add(bidx)\n",
    "\n",
    "enlargedEnv = list(enlargedEnv)\n",
    "enlargedEnv += env\n",
    "\n",
    "# find all relevant neighbors\n",
    "anyAtoms = []\n",
    "for a in atomsToUse:\n",
    "    neighbors = mol.GetAtomWithIdx(a).GetNeighbors()\n",
    "    for n in neighbors:\n",
    "        anyIdx = n.GetIdx()\n",
    "        if anyIdx not in atomsToUse:\n",
    "            anyAtoms.append(anyIdx)\n",
    "\n",
    "# replace atomic number to zero (there is no number for any atom)\n",
    "for aA in anyAtoms:\n",
    "    mol.GetAtomWithIdx(aA).SetAtomicNum(0)\n",
    "\n",
    "submol = Chem.PathToSubmol(mol, enlargedEnv)\n",
    "\n",
    "# change [0] to *\n",
    "MorganBitSmarts = Chem.MolToSmarts(submol).replace('[#0]', '*')\n",
    "print(MorganBitSmarts)"
   ]
  }
 ],
 "metadata": {
  "kernelspec": {
   "display_name": "Python 3 (ipykernel)",
   "language": "python",
   "name": "python3"
  },
  "language_info": {
   "codemirror_mode": {
    "name": "ipython",
    "version": 3
   },
   "file_extension": ".py",
   "mimetype": "text/x-python",
   "name": "python",
   "nbconvert_exporter": "python",
   "pygments_lexer": "ipython3",
   "version": "3.11.4"
  }
 },
 "nbformat": 4,
 "nbformat_minor": 5
}
