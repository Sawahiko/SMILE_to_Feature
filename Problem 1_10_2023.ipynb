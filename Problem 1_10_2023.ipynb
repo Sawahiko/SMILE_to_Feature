{
 "cells": [
  {
   "cell_type": "code",
   "execution_count": 1,
   "id": "62d29db6-a470-422b-b0b6-a26712de43c0",
   "metadata": {
    "id": "5QKaKQNzGN7T",
    "tags": []
   },
   "outputs": [],
   "source": [
    "# https://www.rdkit.org/\n",
    "import rdkit\n",
    "#https://github.com/rdkit/rdkit\n",
    "from rdkit.Chem import AllChem\n",
    "from rdkit import Chem\n",
    "from rdkit.Chem import Descriptors\n",
    "from rdkit.ML.Descriptors import MoleculeDescriptors\n",
    "# https://pandas.pydata.org\n",
    "import pandas as pd\n",
    "\n",
    "# https://numpy.org/doc/stable/release.html\n",
    "import numpy as np\n",
    "\n",
    "#https://github.com/mordred-descriptor/mordred\n",
    "#from mordred import Calculator, descriptors\n",
    "\n",
    "from rdkit.Chem import Draw\n",
    "from rdkit.Chem.Draw import rdMolDraw2D"
   ]
  },
  {
   "cell_type": "code",
   "execution_count": 2,
   "id": "4402e429-5703-4ce6-bfcb-94280b58dd14",
   "metadata": {
    "tags": []
   },
   "outputs": [],
   "source": [
    "import pandas as pd\n",
    "import numpy as np\n",
    "import seaborn as sn\n",
    "import matplotlib.pyplot as plt\n",
    "#---------------------- RDKit packages\n",
    "from rdkit.Chem import AllChem\n",
    "from rdkit.Chem import rdMolDescriptors\n",
    "from rdkit.Chem.Draw import IPythonConsole\n",
    "from rdkit.Chem import Draw\n",
    "from rdkit import DataStructs\n",
    "from rdkit.ML.Cluster import Butina\n",
    "#------------------- progress bar\n",
    "from tqdm import tqdm\n",
    "#------------------- hide warning\n",
    "import warnings\n",
    "warnings.filterwarnings('ignore')"
   ]
  },
  {
   "cell_type": "code",
   "execution_count": 3,
   "id": "b53f6c35-e00c-4086-b82b-3363106ffb15",
   "metadata": {
    "tags": []
   },
   "outputs": [],
   "source": [
    "from rdkit.Chem.Draw import IPythonConsole\n",
    "from ipywidgets import interact,fixed,IntSlider"
   ]
  },
  {
   "cell_type": "code",
   "execution_count": 4,
   "id": "b2286f95-defd-41c5-979a-511db0416200",
   "metadata": {
    "tags": []
   },
   "outputs": [],
   "source": [
    "def renderFpBit(mol,bitIdx,bitInfo,fn):\n",
    "    bid = bitIdx\n",
    "    return(display(fn(mol,bid,bitInfo)))\n",
    "def get_index_of_array_that_contain_1_in_any_position(list1):\n",
    "    result = []\n",
    "    for i, e in enumerate(list1):\n",
    "        if e > 0:\n",
    "            result.append(i)\n",
    "    return result"
   ]
  },
  {
   "cell_type": "code",
   "execution_count": 5,
   "id": "9d66e8e5-b6f8-452e-8897-b742c4905e05",
   "metadata": {
    "tags": []
   },
   "outputs": [],
   "source": [
    "name1 = \"CCC#C\"\n",
    "m1 = Chem.MolFromSmiles(name1)\n",
    "name2 = \"CC#CC\"\n",
    "m2 = Chem.MolFromSmiles(name2)"
   ]
  },
  {
   "cell_type": "code",
   "execution_count": null,
   "id": "4d051288-8fba-444d-8107-711cac6042b6",
   "metadata": {},
   "outputs": [],
   "source": []
  },
  {
   "cell_type": "markdown",
   "id": "d4c2f175-f4eb-47b8-aa27-10f598265c9b",
   "metadata": {
    "tags": []
   },
   "source": [
    "# Inspect Bit with Image"
   ]
  },
  {
   "cell_type": "code",
   "execution_count": 101,
   "id": "aa80ffb9-587c-44fb-9229-ee93a5af2a81",
   "metadata": {
    "tags": []
   },
   "outputs": [],
   "source": [
    "from rdkit import Chem\n",
    "from rdkit.Chem.rdMolDescriptors import GetHashedMorganFingerprint\n",
    "\n",
    "mol1 = Chem.MolFromSmiles('C=C')\n",
    "mol2 = Chem.MolFromSmiles('C#C')\n",
    "mol3 = Chem.MolFromSmiles('C=CC#C')\n",
    "mol4 = Chem.MolFromSmiles('CCCC')\n",
    "bit_info1 = {}\n",
    "bit_info2 = {}\n",
    "bit_info3 = {}\n",
    "fp1 = GetHashedMorganFingerprint(mol1, 3, bitInfo=bit_info1, useFeatures=True)\n",
    "fp2 = GetHashedMorganFingerprint(mol2, 3, bitInfo=bit_info2, useFeatures=True)\n",
    "fp3 = GetHashedMorganFingerprint(mol3, 3, bitInfo=bit_info3, useFeatures=True)\n",
    "#fp3 = GetHashedMorganFingerprint(mol3, 3, bitInfo=bit_info3, useFeatures=True)"
   ]
  },
  {
   "cell_type": "code",
   "execution_count": 87,
   "id": "098c30bd-fcd3-4eb7-b366-1a2977ed06aa",
   "metadata": {
    "tags": []
   },
   "outputs": [
    {
     "name": "stdout",
     "output_type": "stream",
     "text": [
      "[0, 1146]\n",
      "[0, 1346]\n",
      "[0, 482, 673, 857, 1146, 1346]\n"
     ]
    }
   ],
   "source": [
    "print(get_index_of_array_that_contain_1_in_any_position(list(fp1)))\n",
    "print(get_index_of_array_that_contain_1_in_any_position(list(fp2)))\n",
    "print(get_index_of_array_that_contain_1_in_any_position(list(fp3)))"
   ]
  },
  {
   "cell_type": "markdown",
   "id": "bc394f34-ee82-42d5-8f87-118599e55526",
   "metadata": {
    "tags": []
   },
   "source": [
    "# Inspect All Bit in Molecule"
   ]
  },
  {
   "cell_type": "code",
   "execution_count": 111,
   "id": "4852d96f-4c4b-4c14-bed7-a708bef2e7b9",
   "metadata": {
    "tags": []
   },
   "outputs": [],
   "source": [
    "# Inspect Bit\n",
    "mol = mol1\n",
    "bit_info_mol_1 = {}\n",
    "fp_mol = GetHashedMorganFingerprint(mol1, 3, bitInfo=bit_info_mol_1, useFeatures=True)\n",
    "all_fragments = [(mol1, x, bit_info_mol_1) for x in get_index_of_array_that_contain_1_in_any_position(list(fp_mol))]\n",
    "img1=Draw.DrawMorganBits(all_fragments[:], molsPerRow=6, legends=[str(x) for x in get_index_of_array_that_contain_1_in_any_position(list(fp_mol))][:])"
   ]
  },
  {
   "cell_type": "code",
   "execution_count": 112,
   "id": "73016c8a-9d06-4219-bfea-4df0cfc9abaf",
   "metadata": {},
   "outputs": [],
   "source": [
    "# Inspect Bit\n",
    "mol = mol2\n",
    "bit_info_mol_2 = {}\n",
    "fp_mol = GetHashedMorganFingerprint(mol2, 3, bitInfo=bit_info_mol_2, useFeatures=True)\n",
    "all_fragments = [(mol2, x, bit_info_mol_2) for x in get_index_of_array_that_contain_1_in_any_position(list(fp_mol))]\n",
    "img2=Draw.DrawMorganBits(all_fragments[:], molsPerRow=6, legends=[str(x) for x in get_index_of_array_that_contain_1_in_any_position(list(fp_mol))][:])"
   ]
  },
  {
   "cell_type": "code",
   "execution_count": 113,
   "id": "bb142b44-c849-4690-b1f0-0fe5594e47b9",
   "metadata": {
    "tags": []
   },
   "outputs": [],
   "source": [
    "# Inspect Bit\n",
    "mol = mol3\n",
    "bit_info_mol_3 = {}\n",
    "fp_mol = GetHashedMorganFingerprint(mol3, 3, bitInfo=bit_info_mol_3, useFeatures=True)\n",
    "all_fragments = [(mol3, x, bit_info_mol_3) for x in get_index_of_array_that_contain_1_in_any_position(list(fp_mol))]\n",
    "img3=Draw.DrawMorganBits(all_fragments[:], molsPerRow=6, legends=[str(x) for x in get_index_of_array_that_contain_1_in_any_position(list(fp_mol))][:])"
   ]
  },
  {
   "cell_type": "code",
   "execution_count": 114,
   "id": "1e75de48-b376-4591-97ce-86faaf33963b",
   "metadata": {
    "tags": []
   },
   "outputs": [],
   "source": [
    "# Inspect Bit\n",
    "mol = mol4\n",
    "bit_info_mol_4 = {}\n",
    "fp_mol = GetHashedMorganFingerprint(mol4, 3, bitInfo=bit_info_mol_4, useFeatures=True)\n",
    "all_fragments = [(mol4, x, bit_info_mol_4) for x in get_index_of_array_that_contain_1_in_any_position(list(fp_mol))]\n",
    "img4=Draw.DrawMorganBits(all_fragments[:], molsPerRow=6, legends=[str(x) for x in get_index_of_array_that_contain_1_in_any_position(list(fp_mol))][:])"
   ]
  },
  {
   "cell_type": "code",
   "execution_count": 128,
   "id": "eb1e796a-ca5e-4b7a-b5c5-caa7fbac3dc0",
   "metadata": {
    "tags": []
   },
   "outputs": [
    {
     "name": "stdout",
     "output_type": "stream",
     "text": [
      "      0  1\n",
      "0     0  2\n",
      "1  1146  1\n",
      "[(0, '[#6]=*'), (1146, '[#6]=*')]\n"
     ]
    },
    {
     "data": {
      "image/png": "[encoded data removed]",
      "text/plain": [
       "<PIL.PngImagePlugin.PngImageFile image mode=RGB size=900x150>"
      ]
     },
     "execution_count": 128,
     "metadata": {},
     "output_type": "execute_result"
    }
   ],
   "source": [
    "count_bit_info_mol=[]\n",
    "for i in bit_info_mol_1:\n",
    "    count_bit_info_mol.append([i, len(bit_info_mol_1[i])])\n",
    "print(pd.DataFrame(count_bit_info_mol))\n",
    "print(get_All_SMART_1_mol(mol1, 3, 2048))\n",
    "img1"
   ]
  },
  {
   "cell_type": "code",
   "execution_count": 129,
   "id": "3ef3c61e-c4e1-4340-8369-dc75b1cbca66",
   "metadata": {
    "tags": []
   },
   "outputs": [
    {
     "name": "stdout",
     "output_type": "stream",
     "text": [
      "      0  1\n",
      "0     0  2\n",
      "1  1346  1\n",
      "[(0, '[#6]#*'), (1346, '[#6]#*')]\n"
     ]
    },
    {
     "data": {
      "image/png": "[encoded data removed]",
      "text/plain": [
       "<PIL.PngImagePlugin.PngImageFile image mode=RGB size=900x150>"
      ]
     },
     "execution_count": 129,
     "metadata": {},
     "output_type": "execute_result"
    }
   ],
   "source": [
    "count_bit_info_mol=[]\n",
    "for i in bit_info_mol_2:\n",
    "    count_bit_info_mol.append([i, len(bit_info_mol_2[i])])\n",
    "print(pd.DataFrame(count_bit_info_mol))\n",
    "print(get_All_SMART_1_mol(mol2, 3, 2048))\n",
    "img2"
   ]
  },
  {
   "cell_type": "code",
   "execution_count": 130,
   "id": "fe79c199-5719-447b-8b96-78fad34682e9",
   "metadata": {
    "tags": []
   },
   "outputs": [
    {
     "name": "stdout",
     "output_type": "stream",
     "text": [
      "      0  1\n",
      "0     0  4\n",
      "1   482  1\n",
      "2   673  1\n",
      "3   857  1\n",
      "4  1146  1\n",
      "5  1346  1\n",
      "[(0, '[#6]=*'), (482, '[#6]=*-[#6]#[#6]'), (673, '*=*-[#6]#[#6]'), (857, '*=*-[#6]#*'), (1146, '*=*-*'), (1346, '*-*#*')]\n"
     ]
    },
    {
     "data": {
      "image/png": "[encoded data removed]",
      "text/plain": [
       "<PIL.PngImagePlugin.PngImageFile image mode=RGB size=900x150>"
      ]
     },
     "execution_count": 130,
     "metadata": {},
     "output_type": "execute_result"
    }
   ],
   "source": [
    "count_bit_info_mol=[]\n",
    "for i in bit_info_mol_3:\n",
    "    count_bit_info_mol.append([i, len(bit_info_mol_3[i])])\n",
    "print(pd.DataFrame(count_bit_info_mol))\n",
    "print(get_All_SMART_1_mol(mol3, 3, 2048))\n",
    "img3"
   ]
  },
  {
   "cell_type": "code",
   "execution_count": 131,
   "id": "b5886b8e-dac0-467d-9bbc-aa424e594b16",
   "metadata": {
    "tags": []
   },
   "outputs": [
    {
     "name": "stdout",
     "output_type": "stream",
     "text": [
      "      0  1\n",
      "0     0  4\n",
      "1   539  1\n",
      "2   792  2\n",
      "3  1085  2\n",
      "[(0, '[#6]-*'), (539, '[#6]-*-[#6]-[#6]'), (792, '[#6]-*-[#6]-*'), (1085, '[#6]-*-*')]\n"
     ]
    },
    {
     "data": {
      "image/png": "[encoded data removed]",
      "text/plain": [
       "<PIL.PngImagePlugin.PngImageFile image mode=RGB size=900x150>"
      ]
     },
     "execution_count": 131,
     "metadata": {},
     "output_type": "execute_result"
    }
   ],
   "source": [
    "count_bit_info_mol=[]\n",
    "for i in bit_info_mol_4:\n",
    "    count_bit_info_mol.append([i, len(bit_info_mol_4[i])])\n",
    "print(pd.DataFrame(count_bit_info_mol))\n",
    "print(get_All_SMART_1_mol(mol4, 3, 2048))\n",
    "img4"
   ]
  },
  {
   "cell_type": "code",
   "execution_count": null,
   "id": "0d8cbd4e-cac1-4456-9560-621af1a69a30",
   "metadata": {},
   "outputs": [],
   "source": []
  },
  {
   "cell_type": "code",
   "execution_count": null,
   "id": "d9d3ac76-3b26-4f37-8cb5-8cbe3d81e912",
   "metadata": {},
   "outputs": [],
   "source": []
  },
  {
   "cell_type": "markdown",
   "id": "161a65ec-b1bc-48bd-a35d-1b85b5a7abbc",
   "metadata": {
    "tags": []
   },
   "source": [
    "# Inspect All SMART(Bit) in Molecule"
   ]
  },
  {
   "cell_type": "code",
   "execution_count": 123,
   "id": "256cfc51-ce4b-4f66-8c45-340647269f6a",
   "metadata": {
    "tags": []
   },
   "outputs": [],
   "source": [
    "# RDKit\n",
    "import rdkit\n",
    "from rdkit.Chem import AllChem\n",
    "from rdkit import Chem\n",
    "from rdkit.Chem import Descriptors\n",
    "from rdkit.ML.Descriptors import MoleculeDescriptors\n",
    "from rdkit.Chem import Draw\n",
    "from rdkit.Chem.Draw import rdMolDraw2D\n",
    "from rdkit.Chem import rdMolDescriptors\n",
    "from rdkit.Chem.rdMolDescriptors import GetHashedMorganFingerprint\n",
    "\n",
    "from rdkit.Chem.Draw import IPythonConsole\n",
    "from rdkit import DataStructs\n",
    "from rdkit.ML.Cluster import Butina\n",
    "\n",
    "from tqdm import tqdm\n",
    "\n",
    "import warnings\n",
    "warnings.filterwarnings('ignore')\n",
    "#\n",
    "import pandas as pd\n",
    "import numpy as np\n",
    "import seaborn as sn\n",
    "import matplotlib.pyplot as plt\n",
    "from ipywidgets import interact,fixed,IntSlider\n",
    "\n",
    "def renderFpBit(mol,bitIdx,bitInfo,fn):\n",
    "    bid = bitIdx\n",
    "    return(display(fn(mol,bid,bitInfo)))\n",
    "def get_index_of_array_that_contain_1_in_any_position(list1):\n",
    "    result = []\n",
    "    for i, e in enumerate(list1):\n",
    "        if e > 0:\n",
    "            result.append(i)\n",
    "    return result\n",
    "def getSMART(mol, radius, atomidx):\n",
    "    env = Chem.FindAtomEnvironmentOfRadiusN(mol, radius, atomidx)\n",
    "    atomsToUse = set((atomidx, ))\n",
    "    for b in env:\n",
    "        atomsToUse.add(mol.GetBondWithIdx(b).GetBeginAtomIdx())\n",
    "        atomsToUse.add(mol.GetBondWithIdx(b).GetEndAtomIdx())\n",
    "    enlargedEnv = set()\n",
    "    for atom in atomsToUse:\n",
    "        a = mol.GetAtomWithIdx(atom)\n",
    "        for b in a.GetBonds():\n",
    "          bidx = b.GetIdx()\n",
    "          if bidx not in env:\n",
    "            enlargedEnv.add(bidx)\n",
    "    enlargedEnv = list(enlargedEnv)\n",
    "    enlargedEnv += env\n",
    "    # find all relevant neighbors\n",
    "    anyAtoms = []\n",
    "    for a in atomsToUse:\n",
    "        neighbors = mol.GetAtomWithIdx(a).GetNeighbors()\n",
    "        for n in neighbors:\n",
    "            anyIdx = n.GetIdx()\n",
    "            if anyIdx not in atomsToUse:\n",
    "                anyAtoms.append(anyIdx)\n",
    "    # replace atomic number to zero (there is no number for any atom)\n",
    "    for aA in anyAtoms:\n",
    "        mol.GetAtomWithIdx(aA).SetAtomicNum(0)\n",
    "    submol = Chem.PathToSubmol(mol, enlargedEnv)\n",
    "    # change [0] to *\n",
    "    MorganBitSmarts = Chem.MolToSmarts(submol).replace('[#0]', '*')\n",
    "    #print(MorganBitSmarts)\n",
    "    return MorganBitSmarts \n",
    "def get_All_SMART_1_mol(mol, radius,nBits):\n",
    "    bit_info = {}\n",
    "    fp = GetHashedMorganFingerprint(mol, 3, nBits=nBits, bitInfo=bit_info, useFeatures=True)\n",
    "\n",
    "    #print(get_index_of_array_that_contain_1_in_any_position(list(fp)))\n",
    "    #print(bit_info.keys())\n",
    "    string_SMARTS = []\n",
    "    for i,v in enumerate(bit_info.keys()):\n",
    "        #print(i)\n",
    "        #print(\"v=\",v)\n",
    "        atomidx, radius = bit_info[v][0]\n",
    "        string_SMART = getSMART(mol=mol, radius=radius, atomidx=atomidx)\n",
    "        #print(v, string_SMART)\n",
    "        string_SMARTS.append((v,string_SMART))\n",
    "    return string_SMARTS"
   ]
  },
  {
   "cell_type": "code",
   "execution_count": null,
   "id": "c4bff441-7e55-4ef3-b8af-58265061583a",
   "metadata": {},
   "outputs": [],
   "source": []
  }
 ],
 "metadata": {
  "kernelspec": {
   "display_name": "Python 3 (ipykernel)",
   "language": "python",
   "name": "python3"
  },
  "language_info": {
   "codemirror_mode": {
    "name": "ipython",
    "version": 3
   },
   "file_extension": ".py",
   "mimetype": "text/x-python",
   "name": "python",
   "nbconvert_exporter": "python",
   "pygments_lexer": "ipython3",
   "version": "3.11.4"
  }
 },
 "nbformat": 4,
 "nbformat_minor": 5
}
