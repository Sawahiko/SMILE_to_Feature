{
 "cells": [
  {
   "cell_type": "code",
   "execution_count": 32,
   "id": "851bebc6-470b-4dbe-8468-6dfc79c68d04",
   "metadata": {
    "tags": []
   },
   "outputs": [],
   "source": [
    "import numpy as np\n",
    "import pandas as pd\n",
    "from sklearn.linear_model import LinearRegression\n",
    "from sklearn.model_selection import train_test_split\n",
    "import matplotlib.pyplot as plt\n",
    "from sklearn.metrics import mean_absolute_percentage_error, mean_squared_error, r2_score\n",
    "\n",
    "from matplotlib import pyplot as plt\n",
    "import matplotlib.patches as mpatches\n",
    "import seaborn as sn\n",
    "\n",
    "from rdkit.Chem import Descriptors\n",
    "from rdkit.ML.Descriptors import MoleculeDescriptors\n",
    "from rdkit.Chem import rdMolDescriptors\n",
    "# https://www.rdkit.org/\n",
    "#https://github.com/rdkit/rdkit\n",
    "from rdkit.Chem import AllChem\n",
    "from rdkit import Chem\n",
    "from rdkit.Chem import Descriptors\n",
    "from rdkit.ML.Descriptors import MoleculeDescriptors\n",
    "\n",
    "# https://pandas.pydata.org\n",
    "import pandas as pd\n",
    "\n",
    "# https://numpy.org/doc/stable/release.html\n",
    "import numpy as np\n",
    "\n",
    "#https://github.com/mordred-descriptor/mordred\n",
    "from mordred import Calculator, descriptors\n",
    "\n",
    "\n"
   ]
  },
  {
   "cell_type": "code",
   "execution_count": null,
   "id": "21b8d155-9294-42da-a92d-f5f11eed2221",
   "metadata": {},
   "outputs": [],
   "source": [
    "########   Prepare Data     ########\n",
    "#Import Data\n",
    "df = pd.read_excel(\"DataTb.xlsx\",sheet_name=\"AllDataSet\")\n",
    "\n",
    "#Select feature for data\n",
    "X_data= df.drop(columns ={\"Name\",\"Tb\",\"CAS\",\"Type\",\"Formular\",\"Unnamed: 11\",\"Unnamed: 12\",\"Unnamed: 13\",\"Unnamed: 14\",\"C\",\"Double\", \"Triple\", \"Bracket\", \"Cyclic\"})\n",
    "Y_data= df[\"Tb\"]\n"
   ]
  },
  {
   "cell_type": "code",
   "execution_count": 33,
   "id": "808c117c-0509-4432-bcaa-302b37d435c3",
   "metadata": {
    "tags": []
   },
   "outputs": [],
   "source": [
    "X_data_use = X_data\n",
    "X_data_use[\"molecule\"] = X_data_use[\"SMILES\"].apply(lambda x: Chem.MolFromSmiles(x))\n",
    "X_data_use[\"morgan_fp\"] = X_data_use[\"molecule\"].apply(lambda x: rdMolDescriptors.GetMorganFingerprintAsBitVect(x, radius=4, nBits=250, useFeatures=True, useChirality=True))\n",
    "#X_data_use"
   ]
  },
  {
   "cell_type": "code",
   "execution_count": 34,
   "id": "48d6b440-a7ad-4e64-915d-709184c40809",
   "metadata": {
    "tags": []
   },
   "outputs": [],
   "source": [
    "#X_data\n",
    "X_data_fp = []\n",
    "for i in range(X_data_use.shape[0]):\n",
    "    array = np.array(X_data_use[\"morgan_fp\"][i])\n",
    "    datafram_i = pd.DataFrame(array)\n",
    "    datafram_i = datafram_i.T\n",
    "    X_data_fp.append(datafram_i)\n",
    "X_data_fp = pd.concat(X_data_fp, ignore_index=True)"
   ]
  },
  {
   "cell_type": "code",
   "execution_count": 1,
   "id": "7a8b64fc-0697-4f5b-baf9-934eef57d394",
   "metadata": {
    "tags": []
   },
   "outputs": [],
   "source": [
    "#X_data_fp\n",
    "#Y_data"
   ]
  },
  {
   "cell_type": "code",
   "execution_count": 31,
   "id": "2c7a9200-2581-4fdb-bd40-54324068110c",
   "metadata": {
    "tags": []
   },
   "outputs": [
    {
     "data": {
      "text/html": [
       "<style>#sk-container-id-3 {color: black;}#sk-container-id-3 pre{padding: 0;}#sk-container-id-3 div.sk-toggleable {background-color: white;}#sk-container-id-3 label.sk-toggleable__label {cursor: pointer;display: block;width: 100%;margin-bottom: 0;padding: 0.3em;box-sizing: border-box;text-align: center;}#sk-container-id-3 label.sk-toggleable__label-arrow:before {content: \"▸\";float: left;margin-right: 0.25em;color: #696969;}#sk-container-id-3 label.sk-toggleable__label-arrow:hover:before {color: black;}#sk-container-id-3 div.sk-estimator:hover label.sk-toggleable__label-arrow:before {color: black;}#sk-container-id-3 div.sk-toggleable__content {max-height: 0;max-width: 0;overflow: hidden;text-align: left;background-color: #f0f8ff;}#sk-container-id-3 div.sk-toggleable__content pre {margin: 0.2em;color: black;border-radius: 0.25em;background-color: #f0f8ff;}#sk-container-id-3 input.sk-toggleable__control:checked~div.sk-toggleable__content {max-height: 200px;max-width: 100%;overflow: auto;}#sk-container-id-3 input.sk-toggleable__control:checked~label.sk-toggleable__label-arrow:before {content: \"▾\";}#sk-container-id-3 div.sk-estimator input.sk-toggleable__control:checked~label.sk-toggleable__label {background-color: #d4ebff;}#sk-container-id-3 div.sk-label input.sk-toggleable__control:checked~label.sk-toggleable__label {background-color: #d4ebff;}#sk-container-id-3 input.sk-hidden--visually {border: 0;clip: rect(1px 1px 1px 1px);clip: rect(1px, 1px, 1px, 1px);height: 1px;margin: -1px;overflow: hidden;padding: 0;position: absolute;width: 1px;}#sk-container-id-3 div.sk-estimator {font-family: monospace;background-color: #f0f8ff;border: 1px dotted black;border-radius: 0.25em;box-sizing: border-box;margin-bottom: 0.5em;}#sk-container-id-3 div.sk-estimator:hover {background-color: #d4ebff;}#sk-container-id-3 div.sk-parallel-item::after {content: \"\";width: 100%;border-bottom: 1px solid gray;flex-grow: 1;}#sk-container-id-3 div.sk-label:hover label.sk-toggleable__label {background-color: #d4ebff;}#sk-container-id-3 div.sk-serial::before {content: \"\";position: absolute;border-left: 1px solid gray;box-sizing: border-box;top: 0;bottom: 0;left: 50%;z-index: 0;}#sk-container-id-3 div.sk-serial {display: flex;flex-direction: column;align-items: center;background-color: white;padding-right: 0.2em;padding-left: 0.2em;position: relative;}#sk-container-id-3 div.sk-item {position: relative;z-index: 1;}#sk-container-id-3 div.sk-parallel {display: flex;align-items: stretch;justify-content: center;background-color: white;position: relative;}#sk-container-id-3 div.sk-item::before, #sk-container-id-3 div.sk-parallel-item::before {content: \"\";position: absolute;border-left: 1px solid gray;box-sizing: border-box;top: 0;bottom: 0;left: 50%;z-index: -1;}#sk-container-id-3 div.sk-parallel-item {display: flex;flex-direction: column;z-index: 1;position: relative;background-color: white;}#sk-container-id-3 div.sk-parallel-item:first-child::after {align-self: flex-end;width: 50%;}#sk-container-id-3 div.sk-parallel-item:last-child::after {align-self: flex-start;width: 50%;}#sk-container-id-3 div.sk-parallel-item:only-child::after {width: 0;}#sk-container-id-3 div.sk-dashed-wrapped {border: 1px dashed gray;margin: 0 0.4em 0.5em 0.4em;box-sizing: border-box;padding-bottom: 0.4em;background-color: white;}#sk-container-id-3 div.sk-label label {font-family: monospace;font-weight: bold;display: inline-block;line-height: 1.2em;}#sk-container-id-3 div.sk-label-container {text-align: center;}#sk-container-id-3 div.sk-container {/* jupyter's `normalize.less` sets `[hidden] { display: none; }` but bootstrap.min.css set `[hidden] { display: none !important; }` so we also need the `!important` here to be able to override the default hidden behavior on the sphinx rendered scikit-learn.org. See: https://github.com/scikit-learn/scikit-learn/issues/21755 */display: inline-block !important;position: relative;}#sk-container-id-3 div.sk-text-repr-fallback {display: none;}</style><div id=\"sk-container-id-3\" class=\"sk-top-container\"><div class=\"sk-text-repr-fallback\"><pre>LinearRegression()</pre><b>In a Jupyter environment, please rerun this cell to show the HTML representation or trust the notebook. <br />On GitHub, the HTML representation is unable to render, please try loading this page with nbviewer.org.</b></div><div class=\"sk-container\" hidden><div class=\"sk-item\"><div class=\"sk-estimator sk-toggleable\"><input class=\"sk-toggleable__control sk-hidden--visually\" id=\"sk-estimator-id-3\" type=\"checkbox\" checked><label for=\"sk-estimator-id-3\" class=\"sk-toggleable__label sk-toggleable__label-arrow\">LinearRegression</label><div class=\"sk-toggleable__content\"><pre>LinearRegression()</pre></div></div></div></div></div>"
      ],
      "text/plain": [
       "LinearRegression()"
      ]
     },
     "execution_count": 31,
     "metadata": {},
     "output_type": "execute_result"
    }
   ],
   "source": [
    "# %%\n",
    "X_train, X_test, y_train, y_test = train_test_split(X_data_fp, Y_data,test_size=0.3,random_state=42)\n",
    "########   Model  ########\n",
    "Linear = LinearRegression()\n",
    "Linear.fit(X_train, y_train)"
   ]
  },
  {
   "cell_type": "code",
   "execution_count": 26,
   "id": "ccb1a070-df9b-47c3-b43c-908dfd7ed888",
   "metadata": {
    "tags": []
   },
   "outputs": [],
   "source": [
    "\n",
    "# %%\n",
    "# Train set\n",
    "y_predict_train = Linear.predict(X_train)\n",
    "#from sklearn.metrics import mean_absolute_percentage_error, mean_squared_error, r2_score\n",
    "mape_train = mean_absolute_percentage_error(y_train, y_predict_train)\n",
    "rmse_train = np.sqrt(mean_squared_error(y_train, y_predict_train))\n",
    "R2_train = r2_score(y_train, y_predict_train)\n",
    "\n",
    "# Test set\n",
    "y_predict_test = Linear.predict(X_test)\n",
    "mape_test = mean_absolute_percentage_error(y_test, y_predict_test)\n",
    "rmse_test = np.sqrt(mean_squared_error(y_test, y_predict_test))\n",
    "R2_test = r2_score(y_test, y_predict_test)\n",
    "\n",
    "# Total set\n",
    "y_predict_total = Linear.predict(X_data_fp)\n",
    "mape_total = mean_absolute_percentage_error(Y_data, y_predict_total)\n",
    "rmse_total = np.sqrt(mean_squared_error(Y_data, y_predict_total))\n",
    "R2_total = r2_score(Y_data, y_predict_total)\n"
   ]
  },
  {
   "cell_type": "code",
   "execution_count": 28,
   "id": "fd7fde0d-748f-44f2-a04e-d8a92b6cd855",
   "metadata": {
    "tags": []
   },
   "outputs": [],
   "source": [
    "# Table Score\n",
    "Morgan_fp__ML_MLR = pd.DataFrame()\n",
    "data = {\n",
    "        \"MAPE\":[mape_train, mape_test, mape_total],\n",
    "        \"RMSE\":[rmse_train, rmse_test, rmse_total],\n",
    "        \"R2\"  :[R2_train, R2_test, R2_total]\n",
    "    }\n",
    "Morgan_fp__ML_MLR = pd.DataFrame(data)\n",
    "Morgan_fp__ML_MLR.to_csv('Morgan_fp ML-MLR.csv', index=False)"
   ]
  },
  {
   "cell_type": "code",
   "execution_count": 25,
   "id": "e2594389-498d-48d2-81e4-7fe5f12b7e7e",
   "metadata": {
    "tags": []
   },
   "outputs": [
    {
     "data": {
      "image/png": "[encoded data removed]",
      "text/plain": [
       "<Figure size 640x480 with 1 Axes>"
      ]
     },
     "metadata": {},
     "output_type": "display_data"
    }
   ],
   "source": [
    "# Plot\n",
    "# %%\n",
    "p1=sn.regplot(x=y_predict_test, y=y_test,line_kws={\"lw\":2,'ls':'--','color':'black',\"alpha\":0.7})\n",
    "plt.xlabel('Predicted Tb', color='blue')\n",
    "plt.ylabel('Observed Tb', color ='blue')\n",
    "plt.title(\"Test set\", color='red')\n",
    "plt.grid(alpha=0.2)\n",
    "#R2 = mpatches.Patch(label=\"R2={:04.2f}\".format(R2))\n",
    "#MAE = mpatches.Patch(label=\"MAE={:04.2f}\".format(MAE))\n",
    "#plt.legend(handles=[R2, MAE])\n"
   ]
  },
  {
   "cell_type": "code",
   "execution_count": null,
   "id": "6345938c-b9c4-41a4-9c78-4f4c099a8920",
   "metadata": {},
   "outputs": [],
   "source": [
    "\n",
    "# %%\n",
    "y_predict_train = Linear.predict(X_train)\n",
    "p2=sn.regplot(x=y_predict_train, y=y_train,line_kws={\"lw\":2,'ls':'--','color':'black',\"alpha\":0.7})\n",
    "plt.xlabel('Predicted Tb', color='blue')\n",
    "plt.ylabel('Observed Tb', color ='blue')\n",
    "plt.title(\"Train set\", color='red')\n",
    "plt.grid(alpha=0.2)\n",
    "#R2 = mpatches.Patch(label=\"R2={:04.2f}\".format(R2))\n",
    "#MAE = mpatches.Patch(label=\"MAE={:04.2f}\".format(MAE))\n",
    "#plt.legend(handles=[R2, MAE])\n"
   ]
  },
  {
   "cell_type": "code",
   "execution_count": null,
   "id": "3d90648a-e495-4d5e-aae0-7fe6bbb1a646",
   "metadata": {
    "tags": []
   },
   "outputs": [],
   "source": [
    "\n",
    "# %%\n",
    "\n",
    "#SMILE_TEST = \"c1cccc1\"\n",
    "\n",
    "data = {\n",
    "  \"SMILE\": [\"CCCC(C)O\", \"CCC(CC)O\"],\n",
    "  \"TB\" : [273.15+119.3, 273.15+116]\n",
    "}\n",
    "TEST_X = pd.DataFrame(data)\n",
    "\n",
    "#test = TEST_X[\"SMILE\"]\n",
    "#test = df2['SMILES']\n",
    "\n",
    "Mol_descriptors,desc_names = RDkit_descriptors(TEST_X[\"SMILE\"])\n",
    "TEST_X_with_200_descriptors = pd.DataFrame(Mol_descriptors,columns=desc_names)\n",
    "\n",
    "TEST_y_predict = Linear.predict(TEST_X_with_200_descriptors)\n",
    "\n",
    "y_predict_table = pd.DataFrame()\n",
    "y_predict_table[\"Tb_actual\"] = TEST_X[\"TB\"]\n",
    "y_predict_table[\"Tb_predict\"] = TEST_y_predict\n",
    "\n",
    "# %%\n",
    "m = Chem.MolFromSmiles('CCCCC')\n",
    "from rdkit.Chem import Draw\n",
    "img = Draw.MolToFile(m,'pic2.png')\n",
    "\n",
    "# %%\n",
    "from rdkit.Chem import PandasTools\n",
    "df4 = df2\n",
    "PandasTools.AddMoleculeColumnToFrame(df4,'SMILES', 'Structure')\n",
    "\n",
    "\n",
    "# %%\n",
    "test = TEST_X_with_200_descriptors.diff()[1:]\n",
    "#zero_mask = test.eq(0)\n",
    "zero_mask2=test.drop(columns=zero_mask.columns[(zero_mask == True).any()])\n",
    "\n",
    "# %%\n",
    "#df_with_200_descriptors[\"SMILE\"] = df[\"SMILES\"]\n",
    "#TEST_X_with_200_descriptors.to_csv('output.csv', index=False)\n",
    "zero_mask2.to_csv('output.csv', index=False)\n",
    "\n",
    "# %%\n",
    "m = Chem.MolFromSmiles(\"CCCC(C)O\")\n",
    "calc = MoleculeDescriptors.MolecularDescriptorCalculator([x[0] for x in Descriptors._descList])\n",
    "desc_names = calc.GetDescriptorNames()\n",
    "\n",
    "# %%\n",
    "\n",
    "#SMILE_TEST = \"c1cccc1\"\n",
    "\n",
    "data = {\n",
    "  \"SMILE\": [\"CCCC(C=O)O\", \"CCC(CC)O\"],\n",
    "  \"TB\" : [273.15+119.3, 273.15+116]\n",
    "}\n",
    "TEST_X = pd.DataFrame(data)\n",
    "\n",
    "#test = TEST_X[\"SMILE\"]\n",
    "#test = df2['SMILES']\n",
    "\n",
    "Mol_descriptors,desc_names = RDkit_descriptors(TEST_X[\"SMILE\"])\n",
    "TEST_X_with_200_descriptors = pd.DataFrame(Mol_descriptors,columns=desc_names)\n",
    "\n",
    "TEST_y_predict = Linear.predict(TEST_X_with_200_descriptors)\n",
    "\n",
    "y_predict_table = pd.DataFrame()\n",
    "y_predict_table[\"Tb_actual\"] = TEST_X[\"TB\"]\n",
    "y_predict_table[\"Tb_predict\"] = TEST_y_predict\n"
   ]
  },
  {
   "cell_type": "code",
   "execution_count": null,
   "id": "64a694dd-0521-4210-a4c4-b78b3764ab55",
   "metadata": {},
   "outputs": [],
   "source": []
  }
 ],
 "metadata": {
  "kernelspec": {
   "display_name": "Python 3 (ipykernel)",
   "language": "python",
   "name": "python3"
  },
  "language_info": {
   "codemirror_mode": {
    "name": "ipython",
    "version": 3
   },
   "file_extension": ".py",
   "mimetype": "text/x-python",
   "name": "python",
   "nbconvert_exporter": "python",
   "pygments_lexer": "ipython3",
   "version": "3.11.4"
  }
 },
 "nbformat": 4,
 "nbformat_minor": 5
}
