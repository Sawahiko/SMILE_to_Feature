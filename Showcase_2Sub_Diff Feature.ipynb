{
 "cells": [
  {
   "cell_type": "code",
   "execution_count": 6,
   "id": "9912ab0f-e8c2-44c1-b0a2-eb02319a2a6f",
   "metadata": {
    "execution": {
     "iopub.execute_input": "2023-09-13T02:47:50.835315Z",
     "iopub.status.busy": "2023-09-13T02:47:50.834316Z",
     "iopub.status.idle": "2023-09-13T02:47:50.839442Z",
     "shell.execute_reply": "2023-09-13T02:47:50.839442Z",
     "shell.execute_reply.started": "2023-09-13T02:47:50.835315Z"
    },
    "scrolled": true,
    "tags": []
   },
   "outputs": [],
   "source": [
    "#pip install rdkit pandas numpy seaborn sklearn"
   ]
  },
  {
   "cell_type": "code",
   "execution_count": 7,
   "id": "e69a6d8d-6960-4465-a1e8-50f6b4b00d3d",
   "metadata": {
    "execution": {
     "iopub.execute_input": "2023-09-13T02:47:50.842435Z",
     "iopub.status.busy": "2023-09-13T02:47:50.841435Z",
     "iopub.status.idle": "2023-09-13T02:47:50.955968Z",
     "shell.execute_reply": "2023-09-13T02:47:50.954967Z",
     "shell.execute_reply.started": "2023-09-13T02:47:50.842435Z"
    },
    "id": "5QKaKQNzGN7T",
    "tags": []
   },
   "outputs": [],
   "source": [
    "# https://www.rdkit.org/\n",
    "#https://github.com/rdkit/rdkit\n",
    "from rdkit.Chem import AllChem\n",
    "from rdkit import Chem\n",
    "from rdkit.Chem import Descriptors\n",
    "from rdkit.ML.Descriptors import MoleculeDescriptors\n",
    "# https://pandas.pydata.org\n",
    "import pandas as pd\n",
    "\n",
    "# https://numpy.org/doc/stable/release.html\n",
    "import numpy as np\n",
    "\n",
    "#https://github.com/mordred-descriptor/mordred\n",
    "#from mordred import Calculator, descriptors\n",
    "\n",
    "from rdkit.Chem import Draw\n",
    "from rdkit.Chem.Draw import rdMolDraw2D"
   ]
  },
  {
   "cell_type": "code",
   "execution_count": 8,
   "id": "2ab040d5-1d44-42d8-8cad-2ea13a4d3307",
   "metadata": {
    "execution": {
     "iopub.execute_input": "2023-09-13T02:47:50.956969Z",
     "iopub.status.busy": "2023-09-13T02:47:50.956969Z",
     "iopub.status.idle": "2023-09-13T02:47:56.272703Z",
     "shell.execute_reply": "2023-09-13T02:47:56.272703Z",
     "shell.execute_reply.started": "2023-09-13T02:47:50.956969Z"
    }
   },
   "outputs": [],
   "source": [
    "import pandas as pd\n",
    "import numpy as np\n",
    "import seaborn as sn\n",
    "import matplotlib.pyplot as plt\n",
    "#---------------------- RDKit packages\n",
    "from rdkit.Chem import AllChem\n",
    "from rdkit.Chem import rdMolDescriptors\n",
    "from rdkit.Chem.Draw import IPythonConsole\n",
    "from rdkit.Chem import Draw\n",
    "from rdkit import DataStructs\n",
    "from rdkit.ML.Cluster import Butina\n",
    "#------------------- progress bar\n",
    "from tqdm import tqdm\n",
    "#------------------- hide warning\n",
    "import warnings\n",
    "warnings.filterwarnings('ignore')"
   ]
  },
  {
   "cell_type": "code",
   "execution_count": 9,
   "id": "b6e98b07-1bea-4456-8d46-1747fa940ac8",
   "metadata": {
    "execution": {
     "iopub.execute_input": "2023-09-13T02:47:56.275693Z",
     "iopub.status.busy": "2023-09-13T02:47:56.274693Z",
     "iopub.status.idle": "2023-09-13T02:47:56.283785Z",
     "shell.execute_reply": "2023-09-13T02:47:56.282797Z",
     "shell.execute_reply.started": "2023-09-13T02:47:56.275693Z"
    },
    "tags": []
   },
   "outputs": [],
   "source": [
    "from rdkit.Chem.Draw import IPythonConsole\n",
    "from ipywidgets import interact,fixed,IntSlider\n",
    "def renderFpBit(mol,bitIdx,bitInfo,fn):\n",
    "    bid = bitIdx\n",
    "    return(display(fn(mol,bid,bitInfo), mol))"
   ]
  },
  {
   "cell_type": "markdown",
   "id": "4f8582a2-4b43-4f08-8bd1-a0d433b48cc0",
   "metadata": {
    "jp-MarkdownHeadingCollapsed": true,
    "tags": []
   },
   "source": [
    "# 200+ Feature isomer"
   ]
  },
  {
   "cell_type": "code",
   "execution_count": 10,
   "id": "9101f8a8-5ebe-4b0c-9781-2445cb49d333",
   "metadata": {
    "execution": {
     "iopub.execute_input": "2023-09-13T02:47:56.285786Z",
     "iopub.status.busy": "2023-09-13T02:47:56.284784Z",
     "iopub.status.idle": "2023-09-13T02:47:56.465446Z",
     "shell.execute_reply": "2023-09-13T02:47:56.465446Z",
     "shell.execute_reply.started": "2023-09-13T02:47:56.285786Z"
    },
    "tags": []
   },
   "outputs": [],
   "source": [
    "\n",
    "def RDkit_descriptors(smiles):\n",
    "    mols = [Chem.MolFromSmiles(i) for i in smiles] \n",
    "    calc = MoleculeDescriptors.MolecularDescriptorCalculator([x[0] for x in Descriptors._descList])\n",
    "    desc_names = calc.GetDescriptorNames()\n",
    "    \n",
    "    Mol_descriptors =[]\n",
    "    for mol in mols:\n",
    "        # add hydrogens to molecules\n",
    "        mol=Chem.AddHs(mol)\n",
    "        # Calculate all 200 descriptors for each molecule\n",
    "        descriptors = calc.CalcDescriptors(mol)\n",
    "        Mol_descriptors.append(descriptors)\n",
    "    return Mol_descriptors,desc_names "
   ]
  },
  {
   "cell_type": "code",
   "execution_count": 11,
   "id": "19c0e3dd-66e4-4692-83f3-a3919cd44cb7",
   "metadata": {
    "execution": {
     "iopub.execute_input": "2023-09-13T02:47:56.467435Z",
     "iopub.status.busy": "2023-09-13T02:47:56.467435Z",
     "iopub.status.idle": "2023-09-13T02:47:56.865145Z",
     "shell.execute_reply": "2023-09-13T02:47:56.865145Z",
     "shell.execute_reply.started": "2023-09-13T02:47:56.467435Z"
    },
    "tags": []
   },
   "outputs": [
    {
     "data": {
      "image/png": "[encoded data removed]",
      "text/plain": [
       "<PIL.PngImagePlugin.PngImageFile image mode=RGB size=300x300>"
      ]
     },
     "execution_count": 11,
     "metadata": {},
     "output_type": "execute_result"
    }
   ],
   "source": [
    "name1 = \"CCCC(C)O\"\n",
    "m1 = Chem.MolFromSmiles(name1)\n",
    "img1 = Draw.MolToImage(m1)\n",
    "img1"
   ]
  },
  {
   "cell_type": "code",
   "execution_count": 12,
   "id": "91a60e2c-00f5-4fba-8e16-b64d1ececb60",
   "metadata": {
    "execution": {
     "iopub.execute_input": "2023-09-13T02:47:56.867139Z",
     "iopub.status.busy": "2023-09-13T02:47:56.867139Z",
     "iopub.status.idle": "2023-09-13T02:47:56.889284Z",
     "shell.execute_reply": "2023-09-13T02:47:56.888294Z",
     "shell.execute_reply.started": "2023-09-13T02:47:56.867139Z"
    },
    "tags": []
   },
   "outputs": [
    {
     "data": {
      "image/png": "[encoded data removed]",
      "text/plain": [
       "<PIL.PngImagePlugin.PngImageFile image mode=RGB size=300x300>"
      ]
     },
     "execution_count": 12,
     "metadata": {},
     "output_type": "execute_result"
    }
   ],
   "source": [
    "name2 = \"CCC(CC)O\"\n",
    "m2 = Chem.MolFromSmiles(name2)\n",
    "img2 = Draw.MolToImage(m2)\n",
    "img2"
   ]
  },
  {
   "cell_type": "code",
   "execution_count": 13,
   "id": "fa430a0c-d9a2-4e44-87af-49854819bdae",
   "metadata": {
    "execution": {
     "iopub.execute_input": "2023-09-13T02:47:56.890287Z",
     "iopub.status.busy": "2023-09-13T02:47:56.890287Z",
     "iopub.status.idle": "2023-09-13T02:47:57.466588Z",
     "shell.execute_reply": "2023-09-13T02:47:57.466588Z",
     "shell.execute_reply.started": "2023-09-13T02:47:56.890287Z"
    },
    "tags": []
   },
   "outputs": [
    {
     "data": {
      "text/html": [
       "<div>\n",
       "<style scoped>\n",
       "    .dataframe tbody tr th:only-of-type {\n",
       "        vertical-align: middle;\n",
       "    }\n",
       "\n",
       "    .dataframe tbody tr th {\n",
       "        vertical-align: top;\n",
       "    }\n",
       "\n",
       "    .dataframe thead th {\n",
       "        text-align: right;\n",
       "    }\n",
       "</style>\n",
       "<table border=\"1\" class=\"dataframe\">\n",
       "  <thead>\n",
       "    <tr style=\"text-align: right;\">\n",
       "      <th></th>\n",
       "      <th>SMILE</th>\n",
       "    </tr>\n",
       "  </thead>\n",
       "  <tbody>\n",
       "    <tr>\n",
       "      <th>0</th>\n",
       "      <td>CCCC(C)O</td>\n",
       "    </tr>\n",
       "    <tr>\n",
       "      <th>1</th>\n",
       "      <td>CCC(CC)O</td>\n",
       "    </tr>\n",
       "  </tbody>\n",
       "</table>\n",
       "</div>"
      ],
      "text/plain": [
       "      SMILE\n",
       "0  CCCC(C)O\n",
       "1  CCC(CC)O"
      ]
     },
     "execution_count": 13,
     "metadata": {},
     "output_type": "execute_result"
    }
   ],
   "source": [
    "data = {\n",
    "  \"SMILE\": [name1, name2]\n",
    "}\n",
    "TEST_X = pd.DataFrame(data)\n",
    "TEST_X"
   ]
  },
  {
   "cell_type": "code",
   "execution_count": 14,
   "id": "45d48e10-6c88-4f97-ad6f-ba5bf1e940f7",
   "metadata": {
    "execution": {
     "iopub.execute_input": "2023-09-13T02:47:57.468577Z",
     "iopub.status.busy": "2023-09-13T02:47:57.468577Z",
     "iopub.status.idle": "2023-09-13T02:47:58.688074Z",
     "shell.execute_reply": "2023-09-13T02:47:58.688074Z",
     "shell.execute_reply.started": "2023-09-13T02:47:57.468577Z"
    },
    "tags": []
   },
   "outputs": [
    {
     "data": {
      "text/html": [
       "<div>\n",
       "<style scoped>\n",
       "    .dataframe tbody tr th:only-of-type {\n",
       "        vertical-align: middle;\n",
       "    }\n",
       "\n",
       "    .dataframe tbody tr th {\n",
       "        vertical-align: top;\n",
       "    }\n",
       "\n",
       "    .dataframe thead th {\n",
       "        text-align: right;\n",
       "    }\n",
       "</style>\n",
       "<table border=\"1\" class=\"dataframe\">\n",
       "  <thead>\n",
       "    <tr style=\"text-align: right;\">\n",
       "      <th></th>\n",
       "      <th>MaxAbsEStateIndex</th>\n",
       "      <th>MaxEStateIndex</th>\n",
       "      <th>MinAbsEStateIndex</th>\n",
       "      <th>MinEStateIndex</th>\n",
       "      <th>qed</th>\n",
       "      <th>MolWt</th>\n",
       "      <th>HeavyAtomMolWt</th>\n",
       "      <th>ExactMolWt</th>\n",
       "      <th>NumValenceElectrons</th>\n",
       "      <th>NumRadicalElectrons</th>\n",
       "      <th>...</th>\n",
       "      <th>fr_sulfide</th>\n",
       "      <th>fr_sulfonamd</th>\n",
       "      <th>fr_sulfone</th>\n",
       "      <th>fr_term_acetylene</th>\n",
       "      <th>fr_tetrazole</th>\n",
       "      <th>fr_thiazole</th>\n",
       "      <th>fr_thiocyan</th>\n",
       "      <th>fr_thiophene</th>\n",
       "      <th>fr_unbrch_alkane</th>\n",
       "      <th>fr_urea</th>\n",
       "    </tr>\n",
       "  </thead>\n",
       "  <tbody>\n",
       "    <tr>\n",
       "      <th>0</th>\n",
       "      <td>7.333333</td>\n",
       "      <td>7.333333</td>\n",
       "      <td>3.521250</td>\n",
       "      <td>-3.765625</td>\n",
       "      <td>0.536832</td>\n",
       "      <td>88.15</td>\n",
       "      <td>76.054</td>\n",
       "      <td>88.088815</td>\n",
       "      <td>38</td>\n",
       "      <td>0</td>\n",
       "      <td>...</td>\n",
       "      <td>0</td>\n",
       "      <td>0</td>\n",
       "      <td>0</td>\n",
       "      <td>0</td>\n",
       "      <td>0</td>\n",
       "      <td>0</td>\n",
       "      <td>0</td>\n",
       "      <td>0</td>\n",
       "      <td>0</td>\n",
       "      <td>0</td>\n",
       "    </tr>\n",
       "    <tr>\n",
       "      <th>1</th>\n",
       "      <td>7.406250</td>\n",
       "      <td>7.406250</td>\n",
       "      <td>3.533333</td>\n",
       "      <td>-3.739583</td>\n",
       "      <td>0.536832</td>\n",
       "      <td>88.15</td>\n",
       "      <td>76.054</td>\n",
       "      <td>88.088815</td>\n",
       "      <td>38</td>\n",
       "      <td>0</td>\n",
       "      <td>...</td>\n",
       "      <td>0</td>\n",
       "      <td>0</td>\n",
       "      <td>0</td>\n",
       "      <td>0</td>\n",
       "      <td>0</td>\n",
       "      <td>0</td>\n",
       "      <td>0</td>\n",
       "      <td>0</td>\n",
       "      <td>0</td>\n",
       "      <td>0</td>\n",
       "    </tr>\n",
       "  </tbody>\n",
       "</table>\n",
       "<p>2 rows × 209 columns</p>\n",
       "</div>"
      ],
      "text/plain": [
       "   MaxAbsEStateIndex  MaxEStateIndex  MinAbsEStateIndex  MinEStateIndex  \\\n",
       "0           7.333333        7.333333           3.521250       -3.765625   \n",
       "1           7.406250        7.406250           3.533333       -3.739583   \n",
       "\n",
       "        qed  MolWt  HeavyAtomMolWt  ExactMolWt  NumValenceElectrons  \\\n",
       "0  0.536832  88.15          76.054   88.088815                   38   \n",
       "1  0.536832  88.15          76.054   88.088815                   38   \n",
       "\n",
       "   NumRadicalElectrons  ...  fr_sulfide  fr_sulfonamd  fr_sulfone  \\\n",
       "0                    0  ...           0             0           0   \n",
       "1                    0  ...           0             0           0   \n",
       "\n",
       "   fr_term_acetylene  fr_tetrazole  fr_thiazole  fr_thiocyan  fr_thiophene  \\\n",
       "0                  0             0            0            0             0   \n",
       "1                  0             0            0            0             0   \n",
       "\n",
       "   fr_unbrch_alkane  fr_urea  \n",
       "0                 0        0  \n",
       "1                 0        0  \n",
       "\n",
       "[2 rows x 209 columns]"
      ]
     },
     "execution_count": 14,
     "metadata": {},
     "output_type": "execute_result"
    }
   ],
   "source": [
    "Mol_descriptors,desc_names = RDkit_descriptors(TEST_X[\"SMILE\"])\n",
    "TEST_X_with_200_descriptors = pd.DataFrame(Mol_descriptors,columns=desc_names)\n",
    "TEST_X_with_200_descriptors"
   ]
  },
  {
   "cell_type": "code",
   "execution_count": 15,
   "id": "5268e03b-cf6d-43ab-bdd7-1bb95741da77",
   "metadata": {
    "execution": {
     "iopub.execute_input": "2023-09-13T02:47:58.694067Z",
     "iopub.status.busy": "2023-09-13T02:47:58.693067Z",
     "iopub.status.idle": "2023-09-13T02:47:58.967515Z",
     "shell.execute_reply": "2023-09-13T02:47:58.967515Z",
     "shell.execute_reply.started": "2023-09-13T02:47:58.694067Z"
    },
    "tags": []
   },
   "outputs": [
    {
     "data": {
      "text/html": [
       "<div>\n",
       "<style scoped>\n",
       "    .dataframe tbody tr th:only-of-type {\n",
       "        vertical-align: middle;\n",
       "    }\n",
       "\n",
       "    .dataframe tbody tr th {\n",
       "        vertical-align: top;\n",
       "    }\n",
       "\n",
       "    .dataframe thead th {\n",
       "        text-align: right;\n",
       "    }\n",
       "</style>\n",
       "<table border=\"1\" class=\"dataframe\">\n",
       "  <thead>\n",
       "    <tr style=\"text-align: right;\">\n",
       "      <th></th>\n",
       "      <th>MaxAbsEStateIndex</th>\n",
       "      <th>MaxEStateIndex</th>\n",
       "      <th>MinAbsEStateIndex</th>\n",
       "      <th>MinEStateIndex</th>\n",
       "      <th>MaxPartialCharge</th>\n",
       "      <th>MinPartialCharge</th>\n",
       "      <th>MaxAbsPartialCharge</th>\n",
       "      <th>MinAbsPartialCharge</th>\n",
       "      <th>FpDensityMorgan1</th>\n",
       "      <th>FpDensityMorgan2</th>\n",
       "      <th>...</th>\n",
       "      <th>Kappa3</th>\n",
       "      <th>LabuteASA</th>\n",
       "      <th>PEOE_VSA6</th>\n",
       "      <th>PEOE_VSA7</th>\n",
       "      <th>SMR_VSA5</th>\n",
       "      <th>EState_VSA1</th>\n",
       "      <th>VSA_EState1</th>\n",
       "      <th>VSA_EState3</th>\n",
       "      <th>VSA_EState7</th>\n",
       "      <th>VSA_EState8</th>\n",
       "    </tr>\n",
       "  </thead>\n",
       "  <tbody>\n",
       "    <tr>\n",
       "      <th>0</th>\n",
       "      <td>7.333333</td>\n",
       "      <td>7.333333</td>\n",
       "      <td>3.521250</td>\n",
       "      <td>-3.765625</td>\n",
       "      <td>0.210431</td>\n",
       "      <td>-0.393419</td>\n",
       "      <td>0.393419</td>\n",
       "      <td>0.210431</td>\n",
       "      <td>2.500000</td>\n",
       "      <td>3.500000</td>\n",
       "      <td>...</td>\n",
       "      <td>3.960000</td>\n",
       "      <td>55.939569</td>\n",
       "      <td>13.224817</td>\n",
       "      <td>13.224817</td>\n",
       "      <td>32.529652</td>\n",
       "      <td>32.529652</td>\n",
       "      <td>84.396042</td>\n",
       "      <td>3.537708</td>\n",
       "      <td>-11.117708</td>\n",
       "      <td>-7.066042</td>\n",
       "    </tr>\n",
       "    <tr>\n",
       "      <th>1</th>\n",
       "      <td>7.406250</td>\n",
       "      <td>7.406250</td>\n",
       "      <td>3.533333</td>\n",
       "      <td>-3.739583</td>\n",
       "      <td>0.210444</td>\n",
       "      <td>-0.393153</td>\n",
       "      <td>0.393153</td>\n",
       "      <td>0.210444</td>\n",
       "      <td>2.166667</td>\n",
       "      <td>2.833333</td>\n",
       "      <td>...</td>\n",
       "      <td>2.212525</td>\n",
       "      <td>55.939569</td>\n",
       "      <td>13.703784</td>\n",
       "      <td>12.745850</td>\n",
       "      <td>32.529652</td>\n",
       "      <td>32.529652</td>\n",
       "      <td>84.378750</td>\n",
       "      <td>3.567083</td>\n",
       "      <td>-11.129167</td>\n",
       "      <td>-7.066667</td>\n",
       "    </tr>\n",
       "  </tbody>\n",
       "</table>\n",
       "<p>2 rows × 37 columns</p>\n",
       "</div>"
      ],
      "text/plain": [
       "   MaxAbsEStateIndex  MaxEStateIndex  MinAbsEStateIndex  MinEStateIndex  \\\n",
       "0           7.333333        7.333333           3.521250       -3.765625   \n",
       "1           7.406250        7.406250           3.533333       -3.739583   \n",
       "\n",
       "   MaxPartialCharge  MinPartialCharge  MaxAbsPartialCharge  \\\n",
       "0          0.210431         -0.393419             0.393419   \n",
       "1          0.210444         -0.393153             0.393153   \n",
       "\n",
       "   MinAbsPartialCharge  FpDensityMorgan1  FpDensityMorgan2  ...    Kappa3  \\\n",
       "0             0.210431          2.500000          3.500000  ...  3.960000   \n",
       "1             0.210444          2.166667          2.833333  ...  2.212525   \n",
       "\n",
       "   LabuteASA  PEOE_VSA6  PEOE_VSA7   SMR_VSA5  EState_VSA1  VSA_EState1  \\\n",
       "0  55.939569  13.224817  13.224817  32.529652    32.529652    84.396042   \n",
       "1  55.939569  13.703784  12.745850  32.529652    32.529652    84.378750   \n",
       "\n",
       "   VSA_EState3  VSA_EState7  VSA_EState8  \n",
       "0     3.537708   -11.117708    -7.066042  \n",
       "1     3.567083   -11.129167    -7.066667  \n",
       "\n",
       "[2 rows x 37 columns]"
      ]
     },
     "execution_count": 15,
     "metadata": {},
     "output_type": "execute_result"
    }
   ],
   "source": [
    "test = TEST_X_with_200_descriptors.diff()[1:]\n",
    "zero_mask = test.eq(0)\n",
    "zero_mask2=test.drop(columns=zero_mask.columns[(zero_mask == True).any()])\n",
    "zero_mask3=TEST_X_with_200_descriptors[zero_mask2.columns]\n",
    "zero_mask3"
   ]
  },
  {
   "cell_type": "code",
   "execution_count": 16,
   "id": "d473d463-d23e-405b-91d7-ec6bef87a38e",
   "metadata": {
    "execution": {
     "iopub.execute_input": "2023-09-13T02:47:58.969507Z",
     "iopub.status.busy": "2023-09-13T02:47:58.969507Z",
     "iopub.status.idle": "2023-09-13T02:47:59.196469Z",
     "shell.execute_reply": "2023-09-13T02:47:59.196469Z",
     "shell.execute_reply.started": "2023-09-13T02:47:58.969507Z"
    },
    "tags": []
   },
   "outputs": [],
   "source": [
    "name_csv = name1+\" + \"+name2+\".csv\"\n",
    "zero_mask3.to_csv(name_csv, index=False)"
   ]
  },
  {
   "cell_type": "markdown",
   "id": "7793441a-e18f-468f-bd13-ff248cc309e8",
   "metadata": {
    "jp-MarkdownHeadingCollapsed": true,
    "tags": []
   },
   "source": [
    "# 200+ Feature same formula, diff func. gr."
   ]
  },
  {
   "cell_type": "code",
   "execution_count": 17,
   "id": "61871410-74f0-49bd-b38b-c539726dd90c",
   "metadata": {
    "execution": {
     "iopub.execute_input": "2023-09-13T02:47:59.198462Z",
     "iopub.status.busy": "2023-09-13T02:47:59.197460Z",
     "iopub.status.idle": "2023-09-13T02:47:59.220257Z",
     "shell.execute_reply": "2023-09-13T02:47:59.219265Z",
     "shell.execute_reply.started": "2023-09-13T02:47:59.198462Z"
    },
    "tags": []
   },
   "outputs": [
    {
     "data": {
      "image/png": "[encoded data removed]",
      "text/plain": [
       "<PIL.PngImagePlugin.PngImageFile image mode=RGB size=300x300>"
      ]
     },
     "execution_count": 17,
     "metadata": {},
     "output_type": "execute_result"
    }
   ],
   "source": [
    "name1 = \"CCCCC=O\"\n",
    "m1 = Chem.MolFromSmiles(name1)\n",
    "img1 = Draw.MolToImage(m1)\n",
    "img1"
   ]
  },
  {
   "cell_type": "code",
   "execution_count": 18,
   "id": "9dc1c9c9-e525-4de6-bafe-e1b5cd54d347",
   "metadata": {
    "execution": {
     "iopub.execute_input": "2023-09-13T02:47:59.221258Z",
     "iopub.status.busy": "2023-09-13T02:47:59.221258Z",
     "iopub.status.idle": "2023-09-13T02:47:59.337764Z",
     "shell.execute_reply": "2023-09-13T02:47:59.337764Z",
     "shell.execute_reply.started": "2023-09-13T02:47:59.221258Z"
    },
    "tags": []
   },
   "outputs": [
    {
     "data": {
      "image/png": "[encoded data removed]",
      "text/plain": [
       "<PIL.PngImagePlugin.PngImageFile image mode=RGB size=300x300>"
      ]
     },
     "execution_count": 18,
     "metadata": {},
     "output_type": "execute_result"
    }
   ],
   "source": [
    "name2 = \"CCCCCO\"\n",
    "m2 = Chem.MolFromSmiles(name2)\n",
    "img2 = Draw.MolToImage(m2)\n",
    "img2"
   ]
  },
  {
   "cell_type": "code",
   "execution_count": 19,
   "id": "1b0178f1-1a3a-4c05-a9a8-598aa663fa93",
   "metadata": {
    "execution": {
     "iopub.execute_input": "2023-09-13T02:47:59.339757Z",
     "iopub.status.busy": "2023-09-13T02:47:59.338756Z",
     "iopub.status.idle": "2023-09-13T02:47:59.470494Z",
     "shell.execute_reply": "2023-09-13T02:47:59.470494Z",
     "shell.execute_reply.started": "2023-09-13T02:47:59.339757Z"
    },
    "tags": []
   },
   "outputs": [
    {
     "data": {
      "text/html": [
       "<div>\n",
       "<style scoped>\n",
       "    .dataframe tbody tr th:only-of-type {\n",
       "        vertical-align: middle;\n",
       "    }\n",
       "\n",
       "    .dataframe tbody tr th {\n",
       "        vertical-align: top;\n",
       "    }\n",
       "\n",
       "    .dataframe thead th {\n",
       "        text-align: right;\n",
       "    }\n",
       "</style>\n",
       "<table border=\"1\" class=\"dataframe\">\n",
       "  <thead>\n",
       "    <tr style=\"text-align: right;\">\n",
       "      <th></th>\n",
       "      <th>SMILE</th>\n",
       "    </tr>\n",
       "  </thead>\n",
       "  <tbody>\n",
       "    <tr>\n",
       "      <th>0</th>\n",
       "      <td>CCCCC=O</td>\n",
       "    </tr>\n",
       "    <tr>\n",
       "      <th>1</th>\n",
       "      <td>CCCCCO</td>\n",
       "    </tr>\n",
       "  </tbody>\n",
       "</table>\n",
       "</div>"
      ],
      "text/plain": [
       "     SMILE\n",
       "0  CCCCC=O\n",
       "1   CCCCCO"
      ]
     },
     "execution_count": 19,
     "metadata": {},
     "output_type": "execute_result"
    }
   ],
   "source": [
    "data = {\n",
    "  \"SMILE\": [name1, name2]\n",
    "}\n",
    "TEST_X = pd.DataFrame(data)\n",
    "TEST_X"
   ]
  },
  {
   "cell_type": "code",
   "execution_count": 20,
   "id": "df955dea-540f-418d-878e-2e5f1cd4f9f2",
   "metadata": {
    "execution": {
     "iopub.execute_input": "2023-09-13T02:47:59.472489Z",
     "iopub.status.busy": "2023-09-13T02:47:59.471489Z",
     "iopub.status.idle": "2023-09-13T02:47:59.709224Z",
     "shell.execute_reply": "2023-09-13T02:47:59.709224Z",
     "shell.execute_reply.started": "2023-09-13T02:47:59.472489Z"
    },
    "tags": []
   },
   "outputs": [
    {
     "data": {
      "text/html": [
       "<div>\n",
       "<style scoped>\n",
       "    .dataframe tbody tr th:only-of-type {\n",
       "        vertical-align: middle;\n",
       "    }\n",
       "\n",
       "    .dataframe tbody tr th {\n",
       "        vertical-align: top;\n",
       "    }\n",
       "\n",
       "    .dataframe thead th {\n",
       "        text-align: right;\n",
       "    }\n",
       "</style>\n",
       "<table border=\"1\" class=\"dataframe\">\n",
       "  <thead>\n",
       "    <tr style=\"text-align: right;\">\n",
       "      <th></th>\n",
       "      <th>MaxAbsEStateIndex</th>\n",
       "      <th>MaxEStateIndex</th>\n",
       "      <th>MinAbsEStateIndex</th>\n",
       "      <th>MinEStateIndex</th>\n",
       "      <th>qed</th>\n",
       "      <th>MolWt</th>\n",
       "      <th>HeavyAtomMolWt</th>\n",
       "      <th>ExactMolWt</th>\n",
       "      <th>NumValenceElectrons</th>\n",
       "      <th>NumRadicalElectrons</th>\n",
       "      <th>...</th>\n",
       "      <th>fr_sulfide</th>\n",
       "      <th>fr_sulfonamd</th>\n",
       "      <th>fr_sulfone</th>\n",
       "      <th>fr_term_acetylene</th>\n",
       "      <th>fr_tetrazole</th>\n",
       "      <th>fr_thiazole</th>\n",
       "      <th>fr_thiocyan</th>\n",
       "      <th>fr_thiophene</th>\n",
       "      <th>fr_unbrch_alkane</th>\n",
       "      <th>fr_urea</th>\n",
       "    </tr>\n",
       "  </thead>\n",
       "  <tbody>\n",
       "    <tr>\n",
       "      <th>0</th>\n",
       "      <td>10.587102</td>\n",
       "      <td>10.587102</td>\n",
       "      <td>2.008681</td>\n",
       "      <td>-3.634838</td>\n",
       "      <td>0.374279</td>\n",
       "      <td>86.134</td>\n",
       "      <td>76.054</td>\n",
       "      <td>86.073165</td>\n",
       "      <td>36</td>\n",
       "      <td>0</td>\n",
       "      <td>...</td>\n",
       "      <td>0</td>\n",
       "      <td>0</td>\n",
       "      <td>0</td>\n",
       "      <td>0</td>\n",
       "      <td>0</td>\n",
       "      <td>0</td>\n",
       "      <td>0</td>\n",
       "      <td>0</td>\n",
       "      <td>0</td>\n",
       "      <td>0</td>\n",
       "    </tr>\n",
       "    <tr>\n",
       "      <th>1</th>\n",
       "      <td>7.299583</td>\n",
       "      <td>7.299583</td>\n",
       "      <td>3.414622</td>\n",
       "      <td>-3.754167</td>\n",
       "      <td>0.513281</td>\n",
       "      <td>88.150</td>\n",
       "      <td>76.054</td>\n",
       "      <td>88.088815</td>\n",
       "      <td>38</td>\n",
       "      <td>0</td>\n",
       "      <td>...</td>\n",
       "      <td>0</td>\n",
       "      <td>0</td>\n",
       "      <td>0</td>\n",
       "      <td>0</td>\n",
       "      <td>0</td>\n",
       "      <td>0</td>\n",
       "      <td>0</td>\n",
       "      <td>0</td>\n",
       "      <td>0</td>\n",
       "      <td>0</td>\n",
       "    </tr>\n",
       "  </tbody>\n",
       "</table>\n",
       "<p>2 rows × 209 columns</p>\n",
       "</div>"
      ],
      "text/plain": [
       "   MaxAbsEStateIndex  MaxEStateIndex  MinAbsEStateIndex  MinEStateIndex  \\\n",
       "0          10.587102       10.587102           2.008681       -3.634838   \n",
       "1           7.299583        7.299583           3.414622       -3.754167   \n",
       "\n",
       "        qed   MolWt  HeavyAtomMolWt  ExactMolWt  NumValenceElectrons  \\\n",
       "0  0.374279  86.134          76.054   86.073165                   36   \n",
       "1  0.513281  88.150          76.054   88.088815                   38   \n",
       "\n",
       "   NumRadicalElectrons  ...  fr_sulfide  fr_sulfonamd  fr_sulfone  \\\n",
       "0                    0  ...           0             0           0   \n",
       "1                    0  ...           0             0           0   \n",
       "\n",
       "   fr_term_acetylene  fr_tetrazole  fr_thiazole  fr_thiocyan  fr_thiophene  \\\n",
       "0                  0             0            0            0             0   \n",
       "1                  0             0            0            0             0   \n",
       "\n",
       "   fr_unbrch_alkane  fr_urea  \n",
       "0                 0        0  \n",
       "1                 0        0  \n",
       "\n",
       "[2 rows x 209 columns]"
      ]
     },
     "execution_count": 20,
     "metadata": {},
     "output_type": "execute_result"
    }
   ],
   "source": [
    "Mol_descriptors,desc_names = RDkit_descriptors(TEST_X[\"SMILE\"])\n",
    "TEST_X_with_200_descriptors = pd.DataFrame(Mol_descriptors,columns=desc_names)\n",
    "TEST_X_with_200_descriptors"
   ]
  },
  {
   "cell_type": "code",
   "execution_count": 21,
   "id": "d2e23ee0-0fb9-481a-a219-f524178ae970",
   "metadata": {
    "execution": {
     "iopub.execute_input": "2023-09-13T02:47:59.712218Z",
     "iopub.status.busy": "2023-09-13T02:47:59.711218Z",
     "iopub.status.idle": "2023-09-13T02:47:59.758092Z",
     "shell.execute_reply": "2023-09-13T02:47:59.758092Z",
     "shell.execute_reply.started": "2023-09-13T02:47:59.712218Z"
    },
    "tags": []
   },
   "outputs": [
    {
     "data": {
      "text/html": [
       "<div>\n",
       "<style scoped>\n",
       "    .dataframe tbody tr th:only-of-type {\n",
       "        vertical-align: middle;\n",
       "    }\n",
       "\n",
       "    .dataframe tbody tr th {\n",
       "        vertical-align: top;\n",
       "    }\n",
       "\n",
       "    .dataframe thead th {\n",
       "        text-align: right;\n",
       "    }\n",
       "</style>\n",
       "<table border=\"1\" class=\"dataframe\">\n",
       "  <thead>\n",
       "    <tr style=\"text-align: right;\">\n",
       "      <th></th>\n",
       "      <th>MaxAbsEStateIndex</th>\n",
       "      <th>MaxEStateIndex</th>\n",
       "      <th>MinAbsEStateIndex</th>\n",
       "      <th>MinEStateIndex</th>\n",
       "      <th>qed</th>\n",
       "      <th>MolWt</th>\n",
       "      <th>ExactMolWt</th>\n",
       "      <th>NumValenceElectrons</th>\n",
       "      <th>MaxPartialCharge</th>\n",
       "      <th>MinPartialCharge</th>\n",
       "      <th>...</th>\n",
       "      <th>FractionCSP3</th>\n",
       "      <th>NHOHCount</th>\n",
       "      <th>NumHDonors</th>\n",
       "      <th>NumRotatableBonds</th>\n",
       "      <th>MolLogP</th>\n",
       "      <th>MolMR</th>\n",
       "      <th>fr_Al_OH</th>\n",
       "      <th>fr_C_O</th>\n",
       "      <th>fr_C_O_noCOO</th>\n",
       "      <th>fr_aldehyde</th>\n",
       "    </tr>\n",
       "  </thead>\n",
       "  <tbody>\n",
       "    <tr>\n",
       "      <th>0</th>\n",
       "      <td>10.587102</td>\n",
       "      <td>10.587102</td>\n",
       "      <td>2.008681</td>\n",
       "      <td>-3.634838</td>\n",
       "      <td>0.374279</td>\n",
       "      <td>86.134</td>\n",
       "      <td>86.073165</td>\n",
       "      <td>36</td>\n",
       "      <td>0.119490</td>\n",
       "      <td>-0.303403</td>\n",
       "      <td>...</td>\n",
       "      <td>0.8</td>\n",
       "      <td>0</td>\n",
       "      <td>0</td>\n",
       "      <td>4</td>\n",
       "      <td>1.3755</td>\n",
       "      <td>25.5890</td>\n",
       "      <td>0</td>\n",
       "      <td>1</td>\n",
       "      <td>1</td>\n",
       "      <td>1</td>\n",
       "    </tr>\n",
       "    <tr>\n",
       "      <th>1</th>\n",
       "      <td>7.299583</td>\n",
       "      <td>7.299583</td>\n",
       "      <td>3.414622</td>\n",
       "      <td>-3.754167</td>\n",
       "      <td>0.513281</td>\n",
       "      <td>88.150</td>\n",
       "      <td>88.088815</td>\n",
       "      <td>38</td>\n",
       "      <td>0.210037</td>\n",
       "      <td>-0.396377</td>\n",
       "      <td>...</td>\n",
       "      <td>1.0</td>\n",
       "      <td>1</td>\n",
       "      <td>1</td>\n",
       "      <td>5</td>\n",
       "      <td>1.1689</td>\n",
       "      <td>26.6108</td>\n",
       "      <td>1</td>\n",
       "      <td>0</td>\n",
       "      <td>0</td>\n",
       "      <td>0</td>\n",
       "    </tr>\n",
       "  </tbody>\n",
       "</table>\n",
       "<p>2 rows × 68 columns</p>\n",
       "</div>"
      ],
      "text/plain": [
       "   MaxAbsEStateIndex  MaxEStateIndex  MinAbsEStateIndex  MinEStateIndex  \\\n",
       "0          10.587102       10.587102           2.008681       -3.634838   \n",
       "1           7.299583        7.299583           3.414622       -3.754167   \n",
       "\n",
       "        qed   MolWt  ExactMolWt  NumValenceElectrons  MaxPartialCharge  \\\n",
       "0  0.374279  86.134   86.073165                   36          0.119490   \n",
       "1  0.513281  88.150   88.088815                   38          0.210037   \n",
       "\n",
       "   MinPartialCharge  ...  FractionCSP3  NHOHCount  NumHDonors  \\\n",
       "0         -0.303403  ...           0.8          0           0   \n",
       "1         -0.396377  ...           1.0          1           1   \n",
       "\n",
       "   NumRotatableBonds  MolLogP    MolMR  fr_Al_OH  fr_C_O  fr_C_O_noCOO  \\\n",
       "0                  4   1.3755  25.5890         0       1             1   \n",
       "1                  5   1.1689  26.6108         1       0             0   \n",
       "\n",
       "   fr_aldehyde  \n",
       "0            1  \n",
       "1            0  \n",
       "\n",
       "[2 rows x 68 columns]"
      ]
     },
     "execution_count": 21,
     "metadata": {},
     "output_type": "execute_result"
    }
   ],
   "source": [
    "test = TEST_X_with_200_descriptors.diff()[1:]\n",
    "zero_mask = test.eq(0)\n",
    "zero_mask2=test.drop(columns=zero_mask.columns[(zero_mask == True).any()])\n",
    "zero_mask3=TEST_X_with_200_descriptors[zero_mask2.columns]\n",
    "zero_mask3"
   ]
  },
  {
   "cell_type": "code",
   "execution_count": 22,
   "id": "ba91aa31-5f36-458e-b58a-4d96afb1c581",
   "metadata": {
    "execution": {
     "iopub.execute_input": "2023-09-13T02:47:59.760086Z",
     "iopub.status.busy": "2023-09-13T02:47:59.760086Z",
     "iopub.status.idle": "2023-09-13T02:47:59.843609Z",
     "shell.execute_reply": "2023-09-13T02:47:59.843609Z",
     "shell.execute_reply.started": "2023-09-13T02:47:59.760086Z"
    },
    "tags": []
   },
   "outputs": [],
   "source": [
    "name_csv = name1+\" + \"+name2+\".csv\"\n",
    "zero_mask3.to_csv(name_csv, index=False)"
   ]
  },
  {
   "cell_type": "code",
   "execution_count": null,
   "id": "4e1027be-b499-4108-9ec5-194faaf8af33",
   "metadata": {},
   "outputs": [],
   "source": []
  },
  {
   "cell_type": "markdown",
   "id": "ae0e8c61-d5e6-4a2c-b3b5-df1346fe84a2",
   "metadata": {
    "jp-MarkdownHeadingCollapsed": true,
    "tags": []
   },
   "source": [
    "# Morgan_fingerprint"
   ]
  },
  {
   "cell_type": "code",
   "execution_count": 23,
   "id": "e7417534-6763-4284-a673-7e502e4b60b0",
   "metadata": {
    "execution": {
     "iopub.execute_input": "2023-09-13T02:47:59.845601Z",
     "iopub.status.busy": "2023-09-13T02:47:59.844600Z",
     "iopub.status.idle": "2023-09-13T02:47:59.987179Z",
     "shell.execute_reply": "2023-09-13T02:47:59.987179Z",
     "shell.execute_reply.started": "2023-09-13T02:47:59.845601Z"
    },
    "tags": []
   },
   "outputs": [
    {
     "data": {
      "image/png": "[encoded data removed]",
      "text/plain": [
       "<PIL.PngImagePlugin.PngImageFile image mode=RGB size=300x300>"
      ]
     },
     "execution_count": 23,
     "metadata": {},
     "output_type": "execute_result"
    }
   ],
   "source": [
    "name1 = \"CCCC(C)O\"\n",
    "m1 = Chem.MolFromSmiles(name1)\n",
    "img1 = Draw.MolToImage(m1)\n",
    "img1"
   ]
  },
  {
   "cell_type": "code",
   "execution_count": 24,
   "id": "c935d048-0973-40e7-9aa8-cc2d86f251db",
   "metadata": {
    "execution": {
     "iopub.execute_input": "2023-09-13T02:47:59.989171Z",
     "iopub.status.busy": "2023-09-13T02:47:59.988170Z",
     "iopub.status.idle": "2023-09-13T02:48:00.210628Z",
     "shell.execute_reply": "2023-09-13T02:48:00.210628Z",
     "shell.execute_reply.started": "2023-09-13T02:47:59.989171Z"
    },
    "tags": []
   },
   "outputs": [
    {
     "data": {
      "image/png": "[encoded data removed]",
      "text/plain": [
       "<PIL.PngImagePlugin.PngImageFile image mode=RGB size=300x300>"
      ]
     },
     "execution_count": 24,
     "metadata": {},
     "output_type": "execute_result"
    }
   ],
   "source": [
    "name2 = \"CCC(CC)O\"\n",
    "m2 = Chem.MolFromSmiles(name2)\n",
    "img2 = Draw.MolToImage(m2)\n",
    "img2"
   ]
  },
  {
   "cell_type": "code",
   "execution_count": 25,
   "id": "8b8ffb3c-0861-487e-82b3-42dbdbaf4467",
   "metadata": {
    "execution": {
     "iopub.execute_input": "2023-09-13T02:48:00.212620Z",
     "iopub.status.busy": "2023-09-13T02:48:00.211619Z",
     "iopub.status.idle": "2023-09-13T02:48:00.403156Z",
     "shell.execute_reply": "2023-09-13T02:48:00.403156Z",
     "shell.execute_reply.started": "2023-09-13T02:48:00.212620Z"
    },
    "tags": []
   },
   "outputs": [
    {
     "data": {
      "text/html": [
       "<div>\n",
       "<style scoped>\n",
       "    .dataframe tbody tr th:only-of-type {\n",
       "        vertical-align: middle;\n",
       "    }\n",
       "\n",
       "    .dataframe tbody tr th {\n",
       "        vertical-align: top;\n",
       "    }\n",
       "\n",
       "    .dataframe thead th {\n",
       "        text-align: right;\n",
       "    }\n",
       "</style>\n",
       "<table border=\"1\" class=\"dataframe\">\n",
       "  <thead>\n",
       "    <tr style=\"text-align: right;\">\n",
       "      <th></th>\n",
       "      <th>SMILE</th>\n",
       "      <th>molecule</th>\n",
       "      <th>morgan_fp</th>\n",
       "    </tr>\n",
       "  </thead>\n",
       "  <tbody>\n",
       "    <tr>\n",
       "      <th>0</th>\n",
       "      <td>CCCC(C)O</td>\n",
       "      <td>&lt;rdkit.Chem.rdchem.Mol object at 0x000001AF8B3...</td>\n",
       "      <td>[1, 0, 0, 1, 0, 0, 0, 0, 0, 0, 0, 0, 0, 0, 0, ...</td>\n",
       "    </tr>\n",
       "    <tr>\n",
       "      <th>1</th>\n",
       "      <td>CCC(CC)O</td>\n",
       "      <td>&lt;rdkit.Chem.rdchem.Mol object at 0x000001AF8B3...</td>\n",
       "      <td>[1, 0, 0, 1, 0, 0, 0, 0, 0, 0, 0, 0, 0, 0, 0, ...</td>\n",
       "    </tr>\n",
       "  </tbody>\n",
       "</table>\n",
       "</div>"
      ],
      "text/plain": [
       "      SMILE                                           molecule  \\\n",
       "0  CCCC(C)O  <rdkit.Chem.rdchem.Mol object at 0x000001AF8B3...   \n",
       "1  CCC(CC)O  <rdkit.Chem.rdchem.Mol object at 0x000001AF8B3...   \n",
       "\n",
       "                                           morgan_fp  \n",
       "0  [1, 0, 0, 1, 0, 0, 0, 0, 0, 0, 0, 0, 0, 0, 0, ...  \n",
       "1  [1, 0, 0, 1, 0, 0, 0, 0, 0, 0, 0, 0, 0, 0, 0, ...  "
      ]
     },
     "execution_count": 25,
     "metadata": {},
     "output_type": "execute_result"
    }
   ],
   "source": [
    "data = {\n",
    "  \"SMILE\": [name1, name2]\n",
    "}\n",
    "TEST_X = pd.DataFrame(data)\n",
    "TEST_X[\"molecule\"] = TEST_X[\"SMILE\"].apply(lambda x: Chem.MolFromSmiles(x))\n",
    "TEST_X[\"morgan_fp\"] = TEST_X[\"molecule\"].apply(lambda x: rdMolDescriptors.GetMorganFingerprintAsBitVect(x, radius=4, nBits=250, useFeatures=True, useChirality=True))\n",
    "TEST_X"
   ]
  },
  {
   "cell_type": "code",
   "execution_count": 26,
   "id": "5ae578b5-a825-4861-8b08-0319d342e9bc",
   "metadata": {
    "execution": {
     "iopub.execute_input": "2023-09-13T02:48:00.405152Z",
     "iopub.status.busy": "2023-09-13T02:48:00.405152Z",
     "iopub.status.idle": "2023-09-13T02:48:00.624864Z",
     "shell.execute_reply": "2023-09-13T02:48:00.624342Z",
     "shell.execute_reply.started": "2023-09-13T02:48:00.405152Z"
    },
    "tags": []
   },
   "outputs": [],
   "source": [
    "#rdMolDescriptors.GetMorganFingerprintAsBitVect(m1, radius=4, nBits=250, useFeatures=True, useChirality=True)"
   ]
  },
  {
   "cell_type": "code",
   "execution_count": 27,
   "id": "254c2bd6-c5ae-4f53-b095-88f2ff6602d5",
   "metadata": {
    "execution": {
     "iopub.execute_input": "2023-09-13T02:48:00.626849Z",
     "iopub.status.busy": "2023-09-13T02:48:00.625847Z",
     "iopub.status.idle": "2023-09-13T02:48:00.771850Z",
     "shell.execute_reply": "2023-09-13T02:48:00.771850Z",
     "shell.execute_reply.started": "2023-09-13T02:48:00.626849Z"
    },
    "tags": []
   },
   "outputs": [],
   "source": [
    "def SmileToMorganFP_df(smiles):\n",
    "    input_molecule = Chem.MolFromSmiles(smiles)\n",
    "    morgan_fp = rdMolDescriptors.GetMorganFingerprintAsBitVect(input_molecule, radius=4, nBits=250, useFeatures=True, useChirality=True)\n",
    "    morgan_array = np.array(morgan_fp)\n",
    "    morgan_dataframe = pd.DataFrame(morgan_array)\n",
    "    morgan_dataframe_row = morgan_dataframe.T\n",
    "    return morgan_dataframe_row\n",
    "def SmileToMorganFP(smiles):\n",
    "    input_molecule = Chem.MolFromSmiles(smiles)\n",
    "    morgan_fp = rdMolDescriptors.GetMorganFingerprintAsBitVect(input_molecule, radius=4, nBits=250, useFeatures=True, useChirality=True)\n",
    "    morgan_bit = morgan_fp.GetOnBits()\n",
    "    morgan_array = np.array(morgan_fp)\n",
    "    return morgan_array,tuple(morgan_bit)"
   ]
  },
  {
   "cell_type": "code",
   "execution_count": 28,
   "id": "70f97200-e416-493a-8243-cfc73fca2e42",
   "metadata": {
    "execution": {
     "iopub.execute_input": "2023-09-13T02:48:00.773843Z",
     "iopub.status.busy": "2023-09-13T02:48:00.772839Z",
     "iopub.status.idle": "2023-09-13T02:48:00.932286Z",
     "shell.execute_reply": "2023-09-13T02:48:00.932286Z",
     "shell.execute_reply.started": "2023-09-13T02:48:00.773843Z"
    },
    "tags": []
   },
   "outputs": [
    {
     "data": {
      "text/plain": [
       "'\\nname1 = \"CCCCCCCCCO\"\\nname2 = \"CCCCCCCCCCO\"\\n'"
      ]
     },
     "execution_count": 28,
     "metadata": {},
     "output_type": "execute_result"
    }
   ],
   "source": [
    "# STEP 0 \n",
    "'''\n",
    "name1 = \"CCCCCCCCCO\"\n",
    "name2 = \"CCCCCCCCCCO\"\n",
    "'''"
   ]
  },
  {
   "cell_type": "code",
   "execution_count": 29,
   "id": "14344661-42f2-4bdb-b0ba-e9fce298e993",
   "metadata": {
    "execution": {
     "iopub.execute_input": "2023-09-13T02:48:00.934282Z",
     "iopub.status.busy": "2023-09-13T02:48:00.933282Z",
     "iopub.status.idle": "2023-09-13T02:48:01.085164Z",
     "shell.execute_reply": "2023-09-13T02:48:01.085164Z",
     "shell.execute_reply.started": "2023-09-13T02:48:00.934282Z"
    },
    "tags": []
   },
   "outputs": [],
   "source": [
    "# STEP 1\n",
    "fp1 = SmileToMorganFP(name1)\n",
    "fp2 = SmileToMorganFP(name2)"
   ]
  },
  {
   "cell_type": "code",
   "execution_count": 30,
   "id": "3ff6c225-f7fe-430e-ae08-c38490dcbaf9",
   "metadata": {
    "execution": {
     "iopub.execute_input": "2023-09-13T02:48:01.088163Z",
     "iopub.status.busy": "2023-09-13T02:48:01.087162Z",
     "iopub.status.idle": "2023-09-13T02:48:01.293456Z",
     "shell.execute_reply": "2023-09-13T02:48:01.293456Z",
     "shell.execute_reply.started": "2023-09-13T02:48:01.088163Z"
    },
    "tags": []
   },
   "outputs": [
    {
     "name": "stdout",
     "output_type": "stream",
     "text": [
      "All Diff index: \n",
      " [42, 47, 144, 193, 243]\n",
      "M2 Diff from M1: \n",
      " [47, 144, 243]\n",
      "M1 Diff from M2: \n",
      " [42, 193]\n"
     ]
    }
   ],
   "source": [
    "# STEP 2\n",
    "# Find Diff Feature\n",
    "\n",
    "fp_bit1=fp1[1]\n",
    "fp_bit2=fp2[1]\n",
    "all_diff = set(fp_bit1).symmetric_difference(set(fp_bit2))\n",
    "diff2_from1 = set(fp_bit1)-set(fp_bit2)\n",
    "diff1_from2 = set(fp_bit2)-set(fp_bit1)\n",
    "\n",
    "#print(\"M1 is \", smiles_to_iupac(name1)   )\n",
    "#print(\"M2 is \",  smiles_to_iupac(name2)  )\n",
    "print(\"All Diff index: \\n\", sorted(all_diff))\n",
    "print(\"M2 Diff from M1: \\n\", sorted(diff2_from1))\n",
    "print(\"M1 Diff from M2: \\n\", sorted(diff1_from2))"
   ]
  },
  {
   "cell_type": "code",
   "execution_count": 31,
   "id": "0dea70a6-77c6-47ca-a9b5-807fcc48e90d",
   "metadata": {
    "execution": {
     "iopub.execute_input": "2023-09-13T02:48:01.295448Z",
     "iopub.status.busy": "2023-09-13T02:48:01.295448Z",
     "iopub.status.idle": "2023-09-13T02:48:01.446598Z",
     "shell.execute_reply": "2023-09-13T02:48:01.446598Z",
     "shell.execute_reply.started": "2023-09-13T02:48:01.295448Z"
    },
    "tags": []
   },
   "outputs": [
    {
     "data": {
      "image/png": "[encoded data removed]",
      "text/plain": [
       "<PIL.PngImagePlugin.PngImageFile image mode=RGB size=600x450>"
      ]
     },
     "execution_count": 31,
     "metadata": {},
     "output_type": "execute_result"
    }
   ],
   "source": [
    "onbits = {}\n",
    "mf = rdMolDescriptors.GetMorganFingerprintAsBitVect(m1, radius=4, nBits=250, useFeatures=True, useChirality=True, bitInfo=onbits)\n",
    "all_fragments = [(m1, x, onbits) for x in mf.GetOnBits()]\n",
    "Draw.DrawMorganBits(all_fragments[:],molsPerRow=4, legends=[str(x) for x in mf.GetOnBits()][:])"
   ]
  },
  {
   "cell_type": "code",
   "execution_count": 32,
   "id": "440ff6e5-6096-4780-b7e5-9dd924c56c25",
   "metadata": {
    "execution": {
     "iopub.execute_input": "2023-09-13T02:48:01.449588Z",
     "iopub.status.busy": "2023-09-13T02:48:01.448587Z",
     "iopub.status.idle": "2023-09-13T02:48:01.601124Z",
     "shell.execute_reply": "2023-09-13T02:48:01.601124Z",
     "shell.execute_reply.started": "2023-09-13T02:48:01.448587Z"
    },
    "tags": []
   },
   "outputs": [
    {
     "data": {
      "image/png": "[encoded data removed]",
      "text/plain": [
       "<PIL.PngImagePlugin.PngImageFile image mode=RGB size=600x300>"
      ]
     },
     "execution_count": 32,
     "metadata": {},
     "output_type": "execute_result"
    }
   ],
   "source": [
    "onbits = {}\n",
    "mf = rdMolDescriptors.GetMorganFingerprintAsBitVect(m2, radius=4, nBits=250, useFeatures=True, useChirality=True, bitInfo=onbits)\n",
    "all_fragments = [(m2, x, onbits) for x in mf.GetOnBits()]\n",
    "Draw.DrawMorganBits(all_fragments[:],molsPerRow=4, legends=[str(x) for x in mf.GetOnBits()][:])"
   ]
  },
  {
   "cell_type": "code",
   "execution_count": 33,
   "id": "175bb96f-8998-45bf-870d-d13926bed4c2",
   "metadata": {
    "execution": {
     "iopub.execute_input": "2023-09-13T02:48:01.609118Z",
     "iopub.status.busy": "2023-09-13T02:48:01.609118Z",
     "iopub.status.idle": "2023-09-13T02:48:01.742707Z",
     "shell.execute_reply": "2023-09-13T02:48:01.742707Z",
     "shell.execute_reply.started": "2023-09-13T02:48:01.609118Z"
    },
    "tags": []
   },
   "outputs": [
    {
     "data": {
      "text/plain": [
       "'\\nonbits = {}\\nall_fragments = [(m1, x, onbits) for x in mf.GetOnBits()]\\nDraw.DrawMorganBits(all_fragments[:],molsPerRow=4, legends=[str(x) for x in mf.GetOnBits()][:])\\n'"
      ]
     },
     "execution_count": 33,
     "metadata": {},
     "output_type": "execute_result"
    }
   ],
   "source": [
    "'''\n",
    "onbits = {}\n",
    "all_fragments = [(m1, x, onbits) for x in mf.GetOnBits()]\n",
    "Draw.DrawMorganBits(all_fragments[:],molsPerRow=4, legends=[str(x) for x in mf.GetOnBits()][:])\n",
    "'''\n",
    "#all_fragments"
   ]
  },
  {
   "cell_type": "code",
   "execution_count": 34,
   "id": "f59a12b6-b3cb-42e7-b5d9-4f4a8d495c38",
   "metadata": {
    "execution": {
     "iopub.execute_input": "2023-09-13T02:48:01.744703Z",
     "iopub.status.busy": "2023-09-13T02:48:01.743700Z",
     "iopub.status.idle": "2023-09-13T02:48:01.859939Z",
     "shell.execute_reply": "2023-09-13T02:48:01.859939Z",
     "shell.execute_reply.started": "2023-09-13T02:48:01.744703Z"
    },
    "tags": []
   },
   "outputs": [
    {
     "name": "stdout",
     "output_type": "stream",
     "text": [
      "[1 0 0 1 0 0 0 0 0 0 0 0 0 0 0 0 0 0 0 0 0 0 0 0 0 0 0 0 0 0 0 0 0 0 0 0 0\n",
      " 0 0 0 0 0 0 0 0 0 0 1 0 0 0 0 0 0 0 0 0 0 0 0 0 0 0 0 0 0 0 0 0 0 0 0 0 0\n",
      " 0 1 0 0 0 0 0 0 0 0 0 0 0 0 0 0 0 0 0 0 0 0 0 0 0 0 0 0 0 0 0 0 0 0 0 0 0\n",
      " 0 0 0 0 0 0 0 0 1 0 0 0 0 0 0 0 0 0 0 0 0 0 0 0 0 0 0 1 0 0 0 0 0 1 0 0 0\n",
      " 0 0 0 0 0 0 0 0 0 1 0 0 0 0 0 0 0 0 0 0 0 0 0 0 0 0 0 0 0 0 0 0 0 0 0 0 0\n",
      " 0 0 0 0 0 0 0 0 0 0 0 0 0 0 0 0 0 0 0 0 0 0 0 0 0 0 0 0 0 0 0 0 0 0 0 0 0\n",
      " 0 0 0 0 0 0 0 0 0 0 0 0 0 0 0 0 0 0 0 0 0 1 0 0 0 0 0 0]\n",
      "[1 0 0 1 0 0 0 0 0 0 0 0 0 0 0 0 0 0 0 0 0 0 0 0 0 0 0 0 0 0 0 0 0 0 0 0 0\n",
      " 0 0 0 0 0 1 0 0 0 0 0 0 0 0 0 0 0 0 0 0 0 0 0 0 0 0 0 0 0 0 0 0 0 0 0 0 0\n",
      " 0 1 0 0 0 0 0 0 0 0 0 0 0 0 0 0 0 0 0 0 0 0 0 0 0 0 0 0 0 0 0 0 0 0 0 0 0\n",
      " 0 0 0 0 0 0 0 0 1 0 0 0 0 0 0 0 0 0 0 0 0 0 0 0 0 0 0 1 0 0 0 0 0 0 0 0 0\n",
      " 0 0 0 0 0 0 0 0 0 1 0 0 0 0 0 0 0 0 0 0 0 0 0 0 0 0 0 0 0 0 0 0 0 0 0 0 0\n",
      " 0 0 0 0 0 0 0 0 1 0 0 0 0 0 0 0 0 0 0 0 0 0 0 0 0 0 0 0 0 0 0 0 0 0 0 0 0\n",
      " 0 0 0 0 0 0 0 0 0 0 0 0 0 0 0 0 0 0 0 0 0 0 0 0 0 0 0 0]\n",
      "Index of On bits 1: \n",
      " (0, 3, 47, 75, 119, 138, 144, 157, 243)\n",
      "Index of On bits 2: \n",
      " (0, 3, 42, 75, 119, 138, 157, 193)\n",
      "Number of On bits 1: \n",
      " 9\n",
      "Number of On bits 2: \n",
      " 8\n",
      "All Diff index: \n",
      " [42, 47, 144, 193, 243]\n",
      "M2 Diff from M1: \n",
      " [47, 144, 243]\n",
      "M1 Diff from M2: \n",
      " [42, 193]\n",
      "\n",
      "250 BITS\n"
     ]
    }
   ],
   "source": [
    "print(fp1[0])\n",
    "print(fp2[0])\n",
    "\n",
    "# print On bits\n",
    "print(\"Index of On bits 1: \\n\",fp_bit1)\n",
    "print(\"Index of On bits 2: \\n\",fp_bit2)\n",
    "# how many bits are On?\n",
    "print(\"Number of On bits 1: \\n\",len(fp_bit1))\n",
    "print(\"Number of On bits 2: \\n\",len(fp_bit2))\n",
    "\n",
    "print(\"All Diff index: \\n\", sorted(all_diff))\n",
    "print(\"M2 Diff from M1: \\n\", sorted(diff2_from1))\n",
    "print(\"M1 Diff from M2: \\n\", sorted(diff1_from2))\n",
    "\n",
    "print(\"\\n250 BITS\")"
   ]
  },
  {
   "cell_type": "markdown",
   "id": "e83f5c9d-485f-4303-9a33-3bf7921d83b2",
   "metadata": {
    "jp-MarkdownHeadingCollapsed": true,
    "tags": []
   },
   "source": [
    "# MACCS"
   ]
  },
  {
   "cell_type": "code",
   "execution_count": 35,
   "id": "eda8b899-3bd6-4c31-93ac-ed7e8bcacec2",
   "metadata": {
    "execution": {
     "iopub.execute_input": "2023-09-13T02:48:01.861932Z",
     "iopub.status.busy": "2023-09-13T02:48:01.860932Z",
     "iopub.status.idle": "2023-09-13T02:48:02.289251Z",
     "shell.execute_reply": "2023-09-13T02:48:02.289251Z",
     "shell.execute_reply.started": "2023-09-13T02:48:01.861932Z"
    },
    "tags": []
   },
   "outputs": [],
   "source": [
    "import requests\n",
    "CACTUS = \"https://cactus.nci.nih.gov/chemical/structure/{0}/{1}\"\n",
    "def smiles_to_iupac(smiles):\n",
    "    rep = \"iupac_name\"\n",
    "    url = CACTUS.format(smiles, rep)\n",
    "    response = requests.get(url)\n",
    "    response.raise_for_status()\n",
    "    return response.text"
   ]
  },
  {
   "cell_type": "code",
   "execution_count": 36,
   "id": "7e72571a-865b-489f-83b2-a63f16dd1a5c",
   "metadata": {
    "execution": {
     "iopub.execute_input": "2023-09-13T02:48:02.291243Z",
     "iopub.status.busy": "2023-09-13T02:48:02.290241Z",
     "iopub.status.idle": "2023-09-13T02:48:02.311358Z",
     "shell.execute_reply": "2023-09-13T02:48:02.311358Z",
     "shell.execute_reply.started": "2023-09-13T02:48:02.291243Z"
    },
    "tags": []
   },
   "outputs": [
    {
     "data": {
      "image/png": "[encoded data removed]",
      "text/plain": [
       "<PIL.PngImagePlugin.PngImageFile image mode=RGB size=300x300>"
      ]
     },
     "execution_count": 36,
     "metadata": {},
     "output_type": "execute_result"
    }
   ],
   "source": [
    "name1 = \"CCCC(C)O\"\n",
    "m1 = Chem.MolFromSmiles(name1)\n",
    "img1 = Draw.MolToImage(m1)\n",
    "img1"
   ]
  },
  {
   "cell_type": "code",
   "execution_count": 37,
   "id": "381f776f-84f4-47a9-9ad0-01c230e830c5",
   "metadata": {
    "execution": {
     "iopub.execute_input": "2023-09-13T02:48:02.313345Z",
     "iopub.status.busy": "2023-09-13T02:48:02.313345Z",
     "iopub.status.idle": "2023-09-13T02:48:02.489302Z",
     "shell.execute_reply": "2023-09-13T02:48:02.489302Z",
     "shell.execute_reply.started": "2023-09-13T02:48:02.313345Z"
    },
    "tags": []
   },
   "outputs": [
    {
     "data": {
      "image/png": "[encoded data removed]",
      "text/plain": [
       "<PIL.PngImagePlugin.PngImageFile image mode=RGB size=300x300>"
      ]
     },
     "execution_count": 37,
     "metadata": {},
     "output_type": "execute_result"
    }
   ],
   "source": [
    "name2 = \"CCC(CC)O\"\n",
    "m2 = Chem.MolFromSmiles(name2)\n",
    "img2 = Draw.MolToImage(m2)\n",
    "img2"
   ]
  },
  {
   "cell_type": "code",
   "execution_count": 38,
   "id": "53d8dbed-b992-4c1d-86a2-358dc9ceadea",
   "metadata": {
    "execution": {
     "iopub.execute_input": "2023-09-13T02:48:02.491296Z",
     "iopub.status.busy": "2023-09-13T02:48:02.490295Z",
     "iopub.status.idle": "2023-09-13T02:48:02.667907Z",
     "shell.execute_reply": "2023-09-13T02:48:02.667907Z",
     "shell.execute_reply.started": "2023-09-13T02:48:02.491296Z"
    }
   },
   "outputs": [
    {
     "data": {
      "text/plain": [
       "'\\nname1 = \"CCCCCCCCCO\"\\nname2 = \"CCCCCCCCCCO\"\\n'"
      ]
     },
     "execution_count": 38,
     "metadata": {},
     "output_type": "execute_result"
    }
   ],
   "source": [
    "'''\n",
    "name1 = \"CCCCCCCCCO\"\n",
    "name2 = \"CCCCCCCCCCO\"\n",
    "'''"
   ]
  },
  {
   "cell_type": "code",
   "execution_count": 39,
   "id": "234c398d-bcf0-4649-85ec-f466f2d46a3f",
   "metadata": {
    "execution": {
     "iopub.execute_input": "2023-09-13T02:48:02.669894Z",
     "iopub.status.busy": "2023-09-13T02:48:02.669894Z",
     "iopub.status.idle": "2023-09-13T02:48:02.824853Z",
     "shell.execute_reply": "2023-09-13T02:48:02.824853Z",
     "shell.execute_reply.started": "2023-09-13T02:48:02.669894Z"
    },
    "tags": []
   },
   "outputs": [
    {
     "name": "stdout",
     "output_type": "stream",
     "text": [
      "Index of On bits 1: (90, 104, 114, 115, 116, 118, 132, 139, 147, 149, 152, 155, 157, 160, 164)\n",
      "Index of On bits 2: (104, 114, 116, 132, 139, 149, 152, 155, 157, 160, 164)\n",
      "Number of On bits 1:  11\n",
      "Number of On bits 2:  11\n"
     ]
    }
   ],
   "source": [
    "# Generate MACCS (Molecular ACCess System) keys\n",
    "from rdkit.Chem import MACCSkeys\n",
    "Mkeys1 = MACCSkeys.GenMACCSKeys(m1)\n",
    "Mkeys2 = MACCSkeys.GenMACCSKeys(m2)\n",
    "# Use numpy array to see On and Off bits\n",
    "arr_mkey1 = np.array(Mkeys1)\n",
    "arr_mkey2 = np.array(Mkeys2)\n",
    "\n",
    "#print(arr_mkey1)\n",
    "#print(arr_mkey2)\n",
    "\n",
    "arr_bit1 = tuple(Mkeys1.GetOnBits())\n",
    "arr_bit2 = tuple(Mkeys2.GetOnBits())\n",
    "\n",
    "# print On bits\n",
    "print(\"Index of On bits 1:\",tuple(Mkeys1.GetOnBits()))\n",
    "print(\"Index of On bits 2:\",tuple(Mkeys2.GetOnBits()))\n",
    "# how many bits are On?\n",
    "print(\"Number of On bits 1: \",len(Mkeys2.GetOnBits()))\n",
    "print(\"Number of On bits 2: \",len(Mkeys2.GetOnBits()))\n"
   ]
  },
  {
   "cell_type": "code",
   "execution_count": 40,
   "id": "ea733be2-e71c-48c6-a798-d2b801cfabda",
   "metadata": {
    "execution": {
     "iopub.execute_input": "2023-09-13T02:48:02.826839Z",
     "iopub.status.busy": "2023-09-13T02:48:02.826839Z",
     "iopub.status.idle": "2023-09-13T02:48:02.975691Z",
     "shell.execute_reply": "2023-09-13T02:48:02.975691Z",
     "shell.execute_reply.started": "2023-09-13T02:48:02.826839Z"
    },
    "tags": []
   },
   "outputs": [
    {
     "name": "stdout",
     "output_type": "stream",
     "text": [
      "All Diff index: \n",
      " [90, 115, 118, 147]\n",
      "M2 Diff from M1: \n",
      " [90, 115, 118, 147]\n",
      "M1 Diff from M2: \n",
      " []\n"
     ]
    }
   ],
   "source": [
    "all_diff = set(arr_bit1).symmetric_difference(set(arr_bit2))\n",
    "diff2_from1 = set(arr_bit1)-set(arr_bit2)\n",
    "diff1_from2 = set(arr_bit2)-set(arr_bit1)\n",
    "\n",
    "#print(\"M1 is \", smiles_to_iupac(name1)   )\n",
    "#print(\"M2 is \",  smiles_to_iupac(name2)  )\n",
    "print(\"All Diff index: \\n\", sorted(all_diff))\n",
    "print(\"M2 Diff from M1: \\n\", sorted(diff2_from1))\n",
    "print(\"M1 Diff from M2: \\n\", sorted(diff1_from2))"
   ]
  },
  {
   "cell_type": "code",
   "execution_count": 41,
   "id": "7a5b63ab-8f40-46fb-8518-d8b6a1516d45",
   "metadata": {
    "execution": {
     "iopub.execute_input": "2023-09-13T02:48:02.977678Z",
     "iopub.status.busy": "2023-09-13T02:48:02.976678Z",
     "iopub.status.idle": "2023-09-13T02:48:03.202683Z",
     "shell.execute_reply": "2023-09-13T02:48:03.202683Z",
     "shell.execute_reply.started": "2023-09-13T02:48:02.977678Z"
    },
    "tags": []
   },
   "outputs": [
    {
     "name": "stdout",
     "output_type": "stream",
     "text": [
      "[0 0 0 0 0 0 0 0 0 0 0 0 0 0 0 0 0 0 0 0 0 0 0 0 0 0 0 0 0 0 0 0 0 0 0 0 0\n",
      " 0 0 0 0 0 0 0 0 0 0 0 0 0 0 0 0 0 0 0 0 0 0 0 0 0 0 0 0 0 0 0 0 0 0 0 0 0\n",
      " 0 0 0 0 0 0 0 0 0 0 0 0 0 0 0 0 1 0 0 0 0 0 0 0 0 0 0 0 0 0 1 0 0 0 0 0 0\n",
      " 0 0 0 1 1 1 0 1 0 0 0 0 0 0 0 0 0 0 0 0 0 1 0 0 0 0 0 0 1 0 0 0 0 0 0 0 1\n",
      " 0 1 0 0 1 0 0 1 0 1 0 0 1 0 0 0 1 0 0]\n",
      "[0 0 0 0 0 0 0 0 0 0 0 0 0 0 0 0 0 0 0 0 0 0 0 0 0 0 0 0 0 0 0 0 0 0 0 0 0\n",
      " 0 0 0 0 0 0 0 0 0 0 0 0 0 0 0 0 0 0 0 0 0 0 0 0 0 0 0 0 0 0 0 0 0 0 0 0 0\n",
      " 0 0 0 0 0 0 0 0 0 0 0 0 0 0 0 0 0 0 0 0 0 0 0 0 0 0 0 0 0 0 1 0 0 0 0 0 0\n",
      " 0 0 0 1 0 1 0 0 0 0 0 0 0 0 0 0 0 0 0 0 0 1 0 0 0 0 0 0 1 0 0 0 0 0 0 0 0\n",
      " 0 1 0 0 1 0 0 1 0 1 0 0 1 0 0 0 1 0 0]\n",
      "Index of On bits 1: \n",
      " (90, 104, 114, 115, 116, 118, 132, 139, 147, 149, 152, 155, 157, 160, 164)\n",
      "Index of On bits 2: \n",
      " (104, 114, 116, 132, 139, 149, 152, 155, 157, 160, 164)\n",
      "Number of On bits 1: \n",
      " 11\n",
      "Number of On bits 2: \n",
      " 11\n",
      "All Diff index: \n",
      " [90, 115, 118, 147]\n",
      "M2 Diff from M1: \n",
      " [90, 115, 118, 147]\n",
      "M1 Diff from M2: \n",
      " []\n"
     ]
    }
   ],
   "source": [
    "print(arr_mkey1)\n",
    "print(arr_mkey2)\n",
    "\n",
    "# print On bits\n",
    "print(\"Index of On bits 1: \\n\",tuple(Mkeys1.GetOnBits()))\n",
    "print(\"Index of On bits 2: \\n\",tuple(Mkeys2.GetOnBits()))\n",
    "# how many bits are On?\n",
    "print(\"Number of On bits 1: \\n\",len(Mkeys2.GetOnBits()))\n",
    "print(\"Number of On bits 2: \\n\",len(Mkeys2.GetOnBits()))\n",
    "\n",
    "#print(\"M1 is \", smiles_to_iupac(name1)   )\n",
    "#print(\"M2 is \",  smiles_to_iupac(name2)  )\n",
    "print(\"All Diff index: \\n\", sorted(all_diff))\n",
    "print(\"M2 Diff from M1: \\n\", sorted(diff2_from1))\n",
    "print(\"M1 Diff from M2: \\n\", sorted(diff1_from2))"
   ]
  },
  {
   "cell_type": "code",
   "execution_count": 42,
   "id": "824d1a1d-dfb8-4398-ac41-08b59540bfc2",
   "metadata": {
    "execution": {
     "iopub.execute_input": "2023-09-13T02:48:03.204676Z",
     "iopub.status.busy": "2023-09-13T02:48:03.203676Z",
     "iopub.status.idle": "2023-09-13T02:48:03.318014Z",
     "shell.execute_reply": "2023-09-13T02:48:03.318014Z",
     "shell.execute_reply.started": "2023-09-13T02:48:03.204676Z"
    }
   },
   "outputs": [],
   "source": [
    "#90:  ('[$([!#6;!#1;!H0]~*~*~[CH2]~*),$([!#6;!#1;!H0;R]1@[R]@[R]@[CH2;R]1),$([!#6;!#1;!H0]~[R]1@[R]@[CH2;R]1)]', 0),  # QHAACH2A\n",
    "#115: ('[CH3]~*~[CH2]~*', 0),  # CH3ACH2A\n",
    "#118: ('[$(*~[CH2]~[CH2]~*),$(*1~[CH2]~[CH2]1)]', 1),  # ACH2CH2A > 1\n",
    "#147: ('[$(*~[CH2]~[CH2]~*),$([R]1@[CH2;R]@[CH2;R]1)]', 0),  # ACH2CH2A"
   ]
  },
  {
   "cell_type": "code",
   "execution_count": null,
   "id": "3902e1d1-808c-4a0a-b55d-f64f8a364320",
   "metadata": {},
   "outputs": [],
   "source": []
  },
  {
   "cell_type": "markdown",
   "id": "73cd5f18-3e66-4e31-8211-7eb98207ac0c",
   "metadata": {
    "jp-MarkdownHeadingCollapsed": true,
    "tags": []
   },
   "source": [
    "# Interact find Index"
   ]
  },
  {
   "cell_type": "code",
   "execution_count": 43,
   "id": "5ec8b4ac-e5fc-4886-a77f-4cbba719e343",
   "metadata": {
    "execution": {
     "iopub.execute_input": "2023-09-13T02:48:03.320006Z",
     "iopub.status.busy": "2023-09-13T02:48:03.319005Z",
     "iopub.status.idle": "2023-09-13T02:48:03.426676Z",
     "shell.execute_reply": "2023-09-13T02:48:03.426676Z",
     "shell.execute_reply.started": "2023-09-13T02:48:03.320006Z"
    },
    "tags": []
   },
   "outputs": [],
   "source": [
    "from rdkit.Chem.Draw import IPythonConsole\n",
    "from ipywidgets import interact,fixed,IntSlider\n",
    "def renderFpBit(mol,bitIdx,bitInfo,fn):\n",
    "    bid = bitIdx\n",
    "    return(display(fn(mol,bid,bitInfo), mol))"
   ]
  },
  {
   "cell_type": "code",
   "execution_count": 44,
   "id": "029ebebf-4506-4336-b3a8-91fa2b7461df",
   "metadata": {
    "execution": {
     "iopub.execute_input": "2023-09-13T02:48:03.428668Z",
     "iopub.status.busy": "2023-09-13T02:48:03.427667Z",
     "iopub.status.idle": "2023-09-13T02:48:03.542470Z",
     "shell.execute_reply": "2023-09-13T02:48:03.542470Z",
     "shell.execute_reply.started": "2023-09-13T02:48:03.428668Z"
    },
    "tags": []
   },
   "outputs": [
    {
     "data": {
      "text/plain": [
       "[56, 148, 229, 491, 562, 568, 709, 747, 875, 1067]"
      ]
     },
     "execution_count": 44,
     "metadata": {},
     "output_type": "execute_result"
    }
   ],
   "source": [
    "rdkbi = {}\n",
    "rdkfp = Chem.RDKFingerprint(m1, maxPath=5, bitInfo=rdkbi)\n",
    "# show 10 of the set bits:\n",
    "list(rdkfp.GetOnBits())[:10]"
   ]
  },
  {
   "cell_type": "code",
   "execution_count": 45,
   "id": "1748cc91-bd1b-4cd2-825c-a9df01cc87be",
   "metadata": {
    "execution": {
     "iopub.execute_input": "2023-09-13T02:48:03.544465Z",
     "iopub.status.busy": "2023-09-13T02:48:03.543463Z",
     "iopub.status.idle": "2023-09-13T02:48:03.994451Z",
     "shell.execute_reply": "2023-09-13T02:48:03.994451Z",
     "shell.execute_reply.started": "2023-09-13T02:48:03.544465Z"
    },
    "tags": []
   },
   "outputs": [
    {
     "data": {
      "application/vnd.jupyter.widget-view+json": {
       "model_id": "57e80db267ad44228503264c1ec884ee",
       "version_major": 2,
       "version_minor": 0
      },
      "text/plain": [
       "interactive(children=(Dropdown(description='bitIdx', options=(56, 148, 229, 491, 562, 568, 709, 747, 875, 1067…"
      ]
     },
     "metadata": {},
     "output_type": "display_data"
    },
    {
     "data": {
      "application/vnd.jupyter.widget-view+json": {
       "model_id": "f9437d1ca8df4d398244e4847ee6a371",
       "version_major": 2,
       "version_minor": 0
      },
      "text/plain": [
       "interactive(children=(Dropdown(description='bitIdx', options=(56, 148, 229, 491, 562, 568, 709, 747, 875, 1067…"
      ]
     },
     "metadata": {},
     "output_type": "display_data"
    }
   ],
   "source": [
    "interact(renderFpBit, bitIdx=list(rdkbi.keys()),mol=fixed(m1),\n",
    "         bitInfo=fixed(rdkbi),fn=fixed(Draw.DrawRDKitBit));\n",
    "interact(renderFpBit, bitIdx=list(rdkbi.keys()),mol=fixed(m2),\n",
    "         bitInfo=fixed(rdkbi),fn=fixed(Draw.DrawRDKitBit));"
   ]
  },
  {
   "cell_type": "code",
   "execution_count": null,
   "id": "6f970ed9-1bff-402c-9283-e45d284a971c",
   "metadata": {},
   "outputs": [],
   "source": []
  },
  {
   "cell_type": "markdown",
   "id": "e9e0d3e5-a5f8-42d7-8fba-245eb9b21aca",
   "metadata": {
    "jp-MarkdownHeadingCollapsed": true,
    "tags": []
   },
   "source": [
    "# Increase Morgan_fp Bit"
   ]
  },
  {
   "cell_type": "code",
   "execution_count": 46,
   "id": "91f7e321-0367-41a7-8c5e-1bdd0e47905c",
   "metadata": {
    "execution": {
     "iopub.execute_input": "2023-09-13T02:48:03.996436Z",
     "iopub.status.busy": "2023-09-13T02:48:03.996436Z",
     "iopub.status.idle": "2023-09-13T02:48:07.191636Z",
     "shell.execute_reply": "2023-09-13T02:48:07.191636Z",
     "shell.execute_reply.started": "2023-09-13T02:48:03.996436Z"
    }
   },
   "outputs": [],
   "source": [
    "########   Prepare Data     ########\n",
    "#Import Data\n",
    "df = pd.read_excel(\"DataTb.xlsx\",sheet_name=\"AllDataSet\")\n",
    "\n",
    "#Select feature for data\n",
    "X_data= df.drop(columns ={\"Name\",\"Tb\",\"CAS\",\"Type\",\"Formular\",\"Unnamed: 11\",\"Unnamed: 12\",\"Unnamed: 13\",\"Unnamed: 14\",\"C\",\"Double\", \"Triple\", \"Bracket\", \"Cyclic\"})\n",
    "Y_data= df[\"Tb\"]\n"
   ]
  },
  {
   "cell_type": "code",
   "execution_count": null,
   "id": "b7d977f5-e70f-4c79-965e-c224cbfc04f2",
   "metadata": {
    "tags": []
   },
   "outputs": [],
   "source": []
  },
  {
   "cell_type": "code",
   "execution_count": 47,
   "id": "d6ee139a-286d-4326-9efb-496581bc791c",
   "metadata": {
    "execution": {
     "iopub.execute_input": "2023-09-13T02:48:07.193629Z",
     "iopub.status.busy": "2023-09-13T02:48:07.192626Z",
     "iopub.status.idle": "2023-09-13T02:48:07.249147Z",
     "shell.execute_reply": "2023-09-13T02:48:07.249147Z",
     "shell.execute_reply.started": "2023-09-13T02:48:07.193629Z"
    }
   },
   "outputs": [],
   "source": [
    "#get Morgan_fp of all substance ex 560 datapoint\n",
    "mols = []\n",
    "SMILES=np.array(X_data[\"SMILES\"])\n",
    "for SMILE in SMILES:\n",
    "    mol = Chem.MolFromSmiles(SMILE)\n",
    "    mols.append(mol)\n",
    "\n",
    "# we get 560 fp in FP_all\n",
    "# FP_all = [fp_1, fp_2, ... , fp_560]\n",
    "# Loop \n",
    "\n",
    "# see CURRENTLY_USE in 256, 512, ..., 2048 bit\n",
    "# np.logical_or(FP_all).sum()\n",
    "# >>> 156 bit use in 256 bit"
   ]
  },
  {
   "cell_type": "code",
   "execution_count": 48,
   "id": "103c9fb3-b603-44a6-8b1d-63e08c0de506",
   "metadata": {
    "execution": {
     "iopub.execute_input": "2023-09-13T02:48:07.252142Z",
     "iopub.status.busy": "2023-09-13T02:48:07.251144Z",
     "iopub.status.idle": "2023-09-13T02:49:06.515611Z",
     "shell.execute_reply": "2023-09-13T02:49:06.514607Z",
     "shell.execute_reply.started": "2023-09-13T02:48:07.252142Z"
    },
    "tags": []
   },
   "outputs": [],
   "source": [
    "# Looping\n",
    "bits = [1024, 2048, 4096, 8192, 16384, 32768, 65536]\n",
    "#mols = [m1, m2, ..., m560]\n",
    "#mols = [m1, m2]\n",
    "\n",
    "#32768   1 min\n",
    "#65536   1 min\n",
    "unique=[]\n",
    "for bit in bits:\n",
    "    FPs = []\n",
    "    infos = []\n",
    "    for mol in mols:\n",
    "        info = {}\n",
    "        FPs.append(AllChem.GetMorganFingerprintAsBitVect(mol, 3, nBits=bit, bitInfo=info, useFeatures=True))\n",
    "        infos.append(info)\n",
    "    unique.append(np.logical_or.reduce(FPs).sum())"
   ]
  },
  {
   "cell_type": "code",
   "execution_count": 49,
   "id": "a3cedf62-7f92-4e8d-b329-2cd60b61fa54",
   "metadata": {
    "execution": {
     "iopub.execute_input": "2023-09-13T02:49:06.518612Z",
     "iopub.status.busy": "2023-09-13T02:49:06.517611Z",
     "iopub.status.idle": "2023-09-13T02:49:07.791673Z",
     "shell.execute_reply": "2023-09-13T02:49:07.790691Z",
     "shell.execute_reply.started": "2023-09-13T02:49:06.518612Z"
    },
    "tags": []
   },
   "outputs": [
    {
     "data": {
      "image/png": "[encoded data removed]",
      "text/plain": [
       "<Figure size 640x480 with 1 Axes>"
      ]
     },
     "metadata": {},
     "output_type": "display_data"
    }
   ],
   "source": [
    "fig1,ax1 =plt.subplots()\n",
    "ax1.plot(unique)\n",
    "xticks = plt.xticks(range(len(bits)),bits)\n",
    "ax1.yaxis.get_major_locator().set_params(integer=True)"
   ]
  },
  {
   "cell_type": "code",
   "execution_count": null,
   "id": "6117dc15-7203-4639-85c2-2d6643cf11c6",
   "metadata": {},
   "outputs": [],
   "source": []
  },
  {
   "cell_type": "markdown",
   "id": "332ecd7a-5a41-4404-a273-afb3ed6e3fe9",
   "metadata": {
    "jp-MarkdownHeadingCollapsed": true,
    "tags": []
   },
   "source": [
    "# Morgan_fp RF"
   ]
  },
  {
   "cell_type": "code",
   "execution_count": 173,
   "id": "3261976a-9c0b-4b3b-941f-3744167de14b",
   "metadata": {
    "execution": {
     "iopub.execute_input": "2023-09-13T03:36:46.003434Z",
     "iopub.status.busy": "2023-09-13T03:36:46.002435Z",
     "iopub.status.idle": "2023-09-13T03:36:46.009434Z",
     "shell.execute_reply": "2023-09-13T03:36:46.008434Z",
     "shell.execute_reply.started": "2023-09-13T03:36:46.002435Z"
    },
    "tags": []
   },
   "outputs": [],
   "source": [
    "from sklearn.linear_model import LinearRegression\n",
    "from sklearn.model_selection import train_test_split\n",
    "from sklearn.metrics import mean_absolute_percentage_error, mean_squared_error, r2_score"
   ]
  },
  {
   "cell_type": "code",
   "execution_count": 174,
   "id": "2c38a088-02fd-4232-9e4e-a30b1617d543",
   "metadata": {
    "execution": {
     "iopub.execute_input": "2023-09-13T03:36:46.011434Z",
     "iopub.status.busy": "2023-09-13T03:36:46.011434Z",
     "iopub.status.idle": "2023-09-13T03:36:46.375462Z",
     "shell.execute_reply": "2023-09-13T03:36:46.375462Z",
     "shell.execute_reply.started": "2023-09-13T03:36:46.011434Z"
    },
    "tags": []
   },
   "outputs": [],
   "source": [
    "# %%\n",
    "# Get Data\n",
    "\n",
    "# Import Data\n",
    "df = pd.read_excel(\"DataTb.xlsx\",sheet_name=\"AllDataSet\")\n",
    "\n",
    "# X:SMILE, Y:boiling Temp\n",
    "X_data= df.drop(columns ={\"Name\",\"Tb\",\"CAS\",\"Type\",\"Formular\",\"Unnamed: 11\",\"Unnamed: 12\",\"Unnamed: 13\",\"Unnamed: 14\",\"C\",\"Double\", \"Triple\", \"Bracket\", \"Cyclic\"})\n",
    "Y_data= df[\"Tb\"]"
   ]
  },
  {
   "cell_type": "code",
   "execution_count": 175,
   "id": "c27ab9f9-3a0f-4fde-af4f-5744babfe2d6",
   "metadata": {
    "execution": {
     "iopub.execute_input": "2023-09-13T03:36:46.377457Z",
     "iopub.status.busy": "2023-09-13T03:36:46.377457Z",
     "iopub.status.idle": "2023-09-13T03:36:47.527539Z",
     "shell.execute_reply": "2023-09-13T03:36:47.527539Z",
     "shell.execute_reply.started": "2023-09-13T03:36:46.377457Z"
    },
    "tags": []
   },
   "outputs": [],
   "source": [
    "# %%\n",
    "# Feature Engineering\n",
    "\n",
    "# get Morgan_fp of all substance ex 560 datapoint\n",
    "mols = []\n",
    "FPs = []\n",
    "infos = []\n",
    "\n",
    "SMILES=np.array(X_data[\"SMILES\"])\n",
    "for SMILE in SMILES:\n",
    "    info = {}\n",
    "    \n",
    "    # Define molecule\n",
    "    mol = Chem.MolFromSmiles(SMILE)\n",
    "    # Get Fingerprint\n",
    "    FPs.append(AllChem.GetMorganFingerprintAsBitVect(mol, 3, nBits=2048, bitInfo=info, useFeatures=True))\n",
    "    \n",
    "    mols.append(mol)\n",
    "    infos.append(info)\n",
    "\n",
    "arr_FP=np.array(FPs)\n",
    "# >>> (560, 2048)\n",
    "\n",
    "df_arr_FP = pd.DataFrame(arr_FP)\n",
    "\n",
    "# FOR INSECPTION\n",
    "#new_X_data = X_data.join(df_arr_FP)\n",
    "#new_X_data.to_csv(\"560_morgan_fp.csv\")"
   ]
  },
  {
   "cell_type": "code",
   "execution_count": 176,
   "id": "2ec589ed-e456-4e27-addf-4b3e267270d6",
   "metadata": {
    "execution": {
     "iopub.execute_input": "2023-09-13T03:36:47.531541Z",
     "iopub.status.busy": "2023-09-13T03:36:47.530543Z",
     "iopub.status.idle": "2023-09-13T03:36:47.542432Z",
     "shell.execute_reply": "2023-09-13T03:36:47.541437Z",
     "shell.execute_reply.started": "2023-09-13T03:36:47.530543Z"
    },
    "tags": []
   },
   "outputs": [],
   "source": [
    "# %% \n",
    "# Train Test Split\n",
    "\n",
    "X_train, X_test, y_train, y_test = train_test_split(df_arr_FP, Y_data,test_size=0.25,random_state=42)"
   ]
  },
  {
   "cell_type": "code",
   "execution_count": 177,
   "id": "44b5aaac-3178-4c87-8cfc-0f6b50c67971",
   "metadata": {
    "execution": {
     "iopub.execute_input": "2023-09-13T03:36:47.544431Z",
     "iopub.status.busy": "2023-09-13T03:36:47.543431Z",
     "iopub.status.idle": "2023-09-13T03:36:48.232613Z",
     "shell.execute_reply": "2023-09-13T03:36:48.231624Z",
     "shell.execute_reply.started": "2023-09-13T03:36:47.544431Z"
    },
    "tags": []
   },
   "outputs": [
    {
     "data": {
      "text/html": [
       "<style>#sk-container-id-17 {color: black;}#sk-container-id-17 pre{padding: 0;}#sk-container-id-17 div.sk-toggleable {background-color: white;}#sk-container-id-17 label.sk-toggleable__label {cursor: pointer;display: block;width: 100%;margin-bottom: 0;padding: 0.3em;box-sizing: border-box;text-align: center;}#sk-container-id-17 label.sk-toggleable__label-arrow:before {content: \"▸\";float: left;margin-right: 0.25em;color: #696969;}#sk-container-id-17 label.sk-toggleable__label-arrow:hover:before {color: black;}#sk-container-id-17 div.sk-estimator:hover label.sk-toggleable__label-arrow:before {color: black;}#sk-container-id-17 div.sk-toggleable__content {max-height: 0;max-width: 0;overflow: hidden;text-align: left;background-color: #f0f8ff;}#sk-container-id-17 div.sk-toggleable__content pre {margin: 0.2em;color: black;border-radius: 0.25em;background-color: #f0f8ff;}#sk-container-id-17 input.sk-toggleable__control:checked~div.sk-toggleable__content {max-height: 200px;max-width: 100%;overflow: auto;}#sk-container-id-17 input.sk-toggleable__control:checked~label.sk-toggleable__label-arrow:before {content: \"▾\";}#sk-container-id-17 div.sk-estimator input.sk-toggleable__control:checked~label.sk-toggleable__label {background-color: #d4ebff;}#sk-container-id-17 div.sk-label input.sk-toggleable__control:checked~label.sk-toggleable__label {background-color: #d4ebff;}#sk-container-id-17 input.sk-hidden--visually {border: 0;clip: rect(1px 1px 1px 1px);clip: rect(1px, 1px, 1px, 1px);height: 1px;margin: -1px;overflow: hidden;padding: 0;position: absolute;width: 1px;}#sk-container-id-17 div.sk-estimator {font-family: monospace;background-color: #f0f8ff;border: 1px dotted black;border-radius: 0.25em;box-sizing: border-box;margin-bottom: 0.5em;}#sk-container-id-17 div.sk-estimator:hover {background-color: #d4ebff;}#sk-container-id-17 div.sk-parallel-item::after {content: \"\";width: 100%;border-bottom: 1px solid gray;flex-grow: 1;}#sk-container-id-17 div.sk-label:hover label.sk-toggleable__label {background-color: #d4ebff;}#sk-container-id-17 div.sk-serial::before {content: \"\";position: absolute;border-left: 1px solid gray;box-sizing: border-box;top: 0;bottom: 0;left: 50%;z-index: 0;}#sk-container-id-17 div.sk-serial {display: flex;flex-direction: column;align-items: center;background-color: white;padding-right: 0.2em;padding-left: 0.2em;position: relative;}#sk-container-id-17 div.sk-item {position: relative;z-index: 1;}#sk-container-id-17 div.sk-parallel {display: flex;align-items: stretch;justify-content: center;background-color: white;position: relative;}#sk-container-id-17 div.sk-item::before, #sk-container-id-17 div.sk-parallel-item::before {content: \"\";position: absolute;border-left: 1px solid gray;box-sizing: border-box;top: 0;bottom: 0;left: 50%;z-index: -1;}#sk-container-id-17 div.sk-parallel-item {display: flex;flex-direction: column;z-index: 1;position: relative;background-color: white;}#sk-container-id-17 div.sk-parallel-item:first-child::after {align-self: flex-end;width: 50%;}#sk-container-id-17 div.sk-parallel-item:last-child::after {align-self: flex-start;width: 50%;}#sk-container-id-17 div.sk-parallel-item:only-child::after {width: 0;}#sk-container-id-17 div.sk-dashed-wrapped {border: 1px dashed gray;margin: 0 0.4em 0.5em 0.4em;box-sizing: border-box;padding-bottom: 0.4em;background-color: white;}#sk-container-id-17 div.sk-label label {font-family: monospace;font-weight: bold;display: inline-block;line-height: 1.2em;}#sk-container-id-17 div.sk-label-container {text-align: center;}#sk-container-id-17 div.sk-container {/* jupyter's `normalize.less` sets `[hidden] { display: none; }` but bootstrap.min.css set `[hidden] { display: none !important; }` so we also need the `!important` here to be able to override the default hidden behavior on the sphinx rendered scikit-learn.org. See: https://github.com/scikit-learn/scikit-learn/issues/21755 */display: inline-block !important;position: relative;}#sk-container-id-17 div.sk-text-repr-fallback {display: none;}</style><div id=\"sk-container-id-17\" class=\"sk-top-container\"><div class=\"sk-text-repr-fallback\"><pre>RandomForestRegressor(n_jobs=100, random_state=0)</pre><b>In a Jupyter environment, please rerun this cell to show the HTML representation or trust the notebook. <br />On GitHub, the HTML representation is unable to render, please try loading this page with nbviewer.org.</b></div><div class=\"sk-container\" hidden><div class=\"sk-item\"><div class=\"sk-estimator sk-toggleable\"><input class=\"sk-toggleable__control sk-hidden--visually\" id=\"sk-estimator-id-17\" type=\"checkbox\" checked><label for=\"sk-estimator-id-17\" class=\"sk-toggleable__label sk-toggleable__label-arrow\">RandomForestRegressor</label><div class=\"sk-toggleable__content\"><pre>RandomForestRegressor(n_jobs=100, random_state=0)</pre></div></div></div></div></div>"
      ],
      "text/plain": [
       "RandomForestRegressor(n_jobs=100, random_state=0)"
      ]
     },
     "execution_count": 177,
     "metadata": {},
     "output_type": "execute_result"
    }
   ],
   "source": [
    "# %%\n",
    "# Modeling\n",
    "\n",
    "from sklearn.ensemble import RandomForestRegressor\n",
    "\n",
    "RF_model = RandomForestRegressor(random_state = 0, n_jobs=100)\n",
    "RF_model.fit(X_train, y_train)"
   ]
  },
  {
   "cell_type": "code",
   "execution_count": 178,
   "id": "fbcbecf6-8a5b-4fd0-9d93-b7ef34394cfd",
   "metadata": {
    "execution": {
     "iopub.execute_input": "2023-09-13T03:36:48.234614Z",
     "iopub.status.busy": "2023-09-13T03:36:48.234614Z",
     "iopub.status.idle": "2023-09-13T03:36:48.411478Z",
     "shell.execute_reply": "2023-09-13T03:36:48.410492Z",
     "shell.execute_reply.started": "2023-09-13T03:36:48.234614Z"
    },
    "tags": []
   },
   "outputs": [
    {
     "data": {
      "text/html": [
       "<div>\n",
       "<style scoped>\n",
       "    .dataframe tbody tr th:only-of-type {\n",
       "        vertical-align: middle;\n",
       "    }\n",
       "\n",
       "    .dataframe tbody tr th {\n",
       "        vertical-align: top;\n",
       "    }\n",
       "\n",
       "    .dataframe thead th {\n",
       "        text-align: right;\n",
       "    }\n",
       "</style>\n",
       "<table border=\"1\" class=\"dataframe\">\n",
       "  <thead>\n",
       "    <tr style=\"text-align: right;\">\n",
       "      <th></th>\n",
       "      <th>MAPE</th>\n",
       "      <th>RMSE</th>\n",
       "      <th>R2</th>\n",
       "    </tr>\n",
       "  </thead>\n",
       "  <tbody>\n",
       "    <tr>\n",
       "      <th>0</th>\n",
       "      <td>0.030635</td>\n",
       "      <td>16.808339</td>\n",
       "      <td>0.916341</td>\n",
       "    </tr>\n",
       "    <tr>\n",
       "      <th>1</th>\n",
       "      <td>0.078622</td>\n",
       "      <td>35.151158</td>\n",
       "      <td>0.679614</td>\n",
       "    </tr>\n",
       "  </tbody>\n",
       "</table>\n",
       "</div>"
      ],
      "text/plain": [
       "       MAPE       RMSE        R2\n",
       "0  0.030635  16.808339  0.916341\n",
       "1  0.078622  35.151158  0.679614"
      ]
     },
     "execution_count": 178,
     "metadata": {},
     "output_type": "execute_result"
    }
   ],
   "source": [
    "# %%\n",
    "# Prediction & Validation\n",
    "\n",
    "# Train set\n",
    "y_predict_train = RF_model.predict(X_train)\n",
    "table_train = pd.DataFrame({\n",
    "    \"Predict\" : y_predict_train,\n",
    "    \"EXP\" : y_train,\n",
    "})\n",
    "#from sklearn.metrics import mean_absolute_percentage_error, mean_squared_error, r2_score\n",
    "mape_train = mean_absolute_percentage_error(y_train, y_predict_train)\n",
    "rmse_train = np.sqrt(mean_squared_error(y_train, y_predict_train))\n",
    "R2_train = r2_score(y_train, y_predict_train)\n",
    "\n",
    "# Test set\n",
    "y_predict_test = RF_model.predict(X_test)\n",
    "mape_test = mean_absolute_percentage_error(y_test, y_predict_test)\n",
    "rmse_test = np.sqrt(mean_squared_error(y_test, y_predict_test))\n",
    "R2_test = r2_score(y_test, y_predict_test)\n",
    "\n",
    "# Total set\n",
    "#y_predict_total = RF_model.predict(X_data)\n",
    "#mape_total = mean_absolute_percentage_error(Y_data, y_predict_total)\n",
    "#rmse_total = np.sqrt(mean_squared_error(Y_data, y_predict_total))\n",
    "#R2_total = r2_score(Y_data, y_predict_total)\n",
    "\n",
    "# Table Score\n",
    "Morgan_fp__ML_RF = pd.DataFrame()\n",
    "data = {\n",
    "        \"MAPE\":[mape_train, mape_test],\n",
    "        \"RMSE\":[rmse_train, rmse_test],\n",
    "        \"R2\"  :[R2_train, R2_test]\n",
    "    }\n",
    "Morgan_fp__ML_RF = pd.DataFrame(data)\n",
    "#Morgan_fp__ML_RF.to_csv('560 Morgan_fp ML-RF.csv', index=False)\n",
    "Morgan_fp__ML_RF"
   ]
  },
  {
   "cell_type": "code",
   "execution_count": 179,
   "id": "9e89be78-68db-45cb-b7bb-ad624baabf0a",
   "metadata": {
    "execution": {
     "iopub.execute_input": "2023-09-13T03:36:48.413480Z",
     "iopub.status.busy": "2023-09-13T03:36:48.413480Z",
     "iopub.status.idle": "2023-09-13T03:36:48.899514Z",
     "shell.execute_reply": "2023-09-13T03:36:48.898514Z",
     "shell.execute_reply.started": "2023-09-13T03:36:48.413480Z"
    },
    "tags": []
   },
   "outputs": [
    {
     "data": {
      "image/png": "[encoded data removed]",
      "text/plain": [
       "<Figure size 640x480 with 1 Axes>"
      ]
     },
     "metadata": {},
     "output_type": "display_data"
    }
   ],
   "source": [
    "# %%\n",
    "# Visualization\n",
    "\n",
    "p1=sn.regplot(x=y_predict_train, y=y_train,line_kws={\"lw\":1,'ls':'--','color':'black',\"alpha\":0.9})\n",
    "plt.xlabel('Predicted Tb', color='blue')\n",
    "plt.ylabel('Observed Tb', color ='blue')\n",
    "plt.title(\"Test set\", color='red')\n",
    "plt.grid(alpha=0.6)"
   ]
  },
  {
   "cell_type": "markdown",
   "id": "c686b3a7-d73e-4f51-9a80-59b09504066b",
   "metadata": {
    "jp-MarkdownHeadingCollapsed": true,
    "tags": []
   },
   "source": [
    "# Morgan_fp k-fold+RF"
   ]
  },
  {
   "cell_type": "markdown",
   "id": "04afaf55-4ebf-41ee-900a-d13096e2d2b4",
   "metadata": {
    "jp-MarkdownHeadingCollapsed": true,
    "tags": []
   },
   "source": [
    "# Morgan_fp SVM-LinearSVR"
   ]
  },
  {
   "cell_type": "code",
   "execution_count": 200,
   "id": "d1e94faf-b352-415a-8c4d-599920679ef3",
   "metadata": {
    "execution": {
     "iopub.execute_input": "2023-09-13T03:55:13.292597Z",
     "iopub.status.busy": "2023-09-13T03:55:13.292597Z",
     "iopub.status.idle": "2023-09-13T03:55:13.480509Z",
     "shell.execute_reply": "2023-09-13T03:55:13.480509Z",
     "shell.execute_reply.started": "2023-09-13T03:55:13.292597Z"
    },
    "tags": []
   },
   "outputs": [
    {
     "data": {
      "text/html": [
       "<style>#sk-container-id-23 {color: black;}#sk-container-id-23 pre{padding: 0;}#sk-container-id-23 div.sk-toggleable {background-color: white;}#sk-container-id-23 label.sk-toggleable__label {cursor: pointer;display: block;width: 100%;margin-bottom: 0;padding: 0.3em;box-sizing: border-box;text-align: center;}#sk-container-id-23 label.sk-toggleable__label-arrow:before {content: \"▸\";float: left;margin-right: 0.25em;color: #696969;}#sk-container-id-23 label.sk-toggleable__label-arrow:hover:before {color: black;}#sk-container-id-23 div.sk-estimator:hover label.sk-toggleable__label-arrow:before {color: black;}#sk-container-id-23 div.sk-toggleable__content {max-height: 0;max-width: 0;overflow: hidden;text-align: left;background-color: #f0f8ff;}#sk-container-id-23 div.sk-toggleable__content pre {margin: 0.2em;color: black;border-radius: 0.25em;background-color: #f0f8ff;}#sk-container-id-23 input.sk-toggleable__control:checked~div.sk-toggleable__content {max-height: 200px;max-width: 100%;overflow: auto;}#sk-container-id-23 input.sk-toggleable__control:checked~label.sk-toggleable__label-arrow:before {content: \"▾\";}#sk-container-id-23 div.sk-estimator input.sk-toggleable__control:checked~label.sk-toggleable__label {background-color: #d4ebff;}#sk-container-id-23 div.sk-label input.sk-toggleable__control:checked~label.sk-toggleable__label {background-color: #d4ebff;}#sk-container-id-23 input.sk-hidden--visually {border: 0;clip: rect(1px 1px 1px 1px);clip: rect(1px, 1px, 1px, 1px);height: 1px;margin: -1px;overflow: hidden;padding: 0;position: absolute;width: 1px;}#sk-container-id-23 div.sk-estimator {font-family: monospace;background-color: #f0f8ff;border: 1px dotted black;border-radius: 0.25em;box-sizing: border-box;margin-bottom: 0.5em;}#sk-container-id-23 div.sk-estimator:hover {background-color: #d4ebff;}#sk-container-id-23 div.sk-parallel-item::after {content: \"\";width: 100%;border-bottom: 1px solid gray;flex-grow: 1;}#sk-container-id-23 div.sk-label:hover label.sk-toggleable__label {background-color: #d4ebff;}#sk-container-id-23 div.sk-serial::before {content: \"\";position: absolute;border-left: 1px solid gray;box-sizing: border-box;top: 0;bottom: 0;left: 50%;z-index: 0;}#sk-container-id-23 div.sk-serial {display: flex;flex-direction: column;align-items: center;background-color: white;padding-right: 0.2em;padding-left: 0.2em;position: relative;}#sk-container-id-23 div.sk-item {position: relative;z-index: 1;}#sk-container-id-23 div.sk-parallel {display: flex;align-items: stretch;justify-content: center;background-color: white;position: relative;}#sk-container-id-23 div.sk-item::before, #sk-container-id-23 div.sk-parallel-item::before {content: \"\";position: absolute;border-left: 1px solid gray;box-sizing: border-box;top: 0;bottom: 0;left: 50%;z-index: -1;}#sk-container-id-23 div.sk-parallel-item {display: flex;flex-direction: column;z-index: 1;position: relative;background-color: white;}#sk-container-id-23 div.sk-parallel-item:first-child::after {align-self: flex-end;width: 50%;}#sk-container-id-23 div.sk-parallel-item:last-child::after {align-self: flex-start;width: 50%;}#sk-container-id-23 div.sk-parallel-item:only-child::after {width: 0;}#sk-container-id-23 div.sk-dashed-wrapped {border: 1px dashed gray;margin: 0 0.4em 0.5em 0.4em;box-sizing: border-box;padding-bottom: 0.4em;background-color: white;}#sk-container-id-23 div.sk-label label {font-family: monospace;font-weight: bold;display: inline-block;line-height: 1.2em;}#sk-container-id-23 div.sk-label-container {text-align: center;}#sk-container-id-23 div.sk-container {/* jupyter's `normalize.less` sets `[hidden] { display: none; }` but bootstrap.min.css set `[hidden] { display: none !important; }` so we also need the `!important` here to be able to override the default hidden behavior on the sphinx rendered scikit-learn.org. See: https://github.com/scikit-learn/scikit-learn/issues/21755 */display: inline-block !important;position: relative;}#sk-container-id-23 div.sk-text-repr-fallback {display: none;}</style><div id=\"sk-container-id-23\" class=\"sk-top-container\"><div class=\"sk-text-repr-fallback\"><pre>Pipeline(steps=[(&#x27;standardscaler&#x27;, StandardScaler()),\n",
       "                (&#x27;linearsvr&#x27;,\n",
       "                 LinearSVR(dual=&#x27;auto&#x27;, random_state=0, tol=1e-05))])</pre><b>In a Jupyter environment, please rerun this cell to show the HTML representation or trust the notebook. <br />On GitHub, the HTML representation is unable to render, please try loading this page with nbviewer.org.</b></div><div class=\"sk-container\" hidden><div class=\"sk-item sk-dashed-wrapped\"><div class=\"sk-label-container\"><div class=\"sk-label sk-toggleable\"><input class=\"sk-toggleable__control sk-hidden--visually\" id=\"sk-estimator-id-33\" type=\"checkbox\" ><label for=\"sk-estimator-id-33\" class=\"sk-toggleable__label sk-toggleable__label-arrow\">Pipeline</label><div class=\"sk-toggleable__content\"><pre>Pipeline(steps=[(&#x27;standardscaler&#x27;, StandardScaler()),\n",
       "                (&#x27;linearsvr&#x27;,\n",
       "                 LinearSVR(dual=&#x27;auto&#x27;, random_state=0, tol=1e-05))])</pre></div></div></div><div class=\"sk-serial\"><div class=\"sk-item\"><div class=\"sk-estimator sk-toggleable\"><input class=\"sk-toggleable__control sk-hidden--visually\" id=\"sk-estimator-id-34\" type=\"checkbox\" ><label for=\"sk-estimator-id-34\" class=\"sk-toggleable__label sk-toggleable__label-arrow\">StandardScaler</label><div class=\"sk-toggleable__content\"><pre>StandardScaler()</pre></div></div></div><div class=\"sk-item\"><div class=\"sk-estimator sk-toggleable\"><input class=\"sk-toggleable__control sk-hidden--visually\" id=\"sk-estimator-id-35\" type=\"checkbox\" ><label for=\"sk-estimator-id-35\" class=\"sk-toggleable__label sk-toggleable__label-arrow\">LinearSVR</label><div class=\"sk-toggleable__content\"><pre>LinearSVR(dual=&#x27;auto&#x27;, random_state=0, tol=1e-05)</pre></div></div></div></div></div></div></div>"
      ],
      "text/plain": [
       "Pipeline(steps=[('standardscaler', StandardScaler()),\n",
       "                ('linearsvr',\n",
       "                 LinearSVR(dual='auto', random_state=0, tol=1e-05))])"
      ]
     },
     "execution_count": 200,
     "metadata": {},
     "output_type": "execute_result"
    }
   ],
   "source": [
    "# %%\n",
    "# Modeling\n",
    "\n",
    "from sklearn.svm import LinearSVR\n",
    "from sklearn.pipeline import make_pipeline\n",
    "from sklearn.preprocessing import StandardScaler\n",
    "\n",
    "SVM_regr_model = make_pipeline(StandardScaler(),\n",
    "                               LinearSVR(dual=\"auto\", random_state=0, tol=1e-5))\n",
    "SVM_regr_model.fit(X_train, y_train)"
   ]
  },
  {
   "cell_type": "code",
   "execution_count": 201,
   "id": "45cd14c1-2c42-45b9-875b-7d0db1a9ad24",
   "metadata": {
    "execution": {
     "iopub.execute_input": "2023-09-13T03:55:13.480509Z",
     "iopub.status.busy": "2023-09-13T03:55:13.480509Z",
     "iopub.status.idle": "2023-09-13T03:55:13.559134Z",
     "shell.execute_reply": "2023-09-13T03:55:13.559134Z",
     "shell.execute_reply.started": "2023-09-13T03:55:13.480509Z"
    },
    "tags": []
   },
   "outputs": [],
   "source": [
    "# %%\n",
    "# Prediction & Validation\n",
    "\n",
    "# Train set\n",
    "y_predict_train = SVM_regr_model.predict(X_train)\n",
    "\n",
    "#from sklearn.metrics import mean_absolute_percentage_error, mean_squared_error, r2_score\n",
    "mape_train = mean_absolute_percentage_error(y_train, y_predict_train)\n",
    "rmse_train = np.sqrt(mean_squared_error(y_train, y_predict_train))\n",
    "R2_train = r2_score(y_train, y_predict_train)\n",
    "\n",
    "# Test set\n",
    "y_predict_test = SVM_regr_model.predict(X_test)\n",
    "mape_test = mean_absolute_percentage_error(y_test, y_predict_test)\n",
    "rmse_test = np.sqrt(mean_squared_error(y_test, y_predict_test))\n",
    "R2_test = r2_score(y_test, y_predict_test)\n",
    "\n",
    "# Total set\n",
    "#y_predict_total = SVM_regr_model.predict(X_data)\n",
    "#mape_total = mean_absolute_percentage_error(Y_data, y_predict_total)\n",
    "#rmse_total = np.sqrt(mean_squared_error(Y_data, y_predict_total))\n",
    "#R2_total = r2_score(Y_data, y_predict_total)"
   ]
  },
  {
   "cell_type": "code",
   "execution_count": 202,
   "id": "8a8126fd-0e71-4f1b-a7a2-354fedddefae",
   "metadata": {
    "execution": {
     "iopub.execute_input": "2023-09-13T03:55:13.561134Z",
     "iopub.status.busy": "2023-09-13T03:55:13.560132Z",
     "iopub.status.idle": "2023-09-13T03:55:13.642461Z",
     "shell.execute_reply": "2023-09-13T03:55:13.642461Z",
     "shell.execute_reply.started": "2023-09-13T03:55:13.561134Z"
    },
    "tags": []
   },
   "outputs": [
    {
     "data": {
      "text/html": [
       "<div>\n",
       "<style scoped>\n",
       "    .dataframe tbody tr th:only-of-type {\n",
       "        vertical-align: middle;\n",
       "    }\n",
       "\n",
       "    .dataframe tbody tr th {\n",
       "        vertical-align: top;\n",
       "    }\n",
       "\n",
       "    .dataframe thead th {\n",
       "        text-align: right;\n",
       "    }\n",
       "</style>\n",
       "<table border=\"1\" class=\"dataframe\">\n",
       "  <thead>\n",
       "    <tr style=\"text-align: right;\">\n",
       "      <th></th>\n",
       "      <th>MAPE</th>\n",
       "      <th>RMSE</th>\n",
       "      <th>R2</th>\n",
       "    </tr>\n",
       "  </thead>\n",
       "  <tbody>\n",
       "    <tr>\n",
       "      <th>0</th>\n",
       "      <td>0.040732</td>\n",
       "      <td>33.243439</td>\n",
       "      <td>0.672754</td>\n",
       "    </tr>\n",
       "    <tr>\n",
       "      <th>1</th>\n",
       "      <td>0.075251</td>\n",
       "      <td>39.015267</td>\n",
       "      <td>0.605304</td>\n",
       "    </tr>\n",
       "  </tbody>\n",
       "</table>\n",
       "</div>"
      ],
      "text/plain": [
       "       MAPE       RMSE        R2\n",
       "0  0.040732  33.243439  0.672754\n",
       "1  0.075251  39.015267  0.605304"
      ]
     },
     "execution_count": 202,
     "metadata": {},
     "output_type": "execute_result"
    }
   ],
   "source": [
    "# Table Score\n",
    "table_train = pd.DataFrame({\n",
    "    \"Predict\" : y_predict_train,\n",
    "    \"EXP\" : y_train,\n",
    "})\n",
    "\n",
    "Morgan_fp__ML_RF = pd.DataFrame()\n",
    "data = {\n",
    "        \"MAPE\":[mape_train, mape_test],\n",
    "        \"RMSE\":[rmse_train, rmse_test],\n",
    "        \"R2\"  :[R2_train, R2_test]\n",
    "    }\n",
    "Morgan_fp__ML_SVR = pd.DataFrame(data)\n",
    "#Morgan_fp__ML_RF.to_csv('560 Morgan_fp ML-RF.csv', index=False)\n",
    "Morgan_fp__ML_SVR"
   ]
  },
  {
   "cell_type": "code",
   "execution_count": 203,
   "id": "86f1a15b-e404-45fb-afd7-4793acbb11e5",
   "metadata": {
    "execution": {
     "iopub.execute_input": "2023-09-13T03:55:13.645895Z",
     "iopub.status.busy": "2023-09-13T03:55:13.644898Z",
     "iopub.status.idle": "2023-09-13T03:55:14.284105Z",
     "shell.execute_reply": "2023-09-13T03:55:14.284105Z",
     "shell.execute_reply.started": "2023-09-13T03:55:13.645895Z"
    },
    "tags": []
   },
   "outputs": [
    {
     "data": {
      "image/png": "[encoded data removed]",
      "text/plain": [
       "<Figure size 640x480 with 1 Axes>"
      ]
     },
     "metadata": {},
     "output_type": "display_data"
    }
   ],
   "source": [
    "# %%\n",
    "# Visualization\n",
    "\n",
    "p1=sn.regplot(x=y_predict_train, y=y_train,line_kws={\"lw\":1,'ls':'--','color':'black',\"alpha\":0.9})\n",
    "plt.xlabel('Predicted Tb', color='blue')\n",
    "plt.ylabel('Observed Tb', color ='blue')\n",
    "plt.title(\"Test set\", color='red')\n",
    "plt.grid(alpha=0.6)"
   ]
  },
  {
   "cell_type": "code",
   "execution_count": null,
   "id": "615184b4-8f9b-4091-80dc-7466e6282070",
   "metadata": {},
   "outputs": [],
   "source": []
  },
  {
   "cell_type": "markdown",
   "id": "12620d23-991d-4d67-bbab-648b32061bf6",
   "metadata": {
    "jp-MarkdownHeadingCollapsed": true,
    "tags": []
   },
   "source": [
    "# Morgan_fp SVM-NuSVR"
   ]
  },
  {
   "cell_type": "code",
   "execution_count": 204,
   "id": "9c51a17e-92ec-445b-b329-19ae2f3d6a8d",
   "metadata": {
    "execution": {
     "iopub.execute_input": "2023-09-13T03:55:14.284105Z",
     "iopub.status.busy": "2023-09-13T03:55:14.284105Z",
     "iopub.status.idle": "2023-09-13T03:55:14.396367Z",
     "shell.execute_reply": "2023-09-13T03:55:14.396367Z",
     "shell.execute_reply.started": "2023-09-13T03:55:14.284105Z"
    },
    "tags": []
   },
   "outputs": [
    {
     "data": {
      "text/html": [
       "<style>#sk-container-id-24 {color: black;}#sk-container-id-24 pre{padding: 0;}#sk-container-id-24 div.sk-toggleable {background-color: white;}#sk-container-id-24 label.sk-toggleable__label {cursor: pointer;display: block;width: 100%;margin-bottom: 0;padding: 0.3em;box-sizing: border-box;text-align: center;}#sk-container-id-24 label.sk-toggleable__label-arrow:before {content: \"▸\";float: left;margin-right: 0.25em;color: #696969;}#sk-container-id-24 label.sk-toggleable__label-arrow:hover:before {color: black;}#sk-container-id-24 div.sk-estimator:hover label.sk-toggleable__label-arrow:before {color: black;}#sk-container-id-24 div.sk-toggleable__content {max-height: 0;max-width: 0;overflow: hidden;text-align: left;background-color: #f0f8ff;}#sk-container-id-24 div.sk-toggleable__content pre {margin: 0.2em;color: black;border-radius: 0.25em;background-color: #f0f8ff;}#sk-container-id-24 input.sk-toggleable__control:checked~div.sk-toggleable__content {max-height: 200px;max-width: 100%;overflow: auto;}#sk-container-id-24 input.sk-toggleable__control:checked~label.sk-toggleable__label-arrow:before {content: \"▾\";}#sk-container-id-24 div.sk-estimator input.sk-toggleable__control:checked~label.sk-toggleable__label {background-color: #d4ebff;}#sk-container-id-24 div.sk-label input.sk-toggleable__control:checked~label.sk-toggleable__label {background-color: #d4ebff;}#sk-container-id-24 input.sk-hidden--visually {border: 0;clip: rect(1px 1px 1px 1px);clip: rect(1px, 1px, 1px, 1px);height: 1px;margin: -1px;overflow: hidden;padding: 0;position: absolute;width: 1px;}#sk-container-id-24 div.sk-estimator {font-family: monospace;background-color: #f0f8ff;border: 1px dotted black;border-radius: 0.25em;box-sizing: border-box;margin-bottom: 0.5em;}#sk-container-id-24 div.sk-estimator:hover {background-color: #d4ebff;}#sk-container-id-24 div.sk-parallel-item::after {content: \"\";width: 100%;border-bottom: 1px solid gray;flex-grow: 1;}#sk-container-id-24 div.sk-label:hover label.sk-toggleable__label {background-color: #d4ebff;}#sk-container-id-24 div.sk-serial::before {content: \"\";position: absolute;border-left: 1px solid gray;box-sizing: border-box;top: 0;bottom: 0;left: 50%;z-index: 0;}#sk-container-id-24 div.sk-serial {display: flex;flex-direction: column;align-items: center;background-color: white;padding-right: 0.2em;padding-left: 0.2em;position: relative;}#sk-container-id-24 div.sk-item {position: relative;z-index: 1;}#sk-container-id-24 div.sk-parallel {display: flex;align-items: stretch;justify-content: center;background-color: white;position: relative;}#sk-container-id-24 div.sk-item::before, #sk-container-id-24 div.sk-parallel-item::before {content: \"\";position: absolute;border-left: 1px solid gray;box-sizing: border-box;top: 0;bottom: 0;left: 50%;z-index: -1;}#sk-container-id-24 div.sk-parallel-item {display: flex;flex-direction: column;z-index: 1;position: relative;background-color: white;}#sk-container-id-24 div.sk-parallel-item:first-child::after {align-self: flex-end;width: 50%;}#sk-container-id-24 div.sk-parallel-item:last-child::after {align-self: flex-start;width: 50%;}#sk-container-id-24 div.sk-parallel-item:only-child::after {width: 0;}#sk-container-id-24 div.sk-dashed-wrapped {border: 1px dashed gray;margin: 0 0.4em 0.5em 0.4em;box-sizing: border-box;padding-bottom: 0.4em;background-color: white;}#sk-container-id-24 div.sk-label label {font-family: monospace;font-weight: bold;display: inline-block;line-height: 1.2em;}#sk-container-id-24 div.sk-label-container {text-align: center;}#sk-container-id-24 div.sk-container {/* jupyter's `normalize.less` sets `[hidden] { display: none; }` but bootstrap.min.css set `[hidden] { display: none !important; }` so we also need the `!important` here to be able to override the default hidden behavior on the sphinx rendered scikit-learn.org. See: https://github.com/scikit-learn/scikit-learn/issues/21755 */display: inline-block !important;position: relative;}#sk-container-id-24 div.sk-text-repr-fallback {display: none;}</style><div id=\"sk-container-id-24\" class=\"sk-top-container\"><div class=\"sk-text-repr-fallback\"><pre>Pipeline(steps=[(&#x27;standardscaler&#x27;, StandardScaler()), (&#x27;nusvr&#x27;, NuSVR(nu=0.1))])</pre><b>In a Jupyter environment, please rerun this cell to show the HTML representation or trust the notebook. <br />On GitHub, the HTML representation is unable to render, please try loading this page with nbviewer.org.</b></div><div class=\"sk-container\" hidden><div class=\"sk-item sk-dashed-wrapped\"><div class=\"sk-label-container\"><div class=\"sk-label sk-toggleable\"><input class=\"sk-toggleable__control sk-hidden--visually\" id=\"sk-estimator-id-36\" type=\"checkbox\" ><label for=\"sk-estimator-id-36\" class=\"sk-toggleable__label sk-toggleable__label-arrow\">Pipeline</label><div class=\"sk-toggleable__content\"><pre>Pipeline(steps=[(&#x27;standardscaler&#x27;, StandardScaler()), (&#x27;nusvr&#x27;, NuSVR(nu=0.1))])</pre></div></div></div><div class=\"sk-serial\"><div class=\"sk-item\"><div class=\"sk-estimator sk-toggleable\"><input class=\"sk-toggleable__control sk-hidden--visually\" id=\"sk-estimator-id-37\" type=\"checkbox\" ><label for=\"sk-estimator-id-37\" class=\"sk-toggleable__label sk-toggleable__label-arrow\">StandardScaler</label><div class=\"sk-toggleable__content\"><pre>StandardScaler()</pre></div></div></div><div class=\"sk-item\"><div class=\"sk-estimator sk-toggleable\"><input class=\"sk-toggleable__control sk-hidden--visually\" id=\"sk-estimator-id-38\" type=\"checkbox\" ><label for=\"sk-estimator-id-38\" class=\"sk-toggleable__label sk-toggleable__label-arrow\">NuSVR</label><div class=\"sk-toggleable__content\"><pre>NuSVR(nu=0.1)</pre></div></div></div></div></div></div></div>"
      ],
      "text/plain": [
       "Pipeline(steps=[('standardscaler', StandardScaler()), ('nusvr', NuSVR(nu=0.1))])"
      ]
     },
     "execution_count": 204,
     "metadata": {},
     "output_type": "execute_result"
    }
   ],
   "source": [
    "# %%\n",
    "# Modeling\n",
    "\n",
    "from sklearn.svm import NuSVR\n",
    "from sklearn.pipeline import make_pipeline\n",
    "from sklearn.preprocessing import StandardScaler\n",
    "\n",
    "SVM_regr_model = make_pipeline(StandardScaler(), NuSVR(C=1.0, nu=0.1))\n",
    "SVM_regr_model.fit(X_train, y_train)"
   ]
  },
  {
   "cell_type": "code",
   "execution_count": 205,
   "id": "58de6368-72cb-4232-9450-ca8063bbfe4f",
   "metadata": {
    "execution": {
     "iopub.execute_input": "2023-09-13T03:55:14.399145Z",
     "iopub.status.busy": "2023-09-13T03:55:14.396367Z",
     "iopub.status.idle": "2023-09-13T03:55:14.497402Z",
     "shell.execute_reply": "2023-09-13T03:55:14.497402Z",
     "shell.execute_reply.started": "2023-09-13T03:55:14.396367Z"
    },
    "tags": []
   },
   "outputs": [],
   "source": [
    "# %%\n",
    "# Prediction & Validation\n",
    "\n",
    "# Train set\n",
    "y_predict_train = SVM_regr_model.predict(X_train)\n",
    "\n",
    "#from sklearn.metrics import mean_absolute_percentage_error, mean_squared_error, r2_score\n",
    "mape_train = mean_absolute_percentage_error(y_train, y_predict_train)\n",
    "rmse_train = np.sqrt(mean_squared_error(y_train, y_predict_train))\n",
    "R2_train = r2_score(y_train, y_predict_train)\n",
    "\n",
    "# Test set\n",
    "y_predict_test = SVM_regr_model.predict(X_test)\n",
    "mape_test = mean_absolute_percentage_error(y_test, y_predict_test)\n",
    "rmse_test = np.sqrt(mean_squared_error(y_test, y_predict_test))\n",
    "R2_test = r2_score(y_test, y_predict_test)\n",
    "\n",
    "# Total set\n",
    "#y_predict_total = SVM_regr_model.predict(X_data)\n",
    "#mape_total = mean_absolute_percentage_error(Y_data, y_predict_total)\n",
    "#rmse_total = np.sqrt(mean_squared_error(Y_data, y_predict_total))\n",
    "#R2_total = r2_score(Y_data, y_predict_total)"
   ]
  },
  {
   "cell_type": "code",
   "execution_count": 206,
   "id": "a5395ac5-3993-4a7b-ada2-638184697ceb",
   "metadata": {
    "execution": {
     "iopub.execute_input": "2023-09-13T03:55:14.499401Z",
     "iopub.status.busy": "2023-09-13T03:55:14.498402Z",
     "iopub.status.idle": "2023-09-13T03:55:14.562346Z",
     "shell.execute_reply": "2023-09-13T03:55:14.562346Z",
     "shell.execute_reply.started": "2023-09-13T03:55:14.499401Z"
    },
    "tags": []
   },
   "outputs": [
    {
     "data": {
      "text/html": [
       "<div>\n",
       "<style scoped>\n",
       "    .dataframe tbody tr th:only-of-type {\n",
       "        vertical-align: middle;\n",
       "    }\n",
       "\n",
       "    .dataframe tbody tr th {\n",
       "        vertical-align: top;\n",
       "    }\n",
       "\n",
       "    .dataframe thead th {\n",
       "        text-align: right;\n",
       "    }\n",
       "</style>\n",
       "<table border=\"1\" class=\"dataframe\">\n",
       "  <thead>\n",
       "    <tr style=\"text-align: right;\">\n",
       "      <th></th>\n",
       "      <th>MAPE</th>\n",
       "      <th>RMSE</th>\n",
       "      <th>R2</th>\n",
       "    </tr>\n",
       "  </thead>\n",
       "  <tbody>\n",
       "    <tr>\n",
       "      <th>0</th>\n",
       "      <td>0.120649</td>\n",
       "      <td>56.430350</td>\n",
       "      <td>0.057050</td>\n",
       "    </tr>\n",
       "    <tr>\n",
       "      <th>1</th>\n",
       "      <td>0.138968</td>\n",
       "      <td>60.333668</td>\n",
       "      <td>0.056128</td>\n",
       "    </tr>\n",
       "  </tbody>\n",
       "</table>\n",
       "</div>"
      ],
      "text/plain": [
       "       MAPE       RMSE        R2\n",
       "0  0.120649  56.430350  0.057050\n",
       "1  0.138968  60.333668  0.056128"
      ]
     },
     "execution_count": 206,
     "metadata": {},
     "output_type": "execute_result"
    }
   ],
   "source": [
    "# Table Score\n",
    "table_train = pd.DataFrame({\n",
    "    \"Predict\" : y_predict_train,\n",
    "    \"EXP\" : y_train,\n",
    "})\n",
    "\n",
    "Morgan_fp__ML_RF = pd.DataFrame()\n",
    "data = {\n",
    "        \"MAPE\":[mape_train, mape_test],\n",
    "        \"RMSE\":[rmse_train, rmse_test],\n",
    "        \"R2\"  :[R2_train, R2_test]\n",
    "    }\n",
    "Morgan_fp__ML_SVR = pd.DataFrame(data)\n",
    "#Morgan_fp__ML_RF.to_csv('560 Morgan_fp ML-RF.csv', index=False)\n",
    "Morgan_fp__ML_SVR"
   ]
  },
  {
   "cell_type": "code",
   "execution_count": 207,
   "id": "97c079e0-dc11-4fbb-9f72-3fe580a3971a",
   "metadata": {
    "execution": {
     "iopub.execute_input": "2023-09-13T03:55:14.564349Z",
     "iopub.status.busy": "2023-09-13T03:55:14.564349Z",
     "iopub.status.idle": "2023-09-13T03:55:15.134510Z",
     "shell.execute_reply": "2023-09-13T03:55:15.134510Z",
     "shell.execute_reply.started": "2023-09-13T03:55:14.564349Z"
    },
    "tags": []
   },
   "outputs": [
    {
     "data": {
      "image/png": "[encoded data removed]",
      "text/plain": [
       "<Figure size 640x480 with 1 Axes>"
      ]
     },
     "metadata": {},
     "output_type": "display_data"
    }
   ],
   "source": [
    "# %%\n",
    "# Visualization\n",
    "\n",
    "p1=sn.regplot(x=y_predict_train, y=y_train,line_kws={\"lw\":1,'ls':'--','color':'black',\"alpha\":0.9})\n",
    "plt.xlabel('Predicted Tb', color='blue')\n",
    "plt.ylabel('Observed Tb', color ='blue')\n",
    "plt.title(\"Test set\", color='red')\n",
    "plt.grid(alpha=0.6)"
   ]
  },
  {
   "cell_type": "code",
   "execution_count": null,
   "id": "72635a12-7fe9-4fb9-b13e-df38a562bab8",
   "metadata": {},
   "outputs": [],
   "source": []
  },
  {
   "cell_type": "code",
   "execution_count": null,
   "id": "be29db43-519d-4ef6-b46b-dfc29650a73b",
   "metadata": {},
   "outputs": [],
   "source": []
  },
  {
   "cell_type": "markdown",
   "id": "2a13effe-c184-482a-9a8b-8cc56b7d7cc6",
   "metadata": {
    "jp-MarkdownHeadingCollapsed": true,
    "tags": []
   },
   "source": [
    "# Morgan_fp SVM-SVR"
   ]
  },
  {
   "cell_type": "code",
   "execution_count": 208,
   "id": "4c1ad6c4-c2a9-4769-9e5e-4c5c96db09d1",
   "metadata": {
    "execution": {
     "iopub.execute_input": "2023-09-13T03:55:15.136512Z",
     "iopub.status.busy": "2023-09-13T03:55:15.136512Z",
     "iopub.status.idle": "2023-09-13T03:55:15.425950Z",
     "shell.execute_reply": "2023-09-13T03:55:15.425950Z",
     "shell.execute_reply.started": "2023-09-13T03:55:15.136512Z"
    },
    "tags": []
   },
   "outputs": [
    {
     "data": {
      "text/html": [
       "<style>#sk-container-id-25 {color: black;}#sk-container-id-25 pre{padding: 0;}#sk-container-id-25 div.sk-toggleable {background-color: white;}#sk-container-id-25 label.sk-toggleable__label {cursor: pointer;display: block;width: 100%;margin-bottom: 0;padding: 0.3em;box-sizing: border-box;text-align: center;}#sk-container-id-25 label.sk-toggleable__label-arrow:before {content: \"▸\";float: left;margin-right: 0.25em;color: #696969;}#sk-container-id-25 label.sk-toggleable__label-arrow:hover:before {color: black;}#sk-container-id-25 div.sk-estimator:hover label.sk-toggleable__label-arrow:before {color: black;}#sk-container-id-25 div.sk-toggleable__content {max-height: 0;max-width: 0;overflow: hidden;text-align: left;background-color: #f0f8ff;}#sk-container-id-25 div.sk-toggleable__content pre {margin: 0.2em;color: black;border-radius: 0.25em;background-color: #f0f8ff;}#sk-container-id-25 input.sk-toggleable__control:checked~div.sk-toggleable__content {max-height: 200px;max-width: 100%;overflow: auto;}#sk-container-id-25 input.sk-toggleable__control:checked~label.sk-toggleable__label-arrow:before {content: \"▾\";}#sk-container-id-25 div.sk-estimator input.sk-toggleable__control:checked~label.sk-toggleable__label {background-color: #d4ebff;}#sk-container-id-25 div.sk-label input.sk-toggleable__control:checked~label.sk-toggleable__label {background-color: #d4ebff;}#sk-container-id-25 input.sk-hidden--visually {border: 0;clip: rect(1px 1px 1px 1px);clip: rect(1px, 1px, 1px, 1px);height: 1px;margin: -1px;overflow: hidden;padding: 0;position: absolute;width: 1px;}#sk-container-id-25 div.sk-estimator {font-family: monospace;background-color: #f0f8ff;border: 1px dotted black;border-radius: 0.25em;box-sizing: border-box;margin-bottom: 0.5em;}#sk-container-id-25 div.sk-estimator:hover {background-color: #d4ebff;}#sk-container-id-25 div.sk-parallel-item::after {content: \"\";width: 100%;border-bottom: 1px solid gray;flex-grow: 1;}#sk-container-id-25 div.sk-label:hover label.sk-toggleable__label {background-color: #d4ebff;}#sk-container-id-25 div.sk-serial::before {content: \"\";position: absolute;border-left: 1px solid gray;box-sizing: border-box;top: 0;bottom: 0;left: 50%;z-index: 0;}#sk-container-id-25 div.sk-serial {display: flex;flex-direction: column;align-items: center;background-color: white;padding-right: 0.2em;padding-left: 0.2em;position: relative;}#sk-container-id-25 div.sk-item {position: relative;z-index: 1;}#sk-container-id-25 div.sk-parallel {display: flex;align-items: stretch;justify-content: center;background-color: white;position: relative;}#sk-container-id-25 div.sk-item::before, #sk-container-id-25 div.sk-parallel-item::before {content: \"\";position: absolute;border-left: 1px solid gray;box-sizing: border-box;top: 0;bottom: 0;left: 50%;z-index: -1;}#sk-container-id-25 div.sk-parallel-item {display: flex;flex-direction: column;z-index: 1;position: relative;background-color: white;}#sk-container-id-25 div.sk-parallel-item:first-child::after {align-self: flex-end;width: 50%;}#sk-container-id-25 div.sk-parallel-item:last-child::after {align-self: flex-start;width: 50%;}#sk-container-id-25 div.sk-parallel-item:only-child::after {width: 0;}#sk-container-id-25 div.sk-dashed-wrapped {border: 1px dashed gray;margin: 0 0.4em 0.5em 0.4em;box-sizing: border-box;padding-bottom: 0.4em;background-color: white;}#sk-container-id-25 div.sk-label label {font-family: monospace;font-weight: bold;display: inline-block;line-height: 1.2em;}#sk-container-id-25 div.sk-label-container {text-align: center;}#sk-container-id-25 div.sk-container {/* jupyter's `normalize.less` sets `[hidden] { display: none; }` but bootstrap.min.css set `[hidden] { display: none !important; }` so we also need the `!important` here to be able to override the default hidden behavior on the sphinx rendered scikit-learn.org. See: https://github.com/scikit-learn/scikit-learn/issues/21755 */display: inline-block !important;position: relative;}#sk-container-id-25 div.sk-text-repr-fallback {display: none;}</style><div id=\"sk-container-id-25\" class=\"sk-top-container\"><div class=\"sk-text-repr-fallback\"><pre>Pipeline(steps=[(&#x27;standardscaler&#x27;, StandardScaler()),\n",
       "                (&#x27;svr&#x27;, SVR(epsilon=0.2))])</pre><b>In a Jupyter environment, please rerun this cell to show the HTML representation or trust the notebook. <br />On GitHub, the HTML representation is unable to render, please try loading this page with nbviewer.org.</b></div><div class=\"sk-container\" hidden><div class=\"sk-item sk-dashed-wrapped\"><div class=\"sk-label-container\"><div class=\"sk-label sk-toggleable\"><input class=\"sk-toggleable__control sk-hidden--visually\" id=\"sk-estimator-id-39\" type=\"checkbox\" ><label for=\"sk-estimator-id-39\" class=\"sk-toggleable__label sk-toggleable__label-arrow\">Pipeline</label><div class=\"sk-toggleable__content\"><pre>Pipeline(steps=[(&#x27;standardscaler&#x27;, StandardScaler()),\n",
       "                (&#x27;svr&#x27;, SVR(epsilon=0.2))])</pre></div></div></div><div class=\"sk-serial\"><div class=\"sk-item\"><div class=\"sk-estimator sk-toggleable\"><input class=\"sk-toggleable__control sk-hidden--visually\" id=\"sk-estimator-id-40\" type=\"checkbox\" ><label for=\"sk-estimator-id-40\" class=\"sk-toggleable__label sk-toggleable__label-arrow\">StandardScaler</label><div class=\"sk-toggleable__content\"><pre>StandardScaler()</pre></div></div></div><div class=\"sk-item\"><div class=\"sk-estimator sk-toggleable\"><input class=\"sk-toggleable__control sk-hidden--visually\" id=\"sk-estimator-id-41\" type=\"checkbox\" ><label for=\"sk-estimator-id-41\" class=\"sk-toggleable__label sk-toggleable__label-arrow\">SVR</label><div class=\"sk-toggleable__content\"><pre>SVR(epsilon=0.2)</pre></div></div></div></div></div></div></div>"
      ],
      "text/plain": [
       "Pipeline(steps=[('standardscaler', StandardScaler()),\n",
       "                ('svr', SVR(epsilon=0.2))])"
      ]
     },
     "execution_count": 208,
     "metadata": {},
     "output_type": "execute_result"
    }
   ],
   "source": [
    "# %%\n",
    "# Modeling\n",
    "\n",
    "from sklearn.svm import SVR\n",
    "from sklearn.pipeline import make_pipeline\n",
    "from sklearn.preprocessing import StandardScaler\n",
    "\n",
    "SVM_regr_model = make_pipeline(StandardScaler(), SVR(C=1.0, epsilon=0.2))\n",
    "SVM_regr_model.fit(X_train, y_train)"
   ]
  },
  {
   "cell_type": "code",
   "execution_count": 209,
   "id": "78f72582-de0b-4ba9-ab7d-3900a03483a3",
   "metadata": {
    "execution": {
     "iopub.execute_input": "2023-09-13T03:55:15.430210Z",
     "iopub.status.busy": "2023-09-13T03:55:15.429211Z",
     "iopub.status.idle": "2023-09-13T03:55:15.849160Z",
     "shell.execute_reply": "2023-09-13T03:55:15.849160Z",
     "shell.execute_reply.started": "2023-09-13T03:55:15.430210Z"
    },
    "tags": []
   },
   "outputs": [],
   "source": [
    "# %%\n",
    "# Prediction & Validation\n",
    "\n",
    "# Train set\n",
    "y_predict_train = SVM_regr_model.predict(X_train)\n",
    "\n",
    "#from sklearn.metrics import mean_absolute_percentage_error, mean_squared_error, r2_score\n",
    "mape_train = mean_absolute_percentage_error(y_train, y_predict_train)\n",
    "rmse_train = np.sqrt(mean_squared_error(y_train, y_predict_train))\n",
    "R2_train = r2_score(y_train, y_predict_train)\n",
    "\n",
    "# Test set\n",
    "y_predict_test = SVM_regr_model.predict(X_test)\n",
    "mape_test = mean_absolute_percentage_error(y_test, y_predict_test)\n",
    "rmse_test = np.sqrt(mean_squared_error(y_test, y_predict_test))\n",
    "R2_test = r2_score(y_test, y_predict_test)\n",
    "\n",
    "# Total set\n",
    "#y_predict_total = SVM_regr_model.predict(X_data)\n",
    "#mape_total = mean_absolute_percentage_error(Y_data, y_predict_total)\n",
    "#rmse_total = np.sqrt(mean_squared_error(Y_data, y_predict_total))\n",
    "#R2_total = r2_score(Y_data, y_predict_total)"
   ]
  },
  {
   "cell_type": "code",
   "execution_count": 210,
   "id": "6e2ff4f6-a336-409b-a5bc-f46ff3dc06ab",
   "metadata": {
    "execution": {
     "iopub.execute_input": "2023-09-13T03:55:15.850159Z",
     "iopub.status.busy": "2023-09-13T03:55:15.850159Z",
     "iopub.status.idle": "2023-09-13T03:55:15.863447Z",
     "shell.execute_reply": "2023-09-13T03:55:15.862444Z",
     "shell.execute_reply.started": "2023-09-13T03:55:15.850159Z"
    },
    "tags": []
   },
   "outputs": [
    {
     "data": {
      "text/html": [
       "<div>\n",
       "<style scoped>\n",
       "    .dataframe tbody tr th:only-of-type {\n",
       "        vertical-align: middle;\n",
       "    }\n",
       "\n",
       "    .dataframe tbody tr th {\n",
       "        vertical-align: top;\n",
       "    }\n",
       "\n",
       "    .dataframe thead th {\n",
       "        text-align: right;\n",
       "    }\n",
       "</style>\n",
       "<table border=\"1\" class=\"dataframe\">\n",
       "  <thead>\n",
       "    <tr style=\"text-align: right;\">\n",
       "      <th></th>\n",
       "      <th>MAPE</th>\n",
       "      <th>RMSE</th>\n",
       "      <th>R2</th>\n",
       "    </tr>\n",
       "  </thead>\n",
       "  <tbody>\n",
       "    <tr>\n",
       "      <th>0</th>\n",
       "      <td>0.112178</td>\n",
       "      <td>52.698894</td>\n",
       "      <td>0.177632</td>\n",
       "    </tr>\n",
       "    <tr>\n",
       "      <th>1</th>\n",
       "      <td>0.132532</td>\n",
       "      <td>57.094918</td>\n",
       "      <td>0.154743</td>\n",
       "    </tr>\n",
       "  </tbody>\n",
       "</table>\n",
       "</div>"
      ],
      "text/plain": [
       "       MAPE       RMSE        R2\n",
       "0  0.112178  52.698894  0.177632\n",
       "1  0.132532  57.094918  0.154743"
      ]
     },
     "execution_count": 210,
     "metadata": {},
     "output_type": "execute_result"
    }
   ],
   "source": [
    "# Table Score\n",
    "table_train = pd.DataFrame({\n",
    "    \"Predict\" : y_predict_train,\n",
    "    \"EXP\" : y_train,\n",
    "})\n",
    "\n",
    "Morgan_fp__ML_RF = pd.DataFrame()\n",
    "data = {\n",
    "        \"MAPE\":[mape_train, mape_test],\n",
    "        \"RMSE\":[rmse_train, rmse_test],\n",
    "        \"R2\"  :[R2_train, R2_test]\n",
    "    }\n",
    "Morgan_fp__ML_SVR = pd.DataFrame(data)\n",
    "#Morgan_fp__ML_RF.to_csv('560 Morgan_fp ML-RF.csv', index=False)\n",
    "Morgan_fp__ML_SVR"
   ]
  },
  {
   "cell_type": "code",
   "execution_count": 211,
   "id": "336448e9-62ae-4f4f-8b1d-0d8726ee8fa8",
   "metadata": {
    "execution": {
     "iopub.execute_input": "2023-09-13T03:55:15.864448Z",
     "iopub.status.busy": "2023-09-13T03:55:15.864448Z",
     "iopub.status.idle": "2023-09-13T03:55:16.468811Z",
     "shell.execute_reply": "2023-09-13T03:55:16.468811Z",
     "shell.execute_reply.started": "2023-09-13T03:55:15.864448Z"
    },
    "tags": []
   },
   "outputs": [
    {
     "data": {
      "image/png": "[encoded data removed]",
      "text/plain": [
       "<Figure size 640x480 with 1 Axes>"
      ]
     },
     "metadata": {},
     "output_type": "display_data"
    }
   ],
   "source": [
    "# %%\n",
    "# Visualization\n",
    "\n",
    "p1=sn.regplot(x=y_predict_train, y=y_train,line_kws={\"lw\":1,'ls':'--','color':'black',\"alpha\":0.9})\n",
    "plt.xlabel('Predicted Tb', color='blue')\n",
    "plt.ylabel('Observed Tb', color ='blue')\n",
    "plt.title(\"Test set\", color='red')\n",
    "plt.grid(alpha=0.6)"
   ]
  },
  {
   "cell_type": "markdown",
   "id": "12309285-1497-4896-b3db-3b1343b2a9ad",
   "metadata": {
    "jp-MarkdownHeadingCollapsed": true,
    "tags": []
   },
   "source": [
    "# Morgan_fp Feature Selection with DT"
   ]
  },
  {
   "cell_type": "code",
   "execution_count": null,
   "id": "6c74129a-7c47-40af-b60c-242d688e697e",
   "metadata": {},
   "outputs": [],
   "source": [
    "# https://youtu.be/PHU3qLwncDI?t=1006"
   ]
  }
 ],
 "metadata": {
  "kernelspec": {
   "display_name": "Python 3 (ipykernel)",
   "language": "python",
   "name": "python3"
  },
  "language_info": {
   "codemirror_mode": {
    "name": "ipython",
    "version": 3
   },
   "file_extension": ".py",
   "mimetype": "text/x-python",
   "name": "python",
   "nbconvert_exporter": "python",
   "pygments_lexer": "ipython3",
   "version": "3.11.4"
  },
  "toc-autonumbering": true
 },
 "nbformat": 4,
 "nbformat_minor": 5
}
