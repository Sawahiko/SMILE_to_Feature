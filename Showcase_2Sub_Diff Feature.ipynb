{
 "cells": [
  {
   "cell_type": "code",
   "execution_count": 1,
   "id": "e69a6d8d-6960-4465-a1e8-50f6b4b00d3d",
   "metadata": {
    "id": "5QKaKQNzGN7T",
    "tags": []
   },
   "outputs": [],
   "source": [
    "# https://www.rdkit.org/\n",
    "#https://github.com/rdkit/rdkit\n",
    "from rdkit.Chem import AllChem\n",
    "from rdkit import Chem\n",
    "from rdkit.Chem import Descriptors\n",
    "from rdkit.ML.Descriptors import MoleculeDescriptors\n",
    "\n",
    "# https://pandas.pydata.org\n",
    "import pandas as pd\n",
    "\n",
    "# https://numpy.org/doc/stable/release.html\n",
    "import numpy as np\n",
    "\n",
    "#https://github.com/mordred-descriptor/mordred\n",
    "from mordred import Calculator, descriptors\n",
    "\n",
    "from rdkit.Chem import Draw\n",
    "from rdkit.Chem.Draw import rdMolDraw2D"
   ]
  },
  {
   "cell_type": "code",
   "execution_count": 2,
   "id": "9101f8a8-5ebe-4b0c-9781-2445cb49d333",
   "metadata": {
    "tags": []
   },
   "outputs": [],
   "source": [
    "def RDkit_descriptors(smiles):\n",
    "    mols = [Chem.MolFromSmiles(i) for i in smiles] \n",
    "    calc = MoleculeDescriptors.MolecularDescriptorCalculator([x[0] for x in Descriptors._descList])\n",
    "    desc_names = calc.GetDescriptorNames()\n",
    "    \n",
    "    Mol_descriptors =[]\n",
    "    for mol in mols:\n",
    "        # add hydrogens to molecules\n",
    "        mol=Chem.AddHs(mol)\n",
    "        # Calculate all 200 descriptors for each molecule\n",
    "        descriptors = calc.CalcDescriptors(mol)\n",
    "        Mol_descriptors.append(descriptors)\n",
    "    return Mol_descriptors,desc_names "
   ]
  },
  {
   "cell_type": "markdown",
   "id": "4f8582a2-4b43-4f08-8bd1-a0d433b48cc0",
   "metadata": {
    "tags": []
   },
   "source": [
    "# 1"
   ]
  },
  {
   "cell_type": "code",
   "execution_count": 3,
   "id": "19c0e3dd-66e4-4692-83f3-a3919cd44cb7",
   "metadata": {
    "tags": []
   },
   "outputs": [
    {
     "data": {
      "image/png": "[encoded data removed]",
      "text/plain": [
       "<PIL.PngImagePlugin.PngImageFile image mode=RGB size=300x300>"
      ]
     },
     "execution_count": 3,
     "metadata": {},
     "output_type": "execute_result"
    }
   ],
   "source": [
    "name1 = \"CCCC(C)O\"\n",
    "m1 = Chem.MolFromSmiles(name1)\n",
    "img1 = Draw.MolToImage(m1)\n",
    "img1"
   ]
  },
  {
   "cell_type": "code",
   "execution_count": 4,
   "id": "91a60e2c-00f5-4fba-8e16-b64d1ececb60",
   "metadata": {
    "tags": []
   },
   "outputs": [
    {
     "data": {
      "image/png": "[encoded data removed]",
      "text/plain": [
       "<PIL.PngImagePlugin.PngImageFile image mode=RGB size=300x300>"
      ]
     },
     "execution_count": 4,
     "metadata": {},
     "output_type": "execute_result"
    }
   ],
   "source": [
    "name2 = \"CCC(CC)O\"\n",
    "m2 = Chem.MolFromSmiles(name2)\n",
    "img2 = Draw.MolToImage(m2)\n",
    "img2"
   ]
  },
  {
   "cell_type": "code",
   "execution_count": 5,
   "id": "fa430a0c-d9a2-4e44-87af-49854819bdae",
   "metadata": {
    "tags": []
   },
   "outputs": [
    {
     "data": {
      "text/html": [
       "<div>\n",
       "<style scoped>\n",
       "    .dataframe tbody tr th:only-of-type {\n",
       "        vertical-align: middle;\n",
       "    }\n",
       "\n",
       "    .dataframe tbody tr th {\n",
       "        vertical-align: top;\n",
       "    }\n",
       "\n",
       "    .dataframe thead th {\n",
       "        text-align: right;\n",
       "    }\n",
       "</style>\n",
       "<table border=\"1\" class=\"dataframe\">\n",
       "  <thead>\n",
       "    <tr style=\"text-align: right;\">\n",
       "      <th></th>\n",
       "      <th>SMILE</th>\n",
       "    </tr>\n",
       "  </thead>\n",
       "  <tbody>\n",
       "    <tr>\n",
       "      <th>0</th>\n",
       "      <td>CCCC(C)O</td>\n",
       "    </tr>\n",
       "    <tr>\n",
       "      <th>1</th>\n",
       "      <td>CCC(CC)O</td>\n",
       "    </tr>\n",
       "  </tbody>\n",
       "</table>\n",
       "</div>"
      ],
      "text/plain": [
       "      SMILE\n",
       "0  CCCC(C)O\n",
       "1  CCC(CC)O"
      ]
     },
     "execution_count": 5,
     "metadata": {},
     "output_type": "execute_result"
    }
   ],
   "source": [
    "data = {\n",
    "  \"SMILE\": [name1, name2]\n",
    "}\n",
    "TEST_X = pd.DataFrame(data)\n",
    "TEST_X"
   ]
  },
  {
   "cell_type": "code",
   "execution_count": 6,
   "id": "45d48e10-6c88-4f97-ad6f-ba5bf1e940f7",
   "metadata": {
    "tags": []
   },
   "outputs": [
    {
     "data": {
      "text/html": [
       "<div>\n",
       "<style scoped>\n",
       "    .dataframe tbody tr th:only-of-type {\n",
       "        vertical-align: middle;\n",
       "    }\n",
       "\n",
       "    .dataframe tbody tr th {\n",
       "        vertical-align: top;\n",
       "    }\n",
       "\n",
       "    .dataframe thead th {\n",
       "        text-align: right;\n",
       "    }\n",
       "</style>\n",
       "<table border=\"1\" class=\"dataframe\">\n",
       "  <thead>\n",
       "    <tr style=\"text-align: right;\">\n",
       "      <th></th>\n",
       "      <th>MaxEStateIndex</th>\n",
       "      <th>MinEStateIndex</th>\n",
       "      <th>MaxAbsEStateIndex</th>\n",
       "      <th>MinAbsEStateIndex</th>\n",
       "      <th>qed</th>\n",
       "      <th>MolWt</th>\n",
       "      <th>HeavyAtomMolWt</th>\n",
       "      <th>ExactMolWt</th>\n",
       "      <th>NumValenceElectrons</th>\n",
       "      <th>NumRadicalElectrons</th>\n",
       "      <th>...</th>\n",
       "      <th>fr_sulfide</th>\n",
       "      <th>fr_sulfonamd</th>\n",
       "      <th>fr_sulfone</th>\n",
       "      <th>fr_term_acetylene</th>\n",
       "      <th>fr_tetrazole</th>\n",
       "      <th>fr_thiazole</th>\n",
       "      <th>fr_thiocyan</th>\n",
       "      <th>fr_thiophene</th>\n",
       "      <th>fr_unbrch_alkane</th>\n",
       "      <th>fr_urea</th>\n",
       "    </tr>\n",
       "  </thead>\n",
       "  <tbody>\n",
       "    <tr>\n",
       "      <th>0</th>\n",
       "      <td>7.333333</td>\n",
       "      <td>-3.765625</td>\n",
       "      <td>7.333333</td>\n",
       "      <td>3.521250</td>\n",
       "      <td>0.536832</td>\n",
       "      <td>88.15</td>\n",
       "      <td>76.054</td>\n",
       "      <td>88.088815</td>\n",
       "      <td>38</td>\n",
       "      <td>0</td>\n",
       "      <td>...</td>\n",
       "      <td>0</td>\n",
       "      <td>0</td>\n",
       "      <td>0</td>\n",
       "      <td>0</td>\n",
       "      <td>0</td>\n",
       "      <td>0</td>\n",
       "      <td>0</td>\n",
       "      <td>0</td>\n",
       "      <td>0</td>\n",
       "      <td>0</td>\n",
       "    </tr>\n",
       "    <tr>\n",
       "      <th>1</th>\n",
       "      <td>7.406250</td>\n",
       "      <td>-3.739583</td>\n",
       "      <td>7.406250</td>\n",
       "      <td>3.533333</td>\n",
       "      <td>0.536832</td>\n",
       "      <td>88.15</td>\n",
       "      <td>76.054</td>\n",
       "      <td>88.088815</td>\n",
       "      <td>38</td>\n",
       "      <td>0</td>\n",
       "      <td>...</td>\n",
       "      <td>0</td>\n",
       "      <td>0</td>\n",
       "      <td>0</td>\n",
       "      <td>0</td>\n",
       "      <td>0</td>\n",
       "      <td>0</td>\n",
       "      <td>0</td>\n",
       "      <td>0</td>\n",
       "      <td>0</td>\n",
       "      <td>0</td>\n",
       "    </tr>\n",
       "  </tbody>\n",
       "</table>\n",
       "<p>2 rows × 208 columns</p>\n",
       "</div>"
      ],
      "text/plain": [
       "   MaxEStateIndex  MinEStateIndex  MaxAbsEStateIndex  MinAbsEStateIndex  \\\n",
       "0        7.333333       -3.765625           7.333333           3.521250   \n",
       "1        7.406250       -3.739583           7.406250           3.533333   \n",
       "\n",
       "        qed  MolWt  HeavyAtomMolWt  ExactMolWt  NumValenceElectrons  \\\n",
       "0  0.536832  88.15          76.054   88.088815                   38   \n",
       "1  0.536832  88.15          76.054   88.088815                   38   \n",
       "\n",
       "   NumRadicalElectrons  ...  fr_sulfide  fr_sulfonamd  fr_sulfone  \\\n",
       "0                    0  ...           0             0           0   \n",
       "1                    0  ...           0             0           0   \n",
       "\n",
       "   fr_term_acetylene  fr_tetrazole  fr_thiazole  fr_thiocyan  fr_thiophene  \\\n",
       "0                  0             0            0            0             0   \n",
       "1                  0             0            0            0             0   \n",
       "\n",
       "   fr_unbrch_alkane  fr_urea  \n",
       "0                 0        0  \n",
       "1                 0        0  \n",
       "\n",
       "[2 rows x 208 columns]"
      ]
     },
     "execution_count": 6,
     "metadata": {},
     "output_type": "execute_result"
    }
   ],
   "source": [
    "Mol_descriptors,desc_names = RDkit_descriptors(TEST_X[\"SMILE\"])\n",
    "TEST_X_with_200_descriptors = pd.DataFrame(Mol_descriptors,columns=desc_names)\n",
    "TEST_X_with_200_descriptors"
   ]
  },
  {
   "cell_type": "code",
   "execution_count": 7,
   "id": "5268e03b-cf6d-43ab-bdd7-1bb95741da77",
   "metadata": {
    "tags": []
   },
   "outputs": [
    {
     "data": {
      "text/html": [
       "<div>\n",
       "<style scoped>\n",
       "    .dataframe tbody tr th:only-of-type {\n",
       "        vertical-align: middle;\n",
       "    }\n",
       "\n",
       "    .dataframe tbody tr th {\n",
       "        vertical-align: top;\n",
       "    }\n",
       "\n",
       "    .dataframe thead th {\n",
       "        text-align: right;\n",
       "    }\n",
       "</style>\n",
       "<table border=\"1\" class=\"dataframe\">\n",
       "  <thead>\n",
       "    <tr style=\"text-align: right;\">\n",
       "      <th></th>\n",
       "      <th>MaxEStateIndex</th>\n",
       "      <th>MinEStateIndex</th>\n",
       "      <th>MaxAbsEStateIndex</th>\n",
       "      <th>MinAbsEStateIndex</th>\n",
       "      <th>MaxPartialCharge</th>\n",
       "      <th>MinPartialCharge</th>\n",
       "      <th>MaxAbsPartialCharge</th>\n",
       "      <th>MinAbsPartialCharge</th>\n",
       "      <th>FpDensityMorgan1</th>\n",
       "      <th>FpDensityMorgan2</th>\n",
       "      <th>...</th>\n",
       "      <th>Kappa3</th>\n",
       "      <th>LabuteASA</th>\n",
       "      <th>PEOE_VSA6</th>\n",
       "      <th>PEOE_VSA7</th>\n",
       "      <th>SMR_VSA5</th>\n",
       "      <th>EState_VSA1</th>\n",
       "      <th>VSA_EState1</th>\n",
       "      <th>VSA_EState3</th>\n",
       "      <th>VSA_EState7</th>\n",
       "      <th>VSA_EState8</th>\n",
       "    </tr>\n",
       "  </thead>\n",
       "  <tbody>\n",
       "    <tr>\n",
       "      <th>0</th>\n",
       "      <td>7.333333</td>\n",
       "      <td>-3.765625</td>\n",
       "      <td>7.333333</td>\n",
       "      <td>3.521250</td>\n",
       "      <td>0.210431</td>\n",
       "      <td>-0.393419</td>\n",
       "      <td>0.393419</td>\n",
       "      <td>0.210431</td>\n",
       "      <td>2.500000</td>\n",
       "      <td>3.500000</td>\n",
       "      <td>...</td>\n",
       "      <td>3.960000</td>\n",
       "      <td>55.939569</td>\n",
       "      <td>13.224817</td>\n",
       "      <td>13.224817</td>\n",
       "      <td>32.529652</td>\n",
       "      <td>32.529652</td>\n",
       "      <td>84.396042</td>\n",
       "      <td>3.537708</td>\n",
       "      <td>-11.117708</td>\n",
       "      <td>-7.066042</td>\n",
       "    </tr>\n",
       "    <tr>\n",
       "      <th>1</th>\n",
       "      <td>7.406250</td>\n",
       "      <td>-3.739583</td>\n",
       "      <td>7.406250</td>\n",
       "      <td>3.533333</td>\n",
       "      <td>0.210444</td>\n",
       "      <td>-0.393153</td>\n",
       "      <td>0.393153</td>\n",
       "      <td>0.210444</td>\n",
       "      <td>2.166667</td>\n",
       "      <td>2.833333</td>\n",
       "      <td>...</td>\n",
       "      <td>2.212525</td>\n",
       "      <td>55.939569</td>\n",
       "      <td>13.703784</td>\n",
       "      <td>12.745850</td>\n",
       "      <td>32.529652</td>\n",
       "      <td>32.529652</td>\n",
       "      <td>84.378750</td>\n",
       "      <td>3.567083</td>\n",
       "      <td>-11.129167</td>\n",
       "      <td>-7.066667</td>\n",
       "    </tr>\n",
       "  </tbody>\n",
       "</table>\n",
       "<p>2 rows × 36 columns</p>\n",
       "</div>"
      ],
      "text/plain": [
       "   MaxEStateIndex  MinEStateIndex  MaxAbsEStateIndex  MinAbsEStateIndex  \\\n",
       "0        7.333333       -3.765625           7.333333           3.521250   \n",
       "1        7.406250       -3.739583           7.406250           3.533333   \n",
       "\n",
       "   MaxPartialCharge  MinPartialCharge  MaxAbsPartialCharge  \\\n",
       "0          0.210431         -0.393419             0.393419   \n",
       "1          0.210444         -0.393153             0.393153   \n",
       "\n",
       "   MinAbsPartialCharge  FpDensityMorgan1  FpDensityMorgan2  ...    Kappa3  \\\n",
       "0             0.210431          2.500000          3.500000  ...  3.960000   \n",
       "1             0.210444          2.166667          2.833333  ...  2.212525   \n",
       "\n",
       "   LabuteASA  PEOE_VSA6  PEOE_VSA7   SMR_VSA5  EState_VSA1  VSA_EState1  \\\n",
       "0  55.939569  13.224817  13.224817  32.529652    32.529652    84.396042   \n",
       "1  55.939569  13.703784  12.745850  32.529652    32.529652    84.378750   \n",
       "\n",
       "   VSA_EState3  VSA_EState7  VSA_EState8  \n",
       "0     3.537708   -11.117708    -7.066042  \n",
       "1     3.567083   -11.129167    -7.066667  \n",
       "\n",
       "[2 rows x 36 columns]"
      ]
     },
     "execution_count": 7,
     "metadata": {},
     "output_type": "execute_result"
    }
   ],
   "source": [
    "test = TEST_X_with_200_descriptors.diff()[1:]\n",
    "zero_mask = test.eq(0)\n",
    "zero_mask2=test.drop(columns=zero_mask.columns[(zero_mask == True).any()])\n",
    "zero_mask3=TEST_X_with_200_descriptors[zero_mask2.columns]\n",
    "zero_mask3"
   ]
  },
  {
   "cell_type": "code",
   "execution_count": 8,
   "id": "d473d463-d23e-405b-91d7-ec6bef87a38e",
   "metadata": {
    "tags": []
   },
   "outputs": [],
   "source": [
    "name_csv = name1+\" + \"+name2+\".csv\"\n",
    "zero_mask3.to_csv(name_csv, index=False)"
   ]
  },
  {
   "cell_type": "markdown",
   "id": "7793441a-e18f-468f-bd13-ff248cc309e8",
   "metadata": {
    "tags": []
   },
   "source": [
    "# 2"
   ]
  },
  {
   "cell_type": "code",
   "execution_count": 15,
   "id": "61871410-74f0-49bd-b38b-c539726dd90c",
   "metadata": {
    "tags": []
   },
   "outputs": [
    {
     "data": {
      "image/png": "[encoded data removed]",
      "text/plain": [
       "<PIL.PngImagePlugin.PngImageFile image mode=RGB size=300x300>"
      ]
     },
     "execution_count": 15,
     "metadata": {},
     "output_type": "execute_result"
    }
   ],
   "source": [
    "name1 = \"CCN1C=C[N+](=C1)C.C(=O)(C(F)(F)F)[O-]\"\n",
    "m1 = Chem.MolFromSmiles(name1)\n",
    "img1 = Draw.MolToImage(m1)\n",
    "img1"
   ]
  },
  {
   "cell_type": "code",
   "execution_count": 16,
   "id": "9dc1c9c9-e525-4de6-bafe-e1b5cd54d347",
   "metadata": {
    "tags": []
   },
   "outputs": [
    {
     "data": {
      "image/png": "[encoded data removed]",
      "text/plain": [
       "<PIL.PngImagePlugin.PngImageFile image mode=RGB size=300x300>"
      ]
     },
     "execution_count": 16,
     "metadata": {},
     "output_type": "execute_result"
    }
   ],
   "source": [
    "name2 = \"CCCC(C-O)O\"\n",
    "m2 = Chem.MolFromSmiles(name2)\n",
    "img2 = Draw.MolToImage(m2)\n",
    "img2"
   ]
  },
  {
   "cell_type": "code",
   "execution_count": 17,
   "id": "1b0178f1-1a3a-4c05-a9a8-598aa663fa93",
   "metadata": {
    "tags": []
   },
   "outputs": [
    {
     "data": {
      "text/html": [
       "<div>\n",
       "<style scoped>\n",
       "    .dataframe tbody tr th:only-of-type {\n",
       "        vertical-align: middle;\n",
       "    }\n",
       "\n",
       "    .dataframe tbody tr th {\n",
       "        vertical-align: top;\n",
       "    }\n",
       "\n",
       "    .dataframe thead th {\n",
       "        text-align: right;\n",
       "    }\n",
       "</style>\n",
       "<table border=\"1\" class=\"dataframe\">\n",
       "  <thead>\n",
       "    <tr style=\"text-align: right;\">\n",
       "      <th></th>\n",
       "      <th>SMILE</th>\n",
       "    </tr>\n",
       "  </thead>\n",
       "  <tbody>\n",
       "    <tr>\n",
       "      <th>0</th>\n",
       "      <td>CCN1C=C[N+](=C1)C.C(=O)(C(F)(F)F)[O-]</td>\n",
       "    </tr>\n",
       "    <tr>\n",
       "      <th>1</th>\n",
       "      <td>CCCC(C-O)O</td>\n",
       "    </tr>\n",
       "  </tbody>\n",
       "</table>\n",
       "</div>"
      ],
      "text/plain": [
       "                                   SMILE\n",
       "0  CCN1C=C[N+](=C1)C.C(=O)(C(F)(F)F)[O-]\n",
       "1                             CCCC(C-O)O"
      ]
     },
     "execution_count": 17,
     "metadata": {},
     "output_type": "execute_result"
    }
   ],
   "source": [
    "data = {\n",
    "  \"SMILE\": [name1, name2]\n",
    "}\n",
    "TEST_X = pd.DataFrame(data)\n",
    "TEST_X"
   ]
  },
  {
   "cell_type": "code",
   "execution_count": 18,
   "id": "df955dea-540f-418d-878e-2e5f1cd4f9f2",
   "metadata": {
    "tags": []
   },
   "outputs": [
    {
     "data": {
      "text/html": [
       "<div>\n",
       "<style scoped>\n",
       "    .dataframe tbody tr th:only-of-type {\n",
       "        vertical-align: middle;\n",
       "    }\n",
       "\n",
       "    .dataframe tbody tr th {\n",
       "        vertical-align: top;\n",
       "    }\n",
       "\n",
       "    .dataframe thead th {\n",
       "        text-align: right;\n",
       "    }\n",
       "</style>\n",
       "<table border=\"1\" class=\"dataframe\">\n",
       "  <thead>\n",
       "    <tr style=\"text-align: right;\">\n",
       "      <th></th>\n",
       "      <th>MaxEStateIndex</th>\n",
       "      <th>MinEStateIndex</th>\n",
       "      <th>MaxAbsEStateIndex</th>\n",
       "      <th>MinAbsEStateIndex</th>\n",
       "      <th>qed</th>\n",
       "      <th>MolWt</th>\n",
       "      <th>HeavyAtomMolWt</th>\n",
       "      <th>ExactMolWt</th>\n",
       "      <th>NumValenceElectrons</th>\n",
       "      <th>NumRadicalElectrons</th>\n",
       "      <th>...</th>\n",
       "      <th>fr_sulfide</th>\n",
       "      <th>fr_sulfonamd</th>\n",
       "      <th>fr_sulfone</th>\n",
       "      <th>fr_term_acetylene</th>\n",
       "      <th>fr_tetrazole</th>\n",
       "      <th>fr_thiazole</th>\n",
       "      <th>fr_thiocyan</th>\n",
       "      <th>fr_thiophene</th>\n",
       "      <th>fr_unbrch_alkane</th>\n",
       "      <th>fr_urea</th>\n",
       "    </tr>\n",
       "  </thead>\n",
       "  <tbody>\n",
       "    <tr>\n",
       "      <th>0</th>\n",
       "      <td>10.516204</td>\n",
       "      <td>-5.194444</td>\n",
       "      <td>10.516204</td>\n",
       "      <td>0.078079</td>\n",
       "      <td>0.611029</td>\n",
       "      <td>224.182</td>\n",
       "      <td>213.094</td>\n",
       "      <td>224.077262</td>\n",
       "      <td>86</td>\n",
       "      <td>0</td>\n",
       "      <td>...</td>\n",
       "      <td>0</td>\n",
       "      <td>0</td>\n",
       "      <td>0</td>\n",
       "      <td>0</td>\n",
       "      <td>0</td>\n",
       "      <td>0</td>\n",
       "      <td>0</td>\n",
       "      <td>0</td>\n",
       "      <td>0</td>\n",
       "      <td>0</td>\n",
       "    </tr>\n",
       "    <tr>\n",
       "      <th>1</th>\n",
       "      <td>7.415625</td>\n",
       "      <td>-3.821875</td>\n",
       "      <td>7.415625</td>\n",
       "      <td>3.448372</td>\n",
       "      <td>0.534357</td>\n",
       "      <td>104.149</td>\n",
       "      <td>92.053</td>\n",
       "      <td>104.083730</td>\n",
       "      <td>44</td>\n",
       "      <td>0</td>\n",
       "      <td>...</td>\n",
       "      <td>0</td>\n",
       "      <td>0</td>\n",
       "      <td>0</td>\n",
       "      <td>0</td>\n",
       "      <td>0</td>\n",
       "      <td>0</td>\n",
       "      <td>0</td>\n",
       "      <td>0</td>\n",
       "      <td>0</td>\n",
       "      <td>0</td>\n",
       "    </tr>\n",
       "  </tbody>\n",
       "</table>\n",
       "<p>2 rows × 208 columns</p>\n",
       "</div>"
      ],
      "text/plain": [
       "   MaxEStateIndex  MinEStateIndex  MaxAbsEStateIndex  MinAbsEStateIndex  \\\n",
       "0       10.516204       -5.194444          10.516204           0.078079   \n",
       "1        7.415625       -3.821875           7.415625           3.448372   \n",
       "\n",
       "        qed    MolWt  HeavyAtomMolWt  ExactMolWt  NumValenceElectrons  \\\n",
       "0  0.611029  224.182         213.094  224.077262                   86   \n",
       "1  0.534357  104.149          92.053  104.083730                   44   \n",
       "\n",
       "   NumRadicalElectrons  ...  fr_sulfide  fr_sulfonamd  fr_sulfone  \\\n",
       "0                    0  ...           0             0           0   \n",
       "1                    0  ...           0             0           0   \n",
       "\n",
       "   fr_term_acetylene  fr_tetrazole  fr_thiazole  fr_thiocyan  fr_thiophene  \\\n",
       "0                  0             0            0            0             0   \n",
       "1                  0             0            0            0             0   \n",
       "\n",
       "   fr_unbrch_alkane  fr_urea  \n",
       "0                 0        0  \n",
       "1                 0        0  \n",
       "\n",
       "[2 rows x 208 columns]"
      ]
     },
     "execution_count": 18,
     "metadata": {},
     "output_type": "execute_result"
    }
   ],
   "source": [
    "Mol_descriptors,desc_names = RDkit_descriptors(TEST_X[\"SMILE\"])\n",
    "TEST_X_with_200_descriptors = pd.DataFrame(Mol_descriptors,columns=desc_names)\n",
    "TEST_X_with_200_descriptors"
   ]
  },
  {
   "cell_type": "code",
   "execution_count": 20,
   "id": "d2e23ee0-0fb9-481a-a219-f524178ae970",
   "metadata": {
    "tags": []
   },
   "outputs": [
    {
     "data": {
      "text/html": [
       "<div>\n",
       "<style scoped>\n",
       "    .dataframe tbody tr th:only-of-type {\n",
       "        vertical-align: middle;\n",
       "    }\n",
       "\n",
       "    .dataframe tbody tr th {\n",
       "        vertical-align: top;\n",
       "    }\n",
       "\n",
       "    .dataframe thead th {\n",
       "        text-align: right;\n",
       "    }\n",
       "</style>\n",
       "<table border=\"1\" class=\"dataframe\">\n",
       "  <thead>\n",
       "    <tr style=\"text-align: right;\">\n",
       "      <th></th>\n",
       "      <th>MaxEStateIndex</th>\n",
       "      <th>MinEStateIndex</th>\n",
       "      <th>MaxAbsEStateIndex</th>\n",
       "      <th>MinAbsEStateIndex</th>\n",
       "      <th>qed</th>\n",
       "      <th>MolWt</th>\n",
       "      <th>HeavyAtomMolWt</th>\n",
       "      <th>ExactMolWt</th>\n",
       "      <th>NumValenceElectrons</th>\n",
       "      <th>MaxPartialCharge</th>\n",
       "      <th>...</th>\n",
       "      <th>fr_Al_OH</th>\n",
       "      <th>fr_Ar_N</th>\n",
       "      <th>fr_COO</th>\n",
       "      <th>fr_COO2</th>\n",
       "      <th>fr_C_O</th>\n",
       "      <th>fr_C_O_noCOO</th>\n",
       "      <th>fr_NH0</th>\n",
       "      <th>fr_alkyl_halide</th>\n",
       "      <th>fr_halogen</th>\n",
       "      <th>fr_imidazole</th>\n",
       "    </tr>\n",
       "  </thead>\n",
       "  <tbody>\n",
       "    <tr>\n",
       "      <th>0</th>\n",
       "      <td>10.516204</td>\n",
       "      <td>-5.194444</td>\n",
       "      <td>10.516204</td>\n",
       "      <td>0.078079</td>\n",
       "      <td>0.611029</td>\n",
       "      <td>224.182</td>\n",
       "      <td>213.094</td>\n",
       "      <td>224.077262</td>\n",
       "      <td>86</td>\n",
       "      <td>0.430292</td>\n",
       "      <td>...</td>\n",
       "      <td>0</td>\n",
       "      <td>2</td>\n",
       "      <td>1</td>\n",
       "      <td>1</td>\n",
       "      <td>1</td>\n",
       "      <td>1</td>\n",
       "      <td>2</td>\n",
       "      <td>3</td>\n",
       "      <td>3</td>\n",
       "      <td>1</td>\n",
       "    </tr>\n",
       "    <tr>\n",
       "      <th>1</th>\n",
       "      <td>7.415625</td>\n",
       "      <td>-3.821875</td>\n",
       "      <td>7.415625</td>\n",
       "      <td>3.448372</td>\n",
       "      <td>0.534357</td>\n",
       "      <td>104.149</td>\n",
       "      <td>92.053</td>\n",
       "      <td>104.083730</td>\n",
       "      <td>44</td>\n",
       "      <td>0.210564</td>\n",
       "      <td>...</td>\n",
       "      <td>2</td>\n",
       "      <td>0</td>\n",
       "      <td>0</td>\n",
       "      <td>0</td>\n",
       "      <td>0</td>\n",
       "      <td>0</td>\n",
       "      <td>0</td>\n",
       "      <td>0</td>\n",
       "      <td>0</td>\n",
       "      <td>0</td>\n",
       "    </tr>\n",
       "  </tbody>\n",
       "</table>\n",
       "<p>2 rows × 105 columns</p>\n",
       "</div>"
      ],
      "text/plain": [
       "   MaxEStateIndex  MinEStateIndex  MaxAbsEStateIndex  MinAbsEStateIndex  \\\n",
       "0       10.516204       -5.194444          10.516204           0.078079   \n",
       "1        7.415625       -3.821875           7.415625           3.448372   \n",
       "\n",
       "        qed    MolWt  HeavyAtomMolWt  ExactMolWt  NumValenceElectrons  \\\n",
       "0  0.611029  224.182         213.094  224.077262                   86   \n",
       "1  0.534357  104.149          92.053  104.083730                   44   \n",
       "\n",
       "   MaxPartialCharge  ...  fr_Al_OH  fr_Ar_N  fr_COO  fr_COO2  fr_C_O  \\\n",
       "0          0.430292  ...         0        2       1        1       1   \n",
       "1          0.210564  ...         2        0       0        0       0   \n",
       "\n",
       "   fr_C_O_noCOO  fr_NH0  fr_alkyl_halide  fr_halogen  fr_imidazole  \n",
       "0             1       2                3           3             1  \n",
       "1             0       0                0           0             0  \n",
       "\n",
       "[2 rows x 105 columns]"
      ]
     },
     "execution_count": 20,
     "metadata": {},
     "output_type": "execute_result"
    }
   ],
   "source": [
    "test = TEST_X_with_200_descriptors.diff()[1:]\n",
    "zero_mask = test.eq(0)\n",
    "zero_mask2=test.drop(columns=zero_mask.columns[(zero_mask == True).any()])\n",
    "zero_mask3=TEST_X_with_200_descriptors[zero_mask2.columns]\n",
    "zero_mask3"
   ]
  },
  {
   "cell_type": "code",
   "execution_count": 21,
   "id": "ba91aa31-5f36-458e-b58a-4d96afb1c581",
   "metadata": {
    "tags": []
   },
   "outputs": [],
   "source": [
    "name_csv = name1+\" + \"+name2+\".csv\"\n",
    "zero_mask3.to_csv(name_csv, index=False)"
   ]
  },
  {
   "cell_type": "code",
   "execution_count": null,
   "id": "4e1027be-b499-4108-9ec5-194faaf8af33",
   "metadata": {},
   "outputs": [],
   "source": []
  }
 ],
 "metadata": {
  "kernelspec": {
   "display_name": "Python 3 (ipykernel)",
   "language": "python",
   "name": "python3"
  },
  "language_info": {
   "codemirror_mode": {
    "name": "ipython",
    "version": 3
   },
   "file_extension": ".py",
   "mimetype": "text/x-python",
   "name": "python",
   "nbconvert_exporter": "python",
   "pygments_lexer": "ipython3",
   "version": "3.11.4"
  }
 },
 "nbformat": 4,
 "nbformat_minor": 5
}
