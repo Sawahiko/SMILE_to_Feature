{
 "cells": [
  {
   "cell_type": "code",
   "execution_count": 1,
   "id": "62d29db6-a470-422b-b0b6-a26712de43c0",
   "metadata": {
    "id": "5QKaKQNzGN7T",
    "tags": []
   },
   "outputs": [],
   "source": [
    "# https://www.rdkit.org/\n",
    "import rdkit\n",
    "#https://github.com/rdkit/rdkit\n",
    "from rdkit.Chem import AllChem\n",
    "from rdkit import Chem\n",
    "from rdkit.Chem import Descriptors\n",
    "from rdkit.ML.Descriptors import MoleculeDescriptors\n",
    "# https://pandas.pydata.org\n",
    "import pandas as pd\n",
    "\n",
    "# https://numpy.org/doc/stable/release.html\n",
    "import numpy as np\n",
    "\n",
    "#https://github.com/mordred-descriptor/mordred\n",
    "#from mordred import Calculator, descriptors\n",
    "\n",
    "from rdkit.Chem import Draw\n",
    "from rdkit.Chem.Draw import rdMolDraw2D"
   ]
  },
  {
   "cell_type": "code",
   "execution_count": 2,
   "id": "4402e429-5703-4ce6-bfcb-94280b58dd14",
   "metadata": {
    "tags": []
   },
   "outputs": [],
   "source": [
    "import pandas as pd\n",
    "import numpy as np\n",
    "import seaborn as sn\n",
    "import matplotlib.pyplot as plt\n",
    "#---------------------- RDKit packages\n",
    "from rdkit.Chem import AllChem\n",
    "from rdkit.Chem import rdMolDescriptors\n",
    "from rdkit.Chem.Draw import IPythonConsole\n",
    "from rdkit.Chem import Draw\n",
    "from rdkit import DataStructs\n",
    "from rdkit.ML.Cluster import Butina\n",
    "#------------------- progress bar\n",
    "from tqdm import tqdm\n",
    "#------------------- hide warning\n",
    "import warnings\n",
    "warnings.filterwarnings('ignore')"
   ]
  },
  {
   "cell_type": "code",
   "execution_count": 3,
   "id": "b53f6c35-e00c-4086-b82b-3363106ffb15",
   "metadata": {
    "tags": []
   },
   "outputs": [],
   "source": [
    "from rdkit.Chem.Draw import IPythonConsole\n",
    "from ipywidgets import interact,fixed,IntSlider\n",
    "def renderFpBit(mol,bitIdx,bitInfo,fn):\n",
    "    bid = bitIdx\n",
    "    return(display(fn(mol,bid,bitInfo), mol))"
   ]
  },
  {
   "cell_type": "code",
   "execution_count": 6,
   "id": "9d66e8e5-b6f8-452e-8897-b742c4905e05",
   "metadata": {
    "tags": []
   },
   "outputs": [],
   "source": [
    "name1 = \"CCCC(C)O\"\n",
    "m1 = Chem.MolFromSmiles(name1)\n",
    "name2 = \"CCC(CC)O\"\n",
    "m2 = Chem.MolFromSmiles(name2)"
   ]
  },
  {
   "cell_type": "code",
   "execution_count": null,
   "id": "4d051288-8fba-444d-8107-711cac6042b6",
   "metadata": {},
   "outputs": [],
   "source": []
  },
  {
   "cell_type": "markdown",
   "id": "9604123a-1b61-4c8e-b76f-0787b888fb4d",
   "metadata": {
    "tags": []
   },
   "source": [
    "# Interact find Index"
   ]
  },
  {
   "cell_type": "code",
   "execution_count": 11,
   "id": "7bc376a0-9310-4653-ab15-d316fd9bfbf2",
   "metadata": {
    "tags": []
   },
   "outputs": [],
   "source": [
    "from rdkit.Chem.Draw import IPythonConsole\n",
    "from ipywidgets import interact,fixed,IntSlider\n",
    "def renderFpBit(mol,bitIdx,bitInfo,fn):\n",
    "    bid = bitIdx\n",
    "    return(display(fn(mol,bid,bitInfo)))"
   ]
  },
  {
   "cell_type": "code",
   "execution_count": 12,
   "id": "943218f4-4bb9-4ff5-9e8f-434599ca094a",
   "metadata": {
    "tags": []
   },
   "outputs": [
    {
     "data": {
      "text/plain": [
       "[56, 148, 229, 491, 562, 568, 709, 747, 875, 1067]"
      ]
     },
     "execution_count": 12,
     "metadata": {},
     "output_type": "execute_result"
    }
   ],
   "source": [
    "rdkbi = {}\n",
    "rdkfp = Chem.RDKFingerprint(m1, maxPath=5, bitInfo=rdkbi)\n",
    "# show 10 of the set bits:\n",
    "list(rdkfp.GetOnBits())[:10]"
   ]
  },
  {
   "cell_type": "code",
   "execution_count": 13,
   "id": "673190d7-d7cb-47cf-bbd7-a994558f7549",
   "metadata": {
    "tags": []
   },
   "outputs": [
    {
     "data": {
      "application/vnd.jupyter.widget-view+json": {
       "model_id": "e202e4069383447d9612826e99323786",
       "version_major": 2,
       "version_minor": 0
      },
      "text/plain": [
       "interactive(children=(Dropdown(description='bitIdx', options=(56, 148, 229, 491, 562, 568, 709, 747, 875, 1067…"
      ]
     },
     "metadata": {},
     "output_type": "display_data"
    }
   ],
   "source": [
    "interact(renderFpBit, bitIdx=list(rdkbi.keys()),mol=fixed(m1),\n",
    "         bitInfo=fixed(rdkbi),fn=fixed(Draw.DrawRDKitBit));\n"
   ]
  },
  {
   "cell_type": "code",
   "execution_count": 48,
   "id": "7eeaf760-f5d6-4843-a2ca-03ca23df3ba4",
   "metadata": {
    "tags": []
   },
   "outputs": [],
   "source": [
    "info = {}\n",
    "morgan_fp=AllChem.GetMorganFingerprintAsBitVect(m2, 3, nBits=2048, bitInfo=info, useFeatures=True)"
   ]
  },
  {
   "cell_type": "code",
   "execution_count": 49,
   "id": "65146a46-34ec-44a6-975d-0e4c4ca92c17",
   "metadata": {
    "tags": []
   },
   "outputs": [
    {
     "data": {
      "application/vnd.jupyter.widget-view+json": {
       "model_id": "4cd41314e4f04b4f91b4d6aaf5632b26",
       "version_major": 2,
       "version_minor": 0
      },
      "text/plain": [
       "interactive(children=(Dropdown(description='bitIdx', options=(0, 3, 383, 792, 1085, 1386, 1687, 2041), value=0…"
      ]
     },
     "metadata": {},
     "output_type": "display_data"
    }
   ],
   "source": [
    "interact(renderFpBit, bitIdx=list(info.keys()),mol=fixed(m2),\n",
    "         bitInfo=fixed(info),fn=fixed(Draw.DrawMorganBit));"
   ]
  },
  {
   "cell_type": "markdown",
   "id": "d4c2f175-f4eb-47b8-aa27-10f598265c9b",
   "metadata": {
    "tags": []
   },
   "source": [
    "# Bit No.90 is XXX"
   ]
  },
  {
   "cell_type": "code",
   "execution_count": 39,
   "id": "be4381b6-a82c-4b3a-b6e5-d94d477c88be",
   "metadata": {
    "tags": []
   },
   "outputs": [],
   "source": [
    "def get_index_of_array_that_contain_0_and_1_in_any_position(list1):\n",
    "  result = []\n",
    "  for i, e in enumerate(list1):\n",
    "    if e == 1:\n",
    "      result.append(i)\n",
    "  return result"
   ]
  },
  {
   "cell_type": "code",
   "execution_count": 50,
   "id": "aa80ffb9-587c-44fb-9229-ee93a5af2a81",
   "metadata": {
    "tags": []
   },
   "outputs": [],
   "source": [
    "from rdkit import Chem\n",
    "from rdkit.Chem.rdMolDescriptors import GetHashedMorganFingerprint\n",
    "\n",
    "mol = Chem.MolFromSmiles('CCC(CC)O')\n",
    "\n",
    "bit_info = {}\n",
    "fp = GetHashedMorganFingerprint(mol, 3, bitInfo=bit_info, useFeatures=True)"
   ]
  },
  {
   "cell_type": "code",
   "execution_count": 58,
   "id": "098c30bd-fcd3-4eb7-b366-1a2977ed06aa",
   "metadata": {
    "tags": []
   },
   "outputs": [
    {
     "name": "stdout",
     "output_type": "stream",
     "text": [
      "[3, 383, 1687, 2041]\n"
     ]
    }
   ],
   "source": [
    "print(get_index_of_array_that_contain_0_and_1_in_any_position(list(fp)))\n",
    "atomidx, radius = bit_info[792][0]"
   ]
  },
  {
   "cell_type": "code",
   "execution_count": 59,
   "id": "9a3e030d-771c-4a42-ac75-d4c2cc4fd86b",
   "metadata": {
    "tags": []
   },
   "outputs": [
    {
     "name": "stdout",
     "output_type": "stream",
     "text": [
      "[#6]-[#6]-[#6](-*)-*\n"
     ]
    }
   ],
   "source": [
    "env = Chem.FindAtomEnvironmentOfRadiusN(mol, radius, atomidx)\n",
    "\n",
    "atomsToUse = set((atomidx, ))\n",
    "for b in env:\n",
    "    atomsToUse.add(mol.GetBondWithIdx(b).GetBeginAtomIdx())\n",
    "    atomsToUse.add(mol.GetBondWithIdx(b).GetEndAtomIdx())\n",
    "\n",
    "enlargedEnv = set()\n",
    "for atom in atomsToUse:\n",
    "    a = mol.GetAtomWithIdx(atom)\n",
    "    for b in a.GetBonds():\n",
    "      bidx = b.GetIdx()\n",
    "      if bidx not in env:\n",
    "        enlargedEnv.add(bidx)\n",
    "\n",
    "enlargedEnv = list(enlargedEnv)\n",
    "enlargedEnv += env\n",
    "\n",
    "# find all relevant neighbors\n",
    "anyAtoms = []\n",
    "for a in atomsToUse:\n",
    "    neighbors = mol.GetAtomWithIdx(a).GetNeighbors()\n",
    "    for n in neighbors:\n",
    "        anyIdx = n.GetIdx()\n",
    "        if anyIdx not in atomsToUse:\n",
    "            anyAtoms.append(anyIdx)\n",
    "\n",
    "# replace atomic number to zero (there is no number for any atom)\n",
    "for aA in anyAtoms:\n",
    "    mol.GetAtomWithIdx(aA).SetAtomicNum(0)\n",
    "\n",
    "submol = Chem.PathToSubmol(mol, enlargedEnv)\n",
    "\n",
    "# change [0] to *\n",
    "MorganBitSmarts = Chem.MolToSmarts(submol).replace('[#0]', '*')\n",
    "print(MorganBitSmarts)"
   ]
  },
  {
   "cell_type": "code",
   "execution_count": 55,
   "id": "9d163425-a63d-48fd-950a-fde661e9f8db",
   "metadata": {
    "tags": []
   },
   "outputs": [],
   "source": [
    "info = {}\n",
    "morgan_fp=AllChem.GetMorganFingerprintAsBitVect(m2, 3, nBits=2048, bitInfo=info, useFeatures=True)"
   ]
  },
  {
   "cell_type": "code",
   "execution_count": 57,
   "id": "8dc70c92-5d97-4467-be56-e7ddb8716626",
   "metadata": {
    "tags": []
   },
   "outputs": [
    {
     "data": {
      "text/plain": [
       "[0, 3, 383, 792, 1085, 1386, 1687, 2041]"
      ]
     },
     "execution_count": 57,
     "metadata": {},
     "output_type": "execute_result"
    }
   ],
   "source": [
    "list(info)"
   ]
  },
  {
   "cell_type": "code",
   "execution_count": 56,
   "id": "fbce8eb7-c838-49c7-a376-34099f87dd00",
   "metadata": {
    "tags": []
   },
   "outputs": [
    {
     "data": {
      "application/vnd.jupyter.widget-view+json": {
       "model_id": "109c4daa0de2466ca7668722b9b68334",
       "version_major": 2,
       "version_minor": 0
      },
      "text/plain": [
       "interactive(children=(Dropdown(description='bitIdx', options=(0, 3, 383, 792, 1085, 1386, 1687, 2041), value=0…"
      ]
     },
     "metadata": {},
     "output_type": "display_data"
    }
   ],
   "source": [
    "interact(renderFpBit, bitIdx=list(info.keys()),mol=fixed(m2),\n",
    "         bitInfo=fixed(info),fn=fixed(Draw.DrawMorganBit));"
   ]
  },
  {
   "cell_type": "code",
   "execution_count": null,
   "id": "2d0cae0b-509e-40dc-9f4d-04789241fad5",
   "metadata": {},
   "outputs": [],
   "source": []
  }
 ],
 "metadata": {
  "kernelspec": {
   "display_name": "Python 3 (ipykernel)",
   "language": "python",
   "name": "python3"
  },
  "language_info": {
   "codemirror_mode": {
    "name": "ipython",
    "version": 3
   },
   "file_extension": ".py",
   "mimetype": "text/x-python",
   "name": "python",
   "nbconvert_exporter": "python",
   "pygments_lexer": "ipython3",
   "version": "3.11.4"
  }
 },
 "nbformat": 4,
 "nbformat_minor": 5
}
