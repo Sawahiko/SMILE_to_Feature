{
 "cells": [
  {
   "cell_type": "code",
   "execution_count": 1,
   "id": "62169992-fe92-43c3-b9c2-3dee8a8e8772",
   "metadata": {
    "tags": []
   },
   "outputs": [],
   "source": [
    "from chemicals import CAS_from_any, Tb\n",
    "import chemicals.critical as ct\n",
    "import chemicals.phase_change\n",
    "import chemicals.data_reader as cd\n",
    "import chemicals"
   ]
  },
  {
   "cell_type": "code",
   "execution_count": 58,
   "id": "12cb3420-36f0-4af8-941a-88f8fd7a3131",
   "metadata": {},
   "outputs": [],
   "source": [
    "from chemicals.critical import Tc_sources, Tc_all_methods\n",
    "from chemicals.critical import Pc_sources, Pc_all_methods\n",
    "from chemicals.critical import Vc_sources, Vc_all_methods\n",
    "from chemicals.critical import Zc_sources, Zc_all_methods\n",
    "from chemicals.critical import omega_sources\n",
    "from chemicals.acentric import omega_all_methods\n",
    "\n",
    "tc_list = chemicals.critical.Tc_all_methods\n",
    "pc_list = chemicals.critical.Pc_all_methods\n",
    "vc_list = chemicals.critical.Vc_all_methods\n",
    "zc_list = chemicals.critical.Zc_all_methods\n",
    "ome_list = chemicals.acentric.omega_all_methods\n",
    "\n",
    "def intersection(lst1, lst2):\n",
    "    lst3 = [value for value in lst1 if value in lst2]\n",
    "    return lst3\n",
    "its_list = intersection(tc_list, pc_list)\n",
    "its_list = intersection(its_list, vc_list)\n",
    "its_list = intersection(its_list, ome_list)\n",
    "all_list = intersection(its_list, zc_list)"
   ]
  },
  {
   "cell_type": "code",
   "execution_count": 59,
   "id": "6a8e8efa-1dc8-425e-808d-5af049c37203",
   "metadata": {
    "tags": []
   },
   "outputs": [
    {
     "name": "stdout",
     "output_type": "stream",
     "text": [
      "Index(['ID', 'Tc', 'Pc', 'Vc', 'Tt', 'Pt', 'Tb', 'omega', 'Zc'], dtype='object')\n",
      "145\n",
      "Index(['Chemical', 'Tc', 'Pc', 'Vc', 'omega', 'Zc'], dtype='object')\n",
      "995\n",
      "Index(['Chemical', 'Tc', 'Pc', 'Vc', 'omega', 'Zc'], dtype='object')\n",
      "7549\n"
     ]
    }
   ],
   "source": [
    "for list_1 in all_list:\n",
    "    df=Tc_sources[list_1]\n",
    "    print(df.columns)\n",
    "    print(df.shape[0])\n",
    "    #print(\"\\n\")"
   ]
  },
  {
   "cell_type": "code",
   "execution_count": 60,
   "id": "e6099fe7-fb8f-4ea2-8d67-dafedf26f9bb",
   "metadata": {
    "tags": []
   },
   "outputs": [],
   "source": [
    "for list_1 in all_list:\n",
    "    df=Tc_sources[list_1]\n",
    "    #print(df)\n",
    "    #print(\"\\n\")"
   ]
  },
  {
   "cell_type": "code",
   "execution_count": null,
   "id": "b8f89e02-ed2e-45d5-81eb-ae818703bd2e",
   "metadata": {},
   "outputs": [],
   "source": []
  }
 ],
 "metadata": {
  "kernelspec": {
   "display_name": "Python 3 (ipykernel)",
   "language": "python",
   "name": "python3"
  },
  "language_info": {
   "codemirror_mode": {
    "name": "ipython",
    "version": 3
   },
   "file_extension": ".py",
   "mimetype": "text/x-python",
   "name": "python",
   "nbconvert_exporter": "python",
   "pygments_lexer": "ipython3",
   "version": "3.11.4"
  }
 },
 "nbformat": 4,
 "nbformat_minor": 5
}
