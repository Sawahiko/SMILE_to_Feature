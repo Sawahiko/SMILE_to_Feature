{
 "cells": [
  {
   "cell_type": "code",
   "execution_count": 133,
   "id": "d6ce4064-cd09-4390-8dba-f2196b7b9f78",
   "metadata": {
    "id": "5QKaKQNzGN7T",
    "tags": []
   },
   "outputs": [],
   "source": [
    "# https://www.rdkit.org/\n",
    "#https://github.com/rdkit/rdkit\n",
    "from rdkit.Chem import AllChem\n",
    "from rdkit import Chem\n",
    "from rdkit.Chem import Descriptors\n",
    "from rdkit.ML.Descriptors import MoleculeDescriptors\n",
    "# https://pandas.pydata.org\n",
    "import pandas as pd\n",
    "\n",
    "# https://numpy.org/doc/stable/release.html\n",
    "import numpy as np\n",
    "\n",
    "#https://github.com/mordred-descriptor/mordred\n",
    "#from mordred import Calculator, descriptors\n",
    "\n",
    "from rdkit.Chem import Draw\n",
    "from rdkit.Chem.Draw import rdMolDraw2D"
   ]
  },
  {
   "cell_type": "code",
   "execution_count": 134,
   "id": "8e2c283b-8731-4f3e-ba83-7af997c8ecc6",
   "metadata": {},
   "outputs": [],
   "source": [
    "import pandas as pd\n",
    "import numpy as np\n",
    "import seaborn as sn\n",
    "import matplotlib.pyplot as plt\n",
    "#---------------------- RDKit packages\n",
    "from rdkit.Chem import AllChem\n",
    "from rdkit.Chem import rdMolDescriptors\n",
    "from rdkit.Chem.Draw import IPythonConsole\n",
    "from rdkit.Chem import Draw\n",
    "from rdkit import DataStructs\n",
    "from rdkit.ML.Cluster import Butina\n",
    "#------------------- progress bar\n",
    "from tqdm import tqdm\n",
    "#------------------- hide warning\n",
    "import warnings\n",
    "warnings.filterwarnings('ignore')"
   ]
  },
  {
   "cell_type": "markdown",
   "id": "8d84b0e1-0fa8-4055-9336-9f7d0b7e8dda",
   "metadata": {
    "tags": []
   },
   "source": [
    "# Morgan_fingerprint"
   ]
  },
  {
   "cell_type": "code",
   "execution_count": 135,
   "id": "f3e6133f-2bea-4709-afb4-12aa38b229fb",
   "metadata": {
    "tags": []
   },
   "outputs": [
    {
     "data": {
      "image/png": "[encoded data removed]",
      "text/plain": [
       "<PIL.PngImagePlugin.PngImageFile image mode=RGB size=300x300>"
      ]
     },
     "execution_count": 135,
     "metadata": {},
     "output_type": "execute_result"
    }
   ],
   "source": [
    "name1 = \"CCCC(C)O\"\n",
    "m1 = Chem.MolFromSmiles(name1)\n",
    "img1 = Draw.MolToImage(m1)\n",
    "img1"
   ]
  },
  {
   "cell_type": "code",
   "execution_count": 136,
   "id": "9e2aba3d-ebbc-4c66-8cd5-04aa3f5a79f6",
   "metadata": {
    "tags": []
   },
   "outputs": [
    {
     "data": {
      "image/png": "[encoded data removed]",
      "text/plain": [
       "<PIL.PngImagePlugin.PngImageFile image mode=RGB size=300x300>"
      ]
     },
     "execution_count": 136,
     "metadata": {},
     "output_type": "execute_result"
    }
   ],
   "source": [
    "name2 = \"CCC(CC)O\"\n",
    "m2 = Chem.MolFromSmiles(name2)\n",
    "img2 = Draw.MolToImage(m2)\n",
    "img2"
   ]
  },
  {
   "cell_type": "code",
   "execution_count": 137,
   "id": "0fa11589-dfb0-467a-8bf0-59c771bcbe2b",
   "metadata": {
    "tags": []
   },
   "outputs": [
    {
     "data": {
      "text/html": [
       "<div>\n",
       "<style scoped>\n",
       "    .dataframe tbody tr th:only-of-type {\n",
       "        vertical-align: middle;\n",
       "    }\n",
       "\n",
       "    .dataframe tbody tr th {\n",
       "        vertical-align: top;\n",
       "    }\n",
       "\n",
       "    .dataframe thead th {\n",
       "        text-align: right;\n",
       "    }\n",
       "</style>\n",
       "<table border=\"1\" class=\"dataframe\">\n",
       "  <thead>\n",
       "    <tr style=\"text-align: right;\">\n",
       "      <th></th>\n",
       "      <th>SMILE</th>\n",
       "      <th>molecule</th>\n",
       "      <th>morgan_fp</th>\n",
       "    </tr>\n",
       "  </thead>\n",
       "  <tbody>\n",
       "    <tr>\n",
       "      <th>0</th>\n",
       "      <td>CCCC(C)O</td>\n",
       "      <td>&lt;rdkit.Chem.rdchem.Mol object at 0x0000018FFD5...</td>\n",
       "      <td>[1, 0, 0, 1, 0, 0, 0, 0, 0, 0, 0, 0, 0, 0, 0, ...</td>\n",
       "    </tr>\n",
       "    <tr>\n",
       "      <th>1</th>\n",
       "      <td>CCC(CC)O</td>\n",
       "      <td>&lt;rdkit.Chem.rdchem.Mol object at 0x0000018FFD5...</td>\n",
       "      <td>[1, 0, 0, 1, 0, 0, 0, 0, 0, 0, 0, 0, 0, 0, 0, ...</td>\n",
       "    </tr>\n",
       "  </tbody>\n",
       "</table>\n",
       "</div>"
      ],
      "text/plain": [
       "      SMILE                                           molecule  \\\n",
       "0  CCCC(C)O  <rdkit.Chem.rdchem.Mol object at 0x0000018FFD5...   \n",
       "1  CCC(CC)O  <rdkit.Chem.rdchem.Mol object at 0x0000018FFD5...   \n",
       "\n",
       "                                           morgan_fp  \n",
       "0  [1, 0, 0, 1, 0, 0, 0, 0, 0, 0, 0, 0, 0, 0, 0, ...  \n",
       "1  [1, 0, 0, 1, 0, 0, 0, 0, 0, 0, 0, 0, 0, 0, 0, ...  "
      ]
     },
     "execution_count": 137,
     "metadata": {},
     "output_type": "execute_result"
    }
   ],
   "source": [
    "data = {\n",
    "  \"SMILE\": [name1, name2]\n",
    "}\n",
    "TEST_X = pd.DataFrame(data)\n",
    "TEST_X[\"molecule\"] = TEST_X[\"SMILE\"].apply(lambda x: Chem.MolFromSmiles(x))\n",
    "TEST_X[\"morgan_fp\"] = TEST_X[\"molecule\"].apply(lambda x: rdMolDescriptors.GetMorganFingerprintAsBitVect(x, radius=4, nBits=250, useFeatures=True, useChirality=True))\n",
    "TEST_X"
   ]
  },
  {
   "cell_type": "code",
   "execution_count": 138,
   "id": "161b5cf2-aca8-45e7-a5ca-c7d6859b6c5d",
   "metadata": {
    "tags": []
   },
   "outputs": [],
   "source": [
    "#rdMolDescriptors.GetMorganFingerprintAsBitVect(m1, radius=4, nBits=250, useFeatures=True, useChirality=True)"
   ]
  },
  {
   "cell_type": "code",
   "execution_count": 139,
   "id": "b262d3be-db4e-4b7c-a558-c4c0bc38ba18",
   "metadata": {
    "tags": []
   },
   "outputs": [],
   "source": [
    "def SmileToMorganFP_df(smiles):\n",
    "    input_molecule = Chem.MolFromSmiles(smiles)\n",
    "    morgan_fp = rdMolDescriptors.GetMorganFingerprintAsBitVect(input_molecule, radius=4, nBits=250, useFeatures=True, useChirality=True)\n",
    "    morgan_array = np.array(morgan_fp)\n",
    "    morgan_dataframe = pd.DataFrame(morgan_array)\n",
    "    morgan_dataframe_row = morgan_dataframe.T\n",
    "    return morgan_dataframe_row\n",
    "def SmileToMorganFP(smiles):\n",
    "    input_molecule = Chem.MolFromSmiles(smiles)\n",
    "    morgan_fp = rdMolDescriptors.GetMorganFingerprintAsBitVect(input_molecule, radius=4, nBits=250, useFeatures=True, useChirality=True)\n",
    "    morgan_bit = morgan_fp.GetOnBits()\n",
    "    morgan_array = np.array(morgan_fp)\n",
    "    return morgan_array,tuple(morgan_bit)"
   ]
  },
  {
   "cell_type": "code",
   "execution_count": 140,
   "id": "c62a96c5-0736-47f7-b490-e3e2563f4d16",
   "metadata": {
    "tags": []
   },
   "outputs": [
    {
     "data": {
      "text/plain": [
       "'\\nname1 = \"CCCCCCCCCO\"\\nname2 = \"CCCCCCCCCCO\"\\n'"
      ]
     },
     "execution_count": 140,
     "metadata": {},
     "output_type": "execute_result"
    }
   ],
   "source": [
    "# STEP 0 \n",
    "'''\n",
    "name1 = \"CCCCCCCCCO\"\n",
    "name2 = \"CCCCCCCCCCO\"\n",
    "'''"
   ]
  },
  {
   "cell_type": "code",
   "execution_count": 141,
   "id": "e0de7281-01f3-4e6d-a03e-a2af3dc3e355",
   "metadata": {
    "tags": []
   },
   "outputs": [],
   "source": [
    "# STEP 1\n",
    "fp1 = SmileToMorganFP(name1)\n",
    "fp2 = SmileToMorganFP(name2)"
   ]
  },
  {
   "cell_type": "code",
   "execution_count": 142,
   "id": "7b084fbe-7adf-42f8-a60d-bce4105b1195",
   "metadata": {
    "tags": []
   },
   "outputs": [
    {
     "name": "stdout",
     "output_type": "stream",
     "text": [
      "All Diff index: \n",
      " [42, 47, 144, 193, 243]\n",
      "M2 Diff from M1: \n",
      " [47, 144, 243]\n",
      "M1 Diff from M2: \n",
      " [42, 193]\n"
     ]
    }
   ],
   "source": [
    "# STEP 2\n",
    "# Find Diff Feature\n",
    "\n",
    "fp_bit1=fp1[1]\n",
    "fp_bit2=fp2[1]\n",
    "all_diff = set(fp_bit1).symmetric_difference(set(fp_bit2))\n",
    "diff2_from1 = set(fp_bit1)-set(fp_bit2)\n",
    "diff1_from2 = set(fp_bit2)-set(fp_bit1)\n",
    "\n",
    "#print(\"M1 is \", smiles_to_iupac(name1)   )\n",
    "#print(\"M2 is \",  smiles_to_iupac(name2)  )\n",
    "print(\"All Diff index: \\n\", sorted(all_diff))\n",
    "print(\"M2 Diff from M1: \\n\", sorted(diff2_from1))\n",
    "print(\"M1 Diff from M2: \\n\", sorted(diff1_from2))"
   ]
  },
  {
   "cell_type": "code",
   "execution_count": 143,
   "id": "513de2b0-aa0d-439a-974e-bfad9dd653c2",
   "metadata": {
    "tags": []
   },
   "outputs": [
    {
     "data": {
      "image/png": "[encoded data removed]",
      "text/plain": [
       "<PIL.PngImagePlugin.PngImageFile image mode=RGB size=600x450>"
      ]
     },
     "execution_count": 143,
     "metadata": {},
     "output_type": "execute_result"
    }
   ],
   "source": [
    "onbits = {}\n",
    "mf = rdMolDescriptors.GetMorganFingerprintAsBitVect(m1, radius=4, nBits=250, useFeatures=True, useChirality=True, bitInfo=onbits)\n",
    "all_fragments = [(m1, x, onbits) for x in mf.GetOnBits()]\n",
    "Draw.DrawMorganBits(all_fragments[:],molsPerRow=4, legends=[str(x) for x in mf.GetOnBits()][:])"
   ]
  },
  {
   "cell_type": "code",
   "execution_count": 144,
   "id": "251217e2-dfaa-4e7c-a4fe-ce8596e3ca04",
   "metadata": {
    "tags": []
   },
   "outputs": [
    {
     "data": {
      "text/plain": [
       "[(<rdkit.Chem.rdchem.Mol at 0x18ffd50e7a0>,\n",
       "  0,\n",
       "  {0: ((0, 0), (1, 0), (2, 0), (3, 0), (4, 0)),\n",
       "   3: ((5, 0),),\n",
       "   47: ((1, 2),),\n",
       "   75: ((5, 1),),\n",
       "   119: ((0, 1), (4, 1)),\n",
       "   138: ((1, 1), (2, 1)),\n",
       "   144: ((3, 2),),\n",
       "   157: ((3, 1),),\n",
       "   243: ((2, 2),)}),\n",
       " (<rdkit.Chem.rdchem.Mol at 0x18ffd50e7a0>,\n",
       "  3,\n",
       "  {0: ((0, 0), (1, 0), (2, 0), (3, 0), (4, 0)),\n",
       "   3: ((5, 0),),\n",
       "   47: ((1, 2),),\n",
       "   75: ((5, 1),),\n",
       "   119: ((0, 1), (4, 1)),\n",
       "   138: ((1, 1), (2, 1)),\n",
       "   144: ((3, 2),),\n",
       "   157: ((3, 1),),\n",
       "   243: ((2, 2),)}),\n",
       " (<rdkit.Chem.rdchem.Mol at 0x18ffd50e7a0>,\n",
       "  47,\n",
       "  {0: ((0, 0), (1, 0), (2, 0), (3, 0), (4, 0)),\n",
       "   3: ((5, 0),),\n",
       "   47: ((1, 2),),\n",
       "   75: ((5, 1),),\n",
       "   119: ((0, 1), (4, 1)),\n",
       "   138: ((1, 1), (2, 1)),\n",
       "   144: ((3, 2),),\n",
       "   157: ((3, 1),),\n",
       "   243: ((2, 2),)}),\n",
       " (<rdkit.Chem.rdchem.Mol at 0x18ffd50e7a0>,\n",
       "  75,\n",
       "  {0: ((0, 0), (1, 0), (2, 0), (3, 0), (4, 0)),\n",
       "   3: ((5, 0),),\n",
       "   47: ((1, 2),),\n",
       "   75: ((5, 1),),\n",
       "   119: ((0, 1), (4, 1)),\n",
       "   138: ((1, 1), (2, 1)),\n",
       "   144: ((3, 2),),\n",
       "   157: ((3, 1),),\n",
       "   243: ((2, 2),)}),\n",
       " (<rdkit.Chem.rdchem.Mol at 0x18ffd50e7a0>,\n",
       "  119,\n",
       "  {0: ((0, 0), (1, 0), (2, 0), (3, 0), (4, 0)),\n",
       "   3: ((5, 0),),\n",
       "   47: ((1, 2),),\n",
       "   75: ((5, 1),),\n",
       "   119: ((0, 1), (4, 1)),\n",
       "   138: ((1, 1), (2, 1)),\n",
       "   144: ((3, 2),),\n",
       "   157: ((3, 1),),\n",
       "   243: ((2, 2),)}),\n",
       " (<rdkit.Chem.rdchem.Mol at 0x18ffd50e7a0>,\n",
       "  138,\n",
       "  {0: ((0, 0), (1, 0), (2, 0), (3, 0), (4, 0)),\n",
       "   3: ((5, 0),),\n",
       "   47: ((1, 2),),\n",
       "   75: ((5, 1),),\n",
       "   119: ((0, 1), (4, 1)),\n",
       "   138: ((1, 1), (2, 1)),\n",
       "   144: ((3, 2),),\n",
       "   157: ((3, 1),),\n",
       "   243: ((2, 2),)}),\n",
       " (<rdkit.Chem.rdchem.Mol at 0x18ffd50e7a0>,\n",
       "  144,\n",
       "  {0: ((0, 0), (1, 0), (2, 0), (3, 0), (4, 0)),\n",
       "   3: ((5, 0),),\n",
       "   47: ((1, 2),),\n",
       "   75: ((5, 1),),\n",
       "   119: ((0, 1), (4, 1)),\n",
       "   138: ((1, 1), (2, 1)),\n",
       "   144: ((3, 2),),\n",
       "   157: ((3, 1),),\n",
       "   243: ((2, 2),)}),\n",
       " (<rdkit.Chem.rdchem.Mol at 0x18ffd50e7a0>,\n",
       "  157,\n",
       "  {0: ((0, 0), (1, 0), (2, 0), (3, 0), (4, 0)),\n",
       "   3: ((5, 0),),\n",
       "   47: ((1, 2),),\n",
       "   75: ((5, 1),),\n",
       "   119: ((0, 1), (4, 1)),\n",
       "   138: ((1, 1), (2, 1)),\n",
       "   144: ((3, 2),),\n",
       "   157: ((3, 1),),\n",
       "   243: ((2, 2),)}),\n",
       " (<rdkit.Chem.rdchem.Mol at 0x18ffd50e7a0>,\n",
       "  243,\n",
       "  {0: ((0, 0), (1, 0), (2, 0), (3, 0), (4, 0)),\n",
       "   3: ((5, 0),),\n",
       "   47: ((1, 2),),\n",
       "   75: ((5, 1),),\n",
       "   119: ((0, 1), (4, 1)),\n",
       "   138: ((1, 1), (2, 1)),\n",
       "   144: ((3, 2),),\n",
       "   157: ((3, 1),),\n",
       "   243: ((2, 2),)})]"
      ]
     },
     "execution_count": 144,
     "metadata": {},
     "output_type": "execute_result"
    }
   ],
   "source": [
    "all_fragments"
   ]
  },
  {
   "cell_type": "markdown",
   "id": "dd516644-066d-4b65-9a5f-fc1de92e3e74",
   "metadata": {},
   "source": [
    "# "
   ]
  },
  {
   "cell_type": "code",
   "execution_count": 145,
   "id": "37de66a2-017e-44e2-a090-5561cb377c2f",
   "metadata": {
    "tags": []
   },
   "outputs": [],
   "source": [
    "import numpy as np\n",
    "import pandas as pd\n",
    "from sklearn.linear_model import LinearRegression\n",
    "from sklearn.model_selection import train_test_split\n",
    "import matplotlib.pyplot as plt\n",
    "from sklearn.metrics import mean_absolute_percentage_error, mean_squared_error, r2_score\n",
    "\n",
    "from matplotlib import pyplot as plt\n",
    "import matplotlib.patches as mpatches\n",
    "import seaborn as sn\n",
    "\n",
    "from rdkit.Chem import Descriptors\n",
    "from rdkit.ML.Descriptors import MoleculeDescriptors\n",
    "from rdkit.Chem import rdMolDescriptors\n",
    "# https://www.rdkit.org/\n",
    "#https://github.com/rdkit/rdkit\n",
    "from rdkit.Chem import AllChem\n",
    "from rdkit import Chem\n",
    "from rdkit.Chem import Descriptors\n",
    "from rdkit.ML.Descriptors import MoleculeDescriptors\n",
    "\n",
    "# https://pandas.pydata.org\n",
    "import pandas as pd\n",
    "\n",
    "# https://numpy.org/doc/stable/release.html\n",
    "import numpy as np\n",
    "\n",
    "#https://github.com/mordred-descriptor/mordred\n",
    "\n"
   ]
  },
  {
   "cell_type": "code",
   "execution_count": 146,
   "id": "9e37fe11-44cd-422b-98c1-da08cf889121",
   "metadata": {
    "tags": []
   },
   "outputs": [],
   "source": [
    "########   Prepare Data     ########\n",
    "#Import Data\n",
    "df = pd.read_excel(\"DataTb.xlsx\",sheet_name=\"AllDataSet\")\n",
    "\n",
    "#Select feature for data\n",
    "X_data= df.drop(columns ={\"Name\",\"Tb\",\"CAS\",\"Type\",\"Formular\",\"Unnamed: 11\",\"Unnamed: 12\",\"Unnamed: 13\",\"Unnamed: 14\",\"C\",\"Double\", \"Triple\", \"Bracket\", \"Cyclic\"})\n",
    "Y_data= df[\"Tb\"]\n"
   ]
  },
  {
   "cell_type": "code",
   "execution_count": 147,
   "id": "3d5b6892-6031-4461-8697-92243dbdaf2f",
   "metadata": {
    "tags": []
   },
   "outputs": [],
   "source": [
    "X_data_use = X_data.copy()\n",
    "X_data_use2 = X_data.copy()\n",
    "X_data_use[\"molecule\"] = X_data_use[\"SMILES\"].apply(lambda x: Chem.MolFromSmiles(x))\n",
    "X_data_use[\"morgan_fp\"] = X_data_use[\"molecule\"].apply(lambda x: rdMolDescriptors.GetMorganFingerprintAsBitVect(x, radius=4, nBits=250, useFeatures=True, useChirality=True))\n",
    "#X_data_use"
   ]
  },
  {
   "cell_type": "code",
   "execution_count": 148,
   "id": "431d8a5d-791d-45db-b63d-7d6694d44f56",
   "metadata": {
    "tags": []
   },
   "outputs": [],
   "source": [
    "#X_data\n",
    "X_data_fp = []\n",
    "for i in range(X_data_use.shape[0]):\n",
    "    array = np.array(X_data_use[\"morgan_fp\"][i])\n",
    "    datafram_i = pd.DataFrame(array)\n",
    "    datafram_i = datafram_i.T\n",
    "    X_data_fp.append(datafram_i)\n",
    "X_data_fp = pd.concat(X_data_fp, ignore_index=True)"
   ]
  },
  {
   "cell_type": "code",
   "execution_count": 149,
   "id": "9e58b9c8-9d1c-4dee-bbff-4416986dcad2",
   "metadata": {
    "tags": []
   },
   "outputs": [],
   "source": [
    "#X_data_fp\n",
    "#Y_data"
   ]
  },
  {
   "cell_type": "code",
   "execution_count": 150,
   "id": "f3bec175-3afb-47ba-9735-08db4172b330",
   "metadata": {
    "tags": []
   },
   "outputs": [
    {
     "data": {
      "text/html": [
       "<style>#sk-container-id-2 {color: black;}#sk-container-id-2 pre{padding: 0;}#sk-container-id-2 div.sk-toggleable {background-color: white;}#sk-container-id-2 label.sk-toggleable__label {cursor: pointer;display: block;width: 100%;margin-bottom: 0;padding: 0.3em;box-sizing: border-box;text-align: center;}#sk-container-id-2 label.sk-toggleable__label-arrow:before {content: \"▸\";float: left;margin-right: 0.25em;color: #696969;}#sk-container-id-2 label.sk-toggleable__label-arrow:hover:before {color: black;}#sk-container-id-2 div.sk-estimator:hover label.sk-toggleable__label-arrow:before {color: black;}#sk-container-id-2 div.sk-toggleable__content {max-height: 0;max-width: 0;overflow: hidden;text-align: left;background-color: #f0f8ff;}#sk-container-id-2 div.sk-toggleable__content pre {margin: 0.2em;color: black;border-radius: 0.25em;background-color: #f0f8ff;}#sk-container-id-2 input.sk-toggleable__control:checked~div.sk-toggleable__content {max-height: 200px;max-width: 100%;overflow: auto;}#sk-container-id-2 input.sk-toggleable__control:checked~label.sk-toggleable__label-arrow:before {content: \"▾\";}#sk-container-id-2 div.sk-estimator input.sk-toggleable__control:checked~label.sk-toggleable__label {background-color: #d4ebff;}#sk-container-id-2 div.sk-label input.sk-toggleable__control:checked~label.sk-toggleable__label {background-color: #d4ebff;}#sk-container-id-2 input.sk-hidden--visually {border: 0;clip: rect(1px 1px 1px 1px);clip: rect(1px, 1px, 1px, 1px);height: 1px;margin: -1px;overflow: hidden;padding: 0;position: absolute;width: 1px;}#sk-container-id-2 div.sk-estimator {font-family: monospace;background-color: #f0f8ff;border: 1px dotted black;border-radius: 0.25em;box-sizing: border-box;margin-bottom: 0.5em;}#sk-container-id-2 div.sk-estimator:hover {background-color: #d4ebff;}#sk-container-id-2 div.sk-parallel-item::after {content: \"\";width: 100%;border-bottom: 1px solid gray;flex-grow: 1;}#sk-container-id-2 div.sk-label:hover label.sk-toggleable__label {background-color: #d4ebff;}#sk-container-id-2 div.sk-serial::before {content: \"\";position: absolute;border-left: 1px solid gray;box-sizing: border-box;top: 0;bottom: 0;left: 50%;z-index: 0;}#sk-container-id-2 div.sk-serial {display: flex;flex-direction: column;align-items: center;background-color: white;padding-right: 0.2em;padding-left: 0.2em;position: relative;}#sk-container-id-2 div.sk-item {position: relative;z-index: 1;}#sk-container-id-2 div.sk-parallel {display: flex;align-items: stretch;justify-content: center;background-color: white;position: relative;}#sk-container-id-2 div.sk-item::before, #sk-container-id-2 div.sk-parallel-item::before {content: \"\";position: absolute;border-left: 1px solid gray;box-sizing: border-box;top: 0;bottom: 0;left: 50%;z-index: -1;}#sk-container-id-2 div.sk-parallel-item {display: flex;flex-direction: column;z-index: 1;position: relative;background-color: white;}#sk-container-id-2 div.sk-parallel-item:first-child::after {align-self: flex-end;width: 50%;}#sk-container-id-2 div.sk-parallel-item:last-child::after {align-self: flex-start;width: 50%;}#sk-container-id-2 div.sk-parallel-item:only-child::after {width: 0;}#sk-container-id-2 div.sk-dashed-wrapped {border: 1px dashed gray;margin: 0 0.4em 0.5em 0.4em;box-sizing: border-box;padding-bottom: 0.4em;background-color: white;}#sk-container-id-2 div.sk-label label {font-family: monospace;font-weight: bold;display: inline-block;line-height: 1.2em;}#sk-container-id-2 div.sk-label-container {text-align: center;}#sk-container-id-2 div.sk-container {/* jupyter's `normalize.less` sets `[hidden] { display: none; }` but bootstrap.min.css set `[hidden] { display: none !important; }` so we also need the `!important` here to be able to override the default hidden behavior on the sphinx rendered scikit-learn.org. See: https://github.com/scikit-learn/scikit-learn/issues/21755 */display: inline-block !important;position: relative;}#sk-container-id-2 div.sk-text-repr-fallback {display: none;}</style><div id=\"sk-container-id-2\" class=\"sk-top-container\"><div class=\"sk-text-repr-fallback\"><pre>LinearRegression()</pre><b>In a Jupyter environment, please rerun this cell to show the HTML representation or trust the notebook. <br />On GitHub, the HTML representation is unable to render, please try loading this page with nbviewer.org.</b></div><div class=\"sk-container\" hidden><div class=\"sk-item\"><div class=\"sk-estimator sk-toggleable\"><input class=\"sk-toggleable__control sk-hidden--visually\" id=\"sk-estimator-id-2\" type=\"checkbox\" checked><label for=\"sk-estimator-id-2\" class=\"sk-toggleable__label sk-toggleable__label-arrow\">LinearRegression</label><div class=\"sk-toggleable__content\"><pre>LinearRegression()</pre></div></div></div></div></div>"
      ],
      "text/plain": [
       "LinearRegression()"
      ]
     },
     "execution_count": 150,
     "metadata": {},
     "output_type": "execute_result"
    }
   ],
   "source": [
    "# %%\n",
    "X_train, X_test, y_train, y_test = train_test_split(X_data_fp, Y_data,test_size=0.3,random_state=42)\n",
    "########   Model  ########\n",
    "Linear = LinearRegression()\n",
    "Linear.fit(X_train, y_train)"
   ]
  },
  {
   "cell_type": "code",
   "execution_count": 151,
   "id": "5a318ec0-fa25-48be-9631-8840604de5c7",
   "metadata": {
    "tags": []
   },
   "outputs": [],
   "source": [
    "X_data_use2 = X_data.copy()\n",
    "X_data_use2[\"Bit\"] = X_data_use[\"molecule\"].apply(lambda x: np.array(rdMolDescriptors.GetMorganFingerprintAsBitVect(x, radius=4, nBits=250, useFeatures=True, useChirality=True).GetOnBits()))\n",
    "X_data_use2[\"Bit\"] = X_data_use2[\"Bit\"].apply(lambda x: ' '.join([str(elem) for elem in x]))\n",
    "X_data_use2[\"len Bit\"] = X_data_use2[\"Bit\"].apply(lambda x: x.count(\" \")+1)"
   ]
  },
  {
   "cell_type": "code",
   "execution_count": 152,
   "id": "953bd38f-697e-4d46-b07d-20efda6be6bd",
   "metadata": {
    "tags": []
   },
   "outputs": [],
   "source": [
    "X_data_use2.to_csv(\"TEST2.csv\")\n",
    "#' ,'.join([str(elem) for elem in X_data_use2[\"Bit\"]])\n",
    "#' '.join(X_data_use2[\"Bit\"][:])\n",
    "#X_data_use2[\"Bit\"][1]"
   ]
  },
  {
   "cell_type": "code",
   "execution_count": 153,
   "id": "4e917105-d69b-4081-ab02-0e66b16bcff3",
   "metadata": {
    "tags": []
   },
   "outputs": [
    {
     "data": {
      "text/html": [
       "<div>\n",
       "<style scoped>\n",
       "    .dataframe tbody tr th:only-of-type {\n",
       "        vertical-align: middle;\n",
       "    }\n",
       "\n",
       "    .dataframe tbody tr th {\n",
       "        vertical-align: top;\n",
       "    }\n",
       "\n",
       "    .dataframe thead th {\n",
       "        text-align: right;\n",
       "    }\n",
       "</style>\n",
       "<table border=\"1\" class=\"dataframe\">\n",
       "  <thead>\n",
       "    <tr style=\"text-align: right;\">\n",
       "      <th></th>\n",
       "      <th>SMILES</th>\n",
       "      <th>Bit</th>\n",
       "      <th>len Bit</th>\n",
       "    </tr>\n",
       "  </thead>\n",
       "  <tbody>\n",
       "    <tr>\n",
       "      <th>0</th>\n",
       "      <td>C</td>\n",
       "      <td>0</td>\n",
       "      <td>1</td>\n",
       "    </tr>\n",
       "    <tr>\n",
       "      <th>1</th>\n",
       "      <td>CC</td>\n",
       "      <td>0 119</td>\n",
       "      <td>2</td>\n",
       "    </tr>\n",
       "    <tr>\n",
       "      <th>2</th>\n",
       "      <td>CCC</td>\n",
       "      <td>0 119 138</td>\n",
       "      <td>3</td>\n",
       "    </tr>\n",
       "    <tr>\n",
       "      <th>3</th>\n",
       "      <td>C1CC1</td>\n",
       "      <td>0 138 196</td>\n",
       "      <td>3</td>\n",
       "    </tr>\n",
       "    <tr>\n",
       "      <th>4</th>\n",
       "      <td>CC(C)C</td>\n",
       "      <td>0 119 138</td>\n",
       "      <td>3</td>\n",
       "    </tr>\n",
       "    <tr>\n",
       "      <th>...</th>\n",
       "      <td>...</td>\n",
       "      <td>...</td>\n",
       "      <td>...</td>\n",
       "    </tr>\n",
       "    <tr>\n",
       "      <th>555</th>\n",
       "      <td>CCCCCCC#CCCC</td>\n",
       "      <td>0 11 19 24 30 47 62 63 64 91 98 119 138 164 16...</td>\n",
       "      <td>18</td>\n",
       "    </tr>\n",
       "    <tr>\n",
       "      <th>556</th>\n",
       "      <td>CCCCCCCCCC</td>\n",
       "      <td>0 24 47 63 102 117 119 138 196</td>\n",
       "      <td>9</td>\n",
       "    </tr>\n",
       "    <tr>\n",
       "      <th>557</th>\n",
       "      <td>CCCCCCCCC#CC</td>\n",
       "      <td>0 11 19 24 30 47 63 91 98 102 117 119 138 163 ...</td>\n",
       "      <td>18</td>\n",
       "    </tr>\n",
       "    <tr>\n",
       "      <th>558</th>\n",
       "      <td>CCCCCCCC1CCCC1</td>\n",
       "      <td>0 2 24 47 59 63 102 103 111 119 138 154 160 18...</td>\n",
       "      <td>17</td>\n",
       "    </tr>\n",
       "    <tr>\n",
       "      <th>559</th>\n",
       "      <td>CCCCCCCCCCCC</td>\n",
       "      <td>0 24 47 63 102 117 119 138 196</td>\n",
       "      <td>9</td>\n",
       "    </tr>\n",
       "  </tbody>\n",
       "</table>\n",
       "<p>560 rows × 3 columns</p>\n",
       "</div>"
      ],
      "text/plain": [
       "             SMILES                                                Bit  \\\n",
       "0                 C                                                  0   \n",
       "1                CC                                              0 119   \n",
       "2               CCC                                          0 119 138   \n",
       "3             C1CC1                                          0 138 196   \n",
       "4            CC(C)C                                          0 119 138   \n",
       "..              ...                                                ...   \n",
       "555    CCCCCCC#CCCC  0 11 19 24 30 47 62 63 64 91 98 119 138 164 16...   \n",
       "556      CCCCCCCCCC                     0 24 47 63 102 117 119 138 196   \n",
       "557    CCCCCCCCC#CC  0 11 19 24 30 47 63 91 98 102 117 119 138 163 ...   \n",
       "558  CCCCCCCC1CCCC1  0 2 24 47 59 63 102 103 111 119 138 154 160 18...   \n",
       "559    CCCCCCCCCCCC                     0 24 47 63 102 117 119 138 196   \n",
       "\n",
       "     len Bit  \n",
       "0          1  \n",
       "1          2  \n",
       "2          3  \n",
       "3          3  \n",
       "4          3  \n",
       "..       ...  \n",
       "555       18  \n",
       "556        9  \n",
       "557       18  \n",
       "558       17  \n",
       "559        9  \n",
       "\n",
       "[560 rows x 3 columns]"
      ]
     },
     "execution_count": 153,
     "metadata": {},
     "output_type": "execute_result"
    }
   ],
   "source": [
    "X_data_use2"
   ]
  },
  {
   "cell_type": "code",
   "execution_count": 178,
   "id": "1ca57297-47c0-4138-a07c-bf3948c84148",
   "metadata": {
    "tags": []
   },
   "outputs": [
    {
     "data": {
      "text/plain": [
       "571"
      ]
     },
     "execution_count": 178,
     "metadata": {},
     "output_type": "execute_result"
    }
   ],
   "source": [
    "X_data_use3 = X_data.copy()\n",
    "X_data_use3[\"Bit\"] = X_data_use[\"molecule\"].apply(lambda x: np.array(rdMolDescriptors.GetMorganFingerprintAsBitVect(x, radius=4, nBits=2**10, useFeatures=True, useChirality=True).GetOnBits()))\n",
    "unique_bit = []\n",
    "X_data_use3[\"Bit\"] = X_data_use3[\"Bit\"].apply(lambda x: ' '.join([str(elem) for elem in x]))\n",
    "bit = X_data_use3[\"Bit\"].apply(lambda x: x.split(\" \"))\n",
    "lst1 = list(enumerate(bit))[:][0][1]\n",
    "\n",
    "for i in range(560):\n",
    "    lst2 = list(enumerate(bit))[:][i][1]\n",
    "    lst1 = list(set(lst1) | set(lst2))\n",
    "\n",
    "lst1 = sorted([eval(i) for i in lst1], reverse = True)\n",
    "len(lst1)"
   ]
  },
  {
   "cell_type": "code",
   "execution_count": null,
   "id": "47c29bbc-ed9e-4b17-9452-bea4b5a6ba04",
   "metadata": {},
   "outputs": [],
   "source": []
  },
  {
   "cell_type": "code",
   "execution_count": null,
   "id": "e3a1698a-2a74-4c5e-9bee-fb26c9fed0f9",
   "metadata": {},
   "outputs": [],
   "source": []
  }
 ],
 "metadata": {
  "kernelspec": {
   "display_name": "Python 3 (ipykernel)",
   "language": "python",
   "name": "python3"
  },
  "language_info": {
   "codemirror_mode": {
    "name": "ipython",
    "version": 3
   },
   "file_extension": ".py",
   "mimetype": "text/x-python",
   "name": "python",
   "nbconvert_exporter": "python",
   "pygments_lexer": "ipython3",
   "version": "3.11.4"
  }
 },
 "nbformat": 4,
 "nbformat_minor": 5
}
