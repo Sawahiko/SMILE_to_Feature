{
 "cells": [
  {
   "cell_type": "code",
   "execution_count": 1,
   "id": "9912ab0f-e8c2-44c1-b0a2-eb02319a2a6f",
   "metadata": {
    "scrolled": true,
    "tags": []
   },
   "outputs": [],
   "source": [
    "#pip install rdkit pandas numpy seaborn sklearn"
   ]
  },
  {
   "cell_type": "code",
   "execution_count": 1,
   "id": "e69a6d8d-6960-4465-a1e8-50f6b4b00d3d",
   "metadata": {
    "id": "5QKaKQNzGN7T",
    "tags": []
   },
   "outputs": [],
   "source": [
    "# https://www.rdkit.org/\n",
    "import rdkit\n",
    "#https://github.com/rdkit/rdkit\n",
    "from rdkit.Chem import AllChem\n",
    "from rdkit import Chem\n",
    "from rdkit.Chem import Descriptors\n",
    "from rdkit.ML.Descriptors import MoleculeDescriptors\n",
    "# https://pandas.pydata.org\n",
    "import pandas as pd\n",
    "\n",
    "# https://numpy.org/doc/stable/release.html\n",
    "import numpy as np\n",
    "\n",
    "#https://github.com/mordred-descriptor/mordred\n",
    "#from mordred import Calculator, descriptors\n",
    "\n",
    "from rdkit.Chem import Draw\n",
    "from rdkit.Chem.Draw import rdMolDraw2D"
   ]
  },
  {
   "cell_type": "code",
   "execution_count": 2,
   "id": "2ab040d5-1d44-42d8-8cad-2ea13a4d3307",
   "metadata": {
    "tags": []
   },
   "outputs": [],
   "source": [
    "import pandas as pd\n",
    "import numpy as np\n",
    "import seaborn as sn\n",
    "import matplotlib.pyplot as plt\n",
    "#---------------------- RDKit packages\n",
    "from rdkit.Chem import AllChem\n",
    "from rdkit.Chem import rdMolDescriptors\n",
    "from rdkit.Chem.Draw import IPythonConsole\n",
    "from rdkit.Chem import Draw\n",
    "from rdkit import DataStructs\n",
    "from rdkit.ML.Cluster import Butina\n",
    "#------------------- progress bar\n",
    "from tqdm import tqdm\n",
    "#------------------- hide warning\n",
    "import warnings\n",
    "warnings.filterwarnings('ignore')"
   ]
  },
  {
   "cell_type": "code",
   "execution_count": 3,
   "id": "b6e98b07-1bea-4456-8d46-1747fa940ac8",
   "metadata": {
    "tags": []
   },
   "outputs": [],
   "source": [
    "from rdkit.Chem.Draw import IPythonConsole\n",
    "from ipywidgets import interact,fixed,IntSlider\n",
    "def renderFpBit(mol,bitIdx,bitInfo,fn):\n",
    "    bid = bitIdx\n",
    "    return(display(fn(mol,bid,bitInfo), mol))"
   ]
  },
  {
   "cell_type": "markdown",
   "id": "ae0e8c61-d5e6-4a2c-b3b5-df1346fe84a2",
   "metadata": {
    "tags": []
   },
   "source": [
    "# Morgan_fingerprint"
   ]
  },
  {
   "cell_type": "code",
   "execution_count": 6,
   "id": "e7417534-6763-4284-a673-7e502e4b60b0",
   "metadata": {
    "tags": []
   },
   "outputs": [
    {
     "data": {
      "image/png": "[encoded data removed]",
      "text/plain": [
       "<PIL.PngImagePlugin.PngImageFile image mode=RGB size=300x300>"
      ]
     },
     "execution_count": 6,
     "metadata": {},
     "output_type": "execute_result"
    }
   ],
   "source": [
    "name1 = \"COC\"\n",
    "m1 = Chem.MolFromSmiles(name1)\n",
    "img1 = Draw.MolToImage(m1)\n",
    "img1"
   ]
  },
  {
   "cell_type": "code",
   "execution_count": 51,
   "id": "c935d048-0973-40e7-9aa8-cc2d86f251db",
   "metadata": {
    "tags": []
   },
   "outputs": [
    {
     "data": {
      "image/png": "[encoded data removed]",
      "text/plain": [
       "<PIL.PngImagePlugin.PngImageFile image mode=RGB size=300x300>"
      ]
     },
     "execution_count": 51,
     "metadata": {},
     "output_type": "execute_result"
    }
   ],
   "source": [
    "name2 = \"CCC(CC)O\"\n",
    "m2 = Chem.MolFromSmiles(name2)\n",
    "img2 = Draw.MolToImage(m2)\n",
    "img2"
   ]
  },
  {
   "cell_type": "code",
   "execution_count": 52,
   "id": "8b8ffb3c-0861-487e-82b3-42dbdbaf4467",
   "metadata": {
    "tags": []
   },
   "outputs": [
    {
     "data": {
      "text/html": [
       "<div>\n",
       "<style scoped>\n",
       "    .dataframe tbody tr th:only-of-type {\n",
       "        vertical-align: middle;\n",
       "    }\n",
       "\n",
       "    .dataframe tbody tr th {\n",
       "        vertical-align: top;\n",
       "    }\n",
       "\n",
       "    .dataframe thead th {\n",
       "        text-align: right;\n",
       "    }\n",
       "</style>\n",
       "<table border=\"1\" class=\"dataframe\">\n",
       "  <thead>\n",
       "    <tr style=\"text-align: right;\">\n",
       "      <th></th>\n",
       "      <th>SMILE</th>\n",
       "      <th>molecule</th>\n",
       "      <th>morgan_fp</th>\n",
       "    </tr>\n",
       "  </thead>\n",
       "  <tbody>\n",
       "    <tr>\n",
       "      <th>0</th>\n",
       "      <td>CCCC(C)O</td>\n",
       "      <td>&lt;rdkit.Chem.rdchem.Mol object at 0x000002B91E9...</td>\n",
       "      <td>[1, 0, 0, 1, 0, 0, 0, 0, 0, 0, 0, 0, 0, 0, 0, ...</td>\n",
       "    </tr>\n",
       "    <tr>\n",
       "      <th>1</th>\n",
       "      <td>CCC(CC)O</td>\n",
       "      <td>&lt;rdkit.Chem.rdchem.Mol object at 0x000002B91E9...</td>\n",
       "      <td>[1, 0, 0, 1, 0, 0, 0, 0, 0, 0, 0, 0, 0, 0, 0, ...</td>\n",
       "    </tr>\n",
       "  </tbody>\n",
       "</table>\n",
       "</div>"
      ],
      "text/plain": [
       "      SMILE                                           molecule  \\\n",
       "0  CCCC(C)O  <rdkit.Chem.rdchem.Mol object at 0x000002B91E9...   \n",
       "1  CCC(CC)O  <rdkit.Chem.rdchem.Mol object at 0x000002B91E9...   \n",
       "\n",
       "                                           morgan_fp  \n",
       "0  [1, 0, 0, 1, 0, 0, 0, 0, 0, 0, 0, 0, 0, 0, 0, ...  \n",
       "1  [1, 0, 0, 1, 0, 0, 0, 0, 0, 0, 0, 0, 0, 0, 0, ...  "
      ]
     },
     "execution_count": 52,
     "metadata": {},
     "output_type": "execute_result"
    }
   ],
   "source": [
    "data = {\n",
    "  \"SMILE\": [name1, name2]\n",
    "}\n",
    "TEST_X = pd.DataFrame(data)\n",
    "TEST_X[\"molecule\"] = TEST_X[\"SMILE\"].apply(lambda x: Chem.MolFromSmiles(x))\n",
    "TEST_X[\"morgan_fp\"] = TEST_X[\"molecule\"].apply(lambda x: rdMolDescriptors.GetMorganFingerprintAsBitVect(x, radius=4, nBits=250, useFeatures=True, useChirality=True))\n",
    "TEST_X"
   ]
  },
  {
   "cell_type": "code",
   "execution_count": 53,
   "id": "5ae578b5-a825-4861-8b08-0319d342e9bc",
   "metadata": {
    "tags": []
   },
   "outputs": [],
   "source": [
    "#rdMolDescriptors.GetMorganFingerprintAsBitVect(m1, radius=4, nBits=250, useFeatures=True, useChirality=True)"
   ]
  },
  {
   "cell_type": "code",
   "execution_count": 54,
   "id": "254c2bd6-c5ae-4f53-b095-88f2ff6602d5",
   "metadata": {
    "tags": []
   },
   "outputs": [],
   "source": [
    "def SmileToMorganFP_df(smiles):\n",
    "    input_molecule = Chem.MolFromSmiles(smiles)\n",
    "    morgan_fp = rdMolDescriptors.GetMorganFingerprintAsBitVect(input_molecule, radius=4, nBits=250, useFeatures=True, useChirality=True)\n",
    "    morgan_array = np.array(morgan_fp)\n",
    "    morgan_dataframe = pd.DataFrame(morgan_array)\n",
    "    morgan_dataframe_row = morgan_dataframe.T\n",
    "    return morgan_dataframe_row\n",
    "def SmileToMorganFP(smiles):\n",
    "    input_molecule = Chem.MolFromSmiles(smiles)\n",
    "    morgan_fp = rdMolDescriptors.GetMorganFingerprintAsBitVect(input_molecule, radius=4, nBits=250, useFeatures=True, useChirality=True)\n",
    "    morgan_bit = morgan_fp.GetOnBits()\n",
    "    morgan_array = np.array(morgan_fp)\n",
    "    return morgan_array,tuple(morgan_bit)"
   ]
  },
  {
   "cell_type": "code",
   "execution_count": 55,
   "id": "70f97200-e416-493a-8243-cfc73fca2e42",
   "metadata": {
    "tags": []
   },
   "outputs": [
    {
     "data": {
      "text/plain": [
       "'\\nname1 = \"CCCCCCCCCO\"\\nname2 = \"CCCCCCCCCCO\"\\n'"
      ]
     },
     "execution_count": 55,
     "metadata": {},
     "output_type": "execute_result"
    }
   ],
   "source": [
    "# STEP 0 \n",
    "'''\n",
    "name1 = \"CCCCCCCCCO\"\n",
    "name2 = \"CCCCCCCCCCO\"\n",
    "'''"
   ]
  },
  {
   "cell_type": "code",
   "execution_count": 56,
   "id": "14344661-42f2-4bdb-b0ba-e9fce298e993",
   "metadata": {
    "tags": []
   },
   "outputs": [],
   "source": [
    "# STEP 1\n",
    "fp1 = SmileToMorganFP(name1)\n",
    "fp2 = SmileToMorganFP(name2)"
   ]
  },
  {
   "cell_type": "code",
   "execution_count": 57,
   "id": "3ff6c225-f7fe-430e-ae08-c38490dcbaf9",
   "metadata": {
    "tags": []
   },
   "outputs": [
    {
     "name": "stdout",
     "output_type": "stream",
     "text": [
      "All Diff index: \n",
      " [42, 47, 144, 193, 243]\n",
      "M2 Diff from M1: \n",
      " [47, 144, 243]\n",
      "M1 Diff from M2: \n",
      " [42, 193]\n"
     ]
    }
   ],
   "source": [
    "# STEP 2\n",
    "# Find Diff Feature\n",
    "\n",
    "fp_bit1=fp1[1]\n",
    "fp_bit2=fp2[1]\n",
    "all_diff = set(fp_bit1).symmetric_difference(set(fp_bit2))\n",
    "diff2_from1 = set(fp_bit1)-set(fp_bit2)\n",
    "diff1_from2 = set(fp_bit2)-set(fp_bit1)\n",
    "\n",
    "#print(\"M1 is \", smiles_to_iupac(name1)   )\n",
    "#print(\"M2 is \",  smiles_to_iupac(name2)  )\n",
    "print(\"All Diff index: \\n\", sorted(all_diff))\n",
    "print(\"M2 Diff from M1: \\n\", sorted(diff2_from1))\n",
    "print(\"M1 Diff from M2: \\n\", sorted(diff1_from2))"
   ]
  },
  {
   "cell_type": "code",
   "execution_count": 58,
   "id": "0dea70a6-77c6-47ca-a9b5-807fcc48e90d",
   "metadata": {
    "tags": []
   },
   "outputs": [
    {
     "data": {
      "image/png": "[encoded data removed]",
      "text/plain": [
       "<PIL.PngImagePlugin.PngImageFile image mode=RGB size=600x450>"
      ]
     },
     "execution_count": 58,
     "metadata": {},
     "output_type": "execute_result"
    }
   ],
   "source": [
    "onbits = {}\n",
    "mf = rdMolDescriptors.GetMorganFingerprintAsBitVect(m1, radius=4, nBits=250, useFeatures=True, useChirality=True, bitInfo=onbits)\n",
    "all_fragments = [(m1, x, onbits) for x in mf.GetOnBits()]\n",
    "Draw.DrawMorganBits(all_fragments[:],molsPerRow=4, legends=[str(x) for x in mf.GetOnBits()][:])"
   ]
  },
  {
   "cell_type": "code",
   "execution_count": 59,
   "id": "440ff6e5-6096-4780-b7e5-9dd924c56c25",
   "metadata": {
    "tags": []
   },
   "outputs": [
    {
     "data": {
      "image/png": "[encoded data removed]",
      "text/plain": [
       "<PIL.PngImagePlugin.PngImageFile image mode=RGB size=600x300>"
      ]
     },
     "execution_count": 59,
     "metadata": {},
     "output_type": "execute_result"
    }
   ],
   "source": [
    "onbits = {}\n",
    "mf = rdMolDescriptors.GetMorganFingerprintAsBitVect(m2, radius=4, nBits=250, useFeatures=True, useChirality=True, bitInfo=onbits)\n",
    "all_fragments = [(m2, x, onbits) for x in mf.GetOnBits()]\n",
    "Draw.DrawMorganBits(all_fragments[:],molsPerRow=4, legends=[str(x) for x in mf.GetOnBits()][:])"
   ]
  },
  {
   "cell_type": "code",
   "execution_count": 60,
   "id": "175bb96f-8998-45bf-870d-d13926bed4c2",
   "metadata": {
    "tags": []
   },
   "outputs": [
    {
     "data": {
      "text/plain": [
       "'\\nonbits = {}\\nall_fragments = [(m1, x, onbits) for x in mf.GetOnBits()]\\nDraw.DrawMorganBits(all_fragments[:],molsPerRow=4, legends=[str(x) for x in mf.GetOnBits()][:])\\n'"
      ]
     },
     "execution_count": 60,
     "metadata": {},
     "output_type": "execute_result"
    }
   ],
   "source": [
    "'''\n",
    "onbits = {}\n",
    "all_fragments = [(m1, x, onbits) for x in mf.GetOnBits()]\n",
    "Draw.DrawMorganBits(all_fragments[:],molsPerRow=4, legends=[str(x) for x in mf.GetOnBits()][:])\n",
    "'''\n",
    "#all_fragments"
   ]
  },
  {
   "cell_type": "code",
   "execution_count": 61,
   "id": "f59a12b6-b3cb-42e7-b5d9-4f4a8d495c38",
   "metadata": {
    "tags": []
   },
   "outputs": [
    {
     "name": "stdout",
     "output_type": "stream",
     "text": [
      "[1 0 0 1 0 0 0 0 0 0 0 0 0 0 0 0 0 0 0 0 0 0 0 0 0 0 0 0 0 0 0 0 0 0 0 0 0\n",
      " 0 0 0 0 0 0 0 0 0 0 1 0 0 0 0 0 0 0 0 0 0 0 0 0 0 0 0 0 0 0 0 0 0 0 0 0 0\n",
      " 0 1 0 0 0 0 0 0 0 0 0 0 0 0 0 0 0 0 0 0 0 0 0 0 0 0 0 0 0 0 0 0 0 0 0 0 0\n",
      " 0 0 0 0 0 0 0 0 1 0 0 0 0 0 0 0 0 0 0 0 0 0 0 0 0 0 0 1 0 0 0 0 0 1 0 0 0\n",
      " 0 0 0 0 0 0 0 0 0 1 0 0 0 0 0 0 0 0 0 0 0 0 0 0 0 0 0 0 0 0 0 0 0 0 0 0 0\n",
      " 0 0 0 0 0 0 0 0 0 0 0 0 0 0 0 0 0 0 0 0 0 0 0 0 0 0 0 0 0 0 0 0 0 0 0 0 0\n",
      " 0 0 0 0 0 0 0 0 0 0 0 0 0 0 0 0 0 0 0 0 0 1 0 0 0 0 0 0]\n",
      "[1 0 0 1 0 0 0 0 0 0 0 0 0 0 0 0 0 0 0 0 0 0 0 0 0 0 0 0 0 0 0 0 0 0 0 0 0\n",
      " 0 0 0 0 0 1 0 0 0 0 0 0 0 0 0 0 0 0 0 0 0 0 0 0 0 0 0 0 0 0 0 0 0 0 0 0 0\n",
      " 0 1 0 0 0 0 0 0 0 0 0 0 0 0 0 0 0 0 0 0 0 0 0 0 0 0 0 0 0 0 0 0 0 0 0 0 0\n",
      " 0 0 0 0 0 0 0 0 1 0 0 0 0 0 0 0 0 0 0 0 0 0 0 0 0 0 0 1 0 0 0 0 0 0 0 0 0\n",
      " 0 0 0 0 0 0 0 0 0 1 0 0 0 0 0 0 0 0 0 0 0 0 0 0 0 0 0 0 0 0 0 0 0 0 0 0 0\n",
      " 0 0 0 0 0 0 0 0 1 0 0 0 0 0 0 0 0 0 0 0 0 0 0 0 0 0 0 0 0 0 0 0 0 0 0 0 0\n",
      " 0 0 0 0 0 0 0 0 0 0 0 0 0 0 0 0 0 0 0 0 0 0 0 0 0 0 0 0]\n",
      "Index of On bits 1: \n",
      " (0, 3, 47, 75, 119, 138, 144, 157, 243)\n",
      "Index of On bits 2: \n",
      " (0, 3, 42, 75, 119, 138, 157, 193)\n",
      "Number of On bits 1: \n",
      " 9\n",
      "Number of On bits 2: \n",
      " 8\n",
      "All Diff index: \n",
      " [42, 47, 144, 193, 243]\n",
      "M2 Diff from M1: \n",
      " [47, 144, 243]\n",
      "M1 Diff from M2: \n",
      " [42, 193]\n",
      "\n",
      "250 BITS\n"
     ]
    }
   ],
   "source": [
    "print(fp1[0])\n",
    "print(fp2[0])\n",
    "\n",
    "# print On bits\n",
    "print(\"Index of On bits 1: \\n\",fp_bit1)\n",
    "print(\"Index of On bits 2: \\n\",fp_bit2)\n",
    "# how many bits are On?\n",
    "print(\"Number of On bits 1: \\n\",len(fp_bit1))\n",
    "print(\"Number of On bits 2: \\n\",len(fp_bit2))\n",
    "\n",
    "print(\"All Diff index: \\n\", sorted(all_diff))\n",
    "print(\"M2 Diff from M1: \\n\", sorted(diff2_from1))\n",
    "print(\"M1 Diff from M2: \\n\", sorted(diff1_from2))\n",
    "\n",
    "print(\"\\n250 BITS\")"
   ]
  },
  {
   "cell_type": "markdown",
   "id": "e83f5c9d-485f-4303-9a33-3bf7921d83b2",
   "metadata": {
    "jp-MarkdownHeadingCollapsed": true,
    "tags": []
   },
   "source": [
    "# MACCS"
   ]
  },
  {
   "cell_type": "code",
   "execution_count": 62,
   "id": "eda8b899-3bd6-4c31-93ac-ed7e8bcacec2",
   "metadata": {
    "tags": []
   },
   "outputs": [],
   "source": [
    "import requests\n",
    "CACTUS = \"https://cactus.nci.nih.gov/chemical/structure/{0}/{1}\"\n",
    "def smiles_to_iupac(smiles):\n",
    "    rep = \"iupac_name\"\n",
    "    url = CACTUS.format(smiles, rep)\n",
    "    response = requests.get(url)\n",
    "    response.raise_for_status()\n",
    "    return response.text"
   ]
  },
  {
   "cell_type": "code",
   "execution_count": 63,
   "id": "7e72571a-865b-489f-83b2-a63f16dd1a5c",
   "metadata": {
    "tags": []
   },
   "outputs": [
    {
     "data": {
      "image/png": "[encoded data removed]",
      "text/plain": [
       "<PIL.PngImagePlugin.PngImageFile image mode=RGB size=300x300>"
      ]
     },
     "execution_count": 63,
     "metadata": {},
     "output_type": "execute_result"
    }
   ],
   "source": [
    "name1 = \"C#CCC#C\"\n",
    "m1 = Chem.MolFromSmiles(name1)\n",
    "img1 = Draw.MolToImage(m1)\n",
    "img1\n",
    "#img1.save('1-butyne.png')"
   ]
  },
  {
   "cell_type": "code",
   "execution_count": 64,
   "id": "381f776f-84f4-47a9-9ad0-01c230e830c5",
   "metadata": {
    "tags": []
   },
   "outputs": [
    {
     "data": {
      "image/png": "[encoded data removed]",
      "text/plain": [
       "<PIL.PngImagePlugin.PngImageFile image mode=RGB size=300x300>"
      ]
     },
     "execution_count": 64,
     "metadata": {},
     "output_type": "execute_result"
    }
   ],
   "source": [
    "name2 = \"C#CCC#CC\"\n",
    "m2 = Chem.MolFromSmiles(name2)\n",
    "img2 = Draw.MolToImage(m2)\n",
    "img2\n",
    "#img2.save('2-butyne.png')"
   ]
  },
  {
   "cell_type": "code",
   "execution_count": 65,
   "id": "53d8dbed-b992-4c1d-86a2-358dc9ceadea",
   "metadata": {
    "tags": []
   },
   "outputs": [
    {
     "data": {
      "text/plain": [
       "'\\nname1 = \"CCCCCCCCCO\"\\nname2 = \"CCCCCCCCCCO\"\\n'"
      ]
     },
     "execution_count": 65,
     "metadata": {},
     "output_type": "execute_result"
    }
   ],
   "source": [
    "'''\n",
    "name1 = \"CCCCCCCCCO\"\n",
    "name2 = \"CCCCCCCCCCO\"\n",
    "'''"
   ]
  },
  {
   "cell_type": "code",
   "execution_count": 66,
   "id": "234c398d-bcf0-4649-85ec-f466f2d46a3f",
   "metadata": {
    "tags": []
   },
   "outputs": [
    {
     "name": "stdout",
     "output_type": "stream",
     "text": [
      "Index of On bits 1: (17, 155)\n",
      "Index of On bits 2: (17, 116, 155, 160)\n",
      "Number of On bits 1:  4\n",
      "Number of On bits 2:  4\n"
     ]
    }
   ],
   "source": [
    "# Generate MACCS (Molecular ACCess System) keys\n",
    "from rdkit.Chem import MACCSkeys\n",
    "Mkeys1 = MACCSkeys.GenMACCSKeys(m1)\n",
    "Mkeys2 = MACCSkeys.GenMACCSKeys(m2)\n",
    "# Use numpy array to see On and Off bits\n",
    "arr_mkey1 = np.array(Mkeys1)\n",
    "arr_mkey2 = np.array(Mkeys2)\n",
    "\n",
    "#print(arr_mkey1)\n",
    "#print(arr_mkey2)\n",
    "\n",
    "arr_bit1 = tuple(Mkeys1.GetOnBits())\n",
    "arr_bit2 = tuple(Mkeys2.GetOnBits())\n",
    "\n",
    "# print On bits\n",
    "print(\"Index of On bits 1:\",tuple(Mkeys1.GetOnBits()))\n",
    "print(\"Index of On bits 2:\",tuple(Mkeys2.GetOnBits()))\n",
    "# how many bits are On?\n",
    "print(\"Number of On bits 1: \",len(Mkeys2.GetOnBits()))\n",
    "print(\"Number of On bits 2: \",len(Mkeys2.GetOnBits()))\n"
   ]
  },
  {
   "cell_type": "code",
   "execution_count": 67,
   "id": "ea733be2-e71c-48c6-a798-d2b801cfabda",
   "metadata": {
    "tags": []
   },
   "outputs": [
    {
     "name": "stdout",
     "output_type": "stream",
     "text": [
      "All Diff index: \n",
      " [116, 160]\n",
      "M2 Diff from M1: \n",
      " []\n",
      "M1 Diff from M2: \n",
      " [116, 160]\n"
     ]
    }
   ],
   "source": [
    "all_diff = set(arr_bit1).symmetric_difference(set(arr_bit2))\n",
    "diff2_from1 = set(arr_bit1)-set(arr_bit2)\n",
    "diff1_from2 = set(arr_bit2)-set(arr_bit1)\n",
    "\n",
    "#print(\"M1 is \", smiles_to_iupac(name1)   )\n",
    "#print(\"M2 is \",  smiles_to_iupac(name2)  )\n",
    "print(\"All Diff index: \\n\", sorted(all_diff))\n",
    "print(\"M2 Diff from M1: \\n\", sorted(diff2_from1))\n",
    "print(\"M1 Diff from M2: \\n\", sorted(diff1_from2))"
   ]
  },
  {
   "cell_type": "code",
   "execution_count": 68,
   "id": "7a5b63ab-8f40-46fb-8518-d8b6a1516d45",
   "metadata": {
    "tags": []
   },
   "outputs": [
    {
     "name": "stdout",
     "output_type": "stream",
     "text": [
      "[0 0 0 0 0 0 0 0 0 0 0 0 0 0 0 0 0 1 0 0 0 0 0 0 0 0 0 0 0 0 0 0 0 0 0 0 0\n",
      " 0 0 0 0 0 0 0 0 0 0 0 0 0 0 0 0 0 0 0 0 0 0 0 0 0 0 0 0 0 0 0 0 0 0 0 0 0\n",
      " 0 0 0 0 0 0 0 0 0 0 0 0 0 0 0 0 0 0 0 0 0 0 0 0 0 0 0 0 0 0 0 0 0 0 0 0 0\n",
      " 0 0 0 0 0 0 0 0 0 0 0 0 0 0 0 0 0 0 0 0 0 0 0 0 0 0 0 0 0 0 0 0 0 0 0 0 0\n",
      " 0 0 0 0 0 0 0 1 0 0 0 0 0 0 0 0 0 0 0]\n",
      "[0 0 0 0 0 0 0 0 0 0 0 0 0 0 0 0 0 1 0 0 0 0 0 0 0 0 0 0 0 0 0 0 0 0 0 0 0\n",
      " 0 0 0 0 0 0 0 0 0 0 0 0 0 0 0 0 0 0 0 0 0 0 0 0 0 0 0 0 0 0 0 0 0 0 0 0 0\n",
      " 0 0 0 0 0 0 0 0 0 0 0 0 0 0 0 0 0 0 0 0 0 0 0 0 0 0 0 0 0 0 0 0 0 0 0 0 0\n",
      " 0 0 0 0 0 1 0 0 0 0 0 0 0 0 0 0 0 0 0 0 0 0 0 0 0 0 0 0 0 0 0 0 0 0 0 0 0\n",
      " 0 0 0 0 0 0 0 1 0 0 0 0 1 0 0 0 0 0 0]\n",
      "Index of On bits 1: \n",
      " (17, 155)\n",
      "Index of On bits 2: \n",
      " (17, 116, 155, 160)\n",
      "Number of On bits 1: \n",
      " 4\n",
      "Number of On bits 2: \n",
      " 4\n",
      "All Diff index: \n",
      " [116, 160]\n",
      "M2 Diff from M1: \n",
      " []\n",
      "M1 Diff from M2: \n",
      " [116, 160]\n"
     ]
    }
   ],
   "source": [
    "print(arr_mkey1)\n",
    "print(arr_mkey2)\n",
    "\n",
    "# print On bits\n",
    "print(\"Index of On bits 1: \\n\",tuple(Mkeys1.GetOnBits()))\n",
    "print(\"Index of On bits 2: \\n\",tuple(Mkeys2.GetOnBits()))\n",
    "# how many bits are On?\n",
    "print(\"Number of On bits 1: \\n\",len(Mkeys2.GetOnBits()))\n",
    "print(\"Number of On bits 2: \\n\",len(Mkeys2.GetOnBits()))\n",
    "\n",
    "#print(\"M1 is \", smiles_to_iupac(name1)   )\n",
    "#print(\"M2 is \",  smiles_to_iupac(name2)  )\n",
    "print(\"All Diff index: \\n\", sorted(all_diff))\n",
    "print(\"M2 Diff from M1: \\n\", sorted(diff2_from1))\n",
    "print(\"M1 Diff from M2: \\n\", sorted(diff1_from2))"
   ]
  },
  {
   "cell_type": "code",
   "execution_count": 69,
   "id": "824d1a1d-dfb8-4398-ac41-08b59540bfc2",
   "metadata": {},
   "outputs": [],
   "source": [
    "#90:  ('[$([!#6;!#1;!H0]~*~*~[CH2]~*),$([!#6;!#1;!H0;R]1@[R]@[R]@[CH2;R]1),$([!#6;!#1;!H0]~[R]1@[R]@[CH2;R]1)]', 0),  # QHAACH2A\n",
    "#115: ('[CH3]~*~[CH2]~*', 0),  # CH3ACH2A\n",
    "#118: ('[$(*~[CH2]~[CH2]~*),$(*1~[CH2]~[CH2]1)]', 1),  # ACH2CH2A > 1\n",
    "#147: ('[$(*~[CH2]~[CH2]~*),$([R]1@[CH2;R]@[CH2;R]1)]', 0),  # ACH2CH2A"
   ]
  },
  {
   "cell_type": "code",
   "execution_count": null,
   "id": "3902e1d1-808c-4a0a-b55d-f64f8a364320",
   "metadata": {},
   "outputs": [],
   "source": []
  },
  {
   "cell_type": "markdown",
   "id": "e9e0d3e5-a5f8-42d7-8fba-245eb9b21aca",
   "metadata": {
    "tags": []
   },
   "source": [
    "# Increase Morgan_fp Bit"
   ]
  },
  {
   "cell_type": "code",
   "execution_count": 9,
   "id": "91f7e321-0367-41a7-8c5e-1bdd0e47905c",
   "metadata": {
    "tags": []
   },
   "outputs": [],
   "source": [
    "########   Prepare Data     ########\n",
    "#Import Data\n",
    "df = pd.read_excel(\"Data.xlsx\",sheet_name=\"AllDataSet\")\n",
    "\n",
    "#Select feature for data\n",
    "X_data= df[[\"SMILES\"]]\n",
    "#Y_data= df[\"Tb\"]\n"
   ]
  },
  {
   "cell_type": "code",
   "execution_count": 10,
   "id": "c7bb3413-9e3c-4eed-aab8-422194b8e326",
   "metadata": {
    "tags": []
   },
   "outputs": [],
   "source": [
    "X_data_use = X_data.copy()\n",
    "MF_bit = 2**12\n",
    "X_data_use[\"molecule\"] = X_data_use[\"SMILES\"].apply(lambda x: Chem.MolFromSmiles(x))\n",
    "X_data_use[\"morgan_fp\"] = X_data_use[\"molecule\"].apply(lambda x: rdMolDescriptors.\n",
    "                                                       GetMorganFingerprintAsBitVect(\n",
    "                                                           x, radius=2, nBits=MF_bit, \n",
    "                                                           useFeatures=True, useChirality=True\n",
    "                                                       ))\n",
    "\n",
    "#>>> SHOW X_data_use \n",
    "\n",
    "#Transfrom Fingerprint to Column in DataFrame\n",
    "X_data_fp = []\n",
    "for i in range(X_data_use.shape[0]):\n",
    "    array = np.array(X_data_use[\"morgan_fp\"][i])\n",
    "    datafram_i = pd.DataFrame(array)\n",
    "    datafram_i = datafram_i.T\n",
    "    X_data_fp.append(datafram_i)\n",
    "X_data_fp = pd.concat(X_data_fp, ignore_index=True)\n",
    "X_data_ML = pd.concat([X_data_use, X_data_fp], axis=1, join='inner')"
   ]
  },
  {
   "cell_type": "code",
   "execution_count": 11,
   "id": "d6ee139a-286d-4326-9efb-496581bc791c",
   "metadata": {
    "tags": []
   },
   "outputs": [],
   "source": [
    "#get Morgan_fp of all substance ex 560 datapoint\n",
    "X_data= df[\"SMILES\"]\n",
    "mols = []\n",
    "#SMILES=np.array(X_data[\"SMILES\"])\n",
    "SMILES=np.array(X_data)\n",
    "for SMILE in SMILES:\n",
    "    mol = Chem.MolFromSmiles(SMILE)\n",
    "    mols.append(mol)\n",
    "\n",
    "# we get 560 fp in FP_all\n",
    "# FP_all = [fp_1, fp_2, ... , fp_560]\n",
    "# Loop \n",
    "\n",
    "# see CURRENTLY_USE in 256, 512, ..., 2048 bit\n",
    "# np.logical_or(FP_all).sum()\n",
    "# >>> 156 bit use in 256 bit"
   ]
  },
  {
   "cell_type": "markdown",
   "id": "ded08f6d-2168-41e0-8257-3c16922ea96b",
   "metadata": {
    "tags": []
   },
   "source": [
    "## Check Large Bit"
   ]
  },
  {
   "cell_type": "code",
   "execution_count": 12,
   "id": "030f4b08-f857-45c9-b205-9c440a1029b4",
   "metadata": {
    "tags": []
   },
   "outputs": [],
   "source": [
    "#get Morgan_fp of all substance ex 560 datapoint\n",
    "X_data= df[\"SMILES\"]\n",
    "mols = []\n",
    "#SMILES=np.array(X_data[\"SMILES\"])\n",
    "SMILES=np.array(X_data)\n",
    "for SMILE in SMILES:\n",
    "    mol = Chem.MolFromSmiles(SMILE)\n",
    "    mols.append(mol)\n",
    "\n",
    "# we get 560 fp in FP_all\n",
    "# FP_all = [fp_1, fp_2, ... , fp_560]\n",
    "# Loop \n",
    "\n",
    "# see CURRENTLY_USE in 256, 512, ..., 2048 bit\n",
    "# np.logical_or(FP_all).sum()\n",
    "# >>> 156 bit use in 256 bit"
   ]
  },
  {
   "cell_type": "code",
   "execution_count": 13,
   "id": "103c9fb3-b603-44a6-8b1d-63e08c0de506",
   "metadata": {
    "tags": []
   },
   "outputs": [],
   "source": [
    "# Looping\n",
    "bits = [2**10, 2**11, 2**12, 2**13, 2**14]\n",
    "#bits = [2**1, 2**2, 2**3, 2**4, 2**5, 2**6]\n",
    "#mols = [m1, m2, ..., m560]\n",
    "#mols = [m1, m2]\n",
    "\n",
    "#32768    1 min\n",
    "#65536    1 min\n",
    "#131072   5 min\n",
    "unique=[]\n",
    "for bit in bits:\n",
    "    FPs = []\n",
    "    infos = []\n",
    "    for mol in mols:\n",
    "        info = {}\n",
    "        FPs.append(AllChem.GetMorganFingerprintAsBitVect(mol, 2, nBits=bit, bitInfo=info, useFeatures=True))\n",
    "        infos.append(info)\n",
    "    unique.append(np.logical_or.reduce(FPs).sum())"
   ]
  },
  {
   "cell_type": "code",
   "execution_count": 14,
   "id": "d3c5104f-e7a1-4e63-aeb7-0969ceaffec6",
   "metadata": {
    "tags": []
   },
   "outputs": [
    {
     "data": {
      "text/plain": [
       "[754, 1005, 1167, 1276, 1339]"
      ]
     },
     "execution_count": 14,
     "metadata": {},
     "output_type": "execute_result"
    }
   ],
   "source": [
    "unique"
   ]
  },
  {
   "cell_type": "code",
   "execution_count": 15,
   "id": "aa48c780-9762-4ce1-b48a-2a2ea9925dd8",
   "metadata": {
    "tags": []
   },
   "outputs": [
    {
     "data": {
      "text/plain": [
       "[1024, 2048, 4096, 8192, 16384]"
      ]
     },
     "execution_count": 15,
     "metadata": {},
     "output_type": "execute_result"
    }
   ],
   "source": [
    "bits"
   ]
  },
  {
   "cell_type": "code",
   "execution_count": 27,
   "id": "a3cedf62-7f92-4e8d-b329-2cd60b61fa54",
   "metadata": {
    "tags": []
   },
   "outputs": [
    {
     "data": {
      "text/plain": [
       "Text(0, 0.5, 'Bit On')"
      ]
     },
     "execution_count": 27,
     "metadata": {},
     "output_type": "execute_result"
    },
    {
     "data": {
      "image/png": "[encoded data removed]",
      "text/plain": [
       "<Figure size 640x480 with 1 Axes>"
      ]
     },
     "metadata": {},
     "output_type": "display_data"
    }
   ],
   "source": [
    "fig1=plt.plot(unique)\n",
    "xticks = plt.xticks(range(len(bits)),bits)\n",
    "#fig1.yaxis.get_major_locator().set_params(integer=True)\n",
    "#fig1.ylabel(\"Bit On\")\n",
    "plt.xlabel(\"Bit Classify\")\n",
    "plt.ylabel(\"Bit On\")"
   ]
  },
  {
   "cell_type": "code",
   "execution_count": 50,
   "id": "1794646c-4775-4e78-b804-99e770b9bc67",
   "metadata": {
    "tags": []
   },
   "outputs": [
    {
     "data": {
      "text/plain": [
       "0                      CCOCCOCCOCCO\n",
       "1       C(C(CO)(CO)COCC(CO)(CO)CO)O\n",
       "2                C(C(C(C(CO)O)O)O)O\n",
       "3                 C(C(COCC(CO)O)O)O\n",
       "4          C1C=C2C(=CC(=O)O2)C(O1)O\n",
       "                   ...             \n",
       "1648          COC1=C(C=CC(=C1)CCO)O\n",
       "1649              C1=CC(=CC=C1CO)CO\n",
       "1650            C1=CC(=CC(=C1)CO)CO\n",
       "1651                    C1CC(OC1)CO\n",
       "1652                          COCOC\n",
       "Name: SMILES, Length: 1653, dtype: object"
      ]
     },
     "execution_count": 50,
     "metadata": {},
     "output_type": "execute_result"
    }
   ],
   "source": [
    "X_data"
   ]
  },
  {
   "cell_type": "markdown",
   "id": "2d44bb21-1482-4b00-87ee-17c10cef88a9",
   "metadata": {
    "tags": []
   },
   "source": [
    "## Get Smart Large Bit"
   ]
  },
  {
   "cell_type": "code",
   "execution_count": 23,
   "id": "80cb0a13-a4fa-4abe-bd2a-312a70ceb92c",
   "metadata": {
    "tags": []
   },
   "outputs": [
    {
     "ename": "ArgumentError",
     "evalue": "Python argument types in\n    rdkit.Chem.rdMolDescriptors.GetHashedMorganFingerprint(Series, int)\ndid not match C++ signature:\n    GetHashedMorganFingerprint(class RDKit::ROMol mol, unsigned int radius, unsigned int nBits=2048, class boost::python::api::object invariants=[], class boost::python::api::object fromAtoms=[], bool useChirality=False, bool useBondTypes=True, bool useFeatures=False, class boost::python::api::object bitInfo=None, bool includeRedundantEnvironments=False)",
     "output_type": "error",
     "traceback": [
      "\u001b[1;31m---------------------------------------------------------------------------\u001b[0m",
      "\u001b[1;31mArgumentError\u001b[0m                             Traceback (most recent call last)",
      "Cell \u001b[1;32mIn[23], line 2\u001b[0m\n\u001b[0;32m      1\u001b[0m Mol_df \u001b[38;5;241m=\u001b[39m pd\u001b[38;5;241m.\u001b[39mDataFrame(mols)\n\u001b[1;32m----> 2\u001b[0m test \u001b[38;5;241m=\u001b[39m Mol_df\u001b[38;5;241m.\u001b[39mapply(\u001b[38;5;28;01mlambda\u001b[39;00m x: get_All_SMART_1_mol(x, MF_bit))\n\u001b[0;32m      3\u001b[0m test\n",
      "File \u001b[1;32mC:\\ProgramData\\anaconda3\\Lib\\site-packages\\pandas\\core\\frame.py:9568\u001b[0m, in \u001b[0;36mDataFrame.apply\u001b[1;34m(self, func, axis, raw, result_type, args, **kwargs)\u001b[0m\n\u001b[0;32m   9557\u001b[0m \u001b[38;5;28;01mfrom\u001b[39;00m \u001b[38;5;21;01mpandas\u001b[39;00m\u001b[38;5;21;01m.\u001b[39;00m\u001b[38;5;21;01mcore\u001b[39;00m\u001b[38;5;21;01m.\u001b[39;00m\u001b[38;5;21;01mapply\u001b[39;00m \u001b[38;5;28;01mimport\u001b[39;00m frame_apply\n\u001b[0;32m   9559\u001b[0m op \u001b[38;5;241m=\u001b[39m frame_apply(\n\u001b[0;32m   9560\u001b[0m     \u001b[38;5;28mself\u001b[39m,\n\u001b[0;32m   9561\u001b[0m     func\u001b[38;5;241m=\u001b[39mfunc,\n\u001b[1;32m   (...)\u001b[0m\n\u001b[0;32m   9566\u001b[0m     kwargs\u001b[38;5;241m=\u001b[39mkwargs,\n\u001b[0;32m   9567\u001b[0m )\n\u001b[1;32m-> 9568\u001b[0m \u001b[38;5;28;01mreturn\u001b[39;00m op\u001b[38;5;241m.\u001b[39mapply()\u001b[38;5;241m.\u001b[39m__finalize__(\u001b[38;5;28mself\u001b[39m, method\u001b[38;5;241m=\u001b[39m\u001b[38;5;124m\"\u001b[39m\u001b[38;5;124mapply\u001b[39m\u001b[38;5;124m\"\u001b[39m)\n",
      "File \u001b[1;32mC:\\ProgramData\\anaconda3\\Lib\\site-packages\\pandas\\core\\apply.py:764\u001b[0m, in \u001b[0;36mFrameApply.apply\u001b[1;34m(self)\u001b[0m\n\u001b[0;32m    761\u001b[0m \u001b[38;5;28;01melif\u001b[39;00m \u001b[38;5;28mself\u001b[39m\u001b[38;5;241m.\u001b[39mraw:\n\u001b[0;32m    762\u001b[0m     \u001b[38;5;28;01mreturn\u001b[39;00m \u001b[38;5;28mself\u001b[39m\u001b[38;5;241m.\u001b[39mapply_raw()\n\u001b[1;32m--> 764\u001b[0m \u001b[38;5;28;01mreturn\u001b[39;00m \u001b[38;5;28mself\u001b[39m\u001b[38;5;241m.\u001b[39mapply_standard()\n",
      "File \u001b[1;32mC:\\ProgramData\\anaconda3\\Lib\\site-packages\\pandas\\core\\apply.py:891\u001b[0m, in \u001b[0;36mFrameApply.apply_standard\u001b[1;34m(self)\u001b[0m\n\u001b[0;32m    890\u001b[0m \u001b[38;5;28;01mdef\u001b[39;00m \u001b[38;5;21mapply_standard\u001b[39m(\u001b[38;5;28mself\u001b[39m):\n\u001b[1;32m--> 891\u001b[0m     results, res_index \u001b[38;5;241m=\u001b[39m \u001b[38;5;28mself\u001b[39m\u001b[38;5;241m.\u001b[39mapply_series_generator()\n\u001b[0;32m    893\u001b[0m     \u001b[38;5;66;03m# wrap results\u001b[39;00m\n\u001b[0;32m    894\u001b[0m     \u001b[38;5;28;01mreturn\u001b[39;00m \u001b[38;5;28mself\u001b[39m\u001b[38;5;241m.\u001b[39mwrap_results(results, res_index)\n",
      "File \u001b[1;32mC:\\ProgramData\\anaconda3\\Lib\\site-packages\\pandas\\core\\apply.py:907\u001b[0m, in \u001b[0;36mFrameApply.apply_series_generator\u001b[1;34m(self)\u001b[0m\n\u001b[0;32m    904\u001b[0m \u001b[38;5;28;01mwith\u001b[39;00m option_context(\u001b[38;5;124m\"\u001b[39m\u001b[38;5;124mmode.chained_assignment\u001b[39m\u001b[38;5;124m\"\u001b[39m, \u001b[38;5;28;01mNone\u001b[39;00m):\n\u001b[0;32m    905\u001b[0m     \u001b[38;5;28;01mfor\u001b[39;00m i, v \u001b[38;5;129;01min\u001b[39;00m \u001b[38;5;28menumerate\u001b[39m(series_gen):\n\u001b[0;32m    906\u001b[0m         \u001b[38;5;66;03m# ignore SettingWithCopy here in case the user mutates\u001b[39;00m\n\u001b[1;32m--> 907\u001b[0m         results[i] \u001b[38;5;241m=\u001b[39m \u001b[38;5;28mself\u001b[39m\u001b[38;5;241m.\u001b[39mf(v)\n\u001b[0;32m    908\u001b[0m         \u001b[38;5;28;01mif\u001b[39;00m \u001b[38;5;28misinstance\u001b[39m(results[i], ABCSeries):\n\u001b[0;32m    909\u001b[0m             \u001b[38;5;66;03m# If we have a view on v, we need to make a copy because\u001b[39;00m\n\u001b[0;32m    910\u001b[0m             \u001b[38;5;66;03m#  series_generator will swap out the underlying data\u001b[39;00m\n\u001b[0;32m    911\u001b[0m             results[i] \u001b[38;5;241m=\u001b[39m results[i]\u001b[38;5;241m.\u001b[39mcopy(deep\u001b[38;5;241m=\u001b[39m\u001b[38;5;28;01mFalse\u001b[39;00m)\n",
      "Cell \u001b[1;32mIn[23], line 2\u001b[0m, in \u001b[0;36m<lambda>\u001b[1;34m(x)\u001b[0m\n\u001b[0;32m      1\u001b[0m Mol_df \u001b[38;5;241m=\u001b[39m pd\u001b[38;5;241m.\u001b[39mDataFrame(mols)\n\u001b[1;32m----> 2\u001b[0m test \u001b[38;5;241m=\u001b[39m Mol_df\u001b[38;5;241m.\u001b[39mapply(\u001b[38;5;28;01mlambda\u001b[39;00m x: get_All_SMART_1_mol(x, MF_bit))\n\u001b[0;32m      3\u001b[0m test\n",
      "Cell \u001b[1;32mIn[22], line 71\u001b[0m, in \u001b[0;36mget_All_SMART_1_mol\u001b[1;34m(mol_in, nBits)\u001b[0m\n\u001b[0;32m     69\u001b[0m bit_info \u001b[38;5;241m=\u001b[39m {}\n\u001b[0;32m     70\u001b[0m mol \u001b[38;5;241m=\u001b[39m mol_in\n\u001b[1;32m---> 71\u001b[0m fp \u001b[38;5;241m=\u001b[39m GetHashedMorganFingerprint(mol, \u001b[38;5;241m3\u001b[39m, nBits\u001b[38;5;241m=\u001b[39mnBits, bitInfo\u001b[38;5;241m=\u001b[39mbit_info, useFeatures\u001b[38;5;241m=\u001b[39m\u001b[38;5;28;01mTrue\u001b[39;00m)\n\u001b[0;32m     73\u001b[0m \u001b[38;5;66;03m#print(get_index_of_array_that_contain_1_in_any_position(list(fp)))\u001b[39;00m\n\u001b[0;32m     74\u001b[0m \u001b[38;5;66;03m#print(bit_info.keys())\u001b[39;00m\n\u001b[0;32m     75\u001b[0m string_SMARTS \u001b[38;5;241m=\u001b[39m []\n",
      "\u001b[1;31mArgumentError\u001b[0m: Python argument types in\n    rdkit.Chem.rdMolDescriptors.GetHashedMorganFingerprint(Series, int)\ndid not match C++ signature:\n    GetHashedMorganFingerprint(class RDKit::ROMol mol, unsigned int radius, unsigned int nBits=2048, class boost::python::api::object invariants=[], class boost::python::api::object fromAtoms=[], bool useChirality=False, bool useBondTypes=True, bool useFeatures=False, class boost::python::api::object bitInfo=None, bool includeRedundantEnvironments=False)"
     ]
    }
   ],
   "source": [
    "Mol_df = pd.DataFrame(mols)\n",
    "test = Mol_df.apply(lambda x: get_All_SMART_1_mol(x, MF_bit))\n",
    "test"
   ]
  },
  {
   "cell_type": "markdown",
   "id": "3a97ee73-c98e-437a-81da-c5a9f82a9dcc",
   "metadata": {
    "tags": []
   },
   "source": [
    "## Check Small Bit"
   ]
  },
  {
   "cell_type": "code",
   "execution_count": 7,
   "id": "c7ee5ae7-9c3e-4ff4-aef2-58c344379eb2",
   "metadata": {
    "tags": []
   },
   "outputs": [],
   "source": [
    "def MF_FP_to_df_X_bit(X_data_use):\n",
    "    X_data_use = pd.DataFrame(np.array(X_data_use))\n",
    "    #print(\"\\n -----------------\")\n",
    "    #print(X_data_use)\n",
    "    #X_data_ML = pd.concat([X_data_use, X_data_fp], axis=1, join='inner')\n",
    "    return X_data_use"
   ]
  },
  {
   "cell_type": "code",
   "execution_count": 8,
   "id": "6c221916-5d73-4c7a-836a-80a393f5b5fb",
   "metadata": {
    "tags": []
   },
   "outputs": [],
   "source": [
    "#get Morgan_fp of all substance ex 560 datapoint\n",
    "X_data= df[\"SMILES\"][:3]\n",
    "mols = []\n",
    "#SMILES=np.array(X_data[\"SMILES\"])\n",
    "SMILES=np.array(X_data)\n",
    "for SMILE in SMILES:\n",
    "    mol = Chem.MolFromSmiles(SMILE)\n",
    "    mols.append(mol)\n",
    "\n",
    "# we get 560 fp in FP_all\n",
    "# FP_all = [fp_1, fp_2, ... , fp_560]\n",
    "# Loop \n",
    "\n",
    "# see CURRENTLY_USE in 256, 512, ..., 2048 bit\n",
    "# np.logical_or(FP_all).sum()\n",
    "# >>> 156 bit use in 256 bit"
   ]
  },
  {
   "cell_type": "code",
   "execution_count": 9,
   "id": "2cd216d0-8227-4970-bf72-2f22a8923873",
   "metadata": {
    "tags": []
   },
   "outputs": [
    {
     "data": {
      "text/plain": [
       "28"
      ]
     },
     "execution_count": 9,
     "metadata": {},
     "output_type": "execute_result"
    }
   ],
   "source": [
    "bit = 2**6\n",
    "FPs = []\n",
    "infos = []\n",
    "for mol in mols:\n",
    "    info = {}\n",
    "    FPs.append(AllChem.GetMorganFingerprintAsBitVect(mol, 3, nBits=bit, bitInfo=info, useFeatures=True))\n",
    "np.logical_or.reduce(FPs).sum()"
   ]
  },
  {
   "cell_type": "code",
   "execution_count": 10,
   "id": "a04838e6-648b-49ce-92d8-0c8ca20a6d77",
   "metadata": {
    "tags": []
   },
   "outputs": [
    {
     "data": {
      "text/html": [
       "<div>\n",
       "<style scoped>\n",
       "    .dataframe tbody tr th:only-of-type {\n",
       "        vertical-align: middle;\n",
       "    }\n",
       "\n",
       "    .dataframe tbody tr th {\n",
       "        vertical-align: top;\n",
       "    }\n",
       "\n",
       "    .dataframe thead th {\n",
       "        text-align: right;\n",
       "    }\n",
       "</style>\n",
       "<table border=\"1\" class=\"dataframe\">\n",
       "  <thead>\n",
       "    <tr style=\"text-align: right;\">\n",
       "      <th></th>\n",
       "      <th>0</th>\n",
       "      <th>1</th>\n",
       "      <th>2</th>\n",
       "      <th>3</th>\n",
       "      <th>4</th>\n",
       "      <th>5</th>\n",
       "      <th>6</th>\n",
       "      <th>7</th>\n",
       "      <th>8</th>\n",
       "      <th>9</th>\n",
       "      <th>...</th>\n",
       "      <th>54</th>\n",
       "      <th>55</th>\n",
       "      <th>56</th>\n",
       "      <th>57</th>\n",
       "      <th>58</th>\n",
       "      <th>59</th>\n",
       "      <th>60</th>\n",
       "      <th>61</th>\n",
       "      <th>62</th>\n",
       "      <th>63</th>\n",
       "    </tr>\n",
       "  </thead>\n",
       "  <tbody>\n",
       "    <tr>\n",
       "      <th>0</th>\n",
       "      <td>1</td>\n",
       "      <td>0</td>\n",
       "      <td>1</td>\n",
       "      <td>1</td>\n",
       "      <td>1</td>\n",
       "      <td>1</td>\n",
       "      <td>0</td>\n",
       "      <td>0</td>\n",
       "      <td>0</td>\n",
       "      <td>0</td>\n",
       "      <td>...</td>\n",
       "      <td>0</td>\n",
       "      <td>0</td>\n",
       "      <td>0</td>\n",
       "      <td>1</td>\n",
       "      <td>1</td>\n",
       "      <td>0</td>\n",
       "      <td>0</td>\n",
       "      <td>1</td>\n",
       "      <td>0</td>\n",
       "      <td>0</td>\n",
       "    </tr>\n",
       "    <tr>\n",
       "      <th>1</th>\n",
       "      <td>1</td>\n",
       "      <td>0</td>\n",
       "      <td>1</td>\n",
       "      <td>1</td>\n",
       "      <td>0</td>\n",
       "      <td>0</td>\n",
       "      <td>0</td>\n",
       "      <td>0</td>\n",
       "      <td>0</td>\n",
       "      <td>0</td>\n",
       "      <td>...</td>\n",
       "      <td>1</td>\n",
       "      <td>0</td>\n",
       "      <td>0</td>\n",
       "      <td>1</td>\n",
       "      <td>1</td>\n",
       "      <td>0</td>\n",
       "      <td>0</td>\n",
       "      <td>1</td>\n",
       "      <td>0</td>\n",
       "      <td>0</td>\n",
       "    </tr>\n",
       "    <tr>\n",
       "      <th>2</th>\n",
       "      <td>1</td>\n",
       "      <td>0</td>\n",
       "      <td>0</td>\n",
       "      <td>1</td>\n",
       "      <td>0</td>\n",
       "      <td>0</td>\n",
       "      <td>0</td>\n",
       "      <td>0</td>\n",
       "      <td>1</td>\n",
       "      <td>0</td>\n",
       "      <td>...</td>\n",
       "      <td>0</td>\n",
       "      <td>0</td>\n",
       "      <td>0</td>\n",
       "      <td>1</td>\n",
       "      <td>0</td>\n",
       "      <td>0</td>\n",
       "      <td>0</td>\n",
       "      <td>0</td>\n",
       "      <td>0</td>\n",
       "      <td>0</td>\n",
       "    </tr>\n",
       "  </tbody>\n",
       "</table>\n",
       "<p>3 rows × 64 columns</p>\n",
       "</div>"
      ],
      "text/plain": [
       "   0   1   2   3   4   5   6   7   8   9   ...  54  55  56  57  58  59  60  \\\n",
       "0   1   0   1   1   1   1   0   0   0   0  ...   0   0   0   1   1   0   0   \n",
       "1   1   0   1   1   0   0   0   0   0   0  ...   1   0   0   1   1   0   0   \n",
       "2   1   0   0   1   0   0   0   0   1   0  ...   0   0   0   1   0   0   0   \n",
       "\n",
       "   61  62  63  \n",
       "0   1   0   0  \n",
       "1   1   0   0  \n",
       "2   0   0   0  \n",
       "\n",
       "[3 rows x 64 columns]"
      ]
     },
     "execution_count": 10,
     "metadata": {},
     "output_type": "execute_result"
    }
   ],
   "source": [
    "MF_FP_to_df_X_bit(FPs)"
   ]
  },
  {
   "cell_type": "raw",
   "id": "58a26441-ac50-4227-9c5a-bb902402e4fe",
   "metadata": {
    "execution": {
     "iopub.execute_input": "2023-09-22T12:52:10.601265Z",
     "iopub.status.busy": "2023-09-22T12:52:10.601265Z",
     "iopub.status.idle": "2023-09-22T12:52:10.608691Z",
     "shell.execute_reply": "2023-09-22T12:52:10.608691Z",
     "shell.execute_reply.started": "2023-09-22T12:52:10.601265Z"
    },
    "tags": []
   },
   "source": [
    "MF_FP_to_df_X_bit(FPs).to_csv(\"Bit collision/FP_3mol.csv\")\n",
    "pd.DataFrame(np.logical_or.reduce(FPs[:3])).to_csv(\"Bit collision/Unique_FP_3mol.csv\")"
   ]
  },
  {
   "cell_type": "code",
   "execution_count": 11,
   "id": "25cfaa7e-c082-463a-9e59-891d5f521c20",
   "metadata": {
    "tags": []
   },
   "outputs": [],
   "source": [
    "# Looping\n",
    "bits = [2**5, 2**6, 2**7, 2**8, 2**9, 2**10, 2**11, 2**12, 2**13]\n",
    "\n",
    "#32768    1 min\n",
    "#65536    1 min\n",
    "#131072   5 min\n",
    "unique=[]\n",
    "for bit in bits:\n",
    "    FPs = []\n",
    "    infos = []\n",
    "    for mol in mols:\n",
    "        info = {}\n",
    "        FPs.append(AllChem.GetMorganFingerprintAsBitVect(mol, 3, nBits=bit, bitInfo=info, useFeatures=True))\n",
    "        infos.append(info)\n",
    "    unique.append(np.logical_or.reduce(FPs).sum())"
   ]
  },
  {
   "cell_type": "code",
   "execution_count": 12,
   "id": "d09f1d01-ab5c-49fa-80a0-ca616c7891af",
   "metadata": {
    "tags": []
   },
   "outputs": [
    {
     "data": {
      "text/plain": [
       "[24, 28, 31, 31, 31, 31, 31, 31, 31]"
      ]
     },
     "execution_count": 12,
     "metadata": {},
     "output_type": "execute_result"
    }
   ],
   "source": [
    "unique"
   ]
  },
  {
   "cell_type": "code",
   "execution_count": 13,
   "id": "cb46b205-6e42-4cc7-9e91-00519301a903",
   "metadata": {
    "tags": []
   },
   "outputs": [
    {
     "data": {
      "text/plain": [
       "[32, 64, 128, 256, 512, 1024, 2048, 4096, 8192]"
      ]
     },
     "execution_count": 13,
     "metadata": {},
     "output_type": "execute_result"
    }
   ],
   "source": [
    "bits"
   ]
  },
  {
   "cell_type": "code",
   "execution_count": 14,
   "id": "0a93baee-4804-44d9-865d-1a1edc84496d",
   "metadata": {
    "tags": []
   },
   "outputs": [
    {
     "data": {
      "text/plain": [
       "array([0.75      , 0.4375    , 0.2421875 , 0.12109375, 0.06054688,\n",
       "       0.03027344, 0.01513672, 0.00756836, 0.00378418])"
      ]
     },
     "execution_count": 14,
     "metadata": {},
     "output_type": "execute_result"
    }
   ],
   "source": [
    "np.array(unique)/np.array(bits)"
   ]
  },
  {
   "cell_type": "code",
   "execution_count": 15,
   "id": "b0002361-26f7-450f-973c-8297d4c32c18",
   "metadata": {
    "tags": []
   },
   "outputs": [
    {
     "data": {
      "image/png": "[encoded data removed]",
      "text/plain": [
       "<Figure size 640x480 with 1 Axes>"
      ]
     },
     "metadata": {},
     "output_type": "display_data"
    }
   ],
   "source": [
    "fig1,ax1 =plt.subplots()\n",
    "ax1.plot(unique)\n",
    "xticks = plt.xticks(range(len(bits)),bits)\n",
    "ax1.yaxis.get_major_locator().set_params(integer=True)"
   ]
  },
  {
   "cell_type": "code",
   "execution_count": null,
   "id": "791ca7fe-8b13-4166-89c3-e1175bcfcb4d",
   "metadata": {
    "tags": []
   },
   "outputs": [],
   "source": [
    "#fig1.savefig(\"Picture/3mol_checkColiision.png\")"
   ]
  },
  {
   "cell_type": "code",
   "execution_count": 22,
   "id": "5a3bcd09-3d01-4964-b675-398fe12a48bc",
   "metadata": {
    "tags": []
   },
   "outputs": [],
   "source": [
    "# RDKit\n",
    "import rdkit\n",
    "from rdkit.Chem import AllChem\n",
    "from rdkit import Chem\n",
    "from rdkit.Chem import Descriptors\n",
    "from rdkit.ML.Descriptors import MoleculeDescriptors\n",
    "from rdkit.Chem import Draw\n",
    "from rdkit.Chem.Draw import rdMolDraw2D\n",
    "from rdkit.Chem import rdMolDescriptors\n",
    "from rdkit.Chem.rdMolDescriptors import GetHashedMorganFingerprint\n",
    "\n",
    "from rdkit.Chem.Draw import IPythonConsole\n",
    "from rdkit import DataStructs\n",
    "from rdkit.ML.Cluster import Butina\n",
    "\n",
    "from tqdm import tqdm\n",
    "\n",
    "import warnings\n",
    "warnings.filterwarnings('ignore')\n",
    "#\n",
    "import pandas as pd\n",
    "import numpy as np\n",
    "import seaborn as sn\n",
    "import matplotlib.pyplot as plt\n",
    "from ipywidgets import interact,fixed,IntSlider\n",
    "\n",
    "def renderFpBit(mol,bitIdx,bitInfo,fn):\n",
    "    bid = bitIdx\n",
    "    return(display(fn(mol,bid,bitInfo)))\n",
    "def get_index_of_array_that_contain_1_in_any_position(list1):\n",
    "    result = []\n",
    "    for i, e in enumerate(list1):\n",
    "        if e > 0:\n",
    "            result.append(i)\n",
    "    return result\n",
    "def getSMART(mol_in, radius, atomidx, nBits):\n",
    "    mol = mol_in\n",
    "    env = Chem.FindAtomEnvironmentOfRadiusN(mol, radius, atomidx)\n",
    "    atomsToUse = set((atomidx, ))\n",
    "    for b in env:\n",
    "        atomsToUse.add(mol.GetBondWithIdx(b).GetBeginAtomIdx())\n",
    "        atomsToUse.add(mol.GetBondWithIdx(b).GetEndAtomIdx())\n",
    "    enlargedEnv = set()\n",
    "    for atom in atomsToUse:\n",
    "        a = mol.GetAtomWithIdx(atom)\n",
    "        for b in a.GetBonds():\n",
    "            bidx = b.GetIdx()\n",
    "            if bidx not in env:\n",
    "                enlargedEnv.add(bidx)\n",
    "    enlargedEnv = list(enlargedEnv)\n",
    "    enlargedEnv += env\n",
    "    # find all relevant neighbors\n",
    "    anyAtoms = []\n",
    "    for a in atomsToUse:\n",
    "        neighbors = mol.GetAtomWithIdx(a).GetNeighbors()\n",
    "        for n in neighbors:\n",
    "            anyIdx = n.GetIdx()\n",
    "            if anyIdx not in atomsToUse:\n",
    "                anyAtoms.append(anyIdx)\n",
    "    # replace atomic number to zero (there is no number for any atom)\n",
    "    for aA in anyAtoms:\n",
    "        mol.GetAtomWithIdx(aA).SetAtomicNum(0)\n",
    "    submol = Chem.PathToSubmol(mol, enlargedEnv)\n",
    "    # change [0] to *\n",
    "    MorganBitSmarts = Chem.MolToSmarts(submol).replace('[#0]', '*')\n",
    "    #print(MorganBitSmarts)\n",
    "    return MorganBitSmarts \n",
    "def get_All_SMART_1_mol(mol_in, nBits):\n",
    "    bit_info = {}\n",
    "    mol = mol_in\n",
    "    fp = GetHashedMorganFingerprint(mol, 3, nBits=nBits, bitInfo=bit_info, useFeatures=True)\n",
    "\n",
    "    #print(get_index_of_array_that_contain_1_in_any_position(list(fp)))\n",
    "    #print(bit_info.keys())\n",
    "    string_SMARTS = []\n",
    "    #print(\"PASS\")\n",
    "    for i,v in enumerate(bit_info.keys()):\n",
    "        #print(i)\n",
    "        #print(\"v=\",v)\n",
    "        atomidx, radius = bit_info[v][0]\n",
    "        #print(\"atomidx= \",atomidx)\n",
    "        #print(\"radius= \",radius)\n",
    "        string_SMART = getSMART(mol, radius=radius, atomidx=atomidx, nBits=nBits)\n",
    "        #print(v, string_SMART)\n",
    "        string_SMARTS.append((v,string_SMART))\n",
    "    return string_SMARTS"
   ]
  },
  {
   "cell_type": "markdown",
   "id": "b0a1c801-200a-46e8-afa5-3adfd2710a77",
   "metadata": {
    "tags": []
   },
   "source": [
    "## Get Smart Small Bit"
   ]
  },
  {
   "cell_type": "code",
   "execution_count": null,
   "id": "aa3c147a-781a-4f78-ba05-fbe20e95a97a",
   "metadata": {
    "tags": []
   },
   "outputs": [],
   "source": [
    "X_data= df[[\"SMILES\"]][:3]\n",
    "X_data[\"molecule\"] = X_data[\"SMILES\"].apply(lambda x: Chem.MolFromSmiles(x))\n",
    "mols = []\n",
    "X_data"
   ]
  },
  {
   "cell_type": "code",
   "execution_count": null,
   "id": "20858f1c-5fe3-4fbd-a446-83cc0e34fdd8",
   "metadata": {
    "tags": []
   },
   "outputs": [],
   "source": [
    "#SMILES=np.array(X_data[\"SMILES\"])\n",
    "x_data = X_data[\"SMILES\"]\n",
    "SMILES=np.array(x_data)\n",
    "for SMILE in SMILES:\n",
    "    mol = Chem.MolFromSmiles(SMILE)\n",
    "    mols.append(mol)"
   ]
  },
  {
   "cell_type": "code",
   "execution_count": null,
   "id": "2cc91bea-86bb-4434-8fe5-c49457b1f83d",
   "metadata": {
    "tags": []
   },
   "outputs": [],
   "source": [
    "mols[1]"
   ]
  },
  {
   "cell_type": "code",
   "execution_count": null,
   "id": "73786e07-62bf-40e5-b178-d63d768d3b1f",
   "metadata": {
    "tags": []
   },
   "outputs": [],
   "source": [
    "nBits = 128\n",
    "test = X_data[\"molecule\"].apply(lambda x: get_All_SMART_1_mol(x, nBits))\n",
    "test"
   ]
  },
  {
   "cell_type": "code",
   "execution_count": null,
   "id": "2f4fa01e-de44-4230-bd37-cf349caed5e4",
   "metadata": {
    "tags": []
   },
   "outputs": [],
   "source": [
    "# %%\n",
    "count = set()\n",
    "for i in test:\n",
    "    #print(i)\n",
    "    for idx, val in i:\n",
    "        count.add(idx)\n",
    "count = sorted(count)\n",
    "# %%\n",
    "len(count)\n",
    "# %%\n",
    "# get smart of all bit molecule\n",
    "check_bit = dict()\n",
    "for i in count:\n",
    "     check_bit[str(i)]=set()\n",
    "    \n",
    "for v in test:    \n",
    "    for i in count:\n",
    "        #check_bit[str(i)]=set()\n",
    "        #print(i,\"COUNT\")\n",
    "        for bit in v:\n",
    "            #print(bit[0])\n",
    "            if i == bit[0]:\n",
    "              #print(\"PASS\")\n",
    "              check_bit[str(i)].add(bit[1])\n",
    "check_bit"
   ]
  },
  {
   "cell_type": "code",
   "execution_count": null,
   "id": "9453c0e1-086d-4bec-8895-90b6f68e7eb4",
   "metadata": {
    "tags": []
   },
   "outputs": [],
   "source": [
    "\n",
    "# %%\n",
    "data =[]\n",
    "idx_all=[]\n",
    "count_str=[]\n",
    "for idx in check_bit:\n",
    "    #print(idx, len(check_bit[str(idx)]))\n",
    "    \n",
    "    idx_all.append(idx)\n",
    "    count_str.append(len(check_bit[str(idx)]))\n",
    "    \n",
    "data = {\n",
    "        \"no. Bit\":idx_all,\n",
    "        \"Number Structure\":count_str\n",
    "    }    \n",
    "#pd.DataFrame(data).to_csv(\"Bit collision/Check_SMART_in_bit_3mol.csv\")"
   ]
  },
  {
   "cell_type": "code",
   "execution_count": null,
   "id": "28cb7019-7273-412a-a8f3-32eb9c5b0fc6",
   "metadata": {
    "tags": []
   },
   "outputs": [],
   "source": [
    "from collections import OrderedDict\n",
    "a=list(check_bit['24'])\n",
    "#print(len(a))\n",
    "\n",
    "\n",
    "sort_check_bit1 = OrderedDict(sorted(check_bit.items(), key = lambda x : len(x[1]), reverse=True)).keys()\n",
    "sort_check_bit2 = {i:check_bit[i] for i in sort_check_bit1}\n",
    "\n",
    "# %%\n",
    "#for idx in sort_check_bit2.keys():\n",
    "temp=[80]\n",
    "for idx in temp:\n",
    "    #subms = [x for x in list(check_bit[idx])]\n",
    "    subms = [x for x in list(check_bit[str(idx)])]\n",
    "    #print(idx)\n",
    "    \n",
    "    mol_subms = []\n",
    "    for smart in subms:\n",
    "        mol=Chem.MolFromSmarts(smart)\n",
    "        mol_subms.append(mol)\n",
    "        \n",
    "    #a=Chem.MolFromSmarts(list(check_bit['20'])[5])\n",
    "    #a2=Chem.MolToSmarts(a)\n",
    "    #img = Draw.MolToImage(a)\n",
    "    img=Draw.MolsToGridImage(mol_subms,molsPerRow=5,subImgSize=(200,200)) \n",
    "    #picname = \"Picture/\"+idx+\".png\"\n",
    "    #img.save(picname,format=\"PNG\")\n",
    "   #img.save(picname)\n",
    "img"
   ]
  },
  {
   "cell_type": "code",
   "execution_count": null,
   "id": "4cea719c-0a3f-49d5-b9f3-77bfd36a1501",
   "metadata": {},
   "outputs": [],
   "source": []
  },
  {
   "cell_type": "code",
   "execution_count": null,
   "id": "1869fd45-bb52-4039-b13c-6238518f691f",
   "metadata": {},
   "outputs": [],
   "source": []
  },
  {
   "cell_type": "markdown",
   "id": "c7454088-7e01-4d8f-bb55-a4ab762304b0",
   "metadata": {
    "tags": []
   },
   "source": [
    "# Atom-pair Fingerprint\n",
    "https://www.youtube.com/watch?v=-oHqQBUyrQ0&t=407s"
   ]
  },
  {
   "cell_type": "code",
   "execution_count": 31,
   "id": "08dd2fcf-3835-4ddb-865c-ed0542391d9e",
   "metadata": {
    "tags": []
   },
   "outputs": [],
   "source": [
    "ms = [Chem.MolFromSmiles('C1CCC1OCC'),Chem.MolFromSmiles('CC(C)OCC'),Chem.MolFromSmiles('CCOCC')]"
   ]
  },
  {
   "cell_type": "code",
   "execution_count": 32,
   "id": "d58c059e-3003-498b-b9e8-dbfe3b095187",
   "metadata": {
    "tags": []
   },
   "outputs": [],
   "source": [
    "fpgen = [rdMolDescriptors.GetHashedAtomPairFingerprintAsBitVect(x, nBits=512) for x in ms]\n",
    "#pairFps = [fpgen.GetSparseCountFingerprint(x) for x in ms]"
   ]
  },
  {
   "cell_type": "code",
   "execution_count": 33,
   "id": "165fc260-5ce2-4061-8b83-c8ae1d05aa23",
   "metadata": {
    "tags": []
   },
   "outputs": [
    {
     "data": {
      "text/plain": [
       "[20, 14, 10]"
      ]
     },
     "execution_count": 33,
     "metadata": {},
     "output_type": "execute_result"
    }
   ],
   "source": [
    "[x.GetNumOnBits() for x in fpgen]"
   ]
  },
  {
   "cell_type": "code",
   "execution_count": 34,
   "id": "8a758c7d-a485-4c01-b218-791b73f856e6",
   "metadata": {
    "tags": []
   },
   "outputs": [
    {
     "name": "stdout",
     "output_type": "stream",
     "text": [
      "All Diff index: \n",
      " []\n",
      "M2 Diff from M1: \n",
      " []\n",
      "M1 Diff from M2: \n",
      " []\n"
     ]
    }
   ],
   "source": [
    "# STEP 2\n",
    "# Find Diff Feature\n",
    "\n",
    "fp_bit1=fpgen[1]\n",
    "fp_bit2=fpgen[2]\n",
    "all_diff = set(fp_bit1).symmetric_difference(set(fp_bit2))\n",
    "diff2_from1 = set(fp_bit1)-set(fp_bit2)\n",
    "diff1_from2 = set(fp_bit2)-set(fp_bit1)\n",
    "\n",
    "#print(\"M1 is \", smiles_to_iupac(name1)   )\n",
    "#print(\"M2 is \",  smiles_to_iupac(name2)  )\n",
    "print(\"All Diff index: \\n\", sorted(all_diff))\n",
    "print(\"M2 Diff from M1: \\n\", sorted(diff2_from1))\n",
    "print(\"M1 Diff from M2: \\n\", sorted(diff1_from2))"
   ]
  },
  {
   "cell_type": "code",
   "execution_count": null,
   "id": "b6c56a79-2a7e-4be8-8010-d0f1fc3ad8ff",
   "metadata": {},
   "outputs": [],
   "source": []
  },
  {
   "cell_type": "markdown",
   "id": "6ac72d07-bf8b-4edd-8be7-1b51b0196776",
   "metadata": {
    "tags": []
   },
   "source": [
    "# Morgan_fingerprint Count-based"
   ]
  },
  {
   "cell_type": "code",
   "execution_count": null,
   "id": "11964cb6-03bd-40d7-a267-f358999088ac",
   "metadata": {},
   "outputs": [],
   "source": []
  }
 ],
 "metadata": {
  "kernelspec": {
   "display_name": "Python 3 (ipykernel)",
   "language": "python",
   "name": "python3"
  },
  "language_info": {
   "codemirror_mode": {
    "name": "ipython",
    "version": 3
   },
   "file_extension": ".py",
   "mimetype": "text/x-python",
   "name": "python",
   "nbconvert_exporter": "python",
   "pygments_lexer": "ipython3",
   "version": "3.11.4"
  },
  "toc-autonumbering": true
 },
 "nbformat": 4,
 "nbformat_minor": 5
}
