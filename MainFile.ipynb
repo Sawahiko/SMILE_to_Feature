{
 "cells": [
  {
   "cell_type": "code",
   "execution_count": 36,
   "id": "9912ab0f-e8c2-44c1-b0a2-eb02319a2a6f",
   "metadata": {
    "scrolled": true,
    "tags": []
   },
   "outputs": [],
   "source": [
    "#pip install rdkit pandas numpy seaborn sklearn"
   ]
  },
  {
   "cell_type": "code",
   "execution_count": 1,
   "id": "e69a6d8d-6960-4465-a1e8-50f6b4b00d3d",
   "metadata": {
    "execution": {
     "iopub.execute_input": "2023-09-22T11:45:03.284846Z",
     "iopub.status.busy": "2023-09-22T11:45:03.284846Z",
     "iopub.status.idle": "2023-09-22T11:45:13.952388Z",
     "shell.execute_reply": "2023-09-22T11:45:13.952388Z",
     "shell.execute_reply.started": "2023-09-22T11:45:03.284846Z"
    },
    "id": "5QKaKQNzGN7T",
    "tags": []
   },
   "outputs": [],
   "source": [
    "# https://www.rdkit.org/\n",
    "import rdkit\n",
    "#https://github.com/rdkit/rdkit\n",
    "from rdkit.Chem import AllChem\n",
    "from rdkit import Chem\n",
    "from rdkit.Chem import Descriptors\n",
    "from rdkit.ML.Descriptors import MoleculeDescriptors\n",
    "# https://pandas.pydata.org\n",
    "import pandas as pd\n",
    "\n",
    "# https://numpy.org/doc/stable/release.html\n",
    "import numpy as np\n",
    "\n",
    "#https://github.com/mordred-descriptor/mordred\n",
    "#from mordred import Calculator, descriptors\n",
    "\n",
    "from rdkit.Chem import Draw\n",
    "from rdkit.Chem.Draw import rdMolDraw2D"
   ]
  },
  {
   "cell_type": "code",
   "execution_count": 2,
   "id": "2ab040d5-1d44-42d8-8cad-2ea13a4d3307",
   "metadata": {
    "execution": {
     "iopub.execute_input": "2023-09-22T11:45:13.954381Z",
     "iopub.status.busy": "2023-09-22T11:45:13.954381Z",
     "iopub.status.idle": "2023-09-22T11:45:25.765980Z",
     "shell.execute_reply": "2023-09-22T11:45:25.765980Z",
     "shell.execute_reply.started": "2023-09-22T11:45:13.954381Z"
    },
    "tags": []
   },
   "outputs": [],
   "source": [
    "import pandas as pd\n",
    "import numpy as np\n",
    "import seaborn as sn\n",
    "import matplotlib.pyplot as plt\n",
    "#---------------------- RDKit packages\n",
    "from rdkit.Chem import AllChem\n",
    "from rdkit.Chem import rdMolDescriptors\n",
    "from rdkit.Chem.Draw import IPythonConsole\n",
    "from rdkit.Chem import Draw\n",
    "from rdkit import DataStructs\n",
    "from rdkit.ML.Cluster import Butina\n",
    "#------------------- progress bar\n",
    "from tqdm import tqdm\n",
    "#------------------- hide warning\n",
    "import warnings\n",
    "warnings.filterwarnings('ignore')"
   ]
  },
  {
   "cell_type": "code",
   "execution_count": 3,
   "id": "b6e98b07-1bea-4456-8d46-1747fa940ac8",
   "metadata": {
    "execution": {
     "iopub.execute_input": "2023-09-22T11:45:25.767973Z",
     "iopub.status.busy": "2023-09-22T11:45:25.766972Z",
     "iopub.status.idle": "2023-09-22T11:45:25.774271Z",
     "shell.execute_reply": "2023-09-22T11:45:25.774271Z",
     "shell.execute_reply.started": "2023-09-22T11:45:25.767973Z"
    },
    "tags": []
   },
   "outputs": [],
   "source": [
    "from rdkit.Chem.Draw import IPythonConsole\n",
    "from ipywidgets import interact,fixed,IntSlider\n",
    "def renderFpBit(mol,bitIdx,bitInfo,fn):\n",
    "    bid = bitIdx\n",
    "    return(display(fn(mol,bid,bitInfo), mol))"
   ]
  },
  {
   "cell_type": "markdown",
   "id": "ae0e8c61-d5e6-4a2c-b3b5-df1346fe84a2",
   "metadata": {
    "tags": []
   },
   "source": [
    "# Morgan_fingerprint"
   ]
  },
  {
   "cell_type": "code",
   "execution_count": 40,
   "id": "e7417534-6763-4284-a673-7e502e4b60b0",
   "metadata": {
    "tags": []
   },
   "outputs": [
    {
     "data": {
      "image/png": "[encoded data removed]",
      "text/plain": [
       "<PIL.PngImagePlugin.PngImageFile image mode=RGB size=300x300>"
      ]
     },
     "execution_count": 40,
     "metadata": {},
     "output_type": "execute_result"
    }
   ],
   "source": [
    "name1 = \"CCCC(C)O\"\n",
    "m1 = Chem.MolFromSmiles(name1)\n",
    "img1 = Draw.MolToImage(m1)\n",
    "img1"
   ]
  },
  {
   "cell_type": "code",
   "execution_count": 41,
   "id": "c935d048-0973-40e7-9aa8-cc2d86f251db",
   "metadata": {
    "tags": []
   },
   "outputs": [
    {
     "data": {
      "image/png": "[encoded data removed]",
      "text/plain": [
       "<PIL.PngImagePlugin.PngImageFile image mode=RGB size=300x300>"
      ]
     },
     "execution_count": 41,
     "metadata": {},
     "output_type": "execute_result"
    }
   ],
   "source": [
    "name2 = \"CCC(CC)O\"\n",
    "m2 = Chem.MolFromSmiles(name2)\n",
    "img2 = Draw.MolToImage(m2)\n",
    "img2"
   ]
  },
  {
   "cell_type": "code",
   "execution_count": 42,
   "id": "8b8ffb3c-0861-487e-82b3-42dbdbaf4467",
   "metadata": {
    "tags": []
   },
   "outputs": [
    {
     "data": {
      "text/html": [
       "<div>\n",
       "<style scoped>\n",
       "    .dataframe tbody tr th:only-of-type {\n",
       "        vertical-align: middle;\n",
       "    }\n",
       "\n",
       "    .dataframe tbody tr th {\n",
       "        vertical-align: top;\n",
       "    }\n",
       "\n",
       "    .dataframe thead th {\n",
       "        text-align: right;\n",
       "    }\n",
       "</style>\n",
       "<table border=\"1\" class=\"dataframe\">\n",
       "  <thead>\n",
       "    <tr style=\"text-align: right;\">\n",
       "      <th></th>\n",
       "      <th>SMILE</th>\n",
       "      <th>molecule</th>\n",
       "      <th>morgan_fp</th>\n",
       "    </tr>\n",
       "  </thead>\n",
       "  <tbody>\n",
       "    <tr>\n",
       "      <th>0</th>\n",
       "      <td>CCCC(C)O</td>\n",
       "      <td>&lt;rdkit.Chem.rdchem.Mol object at 0x0000024BBCA...</td>\n",
       "      <td>[1, 0, 0, 1, 0, 0, 0, 0, 0, 0, 0, 0, 0, 0, 0, ...</td>\n",
       "    </tr>\n",
       "    <tr>\n",
       "      <th>1</th>\n",
       "      <td>CCC(CC)O</td>\n",
       "      <td>&lt;rdkit.Chem.rdchem.Mol object at 0x0000024BBCA...</td>\n",
       "      <td>[1, 0, 0, 1, 0, 0, 0, 0, 0, 0, 0, 0, 0, 0, 0, ...</td>\n",
       "    </tr>\n",
       "  </tbody>\n",
       "</table>\n",
       "</div>"
      ],
      "text/plain": [
       "      SMILE                                           molecule  \\\n",
       "0  CCCC(C)O  <rdkit.Chem.rdchem.Mol object at 0x0000024BBCA...   \n",
       "1  CCC(CC)O  <rdkit.Chem.rdchem.Mol object at 0x0000024BBCA...   \n",
       "\n",
       "                                           morgan_fp  \n",
       "0  [1, 0, 0, 1, 0, 0, 0, 0, 0, 0, 0, 0, 0, 0, 0, ...  \n",
       "1  [1, 0, 0, 1, 0, 0, 0, 0, 0, 0, 0, 0, 0, 0, 0, ...  "
      ]
     },
     "execution_count": 42,
     "metadata": {},
     "output_type": "execute_result"
    }
   ],
   "source": [
    "data = {\n",
    "  \"SMILE\": [name1, name2]\n",
    "}\n",
    "TEST_X = pd.DataFrame(data)\n",
    "TEST_X[\"molecule\"] = TEST_X[\"SMILE\"].apply(lambda x: Chem.MolFromSmiles(x))\n",
    "TEST_X[\"morgan_fp\"] = TEST_X[\"molecule\"].apply(lambda x: rdMolDescriptors.GetMorganFingerprintAsBitVect(x, radius=4, nBits=250, useFeatures=True, useChirality=True))\n",
    "TEST_X"
   ]
  },
  {
   "cell_type": "code",
   "execution_count": 43,
   "id": "5ae578b5-a825-4861-8b08-0319d342e9bc",
   "metadata": {
    "tags": []
   },
   "outputs": [],
   "source": [
    "#rdMolDescriptors.GetMorganFingerprintAsBitVect(m1, radius=4, nBits=250, useFeatures=True, useChirality=True)"
   ]
  },
  {
   "cell_type": "code",
   "execution_count": 44,
   "id": "254c2bd6-c5ae-4f53-b095-88f2ff6602d5",
   "metadata": {
    "tags": []
   },
   "outputs": [],
   "source": [
    "def SmileToMorganFP_df(smiles):\n",
    "    input_molecule = Chem.MolFromSmiles(smiles)\n",
    "    morgan_fp = rdMolDescriptors.GetMorganFingerprintAsBitVect(input_molecule, radius=4, nBits=250, useFeatures=True, useChirality=True)\n",
    "    morgan_array = np.array(morgan_fp)\n",
    "    morgan_dataframe = pd.DataFrame(morgan_array)\n",
    "    morgan_dataframe_row = morgan_dataframe.T\n",
    "    return morgan_dataframe_row\n",
    "def SmileToMorganFP(smiles):\n",
    "    input_molecule = Chem.MolFromSmiles(smiles)\n",
    "    morgan_fp = rdMolDescriptors.GetMorganFingerprintAsBitVect(input_molecule, radius=4, nBits=250, useFeatures=True, useChirality=True)\n",
    "    morgan_bit = morgan_fp.GetOnBits()\n",
    "    morgan_array = np.array(morgan_fp)\n",
    "    return morgan_array,tuple(morgan_bit)"
   ]
  },
  {
   "cell_type": "code",
   "execution_count": 45,
   "id": "70f97200-e416-493a-8243-cfc73fca2e42",
   "metadata": {
    "tags": []
   },
   "outputs": [
    {
     "data": {
      "text/plain": [
       "'\\nname1 = \"CCCCCCCCCO\"\\nname2 = \"CCCCCCCCCCO\"\\n'"
      ]
     },
     "execution_count": 45,
     "metadata": {},
     "output_type": "execute_result"
    }
   ],
   "source": [
    "# STEP 0 \n",
    "'''\n",
    "name1 = \"CCCCCCCCCO\"\n",
    "name2 = \"CCCCCCCCCCO\"\n",
    "'''"
   ]
  },
  {
   "cell_type": "code",
   "execution_count": 46,
   "id": "14344661-42f2-4bdb-b0ba-e9fce298e993",
   "metadata": {
    "tags": []
   },
   "outputs": [],
   "source": [
    "# STEP 1\n",
    "fp1 = SmileToMorganFP(name1)\n",
    "fp2 = SmileToMorganFP(name2)"
   ]
  },
  {
   "cell_type": "code",
   "execution_count": 47,
   "id": "3ff6c225-f7fe-430e-ae08-c38490dcbaf9",
   "metadata": {
    "tags": []
   },
   "outputs": [
    {
     "name": "stdout",
     "output_type": "stream",
     "text": [
      "All Diff index: \n",
      " [42, 47, 144, 193, 243]\n",
      "M2 Diff from M1: \n",
      " [47, 144, 243]\n",
      "M1 Diff from M2: \n",
      " [42, 193]\n"
     ]
    }
   ],
   "source": [
    "# STEP 2\n",
    "# Find Diff Feature\n",
    "\n",
    "fp_bit1=fp1[1]\n",
    "fp_bit2=fp2[1]\n",
    "all_diff = set(fp_bit1).symmetric_difference(set(fp_bit2))\n",
    "diff2_from1 = set(fp_bit1)-set(fp_bit2)\n",
    "diff1_from2 = set(fp_bit2)-set(fp_bit1)\n",
    "\n",
    "#print(\"M1 is \", smiles_to_iupac(name1)   )\n",
    "#print(\"M2 is \",  smiles_to_iupac(name2)  )\n",
    "print(\"All Diff index: \\n\", sorted(all_diff))\n",
    "print(\"M2 Diff from M1: \\n\", sorted(diff2_from1))\n",
    "print(\"M1 Diff from M2: \\n\", sorted(diff1_from2))"
   ]
  },
  {
   "cell_type": "code",
   "execution_count": 48,
   "id": "0dea70a6-77c6-47ca-a9b5-807fcc48e90d",
   "metadata": {
    "tags": []
   },
   "outputs": [
    {
     "data": {
      "image/png": "[encoded data removed]",
      "text/plain": [
       "<PIL.PngImagePlugin.PngImageFile image mode=RGB size=600x450>"
      ]
     },
     "execution_count": 48,
     "metadata": {},
     "output_type": "execute_result"
    }
   ],
   "source": [
    "onbits = {}\n",
    "mf = rdMolDescriptors.GetMorganFingerprintAsBitVect(m1, radius=4, nBits=250, useFeatures=True, useChirality=True, bitInfo=onbits)\n",
    "all_fragments = [(m1, x, onbits) for x in mf.GetOnBits()]\n",
    "Draw.DrawMorganBits(all_fragments[:],molsPerRow=4, legends=[str(x) for x in mf.GetOnBits()][:])"
   ]
  },
  {
   "cell_type": "code",
   "execution_count": 49,
   "id": "440ff6e5-6096-4780-b7e5-9dd924c56c25",
   "metadata": {
    "tags": []
   },
   "outputs": [
    {
     "data": {
      "image/png": "[encoded data removed]",
      "text/plain": [
       "<PIL.PngImagePlugin.PngImageFile image mode=RGB size=600x300>"
      ]
     },
     "execution_count": 49,
     "metadata": {},
     "output_type": "execute_result"
    }
   ],
   "source": [
    "onbits = {}\n",
    "mf = rdMolDescriptors.GetMorganFingerprintAsBitVect(m2, radius=4, nBits=250, useFeatures=True, useChirality=True, bitInfo=onbits)\n",
    "all_fragments = [(m2, x, onbits) for x in mf.GetOnBits()]\n",
    "Draw.DrawMorganBits(all_fragments[:],molsPerRow=4, legends=[str(x) for x in mf.GetOnBits()][:])"
   ]
  },
  {
   "cell_type": "code",
   "execution_count": 50,
   "id": "175bb96f-8998-45bf-870d-d13926bed4c2",
   "metadata": {
    "tags": []
   },
   "outputs": [
    {
     "data": {
      "text/plain": [
       "'\\nonbits = {}\\nall_fragments = [(m1, x, onbits) for x in mf.GetOnBits()]\\nDraw.DrawMorganBits(all_fragments[:],molsPerRow=4, legends=[str(x) for x in mf.GetOnBits()][:])\\n'"
      ]
     },
     "execution_count": 50,
     "metadata": {},
     "output_type": "execute_result"
    }
   ],
   "source": [
    "'''\n",
    "onbits = {}\n",
    "all_fragments = [(m1, x, onbits) for x in mf.GetOnBits()]\n",
    "Draw.DrawMorganBits(all_fragments[:],molsPerRow=4, legends=[str(x) for x in mf.GetOnBits()][:])\n",
    "'''\n",
    "#all_fragments"
   ]
  },
  {
   "cell_type": "code",
   "execution_count": 51,
   "id": "f59a12b6-b3cb-42e7-b5d9-4f4a8d495c38",
   "metadata": {
    "tags": []
   },
   "outputs": [
    {
     "name": "stdout",
     "output_type": "stream",
     "text": [
      "[1 0 0 1 0 0 0 0 0 0 0 0 0 0 0 0 0 0 0 0 0 0 0 0 0 0 0 0 0 0 0 0 0 0 0 0 0\n",
      " 0 0 0 0 0 0 0 0 0 0 1 0 0 0 0 0 0 0 0 0 0 0 0 0 0 0 0 0 0 0 0 0 0 0 0 0 0\n",
      " 0 1 0 0 0 0 0 0 0 0 0 0 0 0 0 0 0 0 0 0 0 0 0 0 0 0 0 0 0 0 0 0 0 0 0 0 0\n",
      " 0 0 0 0 0 0 0 0 1 0 0 0 0 0 0 0 0 0 0 0 0 0 0 0 0 0 0 1 0 0 0 0 0 1 0 0 0\n",
      " 0 0 0 0 0 0 0 0 0 1 0 0 0 0 0 0 0 0 0 0 0 0 0 0 0 0 0 0 0 0 0 0 0 0 0 0 0\n",
      " 0 0 0 0 0 0 0 0 0 0 0 0 0 0 0 0 0 0 0 0 0 0 0 0 0 0 0 0 0 0 0 0 0 0 0 0 0\n",
      " 0 0 0 0 0 0 0 0 0 0 0 0 0 0 0 0 0 0 0 0 0 1 0 0 0 0 0 0]\n",
      "[1 0 0 1 0 0 0 0 0 0 0 0 0 0 0 0 0 0 0 0 0 0 0 0 0 0 0 0 0 0 0 0 0 0 0 0 0\n",
      " 0 0 0 0 0 1 0 0 0 0 0 0 0 0 0 0 0 0 0 0 0 0 0 0 0 0 0 0 0 0 0 0 0 0 0 0 0\n",
      " 0 1 0 0 0 0 0 0 0 0 0 0 0 0 0 0 0 0 0 0 0 0 0 0 0 0 0 0 0 0 0 0 0 0 0 0 0\n",
      " 0 0 0 0 0 0 0 0 1 0 0 0 0 0 0 0 0 0 0 0 0 0 0 0 0 0 0 1 0 0 0 0 0 0 0 0 0\n",
      " 0 0 0 0 0 0 0 0 0 1 0 0 0 0 0 0 0 0 0 0 0 0 0 0 0 0 0 0 0 0 0 0 0 0 0 0 0\n",
      " 0 0 0 0 0 0 0 0 1 0 0 0 0 0 0 0 0 0 0 0 0 0 0 0 0 0 0 0 0 0 0 0 0 0 0 0 0\n",
      " 0 0 0 0 0 0 0 0 0 0 0 0 0 0 0 0 0 0 0 0 0 0 0 0 0 0 0 0]\n",
      "Index of On bits 1: \n",
      " (0, 3, 47, 75, 119, 138, 144, 157, 243)\n",
      "Index of On bits 2: \n",
      " (0, 3, 42, 75, 119, 138, 157, 193)\n",
      "Number of On bits 1: \n",
      " 9\n",
      "Number of On bits 2: \n",
      " 8\n",
      "All Diff index: \n",
      " [42, 47, 144, 193, 243]\n",
      "M2 Diff from M1: \n",
      " [47, 144, 243]\n",
      "M1 Diff from M2: \n",
      " [42, 193]\n",
      "\n",
      "250 BITS\n"
     ]
    }
   ],
   "source": [
    "print(fp1[0])\n",
    "print(fp2[0])\n",
    "\n",
    "# print On bits\n",
    "print(\"Index of On bits 1: \\n\",fp_bit1)\n",
    "print(\"Index of On bits 2: \\n\",fp_bit2)\n",
    "# how many bits are On?\n",
    "print(\"Number of On bits 1: \\n\",len(fp_bit1))\n",
    "print(\"Number of On bits 2: \\n\",len(fp_bit2))\n",
    "\n",
    "print(\"All Diff index: \\n\", sorted(all_diff))\n",
    "print(\"M2 Diff from M1: \\n\", sorted(diff2_from1))\n",
    "print(\"M1 Diff from M2: \\n\", sorted(diff1_from2))\n",
    "\n",
    "print(\"\\n250 BITS\")"
   ]
  },
  {
   "cell_type": "markdown",
   "id": "e83f5c9d-485f-4303-9a33-3bf7921d83b2",
   "metadata": {
    "tags": []
   },
   "source": [
    "# MACCS"
   ]
  },
  {
   "cell_type": "code",
   "execution_count": 52,
   "id": "eda8b899-3bd6-4c31-93ac-ed7e8bcacec2",
   "metadata": {
    "tags": []
   },
   "outputs": [],
   "source": [
    "import requests\n",
    "CACTUS = \"https://cactus.nci.nih.gov/chemical/structure/{0}/{1}\"\n",
    "def smiles_to_iupac(smiles):\n",
    "    rep = \"iupac_name\"\n",
    "    url = CACTUS.format(smiles, rep)\n",
    "    response = requests.get(url)\n",
    "    response.raise_for_status()\n",
    "    return response.text"
   ]
  },
  {
   "cell_type": "code",
   "execution_count": 53,
   "id": "7e72571a-865b-489f-83b2-a63f16dd1a5c",
   "metadata": {
    "tags": []
   },
   "outputs": [],
   "source": [
    "name1 = \"CC#C\"\n",
    "m1 = Chem.MolFromSmiles(name1)\n",
    "img1 = Draw.MolToImage(m1)\n",
    "img1\n",
    "img1.save('1-butyne.png')"
   ]
  },
  {
   "cell_type": "code",
   "execution_count": 54,
   "id": "381f776f-84f4-47a9-9ad0-01c230e830c5",
   "metadata": {
    "tags": []
   },
   "outputs": [],
   "source": [
    "name2 = \"CC#CC\"\n",
    "m2 = Chem.MolFromSmiles(name2)\n",
    "img2 = Draw.MolToImage(m2)\n",
    "img2\n",
    "img2.save('2-butyne.png')"
   ]
  },
  {
   "cell_type": "code",
   "execution_count": 55,
   "id": "53d8dbed-b992-4c1d-86a2-358dc9ceadea",
   "metadata": {},
   "outputs": [
    {
     "data": {
      "text/plain": [
       "'\\nname1 = \"CCCCCCCCCO\"\\nname2 = \"CCCCCCCCCCO\"\\n'"
      ]
     },
     "execution_count": 55,
     "metadata": {},
     "output_type": "execute_result"
    }
   ],
   "source": [
    "'''\n",
    "name1 = \"CCCCCCCCCO\"\n",
    "name2 = \"CCCCCCCCCCO\"\n",
    "'''"
   ]
  },
  {
   "cell_type": "code",
   "execution_count": 56,
   "id": "234c398d-bcf0-4649-85ec-f466f2d46a3f",
   "metadata": {
    "tags": []
   },
   "outputs": [
    {
     "name": "stdout",
     "output_type": "stream",
     "text": [
      "Index of On bits 1: (17, 160)\n",
      "Index of On bits 2: (17, 149, 160)\n",
      "Number of On bits 1:  3\n",
      "Number of On bits 2:  3\n"
     ]
    }
   ],
   "source": [
    "# Generate MACCS (Molecular ACCess System) keys\n",
    "from rdkit.Chem import MACCSkeys\n",
    "Mkeys1 = MACCSkeys.GenMACCSKeys(m1)\n",
    "Mkeys2 = MACCSkeys.GenMACCSKeys(m2)\n",
    "# Use numpy array to see On and Off bits\n",
    "arr_mkey1 = np.array(Mkeys1)\n",
    "arr_mkey2 = np.array(Mkeys2)\n",
    "\n",
    "#print(arr_mkey1)\n",
    "#print(arr_mkey2)\n",
    "\n",
    "arr_bit1 = tuple(Mkeys1.GetOnBits())\n",
    "arr_bit2 = tuple(Mkeys2.GetOnBits())\n",
    "\n",
    "# print On bits\n",
    "print(\"Index of On bits 1:\",tuple(Mkeys1.GetOnBits()))\n",
    "print(\"Index of On bits 2:\",tuple(Mkeys2.GetOnBits()))\n",
    "# how many bits are On?\n",
    "print(\"Number of On bits 1: \",len(Mkeys2.GetOnBits()))\n",
    "print(\"Number of On bits 2: \",len(Mkeys2.GetOnBits()))\n"
   ]
  },
  {
   "cell_type": "code",
   "execution_count": 57,
   "id": "ea733be2-e71c-48c6-a798-d2b801cfabda",
   "metadata": {
    "tags": []
   },
   "outputs": [
    {
     "name": "stdout",
     "output_type": "stream",
     "text": [
      "All Diff index: \n",
      " [149]\n",
      "M2 Diff from M1: \n",
      " []\n",
      "M1 Diff from M2: \n",
      " [149]\n"
     ]
    }
   ],
   "source": [
    "all_diff = set(arr_bit1).symmetric_difference(set(arr_bit2))\n",
    "diff2_from1 = set(arr_bit1)-set(arr_bit2)\n",
    "diff1_from2 = set(arr_bit2)-set(arr_bit1)\n",
    "\n",
    "#print(\"M1 is \", smiles_to_iupac(name1)   )\n",
    "#print(\"M2 is \",  smiles_to_iupac(name2)  )\n",
    "print(\"All Diff index: \\n\", sorted(all_diff))\n",
    "print(\"M2 Diff from M1: \\n\", sorted(diff2_from1))\n",
    "print(\"M1 Diff from M2: \\n\", sorted(diff1_from2))"
   ]
  },
  {
   "cell_type": "code",
   "execution_count": 58,
   "id": "7a5b63ab-8f40-46fb-8518-d8b6a1516d45",
   "metadata": {
    "tags": []
   },
   "outputs": [
    {
     "name": "stdout",
     "output_type": "stream",
     "text": [
      "[0 0 0 0 0 0 0 0 0 0 0 0 0 0 0 0 0 1 0 0 0 0 0 0 0 0 0 0 0 0 0 0 0 0 0 0 0\n",
      " 0 0 0 0 0 0 0 0 0 0 0 0 0 0 0 0 0 0 0 0 0 0 0 0 0 0 0 0 0 0 0 0 0 0 0 0 0\n",
      " 0 0 0 0 0 0 0 0 0 0 0 0 0 0 0 0 0 0 0 0 0 0 0 0 0 0 0 0 0 0 0 0 0 0 0 0 0\n",
      " 0 0 0 0 0 0 0 0 0 0 0 0 0 0 0 0 0 0 0 0 0 0 0 0 0 0 0 0 0 0 0 0 0 0 0 0 0\n",
      " 0 0 0 0 0 0 0 0 0 0 0 0 1 0 0 0 0 0 0]\n",
      "[0 0 0 0 0 0 0 0 0 0 0 0 0 0 0 0 0 1 0 0 0 0 0 0 0 0 0 0 0 0 0 0 0 0 0 0 0\n",
      " 0 0 0 0 0 0 0 0 0 0 0 0 0 0 0 0 0 0 0 0 0 0 0 0 0 0 0 0 0 0 0 0 0 0 0 0 0\n",
      " 0 0 0 0 0 0 0 0 0 0 0 0 0 0 0 0 0 0 0 0 0 0 0 0 0 0 0 0 0 0 0 0 0 0 0 0 0\n",
      " 0 0 0 0 0 0 0 0 0 0 0 0 0 0 0 0 0 0 0 0 0 0 0 0 0 0 0 0 0 0 0 0 0 0 0 0 0\n",
      " 0 1 0 0 0 0 0 0 0 0 0 0 1 0 0 0 0 0 0]\n",
      "Index of On bits 1: \n",
      " (17, 160)\n",
      "Index of On bits 2: \n",
      " (17, 149, 160)\n",
      "Number of On bits 1: \n",
      " 3\n",
      "Number of On bits 2: \n",
      " 3\n",
      "All Diff index: \n",
      " [149]\n",
      "M2 Diff from M1: \n",
      " []\n",
      "M1 Diff from M2: \n",
      " [149]\n"
     ]
    }
   ],
   "source": [
    "print(arr_mkey1)\n",
    "print(arr_mkey2)\n",
    "\n",
    "# print On bits\n",
    "print(\"Index of On bits 1: \\n\",tuple(Mkeys1.GetOnBits()))\n",
    "print(\"Index of On bits 2: \\n\",tuple(Mkeys2.GetOnBits()))\n",
    "# how many bits are On?\n",
    "print(\"Number of On bits 1: \\n\",len(Mkeys2.GetOnBits()))\n",
    "print(\"Number of On bits 2: \\n\",len(Mkeys2.GetOnBits()))\n",
    "\n",
    "#print(\"M1 is \", smiles_to_iupac(name1)   )\n",
    "#print(\"M2 is \",  smiles_to_iupac(name2)  )\n",
    "print(\"All Diff index: \\n\", sorted(all_diff))\n",
    "print(\"M2 Diff from M1: \\n\", sorted(diff2_from1))\n",
    "print(\"M1 Diff from M2: \\n\", sorted(diff1_from2))"
   ]
  },
  {
   "cell_type": "code",
   "execution_count": 59,
   "id": "824d1a1d-dfb8-4398-ac41-08b59540bfc2",
   "metadata": {},
   "outputs": [],
   "source": [
    "#90:  ('[$([!#6;!#1;!H0]~*~*~[CH2]~*),$([!#6;!#1;!H0;R]1@[R]@[R]@[CH2;R]1),$([!#6;!#1;!H0]~[R]1@[R]@[CH2;R]1)]', 0),  # QHAACH2A\n",
    "#115: ('[CH3]~*~[CH2]~*', 0),  # CH3ACH2A\n",
    "#118: ('[$(*~[CH2]~[CH2]~*),$(*1~[CH2]~[CH2]1)]', 1),  # ACH2CH2A > 1\n",
    "#147: ('[$(*~[CH2]~[CH2]~*),$([R]1@[CH2;R]@[CH2;R]1)]', 0),  # ACH2CH2A"
   ]
  },
  {
   "cell_type": "code",
   "execution_count": null,
   "id": "3902e1d1-808c-4a0a-b55d-f64f8a364320",
   "metadata": {},
   "outputs": [],
   "source": []
  },
  {
   "cell_type": "markdown",
   "id": "e9e0d3e5-a5f8-42d7-8fba-245eb9b21aca",
   "metadata": {
    "tags": []
   },
   "source": [
    "# Increase Morgan_fp Bit"
   ]
  },
  {
   "cell_type": "code",
   "execution_count": 7,
   "id": "91f7e321-0367-41a7-8c5e-1bdd0e47905c",
   "metadata": {
    "execution": {
     "iopub.execute_input": "2023-09-22T11:45:45.526039Z",
     "iopub.status.busy": "2023-09-22T11:45:45.525042Z",
     "iopub.status.idle": "2023-09-22T11:45:45.741575Z",
     "shell.execute_reply": "2023-09-22T11:45:45.741575Z",
     "shell.execute_reply.started": "2023-09-22T11:45:45.526039Z"
    },
    "tags": []
   },
   "outputs": [],
   "source": [
    "########   Prepare Data     ########\n",
    "#Import Data\n",
    "df = pd.read_excel(\"DataSMILE.xlsx\",sheet_name=\"All_SMILE\")\n",
    "\n",
    "#Select feature for data\n",
    "X_data= df[[\"SMILES\"]]\n",
    "#Y_data= df[\"Tb\"]\n"
   ]
  },
  {
   "cell_type": "code",
   "execution_count": 86,
   "id": "c7bb3413-9e3c-4eed-aab8-422194b8e326",
   "metadata": {
    "tags": []
   },
   "outputs": [],
   "source": [
    "X_data_use = X_data.copy()\n",
    "MF_bit = 2**10\n",
    "X_data_use[\"molecule\"] = X_data_use[\"SMILES\"].apply(lambda x: Chem.MolFromSmiles(x))\n",
    "X_data_use[\"morgan_fp\"] = X_data_use[\"molecule\"].apply(lambda x: rdMolDescriptors.GetMorganFingerprintAsBitVect(x, radius=4, nBits=MF_bit, useFeatures=True, useChirality=True))\n",
    "\n",
    "#>>> SHOW X_data_use \n",
    "\n",
    "#Transfrom Fingerprint to Column in DataFrame\n",
    "X_data_fp = []\n",
    "for i in range(X_data_use.shape[0]):\n",
    "    array = np.array(X_data_use[\"morgan_fp\"][i])\n",
    "    datafram_i = pd.DataFrame(array)\n",
    "    datafram_i = datafram_i.T\n",
    "    X_data_fp.append(datafram_i)\n",
    "X_data_fp = pd.concat(X_data_fp, ignore_index=True)\n",
    "X_data_ML = pd.concat([X_data_use, X_data_fp], axis=1, join='inner')"
   ]
  },
  {
   "cell_type": "code",
   "execution_count": 9,
   "id": "d6ee139a-286d-4326-9efb-496581bc791c",
   "metadata": {
    "execution": {
     "iopub.execute_input": "2023-09-22T11:46:24.472016Z",
     "iopub.status.busy": "2023-09-22T11:46:24.471016Z",
     "iopub.status.idle": "2023-09-22T11:46:24.670021Z",
     "shell.execute_reply": "2023-09-22T11:46:24.670021Z",
     "shell.execute_reply.started": "2023-09-22T11:46:24.472016Z"
    },
    "tags": []
   },
   "outputs": [],
   "source": [
    "#get Morgan_fp of all substance ex 560 datapoint\n",
    "X_data= df[\"SMILES\"]\n",
    "mols = []\n",
    "#SMILES=np.array(X_data[\"SMILES\"])\n",
    "SMILES=np.array(X_data)\n",
    "for SMILE in SMILES:\n",
    "    mol = Chem.MolFromSmiles(SMILE)\n",
    "    mols.append(mol)\n",
    "\n",
    "# we get 560 fp in FP_all\n",
    "# FP_all = [fp_1, fp_2, ... , fp_560]\n",
    "# Loop \n",
    "\n",
    "# see CURRENTLY_USE in 256, 512, ..., 2048 bit\n",
    "# np.logical_or(FP_all).sum()\n",
    "# >>> 156 bit use in 256 bit"
   ]
  },
  {
   "cell_type": "markdown",
   "id": "ded08f6d-2168-41e0-8257-3c16922ea96b",
   "metadata": {
    "tags": []
   },
   "source": [
    "## Check Large Bit"
   ]
  },
  {
   "cell_type": "code",
   "execution_count": 5,
   "id": "103c9fb3-b603-44a6-8b1d-63e08c0de506",
   "metadata": {
    "execution": {
     "iopub.execute_input": "2023-09-22T11:45:33.617443Z",
     "iopub.status.busy": "2023-09-22T11:45:33.616442Z",
     "iopub.status.idle": "2023-09-22T11:45:34.885770Z",
     "shell.execute_reply": "2023-09-22T11:45:34.885770Z",
     "shell.execute_reply.started": "2023-09-22T11:45:33.617443Z"
    },
    "tags": []
   },
   "outputs": [
    {
     "ename": "NameError",
     "evalue": "name 'mols' is not defined",
     "output_type": "error",
     "traceback": [
      "\u001b[1;31m---------------------------------------------------------------------------\u001b[0m",
      "\u001b[1;31mNameError\u001b[0m                                 Traceback (most recent call last)",
      "Cell \u001b[1;32mIn[5], line 14\u001b[0m\n\u001b[0;32m     12\u001b[0m FPs \u001b[38;5;241m=\u001b[39m []\n\u001b[0;32m     13\u001b[0m infos \u001b[38;5;241m=\u001b[39m []\n\u001b[1;32m---> 14\u001b[0m \u001b[38;5;28;01mfor\u001b[39;00m mol \u001b[38;5;129;01min\u001b[39;00m mols:\n\u001b[0;32m     15\u001b[0m     info \u001b[38;5;241m=\u001b[39m {}\n\u001b[0;32m     16\u001b[0m     FPs\u001b[38;5;241m.\u001b[39mappend(AllChem\u001b[38;5;241m.\u001b[39mGetMorganFingerprintAsBitVect(mol, \u001b[38;5;241m3\u001b[39m, nBits\u001b[38;5;241m=\u001b[39mbit, bitInfo\u001b[38;5;241m=\u001b[39minfo, useFeatures\u001b[38;5;241m=\u001b[39m\u001b[38;5;28;01mTrue\u001b[39;00m))\n",
      "\u001b[1;31mNameError\u001b[0m: name 'mols' is not defined"
     ]
    }
   ],
   "source": [
    "# Looping\n",
    "bits = [2**10, 2**11, 2**12, 2**13, 2**14, 2**15, 2**16, 2**17]\n",
    "#bits = [2**1, 2**2, 2**3, 2**4, 2**5, 2**6]\n",
    "#mols = [m1, m2, ..., m560]\n",
    "#mols = [m1, m2]\n",
    "\n",
    "#32768    1 min\n",
    "#65536    1 min\n",
    "#131072   5 min\n",
    "unique=[]\n",
    "for bit in bits:\n",
    "    FPs = []\n",
    "    infos = []\n",
    "    for mol in mols:\n",
    "        info = {}\n",
    "        FPs.append(AllChem.GetMorganFingerprintAsBitVect(mol, 3, nBits=bit, bitInfo=info, useFeatures=True))\n",
    "        infos.append(info)\n",
    "    unique.append(np.logical_or.reduce(FPs).sum())"
   ]
  },
  {
   "cell_type": "code",
   "execution_count": 68,
   "id": "a3cedf62-7f92-4e8d-b329-2cd60b61fa54",
   "metadata": {
    "tags": []
   },
   "outputs": [
    {
     "data": {
      "image/png": "[encoded data removed]",
      "text/plain": [
       "<Figure size 640x480 with 1 Axes>"
      ]
     },
     "metadata": {},
     "output_type": "display_data"
    }
   ],
   "source": [
    "fig1,ax1 =plt.subplots()\n",
    "ax1.plot(unique)\n",
    "xticks = plt.xticks(range(len(bits)),bits)\n",
    "ax1.yaxis.get_major_locator().set_params(integer=True)"
   ]
  },
  {
   "cell_type": "markdown",
   "id": "3a97ee73-c98e-437a-81da-c5a9f82a9dcc",
   "metadata": {
    "tags": []
   },
   "source": [
    "## Check Small Bit"
   ]
  },
  {
   "cell_type": "code",
   "execution_count": 291,
   "id": "c7ee5ae7-9c3e-4ff4-aef2-58c344379eb2",
   "metadata": {
    "execution": {
     "iopub.execute_input": "2023-09-22T14:16:54.238746Z",
     "iopub.status.busy": "2023-09-22T14:16:54.237734Z",
     "iopub.status.idle": "2023-09-22T14:16:54.242972Z",
     "shell.execute_reply": "2023-09-22T14:16:54.242972Z",
     "shell.execute_reply.started": "2023-09-22T14:16:54.238746Z"
    },
    "tags": []
   },
   "outputs": [],
   "source": [
    "def MF_FP_to_df_X_bit(X_data_use):\n",
    "    X_data_use = pd.DataFrame(np.array(X_data_use))\n",
    "    #print(\"\\n -----------------\")\n",
    "    #print(X_data_use)\n",
    "    #X_data_ML = pd.concat([X_data_use, X_data_fp], axis=1, join='inner')\n",
    "    return X_data_use"
   ]
  },
  {
   "cell_type": "code",
   "execution_count": 292,
   "id": "6c221916-5d73-4c7a-836a-80a393f5b5fb",
   "metadata": {
    "execution": {
     "iopub.execute_input": "2023-09-22T14:16:54.786825Z",
     "iopub.status.busy": "2023-09-22T14:16:54.786825Z",
     "iopub.status.idle": "2023-09-22T14:16:54.794369Z",
     "shell.execute_reply": "2023-09-22T14:16:54.793367Z",
     "shell.execute_reply.started": "2023-09-22T14:16:54.786825Z"
    },
    "tags": []
   },
   "outputs": [],
   "source": [
    "#get Morgan_fp of all substance ex 560 datapoint\n",
    "X_data= df[\"SMILES\"][:3]\n",
    "mols = []\n",
    "#SMILES=np.array(X_data[\"SMILES\"])\n",
    "SMILES=np.array(X_data)\n",
    "for SMILE in SMILES:\n",
    "    mol = Chem.MolFromSmiles(SMILE)\n",
    "    mols.append(mol)\n",
    "\n",
    "# we get 560 fp in FP_all\n",
    "# FP_all = [fp_1, fp_2, ... , fp_560]\n",
    "# Loop \n",
    "\n",
    "# see CURRENTLY_USE in 256, 512, ..., 2048 bit\n",
    "# np.logical_or(FP_all).sum()\n",
    "# >>> 156 bit use in 256 bit"
   ]
  },
  {
   "cell_type": "code",
   "execution_count": 293,
   "id": "2cd216d0-8227-4970-bf72-2f22a8923873",
   "metadata": {
    "execution": {
     "iopub.execute_input": "2023-09-22T14:16:55.262834Z",
     "iopub.status.busy": "2023-09-22T14:16:55.261836Z",
     "iopub.status.idle": "2023-09-22T14:16:55.272416Z",
     "shell.execute_reply": "2023-09-22T14:16:55.272416Z",
     "shell.execute_reply.started": "2023-09-22T14:16:55.262834Z"
    },
    "tags": []
   },
   "outputs": [
    {
     "data": {
      "text/plain": [
       "28"
      ]
     },
     "execution_count": 293,
     "metadata": {},
     "output_type": "execute_result"
    }
   ],
   "source": [
    "bit = 2**6\n",
    "FPs = []\n",
    "infos = []\n",
    "for mol in mols:\n",
    "    info = {}\n",
    "    FPs.append(AllChem.GetMorganFingerprintAsBitVect(mol, 3, nBits=bit, bitInfo=info, useFeatures=True))\n",
    "np.logical_or.reduce(FP_test).sum()"
   ]
  },
  {
   "cell_type": "code",
   "execution_count": 294,
   "id": "a04838e6-648b-49ce-92d8-0c8ca20a6d77",
   "metadata": {
    "execution": {
     "iopub.execute_input": "2023-09-22T14:16:55.635170Z",
     "iopub.status.busy": "2023-09-22T14:16:55.634172Z",
     "iopub.status.idle": "2023-09-22T14:16:55.649520Z",
     "shell.execute_reply": "2023-09-22T14:16:55.649520Z",
     "shell.execute_reply.started": "2023-09-22T14:16:55.634172Z"
    },
    "tags": []
   },
   "outputs": [
    {
     "data": {
      "text/html": [
       "<div>\n",
       "<style scoped>\n",
       "    .dataframe tbody tr th:only-of-type {\n",
       "        vertical-align: middle;\n",
       "    }\n",
       "\n",
       "    .dataframe tbody tr th {\n",
       "        vertical-align: top;\n",
       "    }\n",
       "\n",
       "    .dataframe thead th {\n",
       "        text-align: right;\n",
       "    }\n",
       "</style>\n",
       "<table border=\"1\" class=\"dataframe\">\n",
       "  <thead>\n",
       "    <tr style=\"text-align: right;\">\n",
       "      <th></th>\n",
       "      <th>0</th>\n",
       "      <th>1</th>\n",
       "      <th>2</th>\n",
       "      <th>3</th>\n",
       "      <th>4</th>\n",
       "      <th>5</th>\n",
       "      <th>6</th>\n",
       "      <th>7</th>\n",
       "      <th>8</th>\n",
       "      <th>9</th>\n",
       "      <th>...</th>\n",
       "      <th>54</th>\n",
       "      <th>55</th>\n",
       "      <th>56</th>\n",
       "      <th>57</th>\n",
       "      <th>58</th>\n",
       "      <th>59</th>\n",
       "      <th>60</th>\n",
       "      <th>61</th>\n",
       "      <th>62</th>\n",
       "      <th>63</th>\n",
       "    </tr>\n",
       "  </thead>\n",
       "  <tbody>\n",
       "    <tr>\n",
       "      <th>0</th>\n",
       "      <td>1</td>\n",
       "      <td>0</td>\n",
       "      <td>1</td>\n",
       "      <td>1</td>\n",
       "      <td>1</td>\n",
       "      <td>1</td>\n",
       "      <td>0</td>\n",
       "      <td>0</td>\n",
       "      <td>0</td>\n",
       "      <td>0</td>\n",
       "      <td>...</td>\n",
       "      <td>0</td>\n",
       "      <td>0</td>\n",
       "      <td>0</td>\n",
       "      <td>1</td>\n",
       "      <td>1</td>\n",
       "      <td>0</td>\n",
       "      <td>0</td>\n",
       "      <td>1</td>\n",
       "      <td>0</td>\n",
       "      <td>0</td>\n",
       "    </tr>\n",
       "    <tr>\n",
       "      <th>1</th>\n",
       "      <td>1</td>\n",
       "      <td>0</td>\n",
       "      <td>1</td>\n",
       "      <td>1</td>\n",
       "      <td>0</td>\n",
       "      <td>0</td>\n",
       "      <td>0</td>\n",
       "      <td>0</td>\n",
       "      <td>0</td>\n",
       "      <td>0</td>\n",
       "      <td>...</td>\n",
       "      <td>1</td>\n",
       "      <td>0</td>\n",
       "      <td>0</td>\n",
       "      <td>1</td>\n",
       "      <td>1</td>\n",
       "      <td>0</td>\n",
       "      <td>0</td>\n",
       "      <td>1</td>\n",
       "      <td>0</td>\n",
       "      <td>0</td>\n",
       "    </tr>\n",
       "    <tr>\n",
       "      <th>2</th>\n",
       "      <td>1</td>\n",
       "      <td>0</td>\n",
       "      <td>0</td>\n",
       "      <td>1</td>\n",
       "      <td>0</td>\n",
       "      <td>0</td>\n",
       "      <td>0</td>\n",
       "      <td>0</td>\n",
       "      <td>1</td>\n",
       "      <td>0</td>\n",
       "      <td>...</td>\n",
       "      <td>0</td>\n",
       "      <td>0</td>\n",
       "      <td>0</td>\n",
       "      <td>1</td>\n",
       "      <td>0</td>\n",
       "      <td>0</td>\n",
       "      <td>0</td>\n",
       "      <td>0</td>\n",
       "      <td>0</td>\n",
       "      <td>0</td>\n",
       "    </tr>\n",
       "  </tbody>\n",
       "</table>\n",
       "<p>3 rows × 64 columns</p>\n",
       "</div>"
      ],
      "text/plain": [
       "   0   1   2   3   4   5   6   7   8   9   ...  54  55  56  57  58  59  60  \\\n",
       "0   1   0   1   1   1   1   0   0   0   0  ...   0   0   0   1   1   0   0   \n",
       "1   1   0   1   1   0   0   0   0   0   0  ...   1   0   0   1   1   0   0   \n",
       "2   1   0   0   1   0   0   0   0   1   0  ...   0   0   0   1   0   0   0   \n",
       "\n",
       "   61  62  63  \n",
       "0   1   0   0  \n",
       "1   1   0   0  \n",
       "2   0   0   0  \n",
       "\n",
       "[3 rows x 64 columns]"
      ]
     },
     "execution_count": 294,
     "metadata": {},
     "output_type": "execute_result"
    }
   ],
   "source": [
    "MF_FP_to_df_X_bit(FP_test)"
   ]
  },
  {
   "cell_type": "raw",
   "id": "58a26441-ac50-4227-9c5a-bb902402e4fe",
   "metadata": {
    "execution": {
     "iopub.execute_input": "2023-09-22T12:52:10.601265Z",
     "iopub.status.busy": "2023-09-22T12:52:10.601265Z",
     "iopub.status.idle": "2023-09-22T12:52:10.608691Z",
     "shell.execute_reply": "2023-09-22T12:52:10.608691Z",
     "shell.execute_reply.started": "2023-09-22T12:52:10.601265Z"
    },
    "tags": []
   },
   "source": [
    "MF_FP_to_df_X_bit(FP_test).to_csv(\"Bit collision/FP_3mol.csv\")\n",
    "pd.DataFrame(np.logical_or.reduce(FP_test[:3])).to_csv(\"Bit collision/Unique_FP_3mol.csv\")"
   ]
  },
  {
   "cell_type": "code",
   "execution_count": 311,
   "id": "25cfaa7e-c082-463a-9e59-891d5f521c20",
   "metadata": {
    "execution": {
     "iopub.execute_input": "2023-09-22T14:17:47.535380Z",
     "iopub.status.busy": "2023-09-22T14:17:47.535380Z",
     "iopub.status.idle": "2023-09-22T14:17:47.593917Z",
     "shell.execute_reply": "2023-09-22T14:17:47.593917Z",
     "shell.execute_reply.started": "2023-09-22T14:17:47.535380Z"
    },
    "tags": []
   },
   "outputs": [],
   "source": [
    "# Looping\n",
    "bits = [2**5, 2**6, 2**7, 2**8, 2**9, 2**10, 2**11, 2**12, 2**13]\n",
    "\n",
    "#32768    1 min\n",
    "#65536    1 min\n",
    "#131072   5 min\n",
    "unique=[]\n",
    "for bit in bits:\n",
    "    FPs = []\n",
    "    infos = []\n",
    "    for mol in mols:\n",
    "        info = {}\n",
    "        FPs.append(AllChem.GetMorganFingerprintAsBitVect(mol, 3, nBits=bit, bitInfo=info, useFeatures=True))\n",
    "        infos.append(info)\n",
    "    unique.append(np.logical_or.reduce(FPs).sum())"
   ]
  },
  {
   "cell_type": "code",
   "execution_count": 312,
   "id": "d09f1d01-ab5c-49fa-80a0-ca616c7891af",
   "metadata": {
    "execution": {
     "iopub.execute_input": "2023-09-22T14:17:49.537280Z",
     "iopub.status.busy": "2023-09-22T14:17:49.537280Z",
     "iopub.status.idle": "2023-09-22T14:17:49.543329Z",
     "shell.execute_reply": "2023-09-22T14:17:49.543329Z",
     "shell.execute_reply.started": "2023-09-22T14:17:49.537280Z"
    },
    "tags": []
   },
   "outputs": [
    {
     "data": {
      "text/plain": [
       "[24, 28, 31, 31, 31, 31, 31, 31, 31]"
      ]
     },
     "execution_count": 312,
     "metadata": {},
     "output_type": "execute_result"
    }
   ],
   "source": [
    "unique"
   ]
  },
  {
   "cell_type": "code",
   "execution_count": 313,
   "id": "cb46b205-6e42-4cc7-9e91-00519301a903",
   "metadata": {
    "execution": {
     "iopub.execute_input": "2023-09-22T14:17:49.854827Z",
     "iopub.status.busy": "2023-09-22T14:17:49.853828Z",
     "iopub.status.idle": "2023-09-22T14:17:49.860680Z",
     "shell.execute_reply": "2023-09-22T14:17:49.860680Z",
     "shell.execute_reply.started": "2023-09-22T14:17:49.854827Z"
    },
    "tags": []
   },
   "outputs": [
    {
     "data": {
      "text/plain": [
       "[32, 64, 128, 256, 512, 1024, 2048, 4096, 8192]"
      ]
     },
     "execution_count": 313,
     "metadata": {},
     "output_type": "execute_result"
    }
   ],
   "source": [
    "bits"
   ]
  },
  {
   "cell_type": "code",
   "execution_count": 314,
   "id": "0a93baee-4804-44d9-865d-1a1edc84496d",
   "metadata": {
    "execution": {
     "iopub.execute_input": "2023-09-22T14:17:51.033716Z",
     "iopub.status.busy": "2023-09-22T14:17:51.033716Z",
     "iopub.status.idle": "2023-09-22T14:17:51.039812Z",
     "shell.execute_reply": "2023-09-22T14:17:51.039812Z",
     "shell.execute_reply.started": "2023-09-22T14:17:51.033716Z"
    },
    "tags": []
   },
   "outputs": [
    {
     "data": {
      "text/plain": [
       "array([0.75      , 0.4375    , 0.2421875 , 0.12109375, 0.06054688,\n",
       "       0.03027344, 0.01513672, 0.00756836, 0.00378418])"
      ]
     },
     "execution_count": 314,
     "metadata": {},
     "output_type": "execute_result"
    }
   ],
   "source": [
    "np.array(unique)/np.array(bits)"
   ]
  },
  {
   "cell_type": "code",
   "execution_count": 315,
   "id": "b0002361-26f7-450f-973c-8297d4c32c18",
   "metadata": {
    "execution": {
     "iopub.execute_input": "2023-09-22T14:17:54.531785Z",
     "iopub.status.busy": "2023-09-22T14:17:54.530784Z",
     "iopub.status.idle": "2023-09-22T14:17:54.722628Z",
     "shell.execute_reply": "2023-09-22T14:17:54.722628Z",
     "shell.execute_reply.started": "2023-09-22T14:17:54.531785Z"
    },
    "tags": []
   },
   "outputs": [
    {
     "data": {
      "image/png": "[encoded data removed]",
      "text/plain": [
       "<Figure size 640x480 with 1 Axes>"
      ]
     },
     "metadata": {},
     "output_type": "display_data"
    }
   ],
   "source": [
    "fig1,ax1 =plt.subplots()\n",
    "ax1.plot(unique)\n",
    "xticks = plt.xticks(range(len(bits)),bits)\n",
    "ax1.yaxis.get_major_locator().set_params(integer=True)"
   ]
  },
  {
   "cell_type": "code",
   "execution_count": 90,
   "id": "791ca7fe-8b13-4166-89c3-e1175bcfcb4d",
   "metadata": {
    "execution": {
     "iopub.execute_input": "2023-09-22T13:20:12.592552Z",
     "iopub.status.busy": "2023-09-22T13:20:12.592552Z",
     "iopub.status.idle": "2023-09-22T13:20:12.654334Z",
     "shell.execute_reply": "2023-09-22T13:20:12.654334Z",
     "shell.execute_reply.started": "2023-09-22T13:20:12.592552Z"
    },
    "tags": []
   },
   "outputs": [],
   "source": [
    "fig1.savefig(\"Picture/3mol_checkColiision.png\")"
   ]
  },
  {
   "cell_type": "code",
   "execution_count": 220,
   "id": "5a3bcd09-3d01-4964-b675-398fe12a48bc",
   "metadata": {
    "execution": {
     "iopub.execute_input": "2023-09-22T13:50:28.038851Z",
     "iopub.status.busy": "2023-09-22T13:50:28.038851Z",
     "iopub.status.idle": "2023-09-22T13:50:28.055885Z",
     "shell.execute_reply": "2023-09-22T13:50:28.055885Z",
     "shell.execute_reply.started": "2023-09-22T13:50:28.038851Z"
    },
    "jupyter": {
     "source_hidden": true
    },
    "tags": []
   },
   "outputs": [],
   "source": [
    "# RDKit\n",
    "import rdkit\n",
    "from rdkit.Chem import AllChem\n",
    "from rdkit import Chem\n",
    "from rdkit.Chem import Descriptors\n",
    "from rdkit.ML.Descriptors import MoleculeDescriptors\n",
    "from rdkit.Chem import Draw\n",
    "from rdkit.Chem.Draw import rdMolDraw2D\n",
    "from rdkit.Chem import rdMolDescriptors\n",
    "from rdkit.Chem.rdMolDescriptors import GetHashedMorganFingerprint\n",
    "\n",
    "from rdkit.Chem.Draw import IPythonConsole\n",
    "from rdkit import DataStructs\n",
    "from rdkit.ML.Cluster import Butina\n",
    "\n",
    "from tqdm import tqdm\n",
    "\n",
    "import warnings\n",
    "warnings.filterwarnings('ignore')\n",
    "#\n",
    "import pandas as pd\n",
    "import numpy as np\n",
    "import seaborn as sn\n",
    "import matplotlib.pyplot as plt\n",
    "from ipywidgets import interact,fixed,IntSlider\n",
    "\n",
    "def renderFpBit(mol,bitIdx,bitInfo,fn):\n",
    "    bid = bitIdx\n",
    "    return(display(fn(mol,bid,bitInfo)))\n",
    "def get_index_of_array_that_contain_1_in_any_position(list1):\n",
    "    result = []\n",
    "    for i, e in enumerate(list1):\n",
    "        if e > 0:\n",
    "            result.append(i)\n",
    "    return result\n",
    "def getSMART(mol_in, radius, atomidx):\n",
    "    mol = mol_in\n",
    "    env = Chem.FindAtomEnvironmentOfRadiusN(mol, radius, atomidx)\n",
    "    atomsToUse = set((atomidx, ))\n",
    "    for b in env:\n",
    "        atomsToUse.add(mol.GetBondWithIdx(b).GetBeginAtomIdx())\n",
    "        atomsToUse.add(mol.GetBondWithIdx(b).GetEndAtomIdx())\n",
    "    enlargedEnv = set()\n",
    "    for atom in atomsToUse:\n",
    "        a = mol.GetAtomWithIdx(atom)\n",
    "        for b in a.GetBonds():\n",
    "            bidx = b.GetIdx()\n",
    "            if bidx not in env:\n",
    "                enlargedEnv.add(bidx)\n",
    "    enlargedEnv = list(enlargedEnv)\n",
    "    enlargedEnv += env\n",
    "    # find all relevant neighbors\n",
    "    anyAtoms = []\n",
    "    for a in atomsToUse:\n",
    "        neighbors = mol.GetAtomWithIdx(a).GetNeighbors()\n",
    "        for n in neighbors:\n",
    "            anyIdx = n.GetIdx()\n",
    "            if anyIdx not in atomsToUse:\n",
    "                anyAtoms.append(anyIdx)\n",
    "    # replace atomic number to zero (there is no number for any atom)\n",
    "    for aA in anyAtoms:\n",
    "        mol.GetAtomWithIdx(aA).SetAtomicNum(0)\n",
    "    submol = Chem.PathToSubmol(mol, enlargedEnv)\n",
    "    # change [0] to *\n",
    "    MorganBitSmarts = Chem.MolToSmarts(submol).replace('[#0]', '*')\n",
    "    #print(MorganBitSmarts)\n",
    "    return MorganBitSmarts \n",
    "def get_All_SMART_1_mol(mol_in, nBits):\n",
    "    bit_info = {}\n",
    "    mol = mol_in\n",
    "    fp = GetHashedMorganFingerprint(mol, 3, nBits=nBits, bitInfo=bit_info, useFeatures=True)\n",
    "\n",
    "    #print(get_index_of_array_that_contain_1_in_any_position(list(fp)))\n",
    "    #print(bit_info.keys())\n",
    "    string_SMARTS = []\n",
    "    #print(\"PASS\")\n",
    "    for i,v in enumerate(bit_info.keys()):\n",
    "        #print(i)\n",
    "        #print(\"v=\",v)\n",
    "        atomidx, radius = bit_info[v][0]\n",
    "        #print(\"atomidx= \",atomidx)\n",
    "        #print(\"radius= \",radius)\n",
    "        string_SMART = getSMART(mol, radius=radius, atomidx=atomidx)\n",
    "        #print(v, string_SMART)\n",
    "        string_SMARTS.append((v,string_SMART))\n",
    "    return string_SMARTS"
   ]
  },
  {
   "cell_type": "markdown",
   "id": "b0a1c801-200a-46e8-afa5-3adfd2710a77",
   "metadata": {
    "tags": []
   },
   "source": [
    "## Get Smart Small Bit"
   ]
  },
  {
   "cell_type": "code",
   "execution_count": 230,
   "id": "aa3c147a-781a-4f78-ba05-fbe20e95a97a",
   "metadata": {
    "execution": {
     "iopub.execute_input": "2023-09-22T13:54:18.969467Z",
     "iopub.status.busy": "2023-09-22T13:54:18.968468Z",
     "iopub.status.idle": "2023-09-22T13:54:18.982246Z",
     "shell.execute_reply": "2023-09-22T13:54:18.981245Z",
     "shell.execute_reply.started": "2023-09-22T13:54:18.969467Z"
    },
    "tags": []
   },
   "outputs": [
    {
     "data": {
      "text/html": [
       "<div>\n",
       "<style scoped>\n",
       "    .dataframe tbody tr th:only-of-type {\n",
       "        vertical-align: middle;\n",
       "    }\n",
       "\n",
       "    .dataframe tbody tr th {\n",
       "        vertical-align: top;\n",
       "    }\n",
       "\n",
       "    .dataframe thead th {\n",
       "        text-align: right;\n",
       "    }\n",
       "</style>\n",
       "<table border=\"1\" class=\"dataframe\">\n",
       "  <thead>\n",
       "    <tr style=\"text-align: right;\">\n",
       "      <th></th>\n",
       "      <th>SMILES</th>\n",
       "      <th>molecule</th>\n",
       "    </tr>\n",
       "  </thead>\n",
       "  <tbody>\n",
       "    <tr>\n",
       "      <th>0</th>\n",
       "      <td>CCOCCOCCOCCO</td>\n",
       "      <td>&lt;rdkit.Chem.rdchem.Mol object at 0x00000238F28...</td>\n",
       "    </tr>\n",
       "    <tr>\n",
       "      <th>1</th>\n",
       "      <td>C(C(CO)(CO)COCC(CO)(CO)CO)O</td>\n",
       "      <td>&lt;rdkit.Chem.rdchem.Mol object at 0x00000238F28...</td>\n",
       "    </tr>\n",
       "    <tr>\n",
       "      <th>2</th>\n",
       "      <td>C(C(C(C(CO)O)O)O)O</td>\n",
       "      <td>&lt;rdkit.Chem.rdchem.Mol object at 0x00000238F28...</td>\n",
       "    </tr>\n",
       "  </tbody>\n",
       "</table>\n",
       "</div>"
      ],
      "text/plain": [
       "                        SMILES  \\\n",
       "0                 CCOCCOCCOCCO   \n",
       "1  C(C(CO)(CO)COCC(CO)(CO)CO)O   \n",
       "2           C(C(C(C(CO)O)O)O)O   \n",
       "\n",
       "                                            molecule  \n",
       "0  <rdkit.Chem.rdchem.Mol object at 0x00000238F28...  \n",
       "1  <rdkit.Chem.rdchem.Mol object at 0x00000238F28...  \n",
       "2  <rdkit.Chem.rdchem.Mol object at 0x00000238F28...  "
      ]
     },
     "execution_count": 230,
     "metadata": {},
     "output_type": "execute_result"
    }
   ],
   "source": [
    "X_data= df[[\"SMILES\"]][:3]\n",
    "X_data[\"molecule\"] = X_data[\"SMILES\"].apply(lambda x: Chem.MolFromSmiles(x))\n",
    "mols = []\n",
    "X_data"
   ]
  },
  {
   "cell_type": "code",
   "execution_count": 234,
   "id": "20858f1c-5fe3-4fbd-a446-83cc0e34fdd8",
   "metadata": {
    "execution": {
     "iopub.execute_input": "2023-09-22T13:55:27.450043Z",
     "iopub.status.busy": "2023-09-22T13:55:27.449100Z",
     "iopub.status.idle": "2023-09-22T13:55:27.454608Z",
     "shell.execute_reply": "2023-09-22T13:55:27.454608Z",
     "shell.execute_reply.started": "2023-09-22T13:55:27.450043Z"
    },
    "tags": []
   },
   "outputs": [],
   "source": [
    "#SMILES=np.array(X_data[\"SMILES\"])\n",
    "x_data = X_data[\"SMILES\"]\n",
    "SMILES=np.array(x_data)\n",
    "for SMILE in SMILES:\n",
    "    mol = Chem.MolFromSmiles(SMILE)\n",
    "    mols.append(mol)"
   ]
  },
  {
   "cell_type": "code",
   "execution_count": 235,
   "id": "2cc91bea-86bb-4434-8fe5-c49457b1f83d",
   "metadata": {
    "execution": {
     "iopub.execute_input": "2023-09-22T13:55:30.043412Z",
     "iopub.status.busy": "2023-09-22T13:55:30.043412Z",
     "iopub.status.idle": "2023-09-22T13:55:30.055907Z",
     "shell.execute_reply": "2023-09-22T13:55:30.055907Z",
     "shell.execute_reply.started": "2023-09-22T13:55:30.043412Z"
    },
    "tags": []
   },
   "outputs": [
    {
     "data": {
      "image/png": "[encoded data removed]",
      "text/plain": [
       "<rdkit.Chem.rdchem.Mol at 0x238f18f2650>"
      ]
     },
     "execution_count": 235,
     "metadata": {},
     "output_type": "execute_result"
    }
   ],
   "source": [
    "mols[1]"
   ]
  },
  {
   "cell_type": "code",
   "execution_count": 270,
   "id": "73786e07-62bf-40e5-b178-d63d768d3b1f",
   "metadata": {
    "execution": {
     "iopub.execute_input": "2023-09-22T14:09:10.681541Z",
     "iopub.status.busy": "2023-09-22T14:09:10.681541Z",
     "iopub.status.idle": "2023-09-22T14:09:10.707588Z",
     "shell.execute_reply": "2023-09-22T14:09:10.707588Z",
     "shell.execute_reply.started": "2023-09-22T14:09:10.681541Z"
    },
    "tags": []
   },
   "outputs": [
    {
     "data": {
      "text/plain": [
       "0    [(0, *-*), (3, *-[#8]), (21, *-*-*-*-*-*-*-*),...\n",
       "1    [(0, *(-*)-*), (11, *-*-*-*(-*-*)(-*-*)-*-*), ...\n",
       "2    [(0, *(-*)-*), (4, *-*(-*(-*-*)-*)-*), (7, *(-...\n",
       "Name: molecule, dtype: object"
      ]
     },
     "execution_count": 270,
     "metadata": {},
     "output_type": "execute_result"
    }
   ],
   "source": [
    "nBits = 128\n",
    "test = X_data[\"molecule\"].apply(lambda x: get_All_SMART_1_mol(x, nBits))\n",
    "test"
   ]
  },
  {
   "cell_type": "code",
   "execution_count": 278,
   "id": "2f4fa01e-de44-4230-bd37-cf349caed5e4",
   "metadata": {
    "execution": {
     "iopub.execute_input": "2023-09-22T14:11:46.205328Z",
     "iopub.status.busy": "2023-09-22T14:11:46.205328Z",
     "iopub.status.idle": "2023-09-22T14:11:46.216589Z",
     "shell.execute_reply": "2023-09-22T14:11:46.216589Z",
     "shell.execute_reply.started": "2023-09-22T14:11:46.205328Z"
    },
    "tags": []
   },
   "outputs": [
    {
     "data": {
      "text/plain": [
       "{'0': {'*(-*)-*', '*-*'},\n",
       " '3': {'*-[#8]'},\n",
       " '4': {'*-*(-*(-*-*)-*)-*'},\n",
       " '7': {'*(-*(-*(-*(-*-*)-*)-*)-*)-*'},\n",
       " '11': {'*-*-*-*(-*-*)(-*-*)-*-*'},\n",
       " '21': {'*-*-*-*-*-*-*-*'},\n",
       " '23': {'*(-*(-*(-*(-*-*)-*)-*)-*)-*'},\n",
       " '24': {'*-*(-*-*)(-*)-*', '*-*(-*-*)-*', '*-*-*-*'},\n",
       " '25': {'*-*-*-*-*-*-*-[#8]'},\n",
       " '27': {'*-*-*-*-*'},\n",
       " '32': {'*(-*(-*-*)(-*-*)-*-*)-*', '*-*(-*(-*-*)-*)-*'},\n",
       " '33': {'*-*-*-*-*-[#8]'},\n",
       " '37': {'*-*-*-[#8]'},\n",
       " '61': {'*-*-*'},\n",
       " '74': {'*-*(-*)(-*)-*-*-*-*(-*-*)(-*-*)-*-*'},\n",
       " '76': {'*(-*(-*-*)(-*-*)-*-*-*-*)-*', '*-*-*-*-*-*-[#8]'},\n",
       " '80': {'*-*(-*)(-*)-*-*-*-*(-*)(-*)-*', '*-*-*-*-*-*'},\n",
       " '103': {'*-*-*-*-*(-*-*)(-*-*)-*-*'},\n",
       " '105': {'*-*(-*(-*(-*-*)-*)-*)-*'},\n",
       " '106': {'*-*-*-*-[#8]'},\n",
       " '115': {'*(-*(-*-*)(-*-*)-*-*)-*'},\n",
       " '116': {'*(-*(-*(-*(-*-*)-*)-*)-*)-*'},\n",
       " '121': {'*-*-[#8]'},\n",
       " '122': {'*(-*(-*-*)(-*-*)-*-*-*-*(-*-*)(-*-*)-*-*)-*'},\n",
       " '124': {'*-*-*-*-*-*-*'}}"
      ]
     },
     "execution_count": 278,
     "metadata": {},
     "output_type": "execute_result"
    }
   ],
   "source": [
    "# %%\n",
    "count = set()\n",
    "for i in test:\n",
    "    #print(i)\n",
    "    for idx, val in i:\n",
    "        count.add(idx)\n",
    "count = sorted(count)\n",
    "# %%\n",
    "len(count)\n",
    "# %%\n",
    "# get smart of all bit molecule\n",
    "check_bit = dict()\n",
    "for i in count:\n",
    "     check_bit[str(i)]=set()\n",
    "    \n",
    "for v in test:    \n",
    "    for i in count:\n",
    "        #check_bit[str(i)]=set()\n",
    "        #print(i,\"COUNT\")\n",
    "        for bit in v:\n",
    "            #print(bit[0])\n",
    "            if i == bit[0]:\n",
    "              #print(\"PASS\")\n",
    "              check_bit[str(i)].add(bit[1])\n",
    "check_bit"
   ]
  },
  {
   "cell_type": "code",
   "execution_count": 282,
   "id": "9453c0e1-086d-4bec-8895-90b6f68e7eb4",
   "metadata": {
    "execution": {
     "iopub.execute_input": "2023-09-22T14:13:13.481545Z",
     "iopub.status.busy": "2023-09-22T14:13:13.481545Z",
     "iopub.status.idle": "2023-09-22T14:13:13.487692Z",
     "shell.execute_reply": "2023-09-22T14:13:13.487692Z",
     "shell.execute_reply.started": "2023-09-22T14:13:13.481545Z"
    },
    "tags": []
   },
   "outputs": [],
   "source": [
    "\n",
    "# %%\n",
    "data =[]\n",
    "idx_all=[]\n",
    "count_str=[]\n",
    "for idx in check_bit:\n",
    "    #print(idx, len(check_bit[str(idx)]))\n",
    "    \n",
    "    idx_all.append(idx)\n",
    "    count_str.append(len(check_bit[str(idx)]))\n",
    "    \n",
    "data = {\n",
    "        \"no. Bit\":idx_all,\n",
    "        \"Number Structure\":count_str\n",
    "    }    \n",
    "#pd.DataFrame(data).to_csv(\"Bit collision/Check_SMART_in_bit_3mol.csv\")"
   ]
  },
  {
   "cell_type": "code",
   "execution_count": 288,
   "id": "28cb7019-7273-412a-a8f3-32eb9c5b0fc6",
   "metadata": {
    "execution": {
     "iopub.execute_input": "2023-09-22T14:15:41.649892Z",
     "iopub.status.busy": "2023-09-22T14:15:41.649892Z",
     "iopub.status.idle": "2023-09-22T14:15:41.674636Z",
     "shell.execute_reply": "2023-09-22T14:15:41.674562Z",
     "shell.execute_reply.started": "2023-09-22T14:15:41.649892Z"
    },
    "tags": []
   },
   "outputs": [
    {
     "data": {
      "image/png": "[encoded data removed]",
      "text/plain": [
       "<IPython.core.display.Image object>"
      ]
     },
     "execution_count": 288,
     "metadata": {},
     "output_type": "execute_result"
    }
   ],
   "source": [
    "from collections import OrderedDict\n",
    "a=list(check_bit['24'])\n",
    "#print(len(a))\n",
    "\n",
    "\n",
    "sort_check_bit1 = OrderedDict(sorted(check_bit.items(), key = lambda x : len(x[1]), reverse=True)).keys()\n",
    "sort_check_bit2 = {i:check_bit[i] for i in sort_check_bit1}\n",
    "\n",
    "# %%\n",
    "#for idx in sort_check_bit2.keys():\n",
    "temp=[80]\n",
    "for idx in temp:\n",
    "    #subms = [x for x in list(check_bit[idx])]\n",
    "    subms = [x for x in list(check_bit[str(idx)])]\n",
    "    #print(idx)\n",
    "    \n",
    "    mol_subms = []\n",
    "    for smart in subms:\n",
    "        mol=Chem.MolFromSmarts(smart)\n",
    "        mol_subms.append(mol)\n",
    "        \n",
    "    #a=Chem.MolFromSmarts(list(check_bit['20'])[5])\n",
    "    #a2=Chem.MolToSmarts(a)\n",
    "    #img = Draw.MolToImage(a)\n",
    "    img=Draw.MolsToGridImage(mol_subms,molsPerRow=5,subImgSize=(200,200)) \n",
    "    #picname = \"Picture/\"+idx+\".png\"\n",
    "    #img.save(picname,format=\"PNG\")\n",
    "   #img.save(picname)\n",
    "img"
   ]
  },
  {
   "cell_type": "code",
   "execution_count": null,
   "id": "4cea719c-0a3f-49d5-b9f3-77bfd36a1501",
   "metadata": {},
   "outputs": [],
   "source": []
  },
  {
   "cell_type": "markdown",
   "id": "04afaf55-4ebf-41ee-900a-d13096e2d2b4",
   "metadata": {
    "jp-MarkdownHeadingCollapsed": true,
    "tags": []
   },
   "source": [
    "# Morgan_fp SVM-LinearSVR"
   ]
  },
  {
   "cell_type": "code",
   "execution_count": 174,
   "id": "d1e94faf-b352-415a-8c4d-599920679ef3",
   "metadata": {
    "execution": {
     "iopub.execute_input": "2023-09-22T13:43:14.460027Z",
     "iopub.status.busy": "2023-09-22T13:43:14.459028Z",
     "iopub.status.idle": "2023-09-22T13:43:17.421115Z",
     "shell.execute_reply": "2023-09-22T13:43:17.420115Z",
     "shell.execute_reply.started": "2023-09-22T13:43:14.460027Z"
    },
    "tags": []
   },
   "outputs": [
    {
     "ename": "NameError",
     "evalue": "name 'X_train' is not defined",
     "output_type": "error",
     "traceback": [
      "\u001b[1;31m---------------------------------------------------------------------------\u001b[0m",
      "\u001b[1;31mNameError\u001b[0m                                 Traceback (most recent call last)",
      "Cell \u001b[1;32mIn[174], line 10\u001b[0m\n\u001b[0;32m      6\u001b[0m \u001b[38;5;28;01mfrom\u001b[39;00m \u001b[38;5;21;01msklearn\u001b[39;00m\u001b[38;5;21;01m.\u001b[39;00m\u001b[38;5;21;01mpreprocessing\u001b[39;00m \u001b[38;5;28;01mimport\u001b[39;00m StandardScaler\n\u001b[0;32m      8\u001b[0m SVM_regr_model \u001b[38;5;241m=\u001b[39m make_pipeline(StandardScaler(),\n\u001b[0;32m      9\u001b[0m                                LinearSVR(dual\u001b[38;5;241m=\u001b[39m\u001b[38;5;124m\"\u001b[39m\u001b[38;5;124mauto\u001b[39m\u001b[38;5;124m\"\u001b[39m, random_state\u001b[38;5;241m=\u001b[39m\u001b[38;5;241m0\u001b[39m, tol\u001b[38;5;241m=\u001b[39m\u001b[38;5;241m1e-5\u001b[39m))\n\u001b[1;32m---> 10\u001b[0m SVM_regr_model\u001b[38;5;241m.\u001b[39mfit(X_train, y_train)\n",
      "\u001b[1;31mNameError\u001b[0m: name 'X_train' is not defined"
     ]
    }
   ],
   "source": [
    "# %%\n",
    "# Modeling\n",
    "\n",
    "from sklearn.svm import LinearSVR\n",
    "from sklearn.pipeline import make_pipeline\n",
    "from sklearn.preprocessing import StandardScaler\n",
    "\n",
    "SVM_regr_model = make_pipeline(StandardScaler(),\n",
    "                               LinearSVR(dual=\"auto\", random_state=0, tol=1e-5))\n",
    "SVM_regr_model.fit(X_train, y_train)"
   ]
  },
  {
   "cell_type": "code",
   "execution_count": null,
   "id": "45cd14c1-2c42-45b9-875b-7d0db1a9ad24",
   "metadata": {
    "tags": []
   },
   "outputs": [],
   "source": [
    "# %%\n",
    "# Prediction & Validation\n",
    "\n",
    "# Train set\n",
    "y_predict_train = SVM_regr_model.predict(X_train)\n",
    "\n",
    "#from sklearn.metrics import mean_absolute_percentage_error, mean_squared_error, r2_score\n",
    "mape_train = mean_absolute_percentage_error(y_train, y_predict_train)\n",
    "rmse_train = np.sqrt(mean_squared_error(y_train, y_predict_train))\n",
    "R2_train = r2_score(y_train, y_predict_train)\n",
    "\n",
    "# Test set\n",
    "y_predict_test = SVM_regr_model.predict(X_test)\n",
    "mape_test = mean_absolute_percentage_error(y_test, y_predict_test)\n",
    "rmse_test = np.sqrt(mean_squared_error(y_test, y_predict_test))\n",
    "R2_test = r2_score(y_test, y_predict_test)\n",
    "\n",
    "# Total set\n",
    "#y_predict_total = SVM_regr_model.predict(X_data)\n",
    "#mape_total = mean_absolute_percentage_error(Y_data, y_predict_total)\n",
    "#rmse_total = np.sqrt(mean_squared_error(Y_data, y_predict_total))\n",
    "#R2_total = r2_score(Y_data, y_predict_total)"
   ]
  },
  {
   "cell_type": "code",
   "execution_count": null,
   "id": "8a8126fd-0e71-4f1b-a7a2-354fedddefae",
   "metadata": {
    "tags": []
   },
   "outputs": [],
   "source": [
    "# Table Score\n",
    "table_train = pd.DataFrame({\n",
    "    \"Predict\" : y_predict_train,\n",
    "    \"EXP\" : y_train,\n",
    "})\n",
    "\n",
    "Morgan_fp__ML_RF = pd.DataFrame()\n",
    "data = {\n",
    "        \"MAPE\":[mape_train, mape_test],\n",
    "        \"RMSE\":[rmse_train, rmse_test],\n",
    "        \"R2\"  :[R2_train, R2_test]\n",
    "    }\n",
    "Morgan_fp__ML_SVR = pd.DataFrame(data)\n",
    "#Morgan_fp__ML_RF.to_csv('560 Morgan_fp ML-RF.csv', index=False)\n",
    "Morgan_fp__ML_SVR"
   ]
  },
  {
   "cell_type": "code",
   "execution_count": null,
   "id": "86f1a15b-e404-45fb-afd7-4793acbb11e5",
   "metadata": {
    "tags": []
   },
   "outputs": [],
   "source": [
    "# %%\n",
    "# Visualization\n",
    "\n",
    "p1=sn.regplot(x=y_predict_train, y=y_train,line_kws={\"lw\":1,'ls':'--','color':'black',\"alpha\":0.9})\n",
    "plt.xlabel('Predicted Tb', color='blue')\n",
    "plt.ylabel('Observed Tb', color ='blue')\n",
    "plt.title(\"Test set\", color='red')\n",
    "plt.grid(alpha=0.6)"
   ]
  },
  {
   "cell_type": "code",
   "execution_count": null,
   "id": "615184b4-8f9b-4091-80dc-7466e6282070",
   "metadata": {},
   "outputs": [],
   "source": []
  },
  {
   "cell_type": "markdown",
   "id": "12620d23-991d-4d67-bbab-648b32061bf6",
   "metadata": {
    "jp-MarkdownHeadingCollapsed": true,
    "tags": []
   },
   "source": [
    "# Morgan_fp SVM-NuSVR"
   ]
  },
  {
   "cell_type": "code",
   "execution_count": null,
   "id": "9c51a17e-92ec-445b-b329-19ae2f3d6a8d",
   "metadata": {
    "tags": []
   },
   "outputs": [],
   "source": [
    "# %%\n",
    "# Modeling\n",
    "\n",
    "from sklearn.svm import NuSVR\n",
    "from sklearn.pipeline import make_pipeline\n",
    "from sklearn.preprocessing import StandardScaler\n",
    "\n",
    "SVM_regr_model = make_pipeline(StandardScaler(), NuSVR(C=1.0, nu=0.1))\n",
    "SVM_regr_model.fit(X_train, y_train)"
   ]
  },
  {
   "cell_type": "code",
   "execution_count": null,
   "id": "58de6368-72cb-4232-9450-ca8063bbfe4f",
   "metadata": {
    "tags": []
   },
   "outputs": [],
   "source": [
    "# %%\n",
    "# Prediction & Validation\n",
    "\n",
    "# Train set\n",
    "y_predict_train = SVM_regr_model.predict(X_train)\n",
    "\n",
    "#from sklearn.metrics import mean_absolute_percentage_error, mean_squared_error, r2_score\n",
    "mape_train = mean_absolute_percentage_error(y_train, y_predict_train)\n",
    "rmse_train = np.sqrt(mean_squared_error(y_train, y_predict_train))\n",
    "R2_train = r2_score(y_train, y_predict_train)\n",
    "\n",
    "# Test set\n",
    "y_predict_test = SVM_regr_model.predict(X_test)\n",
    "mape_test = mean_absolute_percentage_error(y_test, y_predict_test)\n",
    "rmse_test = np.sqrt(mean_squared_error(y_test, y_predict_test))\n",
    "R2_test = r2_score(y_test, y_predict_test)\n",
    "\n",
    "# Total set\n",
    "#y_predict_total = SVM_regr_model.predict(X_data)\n",
    "#mape_total = mean_absolute_percentage_error(Y_data, y_predict_total)\n",
    "#rmse_total = np.sqrt(mean_squared_error(Y_data, y_predict_total))\n",
    "#R2_total = r2_score(Y_data, y_predict_total)"
   ]
  },
  {
   "cell_type": "code",
   "execution_count": null,
   "id": "a5395ac5-3993-4a7b-ada2-638184697ceb",
   "metadata": {
    "tags": []
   },
   "outputs": [],
   "source": [
    "# Table Score\n",
    "table_train = pd.DataFrame({\n",
    "    \"Predict\" : y_predict_train,\n",
    "    \"EXP\" : y_train,\n",
    "})\n",
    "\n",
    "Morgan_fp__ML_RF = pd.DataFrame()\n",
    "data = {\n",
    "        \"MAPE\":[mape_train, mape_test],\n",
    "        \"RMSE\":[rmse_train, rmse_test],\n",
    "        \"R2\"  :[R2_train, R2_test]\n",
    "    }\n",
    "Morgan_fp__ML_SVR = pd.DataFrame(data)\n",
    "#Morgan_fp__ML_RF.to_csv('560 Morgan_fp ML-RF.csv', index=False)\n",
    "Morgan_fp__ML_SVR"
   ]
  },
  {
   "cell_type": "code",
   "execution_count": null,
   "id": "97c079e0-dc11-4fbb-9f72-3fe580a3971a",
   "metadata": {
    "tags": []
   },
   "outputs": [],
   "source": [
    "# %%\n",
    "# Visualization\n",
    "\n",
    "p1=sn.regplot(x=y_predict_train, y=y_train,line_kws={\"lw\":1,'ls':'--','color':'black',\"alpha\":0.9})\n",
    "plt.xlabel('Predicted Tb', color='blue')\n",
    "plt.ylabel('Observed Tb', color ='blue')\n",
    "plt.title(\"Test set\", color='red')\n",
    "plt.grid(alpha=0.6)"
   ]
  },
  {
   "cell_type": "code",
   "execution_count": null,
   "id": "72635a12-7fe9-4fb9-b13e-df38a562bab8",
   "metadata": {},
   "outputs": [],
   "source": []
  },
  {
   "cell_type": "code",
   "execution_count": null,
   "id": "be29db43-519d-4ef6-b46b-dfc29650a73b",
   "metadata": {},
   "outputs": [],
   "source": []
  },
  {
   "cell_type": "markdown",
   "id": "2a13effe-c184-482a-9a8b-8cc56b7d7cc6",
   "metadata": {
    "jp-MarkdownHeadingCollapsed": true,
    "tags": []
   },
   "source": [
    "# Morgan_fp SVM-SVR"
   ]
  },
  {
   "cell_type": "code",
   "execution_count": null,
   "id": "4c1ad6c4-c2a9-4769-9e5e-4c5c96db09d1",
   "metadata": {
    "tags": []
   },
   "outputs": [],
   "source": [
    "# %%\n",
    "# Modeling\n",
    "\n",
    "from sklearn.svm import SVR\n",
    "from sklearn.pipeline import make_pipeline\n",
    "from sklearn.preprocessing import StandardScaler\n",
    "\n",
    "SVM_regr_model = make_pipeline(StandardScaler(), SVR(C=1.0, epsilon=0.2))\n",
    "SVM_regr_model.fit(X_train, y_train)"
   ]
  },
  {
   "cell_type": "code",
   "execution_count": null,
   "id": "78f72582-de0b-4ba9-ab7d-3900a03483a3",
   "metadata": {
    "tags": []
   },
   "outputs": [],
   "source": [
    "# %%\n",
    "# Prediction & Validation\n",
    "\n",
    "# Train set\n",
    "y_predict_train = SVM_regr_model.predict(X_train)\n",
    "\n",
    "#from sklearn.metrics import mean_absolute_percentage_error, mean_squared_error, r2_score\n",
    "mape_train = mean_absolute_percentage_error(y_train, y_predict_train)\n",
    "rmse_train = np.sqrt(mean_squared_error(y_train, y_predict_train))\n",
    "R2_train = r2_score(y_train, y_predict_train)\n",
    "\n",
    "# Test set\n",
    "y_predict_test = SVM_regr_model.predict(X_test)\n",
    "mape_test = mean_absolute_percentage_error(y_test, y_predict_test)\n",
    "rmse_test = np.sqrt(mean_squared_error(y_test, y_predict_test))\n",
    "R2_test = r2_score(y_test, y_predict_test)\n",
    "\n",
    "# Total set\n",
    "#y_predict_total = SVM_regr_model.predict(X_data)\n",
    "#mape_total = mean_absolute_percentage_error(Y_data, y_predict_total)\n",
    "#rmse_total = np.sqrt(mean_squared_error(Y_data, y_predict_total))\n",
    "#R2_total = r2_score(Y_data, y_predict_total)"
   ]
  },
  {
   "cell_type": "code",
   "execution_count": null,
   "id": "6e2ff4f6-a336-409b-a5bc-f46ff3dc06ab",
   "metadata": {
    "tags": []
   },
   "outputs": [],
   "source": [
    "# Table Score\n",
    "table_train = pd.DataFrame({\n",
    "    \"Predict\" : y_predict_train,\n",
    "    \"EXP\" : y_train,\n",
    "})\n",
    "\n",
    "Morgan_fp__ML_RF = pd.DataFrame()\n",
    "data = {\n",
    "        \"MAPE\":[mape_train, mape_test],\n",
    "        \"RMSE\":[rmse_train, rmse_test],\n",
    "        \"R2\"  :[R2_train, R2_test]\n",
    "    }\n",
    "Morgan_fp__ML_SVR = pd.DataFrame(data)\n",
    "#Morgan_fp__ML_RF.to_csv('560 Morgan_fp ML-RF.csv', index=False)\n",
    "Morgan_fp__ML_SVR"
   ]
  },
  {
   "cell_type": "code",
   "execution_count": null,
   "id": "336448e9-62ae-4f4f-8b1d-0d8726ee8fa8",
   "metadata": {
    "tags": []
   },
   "outputs": [],
   "source": [
    "# %%\n",
    "# Visualization\n",
    "\n",
    "p1=sn.regplot(x=y_predict_train, y=y_train,line_kws={\"lw\":1,'ls':'--','color':'black',\"alpha\":0.9})\n",
    "plt.xlabel('Predicted Tb', color='blue')\n",
    "plt.ylabel('Observed Tb', color ='blue')\n",
    "plt.title(\"Test set\", color='red')\n",
    "plt.grid(alpha=0.6)"
   ]
  },
  {
   "cell_type": "markdown",
   "id": "4bfd620e-d311-4202-a5de-2dbb88e8854f",
   "metadata": {
    "tags": []
   },
   "source": [
    "# Morgan_fp MLR"
   ]
  },
  {
   "cell_type": "code",
   "execution_count": null,
   "id": "af5b225a-2663-4f98-9b38-f43f1752eb8f",
   "metadata": {
    "tags": []
   },
   "outputs": [],
   "source": [
    "# -*- coding: utf-8 -*-\n",
    "\"\"\"\n",
    "Created on Mon Sep 18 09:09:55 2023\n",
    "\n",
    "@author: oomsin\n",
    "\"\"\"\n",
    "\n",
    "# Python\n",
    "import numpy as np\n",
    "import pandas as pd\n",
    "import matplotlib.pyplot as plt\n",
    "import matplotlib.patches as mpatches\n",
    "import seaborn as sn\n",
    "import time\n",
    "\n",
    "\n",
    "# Machine Learning\n",
    "from sklearn.linear_model import LinearRegression\n",
    "from sklearn.model_selection import train_test_split\n",
    "from sklearn.metrics import mean_absolute_percentage_error, mean_squared_error, r2_score\n",
    "from sklearn.pipeline import make_pipeline\n",
    "from sklearn.preprocessing import StandardScaler\n",
    "\n",
    "# RDKit\n",
    "from rdkit.Chem import Descriptors\n",
    "from rdkit.ML.Descriptors import MoleculeDescriptors\n",
    "from rdkit.Chem import rdMolDescriptors\n",
    "from rdkit.Chem import AllChem\n",
    "from rdkit import Chem\n",
    "from rdkit.Chem import Descriptors\n",
    "from rdkit.ML.Descriptors import MoleculeDescriptors\n",
    "\n",
    "start_time = time.time()\n",
    "# %% Setup\n",
    "MF_bit = 2**10\n",
    "\n",
    "# %% Import Data : 560 datapoint\n",
    "#Import Data\n",
    "df = pd.read_excel(\"DataTb.xlsx\",sheet_name=\"AllDataSet\")\n",
    "\n",
    "#Select feature for data: X=SMILE, Y=Tb\n",
    "X_data_excel= df[[\"SMILES\"]]\n",
    "Y_data= df[\"Tb\"]\n",
    "\n",
    "#>>> SHOW X_Data, Y_data\n",
    "\n",
    "# %% Data Preparation\n",
    "#Generate Fingerprint from SMILE\n",
    "X_data_use = X_data_excel.copy()\n",
    "X_data_use[\"molecule\"] = X_data_use[\"SMILES\"].apply(lambda x: Chem.MolFromSmiles(x))\n",
    "X_data_use[\"morgan_fp\"] = X_data_use[\"molecule\"].apply(lambda x: rdMolDescriptors.GetMorganFingerprintAsBitVect(x, radius=4, nBits=MF_bit, useFeatures=True, useChirality=True))\n",
    "\n",
    "#>>> SHOW X_data_use \n",
    "\n",
    "#Transfrom Fingerprint to Column in DataFrame\n",
    "X_data_fp = []\n",
    "for i in range(X_data_use.shape[0]):\n",
    "    array = np.array(X_data_use[\"morgan_fp\"][i])\n",
    "    datafram_i = pd.DataFrame(array)\n",
    "    datafram_i = datafram_i.T\n",
    "    X_data_fp.append(datafram_i)\n",
    "X_data_fp = pd.concat(X_data_fp, ignore_index=True)\n",
    "X_data_ML = pd.concat([X_data_use, X_data_fp], axis=1, join='inner')\n",
    "\n",
    "Y_data_ML = Y_data.copy()\n",
    "\n",
    "#>>>  SHOW X_data_fp, Y_data_fp\n",
    "\n",
    "# %% Train test split\n",
    "\n",
    "X_train_ML, X_test_ML, y_train_ML, y_test_ML = train_test_split(X_data_ML, Y_data_ML,test_size=0.25,random_state=42)\n",
    "\n",
    "X_train = X_train_ML.copy().drop(columns = {\"SMILES\", \"molecule\", \"morgan_fp\"})\n",
    "X_test = X_test_ML.copy().drop(columns = {\"SMILES\", \"molecule\", \"morgan_fp\"})\n",
    "x_total = X_data_ML.copy().drop(columns = {\"SMILES\", \"molecule\", \"morgan_fp\"})\n",
    "\n",
    "y_train = y_train_ML.copy()\n",
    "y_test = y_test_ML.copy()\n",
    "y_total = Y_data_ML.copy()\n",
    "\n",
    "# >>> EXAMPLE SHOW {X, Y} of {TRAIN TEST TOTAL}\n",
    "\n",
    "# %%\n",
    "# Modeling\n",
    "\n",
    "\n",
    "Linear = make_pipeline(StandardScaler(),\n",
    "                               LinearRegression())\n",
    "Linear.fit(X_train, y_train)"
   ]
  },
  {
   "cell_type": "code",
   "execution_count": null,
   "id": "0579af1c-b824-4486-b4e6-a7bfebc082c7",
   "metadata": {
    "tags": []
   },
   "outputs": [],
   "source": [
    "# %%   Validation with Error Metrics\n",
    "mape_train_table = []\n",
    "rmse_train_table = []\n",
    "r2_train_table   = []\n",
    "\n",
    "# Train set\n",
    "y_predict_train = Linear.predict(X_train)\n",
    "mape_train = mean_absolute_percentage_error(y_train, y_predict_train)\n",
    "rmse_train = np.sqrt(mean_squared_error(y_train, y_predict_train))\n",
    "R2_train = r2_score(y_train, y_predict_train)\n",
    "\n",
    "mape_train_table.append(mape_train)\n",
    "rmse_train_table.append(rmse_train)\n",
    "r2_train_table.append(R2_train)\n",
    "\n",
    "# Test set\n",
    "y_predict_test = Linear.predict(X_test)\n",
    "mape_test = mean_absolute_percentage_error(y_test, y_predict_test)\n",
    "rmse_test = np.sqrt(mean_squared_error(y_test, y_predict_test))\n",
    "R2_test = r2_score(y_test, y_predict_test)\n",
    "\n",
    "mape_train_table.append(mape_test)\n",
    "rmse_train_table.append(rmse_test)\n",
    "r2_train_table.append(R2_test)\n",
    "\n",
    "# Total set\n",
    "y_predict_total = Linear.predict(x_total)\n",
    "mape_total = mean_absolute_percentage_error(y_total, y_predict_total)\n",
    "rmse_total = np.sqrt(mean_squared_error(y_total, y_predict_total))\n",
    "R2_total = r2_score(y_total, y_predict_total)\n",
    "\n",
    "mape_train_table.append(mape_total)\n",
    "rmse_train_table.append(rmse_total)\n",
    "r2_train_table.append(R2_total)\n",
    "\n",
    "# %% Store score y_predict\n",
    "# Table Score\n",
    "Score_Table = pd.DataFrame()\n",
    "data = {\n",
    "        \"MAPE\":mape_train_table,\n",
    "        \"RMSE\":rmse_train_table,\n",
    "        \"R2\"  :r2_train_table\n",
    "    }\n",
    "Score_Table = pd.DataFrame(data)\n",
    "\n",
    "# Train predict Table\n",
    "Train_Table = pd.DataFrame()\n",
    "data = {\n",
    "        \"X\" :X_train_ML[\"SMILES\"],\n",
    "        \"Y\"  :y_train,\n",
    "        \"Y_predict\" :y_predict_train\n",
    "    }\n",
    "Train_Table = pd.DataFrame(data)\n",
    "\n",
    "# Test predict Table\n",
    "Test_Table = pd.DataFrame()\n",
    "data = {\n",
    "        \"X\" :X_test_ML[\"SMILES\"],\n",
    "        \"Y\"  :y_test,\n",
    "        \"Y_predict\" :y_predict_test\n",
    "    }\n",
    "Test_Table = pd.DataFrame(data)\n",
    "\n",
    "# Total predict Table\n",
    "Total_Table = pd.DataFrame()\n",
    "data = {\n",
    "        \"X\" :X_data_ML[\"SMILES\"],\n",
    "        \"Y\"  :y_total,\n",
    "        \"Y_predict\" :y_predict_total\n",
    "    }\n",
    "Total_Table = pd.DataFrame(data)\n",
    "\n",
    "end_time = time.time()\n",
    "elapsed_time = end_time - start_time\n",
    "print(\"Elapsed time:\", elapsed_time)\n",
    "# %%  Export To Excel\n",
    "# =============================================================================\n",
    "# with pd.ExcelWriter(\"MLR_560point_x_bit.xlsx\",mode='a') as writer:  \n",
    "#     Train_Table.to_excel(writer, sheet_name=f'{MF_bit}_bit_Train_Prediction')\n",
    "#     Test_Table.to_excel(writer, sheet_name=f'{MF_bit}_bit_Test_Prediction')\n",
    "#     Total_Table.to_excel(writer, sheet_name=f'{MF_bit}_bit_Total_Prediction')\n",
    "#     \n",
    "#     Score_Table.to_excel(writer, sheet_name=f'{MF_bit}_bit_Score')\n",
    "#     \n",
    "# =============================================================================\n",
    "# %%\n",
    "# Visualization\n",
    "\n",
    "p1=sn.regplot(x=y_predict_train, y=y_train,line_kws={\"lw\":1,'ls':'--','color':'black',\"alpha\":0.9})\n",
    "plt.xlabel('Predicted Tb', color='blue')\n",
    "plt.ylabel('Observed Tb', color ='blue')\n",
    "plt.title(\"Test set\", color='red')\n",
    "plt.grid(alpha=0.6)"
   ]
  },
  {
   "cell_type": "code",
   "execution_count": null,
   "id": "0888bb4c-dd86-4067-826c-09032d76e5c5",
   "metadata": {},
   "outputs": [],
   "source": []
  },
  {
   "cell_type": "markdown",
   "id": "036c9967-b7ae-4c5e-a333-a03bec42e04d",
   "metadata": {
    "tags": []
   },
   "source": [
    "# Morgan_fp MLR"
   ]
  },
  {
   "cell_type": "code",
   "execution_count": null,
   "id": "0783eab7-e897-40f2-94d0-3788e01d2f41",
   "metadata": {
    "tags": []
   },
   "outputs": [],
   "source": [
    "# -*- coding: utf-8 -*-\n",
    "\"\"\"\n",
    "Created on Mon Sep 18 09:09:55 2023\n",
    "\n",
    "@author: oomsin\n",
    "\"\"\"\n",
    "\n",
    "# Python\n",
    "import numpy as np\n",
    "import pandas as pd\n",
    "import matplotlib.pyplot as plt\n",
    "import matplotlib.patches as mpatches\n",
    "import seaborn as sn\n",
    "import time\n",
    "\n",
    "# Machine Learning\n",
    "from sklearn.ensemble import RandomForestRegressor\n",
    "from sklearn.model_selection import train_test_split\n",
    "from sklearn.metrics import mean_absolute_percentage_error, mean_squared_error, r2_score\n",
    "from sklearn.pipeline import make_pipeline\n",
    "from sklearn.preprocessing import StandardScaler\n",
    "\n",
    "# RDKit\n",
    "import rdkit\n",
    "from rdkit.Chem import Descriptors\n",
    "from rdkit.Chem import MACCSkeys\n",
    "from rdkit.ML.Descriptors import MoleculeDescriptors\n",
    "from rdkit.Chem import rdMolDescriptors\n",
    "from rdkit.Chem import AllChem\n",
    "from rdkit import Chem\n",
    "from rdkit.Chem import Descriptors\n",
    "from rdkit.ML.Descriptors import MoleculeDescriptors\n",
    "\n",
    "start_time = time.time()\n",
    "# %% Setup\n",
    "MF_bit = 2**10\n",
    "\n",
    "# %% Import Data : 560 datapoint\n",
    "#Import Data\n",
    "df = pd.read_excel(\"DataTb.xlsx\",sheet_name=\"AllDataSet\")\n",
    "\n",
    "#Select feature for data: X=SMILE, Y=Tb\n",
    "X_data_excel= df[[\"SMILES\"]]\n",
    "Y_data= df[\"Tb\"]\n",
    "\n",
    "#>>> SHOW X_Data, Y_data\n",
    "\n",
    "# %% Data Preparation\n",
    "#Generate Fingerprint from SMILE\n",
    "X_data_use = X_data_excel.copy()\n",
    "X_data_use[\"molecule\"] = X_data_use[\"SMILES\"].apply(lambda x: Chem.MolFromSmiles(x))\n",
    "X_data_use[\"MACCS\"] = X_data_use[\"molecule\"].apply(lambda x: rdkit.Chem.MACCSkeys.GenMACCSKeys(x))\n",
    "\n",
    "#>>> SHOW X_data_use \n",
    "\n",
    "#Transfrom Fingerprint to Column in DataFrame\n",
    "X_data_fp = []\n",
    "for i in range(X_data_use.shape[0]):\n",
    "    array = np.array(X_data_use[\"MACCS\"][i])\n",
    "    datafram_i = pd.DataFrame(array)\n",
    "    datafram_i = datafram_i.T\n",
    "    X_data_fp.append(datafram_i)\n",
    "X_data_fp = pd.concat(X_data_fp, ignore_index=True)\n",
    "X_data_ML = pd.concat([X_data_use, X_data_fp], axis=1, join='inner')\n",
    "\n",
    "Y_data_ML = Y_data.copy()\n",
    "\n",
    "#>>>  SHOW X_data_fp, Y_data_fp\n",
    "\n",
    "# %% Train test split\n",
    "\n",
    "X_train_ML, X_test_ML, y_train_ML, y_test_ML = train_test_split(X_data_ML, Y_data_ML,test_size=0.25,random_state=42)\n",
    "\n",
    "X_train = X_train_ML.copy().drop(columns = {\"SMILES\", \"molecule\", \"MACCS\"})\n",
    "X_test = X_test_ML.copy().drop(columns = {\"SMILES\", \"molecule\", \"MACCS\"})\n",
    "x_total = X_data_ML.copy().drop(columns = {\"SMILES\", \"molecule\", \"MACCS\"})\n",
    "\n",
    "y_train = y_train_ML.copy()\n",
    "y_test = y_test_ML.copy()\n",
    "y_total = Y_data_ML.copy()\n",
    "\n",
    "# >>> EXAMPLE SHOW {X, Y} of {TRAIN TEST TOTAL}\n",
    "\n",
    "# %%\n",
    "# Modeling\n",
    "\n",
    "RF_model = make_pipeline(StandardScaler(),\n",
    "                               RandomForestRegressor(random_state = 0, n_jobs=100))\n",
    "RF_model.fit(X_train, y_train)\n"
   ]
  },
  {
   "cell_type": "code",
   "execution_count": null,
   "id": "65c07e65-37b2-4ab6-980a-750ea3a5fee6",
   "metadata": {
    "tags": []
   },
   "outputs": [],
   "source": [
    "# %%   Validation with Error Metrics\n",
    "mape_train_table = []\n",
    "rmse_train_table = []\n",
    "r2_train_table   = []\n",
    "\n",
    "# Train set\n",
    "y_predict_train = RF_model.predict(X_train)\n",
    "mape_train = mean_absolute_percentage_error(y_train, y_predict_train)\n",
    "rmse_train = np.sqrt(mean_squared_error(y_train, y_predict_train))\n",
    "R2_train = r2_score(y_train, y_predict_train)\n",
    "\n",
    "mape_train_table.append(mape_train)\n",
    "rmse_train_table.append(rmse_train)\n",
    "r2_train_table.append(R2_train)\n",
    "\n",
    "# Test set\n",
    "y_predict_test = RF_model.predict(X_test)\n",
    "mape_test = mean_absolute_percentage_error(y_test, y_predict_test)\n",
    "rmse_test = np.sqrt(mean_squared_error(y_test, y_predict_test))\n",
    "R2_test = r2_score(y_test, y_predict_test)\n",
    "\n",
    "mape_train_table.append(mape_test)\n",
    "rmse_train_table.append(rmse_test)\n",
    "r2_train_table.append(R2_test)\n",
    "\n",
    "# Total set\n",
    "y_predict_total = RF_model.predict(x_total)\n",
    "mape_total = mean_absolute_percentage_error(y_total, y_predict_total)\n",
    "rmse_total = np.sqrt(mean_squared_error(y_total, y_predict_total))\n",
    "R2_total = r2_score(y_total, y_predict_total)\n",
    "\n",
    "mape_train_table.append(mape_total)\n",
    "rmse_train_table.append(rmse_total)\n",
    "r2_train_table.append(R2_total)\n",
    "\n",
    "# %% Store score y_predict\n",
    "# Table Score\n",
    "Score_Table = pd.DataFrame()\n",
    "data = {\n",
    "        \"MAPE\":mape_train_table,\n",
    "        \"RMSE\":rmse_train_table,\n",
    "        \"R2\"  :r2_train_table\n",
    "    }\n",
    "Score_Table = pd.DataFrame(data)\n",
    "\n",
    "# Train predict Table\n",
    "Train_Table = pd.DataFrame()\n",
    "data = {\n",
    "        \"X\" :X_train_ML[\"SMILES\"],\n",
    "        \"Y\"  :y_train,\n",
    "        \"Y_predict\" :y_predict_train\n",
    "    }\n",
    "Train_Table = pd.DataFrame(data)\n",
    "\n",
    "# Test predict Table\n",
    "Test_Table = pd.DataFrame()\n",
    "data = {\n",
    "        \"X\" :X_test_ML[\"SMILES\"],\n",
    "        \"Y\"  :y_test,\n",
    "        \"Y_predict\" :y_predict_test\n",
    "    }\n",
    "Test_Table = pd.DataFrame(data)\n",
    "\n",
    "# Total predict Table\n",
    "Total_Table = pd.DataFrame()\n",
    "data = {\n",
    "        \"X\" :X_data_ML[\"SMILES\"],\n",
    "        \"Y\"  :y_total,\n",
    "        \"Y_predict\" :y_predict_total\n",
    "    }\n",
    "Total_Table = pd.DataFrame(data)\n",
    "\n",
    "end_time = time.time()\n",
    "elapsed_time = end_time - start_time\n",
    "print(\"Elapsed time:\", elapsed_time)\n",
    "# =============================================================================\n",
    "# # %%  Export To Excel\n",
    "# with pd.ExcelWriter(\"ML2_560point_x_bit.xlsx\",mode='a') as writer:  \n",
    "#     Train_Table.to_excel(writer, sheet_name=f'{MF_bit}_bit_Train_Prediction')\n",
    "#     Test_Table.to_excel(writer, sheet_name=f'{MF_bit}_bit_Test_Prediction')\n",
    "#     Total_Table.to_excel(writer, sheet_name=f'{MF_bit}_bit_Total_Prediction')\n",
    "#     \n",
    "#     Score_Table.to_excel(writer, sheet_name=f'{MF_bit}_bit_Score')\n",
    "# =============================================================================\n",
    "\n",
    "# %%\n",
    "# Visualization\n",
    "\n",
    "p1=sn.regplot(x=y_predict_train, y=y_train,line_kws={\"lw\":1,'ls':'--','color':'black',\"alpha\":0.9})\n",
    "plt.xlabel('Predicted Tb', color='blue')\n",
    "plt.ylabel('Observed Tb', color ='blue')\n",
    "plt.title(\"Test set\", color='red')\n",
    "plt.grid(alpha=0.6)"
   ]
  },
  {
   "cell_type": "code",
   "execution_count": null,
   "id": "1869fd45-bb52-4039-b13c-6238518f691f",
   "metadata": {},
   "outputs": [],
   "source": []
  }
 ],
 "metadata": {
  "kernelspec": {
   "display_name": "Python 3 (ipykernel)",
   "language": "python",
   "name": "python3"
  },
  "language_info": {
   "codemirror_mode": {
    "name": "ipython",
    "version": 3
   },
   "file_extension": ".py",
   "mimetype": "text/x-python",
   "name": "python",
   "nbconvert_exporter": "python",
   "pygments_lexer": "ipython3",
   "version": "3.11.4"
  },
  "toc-autonumbering": true
 },
 "nbformat": 4,
 "nbformat_minor": 5
}
