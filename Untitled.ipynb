{
 "cells": [
  {
   "cell_type": "code",
   "execution_count": 4,
   "id": "c100d04b-4bea-432c-a99b-dc6151f3bc12",
   "metadata": {
    "tags": []
   },
   "outputs": [
    {
     "data": {
      "text/plain": [
       "8-element Vector{Float64}:\n",
       " 0.953125\n",
       " 0.791015625\n",
       " 0.54150390625\n",
       " 0.32080078125\n",
       " 0.17547607421875\n",
       " 0.091888427734375\n",
       " 0.04693603515625\n",
       " 0.02374267578125"
      ]
     },
     "execution_count": 4,
     "metadata": {},
     "output_type": "execute_result"
    }
   ],
   "source": [
    "a1 = [976, 1620, 2218, 2628, 2875, 3011, 3076, 3112]\n",
    "a2 = [1024, 2048, 4096, 8192, 16384, 32768, 65536, 131072]\n",
    "a1./a2"
   ]
  },
  {
   "cell_type": "code",
   "execution_count": null,
   "id": "04e4e4f0-79b9-4934-8fd1-5d07e0858277",
   "metadata": {},
   "outputs": [],
   "source": []
  }
 ],
 "metadata": {
  "kernelspec": {
   "display_name": "Julia 1.9.2",
   "language": "julia",
   "name": "julia-1.9"
  },
  "language_info": {
   "file_extension": ".jl",
   "mimetype": "application/julia",
   "name": "julia",
   "version": "1.9.2"
  }
 },
 "nbformat": 4,
 "nbformat_minor": 5
}
