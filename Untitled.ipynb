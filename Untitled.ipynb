{
 "cells": [
  {
   "cell_type": "code",
   "execution_count": 2,
   "id": "d91820bc-bf75-4b6f-a3e9-f672bc68859c",
   "metadata": {
    "tags": []
   },
   "outputs": [],
   "source": [
    "using Roots\n",
    "using PyPlot\n",
    "using Optim\n",
    "using LsqFit"
   ]
  },
  {
   "cell_type": "code",
   "execution_count": 3,
   "id": "62385e0a-4cf2-4489-9fc8-ec2a306c0609",
   "metadata": {
    "tags": []
   },
   "outputs": [],
   "source": [
    "using DifferentialEquations"
   ]
  },
  {
   "cell_type": "code",
   "execution_count": null,
   "id": "257475f7-1eab-426c-ab5f-fd434379eddb",
   "metadata": {},
   "outputs": [],
   "source": []
  }
 ],
 "metadata": {
  "kernelspec": {
   "display_name": "Julia 1.9.3",
   "language": "julia",
   "name": "julia-1.9"
  },
  "language_info": {
   "file_extension": ".jl",
   "mimetype": "application/julia",
   "name": "julia",
   "version": "1.9.3"
  }
 },
 "nbformat": 4,
 "nbformat_minor": 5
}
