{
 "cells": [
  {
   "cell_type": "code",
   "execution_count": null,
   "id": "62169992-fe92-43c3-b9c2-3dee8a8e8772",
   "metadata": {
    "tags": []
   },
   "outputs": [],
   "source": [
    "from chemicals import CAS_from_any, Tb\n",
    "import chemicals.critical as ct"
   ]
  },
  {
   "cell_type": "code",
   "execution_count": null,
   "id": "1900e071-fadd-4536-9d93-a3be0124fc87",
   "metadata": {
    "tags": []
   },
   "outputs": [],
   "source": [
    "sub = CAS_from_any(\"HCN\")"
   ]
  },
  {
   "cell_type": "code",
   "execution_count": null,
   "id": "520d94df-cbef-4f8e-af93-521155b87621",
   "metadata": {
    "tags": []
   },
   "outputs": [],
   "source": [
    "Tb(sub, method=\"CRC_ORG\")"
   ]
  },
  {
   "cell_type": "code",
   "execution_count": null,
   "id": "871d72f2-4cee-4c67-8839-d8fd3e25004e",
   "metadata": {
    "tags": []
   },
   "outputs": [],
   "source": [
    "ct.Tb_Tc_relationship(Tc=ct.Tc(sub))"
   ]
  },
  {
   "cell_type": "code",
   "execution_count": null,
   "id": "744bc836-171e-47a0-8da7-8fe319fa3b71",
   "metadata": {
    "tags": []
   },
   "outputs": [],
   "source": [
    "import chemicals.data_reader as cd\n",
    "cd.CONSTANT_DATABASE_NAME_TO_IDX"
   ]
  },
  {
   "cell_type": "code",
   "execution_count": null,
   "id": "d3844e41-9f6f-4174-8467-2310c2629bb2",
   "metadata": {
    "tags": []
   },
   "outputs": [],
   "source": [
    "chemicals.phase_change.Tb_all_methods"
   ]
  },
  {
   "cell_type": "code",
   "execution_count": null,
   "id": "1f2b19e7-ac81-485b-851b-0574b4b79cbd",
   "metadata": {
    "tags": []
   },
   "outputs": [],
   "source": [
    "from chemicals import miscdata\n",
    "import chemicals.phase_change\n",
    "CRC_ORG = 'CRC_ORG'\n",
    "CRC_INORG = 'CRC_INORG'\n",
    "YAWS = 'YAWS'\n",
    "OPEN_NTBKM = 'OPEN_NTBKM'\n",
    "CRC = 'CRC'\n",
    "\n",
    "Tb_sources = {\n",
    "        miscdata.HEOS: miscdata.heos_data,\n",
    "        CRC_ORG: miscdata.CRC_organic_data,\n",
    "        CRC_INORG: miscdata.CRC_inorganic_data\n",
    "    }\n",
    "cd.retrieve_from_df_dict(Tb_sources, sub, 'Tb', method=CRC_ORG)"
   ]
  },
  {
   "cell_type": "code",
   "execution_count": null,
   "id": "e88d322a-5466-4a4b-99cd-90cf5496c94d",
   "metadata": {
    "tags": []
   },
   "outputs": [],
   "source": [
    "df=Tb_sources[\"WIKIDATA\"]\n",
    "#df.columns\n",
    "df2=df[['Name', 'Tb']]\n",
    "df3 = df2.dropna()\n",
    "#[\"Tb\"]]\n",
    "df3"
   ]
  },
  {
   "cell_type": "code",
   "execution_count": null,
   "id": "52c6b962-3db8-496f-bffb-87b8614411c3",
   "metadata": {
    "tags": []
   },
   "outputs": [],
   "source": [
    "df3[\"Name\"]"
   ]
  },
  {
   "cell_type": "code",
   "execution_count": null,
   "id": "48764706-6167-4a56-9120-55a3a01bf496",
   "metadata": {
    "tags": []
   },
   "outputs": [],
   "source": [
    "import numpy as np\n",
    "import pandas as pd\n",
    "import pubchempy as pcp"
   ]
  },
  {
   "cell_type": "code",
   "execution_count": null,
   "id": "a3fe6817-a220-4e39-b1be-c193d08ab55c",
   "metadata": {
    "tags": []
   },
   "outputs": [],
   "source": []
  },
  {
   "cell_type": "code",
   "execution_count": null,
   "id": "6ff0ca4d-d166-4d4d-a143-e4af4b8c6969",
   "metadata": {
    "tags": []
   },
   "outputs": [],
   "source": [
    "from chemicals.data_reader import (\n",
    "    data_source,\n",
    "    database_constant_lookup,\n",
    "    list_available_methods_from_df_dict,\n",
    "    register_df_source,\n",
    "    retrieve_any_from_df_dict,\n",
    "    retrieve_from_df_dict,\n",
    ")\n",
    "Tb_data_Yaws = data_source('Yaws Boiling Points.tsv')\n",
    "\n",
    "Tb_sources_new = {\n",
    "        miscdata.HEOS: miscdata.heos_data,\n",
    "        CRC_ORG: miscdata.CRC_organic_data,\n",
    "        CRC_INORG: miscdata.CRC_inorganic_data,\n",
    "        miscdata.COMMON_CHEMISTRY: miscdata.common_chemistry_data,\n",
    "        miscdata.WEBBOOK: miscdata.webbook_data,\n",
    "        YAWS: Tb_data_Yaws,\n",
    "        miscdata.WIKIDATA: miscdata.wikidata_data,\n",
    "        miscdata.JOBACK: miscdata.joback_predictions,\n",
    "    }"
   ]
  },
  {
   "cell_type": "code",
   "execution_count": null,
   "id": "3a63fa15-e8fe-4ce3-b41c-5fa873f8fde7",
   "metadata": {
    "tags": []
   },
   "outputs": [],
   "source": [
    "df_new=Tb_sources_new\n",
    "cas_arr = []\n",
    "df1 = []\n",
    "for dict_df in df_new:\n",
    "    print(dict_df, \"  \", len(Tb_sources_new[dict_df][\"Tb\"].dropna()))\n",
    "    df2 = Tb_sources_new[dict_df].index.to_numpy()\n",
    "    df2 = list(set(df1) | set(df2))\n",
    "    df1 = Tb_sources_new[dict_df].index.to_numpy()"
   ]
  },
  {
   "cell_type": "code",
   "execution_count": null,
   "id": "207181fd-733c-4ea8-bcea-697bd30110ba",
   "metadata": {
    "tags": []
   },
   "outputs": [],
   "source": [
    "df_new=Tb_sources_new\n",
    "cas_arr = []\n",
    "list1 = list()\n",
    "for dict_df in df_new:\n",
    "    table = Tb_sources_new[dict_df]\n",
    "    table[\"CAS\"]=table.index\n",
    "    #TABLE = table[\"Tb\"].dropna()\n",
    "    #print(table)\n",
    "    #temp_DF = pd.concat([df1,table])\n",
    "    list1.append(table)\n",
    "CAS_search = Tb_sources_new[\"WIKIDATA\"][\"CAS\"]"
   ]
  },
  {
   "cell_type": "code",
   "execution_count": null,
   "id": "cecf99e4-e087-4374-acbf-3cc3704ba240",
   "metadata": {
    "tags": []
   },
   "outputs": [],
   "source": [
    "table[\"CAS\"]=table.index\n",
    "table"
   ]
  },
  {
   "cell_type": "code",
   "execution_count": null,
   "id": "9aba4e6a-386b-4dd4-86c2-4b7e8bc8b786",
   "metadata": {
    "tags": []
   },
   "outputs": [],
   "source": [
    "# create a excel writer object\n",
    "text_sheet = \"Source_\"\n",
    "i=1\n",
    "with pd.ExcelWriter(\"TB_DB_CHEMICAL.xlsx\") as writer:\n",
    "    for list in list1 :\n",
    "        temp_text_sheet = text_sheet+str(i)\n",
    "        #print(list)\n",
    "        #print(\"\")\n",
    "        #print(\"\")\n",
    "        \n",
    "        # use to_excel function and specify the sheet_name and index \n",
    "        # to store the dataframe in specified sheet\n",
    "        list.to_excel(writer, sheet_name=temp_text_sheet, index=False)\n",
    "        i=i+1"
   ]
  },
  {
   "cell_type": "code",
   "execution_count": null,
   "id": "b5925326-7a52-459a-a971-dc2d33ad86f4",
   "metadata": {
    "tags": []
   },
   "outputs": [],
   "source": [
    "chemicals.phase_change.Tb_all_methods\n",
    "len(df2)"
   ]
  },
  {
   "cell_type": "code",
   "execution_count": null,
   "id": "d5b25e52-d2cd-4cb7-ae91-672bdf28596d",
   "metadata": {
    "scrolled": true,
    "tags": []
   },
   "outputs": [],
   "source": [
    "List1=list()\n",
    "List2=list()\n",
    "names = df3[\"Name\"]\n",
    "i=0\n",
    "for name1 in names:\n",
    "    print(i, \"  \",name1)\n",
    "    results = pcp.get_compounds(name1, 'name')\n",
    "    if results == []:\n",
    "        List1.append('None')\n",
    "        List2.append('None')\n",
    "    else:\n",
    "        print(results[0].isomeric_smiles, \" \", results[0].molecular_formula)\n",
    "        List1.append(results[0].isomeric_smiles)\n",
    "        List2.append(results[0].molecular_formula )\n",
    "    i=i+1\n",
    "    print(\"\")\n",
    "    \n",
    "data = {\n",
    "    \"Name\":names,\n",
    "    \"SMILES\":List1,\n",
    "    \"Formula\":List2\n",
    "    }\n",
    "\n",
    "tdf = pd.DataFrame(data)\n",
    "\n",
    "tdf.to_csv(\"SMILES_3.csv\")"
   ]
  },
  {
   "cell_type": "code",
   "execution_count": null,
   "id": "80d05459-cc0e-4a44-8371-3eef4943b0cb",
   "metadata": {},
   "outputs": [],
   "source": []
  },
  {
   "cell_type": "code",
   "execution_count": null,
   "id": "11f2d7f9-36cb-43dc-b97f-0e2e365328c9",
   "metadata": {
    "tags": []
   },
   "outputs": [],
   "source": [
    "import numpy as np\n",
    "import pandas as pd\n",
    "import pubchempy as pcp\n",
    "\n",
    "\n",
    "def remove_outliers(Excel_path, Excel_sheetname, Threshold=3):\n",
    "    df = pd.read_excel(Excel_path, sheet_name=Excel_sheetname)\n",
    "    data = df['Tb']\n",
    "    outliers = []\n",
    "    threshold=Threshold\n",
    "    mean = np.mean(data)\n",
    "    std =np.std(data)\n",
    "    \n",
    "    for i in data:\n",
    "        z_score = (i - mean)/std \n",
    "        if np.abs(z_score) > threshold:\n",
    "            outliers.append(i)\n",
    "    new_df = df[~df['Tb'].isin(outliers)]\n",
    "    print(outliers)\n",
    "    return new_df\n",
    "df = remove_outliers(\"Data.xlsx\", \"Load_AllDataSetC12\")"
   ]
  },
  {
   "cell_type": "code",
   "execution_count": null,
   "id": "58563c7e-27e1-4822-80e5-b8022e822358",
   "metadata": {
    "tags": []
   },
   "outputs": [],
   "source": [
    "df"
   ]
  },
  {
   "cell_type": "code",
   "execution_count": null,
   "id": "9e05e3d4-1bc1-4534-9200-b4b2ddde2a10",
   "metadata": {
    "tags": []
   },
   "outputs": [],
   "source": [
    "import seaborn as sns\n",
    "sns.boxplot(x=df['Tb'])"
   ]
  },
  {
   "cell_type": "code",
   "execution_count": null,
   "id": "1f7c279e-cac6-4036-93e3-14fdb12e9fcf",
   "metadata": {
    "tags": []
   },
   "outputs": [],
   "source": [
    "df2 = remove_outliers(\"Data.xlsx\", \"From_8DB_Chemicals\", 3)"
   ]
  },
  {
   "cell_type": "code",
   "execution_count": null,
   "id": "46c532ff-a53e-4262-bdbd-09feccbfdc30",
   "metadata": {
    "tags": []
   },
   "outputs": [],
   "source": [
    "df2"
   ]
  },
  {
   "cell_type": "code",
   "execution_count": null,
   "id": "1111d1f1-01ef-48e1-81b8-108346c95ec8",
   "metadata": {},
   "outputs": [],
   "source": [
    "pcp.get_compounds(\"50-00-0\",\"name\")"
   ]
  },
  {
   "cell_type": "code",
   "execution_count": null,
   "id": "0f9c8e55-9eff-43bc-b67a-51dfc80d67b5",
   "metadata": {
    "scrolled": true,
    "tags": []
   },
   "outputs": [],
   "source": [
    "List1=list()\n",
    "List2=list()\n",
    "names = df3[\"Name\"]\n",
    "i=0\n",
    "CAS_search\n",
    "for name1 in CAS_search:\n",
    "    print(i, \"  \",name1)\n",
    "    results = pcp.get_compounds(name1, 'name')\n",
    "    if results == []:\n",
    "        List1.append('None')\n",
    "        List2.append('None')\n",
    "    else:\n",
    "        print(results[0].isomeric_smiles, \" \", results[0].molecular_formula)\n",
    "        List1.append(results[0].isomeric_smiles)\n",
    "        List2.append(results[0].molecular_formula )\n",
    "    i=i+1\n",
    "    print(\"\")\n",
    "    \n",
    "data = {\n",
    "    \"Name\":names,\n",
    "    \"SMILES\":List1,\n",
    "    \"Formula\":List2\n",
    "    }\n",
    "\n",
    "tdf = pd.DataFrame(data)\n",
    "\n",
    "tdf.to_csv(\"SMILES_3.csv\")"
   ]
  },
  {
   "cell_type": "code",
   "execution_count": null,
   "id": "fba45b0f-39d2-4945-82aa-42a065587ed1",
   "metadata": {},
   "outputs": [],
   "source": []
  },
  {
   "cell_type": "code",
   "execution_count": null,
   "id": "5a8b5b54-d095-464b-838a-3a93d3b50436",
   "metadata": {},
   "outputs": [],
   "source": []
  },
  {
   "cell_type": "code",
   "execution_count": null,
   "id": "e8f9ecb1-edf3-4608-86ba-72e959d97e19",
   "metadata": {
    "tags": []
   },
   "outputs": [],
   "source": []
  },
  {
   "cell_type": "code",
   "execution_count": null,
   "id": "1560684f-60da-4185-8915-d6b533a06b6d",
   "metadata": {
    "tags": []
   },
   "outputs": [],
   "source": []
  },
  {
   "cell_type": "code",
   "execution_count": null,
   "id": "b98d9b83-f012-477b-81d6-e3675886ccc7",
   "metadata": {
    "tags": []
   },
   "outputs": [],
   "source": []
  },
  {
   "cell_type": "code",
   "execution_count": null,
   "id": "feac4c11-fec5-4c9c-aedb-7d087edcf146",
   "metadata": {
    "tags": []
   },
   "outputs": [],
   "source": [
    "import numpy as np\n",
    "import pandas as pd\n",
    "import pubchempy as pcp\n",
    "\n",
    "from chemicals.data_reader import (\n",
    "    data_source,\n",
    "    database_constant_lookup,\n",
    "    list_available_methods_from_df_dict,\n",
    "    register_df_source,\n",
    "    retrieve_any_from_df_dict,\n",
    "    retrieve_from_df_dict,\n",
    ")\n",
    "import chemicals.phase_change\n",
    "Tb_data_Yaws = data_source('Yaws Boiling Points.tsv')\n",
    "\n",
    "Tb_sources_new = {\n",
    "        miscdata.HEOS: miscdata.heos_data,\n",
    "        CRC_ORG: miscdata.CRC_organic_data,\n",
    "        CRC_INORG: miscdata.CRC_inorganic_data,\n",
    "        miscdata.COMMON_CHEMISTRY: miscdata.common_chemistry_data,\n",
    "        miscdata.WEBBOOK: miscdata.webbook_data,\n",
    "        YAWS: Tb_data_Yaws,\n",
    "        miscdata.WIKIDATA: miscdata.wikidata_data,\n",
    "        miscdata.JOBACK: miscdata.joback_predictions,\n",
    "    }\n",
    "\n",
    "CRC_ORG = 'CRC_ORG'\n",
    "CRC_INORG = 'CRC_INORG'\n",
    "YAWS = 'YAWS'\n",
    "OPEN_NTBKM = 'OPEN_NTBKM'\n",
    "CRC = 'CRC'\n",
    "\n",
    "\n",
    "df_new=Tb_sources_new\n",
    "cas_arr = []\n",
    "df1 = []\n",
    "for dict_df in df_new:\n",
    "    \n",
    "    print(Tb_sources_new[dict_df])\n",
    "          #[[\"Tb\"]])\n",
    "        \n",
    "        \n"
   ]
  },
  {
   "cell_type": "code",
   "execution_count": null,
   "id": "5840d36b-d686-411b-8e46-30dba18eff1f",
   "metadata": {
    "tags": []
   },
   "outputs": [],
   "source": [
    "#Tb_sources_new[\"WEBBOOK\"][[\"Tm\",\"Tb\"]].dropna()\n",
    "Tb_sources_new[\"JOBACK\"]"
   ]
  },
  {
   "cell_type": "code",
   "execution_count": null,
   "id": "4aeb3b17-26a3-4266-98ac-4ccd0b96f573",
   "metadata": {
    "tags": []
   },
   "outputs": [],
   "source": [
    "for dict_df in df_new:\n",
    "    print(dict_df)"
   ]
  },
  {
   "cell_type": "code",
   "execution_count": null,
   "id": "b00f9f5a-f616-4145-b093-b0577cdb2b1d",
   "metadata": {
    "tags": []
   },
   "outputs": [],
   "source": [
    "\"\"\"\n",
    "HEOS                  K\n",
    "CRC_ORG               K\n",
    "CRC_INORG             K\n",
    "COMMON_CHEMISTRY      K\n",
    "WEBBOOK               K  (strange)\n",
    "YAWS                  K\n",
    "WIKIDATA              K\n",
    "JOBACK                K\n",
    "\n",
    "\n",
    "\"\"\""
   ]
  },
  {
   "cell_type": "code",
   "execution_count": null,
   "id": "e95b6385-3f97-4ff1-864e-930002fbfede",
   "metadata": {},
   "outputs": [],
   "source": []
  }
 ],
 "metadata": {
  "kernelspec": {
   "display_name": "Python 3 (ipykernel)",
   "language": "python",
   "name": "python3"
  },
  "language_info": {
   "codemirror_mode": {
    "name": "ipython",
    "version": 3
   },
   "file_extension": ".py",
   "mimetype": "text/x-python",
   "name": "python",
   "nbconvert_exporter": "python",
   "pygments_lexer": "ipython3",
   "version": "3.11.4"
  }
 },
 "nbformat": 4,
 "nbformat_minor": 5
}
