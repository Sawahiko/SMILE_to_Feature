{
 "cells": [
  {
   "cell_type": "code",
   "execution_count": 6,
   "id": "62169992-fe92-43c3-b9c2-3dee8a8e8772",
   "metadata": {
    "tags": []
   },
   "outputs": [],
   "source": [
    "from chemicals import CAS_from_any, Tb\n",
    "import chemicals.critical as ct\n",
    "import chemicals.data_reader as cd\n",
    "import chemicals.phase_change"
   ]
  },
  {
   "cell_type": "code",
   "execution_count": 2,
   "id": "1900e071-fadd-4536-9d93-a3be0124fc87",
   "metadata": {
    "tags": []
   },
   "outputs": [],
   "source": [
    "sub = CAS_from_any(\"HCN\")"
   ]
  },
  {
   "cell_type": "code",
   "execution_count": 3,
   "id": "520d94df-cbef-4f8e-af93-521155b87621",
   "metadata": {
    "tags": []
   },
   "outputs": [
    {
     "data": {
      "text/plain": [
       "298.78"
      ]
     },
     "execution_count": 3,
     "metadata": {},
     "output_type": "execute_result"
    }
   ],
   "source": [
    "Tb(sub, method=\"CRC_ORG\")"
   ]
  },
  {
   "cell_type": "code",
   "execution_count": 4,
   "id": "871d72f2-4cee-4c67-8839-d8fd3e25004e",
   "metadata": {
    "tags": []
   },
   "outputs": [
    {
     "data": {
      "text/plain": [
       "278.6585365853659"
      ]
     },
     "execution_count": 4,
     "metadata": {},
     "output_type": "execute_result"
    }
   ],
   "source": [
    "ct.Tb_Tc_relationship(Tc=ct.Tc(sub))"
   ]
  },
  {
   "cell_type": "code",
   "execution_count": 5,
   "id": "744bc836-171e-47a0-8da7-8fe319fa3b71",
   "metadata": {
    "tags": []
   },
   "outputs": [
    {
     "data": {
      "text/plain": [
       "{'index': 0,\n",
       " 'MW': 1,\n",
       " 'Tt': 2,\n",
       " 'Tm': 3,\n",
       " 'Tb': 4,\n",
       " 'Tc': 5,\n",
       " 'Pt': 6,\n",
       " 'Pc': 7,\n",
       " 'Vc': 8,\n",
       " 'Zc': 9,\n",
       " 'omega': 10,\n",
       " 'T_flash': 11,\n",
       " 'T_autoignition': 12,\n",
       " 'LFL': 13,\n",
       " 'UFL': 14,\n",
       " 'Hfs': 15,\n",
       " 'Hfl': 16,\n",
       " 'Hfg': 17,\n",
       " 'S0s': 18,\n",
       " 'S0l': 19,\n",
       " 'S0g': 20,\n",
       " 'Hfus': 21,\n",
       " 'Stockmayer': 22,\n",
       " 'molecular_diameter': 23,\n",
       " 'dipole_moment': 24,\n",
       " 'logP': 25,\n",
       " 'RG': 26,\n",
       " 'RON': 27,\n",
       " 'MON': 28,\n",
       " 'ignition_delay': 29,\n",
       " 'linear': 30,\n",
       " 'GWP': 31,\n",
       " 'ODP': 32,\n",
       " 'RI': 33,\n",
       " 'RIT': 34}"
      ]
     },
     "execution_count": 5,
     "metadata": {},
     "output_type": "execute_result"
    }
   ],
   "source": [
    "\n",
    "cd.CONSTANT_DATABASE_NAME_TO_IDX"
   ]
  },
  {
   "cell_type": "code",
   "execution_count": 12,
   "id": "d3844e41-9f6f-4174-8467-2310c2629bb2",
   "metadata": {
    "tags": []
   },
   "outputs": [
    {
     "data": {
      "text/plain": [
       "13"
      ]
     },
     "execution_count": 12,
     "metadata": {},
     "output_type": "execute_result"
    }
   ],
   "source": [
    "len(cd.df_sources)"
   ]
  },
  {
   "cell_type": "code",
   "execution_count": null,
   "id": "1f2b19e7-ac81-485b-851b-0574b4b79cbd",
   "metadata": {
    "tags": []
   },
   "outputs": [],
   "source": [
    "from chemicals import miscdata\n",
    "\n",
    "CRC_ORG = 'CRC_ORG'\n",
    "CRC_INORG = 'CRC_INORG'\n",
    "YAWS = 'YAWS'\n",
    "OPEN_NTBKM = 'OPEN_NTBKM'\n",
    "CRC = 'CRC'\n",
    "\n",
    "Tb_sources = {\n",
    "        miscdata.HEOS: miscdata.heos_data,\n",
    "        CRC_ORG: miscdata.CRC_organic_data,\n",
    "        CRC_INORG: miscdata.CRC_inorganic_data\n",
    "    }\n",
    "cd.retrieve_from_df_dict(Tb_sources, sub, 'Tb', method=CRC_ORG)"
   ]
  },
  {
   "cell_type": "code",
   "execution_count": null,
   "id": "e88d322a-5466-4a4b-99cd-90cf5496c94d",
   "metadata": {
    "tags": []
   },
   "outputs": [],
   "source": [
    "df=Tb_sources[\"WIKIDATA\"]\n",
    "#df.columns\n",
    "df2=df[['Name', 'Tb']]\n",
    "df3 = df2.dropna()\n",
    "#[\"Tb\"]]\n",
    "df3"
   ]
  },
  {
   "cell_type": "code",
   "execution_count": null,
   "id": "52c6b962-3db8-496f-bffb-87b8614411c3",
   "metadata": {
    "tags": []
   },
   "outputs": [],
   "source": [
    "df3[\"Name\"]"
   ]
  },
  {
   "cell_type": "code",
   "execution_count": null,
   "id": "48764706-6167-4a56-9120-55a3a01bf496",
   "metadata": {
    "tags": []
   },
   "outputs": [],
   "source": [
    "import numpy as np\n",
    "import pandas as pd\n",
    "import pubchempy as pcp"
   ]
  },
  {
   "cell_type": "code",
   "execution_count": null,
   "id": "a3fe6817-a220-4e39-b1be-c193d08ab55c",
   "metadata": {
    "tags": []
   },
   "outputs": [],
   "source": []
  },
  {
   "cell_type": "code",
   "execution_count": null,
   "id": "6ff0ca4d-d166-4d4d-a143-e4af4b8c6969",
   "metadata": {
    "tags": []
   },
   "outputs": [],
   "source": [
    "from chemicals.data_reader import (\n",
    "    data_source,\n",
    "    database_constant_lookup,\n",
    "    list_available_methods_from_df_dict,\n",
    "    register_df_source,\n",
    "    retrieve_any_from_df_dict,\n",
    "    retrieve_from_df_dict,\n",
    ")\n",
    "Tb_data_Yaws = data_source('Yaws Boiling Points.tsv')\n",
    "\n",
    "Tb_sources_new = {\n",
    "        miscdata.HEOS: miscdata.heos_data,\n",
    "        CRC_ORG: miscdata.CRC_organic_data,\n",
    "        CRC_INORG: miscdata.CRC_inorganic_data,\n",
    "        miscdata.COMMON_CHEMISTRY: miscdata.common_chemistry_data,\n",
    "        miscdata.WEBBOOK: miscdata.webbook_data,\n",
    "        YAWS: Tb_data_Yaws,\n",
    "        miscdata.WIKIDATA: miscdata.wikidata_data,\n",
    "        miscdata.JOBACK: miscdata.joback_predictions,\n",
    "    }"
   ]
  },
  {
   "cell_type": "code",
   "execution_count": null,
   "id": "3a63fa15-e8fe-4ce3-b41c-5fa873f8fde7",
   "metadata": {
    "tags": []
   },
   "outputs": [],
   "source": [
    "df_new=Tb_sources_new\n",
    "cas_arr = []\n",
    "df1 = []\n",
    "for dict_df in df_new:\n",
    "    print(dict_df, \"  \", len(Tb_sources_new[dict_df][\"Tb\"].dropna()))\n",
    "    df2 = Tb_sources_new[dict_df].index.to_numpy()\n",
    "    df2 = list(set(df1) | set(df2))\n",
    "    df1 = Tb_sources_new[dict_df].index.to_numpy()"
   ]
  },
  {
   "cell_type": "code",
   "execution_count": null,
   "id": "207181fd-733c-4ea8-bcea-697bd30110ba",
   "metadata": {
    "tags": []
   },
   "outputs": [],
   "source": [
    "df_new=Tb_sources_new\n",
    "cas_arr = []\n",
    "list1 = list()\n",
    "for dict_df in df_new:\n",
    "    table = Tb_sources_new[dict_df]\n",
    "    table[\"CAS\"]=table.index\n",
    "    #TABLE = table[\"Tb\"].dropna()\n",
    "    #print(table)\n",
    "    #temp_DF = pd.concat([df1,table])\n",
    "    list1.append(table)\n",
    "CAS_search = Tb_sources_new[\"WIKIDATA\"][\"CAS\"]"
   ]
  },
  {
   "cell_type": "code",
   "execution_count": null,
   "id": "cecf99e4-e087-4374-acbf-3cc3704ba240",
   "metadata": {
    "tags": []
   },
   "outputs": [],
   "source": [
    "table[\"CAS\"]=table.index\n",
    "table"
   ]
  },
  {
   "cell_type": "code",
   "execution_count": null,
   "id": "9aba4e6a-386b-4dd4-86c2-4b7e8bc8b786",
   "metadata": {
    "tags": []
   },
   "outputs": [],
   "source": [
    "# create a excel writer object\n",
    "text_sheet = \"Source_\"\n",
    "i=1\n",
    "with pd.ExcelWriter(\"TB_DB_CHEMICAL.xlsx\") as writer:\n",
    "    for list in list1 :\n",
    "        temp_text_sheet = text_sheet+str(i)\n",
    "        #print(list)\n",
    "        #print(\"\")\n",
    "        #print(\"\")\n",
    "        \n",
    "        # use to_excel function and specify the sheet_name and index \n",
    "        # to store the dataframe in specified sheet\n",
    "        list.to_excel(writer, sheet_name=temp_text_sheet, index=False)\n",
    "        i=i+1"
   ]
  },
  {
   "cell_type": "code",
   "execution_count": null,
   "id": "b5925326-7a52-459a-a971-dc2d33ad86f4",
   "metadata": {
    "tags": []
   },
   "outputs": [],
   "source": [
    "chemicals.phase_change.Tb_all_methods\n",
    "len(df2)"
   ]
  },
  {
   "cell_type": "code",
   "execution_count": null,
   "id": "d5b25e52-d2cd-4cb7-ae91-672bdf28596d",
   "metadata": {
    "scrolled": true,
    "tags": []
   },
   "outputs": [],
   "source": [
    "List1=list()\n",
    "List2=list()\n",
    "names = df3[\"Name\"]\n",
    "i=0\n",
    "for name1 in names:\n",
    "    print(i, \"  \",name1)\n",
    "    results = pcp.get_compounds(name1, 'name')\n",
    "    if results == []:\n",
    "        List1.append('None')\n",
    "        List2.append('None')\n",
    "    else:\n",
    "        print(results[0].isomeric_smiles, \" \", results[0].molecular_formula)\n",
    "        List1.append(results[0].isomeric_smiles)\n",
    "        List2.append(results[0].molecular_formula )\n",
    "    i=i+1\n",
    "    print(\"\")\n",
    "    \n",
    "data = {\n",
    "    \"Name\":names,\n",
    "    \"SMILES\":List1,\n",
    "    \"Formula\":List2\n",
    "    }\n",
    "\n",
    "tdf = pd.DataFrame(data)\n",
    "\n",
    "tdf.to_csv(\"SMILES_3.csv\")"
   ]
  },
  {
   "cell_type": "code",
   "execution_count": null,
   "id": "80d05459-cc0e-4a44-8371-3eef4943b0cb",
   "metadata": {},
   "outputs": [],
   "source": []
  },
  {
   "cell_type": "code",
   "execution_count": null,
   "id": "11f2d7f9-36cb-43dc-b97f-0e2e365328c9",
   "metadata": {
    "tags": []
   },
<<<<<<< Updated upstream
   "outputs": [
    {
     "name": "stdout",
     "output_type": "stream",
     "text": [
      "[1025.15, 4098.15, 4273.15, 4473.15, 4473.15, 1149.94, 1020.98, 888.92, 892.02, 895.25, 934.61, 944.4, 963.92, 1088.82, 1245.87, 1271.54, 1359.98, 1263.42, 1369.98, 1382.86, 878.93, 883.7, 886.16, 888.2, 888.2, 888.2, 888.2, 898.01, 903.66, 905.58, 921.88, 941.53, 941.53, 947.86, 960.99, 987.95, 994.86, 994.86, 1003.02, 1013.62, 1102.06, 1288.16, 1299.68, 1464.99, 1887.63, 875.4, 875.4, 875.44, 879.77, 879.77, 913.18, 964.95, 1005.5, 1056.15, 1056.15, 1783.45, 877.41, 877.44, 881.18, 881.74, 883.22, 883.22, 912.8, 930.77, 956.84, 959.06, 959.06, 986.22, 988.66, 991.92, 992.9, 1006.21, 1013.97, 1027.94, 1040.5, 1824.9, 904.06, 912.18, 912.8, 918.56, 926.02, 926.86, 967.45, 988.83, 1067.91, 2301.13, 894.67, 926.61, 926.61, 946.21, 981.99, 997.44, 1035.32, 1040.62, 1048.72, 1062.6, 1097.19, 1104.59, 1109.9, 1124.5, 1135.84, 903.8, 907.59, 1041.51, 1046.25, 1052.61, 1109.19, 1141.94, 1149.94, 1179.27, 1193.58, 1193.9, 1359.34, 879.0, 879.98, 890.69, 893.12, 894.8, 906.96, 912.36, 919.74, 923.6, 946.77, 1002.56, 1005.42, 1012.03, 1016.48, 1112.08, 1162.88, 1184.11, 1197.48, 1212.4, 1289.66, 1289.66, 1289.66, 1289.66, 1289.66, 1289.66, 1290.3, 1290.3, 1308.74, 1352.26, 1405.59, 1600.7]\n"
     ]
    }
   ],
=======
   "outputs": [],
>>>>>>> Stashed changes
   "source": [
    "import numpy as np\n",
    "import pandas as pd\n",
    "import pubchempy as pcp\n",
    "\n",
    "\n",
    "def remove_outliers(Excel_path, Excel_sheetname, Threshold=3):\n",
    "    df = pd.read_excel(Excel_path, sheet_name=Excel_sheetname)\n",
    "    data = df['Tb']\n",
    "    outliers = []\n",
    "    threshold=Threshold\n",
    "    mean = np.mean(data)\n",
    "    std =np.std(data)\n",
    "    \n",
    "    for i in data:\n",
    "        z_score = (i - mean)/std \n",
    "        if np.abs(z_score) > threshold:\n",
    "            outliers.append(i)\n",
    "    new_df = df[~df['Tb'].isin(outliers)]\n",
    "    print(outliers)\n",
    "    return new_df\n",
    "df = remove_outliers(\"Data.xlsx\", \"Load_AllDataSetC12\")"
   ]
  },
  {
   "cell_type": "code",
   "execution_count": null,
   "id": "58563c7e-27e1-4822-80e5-b8022e822358",
   "metadata": {
    "tags": []
   },
<<<<<<< Updated upstream
   "outputs": [
    {
     "data": {
      "text/html": [
       "<div>\n",
       "<style scoped>\n",
       "    .dataframe tbody tr th:only-of-type {\n",
       "        vertical-align: middle;\n",
       "    }\n",
       "\n",
       "    .dataframe tbody tr th {\n",
       "        vertical-align: top;\n",
       "    }\n",
       "\n",
       "    .dataframe thead th {\n",
       "        text-align: right;\n",
       "    }\n",
       "</style>\n",
       "<table border=\"1\" class=\"dataframe\">\n",
       "  <thead>\n",
       "    <tr style=\"text-align: right;\">\n",
       "      <th></th>\n",
       "      <th>Name</th>\n",
       "      <th>SMILES</th>\n",
       "      <th>Tb</th>\n",
       "      <th>C</th>\n",
       "    </tr>\n",
       "  </thead>\n",
       "  <tbody>\n",
       "    <tr>\n",
       "      <th>0</th>\n",
       "      <td>methane</td>\n",
       "      <td>C</td>\n",
       "      <td>111.65</td>\n",
       "      <td>1</td>\n",
       "    </tr>\n",
       "    <tr>\n",
       "      <th>1</th>\n",
       "      <td>ethane</td>\n",
       "      <td>CC</td>\n",
       "      <td>184.55</td>\n",
       "      <td>2</td>\n",
       "    </tr>\n",
       "    <tr>\n",
       "      <th>2</th>\n",
       "      <td>propane</td>\n",
       "      <td>CCC</td>\n",
       "      <td>231.05</td>\n",
       "      <td>3</td>\n",
       "    </tr>\n",
       "    <tr>\n",
       "      <th>3</th>\n",
       "      <td>Cyclopropane</td>\n",
       "      <td>C1CC1</td>\n",
       "      <td>240.35</td>\n",
       "      <td>3</td>\n",
       "    </tr>\n",
       "    <tr>\n",
       "      <th>4</th>\n",
       "      <td>2-Methylpropane</td>\n",
       "      <td>CC(C)C</td>\n",
       "      <td>261.45</td>\n",
       "      <td>4</td>\n",
       "    </tr>\n",
       "    <tr>\n",
       "      <th>...</th>\n",
       "      <td>...</td>\n",
       "      <td>...</td>\n",
       "      <td>...</td>\n",
       "      <td>...</td>\n",
       "    </tr>\n",
       "    <tr>\n",
       "      <th>14446</th>\n",
       "      <td>1,5-dimethyl-5-(3-oxocyclohexen-1-yl)-1,3-diaz...</td>\n",
       "      <td>CC1(C(=O)NC(=O)N(C1=O)C)C2=CC(=O)CCC2</td>\n",
       "      <td>850.31</td>\n",
       "      <td>12</td>\n",
       "    </tr>\n",
       "    <tr>\n",
       "      <th>14447</th>\n",
       "      <td>1-[2-[2-[2-(2-hydroxypropylamino)ethylamino]et...</td>\n",
       "      <td>CC(CNCCNCCNCCNCC(C)O)O</td>\n",
       "      <td>858.32</td>\n",
       "      <td>12</td>\n",
       "    </tr>\n",
       "    <tr>\n",
       "      <th>14448</th>\n",
       "      <td>(1R)-1-[(3aR,5R,6S,6aR)-6-hydroxyspiro[3a,5,6,...</td>\n",
       "      <td>C1CCC2(CC1)O[C@@H]3[C@H]([C@H](O[C@@H]3O2)[C@@...</td>\n",
       "      <td>859.31</td>\n",
       "      <td>12</td>\n",
       "    </tr>\n",
       "    <tr>\n",
       "      <th>14449</th>\n",
       "      <td>bis[2-(4,5-dihydro-1H-imidazol-2-yl)propan-2-y...</td>\n",
       "      <td>CC(C)(C1=NCCN1)N=NC(C)(C)C2=NCCN2</td>\n",
       "      <td>869.58</td>\n",
       "      <td>12</td>\n",
       "    </tr>\n",
       "    <tr>\n",
       "      <th>14450</th>\n",
       "      <td>1-[(3aR,4R,6R,6aR)-6-(hydroxymethyl)-2,2-dimet...</td>\n",
       "      <td>CC1(O[C@@H]2[C@H](O[C@H]([C@@H]2O1)N3C=CC(=O)N...</td>\n",
       "      <td>871.18</td>\n",
       "      <td>12</td>\n",
       "    </tr>\n",
       "  </tbody>\n",
       "</table>\n",
       "<p>14338 rows × 4 columns</p>\n",
       "</div>"
      ],
      "text/plain": [
       "                                                    Name  \\\n",
       "0                                                methane   \n",
       "1                                                 ethane   \n",
       "2                                                propane   \n",
       "3                                           Cyclopropane   \n",
       "4                                        2-Methylpropane   \n",
       "...                                                  ...   \n",
       "14446  1,5-dimethyl-5-(3-oxocyclohexen-1-yl)-1,3-diaz...   \n",
       "14447  1-[2-[2-[2-(2-hydroxypropylamino)ethylamino]et...   \n",
       "14448  (1R)-1-[(3aR,5R,6S,6aR)-6-hydroxyspiro[3a,5,6,...   \n",
       "14449  bis[2-(4,5-dihydro-1H-imidazol-2-yl)propan-2-y...   \n",
       "14450  1-[(3aR,4R,6R,6aR)-6-(hydroxymethyl)-2,2-dimet...   \n",
       "\n",
       "                                                  SMILES      Tb   C  \n",
       "0                                                      C  111.65   1  \n",
       "1                                                     CC  184.55   2  \n",
       "2                                                    CCC  231.05   3  \n",
       "3                                                  C1CC1  240.35   3  \n",
       "4                                                 CC(C)C  261.45   4  \n",
       "...                                                  ...     ...  ..  \n",
       "14446              CC1(C(=O)NC(=O)N(C1=O)C)C2=CC(=O)CCC2  850.31  12  \n",
       "14447                             CC(CNCCNCCNCCNCC(C)O)O  858.32  12  \n",
       "14448  C1CCC2(CC1)O[C@@H]3[C@H]([C@H](O[C@@H]3O2)[C@@...  859.31  12  \n",
       "14449                  CC(C)(C1=NCCN1)N=NC(C)(C)C2=NCCN2  869.58  12  \n",
       "14450  CC1(O[C@@H]2[C@H](O[C@H]([C@@H]2O1)N3C=CC(=O)N...  871.18  12  \n",
       "\n",
       "[14338 rows x 4 columns]"
      ]
     },
     "execution_count": 2,
     "metadata": {},
     "output_type": "execute_result"
    }
   ],
=======
   "outputs": [],
>>>>>>> Stashed changes
   "source": [
    "df"
   ]
  },
  {
   "cell_type": "code",
   "execution_count": null,
   "id": "9e05e3d4-1bc1-4534-9200-b4b2ddde2a10",
   "metadata": {
    "tags": []
   },
   "outputs": [],
   "source": [
    "import seaborn as sns\n",
    "sns.boxplot(x=df['Tb'])"
   ]
  },
  {
   "cell_type": "code",
<<<<<<< Updated upstream
   "execution_count": 5,
   "id": "b25efce0-66b0-4b4a-b519-18e3660b937f",
   "metadata": {
    "tags": []
   },
   "outputs": [
    {
     "data": {
      "text/plain": [
       "<Axes: xlabel='Tb'>"
      ]
     },
     "execution_count": 5,
     "metadata": {},
     "output_type": "execute_result"
    },
    {
     "data": {
      "image/png": "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",
      "text/plain": [
       "<Figure size 640x480 with 1 Axes>"
      ]
     },
     "metadata": {},
     "output_type": "display_data"
    }
   ],
   "source": [
    "import seaborn as sns\n",
    "sns.boxplot(x=df2['Tb'])"
   ]
  },
  {
   "cell_type": "code",
   "execution_count": 3,
=======
   "execution_count": null,
>>>>>>> Stashed changes
   "id": "1f7c279e-cac6-4036-93e3-14fdb12e9fcf",
   "metadata": {
    "tags": []
   },
   "outputs": [],
   "source": [
    "df2 = remove_outliers(\"Data.xlsx\", \"From_8DB_Chemicals\", 3)"
   ]
  },
  {
   "cell_type": "code",
<<<<<<< Updated upstream
   "execution_count": 4,
=======
   "execution_count": null,
>>>>>>> Stashed changes
   "id": "46c532ff-a53e-4262-bdbd-09feccbfdc30",
   "metadata": {
    "tags": []
   },
<<<<<<< Updated upstream
   "outputs": [
    {
     "data": {
      "text/html": [
       "<div>\n",
       "<style scoped>\n",
       "    .dataframe tbody tr th:only-of-type {\n",
       "        vertical-align: middle;\n",
       "    }\n",
       "\n",
       "    .dataframe tbody tr th {\n",
       "        vertical-align: top;\n",
       "    }\n",
       "\n",
       "    .dataframe thead th {\n",
       "        text-align: right;\n",
       "    }\n",
       "</style>\n",
       "<table border=\"1\" class=\"dataframe\">\n",
       "  <thead>\n",
       "    <tr style=\"text-align: right;\">\n",
       "      <th></th>\n",
       "      <th>CAS</th>\n",
       "      <th>NAME</th>\n",
       "      <th>SMILES</th>\n",
       "      <th>C String</th>\n",
       "      <th>Tb</th>\n",
       "      <th>C Atom</th>\n",
       "    </tr>\n",
       "  </thead>\n",
       "  <tbody>\n",
       "    <tr>\n",
       "      <th>2</th>\n",
       "      <td>14168-44-6</td>\n",
       "      <td>N-(nitramidomethyl)nitramide</td>\n",
       "      <td>C(N[N+](=O)[O-])N[N+](=O)[O-]</td>\n",
       "      <td>C</td>\n",
       "      <td>264.15</td>\n",
       "      <td>1</td>\n",
       "    </tr>\n",
       "    <tr>\n",
       "      <th>3</th>\n",
       "      <td>865-40-7</td>\n",
       "      <td>nitrosomethane</td>\n",
       "      <td>CN=O</td>\n",
       "      <td>C</td>\n",
       "      <td>285.88</td>\n",
       "      <td>1</td>\n",
       "    </tr>\n",
       "    <tr>\n",
       "      <th>4</th>\n",
       "      <td>157-26-6</td>\n",
       "      <td>dioxirane</td>\n",
       "      <td>C1OO1</td>\n",
       "      <td>C</td>\n",
       "      <td>287.79</td>\n",
       "      <td>1</td>\n",
       "    </tr>\n",
       "    <tr>\n",
       "      <th>5</th>\n",
       "      <td>2053-29-4</td>\n",
       "      <td>methanimine</td>\n",
       "      <td>C=N</td>\n",
       "      <td>C</td>\n",
       "      <td>299.46</td>\n",
       "      <td>1</td>\n",
       "    </tr>\n",
       "    <tr>\n",
       "      <th>6</th>\n",
       "      <td>661-20-1</td>\n",
       "      <td>isocyanate</td>\n",
       "      <td>C(=[N-])=O</td>\n",
       "      <td>C</td>\n",
       "      <td>313.36</td>\n",
       "      <td>1</td>\n",
       "    </tr>\n",
       "    <tr>\n",
       "      <th>...</th>\n",
       "      <td>...</td>\n",
       "      <td>...</td>\n",
       "      <td>...</td>\n",
       "      <td>...</td>\n",
       "      <td>...</td>\n",
       "      <td>...</td>\n",
       "    </tr>\n",
       "    <tr>\n",
       "      <th>11045</th>\n",
       "      <td>78-18-2</td>\n",
       "      <td>1-(1-hydroperoxycyclohexyl)peroxycyclohexan-1-ol</td>\n",
       "      <td>C1CCC(CC1)(O)OOC2(CCCCC2)OO</td>\n",
       "      <td>CCCCCCCCCCCC</td>\n",
       "      <td>765.36</td>\n",
       "      <td>12</td>\n",
       "    </tr>\n",
       "    <tr>\n",
       "      <th>11046</th>\n",
       "      <td>6402-36-4</td>\n",
       "      <td>(E)-dodec-2-enedioic acid</td>\n",
       "      <td>C(CCCCC(=O)O)CCC/C=C/C(=O)O</td>\n",
       "      <td>CCCCCCCCCCCC</td>\n",
       "      <td>769.34</td>\n",
       "      <td>12</td>\n",
       "    </tr>\n",
       "    <tr>\n",
       "      <th>11047</th>\n",
       "      <td>62563-15-9</td>\n",
       "      <td>dibutyl (2S,3S)-2,3-dihydroxybutanedioate</td>\n",
       "      <td>CCCCOC(=O)[C@H]([C@@H](C(=O)OCCCC)O)O</td>\n",
       "      <td>CCCCCCCCCCCC</td>\n",
       "      <td>774.08</td>\n",
       "      <td>12</td>\n",
       "    </tr>\n",
       "    <tr>\n",
       "      <th>11048</th>\n",
       "      <td>66280-55-5</td>\n",
       "      <td>dodecanediperoxoic acid</td>\n",
       "      <td>C(CCCCCC(=O)OO)CCCCC(=O)OO</td>\n",
       "      <td>CCCCCCCCCCCC</td>\n",
       "      <td>774.96</td>\n",
       "      <td>12</td>\n",
       "    </tr>\n",
       "    <tr>\n",
       "      <th>11049</th>\n",
       "      <td>87324-44-5</td>\n",
       "      <td>tricyclo[5.2.1.02,6]decane-4,8-dicarboxylic acid</td>\n",
       "      <td>C1C2CC(C1C3C2CC(C3)C(=O)O)C(=O)O</td>\n",
       "      <td>CCCCCCCCCCCC</td>\n",
       "      <td>775.66</td>\n",
       "      <td>12</td>\n",
       "    </tr>\n",
       "  </tbody>\n",
       "</table>\n",
       "<p>10806 rows × 6 columns</p>\n",
       "</div>"
      ],
      "text/plain": [
       "              CAS                                              NAME  \\\n",
       "2      14168-44-6                      N-(nitramidomethyl)nitramide   \n",
       "3        865-40-7                                    nitrosomethane   \n",
       "4        157-26-6                                         dioxirane   \n",
       "5       2053-29-4                                       methanimine   \n",
       "6        661-20-1                                        isocyanate   \n",
       "...           ...                                               ...   \n",
       "11045     78-18-2  1-(1-hydroperoxycyclohexyl)peroxycyclohexan-1-ol   \n",
       "11046   6402-36-4                         (E)-dodec-2-enedioic acid   \n",
       "11047  62563-15-9         dibutyl (2S,3S)-2,3-dihydroxybutanedioate   \n",
       "11048  66280-55-5                           dodecanediperoxoic acid   \n",
       "11049  87324-44-5  tricyclo[5.2.1.02,6]decane-4,8-dicarboxylic acid   \n",
       "\n",
       "                                      SMILES      C String      Tb  C Atom  \n",
       "2              C(N[N+](=O)[O-])N[N+](=O)[O-]             C  264.15       1  \n",
       "3                                       CN=O             C  285.88       1  \n",
       "4                                      C1OO1             C  287.79       1  \n",
       "5                                        C=N             C  299.46       1  \n",
       "6                                 C(=[N-])=O             C  313.36       1  \n",
       "...                                      ...           ...     ...     ...  \n",
       "11045            C1CCC(CC1)(O)OOC2(CCCCC2)OO  CCCCCCCCCCCC  765.36      12  \n",
       "11046            C(CCCCC(=O)O)CCC/C=C/C(=O)O  CCCCCCCCCCCC  769.34      12  \n",
       "11047  CCCCOC(=O)[C@H]([C@@H](C(=O)OCCCC)O)O  CCCCCCCCCCCC  774.08      12  \n",
       "11048             C(CCCCCC(=O)OO)CCCCC(=O)OO  CCCCCCCCCCCC  774.96      12  \n",
       "11049       C1C2CC(C1C3C2CC(C3)C(=O)O)C(=O)O  CCCCCCCCCCCC  775.66      12  \n",
       "\n",
       "[10806 rows x 6 columns]"
      ]
     },
     "execution_count": 4,
     "metadata": {},
     "output_type": "execute_result"
    }
   ],
=======
   "outputs": [],
>>>>>>> Stashed changes
   "source": [
    "df2"
   ]
  },
  {
   "cell_type": "code",
   "execution_count": null,
   "id": "1111d1f1-01ef-48e1-81b8-108346c95ec8",
   "metadata": {},
   "outputs": [],
   "source": [
    "pcp.get_compounds(\"50-00-0\",\"name\")"
   ]
  },
  {
   "cell_type": "code",
   "execution_count": null,
   "id": "0f9c8e55-9eff-43bc-b67a-51dfc80d67b5",
   "metadata": {
    "scrolled": true,
    "tags": []
   },
   "outputs": [],
   "source": [
    "List1=list()\n",
    "List2=list()\n",
    "names = df3[\"Name\"]\n",
    "i=0\n",
    "CAS_search\n",
    "for name1 in CAS_search:\n",
    "    print(i, \"  \",name1)\n",
    "    results = pcp.get_compounds(name1, 'name')\n",
    "    if results == []:\n",
    "        List1.append('None')\n",
    "        List2.append('None')\n",
    "    else:\n",
    "        print(results[0].isomeric_smiles, \" \", results[0].molecular_formula)\n",
    "        List1.append(results[0].isomeric_smiles)\n",
    "        List2.append(results[0].molecular_formula )\n",
    "    i=i+1\n",
    "    print(\"\")\n",
    "    \n",
    "data = {\n",
    "    \"Name\":names,\n",
    "    \"SMILES\":List1,\n",
    "    \"Formula\":List2\n",
    "    }\n",
    "\n",
    "tdf = pd.DataFrame(data)\n",
    "\n",
    "tdf.to_csv(\"SMILES_3.csv\")"
   ]
  },
  {
   "cell_type": "code",
   "execution_count": null,
   "id": "fba45b0f-39d2-4945-82aa-42a065587ed1",
   "metadata": {},
   "outputs": [],
   "source": []
  },
  {
   "cell_type": "code",
   "execution_count": null,
   "id": "5a8b5b54-d095-464b-838a-3a93d3b50436",
   "metadata": {},
   "outputs": [],
   "source": []
  },
  {
   "cell_type": "code",
   "execution_count": null,
   "id": "e8f9ecb1-edf3-4608-86ba-72e959d97e19",
   "metadata": {
    "tags": []
   },
   "outputs": [],
   "source": []
  },
  {
   "cell_type": "code",
   "execution_count": null,
   "id": "1560684f-60da-4185-8915-d6b533a06b6d",
   "metadata": {
    "tags": []
   },
   "outputs": [],
   "source": []
  },
  {
   "cell_type": "code",
   "execution_count": null,
   "id": "b98d9b83-f012-477b-81d6-e3675886ccc7",
   "metadata": {
    "tags": []
   },
   "outputs": [],
   "source": []
  },
  {
   "cell_type": "code",
   "execution_count": null,
   "id": "feac4c11-fec5-4c9c-aedb-7d087edcf146",
   "metadata": {
    "tags": []
   },
   "outputs": [],
   "source": [
    "import numpy as np\n",
    "import pandas as pd\n",
    "import pubchempy as pcp\n",
    "\n",
    "from chemicals.data_reader import (\n",
    "    data_source,\n",
    "    database_constant_lookup,\n",
    "    list_available_methods_from_df_dict,\n",
    "    register_df_source,\n",
    "    retrieve_any_from_df_dict,\n",
    "    retrieve_from_df_dict,\n",
    ")\n",
    "import chemicals.phase_change\n",
    "Tb_data_Yaws = data_source('Yaws Boiling Points.tsv')\n",
    "\n",
    "Tb_sources_new = {\n",
    "        miscdata.HEOS: miscdata.heos_data,\n",
    "        CRC_ORG: miscdata.CRC_organic_data,\n",
    "        CRC_INORG: miscdata.CRC_inorganic_data,\n",
    "        miscdata.COMMON_CHEMISTRY: miscdata.common_chemistry_data,\n",
    "        miscdata.WEBBOOK: miscdata.webbook_data,\n",
    "        YAWS: Tb_data_Yaws,\n",
    "        miscdata.WIKIDATA: miscdata.wikidata_data,\n",
    "        miscdata.JOBACK: miscdata.joback_predictions,\n",
    "    }\n",
    "\n",
    "CRC_ORG = 'CRC_ORG'\n",
    "CRC_INORG = 'CRC_INORG'\n",
    "YAWS = 'YAWS'\n",
    "OPEN_NTBKM = 'OPEN_NTBKM'\n",
    "CRC = 'CRC'\n",
    "\n",
    "\n",
    "df_new=Tb_sources_new\n",
    "cas_arr = []\n",
    "df1 = []\n",
    "for dict_df in df_new:\n",
    "    \n",
    "    print(Tb_sources_new[dict_df])\n",
    "          #[[\"Tb\"]])\n",
    "        \n",
    "        \n"
   ]
  },
  {
   "cell_type": "code",
   "execution_count": null,
   "id": "5840d36b-d686-411b-8e46-30dba18eff1f",
   "metadata": {
    "tags": []
   },
   "outputs": [],
   "source": [
    "#Tb_sources_new[\"WEBBOOK\"][[\"Tm\",\"Tb\"]].dropna()\n",
    "Tb_sources_new[\"JOBACK\"]"
   ]
  },
  {
   "cell_type": "code",
   "execution_count": null,
   "id": "4aeb3b17-26a3-4266-98ac-4ccd0b96f573",
   "metadata": {
    "tags": []
   },
   "outputs": [],
   "source": [
    "for dict_df in df_new:\n",
    "    print(dict_df)"
   ]
  },
  {
   "cell_type": "code",
   "execution_count": null,
   "id": "b00f9f5a-f616-4145-b093-b0577cdb2b1d",
   "metadata": {
    "tags": []
   },
   "outputs": [],
   "source": [
    "\"\"\"\n",
    "HEOS                  K\n",
    "CRC_ORG               K\n",
    "CRC_INORG             K\n",
    "COMMON_CHEMISTRY      K\n",
    "WEBBOOK               K  (strange)\n",
    "YAWS                  K\n",
    "WIKIDATA              K\n",
    "JOBACK                K\n",
    "\n",
    "\n",
    "\"\"\""
   ]
  },
  {
   "cell_type": "code",
   "execution_count": null,
   "id": "e95b6385-3f97-4ff1-864e-930002fbfede",
   "metadata": {},
   "outputs": [],
   "source": []
  }
 ],
 "metadata": {
  "kernelspec": {
   "display_name": "Python 3 (ipykernel)",
   "language": "python",
   "name": "python3"
  },
  "language_info": {
   "codemirror_mode": {
    "name": "ipython",
    "version": 3
   },
   "file_extension": ".py",
   "mimetype": "text/x-python",
   "name": "python",
   "nbconvert_exporter": "python",
   "pygments_lexer": "ipython3",
   "version": "3.11.4"
  }
 },
 "nbformat": 4,
 "nbformat_minor": 5
}
